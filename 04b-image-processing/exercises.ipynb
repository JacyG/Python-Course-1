{
 "cells": [
  {
   "cell_type": "markdown",
   "metadata": {},
   "source": [
    "# Exercises\n",
    "\n",
    "The solutions are hidden in the markdown cells. But try it yourself before looking at them!"
   ]
  },
  {
   "cell_type": "markdown",
   "metadata": {},
   "source": [
    "## Show the image in skimage.data.chelsea\n",
    "\n",
    "solution:\n",
    "\n",
    "<!---\n",
    "import pylab as pl\n",
    "%matplotlib inline\n",
    "import numpy as np\n",
    "import skimage\n",
    "from skimage import data\n",
    "\n",
    "image = data.chelsea()\n",
    "pl.imshow(image)\n",
    "-->"
   ]
  },
  {
   "cell_type": "code",
   "execution_count": null,
   "metadata": {
    "collapsed": false
   },
   "outputs": [],
   "source": []
  },
  {
   "cell_type": "markdown",
   "metadata": {},
   "source": [
    "## Plot the histograms of the red, green, and blue values.\n",
    "\n",
    "solution:\n",
    "\n",
    "<!---\n",
    "hist_r, bins_r = np.histogram(image[:,:,0],bins=np.linspace(0,255,255))\n",
    "hist_g, bins_g = np.histogram(image[:,:,1],bins=np.linspace(0,255,255))\n",
    "hist_b, bins_b = np.histogram(image[:,:,2],bins=np.linspace(0,255,255))\n",
    "pl.plot(hist_r,'r')\n",
    "pl.plot(hist_g,'g')\n",
    "pl.plot(hist_b,'b')\n",
    "-->"
   ]
  },
  {
   "cell_type": "code",
   "execution_count": null,
   "metadata": {
    "collapsed": true
   },
   "outputs": [],
   "source": []
  },
  {
   "cell_type": "markdown",
   "metadata": {},
   "source": [
    "## Apply a gaussian filter on the image (skimage.filters.gaussian_filter)\n",
    "\n",
    "solution:\n",
    "<!---\n",
    "from skimage import filters\n",
    "image2 = filters.gaussian_filter(image, 10)\n",
    "pl.imshow(image2)\n",
    "-->"
   ]
  },
  {
   "cell_type": "code",
   "execution_count": null,
   "metadata": {
    "collapsed": true
   },
   "outputs": [],
   "source": []
  },
  {
   "cell_type": "markdown",
   "metadata": {},
   "source": [
    "## Detect the edges usind the sobel edge-detection (skimage.filters.sobel)\n",
    "\n",
    "solution:\n",
    "<!---\n",
    "edges = filters.sobel(skimage.color.rgb2gray(image))\n",
    "pl.imshow(edges,cmap=pl.cm.gray)\n",
    "-->"
   ]
  },
  {
   "cell_type": "code",
   "execution_count": null,
   "metadata": {
    "collapsed": true
   },
   "outputs": [],
   "source": []
  },
  {
   "cell_type": "code",
   "execution_count": null,
   "metadata": {
    "collapsed": true
   },
   "outputs": [],
   "source": []
  }
 ],
 "metadata": {
  "kernelspec": {
   "display_name": "Python 3",
   "language": "python",
   "name": "python3"
  },
  "language_info": {
   "codemirror_mode": {
    "name": "ipython",
    "version": 3
   },
   "file_extension": ".py",
   "mimetype": "text/x-python",
   "name": "python",
   "nbconvert_exporter": "python",
   "pygments_lexer": "ipython3",
   "version": "3.4.3"
  }
 },
 "nbformat": 4,
 "nbformat_minor": 0
}
