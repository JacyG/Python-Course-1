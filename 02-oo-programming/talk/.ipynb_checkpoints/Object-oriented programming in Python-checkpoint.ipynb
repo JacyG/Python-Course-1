{
 "metadata": {
  "name": "",
  "signature": "sha256:57d193a64836351eececbe414240373d231a27ec622ef688e5cc9c60cb07d127"
 },
 "nbformat": 3,
 "nbformat_minor": 0,
 "worksheets": [
  {
   "cells": [
    {
     "cell_type": "heading",
     "level": 1,
     "metadata": {
      "slideshow": {
       "slide_type": "slide"
      }
     },
     "source": [
      "Object-oriented programming in Python"
     ]
    },
    {
     "cell_type": "heading",
     "level": 2,
     "metadata": {
      "slideshow": {
       "slide_type": "slide"
      }
     },
     "source": [
      "0. Motivation for object-oriented approach"
     ]
    },
    {
     "cell_type": "heading",
     "level": 3,
     "metadata": {
      "slideshow": {
       "slide_type": "slide"
      }
     },
     "source": [
      "0.1 Combining data and functions"
     ]
    },
    {
     "cell_type": "code",
     "collapsed": false,
     "input": [
      "student1_name = 'Bob'\n",
      "student2_name = 'Sarah'\n",
      "\n",
      "student1_age = 25\n",
      "student2_age = 26"
     ],
     "language": "python",
     "metadata": {
      "slideshow": {
       "slide_type": "slide"
      }
     },
     "outputs": [],
     "prompt_number": 4
    },
    {
     "cell_type": "code",
     "collapsed": false,
     "input": [
      "def printStudent(name,age):\n",
      "    print('%s is %d years old' % (name, age))"
     ],
     "language": "python",
     "metadata": {
      "slideshow": {
       "slide_type": "slide"
      }
     },
     "outputs": [],
     "prompt_number": 5
    },
    {
     "cell_type": "code",
     "collapsed": false,
     "input": [
      "printStudent(student1_name, student1_age)\n",
      "printStudent(student2_name, student2_age)"
     ],
     "language": "python",
     "metadata": {
      "slideshow": {
       "slide_type": "slide"
      }
     },
     "outputs": [
      {
       "output_type": "stream",
       "stream": "stdout",
       "text": [
        "Bob is 25 years old\n",
        "Sarah is 26 years old\n"
       ]
      }
     ],
     "prompt_number": 6
    },
    {
     "cell_type": "markdown",
     "metadata": {
      "slideshow": {
       "slide_type": "slide"
      }
     },
     "source": [
      "Adding more students becomes more and more cumbersome. One way out: using arrays:"
     ]
    },
    {
     "cell_type": "code",
     "collapsed": false,
     "input": [
      "name = ['Bob', 'Sarah', 'Joe']\n",
      "age  = [25, 26, 27]"
     ],
     "language": "python",
     "metadata": {
      "slideshow": {
       "slide_type": "slide"
      }
     },
     "outputs": [],
     "prompt_number": 7
    },
    {
     "cell_type": "code",
     "collapsed": false,
     "input": [
      "def printAllStudents():\n",
      "    for i in range(len(name)):\n",
      "        printStudent(name[i], age[i])"
     ],
     "language": "python",
     "metadata": {},
     "outputs": [],
     "prompt_number": 8
    },
    {
     "cell_type": "code",
     "collapsed": false,
     "input": [
      "printAllStudents()"
     ],
     "language": "python",
     "metadata": {},
     "outputs": [
      {
       "output_type": "stream",
       "stream": "stdout",
       "text": [
        "Bob is 25 years old\n",
        "Sarah is 26 years old\n",
        "Joe is 27 years old\n"
       ]
      }
     ],
     "prompt_number": 9
    },
    {
     "cell_type": "markdown",
     "metadata": {},
     "source": [
      "Still a big annoying: adding more attributes to a student requires a change of printStudent and printAllStudents"
     ]
    },
    {
     "cell_type": "code",
     "collapsed": false,
     "input": [
      "program = ['Physics', 'Politics', 'Sociology']"
     ],
     "language": "python",
     "metadata": {},
     "outputs": []
    },
    {
     "cell_type": "code",
     "collapsed": false,
     "input": [
      "def printStudent2(name, age, program):\n",
      "    print('%s is %u years old' % (name, age, program))\n",
      "\n",
      "def printAllStudents2():\n",
      "    for i in range(len(name)):\n",
      "        printStudent(name[i], age[i], program[i])"
     ],
     "language": "python",
     "metadata": {},
     "outputs": []
    },
    {
     "cell_type": "markdown",
     "metadata": {},
     "source": [
      "What we need is a way to combine data and functions -> Classes"
     ]
    },
    {
     "cell_type": "markdown",
     "metadata": {},
     "source": [
      "**Another example** <p>\n",
      "Python already provides certain types, like int,float,list,dict,... But some others, which also seem fundamental, are missing. For example, there is no vector type. (Of course, one can abuse a list, but adding two lists is not the same as a vector addition.) Is there a possibility to create your own type which behaves in a definable way?"
     ]
    },
    {
     "cell_type": "heading",
     "level": 3,
     "metadata": {},
     "source": [
      "0.2 Privacy"
     ]
    },
    {
     "cell_type": "code",
     "collapsed": false,
     "input": [
      "grade = [1, 2, 6]"
     ],
     "language": "python",
     "metadata": {},
     "outputs": [],
     "prompt_number": 12
    },
    {
     "cell_type": "code",
     "collapsed": false,
     "input": [
      "def iDontLikeMyGrade(studentID):\n",
      "    grade[studentID] = 1"
     ],
     "language": "python",
     "metadata": {},
     "outputs": [],
     "prompt_number": 13
    },
    {
     "cell_type": "code",
     "collapsed": false,
     "input": [
      "iDontLikeMyGrade(2)\n",
      "print grade"
     ],
     "language": "python",
     "metadata": {},
     "outputs": [
      {
       "output_type": "stream",
       "stream": "stdout",
       "text": [
        "[1, 2, 1]\n"
       ]
      }
     ],
     "prompt_number": 14
    },
    {
     "cell_type": "markdown",
     "metadata": {},
     "source": [
      "Is there a way to prevent this?"
     ]
    },
    {
     "cell_type": "heading",
     "level": 3,
     "metadata": {},
     "source": [
      "0.3 Inheritance"
     ]
    },
    {
     "cell_type": "markdown",
     "metadata": {},
     "source": [
      "**Example**:\n",
      "Let's say we have some code ('objects') to represent students. \n",
      "\n",
      "All students have some properties: name, age, institution etc. \n",
      "However, Graduate students have some specific properties other don't: Graduate school, Thesis committe etc. \n",
      "\n",
      "\n",
      "Likewise, undergraduate students have: semester exams, lectures etc. \n",
      "\n",
      "\n",
      "\n",
      "Is there a way to model situations like this where you want to reuse code\n",
      "to add some features to an existing  object? "
     ]
    },
    {
     "cell_type": "heading",
     "level": 2,
     "metadata": {},
     "source": [
      "1. Classes"
     ]
    },
    {
     "cell_type": "markdown",
     "metadata": {},
     "source": [
      "Blueprint for a student"
     ]
    },
    {
     "cell_type": "code",
     "collapsed": false,
     "input": [
      "class Student:\n",
      "    \"\"\"This is the blueprint for a student\"\"\" # docstring\n",
      "    \n",
      "    # NOTE: 'self' has to be stated explicitely\n",
      "    # 'self' is like 'this' in C++/Java\n",
      "    def hi(self):\n",
      "        print(\"hi\")\n",
      "\n",
      "    # a method\n",
      "    # NOTE again: the first argument of a method must be 'self'\n",
      "    # In principle you could call it differently but 'self' is convention\n",
      "    def get_age(self):\n",
      "        return self.age\n",
      "\n",
      "    def set_age(self, newage):\n",
      "        self.age = newage\n",
      "\n",
      "    # constructor\n",
      "    def __init__(self,n,a):\n",
      "        \n",
      "        # attributes are defined simply by using them\n",
      "        self.name = n\n",
      "        self.age = a\n",
      "\n",
      "        print('Hi, I am student %s. Thanks for creating me.' % self.name)"
     ],
     "language": "python",
     "metadata": {},
     "outputs": [],
     "prompt_number": 2
    },
    {
     "cell_type": "markdown",
     "metadata": {},
     "source": [
      "Now that we have a blueprint for a student, let's instantiate one:"
     ]
    },
    {
     "cell_type": "code",
     "collapsed": false,
     "input": [
      "bob = Student('Bob',25)"
     ],
     "language": "python",
     "metadata": {},
     "outputs": [
      {
       "output_type": "stream",
       "stream": "stdout",
       "text": [
        "Hi, I am student Bob. Thanks for creating me.\n"
       ]
      }
     ],
     "prompt_number": 3
    },
    {
     "cell_type": "markdown",
     "metadata": {},
     "source": [
      "Accessing an attribute:"
     ]
    },
    {
     "cell_type": "code",
     "collapsed": false,
     "input": [
      "print('Age of Bob:', bob.age)"
     ],
     "language": "python",
     "metadata": {},
     "outputs": [
      {
       "output_type": "stream",
       "stream": "stdout",
       "text": [
        "Age of Bob: 25\n"
       ]
      }
     ],
     "prompt_number": 4
    },
    {
     "cell_type": "markdown",
     "metadata": {},
     "source": [
      "Calling a method:"
     ]
    },
    {
     "cell_type": "code",
     "collapsed": false,
     "input": [
      "print(\"It's Bob's birthday today\")\n",
      "bob.set_age(26)"
     ],
     "language": "python",
     "metadata": {},
     "outputs": [
      {
       "output_type": "stream",
       "stream": "stdout",
       "text": [
        "It's Bob's birthday today\n"
       ]
      }
     ],
     "prompt_number": 5
    },
    {
     "cell_type": "heading",
     "level": 2,
     "metadata": {},
     "source": [
      "2. Private attributes and methods - encapsulation"
     ]
    },
    {
     "cell_type": "code",
     "collapsed": false,
     "input": [
      "from datetime import datetime"
     ],
     "language": "python",
     "metadata": {},
     "outputs": [],
     "prompt_number": 6
    },
    {
     "cell_type": "code",
     "collapsed": false,
     "input": [
      "class Student:\n",
      "    \"\"\"This is the blueprint for a student\"\"\"\n",
      "    \n",
      "    def __init__(self,n,a): \n",
      "        # The name of the student should not be changed after instanciation\n",
      "        # therefore make it 'private' by adding '__' to name\n",
      "        self.__name = n\n",
      "        # Likewise for age\n",
      "        self.__birthyear = datetime.now().year - a\n",
      "\n",
      "        print('Hi, I am student %s. Thanks for creating me.' % self.__name)\n",
      "    \n",
      "        # NOTE: Real privacy doesn't exist in python\n",
      "        # if 'bob' is an instance of Student '__name' can be accessed from\n",
      "        # outside writing\n",
      "        # >>> bob._Student__name \n",
      " \n",
      "    # a method\n",
      "    # NOTE again: the first argument of a method must be 'self'\n",
      "    # In principle you could call it diffenetly but 'self' is convention\n",
      "    def get_age(self):\n",
      "        return datetime.now().year - self.__birthyear\n",
      "\n",
      "    # a special method, intended for 'pretty print' of the object\n",
      "    # cf below for more special methods\n",
      "    def __str__(self):\n",
      "        return 'I am student %s and am %u years old.' % (self.__name, self.get_age())"
     ],
     "language": "python",
     "metadata": {},
     "outputs": [],
     "prompt_number": 7
    },
    {
     "cell_type": "markdown",
     "metadata": {},
     "source": [
      "Now we execute the same code as above:\n"
     ]
    },
    {
     "cell_type": "code",
     "collapsed": false,
     "input": [
      "bob = Student('Bob', 25)\n",
      "bob.__name"
     ],
     "language": "python",
     "metadata": {},
     "outputs": [
      {
       "ename": "AttributeError",
       "evalue": "'Student' object has no attribute '__name'",
       "output_type": "pyerr",
       "traceback": [
        "\u001b[0;31m---------------------------------------------------------------------------\u001b[0m\n\u001b[0;31mAttributeError\u001b[0m                            Traceback (most recent call last)",
        "\u001b[0;32m<ipython-input-8-2672cdcaeaab>\u001b[0m in \u001b[0;36m<module>\u001b[0;34m()\u001b[0m\n\u001b[1;32m      1\u001b[0m \u001b[0mbob\u001b[0m \u001b[0;34m=\u001b[0m \u001b[0mStudent\u001b[0m\u001b[0;34m(\u001b[0m\u001b[0;34m'Bob'\u001b[0m\u001b[0;34m,\u001b[0m \u001b[0;36m25\u001b[0m\u001b[0;34m)\u001b[0m\u001b[0;34m\u001b[0m\u001b[0m\n\u001b[0;32m----> 2\u001b[0;31m \u001b[0mbob\u001b[0m\u001b[0;34m.\u001b[0m\u001b[0m__name\u001b[0m\u001b[0;34m\u001b[0m\u001b[0m\n\u001b[0m",
        "\u001b[0;31mAttributeError\u001b[0m: 'Student' object has no attribute '__name'"
       ]
      },
      {
       "output_type": "stream",
       "stream": "stdout",
       "text": [
        "Hi, I am student Bob. Thanks for creating me.\n"
       ]
      }
     ],
     "prompt_number": 8
    },
    {
     "cell_type": "markdown",
     "metadata": {},
     "source": [
      "N.B.: the following won't work any more because we changed the implementation"
     ]
    },
    {
     "cell_type": "code",
     "collapsed": false,
     "input": [
      "print 'Age of Bob:', bob.age"
     ],
     "language": "python",
     "metadata": {},
     "outputs": [
      {
       "ename": "AttributeError",
       "evalue": "Student instance has no attribute 'age'",
       "output_type": "pyerr",
       "traceback": [
        "\u001b[1;31m---------------------------------------------------------------------------\u001b[0m\n\u001b[1;31mAttributeError\u001b[0m                            Traceback (most recent call last)",
        "\u001b[1;32m<ipython-input-27-9ae676b20538>\u001b[0m in \u001b[0;36m<module>\u001b[1;34m()\u001b[0m\n\u001b[1;32m----> 1\u001b[1;33m \u001b[1;32mprint\u001b[0m \u001b[1;34m'Age of Bob:'\u001b[0m\u001b[1;33m,\u001b[0m \u001b[0mbob\u001b[0m\u001b[1;33m.\u001b[0m\u001b[0mage\u001b[0m\u001b[1;33m\u001b[0m\u001b[0m\n\u001b[0m",
        "\u001b[1;31mAttributeError\u001b[0m: Student instance has no attribute 'age'"
       ]
      },
      {
       "output_type": "stream",
       "stream": "stdout",
       "text": [
        "Age of Bob:"
       ]
      }
     ],
     "prompt_number": 27
    },
    {
     "cell_type": "markdown",
     "metadata": {},
     "source": [
      "Hence: it's generally a good idea to hide (make private) the internal \n",
      "details of the implementation and provide access to the Class's functionality\n",
      "only through a defined interface"
     ]
    },
    {
     "cell_type": "markdown",
     "metadata": {},
     "source": [
      "This still works:"
     ]
    },
    {
     "cell_type": "code",
     "collapsed": false,
     "input": [
      "print('Age of Bob:', bob.get_age())"
     ],
     "language": "python",
     "metadata": {},
     "outputs": [
      {
       "output_type": "stream",
       "stream": "stdout",
       "text": [
        "Age of Bob: 25\n"
       ]
      }
     ],
     "prompt_number": 9
    },
    {
     "cell_type": "markdown",
     "metadata": {},
     "source": [
      "By the way, accessing special method \\__str__"
     ]
    },
    {
     "cell_type": "code",
     "collapsed": false,
     "input": [
      "print(bob)\n",
      "print(str(bob))\n",
      "print(bob.__str__())"
     ],
     "language": "python",
     "metadata": {},
     "outputs": [
      {
       "output_type": "stream",
       "stream": "stdout",
       "text": [
        "I am student Bob and am 25 years old.\n",
        "I am student Bob and am 25 years old.\n",
        "I am student Bob and am 25 years old.\n"
       ]
      }
     ],
     "prompt_number": 11
    },
    {
     "cell_type": "markdown",
     "metadata": {},
     "source": [
      "Note also: No need to free memory, Python has automatic garbage collection and will free an instance once it's not referenced any more.\n",
      "\n",
      "Hence: usually no need for destructor"
     ]
    },
    {
     "cell_type": "heading",
     "level": 2,
     "metadata": {},
     "source": [
      "3. Inheritance "
     ]
    },
    {
     "cell_type": "code",
     "collapsed": false,
     "input": [
      "class PhDStudent(Student):\n",
      "    \"\"\"A class representing a PhD student\"\"\"\n",
      "\n",
      "    def __init__(self, n, a, gradschool):\n",
      "        # Call parent class constructor\n",
      "        Student.__init__(self, n, a)\n",
      "        # Note: 'self.__init__(n,a)' not possible\n",
      "\n",
      "        # adding a new attribute specific for a PhD student\n",
      "        self.graduateSchool = gradschool\n",
      "\n",
      "    # A new method\n",
      "    def teach(self):\n",
      "        print('blablabla...')\n",
      "\n",
      "    # Override a method\n",
      "    def __str__(self):\n",
      "        return \"I am Phd student %s and am %u years old. I am enrolled in the graduate school %s\" \\\n",
      "            % (self._Student__name, self.get_age(), self.graduateSchool)\n"
     ],
     "language": "python",
     "metadata": {},
     "outputs": [],
     "prompt_number": 12
    },
    {
     "cell_type": "code",
     "collapsed": false,
     "input": [
      "sarah = PhDStudent('Sarah', 26, 'GGNB')\n",
      "print(sarah)\n",
      "print(bob)"
     ],
     "language": "python",
     "metadata": {},
     "outputs": [
      {
       "output_type": "stream",
       "stream": "stdout",
       "text": [
        "Hi, I am student Sarah. Thanks for creating me.\n",
        "I am Phd student Sarah and am 26 years old. I am enrolled in the graduate school GGNB\n",
        "I am student Bob and am 25 years old.\n"
       ]
      }
     ],
     "prompt_number": 14
    },
    {
     "cell_type": "code",
     "collapsed": false,
     "input": [
      "sarah.teach()"
     ],
     "language": "python",
     "metadata": {},
     "outputs": [
      {
       "output_type": "stream",
       "stream": "stdout",
       "text": [
        "blablabla...\n"
       ]
      }
     ],
     "prompt_number": 15
    },
    {
     "cell_type": "code",
     "collapsed": false,
     "input": [
      "bob.teach()"
     ],
     "language": "python",
     "metadata": {},
     "outputs": [
      {
       "ename": "AttributeError",
       "evalue": "'Student' object has no attribute 'teach'",
       "output_type": "pyerr",
       "traceback": [
        "\u001b[0;31m---------------------------------------------------------------------------\u001b[0m\n\u001b[0;31mAttributeError\u001b[0m                            Traceback (most recent call last)",
        "\u001b[0;32m<ipython-input-16-c29feb627667>\u001b[0m in \u001b[0;36m<module>\u001b[0;34m()\u001b[0m\n\u001b[0;32m----> 1\u001b[0;31m \u001b[0mbob\u001b[0m\u001b[0;34m.\u001b[0m\u001b[0mteach\u001b[0m\u001b[0;34m(\u001b[0m\u001b[0;34m)\u001b[0m\u001b[0;34m\u001b[0m\u001b[0m\n\u001b[0m",
        "\u001b[0;31mAttributeError\u001b[0m: 'Student' object has no attribute 'teach'"
       ]
      }
     ],
     "prompt_number": 16
    },
    {
     "cell_type": "code",
     "collapsed": false,
     "input": [
      "sarah.get_age()"
     ],
     "language": "python",
     "metadata": {},
     "outputs": [
      {
       "metadata": {},
       "output_type": "pyout",
       "prompt_number": 17,
       "text": [
        "26"
       ]
      }
     ],
     "prompt_number": 17
    },
    {
     "cell_type": "code",
     "collapsed": false,
     "input": [
      "sarah._Student__name"
     ],
     "language": "python",
     "metadata": {},
     "outputs": [
      {
       "metadata": {},
       "output_type": "pyout",
       "prompt_number": 18,
       "text": [
        "'Sarah'"
       ]
      }
     ],
     "prompt_number": 18
    },
    {
     "cell_type": "heading",
     "level": 2,
     "metadata": {},
     "source": [
      "3.1 Inheriting builtin classes"
     ]
    },
    {
     "cell_type": "markdown",
     "metadata": {},
     "source": [
      "In yesterday's advanced Exercise Problem #3, you had created a python dictionary with words of a book as keys and the corresponding word counts as the values. \n",
      "\n",
      "Then you had written some code to list the most frequently used words. Maybe the code looks like:\n",
      "```\n",
      "    word_dict={blah:blah,blah:blah,blah:blah,...}\n",
      "    def sort_by_value(d):\n",
      "        return blah\n",
      "    print sort_by_value(word_dict)\n",
      "```\n",
      "\n",
      "But it is much easier to sort a list:\n",
      "```l=[4,3,2]\n",
      "   l.sort()\n",
      "```\n",
      "\n",
      "What if we *could* do the same with dictionaries?\n",
      "```\n",
      "word_dict={\"a\":4,\"b\":1,\"c\":9}\n",
      "word_dict.sort()\n",
      "```\n",
      "\n",
      "Here we will see how to do exactly that."
     ]
    },
    {
     "cell_type": "code",
     "collapsed": false,
     "input": [
      "class BetterDict(dict):\n",
      "    def __init__(self,di):\n",
      "        dict.__init__(self,di)\n",
      "        \n",
      "        \n",
      "    def sort(self):\n",
      "        return sorted(zip(self.values(),self.keys()))\n",
      "    \n"
     ],
     "language": "python",
     "metadata": {},
     "outputs": [],
     "prompt_number": 19
    },
    {
     "cell_type": "code",
     "collapsed": false,
     "input": [
      "word_dict=BetterDict({\"a\":4,\"b\":1,\"c\":9})\n",
      "print(word_dict.sort())"
     ],
     "language": "python",
     "metadata": {},
     "outputs": [
      {
       "output_type": "stream",
       "stream": "stdout",
       "text": [
        "[(1, 'b'), (4, 'a'), (9, 'c')]\n"
       ]
      }
     ],
     "prompt_number": 20
    },
    {
     "cell_type": "heading",
     "level": 2,
     "metadata": {},
     "source": [
      "4. More about attributes"
     ]
    },
    {
     "cell_type": "heading",
     "level": 3,
     "metadata": {},
     "source": [
      "4.1 Available attributes"
     ]
    },
    {
     "cell_type": "markdown",
     "metadata": {},
     "source": [
      "automatically generated attributes"
     ]
    },
    {
     "cell_type": "code",
     "collapsed": false,
     "input": [
      "sarah.__class__"
     ],
     "language": "python",
     "metadata": {},
     "outputs": [
      {
       "metadata": {},
       "output_type": "pyout",
       "prompt_number": 57,
       "text": [
        "__main__.PhDStudent"
       ]
      }
     ],
     "prompt_number": 57
    },
    {
     "cell_type": "code",
     "collapsed": false,
     "input": [
      "if isinstance(sarah,int):\n",
      "    print(\"What? Sarah is a number? You must be kidding.\")\n",
      "else:\n",
      "    print(\"Sarah is no number. I knew it!\")"
     ],
     "language": "python",
     "metadata": {},
     "outputs": [
      {
       "output_type": "stream",
       "stream": "stdout",
       "text": [
        "Sarah is no number. I knew it!\n"
       ]
      }
     ],
     "prompt_number": 21
    },
    {
     "cell_type": "markdown",
     "metadata": {},
     "source": [
      "Get class name as string"
     ]
    },
    {
     "cell_type": "code",
     "collapsed": false,
     "input": [
      "sarah.__class__.__name__"
     ],
     "language": "python",
     "metadata": {},
     "outputs": [
      {
       "metadata": {},
       "output_type": "pyout",
       "prompt_number": 22,
       "text": [
        "'PhDStudent'"
       ]
      }
     ],
     "prompt_number": 22
    },
    {
     "cell_type": "markdown",
     "metadata": {},
     "source": [
      "Get attribute name as string"
     ]
    },
    {
     "cell_type": "code",
     "collapsed": false,
     "input": [
      "sarah.get_age.__name__"
     ],
     "language": "python",
     "metadata": {},
     "outputs": [
      {
       "metadata": {},
       "output_type": "pyout",
       "prompt_number": 23,
       "text": [
        "'get_age'"
       ]
      }
     ],
     "prompt_number": 23
    },
    {
     "cell_type": "markdown",
     "metadata": {},
     "source": [
      "Get doc-string"
     ]
    },
    {
     "cell_type": "code",
     "collapsed": false,
     "input": [
      "help(Student)"
     ],
     "language": "python",
     "metadata": {},
     "outputs": [
      {
       "output_type": "stream",
       "stream": "stdout",
       "text": [
        "Help on class Student in module __main__:\n",
        "\n",
        "class Student(builtins.object)\n",
        " |  This is the blueprint for a student\n",
        " |  \n",
        " |  Methods defined here:\n",
        " |  \n",
        " |  __init__(self, n, a)\n",
        " |  \n",
        " |  __str__(self)\n",
        " |      # a special method, intended for 'pretty print' of the object\n",
        " |      # cf below for more special methods\n",
        " |  \n",
        " |  get_age(self)\n",
        " |      # a method\n",
        " |      # NOTE again: the first argument of a method must be 'self'\n",
        " |      # In principle you could call it diffenetly but 'self' is convention\n",
        " |  \n",
        " |  ----------------------------------------------------------------------\n",
        " |  Data descriptors defined here:\n",
        " |  \n",
        " |  __dict__\n",
        " |      dictionary for instance variables (if defined)\n",
        " |  \n",
        " |  __weakref__\n",
        " |      list of weak references to the object (if defined)\n",
        "\n"
       ]
      }
     ],
     "prompt_number": 24
    },
    {
     "cell_type": "markdown",
     "metadata": {},
     "source": [
      "Dictionary of attributes"
     ]
    },
    {
     "cell_type": "code",
     "collapsed": false,
     "input": [
      "sarah.__dict__"
     ],
     "language": "python",
     "metadata": {},
     "outputs": [
      {
       "metadata": {},
       "output_type": "pyout",
       "prompt_number": 25,
       "text": [
        "{'_Student__birthyear': 1989,\n",
        " '_Student__name': 'Sarah',\n",
        " 'graduateSchool': 'GGNB'}"
       ]
      }
     ],
     "prompt_number": 25
    },
    {
     "cell_type": "markdown",
     "metadata": {},
     "source": [
      "Get list of all methods and attributes"
     ]
    },
    {
     "cell_type": "code",
     "collapsed": false,
     "input": [
      "dir(sarah)"
     ],
     "language": "python",
     "metadata": {},
     "outputs": [
      {
       "metadata": {},
       "output_type": "pyout",
       "prompt_number": 26,
       "text": [
        "['_Student__birthyear',\n",
        " '_Student__name',\n",
        " '__class__',\n",
        " '__delattr__',\n",
        " '__dict__',\n",
        " '__dir__',\n",
        " '__doc__',\n",
        " '__eq__',\n",
        " '__format__',\n",
        " '__ge__',\n",
        " '__getattribute__',\n",
        " '__gt__',\n",
        " '__hash__',\n",
        " '__init__',\n",
        " '__le__',\n",
        " '__lt__',\n",
        " '__module__',\n",
        " '__ne__',\n",
        " '__new__',\n",
        " '__reduce__',\n",
        " '__reduce_ex__',\n",
        " '__repr__',\n",
        " '__setattr__',\n",
        " '__sizeof__',\n",
        " '__str__',\n",
        " '__subclasshook__',\n",
        " '__weakref__',\n",
        " 'get_age',\n",
        " 'graduateSchool',\n",
        " 'teach']"
       ]
      }
     ],
     "prompt_number": 26
    },
    {
     "cell_type": "markdown",
     "metadata": {},
     "source": [
      "Checking if attribute exists:"
     ]
    },
    {
     "cell_type": "code",
     "collapsed": false,
     "input": [
      "print(hasattr(sarah,'teach'))\n",
      "print(hasattr(sarah,'getBirthday'))"
     ],
     "language": "python",
     "metadata": {},
     "outputs": [
      {
       "output_type": "stream",
       "stream": "stdout",
       "text": [
        "True\n",
        "False\n"
       ]
      }
     ],
     "prompt_number": 27
    },
    {
     "cell_type": "heading",
     "level": 3,
     "metadata": {},
     "source": [
      "4.2 Accessing attributes using strings of their names"
     ]
    },
    {
     "cell_type": "markdown",
     "metadata": {},
     "source": [
      "Sometimes, the name of an attribute is known only at runtime. In that case you can access it by:"
     ]
    },
    {
     "cell_type": "code",
     "collapsed": false,
     "input": [
      "getattr(sarah,'graduateSchool')"
     ],
     "language": "python",
     "metadata": {},
     "outputs": [
      {
       "metadata": {},
       "output_type": "pyout",
       "prompt_number": 28,
       "text": [
        "'GGNB'"
       ]
      }
     ],
     "prompt_number": 28
    },
    {
     "cell_type": "code",
     "collapsed": false,
     "input": [
      "fun_attr=input('What do you want to know about sarah: ')\n",
      "getattr(sarah,fun_attr)"
     ],
     "language": "python",
     "metadata": {},
     "outputs": [
      {
       "name": "stdout",
       "output_type": "stream",
       "stream": "stdout",
       "text": [
        "What do you want to know about sarah: dsvrev\n"
       ]
      },
      {
       "ename": "AttributeError",
       "evalue": "'PhDStudent' object has no attribute 'dsvrev'",
       "output_type": "pyerr",
       "traceback": [
        "\u001b[0;31m---------------------------------------------------------------------------\u001b[0m\n\u001b[0;31mAttributeError\u001b[0m                            Traceback (most recent call last)",
        "\u001b[0;32m<ipython-input-31-41ba41625a0b>\u001b[0m in \u001b[0;36m<module>\u001b[0;34m()\u001b[0m\n\u001b[1;32m      1\u001b[0m \u001b[0mfun_attr\u001b[0m\u001b[0;34m=\u001b[0m\u001b[0minput\u001b[0m\u001b[0;34m(\u001b[0m\u001b[0;34m'What do you want to know about sarah: '\u001b[0m\u001b[0;34m)\u001b[0m\u001b[0;34m\u001b[0m\u001b[0m\n\u001b[0;32m----> 2\u001b[0;31m \u001b[0mgetattr\u001b[0m\u001b[0;34m(\u001b[0m\u001b[0msarah\u001b[0m\u001b[0;34m,\u001b[0m\u001b[0mfun_attr\u001b[0m\u001b[0;34m)\u001b[0m\u001b[0;34m\u001b[0m\u001b[0m\n\u001b[0m",
        "\u001b[0;31mAttributeError\u001b[0m: 'PhDStudent' object has no attribute 'dsvrev'"
       ]
      }
     ],
     "prompt_number": 31
    },
    {
     "cell_type": "heading",
     "level": 3,
     "metadata": {},
     "source": [
      "4.3 Dynamically adding attributes"
     ]
    },
    {
     "cell_type": "code",
     "collapsed": false,
     "input": [
      "dir(sarah)"
     ],
     "language": "python",
     "metadata": {},
     "outputs": [
      {
       "metadata": {},
       "output_type": "pyout",
       "prompt_number": 32,
       "text": [
        "['_Student__birthyear',\n",
        " '_Student__name',\n",
        " '__class__',\n",
        " '__delattr__',\n",
        " '__dict__',\n",
        " '__dir__',\n",
        " '__doc__',\n",
        " '__eq__',\n",
        " '__format__',\n",
        " '__ge__',\n",
        " '__getattribute__',\n",
        " '__gt__',\n",
        " '__hash__',\n",
        " '__init__',\n",
        " '__le__',\n",
        " '__lt__',\n",
        " '__module__',\n",
        " '__ne__',\n",
        " '__new__',\n",
        " '__reduce__',\n",
        " '__reduce_ex__',\n",
        " '__repr__',\n",
        " '__setattr__',\n",
        " '__sizeof__',\n",
        " '__str__',\n",
        " '__subclasshook__',\n",
        " '__weakref__',\n",
        " 'get_age',\n",
        " 'graduateSchool',\n",
        " 'teach']"
       ]
      }
     ],
     "prompt_number": 32
    },
    {
     "cell_type": "code",
     "collapsed": false,
     "input": [
      "sarah.onVacation = True\n",
      "sarah.onVacation"
     ],
     "language": "python",
     "metadata": {},
     "outputs": [
      {
       "metadata": {},
       "output_type": "pyout",
       "prompt_number": 33,
       "text": [
        "True"
       ]
      }
     ],
     "prompt_number": 33
    },
    {
     "cell_type": "code",
     "collapsed": false,
     "input": [
      "dir(sarah)"
     ],
     "language": "python",
     "metadata": {},
     "outputs": [
      {
       "metadata": {},
       "output_type": "pyout",
       "prompt_number": 34,
       "text": [
        "['_Student__birthyear',\n",
        " '_Student__name',\n",
        " '__class__',\n",
        " '__delattr__',\n",
        " '__dict__',\n",
        " '__dir__',\n",
        " '__doc__',\n",
        " '__eq__',\n",
        " '__format__',\n",
        " '__ge__',\n",
        " '__getattribute__',\n",
        " '__gt__',\n",
        " '__hash__',\n",
        " '__init__',\n",
        " '__le__',\n",
        " '__lt__',\n",
        " '__module__',\n",
        " '__ne__',\n",
        " '__new__',\n",
        " '__reduce__',\n",
        " '__reduce_ex__',\n",
        " '__repr__',\n",
        " '__setattr__',\n",
        " '__sizeof__',\n",
        " '__str__',\n",
        " '__subclasshook__',\n",
        " '__weakref__',\n",
        " 'get_age',\n",
        " 'graduateSchool',\n",
        " 'onVacation',\n",
        " 'teach']"
       ]
      }
     ],
     "prompt_number": 34
    },
    {
     "cell_type": "heading",
     "level": 3,
     "metadata": {},
     "source": [
      "4.4 Class attributes (static attributes)"
     ]
    },
    {
     "cell_type": "code",
     "collapsed": false,
     "input": [
      "class counter:\n",
      "    # class attribute / static attribute\n",
      "    # NOTE: no 'self.'\n",
      "    overall_total = 0\n",
      "    \n",
      "    def __init__(self):\n",
      "        # data attribute\n",
      "        self.my_total = 0\n",
      "\n",
      "    def increment(self):\n",
      "        counter.overall_total += 1\n",
      "        self.my_total += 1\n",
      "        \n",
      "    def __str__(self):\n",
      "        return 'total=%u\\toverall_total=%u' % (self.my_total, counter.overall_total)"
     ],
     "language": "python",
     "metadata": {},
     "outputs": [],
     "prompt_number": 35
    },
    {
     "cell_type": "code",
     "collapsed": false,
     "input": [
      "a = counter()\n",
      "b = counter()"
     ],
     "language": "python",
     "metadata": {},
     "outputs": [],
     "prompt_number": 36
    },
    {
     "cell_type": "code",
     "collapsed": false,
     "input": [
      "a.increment()\n",
      "print(a)\n",
      "print(b)"
     ],
     "language": "python",
     "metadata": {},
     "outputs": [
      {
       "output_type": "stream",
       "stream": "stdout",
       "text": [
        "total=1\toverall_total=1\n",
        "total=0\toverall_total=1\n"
       ]
      }
     ],
     "prompt_number": 37
    },
    {
     "cell_type": "code",
     "collapsed": false,
     "input": [
      "b.increment()\n",
      "print(a)\n",
      "print(b)\n",
      "c=counter()\n",
      "c.increment()\n",
      "print(a)\n"
     ],
     "language": "python",
     "metadata": {},
     "outputs": [
      {
       "output_type": "stream",
       "stream": "stdout",
       "text": [
        "total=1\toverall_total=2\n",
        "total=1\toverall_total=2\n",
        "total=1\toverall_total=3\n"
       ]
      }
     ],
     "prompt_number": 38
    },
    {
     "cell_type": "code",
     "collapsed": false,
     "input": [
      "d=counter()\n",
      "d.increment()\n",
      "print(d)"
     ],
     "language": "python",
     "metadata": {},
     "outputs": [
      {
       "output_type": "stream",
       "stream": "stdout",
       "text": [
        "total=1\toverall_total=4\n"
       ]
      }
     ],
     "prompt_number": 39
    },
    {
     "cell_type": "code",
     "collapsed": false,
     "input": [
      "print(a)"
     ],
     "language": "python",
     "metadata": {},
     "outputs": [
      {
       "output_type": "stream",
       "stream": "stdout",
       "text": [
        "total=1\toverall_total=4\n"
       ]
      }
     ],
     "prompt_number": 40
    },
    {
     "cell_type": "heading",
     "level": 2,
     "metadata": {},
     "source": [
      "5. Special methods"
     ]
    },
    {
     "cell_type": "code",
     "collapsed": false,
     "input": [],
     "language": "python",
     "metadata": {},
     "outputs": []
    },
    {
     "cell_type": "markdown",
     "metadata": {},
     "source": [
      "We already encountered \\__init__ and \\__str__. But there are more like:\n",
      "\n",
      "* \\__lt__: defines how comparison operators (<,<=,==,...) work\n",
      "* \\__len__: defines result of 'len(object)'\n",
      "* \\__add__: defines how to add objects\n",
      "* and many more ..."
     ]
    },
    {
     "cell_type": "markdown",
     "metadata": {},
     "source": [
      "Example:"
     ]
    },
    {
     "cell_type": "code",
     "collapsed": false,
     "input": [
      "class Student:\n",
      "    \"\"\"This is the blueprint for a student\"\"\"\n",
      "   \n",
      "    def __init__(self,n,a): \n",
      "        self.__name = n\n",
      "        self.__birthyear = datetime.now().year - a\n",
      "\n",
      "        self.__cmpAttr = '_Student__name'\n",
      "\n",
      "        print('Hi, I am student %s. Thanks for creating me.' % self.__name)\n",
      "\n",
      "    def get_age(self):\n",
      "        return datetime.now().year - self.__birthyear\n",
      "\n",
      "    def __str__(self):\n",
      "        return 'I am student %s and am %u years old.' % (self.__name, self.get_age())\n",
      "\n",
      "    def compareBirthyear(self):\n",
      "        self.__cmpAttr = '_Student__birthyear'\n",
      "\n",
      "    def __lt__(self,rhs):\n",
      "        #self==bob\n",
      "        #rhs==joe\n",
      "        lval = getattr(self,self.__cmpAttr)\n",
      "        rval = getattr(rhs,self.__cmpAttr)\n",
      "\n",
      "        return lval<rval"
     ],
     "language": "python",
     "metadata": {},
     "outputs": [],
     "prompt_number": 66
    },
    {
     "cell_type": "code",
     "collapsed": false,
     "input": [
      "bob = Student('bob', 25)\n",
      "joe = Student('joe', 27)\n",
      "print(bob==joe)"
     ],
     "language": "python",
     "metadata": {},
     "outputs": [
      {
       "output_type": "stream",
       "stream": "stdout",
       "text": [
        "Hi, I am student bob. Thanks for creating me.\n",
        "Hi, I am student joe. Thanks for creating me.\n",
        "False\n"
       ]
      }
     ],
     "prompt_number": 68
    },
    {
     "cell_type": "code",
     "collapsed": false,
     "input": [
      "bob<joe"
     ],
     "language": "python",
     "metadata": {},
     "outputs": [
      {
       "metadata": {},
       "output_type": "pyout",
       "prompt_number": 69,
       "text": [
        "True"
       ]
      }
     ],
     "prompt_number": 69
    },
    {
     "cell_type": "code",
     "collapsed": false,
     "input": [
      "bob.compareBirthyear()"
     ],
     "language": "python",
     "metadata": {},
     "outputs": [],
     "prompt_number": 70
    },
    {
     "cell_type": "code",
     "collapsed": false,
     "input": [
      "bob<joe"
     ],
     "language": "python",
     "metadata": {},
     "outputs": [
      {
       "metadata": {},
       "output_type": "pyout",
       "prompt_number": 72,
       "text": [
        "False"
       ]
      }
     ],
     "prompt_number": 72
    },
    {
     "cell_type": "heading",
     "level": 2,
     "metadata": {},
     "source": [
      "Summary of most important points"
     ]
    },
    {
     "cell_type": "heading",
     "level": 3,
     "metadata": {},
     "source": [
      "Distinguish between *class* and *instance*"
     ]
    },
    {
     "cell_type": "markdown",
     "metadata": {},
     "source": [
      "A *class* is a template or blueprint, it defines all the specifications an object shall have, but it does not create the object. To define a class, start a block with the \"class\" keyword, and replace the function \"doSomething\" with all the functions it should provide"
     ]
    },
    {
     "cell_type": "code",
     "collapsed": false,
     "input": [
      "class MyClass:\n",
      "    def doSomething(self):\n",
      "        self.myVariable = 3.1"
     ],
     "language": "python",
     "metadata": {},
     "outputs": [],
     "prompt_number": 91
    },
    {
     "cell_type": "markdown",
     "metadata": {},
     "source": [
      "An *instance* of a class, on the other hand, \"lives\", it has been assembled according to the specifications in the class definition. To create an instance of a class, write:"
     ]
    },
    {
     "cell_type": "code",
     "collapsed": false,
     "input": [
      "instance = MyClass()"
     ],
     "language": "python",
     "metadata": {},
     "outputs": [],
     "prompt_number": 92
    },
    {
     "cell_type": "markdown",
     "metadata": {},
     "source": [
      "Here, \"instance\" will be a variable of type MyClass. (Replace it by your favourite name)"
     ]
    },
    {
     "cell_type": "heading",
     "level": 3,
     "metadata": {},
     "source": [
      "Attributes"
     ]
    },
    {
     "cell_type": "markdown",
     "metadata": {},
     "source": [
      "The syntax to define a \"method\" (=function in a class) is the same as for a \"normal\" (=outside a class) function, except that the first argument always is \"self\". Hence the prototype is:<p>\n",
      "    def functionName(self,remainingArgument1,remainingArgument2,...):<p>\n",
      "For example:"
     ]
    },
    {
     "cell_type": "code",
     "collapsed": false,
     "input": [
      "class MyClass:\n",
      "    def doSomething(self):\n",
      "        self.myVariable=3.1\n",
      "    def doSomethingElse(self,anArgument):\n",
      "        self.myVariable=anArgument"
     ],
     "language": "python",
     "metadata": {},
     "outputs": []
    },
    {
     "cell_type": "markdown",
     "metadata": {},
     "source": [
      "Likewise, when defining or using *data attributes* **within the class block** you have to prefix it by \"self.\" (self-dot). Global variables get no prefix, class/static variables need the prefix \"MyClass.\" (Classname-dot)"
     ]
    },
    {
     "cell_type": "markdown",
     "metadata": {},
     "source": [
      "A *data attribute* is a property/variable of a particular instance of the class. This means that all instances of the class have this property, but, in general, the value of the property is different for each instance. For example, a class \"Car\" could have a property colour; all Cars have a color, but which exactly differs from one to the other."
     ]
    },
    {
     "cell_type": "markdown",
     "metadata": {},
     "source": [
      "A *class/static variable* is a property that all instances of the class share *with the same value*. For example: all Cars have a certain number of wheels, let's call it \"numberOfWheels\". And this number is the same for all (functioning and sufficiently \"normal\") cars: numberOfWheels==4. A class/static variable is defined inside the class block but outside any function. It is accessed using the notation: Classname.staticVariable"
     ]
    },
    {
     "cell_type": "code",
     "collapsed": false,
     "input": [
      "class Car:\n",
      "    numberOfWheels=4\n",
      "    def repair(self):\n",
      "        if Car.numberOfWheels!=4:\n",
      "            print(\"Something's terribly wrong\")"
     ],
     "language": "python",
     "metadata": {},
     "outputs": []
    },
    {
     "cell_type": "markdown",
     "metadata": {},
     "source": [
      "A class can provide a (virtually) arbitrary number of *attributes* (functions and data). In the MyClass definition, \"doSomething\" is an example of a function attribute, \"myVariable\" is an example of a variable to store data. A (living) instance of a class can access its attributes using dot-notation:"
     ]
    },
    {
     "cell_type": "code",
     "collapsed": false,
     "input": [
      "instance.doSomething()\n",
      "instance.myVariable=2.7\n",
      "instance.doSomethingElse(0)"
     ],
     "language": "python",
     "metadata": {},
     "outputs": []
    },
    {
     "cell_type": "markdown",
     "metadata": {},
     "source": [
      "Note:\n",
      "\n",
      "* the similarity to access attributes:  \n",
      "    + *within the class block*: self.attribute  \n",
      "    + *outside*: instance.attribute  \n",
      "* when calling a method, you have to specify all arguments except the \"self\""
     ]
    },
    {
     "cell_type": "heading",
     "level": 3,
     "metadata": {},
     "source": [
      "Special attributes"
     ]
    },
    {
     "cell_type": "heading",
     "level": 4,
     "metadata": {},
     "source": [
      "The constructor"
     ]
    },
    {
     "cell_type": "markdown",
     "metadata": {},
     "source": [
      "Often a class possesses data attributes that can, in principle, assume several values; an instance would work with all of these - as long as they are indeed specified and within a predefined range. For example:\n",
      "\n",
      "* The colour of a car\n",
      "* The number of dimensions of a vector\n",
      "* The membrane capacity of a neuron\n",
      "\n",
      "To make sure that there cannot exist at any time an instance of a class where these attributes have not (or even not yet) been specified, use a *constructor*. It is a normal method but has the special name \"\\__init\\__\""
     ]
    },
    {
     "cell_type": "code",
     "collapsed": false,
     "input": [
      "class Vector2D:\n",
      "    def __init__(self):\n",
      "        self.dim = 2"
     ],
     "language": "python",
     "metadata": {},
     "outputs": [],
     "prompt_number": 94
    },
    {
     "cell_type": "markdown",
     "metadata": {},
     "source": [
      "As before for the MyClass example, to create a Vector2D instance, write"
     ]
    },
    {
     "cell_type": "code",
     "collapsed": false,
     "input": [
      "vec = Vector2D()\n",
      "vec.dim"
     ],
     "language": "python",
     "metadata": {},
     "outputs": [
      {
       "metadata": {},
       "output_type": "pyout",
       "prompt_number": 96,
       "text": [
        "2"
       ]
      }
     ],
     "prompt_number": 96
    },
    {
     "cell_type": "markdown",
     "metadata": {},
     "source": [
      "It is also possible to give initial values as arguments to the constructor:"
     ]
    },
    {
     "cell_type": "code",
     "collapsed": false,
     "input": [
      "class Vector:\n",
      "    def __init__(self,n):\n",
      "        self.dim = n\n",
      "    # remaining functions"
     ],
     "language": "python",
     "metadata": {},
     "outputs": [],
     "prompt_number": 97
    },
    {
     "cell_type": "markdown",
     "metadata": {},
     "source": [
      "In such cases, when the constructor has more arguments than the obligatory \"self\", to create an instance of that class write:"
     ]
    },
    {
     "cell_type": "code",
     "collapsed": false,
     "input": [
      "pos=Vector(3)\n",
      "pos.dim"
     ],
     "language": "python",
     "metadata": {},
     "outputs": [
      {
       "metadata": {},
       "output_type": "pyout",
       "prompt_number": 99,
       "text": [
        "3"
       ]
      }
     ],
     "prompt_number": 99
    },
    {
     "cell_type": "markdown",
     "metadata": {},
     "source": [
      "That is:\n",
      "\n",
      "    instanceName = Classname(all_arguments_of_constructor_except_self)"
     ]
    },
    {
     "cell_type": "heading",
     "level": 2,
     "metadata": {},
     "source": [
      "References"
     ]
    },
    {
     "cell_type": "markdown",
     "metadata": {},
     "source": [
      "* [Python course given in spring 2008 at the University of Pennsylvania.](http://www.cis.upenn.edu/~cis530/slides-2008/Python-complete-tutorial-2008-spring.ppt)\n",
      "* H. P. Langtangen, *Python Scripting for Computational Science* (Texts in Computational Science and Engineering), 1st ed. Springer, 2004.\n",
      "* Mark Pilgrim, Dive Into Python, http://www.diveintopython.net/toc/index.html)\n",
      "* B. Stroustrup, *What is object-oriented programming?*, Software, IEEE, vol. 5, no. 3, pp. 10\u201320, 1988.\n",
      "\n"
     ]
    }
   ],
   "metadata": {}
  }
 ]
}