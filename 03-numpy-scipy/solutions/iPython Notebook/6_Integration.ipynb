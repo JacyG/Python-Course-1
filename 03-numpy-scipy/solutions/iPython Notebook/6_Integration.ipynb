{
 "metadata": {
  "name": "6_Integration"
 },
 "nbformat": 3,
 "nbformat_minor": 0,
 "worksheets": [
  {
   "cells": [
    {
     "cell_type": "code",
     "collapsed": false,
     "input": "import numpy as np\nf = lambda x : np.exp(-(x + 3)**2)\n# try: f([0, 1, 2, 3]) # -> you will see that the function doesn't take lists as arguments, only 'f(np.arange(1,4))' would work",
     "language": "python",
     "metadata": {},
     "outputs": [],
     "prompt_number": 7
    },
    {
     "cell_type": "raw",
     "metadata": {},
     "source": "Vectorize the function f and try again :)"
    },
    {
     "cell_type": "code",
     "collapsed": false,
     "input": "f = np.vectorize(f)\nf([0, 1, 2, 3])",
     "language": "python",
     "metadata": {},
     "outputs": [
      {
       "output_type": "pyout",
       "prompt_number": 5,
       "text": "array([  1.23409804e-04,   1.12535175e-07,   1.38879439e-11,\n         2.31952283e-16])"
      }
     ],
     "prompt_number": 5
    },
    {
     "cell_type": "raw",
     "metadata": {},
     "source": "Define an integration function 'intf', using the Riemann sum"
    },
    {
     "cell_type": "code",
     "collapsed": false,
     "input": "intf = lambda fr, to, step : f(np.arange(fr, to, step)).sum()*step",
     "language": "python",
     "metadata": {},
     "outputs": [],
     "prompt_number": 8
    },
    {
     "cell_type": "code",
     "collapsed": false,
     "input": "for i in [1, 0.1, 0.01, 0.001]:\n    print '%1.12g, result of the Riemann sum in steps of %1.3g' % (intf(-20, 20, i), i)",
     "language": "python",
     "metadata": {},
     "outputs": [
      {
       "output_type": "stream",
       "stream": "stdout",
       "text": "1.77263720483, result of the Riemann sum in steps of 1\n1.77245385091, result of the Riemann sum in steps of 0.1\n1.77245385091, result of the Riemann sum in steps of 0.01\n1.7724538509, result of the Riemann sum in steps of 0.001\n"
      }
     ],
     "prompt_number": 32
    },
    {
     "cell_type": "raw",
     "metadata": {},
     "source": "Now integrate by using the function scipy.integrate.quad().\nThis function returns the result of the integration and its estimated error."
    },
    {
     "cell_type": "code",
     "collapsed": false,
     "input": "import scipy.integrate as int\nint.quad(f, -20, 20)",
     "language": "python",
     "metadata": {},
     "outputs": [
      {
       "output_type": "pyout",
       "prompt_number": 34,
       "text": "(1.772453850905516, 1.0654687868609644e-09)"
      }
     ],
     "prompt_number": 34
    },
    {
     "cell_type": "code",
     "collapsed": false,
     "input": "int.quad(lambda x: 1./x, 1., np.Inf)",
     "language": "python",
     "metadata": {},
     "outputs": [
      {
       "output_type": "stream",
       "stream": "stdout",
       "text": "Warning: The maximum number of subdivisions (50) has been achieved.\n  If increasing the limit yields no improvement it is advised to analyze \n  the integrand in order to determine the difficulties.  If the position of a \n  local difficulty can be determined (singularity, discontinuity) one will \n  probably gain from splitting up the interval and calling the integrator \n  on the subranges.  Perhaps a special-purpose integrator should be used.\n"
      },
      {
       "output_type": "pyout",
       "prompt_number": 35,
       "text": "(40.996012819169536, 8.156214940493651)"
      }
     ],
     "prompt_number": 35
    },
    {
     "cell_type": "raw",
     "metadata": {},
     "source": "NOTE: The integral of 1/x from 1 to infinity diverges to infinity! Therefore the estimated error is very large."
    },
    {
     "cell_type": "code",
     "collapsed": false,
     "input": "int.quad(lambda x: 1./x**2, 1., np.Inf)",
     "language": "python",
     "metadata": {},
     "outputs": [
      {
       "output_type": "pyout",
       "prompt_number": 36,
       "text": "(1.0, 1.1102230246251565e-14)"
      }
     ],
     "prompt_number": 36
    }
   ],
   "metadata": {}
  }
 ]
}