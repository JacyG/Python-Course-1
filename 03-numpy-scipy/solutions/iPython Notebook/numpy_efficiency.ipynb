{
 "metadata": {
  "name": "NumpyEfficiency"
 },
 "nbformat": 3,
 "nbformat_minor": 0,
 "worksheets": [
  {
   "cells": [
    {
     "cell_type": "code",
     "collapsed": false,
     "input": "def f():\n    count = 0\n    for i in range(1000000):\n        if i%7 == 0:\n            count += 1\n    return count\n%timeit f()",
     "language": "python",
     "metadata": {},
     "outputs": [
      {
       "output_type": "stream",
       "stream": "stdout",
       "text": "1 loops, best of 3: 399 ms per loop\n"
      }
     ],
     "prompt_number": 12
    },
    {
     "cell_type": "code",
     "collapsed": false,
     "input": "%timeit len([x for x in range(1000000) if x%7 == 0])",
     "language": "python",
     "metadata": {},
     "outputs": [
      {
       "output_type": "stream",
       "stream": "stdout",
       "text": "1 loops, best of 3: 449 ms per loop\n"
      }
     ],
     "prompt_number": 13
    },
    {
     "cell_type": "code",
     "collapsed": false,
     "input": "import numpy as np\n%timeit np.sum(np.mod(np.arange(1000000), 7) == 0)",
     "language": "python",
     "metadata": {},
     "outputs": [
      {
       "output_type": "stream",
       "stream": "stdout",
       "text": "10 loops, best of 3: 99.9 ms per loop\n"
      }
     ],
     "prompt_number": 15
    }
   ],
   "metadata": {}
  }
 ]
}