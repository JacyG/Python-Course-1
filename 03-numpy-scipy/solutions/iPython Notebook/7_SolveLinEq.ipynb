{
 "metadata": {
  "name": "7_SolveLinEq"
 },
 "nbformat": 3,
 "nbformat_minor": 0,
 "worksheets": [
  {
   "cells": [
    {
     "cell_type": "heading",
     "level": 1,
     "metadata": {},
     "source": "7. Solving systems of linear equations"
    },
    {
     "cell_type": "raw",
     "metadata": {},
     "source": "First create the matrix of fruit quantities."
    },
    {
     "cell_type": "code",
     "collapsed": false,
     "input": "import numpy as np\nFruits = np.array([[10, 5, 1], [1, 8, 1], [9, 3, 5]])\nprint Fruits",
     "language": "python",
     "metadata": {},
     "outputs": [
      {
       "output_type": "stream",
       "stream": "stdout",
       "text": "[[10  5  1]\n [ 1  8  1]\n [ 9  3  5]]\n"
      }
     ],
     "prompt_number": 5
    },
    {
     "cell_type": "raw",
     "metadata": {},
     "source": "Then create a vector of the total prices."
    },
    {
     "cell_type": "code",
     "collapsed": false,
     "input": "total_prices = np.array([35.35, 24.91, 40.38])\nprint total_prices",
     "language": "python",
     "metadata": {},
     "outputs": [
      {
       "output_type": "stream",
       "stream": "stdout",
       "text": "[ 35.35  24.91  40.38]\n"
      }
     ],
     "prompt_number": 6
    },
    {
     "cell_type": "raw",
     "metadata": {},
     "source": "Obtain the price of each fruit by solving the linear system total_prices = Fruits * singel_prices"
    },
    {
     "cell_type": "code",
     "collapsed": false,
     "input": "import scipy.linalg as la\nsingle_prices = la.solve(Fruits, total_prices)\nprint single_prices",
     "language": "python",
     "metadata": {},
     "outputs": [
      {
       "output_type": "stream",
       "stream": "stdout",
       "text": "[ 1.99  2.49  3.  ]\n"
      }
     ],
     "prompt_number": 7
    },
    {
     "cell_type": "raw",
     "metadata": {},
     "source": "Proof your results!"
    },
    {
     "cell_type": "code",
     "collapsed": false,
     "input": "print np.dot(Fruits, single_prices)",
     "language": "python",
     "metadata": {},
     "outputs": [
      {
       "output_type": "stream",
       "stream": "stdout",
       "text": "[ 35.35  24.91  40.38]\n"
      }
     ],
     "prompt_number": 8
    }
   ],
   "metadata": {}
  }
 ]
}