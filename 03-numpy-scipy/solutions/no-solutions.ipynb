{
 "metadata": {
  "kernelspec": {
   "display_name": "Python 3",
   "language": "python",
   "name": "python3"
  },
  "language_info": {
   "codemirror_mode": {
    "name": "ipython",
    "version": 3
   },
   "file_extension": ".py",
   "mimetype": "text/x-python",
   "name": "python",
   "nbconvert_exporter": "python",
   "pygments_lexer": "ipython3",
   "version": "3.4.0"
  },
  "name": "",
  "signature": "sha256:5ee6f9c84fdd71770cd9582c72f01f84e3d9410783829d9bdbd8d833d528e4d9"
 },
 "nbformat": 3,
 "nbformat_minor": 0,
 "worksheets": [
  {
   "cells": [
    {
     "cell_type": "heading",
     "level": 1,
     "metadata": {},
     "source": [
      "Numpy Exercises"
     ]
    },
    {
     "cell_type": "code",
     "collapsed": false,
     "input": [
      "# Note that this Document is designed to be executed from top to bottom.\n",
      "# General imports, numpy/matplotlib may not be done in all examples.\n",
      "import numpy as np\n",
      "\n",
      "import warnings  # Just used for some examples in the solutions...."
     ],
     "language": "python",
     "metadata": {},
     "outputs": [],
     "prompt_number": 1
    },
    {
     "cell_type": "markdown",
     "metadata": {},
     "source": [
      "Weather Example *during Talk*\n",
      "=============================\n",
      "\n",
      "* Monthly weather data for G\u00f6ttingen (From the DWD)\n",
      "* Preprocess the data (we will do this together):\n",
      "   - Use ``np.genfromtxt`` to read the data (we will do this together)\n",
      "   - Extract interesting columns, and the mean new snow and the mean temperature\n",
      "* Reshape the temp and snow arrays so that they have the year in the first\n",
      "  and dimension and the month in the second. We have years 1783 to 2015 (non-inclusive)!\n",
      "* Do some data analysis"
     ]
    },
    {
     "cell_type": "code",
     "collapsed": false,
     "input": [
      "# Load the data using genfromtxt. names=True, will load the header into a structured\n",
      "# array, so that the dictionary like access below works, you may ignore it for now.\n",
      "# invalid_raise=False is necessary because of an extra character at the end of the file.\n",
      "data = np.genfromtxt(\n",
      "    \"goe_monthly_1947_2015/produkt_monat_Monatswerte_19470101_20141231_01691.txt\",\n",
      "    delimiter=\";\", names=True, invalid_raise=False)\n",
      "\n",
      "# All data starts January 1947 and ends with (including) December 2014:\n",
      "temp = data[\"LUFTTEMPERATUR\"]  # Mean \u00b0C\n",
      "sun = data[\"SONNENSCHEINDAUER\"]  # sum of Hours\n",
      "precipitation = data[\"NIEDERSCHLAGSHOEHE\"]  # Sum of precipitation in mm\n",
      "\n",
      "print(\"Mean temperature from Jan. 1947 to Dec. 1949:\")\n",
      "print(temp[:24])"
     ],
     "language": "python",
     "metadata": {},
     "outputs": [
      {
       "output_type": "stream",
       "stream": "stdout",
       "text": [
        "Mean temperature from Jan. 1947 to Dec. 1949:\n",
        "[ -4.4  -8.6   2.8   9.5  14.6  17.5  18.4  18.3  16.2   7.1   5.7   2.1\n",
        "   4.    0.2   5.7  10.5  13.9  16.1  16.3  16.1  13.6   8.5   4.4   1.7]\n"
       ]
      },
      {
       "output_type": "stream",
       "stream": "stderr",
       "text": [
        "/usr/lib/python3/dist-packages/numpy/lib/npyio.py:1670: ConversionWarning: Some errors were detected !\n",
        "    Line #818 (got 1 columns instead of 17)\n",
        "  warnings.warn(errmsg, ConversionWarning)\n"
       ]
      }
     ],
     "prompt_number": 2
    },
    {
     "cell_type": "markdown",
     "metadata": {},
     "source": [
      "Continue with the following things\n",
      "==================================\n",
      "\n",
      "1. Reshape the ``temp``, ``sun``, and ``rain`` arrays so that the first dimension is the year and the second\n",
      "   the month. *Hint: Use the ``np.reshape`` command or ``arr.reshape`` method*.\n",
      "   - Now you will have much either access to the data.\n",
      "\n",
      "2. Find the mean sunshine duration when Python was released (January 1994).\n",
      "\n",
      "2. Calculate the mean and the median temperature for each month. *Hint: Use the axis argument*\n",
      "   - Which one is the coldest month?\n",
      "   - Calculate the difference of the monthly mean to the whole year round mean.\n",
      "\n",
      "3. Find the year with the coldest mean temperature. *Hint: Use ``np.argmin``*\n",
      "\n",
      "4. Which year had the sunniest summer months (June, July, and August)? *Hint: Use slicing*\n",
      "\n",
      "5. ONLY if you are quick:\n",
      "   - Calculate the coefficient of correlation for the precipitation, the amount of sunshine, and the temperature. (Use ``np.corrcoef`` and possibly the stacking functions)\n",
      "   - Explorer the data, e.g.:\n",
      "       - The winter in 1946-1947 just after WW II, was very harsh can you confirm?\n",
      "       - Calculate the standard deviations\n",
      "       - Did the average temperature in G\u00f6ttingen rise in the last 30 years?\n",
      "       - ..."
     ]
    },
    {
     "cell_type": "markdown",
     "metadata": {},
     "source": [
      "Solution\n",
      "--------"
     ]
    },
    {
     "cell_type": "code",
     "collapsed": false,
     "input": [
      "# 1."
     ],
     "language": "python",
     "metadata": {},
     "outputs": [],
     "prompt_number": 3
    },
    {
     "cell_type": "code",
     "collapsed": false,
     "input": [
      "# 2."
     ],
     "language": "python",
     "metadata": {},
     "outputs": [],
     "prompt_number": 4
    },
    {
     "cell_type": "code",
     "collapsed": false,
     "input": [
      "# 3. a)"
     ],
     "language": "python",
     "metadata": {},
     "outputs": [],
     "prompt_number": 5
    },
    {
     "cell_type": "code",
     "collapsed": false,
     "input": [
      "# 3. b)"
     ],
     "language": "python",
     "metadata": {},
     "outputs": [],
     "prompt_number": 6
    },
    {
     "cell_type": "code",
     "collapsed": false,
     "input": [
      "# 4. "
     ],
     "language": "python",
     "metadata": {},
     "outputs": [],
     "prompt_number": 7
    },
    {
     "cell_type": "code",
     "collapsed": false,
     "input": [
      "# 5. "
     ],
     "language": "python",
     "metadata": {},
     "outputs": [],
     "prompt_number": 8
    },
    {
     "cell_type": "code",
     "collapsed": false,
     "input": [
      "# 6. "
     ],
     "language": "python",
     "metadata": {},
     "outputs": [],
     "prompt_number": 9
    },
    {
     "cell_type": "markdown",
     "metadata": {},
     "source": [
      "Further Exercises after the Talk\n",
      "================================"
     ]
    },
    {
     "cell_type": "markdown",
     "metadata": {},
     "source": [
      "Array creation and manipulation\n",
      "==============================="
     ]
    },
    {
     "cell_type": "markdown",
     "metadata": {},
     "source": [
      "By using miscellaneous constructors, indexing, slicing, and simple operations (+, \u2212, *, :),\n",
      "large arrays with various patterns can be created. Find a way to create these arrays."
     ]
    },
    {
     "cell_type": "markdown",
     "metadata": {},
     "source": [
      "1. Create the following arrays:\n",
      "\n",
      "  a) $$\n",
      "\\begin{pmatrix}\n",
      "    1. & 1. & 1. & 1. \\\\\n",
      "    1. & 1. & 1. & 1. \\\\\n",
      "    1. & 1. & 1. & 2. \\\\\n",
      "    1. & 6. & 1. & 1. \\\\\n",
      "\\end{pmatrix}\n",
      "$$\n",
      "  b)\n",
      "$$\n",
      "\\begin{pmatrix}\n",
      "    0 & 0 & 0 & 0 & 0 \\\\\n",
      "    2 & 0 & 0 & 0 & 0 \\\\\n",
      "    0 & 3 & 0 & 0 & 0 \\\\\n",
      "    0 & 0 & 4 & 0 & 0 \\\\\n",
      "    0 & 0 & 0 & 5 & 0 \\\\\n",
      "    0 & 0 & 0 & 0 & 6 \\\\\n",
      "\\end{pmatrix}\n",
      "$$"
     ]
    },
    {
     "cell_type": "markdown",
     "metadata": {},
     "source": [
      "2. Form this 2-D array (without explicitly typing it):\n",
      "$$\n",
      "\\begin{pmatrix}\n",
      "    1 & 6 & 11 \\\\\n",
      "    2 & 7 & 12 \\\\\n",
      "    3 & 8 & 13 \\\\\n",
      "    4 & 9 & 14 \\\\\n",
      "    5 & 10 & 15 \\\\\n",
      "\\end{pmatrix}\n",
      "$$"
     ]
    },
    {
     "cell_type": "heading",
     "level": 3,
     "metadata": {},
     "source": [
      "Solution"
     ]
    },
    {
     "cell_type": "code",
     "collapsed": false,
     "input": [
      "# 1. a)"
     ],
     "language": "python",
     "metadata": {},
     "outputs": [],
     "prompt_number": 10
    },
    {
     "cell_type": "code",
     "collapsed": false,
     "input": [
      "# 1. b)"
     ],
     "language": "python",
     "metadata": {},
     "outputs": [],
     "prompt_number": 11
    },
    {
     "cell_type": "code",
     "collapsed": false,
     "input": [
      "# 2."
     ],
     "language": "python",
     "metadata": {},
     "outputs": [],
     "prompt_number": 12
    },
    {
     "cell_type": "heading",
     "level": 2,
     "metadata": {},
     "source": [
      "A simple calculation"
     ]
    },
    {
     "cell_type": "markdown",
     "metadata": {},
     "source": [
      "1. Devide each column of the array ``a`` elementwise by the array ``b`` (do you notice some problem?)"
     ]
    },
    {
     "cell_type": "code",
     "collapsed": false,
     "input": [
      "a = np.arange(25).reshape(5, 5)\n",
      "b = np.array([1, 5, 10 , 15, 20])"
     ],
     "language": "python",
     "metadata": {},
     "outputs": [],
     "prompt_number": 13
    },
    {
     "cell_type": "heading",
     "level": 3,
     "metadata": {},
     "source": [
      "Solution"
     ]
    },
    {
     "cell_type": "code",
     "collapsed": false,
     "input": [
      "# 1."
     ],
     "language": "python",
     "metadata": {},
     "outputs": [],
     "prompt_number": 14
    },
    {
     "cell_type": "heading",
     "level": 2,
     "metadata": {},
     "source": [
      "Sorting and more"
     ]
    },
    {
     "cell_type": "markdown",
     "metadata": {},
     "source": [
      "a) Generate a 10 \u00d7 3 array of random numbers ($\\in [0, 1[$). For each row, pick\n",
      "the number closest to 0.5. Use ``abs`` and ``argmin`` to find the column $j$ closest for\n",
      "each row. Use advanced indexing to extract the numbers. (Hint: ``arr[i,j]`` \u2013 the array\n",
      "$i$ must contain the row numbers corresponding to stuff in $j$.)\n",
      "\n",
      "b) Find the two points closest using ``argsort``. Advanced: Look at ``argpartition``\n",
      "can you figure out how to improve the speed of your algorithm? Find the fastest method\n",
      "and test it on larger arrays!"
     ]
    },
    {
     "cell_type": "heading",
     "level": 3,
     "metadata": {},
     "source": [
      "Solution"
     ]
    },
    {
     "cell_type": "code",
     "collapsed": false,
     "input": [
      "# a)"
     ],
     "language": "python",
     "metadata": {},
     "outputs": [],
     "prompt_number": 15
    },
    {
     "cell_type": "code",
     "collapsed": false,
     "input": [
      "# b)"
     ],
     "language": "python",
     "metadata": {},
     "outputs": [],
     "prompt_number": 16
    },
    {
     "cell_type": "heading",
     "level": 1,
     "metadata": {},
     "source": [
      "Matplotlib Excercises"
     ]
    },
    {
     "cell_type": "code",
     "collapsed": false,
     "input": [
      "# Make the IPython notebook matplotlib aware:\n",
      "%matplotlib nbagg\n",
      "import matplotlib\n",
      "# And fix the default savefig dpi that ipython sets very low\n",
      "matplotlib.rcParams['savefig.dpi'] = 120  \n",
      "\n",
      "# Import the pyplot interface to matplotlib:\n",
      "from matplotlib import pyplot as plt"
     ],
     "language": "python",
     "metadata": {},
     "outputs": [],
     "prompt_number": 17
    },
    {
     "cell_type": "heading",
     "level": 2,
     "metadata": {},
     "source": [
      "Simple Plotting"
     ]
    },
    {
     "cell_type": "markdown",
     "metadata": {},
     "source": [
      "1. Plot a the sine function from 0 to 6 (inclusinve) using 50 points.\n",
      "2. Plot the line again in red and with diamond shaped markers of size 5.\n",
      "3. Now plot the line, but include a legend.\n",
      "\n",
      "*Helpful functions*: ``plt.plot``, ``plt.legend``, ``plt.grid``"
     ]
    },
    {
     "cell_type": "heading",
     "level": 3,
     "metadata": {},
     "source": [
      "Solution"
     ]
    },
    {
     "cell_type": "code",
     "collapsed": false,
     "input": [],
     "language": "python",
     "metadata": {},
     "outputs": [],
     "prompt_number": 17
    },
    {
     "cell_type": "code",
     "collapsed": false,
     "input": [],
     "language": "python",
     "metadata": {},
     "outputs": [],
     "prompt_number": 17
    },
    {
     "cell_type": "code",
     "collapsed": false,
     "input": [],
     "language": "python",
     "metadata": {},
     "outputs": [],
     "prompt_number": 17
    },
    {
     "cell_type": "heading",
     "level": 2,
     "metadata": {},
     "source": [
      "Simple Plotting II"
     ]
    },
    {
     "cell_type": "markdown",
     "metadata": {},
     "source": [
      "Try to recreate the following plot:\n",
      "<img src=pics/simple_plotting_2.svg width=600> </img>\n",
      "*Helpful functions:* ``plt.fill``, ``plt.fill between``"
     ]
    },
    {
     "cell_type": "heading",
     "level": 3,
     "metadata": {},
     "source": [
      "Solution"
     ]
    },
    {
     "cell_type": "code",
     "collapsed": false,
     "input": [],
     "language": "python",
     "metadata": {},
     "outputs": [],
     "prompt_number": 17
    },
    {
     "cell_type": "heading",
     "level": 1,
     "metadata": {},
     "source": [
      "Simple Tasks"
     ]
    },
    {
     "cell_type": "heading",
     "level": 2,
     "metadata": {},
     "source": [
      "Polynomial Fitting"
     ]
    },
    {
     "cell_type": "markdown",
     "metadata": {},
     "source": [
      "1. Generate data by a polynomial function $f(x) = -3x^3 + 2x - 8$\n",
      "2. Fit a polynomial (``np.polyfit()``) and recover the coefficients of the polynomial.\n",
      "3. Try the same procedure with noisy data. (use np.random.randn() to add noise to the data)"
     ]
    },
    {
     "cell_type": "heading",
     "level": 3,
     "metadata": {},
     "source": [
      "Solution"
     ]
    },
    {
     "cell_type": "code",
     "collapsed": false,
     "input": [],
     "language": "python",
     "metadata": {},
     "outputs": [],
     "prompt_number": 17
    },
    {
     "cell_type": "heading",
     "level": 2,
     "metadata": {},
     "source": [
      "Nonlinear Fitting"
     ]
    },
    {
     "cell_type": "markdown",
     "metadata": {},
     "source": [
      "1. Define the function $f(x) = e^{-ax} + b$\n",
      "2. Generate noisy data from that function with parameters $a = 2$, $b = 1.4$\n",
      "3. Make a simple plot of the data\n",
      "4. Use ``scipy.optimize.curve_fit()`` to estimate a and b from the data and plot the results."
     ]
    },
    {
     "cell_type": "heading",
     "level": 2,
     "metadata": {},
     "source": [
      "Solution"
     ]
    },
    {
     "cell_type": "code",
     "collapsed": false,
     "input": [],
     "language": "python",
     "metadata": {},
     "outputs": [],
     "prompt_number": 17
    },
    {
     "cell_type": "heading",
     "level": 1,
     "metadata": {},
     "source": [
      "Integration"
     ]
    },
    {
     "cell_type": "markdown",
     "metadata": {},
     "source": [
      "1. Define the function $f(x) = {e^{-(x+3)}}^2$. Make sure the function also accepts lists/array-likes.\n",
      "3. Calculate the integral $\\int_{-20}^{20} f(x)\\ dx$ by hand using Riemann sums.\n",
      "4. Use ``scipy.integrate.quad()`` to evaluate the integral.\n",
      "5. Try to calculate $\\int_1^{\\infty} \\frac{1}{x^2}\\ dx$ and $\\int_1^{\\infty} \\frac{1}{x}\\ dx$"
     ]
    },
    {
     "cell_type": "heading",
     "level": 3,
     "metadata": {},
     "source": [
      "Solution"
     ]
    },
    {
     "cell_type": "code",
     "collapsed": false,
     "input": [],
     "language": "python",
     "metadata": {},
     "outputs": [],
     "prompt_number": 17
    },
    {
     "cell_type": "heading",
     "level": 2,
     "metadata": {},
     "source": [
      "Solving Systems of Linear Equations"
     ]
    },
    {
     "cell_type": "markdown",
     "metadata": {},
     "source": [
      "You find three shopping bags with following content:\n",
      "\n",
      "* bag A: 10 kg apples, 5 kg pears, 1 kg oranges (35.35 EUR)\n",
      "* bag B: 1 kg apples, 8 kg pears, 1 kg oranges (24.91 EUR)\n",
      "* bag C: 9 kg apples, 3 kg pears, 5 kg oranges (40.38 EUR)\n",
      "\n",
      "Determine the price of apples, oranges and pears:\n",
      "1. Formulate a linear system of equations describing the shopping bags.\n",
      "2. Use ``scipy.linalg.solve()`` (or ``numpy.linalg``) to solve the system of equations.\n",
      "3. Verify the results by using ``np.dot()``."
     ]
    },
    {
     "cell_type": "heading",
     "level": 3,
     "metadata": {},
     "source": [
      "Solution"
     ]
    },
    {
     "cell_type": "code",
     "collapsed": false,
     "input": [],
     "language": "python",
     "metadata": {},
     "outputs": [],
     "prompt_number": 17
    },
    {
     "cell_type": "heading",
     "level": 2,
     "metadata": {},
     "source": [
      "Some Linear Algebra"
     ]
    },
    {
     "cell_type": "markdown",
     "metadata": {},
     "source": [
      "1. Create a random matrix, where the entries are randomly chosen from a standard\n",
      "normal (Gaussian) distribution.\n",
      "2. Plot the (complex!) eigenvalues of that matrix, add labels to the axis and a\n",
      "legend.\n",
      "3. Add a title for your plot and make it red and increase the size.\n",
      "4. Store your graph as an ``.pdf``. It should look something like this:\n",
      "    <img src=\"pics/matrix1.svg\">\n",
      "\n",
      "5. Define a function that returns True if a point (x, y) is contained in a circle of\n",
      "radius r around the origin. Make sure it works for array inputs.\n",
      "6. Define a function to find the smallest circle containing all the eigenvalues of your\n",
      "matrix.\n",
      "7. Plot the eigenvalues for a matrix of size N = 50, 100, 200, 500 together with the\n",
      "smallest disc containing the eigenvalues. Therefore first import the matplotlib\n",
      "module ``matplotlib.patch`` and have a look at the classes contained in that mod-\n",
      "ule. Having identified a suitable class create a patch (a circle) and try to add it\n",
      "to your plot. (*Hint:* Patches can be added to axes objects)\n",
      "    <img src=\"pics/matrix2.svg\">"
     ]
    },
    {
     "cell_type": "code",
     "collapsed": false,
     "input": [],
     "language": "python",
     "metadata": {},
     "outputs": [],
     "prompt_number": 17
    },
    {
     "cell_type": "heading",
     "level": 2,
     "metadata": {},
     "source": [
      "Basic Statistics"
     ]
    },
    {
     "cell_type": "markdown",
     "metadata": {},
     "source": [
      "1. Define a 1D Gaussian probability density function with $\\mu = 10$ and $\\sigma = 5$ using the formula\n",
      "   $$\\frac{1}{\\sqrt{2\\pi} \\cdot \\sigma} \\exp\\left(-\\frac{(x-\\mu)^2}{2\\sigma^2} \\right)$$\n",
      "2. Confirm that the integral of this function is approximatly 1.\n",
      "3. Instead of defining the distribution yourself, now use *only* ``scipy.stats.norm`` to:\n",
      "   1. Draw 1000 samples. And plot a histogram using matplotlib.\n",
      "   2. Do a maximum likelyhood estimation to find the parameters of the gaussian\n",
      "   from the random samples.\n",
      "   (For a gaussian these are just the mean and standard deviation, but use\n",
      "    ``scipy.stats.norm`` instead of calculating these yourself)\n",
      "   3. Add both the estimated and the real Gaussian to the plot. If the histogram is not normed correctly already,\n",
      "   norm it to fit the lines (see the histogram documentation).\n",
      "   4. Find the points that include 90% around the mean in the original distribution.\n",
      "   And confirm that these include 90% using both the comulative distribution function (``cdf``) and the original integration method."
     ]
    },
    {
     "cell_type": "heading",
     "level": 3,
     "metadata": {},
     "source": [
      "Solution"
     ]
    },
    {
     "cell_type": "code",
     "collapsed": false,
     "input": [],
     "language": "python",
     "metadata": {},
     "outputs": [],
     "prompt_number": 17
    },
    {
     "cell_type": "heading",
     "level": 2,
     "metadata": {},
     "source": [
      "Power Spectrum Analaysis"
     ]
    },
    {
     "cell_type": "markdown",
     "metadata": {},
     "source": [
      "A way to look at a signal is to view its spectral density (i.e., the Fourier transform of\n",
      "the signal). The Fourier transform views the signal as a whole. It swaps the dimension\n",
      "of time with the dimension of frequency. One can think of the Fourier transform as a\n",
      "combination of slow and fast oscillations with different amplitude. A very strong and\n",
      "slow component in the frequency domain implies that there is a high correlation between\n",
      "the large-scale pieces of the signal in time (macro-structures), while a very strong and\n",
      "fast oscillation implies correlation in the micro-structures. Therefore, if our signal $f(t)$\n",
      "represents values in every single moment of time, its Fourier transform $F(\\omega)$ represents\n",
      "the strength of every oscillation in a holistic way in that chunk of Z time. These two\n",
      "signals are related to each other by the following formula:\n",
      "$$ F(\\omega) = \\int_{-\\infty}^\\infty f(t) e^{-i\\omega t} $$\n",
      "\n",
      "For simplicity, in the following we will consider a signal that is constructed by summing\n",
      "different sine waves and try to get information about the underlying frequencies.\n",
      "\n",
      "1. Construct a 20 seconds long signal samples at 1kHz by adding 20 sine waves with a\n",
      "   frequency randomly choosen from the interval [1Hz, 300Hz] (no phase shift is necessary).\n",
      "   Add some gaussian noise to the signal.\n",
      "2. Plot the signal in the interval t = 0, ..., 2s.\n",
      "3. Use numpy to calculate the one-dimensional discrete Fourier Transform.\n",
      "4. The square of the absolute value of the fourier transform gives you the power\n",
      "   carried by each frequency (power spectrum). To calculate the Fourier transform\n",
      "   sample frequencies you can also use a numpy function - have a look at the documentation\n",
      "   of the ``numpy.fft`` module. Plot the power spectrum logarithmically\n",
      "   and also indicate the frequencies that were used for generating the data.\n",
      "5. *** Add a plot of the original time series to the plot of the power spectrum. To\n",
      "   generate the subplot you can add an axes object directly to the figure. If you\n",
      "   don\u2019t know how to do that have a look at the documentation of matplotlib or the\n",
      "   examples in the gallery (http://matplotlib.sourceforge.net/gallery.html).***"
     ]
    },
    {
     "cell_type": "heading",
     "level": 3,
     "metadata": {},
     "source": [
      "Solution"
     ]
    },
    {
     "cell_type": "code",
     "collapsed": false,
     "input": [],
     "language": "python",
     "metadata": {},
     "outputs": [],
     "prompt_number": 17
    },
    {
     "cell_type": "heading",
     "level": 2,
     "metadata": {},
     "source": [
      "Vectorization of a Monte-Carlo Simulation"
     ]
    },
    {
     "cell_type": "markdown",
     "metadata": {},
     "source": [
      "Recall the dice-simulation from the basic-exercise sheet. The goal of the current exercise\n",
      "is to optimize this program using vectorization.\n",
      "\n",
      "1. Create a function that draws N-times two uniform random integers from 1 to 6 and\n",
      "counts how many times X at least one of the two takes the value 6. Do this in a\n",
      "single N \u00d7 2 matrix.\n",
      "2. Run this simulation for growing N and plot the estimated probability as a function\n",
      "of N. Try to use linear and logarithmic axis. Include the exact value of 11/36.\n",
      "3. Repeat the dice throwing Z times for a fixed value of N and plot a histogram of\n",
      "the number of throws with at least one six (e.g. for N = 1000, Z = 10000).\n",
      "The data are integers, so choose a bin width of 1 or use integer functions such as `np.bincount`.\n",
      "Further print out the mean value and the standard deviation.\n",
      "5. As above repeat the dice throwing for a fixed number N of dice throws Z times\n",
      "and calculate the probability to get at least one six with the two dices. From this\n",
      "data you can calculate the empirical average and standard deviation for every\n",
      "pair of N and Z. Make an error-bar plot for N = 1, . . . , 20 and Z = 5000."
     ]
    },
    {
     "cell_type": "heading",
     "level": 3,
     "metadata": {},
     "source": [
      "Solution"
     ]
    },
    {
     "cell_type": "code",
     "collapsed": false,
     "input": [],
     "language": "python",
     "metadata": {},
     "outputs": [],
     "prompt_number": 17
    },
    {
     "cell_type": "heading",
     "level": 1,
     "metadata": {},
     "source": [
      "Integration"
     ]
    },
    {
     "cell_type": "heading",
     "level": 2,
     "metadata": {},
     "source": [
      "Lotka-Volterra System"
     ]
    },
    {
     "cell_type": "markdown",
     "metadata": {},
     "source": [
      "Consider the Lotka-Volterra equation of predator-prey interactions\n",
      "$$\n",
      "\\frac{\\text{d}N_1}{\\text{d}t} = N_1 \\cdot (\\varepsilon_1 - \\gamma_1 N_2), \\\\\n",
      "\\frac{\\text{d}N_2}{\\text{d}t} = -N_2 \\cdot (\\varepsilon_2 - \\gamma_2 N_1)\n",
      "$$\n",
      "This is a system of ordinary differential equations, where $N_1(t)$ is the number of preys\n",
      "and $N_2(t)$ the number of predators. $\\varepsilon_1, \\varepsilon_2, \\gamma_1, \\gamma_2$ are parameters representing the growth\n",
      "and interaction between preys and predators.\n",
      "\n",
      "  1. Find the fixed points of the system for the parameters $\\varepsilon_1=1.0, \\varepsilon_2=1.5, \\gamma_1=0.1, \\gamma_2=0.075$.\n",
      "     * Define a function that returns the growing rates $\\frac{\\text{d}N_1}{\\text{d}t}$ and $\\frac{\\text{d}N_2}{\\text{d}t}$\n",
      "       in an array. In the second part of the exercise, we will use `scipy.integrate.odeint()` to\n",
      "       obtain the solution of the ODE system. Therefore, choose the parameters of\n",
      "       your function accordingly, $f = f(N, t, \\dots)$.\n",
      "     * Use `scipy.optimize.fsolve` to find the fixed points of the system.\n",
      "  2. Solve the system of equations for the following initial conditions $N_1(0) = 10,\\ N_2(0) = 5$.\n",
      "     * Define a vector containing the time steps of the integration and one for the initial conditions.\n",
      "     * Solve the system using `scipy.integrate.odeint()`\n",
      "     * Lower the precision of the integrator until you see a difference after many periods. The integrator\n",
      "       has multiple options for precision control. Also the number of steps can have an effect on the result.\n",
      "  3. *Bonus (no solution)*: Also try `scipy.integrate.ode` which provides different integrators but requires manual looping\n",
      "     (this is not a big speed issue, integrating in python is pretty slow in any case).\n",
      "   "
     ]
    },
    {
     "cell_type": "heading",
     "level": 3,
     "metadata": {},
     "source": [
      "Solution"
     ]
    },
    {
     "cell_type": "code",
     "collapsed": false,
     "input": [],
     "language": "python",
     "metadata": {},
     "outputs": [],
     "prompt_number": 17
    }
   ],
   "metadata": {}
  }
 ]
}