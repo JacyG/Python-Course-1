{
 "metadata": {
  "name": "",
  "signature": "sha256:e6aef461c6cba534b5811c8e581d8f87b0d41b1c2edb9e3155fc29e2c162519c"
 },
 "nbformat": 3,
 "nbformat_minor": 0,
 "worksheets": [
  {
   "cells": [
    {
     "cell_type": "raw",
     "metadata": {
      "slideshow": {
       "slide_type": "skip"
      }
     },
     "source": [
      "start slideshow with: ipython3 nbconvert examples.ipynb --to slides --post serve"
     ]
    },
    {
     "cell_type": "heading",
     "level": 1,
     "metadata": {
      "slideshow": {
       "slide_type": "slide"
      }
     },
     "source": [
      "Arrays, indexing, slicing, reshaping"
     ]
    },
    {
     "cell_type": "code",
     "collapsed": false,
     "input": [
      "import numpy as np\n",
      "\n",
      "a = np.arange(5)\n",
      "b = a\n",
      "c = a[::-1]\n",
      "d = a[::-1].copy() #same as np.array(a)\n",
      "print('a =',a,'b =',b,'c =',c,'d =',d)"
     ],
     "language": "python",
     "metadata": {
      "slideshow": {
       "slide_type": "slide"
      }
     },
     "outputs": [
      {
       "output_type": "stream",
       "stream": "stdout",
       "text": [
        "('a =', array([0, 1, 2, 3, 4]), 'b =', array([0, 1, 2, 3, 4]), 'c =', array([4, 3, 2, 1, 0]), 'd =', array([4, 3, 2, 1, 0]))\n"
       ]
      }
     ],
     "prompt_number": 1
    },
    {
     "cell_type": "code",
     "collapsed": false,
     "input": [
      "b[0] = 23\n",
      "print 'a =',a,'b =',b,'c =',c,'d =',d"
     ],
     "language": "python",
     "metadata": {
      "slideshow": {
       "slide_type": "fragment"
      }
     },
     "outputs": [
      {
       "output_type": "stream",
       "stream": "stdout",
       "text": [
        "a = [23  1  2  3  4] b = [23  1  2  3  4] c = [ 4  3  2  1 23] d = [4 3 2 1 0]\n"
       ]
      }
     ],
     "prompt_number": 2
    },
    {
     "cell_type": "code",
     "collapsed": false,
     "input": [
      "a = np.arange(4)\n",
      "b = a[:2]\n",
      "a.resize(3,3)#,refcheck=False)\n",
      "print('a =\\n', a)\n",
      "print('b =\\n', b)"
     ],
     "language": "python",
     "metadata": {
      "slideshow": {
       "slide_type": "fragment"
      }
     },
     "outputs": [
      {
       "ename": "ValueError",
       "evalue": "cannot resize an array references or is referenced\nby another array in this way.  Use the resize function",
       "output_type": "pyerr",
       "traceback": [
        "\u001b[1;31m---------------------------------------------------------------------------\u001b[0m\n\u001b[1;31mValueError\u001b[0m                                Traceback (most recent call last)",
        "\u001b[1;32m<ipython-input-6-27894e264138>\u001b[0m in \u001b[0;36m<module>\u001b[1;34m()\u001b[0m\n\u001b[0;32m      1\u001b[0m \u001b[0ma\u001b[0m \u001b[1;33m=\u001b[0m \u001b[0mnp\u001b[0m\u001b[1;33m.\u001b[0m\u001b[0marange\u001b[0m\u001b[1;33m(\u001b[0m\u001b[1;36m4\u001b[0m\u001b[1;33m)\u001b[0m\u001b[1;33m\u001b[0m\u001b[0m\n\u001b[0;32m      2\u001b[0m \u001b[0mb\u001b[0m \u001b[1;33m=\u001b[0m \u001b[0ma\u001b[0m\u001b[1;33m[\u001b[0m\u001b[1;33m:\u001b[0m\u001b[1;36m2\u001b[0m\u001b[1;33m]\u001b[0m\u001b[1;33m\u001b[0m\u001b[0m\n\u001b[1;32m----> 3\u001b[1;33m \u001b[0ma\u001b[0m\u001b[1;33m.\u001b[0m\u001b[0mresize\u001b[0m\u001b[1;33m(\u001b[0m\u001b[1;36m3\u001b[0m\u001b[1;33m,\u001b[0m\u001b[1;36m3\u001b[0m\u001b[1;33m)\u001b[0m\u001b[1;31m#,refcheck=False)\u001b[0m\u001b[1;33m\u001b[0m\u001b[0m\n\u001b[0m\u001b[0;32m      4\u001b[0m \u001b[1;32mprint\u001b[0m\u001b[1;33m(\u001b[0m\u001b[1;34m'a =\\n'\u001b[0m\u001b[1;33m,\u001b[0m \u001b[0ma\u001b[0m\u001b[1;33m)\u001b[0m\u001b[1;33m\u001b[0m\u001b[0m\n\u001b[0;32m      5\u001b[0m \u001b[1;32mprint\u001b[0m\u001b[1;33m(\u001b[0m\u001b[1;34m'b =\\n'\u001b[0m\u001b[1;33m,\u001b[0m \u001b[0mb\u001b[0m\u001b[1;33m)\u001b[0m\u001b[1;33m\u001b[0m\u001b[0m\n",
        "\u001b[1;31mValueError\u001b[0m: cannot resize an array references or is referenced\nby another array in this way.  Use the resize function"
       ]
      }
     ],
     "prompt_number": 6
    },
    {
     "cell_type": "code",
     "collapsed": false,
     "input": [
      "    "
     ],
     "language": "python",
     "metadata": {},
     "outputs": [],
     "prompt_number": 6
    },
    {
     "cell_type": "heading",
     "level": 1,
     "metadata": {
      "slideshow": {
       "slide_type": "skip"
      }
     },
     "source": [
      "Animation (simple)"
     ]
    },
    {
     "cell_type": "code",
     "collapsed": false,
     "input": [
      "import time\n",
      "import numpy as np\n",
      "import pylab as pl\n",
      "%matplotlib gtk\n",
      "\n",
      "xdata = np.arange(0,6*np.pi,0.01)\n",
      "func = lambda x,p: np.sin(p)*np.sin(x)\n",
      "line, = pl.plot(xdata,func(xdata,0))       #keep reference to the Line2D-object!\n",
      "pl.ylim(-1.5,1.5)                          #autoscaling doesn't know that the y-values change.\n",
      "for value in np.arange(0,7,0.1):\n",
      "        line.set_ydata(func(xdata,value))  #update the ydata of the line\n",
      "        pl.draw()\n",
      "        time.sleep(0.05)"
     ],
     "language": "python",
     "metadata": {
      "slideshow": {
       "slide_type": "skip"
      }
     },
     "outputs": [],
     "prompt_number": 7
    },
    {
     "cell_type": "heading",
     "level": 1,
     "metadata": {
      "slideshow": {
       "slide_type": "skip"
      }
     },
     "source": [
      "Animation (pro)"
     ]
    },
    {
     "cell_type": "code",
     "collapsed": false,
     "input": [
      "import numpy as np\n",
      "import pylab as pl\n",
      "%matplotlib gtk\n",
      "import matplotlib.animation as animation\n",
      "\n",
      "fig = pl.figure()\n",
      "pl.ylim(-1.5,1.5)\n",
      "xdata = np.arange(0,6*np.pi,0.01)\n",
      "func = lambda x,p: np.sin(p)*np.sin(x)\n",
      "line, = pl.plot(xdata,func(xdata,0))\n",
      "\n",
      "def update(i):\n",
      "    line.set_ydata(func(xdata,0.1*i))\n",
      "    return line\n",
      "\n",
      "swinging_sine = animation.FuncAnimation(fig,update,frames=1000,interval=50)\n",
      "pl.show()\n",
      "#swinging_sine.save('swinging_sine.mp4')\n"
     ],
     "language": "python",
     "metadata": {
      "slideshow": {
       "slide_type": "skip"
      }
     },
     "outputs": []
    },
    {
     "cell_type": "heading",
     "level": 1,
     "metadata": {
      "slideshow": {
       "slide_type": "slide"
      }
     },
     "source": [
      "Scipy: Curve Fitting"
     ]
    },
    {
     "cell_type": "code",
     "collapsed": false,
     "input": [
      "import numpy as np\n",
      "import pylab as pl\n",
      "%matplotlib inline\n",
      "\n",
      "def func(x, a, b):\n",
      "    return a*np.log(x) + b\n",
      "xdata = np.arange(1,20,0.1)\n",
      "y = func(xdata, 1.5, 1.25)\n",
      "ydata = y + 0.3 * np.random.normal(size=len(xdata))\n",
      "pl.plot(xdata,ydata,'o')"
     ],
     "language": "python",
     "metadata": {
      "slideshow": {
       "slide_type": "fragment"
      }
     },
     "outputs": []
    },
    {
     "cell_type": "code",
     "collapsed": false,
     "input": [
      "from scipy.optimize import curve_fit\n",
      "\n",
      "def func(x, a, b):\n",
      "    return a*np.log(x) + b\n",
      "\n",
      "popt, pcov = curve_fit(func, xdata, ydata)\n",
      "a,b = popt\n",
      "\n",
      "pl.plot(xdata,ydata,'o')\n",
      "pl.plot(xdata,func(xdata,a,b),'r',lw=3)"
     ],
     "language": "python",
     "metadata": {
      "slideshow": {
       "slide_type": "slide"
      }
     },
     "outputs": []
    }
   ],
   "metadata": {}
  }
 ]
}