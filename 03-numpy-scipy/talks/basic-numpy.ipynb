{
 "metadata": {
  "celltoolbar": "Slideshow",
  "name": "",
  "signature": "sha256:bbcecf3ffcf404d75950d57b29540be839b93b9f18f6e4505fbdf77589111cdb"
 },
 "nbformat": 3,
 "nbformat_minor": 0,
 "worksheets": [
  {
   "cells": [
    {
     "cell_type": "markdown",
     "metadata": {
      "slideshow": {
       "slide_type": "skip"
      }
     },
     "source": [
      "Run using ``ipython3 nbconvert --to slides --post serve basic-numpy.ipynb``"
     ]
    },
    {
     "cell_type": "code",
     "collapsed": false,
     "input": [
      "# For easier python 2 compatibility:\n",
      "from __future__ import division, print_function, absolute_import\n",
      "\n",
      "# Normal imports:\n",
      "import numpy as np"
     ],
     "language": "python",
     "metadata": {
      "slideshow": {
       "slide_type": "skip"
      }
     },
     "outputs": [],
     "prompt_number": 1
    },
    {
     "cell_type": "heading",
     "level": 1,
     "metadata": {
      "slideshow": {
       "slide_type": "slide"
      }
     },
     "source": [
      "Introduction to the scientific python stack"
     ]
    },
    {
     "cell_type": "markdown",
     "metadata": {
      "slideshow": {
       "slide_type": "slide"
      }
     },
     "source": [
      "Basic module NumPy\n",
      "==================\n",
      "  * Basis for scientific computing with Python\n",
      "  * A powerfull N-dimension array object\n",
      "  * Basic and not so basic math operations\n",
      "  * Linear algebra operations\n",
      "  * _Normally_ homogenous data (i.e. numbers)\n",
      "  * random numbers, FFT, sorting, \u2026\n",
      "\n",
      "Convention\n",
      "----------"
     ]
    },
    {
     "cell_type": "code",
     "collapsed": false,
     "input": [
      "import numpy as np"
     ],
     "language": "python",
     "metadata": {
      "slideshow": {
       "slide_type": "-"
      }
     },
     "outputs": [],
     "prompt_number": 2
    },
    {
     "cell_type": "heading",
     "level": 1,
     "metadata": {
      "slideshow": {
       "slide_type": "slide"
      }
     },
     "source": [
      "Numpy is useful"
     ]
    },
    {
     "cell_type": "markdown",
     "metadata": {
      "slideshow": {
       "slide_type": "-"
      }
     },
     "source": [
      "* Homogenous data:\n",
      "  - Experimental data sets\n",
      "  - Simulations\n",
      "  - \u2026\n",
      "\n",
      "   **For example**:"
     ]
    },
    {
     "cell_type": "code",
     "collapsed": false,
     "input": [
      "x = np.linspace(0, 9, 1001)\n",
      "print(x[::200])"
     ],
     "language": "python",
     "metadata": {},
     "outputs": [
      {
       "output_type": "stream",
       "stream": "stdout",
       "text": [
        "[ 0.   1.8  3.6  5.4  7.2  9. ]\n"
       ]
      }
     ],
     "prompt_number": 3
    },
    {
     "cell_type": "code",
     "collapsed": false,
     "input": [
      "print(np.sqrt(x)[::200])"
     ],
     "language": "python",
     "metadata": {},
     "outputs": [
      {
       "output_type": "stream",
       "stream": "stdout",
       "text": [
        "[ 0.          1.34164079  1.8973666   2.32379001  2.68328157  3.        ]\n"
       ]
      }
     ],
     "prompt_number": 4
    },
    {
     "cell_type": "markdown",
     "metadata": {
      "slideshow": {
       "slide_type": "subslide"
      }
     },
     "source": [
      "NumPy can be much faster (typically $\\approx 50\\times$):"
     ]
    },
    {
     "cell_type": "code",
     "collapsed": false,
     "input": [
      "%%timeit\n",
      "numpy_result = np.sqrt(x)"
     ],
     "language": "python",
     "metadata": {},
     "outputs": [
      {
       "output_type": "stream",
       "stream": "stdout",
       "text": [
        "100000 loops, best of 3: 4.28 \u00b5s per loop\n"
       ]
      }
     ],
     "prompt_number": 5
    },
    {
     "cell_type": "code",
     "collapsed": false,
     "input": [
      "from math import sqrt\n",
      "x = list(x)"
     ],
     "language": "python",
     "metadata": {},
     "outputs": [],
     "prompt_number": 6
    },
    {
     "cell_type": "code",
     "collapsed": false,
     "input": [
      "%%timeit\n",
      "python_result = [sqrt(value) for value in x]"
     ],
     "language": "python",
     "metadata": {},
     "outputs": [
      {
       "output_type": "stream",
       "stream": "stdout",
       "text": [
        "10000 loops, best of 3: 95.5 \u00b5s per loop\n"
       ]
      }
     ],
     "prompt_number": 7
    },
    {
     "cell_type": "markdown",
     "metadata": {},
     "source": [
      "(The actual speedup depends, but it can be much more for simple operations like $\\times, +$)"
     ]
    },
    {
     "cell_type": "heading",
     "level": 1,
     "metadata": {
      "slideshow": {
       "slide_type": "slide"
      }
     },
     "source": [
      "Arrays are N-Dimensional (``ndarray``)"
     ]
    },
    {
     "cell_type": "markdown",
     "metadata": {
      "slideshow": {
       "slide_type": "-"
      }
     },
     "source": [
      "A bit like nested lists:"
     ]
    },
    {
     "cell_type": "heading",
     "level": 2,
     "metadata": {},
     "source": [
      "0 Dimensional"
     ]
    },
    {
     "cell_type": "code",
     "collapsed": false,
     "input": [
      "arr = np.array(5)\n",
      "# although 0-d arrays are sometimes a bit special :(\n",
      "print(arr)\n",
      "print('The dimension is:', arr.ndim)\n",
      "print('The shape is:', arr.shape)"
     ],
     "language": "python",
     "metadata": {
      "slideshow": {
       "slide_type": "-"
      }
     },
     "outputs": [
      {
       "output_type": "stream",
       "stream": "stdout",
       "text": [
        "5\n",
        "The dimension is: 0\n",
        "The shape is: ()\n"
       ]
      }
     ],
     "prompt_number": 8
    },
    {
     "cell_type": "heading",
     "level": 2,
     "metadata": {
      "slideshow": {
       "slide_type": "subslide"
      }
     },
     "source": [
      "1 Dimensional"
     ]
    },
    {
     "cell_type": "code",
     "collapsed": false,
     "input": [
      "arr = np.array([4, 5, 6])\n",
      "print(arr)\n",
      "print('The dimension is:', arr.ndim)\n",
      "print('The shape is:', arr.shape)"
     ],
     "language": "python",
     "metadata": {
      "slideshow": {
       "slide_type": "-"
      }
     },
     "outputs": [
      {
       "output_type": "stream",
       "stream": "stdout",
       "text": [
        "[4 5 6]\n",
        "The dimension is: 1\n",
        "The shape is: (3,)\n"
       ]
      }
     ],
     "prompt_number": 9
    },
    {
     "cell_type": "heading",
     "level": 2,
     "metadata": {
      "slideshow": {
       "slide_type": "subslide"
      }
     },
     "source": [
      "2 Dimensional"
     ]
    },
    {
     "cell_type": "code",
     "collapsed": false,
     "input": [
      "arr = np.array([[1, 2],\n",
      "                [3, 4],\n",
      "                [5, 6]])\n",
      "print(arr)\n",
      "print('The dimension is:', arr.ndim)\n",
      "print('The shape is:', arr.shape)"
     ],
     "language": "python",
     "metadata": {
      "slideshow": {
       "slide_type": "-"
      }
     },
     "outputs": [
      {
       "output_type": "stream",
       "stream": "stdout",
       "text": [
        "[[1 2]\n",
        " [3 4]\n",
        " [5 6]]\n",
        "The dimension is: 2\n",
        "The shape is: (3, 2)\n"
       ]
      }
     ],
     "prompt_number": 10
    },
    {
     "cell_type": "heading",
     "level": 2,
     "metadata": {
      "slideshow": {
       "slide_type": "subslide"
      }
     },
     "source": [
      "3 Dimensional"
     ]
    },
    {
     "cell_type": "code",
     "collapsed": false,
     "input": [
      "arr = np.array([[[1, 2],\n",
      "                 [2, 3]],\n",
      "                [[4, 5],\n",
      "                 [8, 9]]])\n",
      "print('The dimension is:', arr.ndim)\n",
      "print('The shape is:', arr.shape)"
     ],
     "language": "python",
     "metadata": {
      "slideshow": {
       "slide_type": "-"
      }
     },
     "outputs": [
      {
       "output_type": "stream",
       "stream": "stdout",
       "text": [
        "The dimension is: 3\n",
        "The shape is: (2, 2, 2)\n"
       ]
      }
     ],
     "prompt_number": 11
    },
    {
     "cell_type": "heading",
     "level": 1,
     "metadata": {
      "slideshow": {
       "slide_type": "slide"
      }
     },
     "source": [
      "Array creation"
     ]
    },
    {
     "cell_type": "heading",
     "level": 2,
     "metadata": {},
     "source": [
      "Homogeneous arrays"
     ]
    },
    {
     "cell_type": "code",
     "collapsed": false,
     "input": [
      "arr = np.zeros((3, 4))\n",
      "print(repr(arr))\n",
      "print('Shape:', arr.shape)"
     ],
     "language": "python",
     "metadata": {},
     "outputs": [
      {
       "output_type": "stream",
       "stream": "stdout",
       "text": [
        "array([[ 0.,  0.,  0.,  0.],\n",
        "       [ 0.,  0.,  0.,  0.],\n",
        "       [ 0.,  0.,  0.,  0.]])\n",
        "Shape: (3, 4)\n"
       ]
      }
     ],
     "prompt_number": 12
    },
    {
     "cell_type": "code",
     "collapsed": false,
     "input": [
      "np.zeros(3, dtype=np.int64)"
     ],
     "language": "python",
     "metadata": {},
     "outputs": [
      {
       "metadata": {},
       "output_type": "pyout",
       "prompt_number": 13,
       "text": [
        "array([0, 0, 0])"
       ]
      }
     ],
     "prompt_number": 13
    },
    {
     "cell_type": "code",
     "collapsed": false,
     "input": [
      "np.full((1,3), 5)"
     ],
     "language": "python",
     "metadata": {},
     "outputs": [
      {
       "metadata": {},
       "output_type": "pyout",
       "prompt_number": 14,
       "text": [
        "array([[ 5.,  5.,  5.]])"
       ]
      }
     ],
     "prompt_number": 14
    },
    {
     "cell_type": "markdown",
     "metadata": {},
     "source": [
      "Check ``help(np.zeros)``, etc. for other handy variations."
     ]
    },
    {
     "cell_type": "heading",
     "level": 2,
     "metadata": {
      "slideshow": {
       "slide_type": "subslide"
      }
     },
     "source": [
      "Special one dimensional arrays"
     ]
    },
    {
     "cell_type": "markdown",
     "metadata": {},
     "source": [
      "Ranges for float and integer arrays"
     ]
    },
    {
     "cell_type": "code",
     "collapsed": false,
     "input": [
      "np.linspace(0, 3, 7)"
     ],
     "language": "python",
     "metadata": {},
     "outputs": [
      {
       "metadata": {},
       "output_type": "pyout",
       "prompt_number": 15,
       "text": [
        "array([ 0. ,  0.5,  1. ,  1.5,  2. ,  2.5,  3. ])"
       ]
      }
     ],
     "prompt_number": 15
    },
    {
     "cell_type": "code",
     "collapsed": false,
     "input": [
      "np.arange(10)  # much like pythons range"
     ],
     "language": "python",
     "metadata": {},
     "outputs": [
      {
       "metadata": {},
       "output_type": "pyout",
       "prompt_number": 16,
       "text": [
        "array([0, 1, 2, 3, 4, 5, 6, 7, 8, 9])"
       ]
      }
     ],
     "prompt_number": 16
    },
    {
     "cell_type": "markdown",
     "metadata": {},
     "source": [
      "<font color='red'>Note:</font> Please do not use ``arange`` for floats!"
     ]
    },
    {
     "cell_type": "heading",
     "level": 3,
     "metadata": {},
     "source": [
      "N-Dimensional versions:"
     ]
    },
    {
     "cell_type": "markdown",
     "metadata": {},
     "source": [
      "  * ```np.meshgrid; np.ogrid; np.mgrid```"
     ]
    },
    {
     "cell_type": "heading",
     "level": 2,
     "metadata": {
      "slideshow": {
       "slide_type": "subslide"
      }
     },
     "source": [
      "Random arrays"
     ]
    },
    {
     "cell_type": "markdown",
     "metadata": {
      "slideshow": {
       "slide_type": "-"
      }
     },
     "source": [
      "Draw from the interval $[0, 1[$:"
     ]
    },
    {
     "cell_type": "code",
     "collapsed": false,
     "input": [
      "np.random.random((1, 5))"
     ],
     "language": "python",
     "metadata": {},
     "outputs": [
      {
       "metadata": {},
       "output_type": "pyout",
       "prompt_number": 17,
       "text": [
        "array([[ 0.12599837,  0.52248771,  0.42743615,  0.57732428,  0.68467417]])"
       ]
      }
     ],
     "prompt_number": 17
    },
    {
     "cell_type": "markdown",
     "metadata": {},
     "source": [
      "Draw from a normal distribution with mean 2 and standard deviation 3:"
     ]
    },
    {
     "cell_type": "code",
     "collapsed": false,
     "input": [
      "np.random.normal(loc=2, scale=3, size=(1, 5)) "
     ],
     "language": "python",
     "metadata": {},
     "outputs": [
      {
       "metadata": {},
       "output_type": "pyout",
       "prompt_number": 18,
       "text": [
        "array([[ 0.81763492, -0.82419111,  5.97136837,  2.38575683,  4.28503481]])"
       ]
      }
     ],
     "prompt_number": 18
    },
    {
     "cell_type": "markdown",
     "metadata": {},
     "source": [
      "* And many more, check ``np.random.<tab>``!"
     ]
    },
    {
     "cell_type": "markdown",
     "metadata": {},
     "source": [
      "<font color='red'>Note:</font> ``np.random.seed()`` makes sure you get the same numbers. Using ``np.random.RandomState`` is often even better."
     ]
    },
    {
     "cell_type": "heading",
     "level": 2,
     "metadata": {
      "slideshow": {
       "slide_type": "subslide"
      }
     },
     "source": [
      "Special arrays"
     ]
    },
    {
     "cell_type": "code",
     "collapsed": false,
     "input": [
      "np.eye(3)"
     ],
     "language": "python",
     "metadata": {},
     "outputs": [
      {
       "metadata": {},
       "output_type": "pyout",
       "prompt_number": 19,
       "text": [
        "array([[ 1.,  0.,  0.],\n",
        "       [ 0.,  1.,  0.],\n",
        "       [ 0.,  0.,  1.]])"
       ]
      }
     ],
     "prompt_number": 19
    },
    {
     "cell_type": "code",
     "collapsed": false,
     "input": [
      "np.diag([1, 5, 2], k=1)"
     ],
     "language": "python",
     "metadata": {},
     "outputs": [
      {
       "metadata": {},
       "output_type": "pyout",
       "prompt_number": 20,
       "text": [
        "array([[0, 1, 0, 0],\n",
        "       [0, 0, 5, 0],\n",
        "       [0, 0, 0, 2],\n",
        "       [0, 0, 0, 0]])"
       ]
      }
     ],
     "prompt_number": 20
    },
    {
     "cell_type": "markdown",
     "metadata": {},
     "source": [
      "And many many more\u2026"
     ]
    },
    {
     "cell_type": "heading",
     "level": 1,
     "metadata": {
      "slideshow": {
       "slide_type": "slide"
      }
     },
     "source": [
      "Lets do math!"
     ]
    },
    {
     "cell_type": "markdown",
     "metadata": {
      "slideshow": {
       "slide_type": "-"
      }
     },
     "source": [
      " * Math is **elementwise** (unlike lists)"
     ]
    },
    {
     "cell_type": "code",
     "collapsed": false,
     "input": [
      "arr = np.linspace(-1, 1, 5)\n",
      "# 5 steps from -1 to 1 (including both)\n",
      "print(arr)"
     ],
     "language": "python",
     "metadata": {
      "slideshow": {
       "slide_type": "-"
      }
     },
     "outputs": [
      {
       "output_type": "stream",
       "stream": "stdout",
       "text": [
        "[-1.  -0.5  0.   0.5  1. ]\n"
       ]
      }
     ],
     "prompt_number": 21
    },
    {
     "cell_type": "code",
     "collapsed": false,
     "input": [
      "print(arr + 1)"
     ],
     "language": "python",
     "metadata": {},
     "outputs": [
      {
       "output_type": "stream",
       "stream": "stdout",
       "text": [
        "[ 0.   0.5  1.   1.5  2. ]\n"
       ]
      }
     ],
     "prompt_number": 22
    },
    {
     "cell_type": "heading",
     "level": 2,
     "metadata": {
      "slideshow": {
       "slide_type": "subslide"
      }
     },
     "source": [
      "Unary functions"
     ]
    },
    {
     "cell_type": "code",
     "collapsed": false,
     "input": [
      "np.sin(arr)"
     ],
     "language": "python",
     "metadata": {},
     "outputs": [
      {
       "metadata": {},
       "output_type": "pyout",
       "prompt_number": 23,
       "text": [
        "array([-0.84147098, -0.47942554,  0.        ,  0.47942554,  0.84147098])"
       ]
      }
     ],
     "prompt_number": 23
    },
    {
     "cell_type": "code",
     "collapsed": false,
     "input": [
      "arr**2"
     ],
     "language": "python",
     "metadata": {},
     "outputs": [
      {
       "metadata": {},
       "output_type": "pyout",
       "prompt_number": 24,
       "text": [
        "array([ 1.  ,  0.25,  0.  ,  0.25,  1.  ])"
       ]
      }
     ],
     "prompt_number": 24
    },
    {
     "cell_type": "code",
     "collapsed": false,
     "input": [
      "abs(arr)"
     ],
     "language": "python",
     "metadata": {},
     "outputs": [
      {
       "metadata": {},
       "output_type": "pyout",
       "prompt_number": 25,
       "text": [
        "array([ 1. ,  0.5,  0. ,  0.5,  1. ])"
       ]
      }
     ],
     "prompt_number": 25
    },
    {
     "cell_type": "code",
     "collapsed": false,
     "input": [
      "-arr"
     ],
     "language": "python",
     "metadata": {},
     "outputs": [
      {
       "metadata": {},
       "output_type": "pyout",
       "prompt_number": 26,
       "text": [
        "array([ 1. ,  0.5, -0. , -0.5, -1. ])"
       ]
      }
     ],
     "prompt_number": 26
    },
    {
     "cell_type": "heading",
     "level": 2,
     "metadata": {
      "slideshow": {
       "slide_type": "subslide"
      }
     },
     "source": [
      "Binary functions"
     ]
    },
    {
     "cell_type": "code",
     "collapsed": false,
     "input": [
      "arr + arr  # also np.add(arr, arr)"
     ],
     "language": "python",
     "metadata": {},
     "outputs": [
      {
       "metadata": {},
       "output_type": "pyout",
       "prompt_number": 27,
       "text": [
        "array([-2., -1.,  0.,  1.,  2.])"
       ]
      }
     ],
     "prompt_number": 27
    },
    {
     "cell_type": "code",
     "collapsed": false,
     "input": [
      "arr * 2"
     ],
     "language": "python",
     "metadata": {},
     "outputs": [
      {
       "metadata": {},
       "output_type": "pyout",
       "prompt_number": 28,
       "text": [
        "array([-2., -1.,  0.,  1.,  2.])"
       ]
      }
     ],
     "prompt_number": 28
    },
    {
     "cell_type": "code",
     "collapsed": false,
     "input": [
      "arr + 3"
     ],
     "language": "python",
     "metadata": {},
     "outputs": [
      {
       "metadata": {},
       "output_type": "pyout",
       "prompt_number": 29,
       "text": [
        "array([ 2. ,  2.5,  3. ,  3.5,  4. ])"
       ]
      }
     ],
     "prompt_number": 29
    },
    {
     "cell_type": "code",
     "collapsed": false,
     "input": [
      "arr == -1"
     ],
     "language": "python",
     "metadata": {},
     "outputs": [
      {
       "metadata": {},
       "output_type": "pyout",
       "prompt_number": 30,
       "text": [
        "array([ True, False, False, False, False], dtype=bool)"
       ]
      }
     ],
     "prompt_number": 30
    },
    {
     "cell_type": "heading",
     "level": 2,
     "metadata": {
      "slideshow": {
       "slide_type": "subslide"
      }
     },
     "source": [
      "Reductions"
     ]
    },
    {
     "cell_type": "markdown",
     "metadata": {
      "slideshow": {
       "slide_type": "-"
      }
     },
     "source": [
      "Many reductions are available either through `ndarray` attributes or as numpy functions:"
     ]
    },
    {
     "cell_type": "code",
     "collapsed": false,
     "input": [
      "np.sum(arr)  # or\n",
      "arr.sum()"
     ],
     "language": "python",
     "metadata": {},
     "outputs": [
      {
       "metadata": {},
       "output_type": "pyout",
       "prompt_number": 31,
       "text": [
        "0.0"
       ]
      }
     ],
     "prompt_number": 31
    },
    {
     "cell_type": "markdown",
     "metadata": {},
     "source": [
      " <font color='red'> *Warning:*</font> Usual `sum(arr)` is *not* correct since it is a python function and not an operator."
     ]
    },
    {
     "cell_type": "heading",
     "level": 2,
     "metadata": {
      "slideshow": {
       "slide_type": "subslide"
      }
     },
     "source": [
      "Other reductions"
     ]
    },
    {
     "cell_type": "code",
     "collapsed": false,
     "input": [
      "np.mean(arr)  # or\n",
      "arr.mean()"
     ],
     "language": "python",
     "metadata": {},
     "outputs": [
      {
       "metadata": {},
       "output_type": "pyout",
       "prompt_number": 32,
       "text": [
        "0.0"
       ]
      }
     ],
     "prompt_number": 32
    },
    {
     "cell_type": "code",
     "collapsed": false,
     "input": [
      "# Logical:\n",
      "arr.all(); arr.any()\n",
      "# Minimum/Maximum:\n",
      "arr.min(); arr.max(); arr.argmin(); arr.argmax()\n",
      "# Standard deviation:\n",
      "arr.std(ddof=1); arr.var()\n",
      "np.median(arr);  # not arr.median here"
     ],
     "language": "python",
     "metadata": {},
     "outputs": [
      {
       "metadata": {},
       "output_type": "pyout",
       "prompt_number": 33,
       "text": [
        "0.0"
       ]
      }
     ],
     "prompt_number": 33
    },
    {
     "cell_type": "heading",
     "level": 2,
     "metadata": {
      "slideshow": {
       "slide_type": "subslide"
      }
     },
     "source": [
      "Recutions \u2013 axis"
     ]
    },
    {
     "cell_type": "markdown",
     "metadata": {},
     "source": [
      "Most reduction (-like) functions accept an `axis` argument:"
     ]
    },
    {
     "cell_type": "code",
     "collapsed": false,
     "input": [
      "arr = np.random.random((50, 3))\n",
      "arr.sum(0)"
     ],
     "language": "python",
     "metadata": {},
     "outputs": [
      {
       "metadata": {},
       "output_type": "pyout",
       "prompt_number": 34,
       "text": [
        "array([ 24.08299582,  25.79048227,  22.26723946])"
       ]
      }
     ],
     "prompt_number": 34
    },
    {
     "cell_type": "code",
     "collapsed": false,
     "input": [
      "arr.sum(0, keepdims=True)"
     ],
     "language": "python",
     "metadata": {},
     "outputs": [
      {
       "metadata": {},
       "output_type": "pyout",
       "prompt_number": 35,
       "text": [
        "array([[ 24.08299582,  25.79048227,  22.26723946]])"
       ]
      }
     ],
     "prompt_number": 35
    },
    {
     "cell_type": "markdown",
     "metadata": {},
     "source": [
      "You can specify multiple axes (its still called \"axis\"):"
     ]
    },
    {
     "cell_type": "code",
     "collapsed": false,
     "input": [
      "arr.sum(axis=(0, 1))"
     ],
     "language": "python",
     "metadata": {},
     "outputs": [
      {
       "metadata": {},
       "output_type": "pyout",
       "prompt_number": 36,
       "text": [
        "72.1407175525257"
       ]
      }
     ],
     "prompt_number": 36
    },
    {
     "cell_type": "heading",
     "level": 1,
     "metadata": {
      "slideshow": {
       "slide_type": "notes"
      }
     },
     "source": [
      "*(Master)* Reductions"
     ]
    },
    {
     "cell_type": "markdown",
     "metadata": {
      "slideshow": {
       "slide_type": "notes"
      }
     },
     "source": [
      "All binary ufuncs (simple elementwise math functions from above) allow reductions. For example `arr.sum()` is actually a thin wrapper around `np.add.reduce(arr)`!"
     ]
    },
    {
     "cell_type": "heading",
     "level": 1,
     "metadata": {
      "slideshow": {
       "slide_type": "notes"
      }
     },
     "source": [
      "All Available functions"
     ]
    },
    {
     "cell_type": "markdown",
     "metadata": {
      "slideshow": {
       "slide_type": "notes"
      }
     },
     "source": [
      "All available unary (math/ufunc) functions:"
     ]
    },
    {
     "cell_type": "code",
     "collapsed": false,
     "input": [
      "for obj_string in dir(np):\n",
      "    obj = getattr(np, obj_string)\n",
      "    if (isinstance(obj, np.ufunc)\n",
      "            and obj.nin == 1 and obj.nout == 1):\n",
      "        print(obj_string, end=', ')"
     ],
     "language": "python",
     "metadata": {
      "slideshow": {
       "slide_type": "notes"
      }
     },
     "outputs": [
      {
       "output_type": "stream",
       "stream": "stdout",
       "text": [
        "abs, absolute, arccos, arccosh, arcsin, arcsinh, arctan, arctanh, bitwise_not, ceil, conj, conjugate, cos, cosh, deg2rad, degrees, exp, exp2, expm1, fabs, floor, invert, isfinite, isinf, isnan, log, log10, log1p, log2, logical_not, negative, rad2deg, radians, reciprocal, rint, sign, signbit, sin, sinh, spacing, sqrt, square, tan, tanh, trunc, "
       ]
      }
     ],
     "prompt_number": 37
    },
    {
     "cell_type": "markdown",
     "metadata": {
      "slideshow": {
       "slide_type": "notes"
      }
     },
     "source": [
      "All available binary (math/ufunc) functions:"
     ]
    },
    {
     "cell_type": "code",
     "collapsed": false,
     "input": [
      "for obj_string in dir(np):\n",
      "    obj = getattr(np, obj_string)\n",
      "    if (isinstance(obj, np.ufunc)\n",
      "            and obj.nin == 2 and obj.nout == 1):\n",
      "        print(obj_string, end=', ')"
     ],
     "language": "python",
     "metadata": {
      "slideshow": {
       "slide_type": "notes"
      }
     },
     "outputs": [
      {
       "output_type": "stream",
       "stream": "stdout",
       "text": [
        "add, arctan2, bitwise_and, bitwise_or, bitwise_xor, copysign, divide, equal, floor_divide, fmax, fmin, fmod, greater, greater_equal, hypot, ldexp, left_shift, less, less_equal, logaddexp, logaddexp2, logical_and, logical_or, logical_xor, maximum, minimum, mod, multiply, nextafter, not_equal, power, remainder, right_shift, subtract, true_divide, "
       ]
      }
     ],
     "prompt_number": 38
    },
    {
     "cell_type": "markdown",
     "metadata": {
      "slideshow": {
       "slide_type": "notes"
      }
     },
     "source": [
      "Other (math/ufunc) functions:"
     ]
    },
    {
     "cell_type": "code",
     "collapsed": false,
     "input": [
      "for obj_string in dir(np):\n",
      "    obj = getattr(np, obj_string)\n",
      "    if (isinstance(obj, np.ufunc)\n",
      "            and (obj.nin > 2 or obj.nout != 1)):\n",
      "        print(obj_string, end=', ')"
     ],
     "language": "python",
     "metadata": {
      "slideshow": {
       "slide_type": "notes"
      }
     },
     "outputs": [
      {
       "output_type": "stream",
       "stream": "stdout",
       "text": [
        "frexp, modf, "
       ]
      }
     ],
     "prompt_number": 39
    },
    {
     "cell_type": "heading",
     "level": 1,
     "metadata": {
      "slideshow": {
       "slide_type": "slide"
      }
     },
     "source": [
      "Broadcasting"
     ]
    },
    {
     "cell_type": "markdown",
     "metadata": {
      "slideshow": {
       "slide_type": "-"
      }
     },
     "source": [
      "Implicite repetition of arrays.\n",
      "\n",
      "We have already done this:"
     ]
    },
    {
     "cell_type": "code",
     "collapsed": false,
     "input": [
      "arr = np.array([1, 2, 3, 4])\n",
      "arr + 3"
     ],
     "language": "python",
     "metadata": {
      "slideshow": {
       "slide_type": "-"
      }
     },
     "outputs": [
      {
       "metadata": {},
       "output_type": "pyout",
       "prompt_number": 40,
       "text": [
        "array([4, 5, 6, 7])"
       ]
      }
     ],
     "prompt_number": 40
    },
    {
     "cell_type": "markdown",
     "metadata": {},
     "source": [
      "Is actually:"
     ]
    },
    {
     "cell_type": "code",
     "collapsed": false,
     "input": [
      "threes = np.array([3, 3, 3, 3])\n",
      "arr + threes"
     ],
     "language": "python",
     "metadata": {},
     "outputs": [
      {
       "metadata": {},
       "output_type": "pyout",
       "prompt_number": 41,
       "text": [
        "array([4, 5, 6, 7])"
       ]
      }
     ],
     "prompt_number": 41
    },
    {
     "cell_type": "markdown",
     "metadata": {
      "slideshow": {
       "slide_type": "subslide"
      }
     },
     "source": [
      "<img src=files/images/broadcast_scalar.svg width=200pt>"
     ]
    },
    {
     "cell_type": "markdown",
     "metadata": {},
     "source": [
      "This happens (more efficiently):"
     ]
    },
    {
     "cell_type": "code",
     "collapsed": false,
     "input": [
      "three = np.array(3)\n",
      "three = three.reshape(1)\n",
      "print('Shape:', three.shape)\n",
      "threes = three.repeat(len(arr))\n",
      "print('Threes shape:', threes.shape)"
     ],
     "language": "python",
     "metadata": {},
     "outputs": [
      {
       "output_type": "stream",
       "stream": "stdout",
       "text": [
        "Shape: (1,)\n",
        "Threes shape: (4,)\n"
       ]
      }
     ],
     "prompt_number": 42
    },
    {
     "cell_type": "code",
     "collapsed": false,
     "input": [
      "result = arr + threes"
     ],
     "language": "python",
     "metadata": {},
     "outputs": [],
     "prompt_number": 43
    },
    {
     "cell_type": "markdown",
     "metadata": {
      "slideshow": {
       "slide_type": "subslide"
      }
     },
     "source": [
      "<img src=files/images/array_3x5x8.png width=200pt>"
     ]
    },
    {
     "cell_type": "code",
     "collapsed": false,
     "input": [
      "red = np.arange(8)\n",
      "green = np.ones((4, 3, 1))\n",
      "\n",
      "blue = red * green\n",
      "print(blue.shape)"
     ],
     "language": "python",
     "metadata": {
      "slideshow": {
       "slide_type": "-"
      }
     },
     "outputs": [
      {
       "output_type": "stream",
       "stream": "stdout",
       "text": [
        "(4, 3, 8)\n"
       ]
      }
     ],
     "prompt_number": 44
    },
    {
     "cell_type": "heading",
     "level": 2,
     "metadata": {
      "slideshow": {
       "slide_type": "subslide"
      }
     },
     "source": [
      "Example:"
     ]
    },
    {
     "cell_type": "code",
     "collapsed": false,
     "input": [
      "arr1 = np.arange(5)\n",
      "arr2 = np.arange(10, 15)"
     ],
     "language": "python",
     "metadata": {
      "slideshow": {
       "slide_type": "-"
      }
     },
     "outputs": [],
     "prompt_number": 45
    },
    {
     "cell_type": "markdown",
     "metadata": {},
     "source": [
      "Create `(5, 5)` array, which combines all numbers:"
     ]
    },
    {
     "cell_type": "code",
     "collapsed": false,
     "input": [
      "arr2 = arr2[:, np.newaxis]  # later\n",
      "print(arr2.shape)"
     ],
     "language": "python",
     "metadata": {},
     "outputs": [
      {
       "output_type": "stream",
       "stream": "stdout",
       "text": [
        "(5, 1)\n"
       ]
      }
     ],
     "prompt_number": 46
    },
    {
     "cell_type": "code",
     "collapsed": false,
     "input": [
      "print(arr1 +  arr2)"
     ],
     "language": "python",
     "metadata": {},
     "outputs": [
      {
       "output_type": "stream",
       "stream": "stdout",
       "text": [
        "[[10 11 12 13 14]\n",
        " [11 12 13 14 15]\n",
        " [12 13 14 15 16]\n",
        " [13 14 15 16 17]\n",
        " [14 15 16 17 18]]\n"
       ]
      }
     ],
     "prompt_number": 47
    },
    {
     "cell_type": "heading",
     "level": 1,
     "metadata": {
      "slideshow": {
       "slide_type": "slide"
      }
     },
     "source": [
      "Container manipulation"
     ]
    },
    {
     "cell_type": "heading",
     "level": 2,
     "metadata": {},
     "source": [
      "Reshaping"
     ]
    },
    {
     "cell_type": "markdown",
     "metadata": {},
     "source": [
      "You can reshape arrays (more in the exercizes)"
     ]
    },
    {
     "cell_type": "code",
     "collapsed": false,
     "input": [
      "np.arange(10).reshape(2, 5)"
     ],
     "language": "python",
     "metadata": {},
     "outputs": [
      {
       "metadata": {},
       "output_type": "pyout",
       "prompt_number": 48,
       "text": [
        "array([[0, 1, 2, 3, 4],\n",
        "       [5, 6, 7, 8, 9]])"
       ]
      }
     ],
     "prompt_number": 48
    },
    {
     "cell_type": "code",
     "collapsed": false,
     "input": [
      "np.arange(10).reshape(2, -1)  # -1 is a \"joker\""
     ],
     "language": "python",
     "metadata": {},
     "outputs": [
      {
       "metadata": {},
       "output_type": "pyout",
       "prompt_number": 49,
       "text": [
        "array([[0, 1, 2, 3, 4],\n",
        "       [5, 6, 7, 8, 9]])"
       ]
      }
     ],
     "prompt_number": 49
    },
    {
     "cell_type": "heading",
     "level": 2,
     "metadata": {
      "slideshow": {
       "slide_type": "subslide"
      }
     },
     "source": [
      "Other manipulations"
     ]
    },
    {
     "cell_type": "code",
     "collapsed": false,
     "input": [
      "np.arange(3).repeat(2)"
     ],
     "language": "python",
     "metadata": {},
     "outputs": [
      {
       "metadata": {},
       "output_type": "pyout",
       "prompt_number": 50,
       "text": [
        "array([0, 0, 1, 1, 2, 2])"
       ]
      }
     ],
     "prompt_number": 50
    },
    {
     "cell_type": "code",
     "collapsed": false,
     "input": [
      "np.concatenate((np.arange(2), np.arange(3)))"
     ],
     "language": "python",
     "metadata": {},
     "outputs": [
      {
       "metadata": {},
       "output_type": "pyout",
       "prompt_number": 51,
       "text": [
        "array([0, 1, 0, 1, 2])"
       ]
      }
     ],
     "prompt_number": 51
    },
    {
     "cell_type": "markdown",
     "metadata": {},
     "source": [
      "* Concatenate has many friends (hstack, see \"See Also\")\n",
      "\n",
      "There are more to explorer for specific tasks."
     ]
    },
    {
     "cell_type": "heading",
     "level": 1,
     "metadata": {
      "slideshow": {
       "slide_type": "slide"
      }
     },
     "source": [
      "Indexing"
     ]
    },
    {
     "cell_type": "markdown",
     "metadata": {},
     "source": [
      "* Indexing is very powerfull in NumPy\n",
      "  \n",
      "* There are different types of indexing:\n",
      "    1. Picking a single element\n",
      "    2. Slicing\n",
      "    3. Advanced indexing:\n",
      "       * picking many elements at once\n",
      "    4. (Advanced) Boolean indexing:\n",
      "       * Selecting based on logical expressions\n",
      "\n",
      "Note: *Advanced* indexing is often also called *fancy* indexing"
     ]
    },
    {
     "cell_type": "heading",
     "level": 2,
     "metadata": {
      "slideshow": {
       "slide_type": "subslide"
      }
     },
     "source": [
      "Picking an element"
     ]
    },
    {
     "cell_type": "markdown",
     "metadata": {},
     "source": [
      "Picking a single element from an array requires an integer along each dimension"
     ]
    },
    {
     "cell_type": "code",
     "collapsed": false,
     "input": [
      "arr = np.arange(10).reshape(2, 5)\n",
      "print(arr)"
     ],
     "language": "python",
     "metadata": {},
     "outputs": [
      {
       "output_type": "stream",
       "stream": "stdout",
       "text": [
        "[[0 1 2 3 4]\n",
        " [5 6 7 8 9]]\n"
       ]
      }
     ],
     "prompt_number": 52
    },
    {
     "cell_type": "code",
     "collapsed": false,
     "input": [
      "print(arr[0, 3])\n",
      "print(arr[1, 2])"
     ],
     "language": "python",
     "metadata": {},
     "outputs": [
      {
       "output_type": "stream",
       "stream": "stdout",
       "text": [
        "3\n",
        "7\n"
       ]
      }
     ],
     "prompt_number": 53
    },
    {
     "cell_type": "code",
     "collapsed": false,
     "input": [
      "indx = (0, 3); print(arr[indx])  # This is identical!"
     ],
     "language": "python",
     "metadata": {},
     "outputs": [
      {
       "output_type": "stream",
       "stream": "stdout",
       "text": [
        "3\n"
       ]
      }
     ],
     "prompt_number": 54
    },
    {
     "cell_type": "heading",
     "level": 1,
     "metadata": {
      "slideshow": {
       "slide_type": "subslide"
      }
     },
     "source": [
      "Incomplete index"
     ]
    },
    {
     "cell_type": "code",
     "collapsed": false,
     "input": [
      "arr"
     ],
     "language": "python",
     "metadata": {},
     "outputs": [
      {
       "metadata": {},
       "output_type": "pyout",
       "prompt_number": 55,
       "text": [
        "array([[0, 1, 2, 3, 4],\n",
        "       [5, 6, 7, 8, 9]])"
       ]
      }
     ],
     "prompt_number": 55
    },
    {
     "cell_type": "code",
     "collapsed": false,
     "input": [
      "arr[0]"
     ],
     "language": "python",
     "metadata": {},
     "outputs": [
      {
       "metadata": {},
       "output_type": "pyout",
       "prompt_number": 56,
       "text": [
        "array([0, 1, 2, 3, 4])"
       ]
      }
     ],
     "prompt_number": 56
    },
    {
     "cell_type": "markdown",
     "metadata": {},
     "source": [
      "This is much like a list of lists.\n",
      "But **never** do this:"
     ]
    },
    {
     "cell_type": "code",
     "collapsed": false,
     "input": [
      "arr[0][1]"
     ],
     "language": "python",
     "metadata": {},
     "outputs": [
      {
       "metadata": {},
       "output_type": "pyout",
       "prompt_number": 57,
       "text": [
        "1"
       ]
      }
     ],
     "prompt_number": 57
    },
    {
     "cell_type": "heading",
     "level": 2,
     "metadata": {
      "slideshow": {
       "slide_type": "subslide"
      }
     },
     "source": [
      "Slicing"
     ]
    },
    {
     "cell_type": "markdown",
     "metadata": {},
     "source": [
      "* You already know `:` (`slice`) from lists\n",
      "* We can do it in arbitrary dimensions\n",
      "* NumPy also has ``...`` (`Ellipsis`)\n",
      "* NumPy also has ``np.newaxis`` (identical to ``None``)"
     ]
    },
    {
     "cell_type": "heading",
     "level": 3,
     "metadata": {
      "slideshow": {
       "slide_type": "subslide"
      }
     },
     "source": [
      "Simple slicing"
     ]
    },
    {
     "cell_type": "markdown",
     "metadata": {},
     "source": [
      "* Just like slicing of lists `list[start:stop:step]`\n",
      "* For many dimensions each is sliced seperatly"
     ]
    },
    {
     "cell_type": "code",
     "collapsed": false,
     "input": [
      "arr"
     ],
     "language": "python",
     "metadata": {},
     "outputs": [
      {
       "metadata": {},
       "output_type": "pyout",
       "prompt_number": 58,
       "text": [
        "array([[0, 1, 2, 3, 4],\n",
        "       [5, 6, 7, 8, 9]])"
       ]
      }
     ],
     "prompt_number": 58
    },
    {
     "cell_type": "code",
     "collapsed": false,
     "input": [
      "arr[1:, 1::2]"
     ],
     "language": "python",
     "metadata": {},
     "outputs": [
      {
       "metadata": {},
       "output_type": "pyout",
       "prompt_number": 59,
       "text": [
        "array([[6, 8]])"
       ]
      }
     ],
     "prompt_number": 59
    },
    {
     "cell_type": "code",
     "collapsed": false,
     "input": [
      "# Maybe it helps to realize this:\n",
      "arr[1:][:, 1::2]  # note the single : is to \"skip\" that dimension"
     ],
     "language": "python",
     "metadata": {},
     "outputs": [
      {
       "metadata": {},
       "output_type": "pyout",
       "prompt_number": 60,
       "text": [
        "array([[6, 8]])"
       ]
      }
     ],
     "prompt_number": 60
    },
    {
     "cell_type": "heading",
     "level": 3,
     "metadata": {
      "slideshow": {
       "slide_type": "subslide"
      }
     },
     "source": [
      "Ellipsis"
     ]
    },
    {
     "cell_type": "markdown",
     "metadata": {},
     "source": [
      "`...` replaces an arbitray number of `:`"
     ]
    },
    {
     "cell_type": "code",
     "collapsed": false,
     "input": [
      "print(arr[1, ...])  # identical to arr[1]\n",
      "print(repr(arr[1, 0, ...]))  # never a scalar\n",
      "print(repr(arr[1, 0]))  # is a scalar (immutable)"
     ],
     "language": "python",
     "metadata": {},
     "outputs": [
      {
       "output_type": "stream",
       "stream": "stdout",
       "text": [
        "[5 6 7 8 9]\n",
        "array(5)\n",
        "5\n"
       ]
      }
     ],
     "prompt_number": 61
    },
    {
     "cell_type": "code",
     "collapsed": false,
     "input": [
      "high_dimensional = np.ones((5, 4, 3, 2))\n",
      "high_dimensional[..., :1].shape"
     ],
     "language": "python",
     "metadata": {},
     "outputs": [
      {
       "metadata": {},
       "output_type": "pyout",
       "prompt_number": 62,
       "text": [
        "(5, 4, 3, 1)"
       ]
      }
     ],
     "prompt_number": 62
    },
    {
     "cell_type": "code",
     "collapsed": false,
     "input": [
      "high_dimensional[0, ..., 1].shape"
     ],
     "language": "python",
     "metadata": {},
     "outputs": [
      {
       "metadata": {},
       "output_type": "pyout",
       "prompt_number": 63,
       "text": [
        "(4, 3)"
       ]
      }
     ],
     "prompt_number": 63
    },
    {
     "cell_type": "heading",
     "level": 3,
     "metadata": {
      "slideshow": {
       "slide_type": "subslide"
      }
     },
     "source": [
      "Newaxis"
     ]
    },
    {
     "cell_type": "markdown",
     "metadata": {},
     "source": [
      "Inserts a new axis of size 1 (increases dimension)"
     ]
    },
    {
     "cell_type": "code",
     "collapsed": false,
     "input": [
      "arr.shape"
     ],
     "language": "python",
     "metadata": {},
     "outputs": [
      {
       "metadata": {},
       "output_type": "pyout",
       "prompt_number": 64,
       "text": [
        "(2, 5)"
       ]
      }
     ],
     "prompt_number": 64
    },
    {
     "cell_type": "code",
     "collapsed": false,
     "input": [
      "arr[:, np.newaxis, :, np.newaxis].shape"
     ],
     "language": "python",
     "metadata": {},
     "outputs": [
      {
       "metadata": {},
       "output_type": "pyout",
       "prompt_number": 65,
       "text": [
        "(2, 1, 5, 1)"
       ]
      }
     ],
     "prompt_number": 65
    },
    {
     "cell_type": "code",
     "collapsed": false,
     "input": [
      "arr[..., None].shape"
     ],
     "language": "python",
     "metadata": {},
     "outputs": [
      {
       "metadata": {},
       "output_type": "pyout",
       "prompt_number": 66,
       "text": [
        "(2, 5, 1)"
       ]
      }
     ],
     "prompt_number": 66
    },
    {
     "cell_type": "code",
     "collapsed": false,
     "input": [
      "np.newaxis is None"
     ],
     "language": "python",
     "metadata": {},
     "outputs": [
      {
       "metadata": {},
       "output_type": "pyout",
       "prompt_number": 67,
       "text": [
        "True"
       ]
      }
     ],
     "prompt_number": 67
    },
    {
     "cell_type": "heading",
     "level": 2,
     "metadata": {
      "slideshow": {
       "slide_type": "subslide"
      }
     },
     "source": [
      "Advanced (integer) Indexing"
     ]
    },
    {
     "cell_type": "markdown",
     "metadata": {},
     "source": [
      "Create a new array selecting many elements"
     ]
    },
    {
     "cell_type": "code",
     "collapsed": false,
     "input": [
      "arr = np.arange(1, 6)"
     ],
     "language": "python",
     "metadata": {},
     "outputs": [],
     "prompt_number": 68
    },
    {
     "cell_type": "code",
     "collapsed": false,
     "input": [
      "indx = np.array([0, 4, 2], dtype=np.intp)\n",
      "arr[indx]"
     ],
     "language": "python",
     "metadata": {},
     "outputs": [
      {
       "metadata": {},
       "output_type": "pyout",
       "prompt_number": 69,
       "text": [
        "array([1, 5, 3])"
       ]
      }
     ],
     "prompt_number": 69
    },
    {
     "cell_type": "code",
     "collapsed": false,
     "input": [
      "arr[0], arr[4], arr[2]"
     ],
     "language": "python",
     "metadata": {},
     "outputs": [
      {
       "metadata": {},
       "output_type": "pyout",
       "prompt_number": 70,
       "text": [
        "(1, 5, 3)"
       ]
      }
     ],
     "prompt_number": 70
    },
    {
     "cell_type": "code",
     "collapsed": false,
     "input": [
      "arr[[0, 4, 2]]  # But nested lists do not!\n",
      "\n",
      "# intp is safest, but please do not worry about it generally:\n",
      "arr[np.array([0, 4, 2], dtype=np.uint16)]"
     ],
     "language": "python",
     "metadata": {},
     "outputs": [
      {
       "metadata": {},
       "output_type": "pyout",
       "prompt_number": 71,
       "text": [
        "array([1, 5, 3])"
       ]
      }
     ],
     "prompt_number": 71
    },
    {
     "cell_type": "heading",
     "level": 3,
     "metadata": {
      "slideshow": {
       "slide_type": "subslide"
      }
     },
     "source": [
      "Can be combined with other indexing"
     ]
    },
    {
     "cell_type": "code",
     "collapsed": false,
     "input": [
      "arr = np.arange(6).reshape(2, 3)\n",
      "arr"
     ],
     "language": "python",
     "metadata": {},
     "outputs": [
      {
       "metadata": {},
       "output_type": "pyout",
       "prompt_number": 72,
       "text": [
        "array([[0, 1, 2],\n",
        "       [3, 4, 5]])"
       ]
      }
     ],
     "prompt_number": 72
    },
    {
     "cell_type": "code",
     "collapsed": false,
     "input": [
      "arr[[1, 0], :2]"
     ],
     "language": "python",
     "metadata": {},
     "outputs": [
      {
       "metadata": {},
       "output_type": "pyout",
       "prompt_number": 73,
       "text": [
        "array([[3, 4],\n",
        "       [0, 1]])"
       ]
      }
     ],
     "prompt_number": 73
    },
    {
     "cell_type": "markdown",
     "metadata": {},
     "source": [
      "Slicing happens first, then the rest (actually it is more the other way around)"
     ]
    },
    {
     "cell_type": "heading",
     "level": 3,
     "metadata": {
      "slideshow": {
       "slide_type": "subslide"
      }
     },
     "source": [
      "Can have arbitrary shapes"
     ]
    },
    {
     "cell_type": "code",
     "collapsed": false,
     "input": [
      "arr"
     ],
     "language": "python",
     "metadata": {},
     "outputs": [
      {
       "metadata": {},
       "output_type": "pyout",
       "prompt_number": 74,
       "text": [
        "array([[0, 1, 2],\n",
        "       [3, 4, 5]])"
       ]
      }
     ],
     "prompt_number": 74
    },
    {
     "cell_type": "code",
     "collapsed": false,
     "input": [
      "indx = np.array([[0, 1],\n",
      "                 [2, 1]])\n",
      "arr[0, indx]"
     ],
     "language": "python",
     "metadata": {},
     "outputs": [
      {
       "metadata": {},
       "output_type": "pyout",
       "prompt_number": 75,
       "text": [
        "array([[0, 1],\n",
        "       [2, 1]])"
       ]
      }
     ],
     "prompt_number": 75
    },
    {
     "cell_type": "heading",
     "level": 3,
     "metadata": {
      "slideshow": {
       "slide_type": "subslide"
      }
     },
     "source": [
      "Two advanced indexes are iterated **together**"
     ]
    },
    {
     "cell_type": "markdown",
     "metadata": {},
     "source": [
      "This is *not* like slicing (or matlab)!"
     ]
    },
    {
     "cell_type": "code",
     "collapsed": false,
     "input": [
      "arr"
     ],
     "language": "python",
     "metadata": {},
     "outputs": [
      {
       "metadata": {},
       "output_type": "pyout",
       "prompt_number": 76,
       "text": [
        "array([[0, 1, 2],\n",
        "       [3, 4, 5]])"
       ]
      }
     ],
     "prompt_number": 76
    },
    {
     "cell_type": "code",
     "collapsed": false,
     "input": [
      "indx1 = np.array([1, 0])\n",
      "indx2 = np.array([0, 2])\n",
      "arr[indx1, indx2]"
     ],
     "language": "python",
     "metadata": {},
     "outputs": [
      {
       "metadata": {},
       "output_type": "pyout",
       "prompt_number": 77,
       "text": [
        "array([3, 2])"
       ]
      }
     ],
     "prompt_number": 77
    },
    {
     "cell_type": "markdown",
     "metadata": {},
     "source": [
      "The output has the same shapes as the (broadcasted) input!"
     ]
    },
    {
     "cell_type": "heading",
     "level": 3,
     "metadata": {
      "slideshow": {
       "slide_type": "subslide"
      }
     },
     "source": [
      "Example: Make use of multiple advanced indices"
     ]
    },
    {
     "cell_type": "markdown",
     "metadata": {},
     "source": [
      "Select the \"corners\" with advanced indexing"
     ]
    },
    {
     "cell_type": "code",
     "collapsed": false,
     "input": [
      "arr"
     ],
     "language": "python",
     "metadata": {},
     "outputs": [
      {
       "metadata": {},
       "output_type": "pyout",
       "prompt_number": 78,
       "text": [
        "array([[0, 1, 2],\n",
        "       [3, 4, 5]])"
       ]
      }
     ],
     "prompt_number": 78
    },
    {
     "cell_type": "code",
     "collapsed": false,
     "input": [
      "indx1 = np.array([0, -1])\n",
      "indx2 = np.array([[[0],\n",
      "                   [-1]]])\n",
      "arr[indx1, indx2]"
     ],
     "language": "python",
     "metadata": {},
     "outputs": [
      {
       "metadata": {},
       "output_type": "pyout",
       "prompt_number": 79,
       "text": [
        "array([[[0, 3],\n",
        "        [2, 5]]])"
       ]
      }
     ],
     "prompt_number": 79
    },
    {
     "cell_type": "heading",
     "level": 2,
     "metadata": {
      "slideshow": {
       "slide_type": "subslide"
      }
     },
     "source": [
      "Boolean indexing"
     ]
    },
    {
     "cell_type": "markdown",
     "metadata": {},
     "source": [
      "* Filter an array\n",
      "* Can work on the full arrays or some axes\n",
      "* Result is always one dimensional"
     ]
    },
    {
     "cell_type": "code",
     "collapsed": false,
     "input": [
      "arr"
     ],
     "language": "python",
     "metadata": {},
     "outputs": [
      {
       "metadata": {},
       "output_type": "pyout",
       "prompt_number": 80,
       "text": [
        "array([[0, 1, 2],\n",
        "       [3, 4, 5]])"
       ]
      }
     ],
     "prompt_number": 80
    },
    {
     "cell_type": "code",
     "collapsed": false,
     "input": [
      "arr > 3"
     ],
     "language": "python",
     "metadata": {},
     "outputs": [
      {
       "metadata": {},
       "output_type": "pyout",
       "prompt_number": 81,
       "text": [
        "array([[False, False, False],\n",
        "       [False,  True,  True]], dtype=bool)"
       ]
      }
     ],
     "prompt_number": 81
    },
    {
     "cell_type": "code",
     "collapsed": false,
     "input": [
      "arr[arr > 3]"
     ],
     "language": "python",
     "metadata": {},
     "outputs": [
      {
       "metadata": {},
       "output_type": "pyout",
       "prompt_number": 82,
       "text": [
        "array([4, 5])"
       ]
      }
     ],
     "prompt_number": 82
    },
    {
     "cell_type": "heading",
     "level": 3,
     "metadata": {
      "slideshow": {
       "slide_type": "subslide"
      }
     },
     "source": [
      "Use it on part of the array only"
     ]
    },
    {
     "cell_type": "code",
     "collapsed": false,
     "input": [
      "arr"
     ],
     "language": "python",
     "metadata": {},
     "outputs": [
      {
       "metadata": {},
       "output_type": "pyout",
       "prompt_number": 83,
       "text": [
        "array([[0, 1, 2],\n",
        "       [3, 4, 5]])"
       ]
      }
     ],
     "prompt_number": 83
    },
    {
     "cell_type": "code",
     "collapsed": false,
     "input": [
      "print('Every column starting >=1:', repr(arr[0] >= 1))\n",
      "arr[:, arr[0] >= 1]  # Every column starting >= 1"
     ],
     "language": "python",
     "metadata": {},
     "outputs": [
      {
       "output_type": "stream",
       "stream": "stdout",
       "text": [
        "Every column starting >=1: array([False,  True,  True], dtype=bool)\n"
       ]
      },
      {
       "metadata": {},
       "output_type": "pyout",
       "prompt_number": 84,
       "text": [
        "array([[1, 2],\n",
        "       [4, 5]])"
       ]
      }
     ],
     "prompt_number": 84
    },
    {
     "cell_type": "code",
     "collapsed": false,
     "input": [
      "print('Every row starting >1:', repr(arr[:, 0] > 1))\n",
      "arr[arr[:, 0] > 1]"
     ],
     "language": "python",
     "metadata": {},
     "outputs": [
      {
       "output_type": "stream",
       "stream": "stdout",
       "text": [
        "Every row starting >1: array([False,  True], dtype=bool)\n"
       ]
      },
      {
       "metadata": {},
       "output_type": "pyout",
       "prompt_number": 85,
       "text": [
        "array([[3, 4, 5]])"
       ]
      }
     ],
     "prompt_number": 85
    },
    {
     "cell_type": "heading",
     "level": 2,
     "metadata": {
      "slideshow": {
       "slide_type": "subslide"
      }
     },
     "source": [
      "Assignments"
     ]
    },
    {
     "cell_type": "markdown",
     "metadata": {},
     "source": [
      "Indexing can also be used for *assignmnents*:"
     ]
    },
    {
     "cell_type": "code",
     "collapsed": false,
     "input": [
      "arr = np.arange(10)\n",
      "arr[:4] = 0\n",
      "arr"
     ],
     "language": "python",
     "metadata": {},
     "outputs": [
      {
       "metadata": {},
       "output_type": "pyout",
       "prompt_number": 86,
       "text": [
        "array([0, 0, 0, 0, 4, 5, 6, 7, 8, 9])"
       ]
      }
     ],
     "prompt_number": 86
    },
    {
     "cell_type": "code",
     "collapsed": false,
     "input": [
      "arr[[-1, -3]] = 999\n",
      "arr"
     ],
     "language": "python",
     "metadata": {},
     "outputs": [
      {
       "metadata": {},
       "output_type": "pyout",
       "prompt_number": 87,
       "text": [
        "array([  0,   0,   0,   0,   4,   5,   6, 999,   8, 999])"
       ]
      }
     ],
     "prompt_number": 87
    },
    {
     "cell_type": "code",
     "collapsed": false,
     "input": [
      "arr[arr > 10] = 42\n",
      "arr"
     ],
     "language": "python",
     "metadata": {},
     "outputs": [
      {
       "metadata": {},
       "output_type": "pyout",
       "prompt_number": 88,
       "text": [
        "array([ 0,  0,  0,  0,  4,  5,  6, 42,  8, 42])"
       ]
      }
     ],
     "prompt_number": 88
    },
    {
     "cell_type": "heading",
     "level": 2,
     "metadata": {
      "slideshow": {
       "slide_type": "notes"
      }
     },
     "source": [
      "Some notes"
     ]
    },
    {
     "cell_type": "markdown",
     "metadata": {
      "slideshow": {
       "slide_type": "notes"
      }
     },
     "source": [
      "  * All of these can be combined\n",
      "  * But combination can be very complicating in some cases\n",
      "     * for example `arr[index_array, :, index_array]`.\n",
      "  * Indexing is best with the `np.intp` type (others may be slower or in principle unsafe)"
     ]
    },
    {
     "cell_type": "heading",
     "level": 1,
     "metadata": {
      "slideshow": {
       "slide_type": "slide"
      }
     },
     "source": [
      "Memory and Views"
     ]
    },
    {
     "cell_type": "markdown",
     "metadata": {},
     "source": [
      "1. Numpy arrays are of course mutable objects.\n",
      "2. Slices create **views** into the same memory."
     ]
    },
    {
     "cell_type": "code",
     "collapsed": false,
     "input": [
      "arr = np.arange(10)\n",
      "# Take the first half:\n",
      "view = arr[:5]\n",
      "# Set it to 0:\n",
      "view[...] = 0\n",
      "print(arr)"
     ],
     "language": "python",
     "metadata": {},
     "outputs": [
      {
       "output_type": "stream",
       "stream": "stdout",
       "text": [
        "[0 0 0 0 0 5 6 7 8 9]\n"
       ]
      }
     ],
     "prompt_number": 89
    },
    {
     "cell_type": "markdown",
     "metadata": {},
     "source": [
      "*Note:* Advanced indexing *always* creates a copy, slicing *never* creates a copy."
     ]
    },
    {
     "cell_type": "heading",
     "level": 2,
     "metadata": {
      "slideshow": {
       "slide_type": "subslide"
      }
     },
     "source": [
      "Take care about views"
     ]
    },
    {
     "cell_type": "markdown",
     "metadata": {},
     "source": [
      " * Some functions will return a view *if possible* i.e.:\n",
      "      * `np.reshape`\n",
      "      * `np.ravel`\n",
      " * A functions *reads* $\\rightarrow$ views are great.\n",
      " * A function *writes* $\\rightarrow$ no view unless `out` argument."
     ]
    },
    {
     "cell_type": "heading",
     "level": 2,
     "metadata": {
      "slideshow": {
       "slide_type": "subslide"
      }
     },
     "source": [
      "Optimizing memory usage"
     ]
    },
    {
     "cell_type": "markdown",
     "metadata": {},
     "source": [
      "  * Many numpy functions provide an `out` argument (all ufuncs):\n",
      "     `arr += 1` is the same as `np.add(arr, 1, out=arr)`\n",
      "  * **Be careful** when using the `out`. *Only* use out when this is\n",
      "    **not** the same data. A common pitfall for example is:\n",
      "    \n",
      "    ``arr += arr.T``\n",
      "    \n",
      "    Since `arr.T` is a view, it is changed during the\n",
      "    operation $\\rightarrow$ **unpredictable results** (it might even work)\n",
      "    \n",
      "  \n",
      "  * A small view into a large array will keep the large array alive."
     ]
    },
    {
     "cell_type": "heading",
     "level": 2,
     "metadata": {
      "slideshow": {
       "slide_type": "subslide"
      }
     },
     "source": [
      "Datatypes"
     ]
    },
    {
     "cell_type": "markdown",
     "metadata": {},
     "source": [
      "* Unlike lists, arrays have a specific element type.\n",
      "* Be careful with integers:"
     ]
    },
    {
     "cell_type": "code",
     "collapsed": false,
     "input": [
      "arr = np.arange(10)  # either 32 or 64 bit!\n",
      "arr = arr.astype(np.int64)\n",
      "arr += 0.5  # Will be an error in the future!\n",
      "arr"
     ],
     "language": "python",
     "metadata": {},
     "outputs": [
      {
       "metadata": {},
       "output_type": "pyout",
       "prompt_number": 90,
       "text": [
        "array([0, 1, 2, 3, 4, 5, 6, 7, 8, 9])"
       ]
      }
     ],
     "prompt_number": 90
    },
    {
     "cell_type": "code",
     "collapsed": false,
     "input": [
      "arr + np.int64(2**63-1)"
     ],
     "language": "python",
     "metadata": {},
     "outputs": [
      {
       "metadata": {},
       "output_type": "pyout",
       "prompt_number": 91,
       "text": [
        "array([9223372036854775807, -9223372036854775808, -9223372036854775807,\n",
        "       -9223372036854775806, -9223372036854775805, -9223372036854775804,\n",
        "       -9223372036854775803, -9223372036854775802, -9223372036854775801,\n",
        "       -9223372036854775800])"
       ]
      }
     ],
     "prompt_number": 91
    },
    {
     "cell_type": "markdown",
     "metadata": {
      "slideshow": {
       "slide_type": "-"
      }
     },
     "source": [
      "Floats have finite precision. Especial float32 (single precision):"
     ]
    },
    {
     "cell_type": "code",
     "collapsed": false,
     "input": [
      "arr = np.ones((10**8, 2)).astype(np.float32)\n",
      "print(arr.mean(0))"
     ],
     "language": "python",
     "metadata": {},
     "outputs": [
      {
       "output_type": "stream",
       "stream": "stdout",
       "text": [
        "[ 0.16777216  0.16777216]\n"
       ]
      }
     ],
     "prompt_number": 92
    },
    {
     "cell_type": "heading",
     "level": 1,
     "metadata": {
      "slideshow": {
       "slide_type": "slide"
      }
     },
     "source": [
      "SciPy"
     ]
    },
    {
     "cell_type": "markdown",
     "metadata": {},
     "source": [
      "Scipy is a collection of many packages such as:\n",
      "\n",
      "* integrate: \tIntegration and ordinary differential equation solvers\n",
      "* interpolate: \tInterpolation and smoothing splines\n",
      "* linalg: \tLinear algebra\n",
      "* ndimage: \tN-dimensional image processing\n",
      "* optimize: \tOptimization and root-finding routines\n",
      "* signal: \tSignal processing\n",
      "* spatial: \tSpatial data structures and algorithms\n",
      "* stats: \tStatistical distributions and functions\n",
      "* \u2026"
     ]
    },
    {
     "cell_type": "heading",
     "level": 2,
     "metadata": {
      "slideshow": {
       "slide_type": "subslide"
      }
     },
     "source": [
      "Usage"
     ]
    },
    {
     "cell_type": "markdown",
     "metadata": {},
     "source": [
      "* Import a subpackage directly for example:\n",
      "  \n",
      "  * ``from scipy import integrate``\n",
      "  * ``from scipy.spatial import KDTree``\n",
      "\n",
      "* Documentation available at (also numpy): http://scipy.org\n",
      "  \n",
      "* Main namespace is (basically) just numpy $\\rightarrow$ do not use it."
     ]
    },
    {
     "cell_type": "heading",
     "level": 2,
     "metadata": {
      "slideshow": {
       "slide_type": "subslide"
      }
     },
     "source": [
      "Other packages"
     ]
    },
    {
     "cell_type": "markdown",
     "metadata": {},
     "source": [
      "1. SciPy is BSD license, but some packages (sometimes \"scikits\") are either to large or copyleft.\n",
      "2. The ecosystem is constantly growing.\n",
      "3. Some packages to keep in mind are for example:\n",
      "   * scikits-learn (`sklearn` as a package)\n",
      "   * scikits-image (`skimage`)\n",
      "   * networkx\n",
      "   * astropy\n",
      "   * statsmodels\n",
      "   * ..."
     ]
    },
    {
     "cell_type": "heading",
     "level": 1,
     "metadata": {
      "slideshow": {
       "slide_type": "slide"
      }
     },
     "source": [
      "Plotting with matplotlib"
     ]
    },
    {
     "cell_type": "code",
     "collapsed": false,
     "input": [
      "# In the ipython notebook, make it aware of matplotlib:\n",
      "%matplotlib nbagg\n",
      "import matplotlib"
     ],
     "language": "python",
     "metadata": {},
     "outputs": [],
     "prompt_number": 107
    },
    {
     "cell_type": "heading",
     "level": 3,
     "metadata": {
      "slideshow": {
       "slide_type": "subslide"
      }
     },
     "source": [
      "Pyplot interface"
     ]
    },
    {
     "cell_type": "code",
     "collapsed": false,
     "input": [
      "# Import interactive interface to matplotlib:\n",
      "from matplotlib import pyplot as plt"
     ],
     "language": "python",
     "metadata": {},
     "outputs": [],
     "prompt_number": 108
    },
    {
     "cell_type": "markdown",
     "metadata": {},
     "source": [
      "* Pyplot interface will \"remember\" the last figure you worked with\n",
      "* It will redraw automatically\n",
      "* convenient for most cases\n",
      "\n",
      "**But:**\n",
      "  * Complex things or GUI programming $\\rightarrow$ use the figure/axis objects directly.\n",
      "  * Please do not use `pylab`"
     ]
    },
    {
     "cell_type": "heading",
     "level": 2,
     "metadata": {
      "slideshow": {
       "slide_type": "subslide"
      }
     },
     "source": [
      "Plotting from a script, etc."
     ]
    },
    {
     "cell_type": "markdown",
     "metadata": {},
     "source": [
      "* *IPython notebook* like before or `ipython notebook --matplotlib=inline`\n",
      "* Run *IPython* with: `ipython --matplotlib`\n",
      "* In a script calling `plt.show()` will show all figures and pause the program\n",
      "* ``plt.savefig()`` or `figure.savefig()`` to save to almost arbitrary file types.\n",
      "* Animations are easy $\\rightarrow$ check the tutorials"
     ]
    },
    {
     "cell_type": "heading",
     "level": 2,
     "metadata": {
      "slideshow": {
       "slide_type": "subslide"
      }
     },
     "source": [
      "Simple plot examples:"
     ]
    },
    {
     "cell_type": "code",
     "collapsed": false,
     "input": [
      "plt.figure()\n",
      "x = np.linspace(0, 20, 301)\n",
      "plt.plot(x, np.sin(x), label='sine')\n",
      "plt.legend()\n",
      "plt.xlabel('$x$')\n",
      "plt.ylabel('$y$')"
     ],
     "language": "python",
     "metadata": {},
     "outputs": [
      {
       "javascript": [
        "/* Put everything inside the global mpl namespace */\n",
        "window.mpl = {};\n",
        "\n",
        "mpl.get_websocket_type = function() {\n",
        "    if (typeof(WebSocket) !== 'undefined') {\n",
        "        return WebSocket;\n",
        "    } else if (typeof(MozWebSocket) !== 'undefined') {\n",
        "        return MozWebSocket;\n",
        "    } else {\n",
        "        alert('Your browser does not have WebSocket support.' +\n",
        "              'Please try Chrome, Safari or Firefox \u2265 6. ' +\n",
        "              'Firefox 4 and 5 are also supported but you ' +\n",
        "              'have to enable WebSockets in about:config.');\n",
        "    };\n",
        "}\n",
        "\n",
        "mpl.figure = function(figure_id, websocket, ondownload, parent_element) {\n",
        "    this.id = figure_id;\n",
        "\n",
        "    this.ws = websocket;\n",
        "\n",
        "    this.supports_binary = (this.ws.binaryType != undefined);\n",
        "\n",
        "    if (!this.supports_binary) {\n",
        "        var warnings = document.getElementById(\"mpl-warnings\");\n",
        "        if (warnings) {\n",
        "            warnings.style.display = 'block';\n",
        "            warnings.textContent = (\n",
        "                \"This browser does not support binary websocket messages. \" +\n",
        "                    \"Performance may be slow.\");\n",
        "        }\n",
        "    }\n",
        "\n",
        "    this.imageObj = new Image();\n",
        "\n",
        "    this.context = undefined;\n",
        "    this.message = undefined;\n",
        "    this.canvas = undefined;\n",
        "    this.rubberband_canvas = undefined;\n",
        "    this.rubberband_context = undefined;\n",
        "    this.format_dropdown = undefined;\n",
        "\n",
        "    this.focus_on_mousover = false;\n",
        "    this.image_mode = 'full';\n",
        "\n",
        "    this.root = $('<div/>');\n",
        "    this.root.attr('style', 'display: inline-block');\n",
        "    $(parent_element).append(this.root);\n",
        "\n",
        "    this._init_header(this);\n",
        "    this._init_canvas(this);\n",
        "    this._init_toolbar(this);\n",
        "\n",
        "    var fig = this;\n",
        "\n",
        "    this.waiting = false;\n",
        "\n",
        "    this.ws.onopen =  function () {\n",
        "            fig.send_message(\"supports_binary\", {value: fig.supports_binary});\n",
        "            fig.send_message(\"send_image_mode\", {});\n",
        "            fig.send_message(\"refresh\", {});\n",
        "        }\n",
        "\n",
        "    this.imageObj.onload = function() {\n",
        "            if (fig.image_mode == 'full') {\n",
        "                // Full images could contain transparency (where diff images\n",
        "                // almost always do), so we need to clear the canvas so that\n",
        "                // there is no ghosting.\n",
        "                fig.context.clearRect(0, 0, fig.canvas.width, fig.canvas.height);\n",
        "            }\n",
        "            fig.context.drawImage(fig.imageObj, 0, 0);\n",
        "            fig.waiting = false;\n",
        "        };\n",
        "\n",
        "    this.imageObj.onunload = function() {\n",
        "        this.ws.close();\n",
        "    }\n",
        "\n",
        "    this.ws.onmessage = this._make_on_message_function(this);\n",
        "\n",
        "    this.ondownload = ondownload;\n",
        "}\n",
        "\n",
        "mpl.figure.prototype._init_header = function() {\n",
        "    var titlebar = $(\n",
        "        '<div class=\"ui-dialog-titlebar ui-widget-header ui-corner-all ' +\n",
        "        'ui-helper-clearfix\"/>');\n",
        "    var titletext = $(\n",
        "        '<div class=\"ui-dialog-title\" style=\"width: 100%; ' +\n",
        "        'text-align: center; padding: 3px;\"/>');\n",
        "    titlebar.append(titletext)\n",
        "    this.root.append(titlebar);\n",
        "    this.header = titletext[0];\n",
        "}\n",
        "\n",
        "mpl.figure.prototype._init_canvas = function() {\n",
        "    var fig = this;\n",
        "\n",
        "    var canvas_div = $('<div/>');\n",
        "    canvas_div.resizable({ resize: mpl.debounce_resize(\n",
        "        function(event, ui) { fig.request_resize(ui.size.width, ui.size.height); }\n",
        "        , 50)});\n",
        "\n",
        "    canvas_div.attr('style', 'position: relative; clear: both;');\n",
        "    this.root.append(canvas_div);\n",
        "\n",
        "    var canvas = $('<canvas/>');\n",
        "    canvas.addClass('mpl-canvas');\n",
        "    canvas.attr('style', \"left: 0; top: 0; z-index: 0;\")\n",
        "\n",
        "    function canvas_keyboard_event(event) {\n",
        "        return fig.key_event(event, event['data']);\n",
        "    }\n",
        "\n",
        "    this.canvas = canvas[0];\n",
        "    this.context = canvas[0].getContext(\"2d\");\n",
        "\n",
        "    var rubberband = $('<canvas/>');\n",
        "    rubberband.attr('style', \"position: absolute; left: 0; top: 0; z-index: 1;\")\n",
        "    function mouse_event_fn(event) {\n",
        "        return fig.mouse_event(event, event['data']);\n",
        "    }\n",
        "    rubberband.mousedown('button_press', mouse_event_fn);\n",
        "    rubberband.mouseup('button_release', mouse_event_fn);\n",
        "    // Throttle sequential mouse events to 1 every 20ms.\n",
        "    rubberband.mousemove('motion_notify', mouse_event_fn);\n",
        "\n",
        "    canvas_div.append(canvas);\n",
        "    canvas_div.append(rubberband);\n",
        "\n",
        "    canvas_div.keydown('key_press', canvas_keyboard_event);\n",
        "    canvas_div.keydown('key_release', canvas_keyboard_event);\n",
        "\n",
        "    this.rubberband = rubberband;\n",
        "    this.rubberband_canvas = rubberband[0];\n",
        "    this.rubberband_context = rubberband[0].getContext(\"2d\");\n",
        "    this.rubberband_context.strokeStyle = \"#000000\";\n",
        "\n",
        "    this._resize_canvas = function(width, height) {\n",
        "        // Keep the size of the canvas, canvas container, and rubber band\n",
        "        // canvas in synch.\n",
        "        canvas_div.css('width', width)\n",
        "        canvas_div.css('height', height)\n",
        "\n",
        "        canvas.attr('width', width);\n",
        "        canvas.attr('height', height);\n",
        "\n",
        "        rubberband.attr('width', width);\n",
        "        rubberband.attr('height', height);\n",
        "    }\n",
        "\n",
        "    // Set the figure to an initial 600x600px, this will subsequently be updated\n",
        "    // upon first draw.\n",
        "    this._resize_canvas(600, 600);\n",
        "}\n",
        "\n",
        "mpl.figure.prototype._init_toolbar = function() {\n",
        "    var fig = this;\n",
        "\n",
        "    var nav_element = $('<div/>')\n",
        "    nav_element.attr('style', 'width: 100%');\n",
        "    this.root.append(nav_element);\n",
        "\n",
        "    // Define a callback function for later on.\n",
        "    function toolbar_event(event) {\n",
        "        return fig.toolbar_button_onclick(event['data']);\n",
        "    }\n",
        "    function toolbar_mouse_event(event) {\n",
        "        return fig.toolbar_button_onmouseover(event['data']);\n",
        "    }\n",
        "\n",
        "    for(var toolbar_ind in mpl.toolbar_items){\n",
        "        var name = mpl.toolbar_items[toolbar_ind][0];\n",
        "        var tooltip = mpl.toolbar_items[toolbar_ind][1];\n",
        "        var image = mpl.toolbar_items[toolbar_ind][2];\n",
        "        var method_name = mpl.toolbar_items[toolbar_ind][3];\n",
        "\n",
        "        if (!name) {\n",
        "            // put a spacer in here.\n",
        "            continue;\n",
        "        }\n",
        "        var button = $('<button/>');\n",
        "        button.addClass('ui-button ui-widget ui-state-default ui-corner-all ' +\n",
        "                        'ui-button-icon-only');\n",
        "        button.attr('role', 'button');\n",
        "        button.attr('aria-disabled', 'false');\n",
        "        button.click(method_name, toolbar_event);\n",
        "        button.mouseover(tooltip, toolbar_mouse_event);\n",
        "\n",
        "        var icon_img = $('<span/>');\n",
        "        icon_img.addClass('ui-button-icon-primary ui-icon');\n",
        "        icon_img.addClass(image);\n",
        "        icon_img.addClass('ui-corner-all');\n",
        "\n",
        "        var tooltip_span = $('<span/>');\n",
        "        tooltip_span.addClass('ui-button-text');\n",
        "        tooltip_span.html(tooltip);\n",
        "\n",
        "        button.append(icon_img);\n",
        "        button.append(tooltip_span);\n",
        "\n",
        "        nav_element.append(button);\n",
        "    }\n",
        "\n",
        "    var fmt_picker_span = $('<span/>');\n",
        "\n",
        "    var fmt_picker = $('<select/>');\n",
        "    fmt_picker.addClass('mpl-toolbar-option ui-widget ui-widget-content');\n",
        "    fmt_picker_span.append(fmt_picker);\n",
        "    nav_element.append(fmt_picker_span);\n",
        "    this.format_dropdown = fmt_picker[0];\n",
        "\n",
        "    for (var ind in mpl.extensions) {\n",
        "        var fmt = mpl.extensions[ind];\n",
        "        var option = $(\n",
        "            '<option/>', {selected: fmt === mpl.default_extension}).html(fmt);\n",
        "        fmt_picker.append(option)\n",
        "    }\n",
        "\n",
        "    // Add hover states to the ui-buttons\n",
        "    $( \".ui-button\" ).hover(\n",
        "        function() { $(this).addClass(\"ui-state-hover\");},\n",
        "        function() { $(this).removeClass(\"ui-state-hover\");}\n",
        "    );\n",
        "\n",
        "    var status_bar = $('<span class=\"mpl-message\"/>');\n",
        "    nav_element.append(status_bar);\n",
        "    this.message = status_bar[0];\n",
        "}\n",
        "\n",
        "mpl.figure.prototype.request_resize = function(x_pixels, y_pixels) {\n",
        "    // Request matplotlib to resize the figure. Matplotlib will then trigger a resize in the client,\n",
        "    // which will in turn request a refresh of the image.\n",
        "    this.send_message('resize', {'width': x_pixels, 'height': y_pixels});\n",
        "}\n",
        "\n",
        "mpl.figure.prototype.send_message = function(type, properties) {\n",
        "    properties['type'] = type;\n",
        "    properties['figure_id'] = this.id;\n",
        "    this.ws.send(JSON.stringify(properties));\n",
        "}\n",
        "\n",
        "mpl.figure.prototype.send_draw_message = function() {\n",
        "    if (!this.waiting) {\n",
        "        this.waiting = true;\n",
        "        this.ws.send(JSON.stringify({type: \"draw\", figure_id: this.id}));\n",
        "    }\n",
        "}\n",
        "\n",
        "mpl.figure.prototype.handle_resize = function(fig, msg) {\n",
        "    var size = msg['size'];\n",
        "    if (size[0] != fig.canvas.width || size[1] != fig.canvas.height) {\n",
        "        fig._resize_canvas(size[0], size[1]);\n",
        "        fig.send_message(\"refresh\", {});\n",
        "    };\n",
        "}\n",
        "\n",
        "mpl.figure.prototype.handle_rubberband = function(fig, msg) {\n",
        "    var x0 = msg['x0'];\n",
        "    var y0 = fig.canvas.height - msg['y0'];\n",
        "    var x1 = msg['x1'];\n",
        "    var y1 = fig.canvas.height - msg['y1'];\n",
        "    x0 = Math.floor(x0) + 0.5;\n",
        "    y0 = Math.floor(y0) + 0.5;\n",
        "    x1 = Math.floor(x1) + 0.5;\n",
        "    y1 = Math.floor(y1) + 0.5;\n",
        "    var min_x = Math.min(x0, x1);\n",
        "    var min_y = Math.min(y0, y1);\n",
        "    var width = Math.abs(x1 - x0);\n",
        "    var height = Math.abs(y1 - y0);\n",
        "\n",
        "    fig.rubberband_context.clearRect(\n",
        "        0, 0, fig.canvas.width, fig.canvas.height);\n",
        "\n",
        "    fig.rubberband_context.strokeRect(min_x, min_y, width, height);\n",
        "}\n",
        "\n",
        "mpl.figure.prototype.handle_figure_label = function(fig, msg) {\n",
        "    // Updates the figure title.\n",
        "    fig.header.textContent = msg['label'];\n",
        "}\n",
        "\n",
        "mpl.figure.prototype.handle_cursor = function(fig, msg) {\n",
        "    var cursor = msg['cursor'];\n",
        "    switch(cursor)\n",
        "    {\n",
        "    case 0:\n",
        "        cursor = 'pointer';\n",
        "        break;\n",
        "    case 1:\n",
        "        cursor = 'default';\n",
        "        break;\n",
        "    case 2:\n",
        "        cursor = 'crosshair';\n",
        "        break;\n",
        "    case 3:\n",
        "        cursor = 'move';\n",
        "        break;\n",
        "    }\n",
        "    fig.rubberband_canvas.style.cursor = cursor;\n",
        "}\n",
        "\n",
        "mpl.figure.prototype.handle_message = function(fig, msg) {\n",
        "    fig.message.textContent = msg['message'];\n",
        "}\n",
        "\n",
        "mpl.figure.prototype.handle_draw = function(fig, msg) {\n",
        "    // Request the server to send over a new figure.\n",
        "    fig.send_draw_message();\n",
        "}\n",
        "\n",
        "mpl.figure.prototype.handle_image_mode = function(fig, msg) {\n",
        "    fig.image_mode = msg['mode'];\n",
        "}\n",
        "\n",
        "mpl.figure.prototype.updated_canvas_event = function() {\n",
        "    // Called whenever the canvas gets updated.\n",
        "    this.send_message(\"ack\", {});\n",
        "}\n",
        "\n",
        "// A function to construct a web socket function for onmessage handling.\n",
        "// Called in the figure constructor.\n",
        "mpl.figure.prototype._make_on_message_function = function(fig) {\n",
        "    return function socket_on_message(evt) {\n",
        "        if (evt.data instanceof Blob) {\n",
        "            /* FIXME: We get \"Resource interpreted as Image but\n",
        "             * transferred with MIME type text/plain:\" errors on\n",
        "             * Chrome.  But how to set the MIME type?  It doesn't seem\n",
        "             * to be part of the websocket stream */\n",
        "            evt.data.type = \"image/png\";\n",
        "\n",
        "            /* Free the memory for the previous frames */\n",
        "            if (fig.imageObj.src) {\n",
        "                (window.URL || window.webkitURL).revokeObjectURL(\n",
        "                    fig.imageObj.src);\n",
        "            }\n",
        "\n",
        "            fig.imageObj.src = (window.URL || window.webkitURL).createObjectURL(\n",
        "                evt.data);\n",
        "            fig.updated_canvas_event();\n",
        "            return;\n",
        "        }\n",
        "        else if (typeof evt.data === 'string' && evt.data.slice(0, 21) == \"data:image/png;base64\") {\n",
        "            fig.imageObj.src = evt.data;\n",
        "            fig.updated_canvas_event();\n",
        "            return;\n",
        "        }\n",
        "\n",
        "        var msg = JSON.parse(evt.data);\n",
        "        var msg_type = msg['type'];\n",
        "\n",
        "        // Call the  \"handle_{type}\" callback, which takes\n",
        "        // the figure and JSON message as its only arguments.\n",
        "        try {\n",
        "            var callback = fig[\"handle_\" + msg_type];\n",
        "        } catch (e) {\n",
        "            console.log(\"No handler for the '\" + msg_type + \"' message type: \", msg);\n",
        "            return;\n",
        "        }\n",
        "\n",
        "        if (callback) {\n",
        "            try {\n",
        "                // console.log(\"Handling '\" + msg_type + \"' message: \", msg);\n",
        "                callback(fig, msg);\n",
        "            } catch (e) {\n",
        "                console.log(\"Exception inside the 'handler_\" + msg_type + \"' callback:\", e, e.stack, msg);\n",
        "            }\n",
        "        }\n",
        "    };\n",
        "}\n",
        "\n",
        "// from http://stackoverflow.com/questions/1114465/getting-mouse-location-in-canvas\n",
        "mpl.findpos = function(e) {\n",
        "    //this section is from http://www.quirksmode.org/js/events_properties.html\n",
        "    var targ;\n",
        "    if (!e)\n",
        "        e = window.event;\n",
        "    if (e.target)\n",
        "        targ = e.target;\n",
        "    else if (e.srcElement)\n",
        "        targ = e.srcElement;\n",
        "    if (targ.nodeType == 3) // defeat Safari bug\n",
        "        targ = targ.parentNode;\n",
        "\n",
        "    // jQuery normalizes the pageX and pageY\n",
        "    // pageX,Y are the mouse positions relative to the document\n",
        "    // offset() returns the position of the element relative to the document\n",
        "    var x = e.pageX - $(targ).offset().left;\n",
        "    var y = e.pageY - $(targ).offset().top;\n",
        "\n",
        "    return {\"x\": x, \"y\": y};\n",
        "};\n",
        "\n",
        "mpl.figure.prototype.mouse_event = function(event, name) {\n",
        "    var canvas_pos = mpl.findpos(event)\n",
        "\n",
        "    if (this.focus_on_mouseover && name === 'motion_notify')\n",
        "    {\n",
        "        this.canvas.focus();\n",
        "    }\n",
        "\n",
        "    var x = canvas_pos.x;\n",
        "    var y = canvas_pos.y;\n",
        "\n",
        "    this.send_message(name, {x: x, y: y, button: event.button});\n",
        "\n",
        "    /* This prevents the web browser from automatically changing to\n",
        "     * the text insertion cursor when the button is pressed.  We want\n",
        "     * to control all of the cursor setting manually through the\n",
        "     * 'cursor' event from matplotlib */\n",
        "    event.preventDefault();\n",
        "    return false;\n",
        "}\n",
        "\n",
        "mpl.figure.prototype.key_event = function(event, name) {\n",
        "    /* Don't fire events just when a modifier is changed.  Modifiers are\n",
        "       sent along with other keys. */\n",
        "    if (event.keyCode >= 16 && event.keyCode <= 20) {\n",
        "        return;\n",
        "    }\n",
        "\n",
        "    value = '';\n",
        "    if (event.ctrlKey) {\n",
        "        value += \"ctrl+\";\n",
        "    }\n",
        "    if (event.altKey) {\n",
        "        value += \"alt+\";\n",
        "    }\n",
        "    value += String.fromCharCode(event.keyCode).toLowerCase();\n",
        "\n",
        "    this.send_message(name, {key: value});\n",
        "}\n",
        "\n",
        "mpl.figure.prototype.toolbar_button_onclick = function(name) {\n",
        "    if (name == 'download') {\n",
        "        var format_dropdown = this.format_dropdown;\n",
        "        var format = format_dropdown.options[format_dropdown.selectedIndex].value;\n",
        "        this.ondownload(this, format);\n",
        "    } else {\n",
        "        this.send_message(\"toolbar_button\", {name: name});\n",
        "    }\n",
        "};\n",
        "\n",
        "mpl.figure.prototype.toolbar_button_onmouseover = function(tooltip) {\n",
        "    this.message.textContent = tooltip;\n",
        "};\n",
        "\n",
        "mpl.debounce_event = function(func, time){\n",
        "    var timer;\n",
        "    return function(event){\n",
        "        clearTimeout(timer);\n",
        "        timer = setTimeout(function(){ func(event); }, time);\n",
        "    };\n",
        "}\n",
        "\n",
        "mpl.debounce_resize = function(func, time){\n",
        "    var timer;\n",
        "    return function(event, ui){\n",
        "        clearTimeout(timer);\n",
        "        timer = setTimeout(function(){ func(event, ui); }, time);\n",
        "    };\n",
        "}\n",
        "mpl.toolbar_items = [[\"Home\", \"Reset original view\", \"fa fa-home icon-home\", \"home\"], [\"Back\", \"Back to  previous view\", \"fa fa-arrow-left icon-arrow-left\", \"back\"], [\"Forward\", \"Forward to next view\", \"fa fa-arrow-right icon-arrow-right\", \"forward\"], [\"\", \"\", \"\", \"\"], [\"Pan\", \"Pan axes with left mouse, zoom with right\", \"fa fa-arrows icon-move\", \"pan\"], [\"Zoom\", \"Zoom to rectangle\", \"fa fa-square-o icon-check-empty\", \"zoom\"], [\"\", \"\", \"\", \"\"]];\n",
        "\n",
        "mpl.extensions = [\"eps\", \"jpeg\", \"pgf\", \"pdf\", \"png\", \"ps\", \"raw\", \"svg\", \"tif\"];\n",
        "\n",
        "mpl.default_extension = \"png\";var comm_websocket_adapter = function(comm) {\n",
        "    // Create a \"websocket\"-like object which calls the given IPython comm\n",
        "    // object with the appropriate methods. Currently this is a non binary\n",
        "    // socket, so there is still some room for performance tuning.\n",
        "    var ws = {};\n",
        "\n",
        "    ws.close = function() {\n",
        "        comm.close()\n",
        "    };\n",
        "    ws.send = function(m) {\n",
        "        //console.log('sending', m);\n",
        "        comm.send(m);\n",
        "    };\n",
        "    // Register the callback with on_msg.\n",
        "    comm.on_msg(function(msg) {\n",
        "        //console.log('receiving', msg['content']['data'], msg);\n",
        "        // Pass the mpl event to the overriden (by mpl) onmessage function.\n",
        "        ws.onmessage(msg['content']['data'])\n",
        "    });\n",
        "    return ws;\n",
        "}\n",
        "\n",
        "mpl.mpl_figure_comm = function(comm, msg) {\n",
        "    // This is the function which gets called when the mpl process\n",
        "    // starts-up an IPython Comm through the \"matplotlib\" channel.\n",
        "\n",
        "    var id = msg.content.data.id;\n",
        "    // Get hold of the div created by the display call when the Comm\n",
        "    // socket was opened in Python.\n",
        "    var element = $(\"#\" + id);\n",
        "    var ws_proxy = comm_websocket_adapter(comm)\n",
        "\n",
        "    var fig = new mpl.figure(id, ws_proxy,\n",
        "                           function() { },\n",
        "                           element.get(0));\n",
        "\n",
        "    // Call onopen now - mpl needs it, as it is assuming we've passed it a real\n",
        "    // web socket which is closed, not our websocket->open comm proxy.\n",
        "    ws_proxy.onopen();\n",
        "\n",
        "    fig.parent_element = element.get(0);\n",
        "    fig.cell_info = mpl.find_output_cell(\"<div id='\" + id + \"'></div>\");\n",
        "\n",
        "    var output_index = fig.cell_info[2]\n",
        "    var cell = fig.cell_info[0];\n",
        "\n",
        "    // Disable right mouse context menu.\n",
        "    $(fig.rubberband_canvas).bind(\"contextmenu\",function(e){\n",
        "        return false;\n",
        "    });\n",
        "\n",
        "};\n",
        "\n",
        "mpl.figure.prototype.handle_close = function(fig, msg) {\n",
        "    // Update the output cell to use the data from the current canvas.\n",
        "    fig.push_to_output();\n",
        "    var dataURL = fig.canvas.toDataURL();\n",
        "    // Re-enable the keyboard manager in IPython - without this line, in FF,\n",
        "    // the notebook keyboard shortcuts fail.\n",
        "    IPython.keyboard_manager.enable()\n",
        "    $(fig.parent_element).html('<img src=\"' + dataURL + '\">');\n",
        "    fig.send_message('closing', {});\n",
        "    fig.ws.close()\n",
        "}\n",
        "\n",
        "mpl.figure.prototype.push_to_output = function(remove_interactive) {\n",
        "    // Turn the data on the canvas into data in the output cell.\n",
        "    var dataURL = this.canvas.toDataURL();\n",
        "    this.cell_info[1]['text/html'] = '<img src=\"' + dataURL + '\">';\n",
        "}\n",
        "\n",
        "mpl.figure.prototype.updated_canvas_event = function() {\n",
        "    // Tell IPython that the notebook contents must change.\n",
        "    IPython.notebook.set_dirty(true);\n",
        "    this.send_message(\"ack\", {});\n",
        "    var fig = this;\n",
        "    // Wait a second, then push the new image to the DOM so\n",
        "    // that it is saved nicely (might be nice to debounce this).\n",
        "    setTimeout(function () { fig.push_to_output() }, 1000);\n",
        "}\n",
        "\n",
        "mpl.figure.prototype._init_toolbar = function() {\n",
        "    var fig = this;\n",
        "\n",
        "    var nav_element = $('<div/>')\n",
        "    nav_element.attr('style', 'width: 100%');\n",
        "    this.root.append(nav_element);\n",
        "\n",
        "    // Define a callback function for later on.\n",
        "    function toolbar_event(event) {\n",
        "        return fig.toolbar_button_onclick(event['data']);\n",
        "    }\n",
        "    function toolbar_mouse_event(event) {\n",
        "        return fig.toolbar_button_onmouseover(event['data']);\n",
        "    }\n",
        "\n",
        "    for(var toolbar_ind in mpl.toolbar_items){\n",
        "        var name = mpl.toolbar_items[toolbar_ind][0];\n",
        "        var tooltip = mpl.toolbar_items[toolbar_ind][1];\n",
        "        var image = mpl.toolbar_items[toolbar_ind][2];\n",
        "        var method_name = mpl.toolbar_items[toolbar_ind][3];\n",
        "\n",
        "        if (!name) { continue; };\n",
        "\n",
        "        var button = $('<button class=\"btn btn-default\" href=\"#\" title=\"' + name + '\"><i class=\"fa ' + image + ' fa-lg\"></i></button>');\n",
        "        button.click(method_name, toolbar_event);\n",
        "        button.mouseover(tooltip, toolbar_mouse_event);\n",
        "        nav_element.append(button);\n",
        "    }\n",
        "\n",
        "    // Add the status bar.\n",
        "    var status_bar = $('<span class=\"mpl-message\" style=\"text-align:right; float: right;\"/>');\n",
        "    nav_element.append(status_bar);\n",
        "    this.message = status_bar[0];\n",
        "\n",
        "    // Add the close button to the window.\n",
        "    var buttongrp = $('<div class=\"btn-group inline pull-right\"></div>');\n",
        "    var button = $('<button class=\"btn btn-mini btn-danger\" href=\"#\" title=\"Close figure\"><i class=\"fa fa-times icon-remove icon-large\"></i></button>');\n",
        "    button.click(function (evt) { fig.handle_close(fig, {}); } );\n",
        "    button.mouseover('Close figure', toolbar_mouse_event);\n",
        "    buttongrp.append(button);\n",
        "    var titlebar = this.root.find($('.ui-dialog-titlebar'));\n",
        "    titlebar.prepend(buttongrp);\n",
        "}\n",
        "\n",
        "mpl.find_output_cell = function(html_output) {\n",
        "    // Return the cell and output element which can be found *uniquely* in the notebook.\n",
        "    // Note - this is a bit hacky, but it is done because the \"notebook_saving.Notebook\"\n",
        "    // IPython event is triggered only after the cells have been serialised, which for\n",
        "    // our purposes (turning an active figure into a static one), is too late.\n",
        "    var cells = IPython.notebook.get_cells();\n",
        "    var ncells = cells.length;\n",
        "    for (var i=0; i<ncells; i++) {\n",
        "        var cell = cells[i];\n",
        "        if (cell.cell_type == 'code'){\n",
        "            for (var j=0; j<cell.output_area.outputs.length; j++) {\n",
        "                var data = cell.output_area.outputs[j];\n",
        "                if (cell.output_area.outputs[j]['text/html'] == html_output) {\n",
        "                    var output = cell.output_area.outputs[j];\n",
        "                    return [cell, output, j];\n",
        "                }\n",
        "            }\n",
        "        }\n",
        "    }\n",
        "}\n",
        "\n",
        "// Register the function which deals with the matplotlib target/channel.\n",
        "// The kernel may be null if the page has been refreshed.\n",
        "if (IPython.notebook.kernel != null) {\n",
        "    IPython.notebook.kernel.comm_manager.register_target('matplotlib', mpl.mpl_figure_comm);\n",
        "}\n"
       ],
       "metadata": {},
       "output_type": "display_data",
       "text": [
        "<IPython.core.display.Javascript at 0x7f3fa00a0710>"
       ]
      },
      {
       "html": [
        "<img src=\"data:image/png;base64,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\">"
       ],
       "metadata": {},
       "output_type": "display_data",
       "text": [
        "<IPython.core.display.HTML at 0x7f3fa5a75690>"
       ]
      },
      {
       "metadata": {},
       "output_type": "pyout",
       "prompt_number": 109,
       "text": [
        "<matplotlib.text.Text at 0x7f3f9fe37a50>"
       ]
      }
     ],
     "prompt_number": 109
    },
    {
     "cell_type": "code",
     "collapsed": false,
     "input": [
      "plt.figure()\n",
      "x = y = np.linspace(-3, 3, 101)\n",
      "plt.title('Gaussian function')\n",
      "values = np.exp(-(x**2 + (y[:, None] + 0.5)**2))\n",
      "plt.pcolormesh(x, y, values)\n",
      "plt.colorbar()"
     ],
     "language": "python",
     "metadata": {
      "slideshow": {
       "slide_type": "subslide"
      }
     },
     "outputs": [
      {
       "javascript": [
        "/* Put everything inside the global mpl namespace */\n",
        "window.mpl = {};\n",
        "\n",
        "mpl.get_websocket_type = function() {\n",
        "    if (typeof(WebSocket) !== 'undefined') {\n",
        "        return WebSocket;\n",
        "    } else if (typeof(MozWebSocket) !== 'undefined') {\n",
        "        return MozWebSocket;\n",
        "    } else {\n",
        "        alert('Your browser does not have WebSocket support.' +\n",
        "              'Please try Chrome, Safari or Firefox \u2265 6. ' +\n",
        "              'Firefox 4 and 5 are also supported but you ' +\n",
        "              'have to enable WebSockets in about:config.');\n",
        "    };\n",
        "}\n",
        "\n",
        "mpl.figure = function(figure_id, websocket, ondownload, parent_element) {\n",
        "    this.id = figure_id;\n",
        "\n",
        "    this.ws = websocket;\n",
        "\n",
        "    this.supports_binary = (this.ws.binaryType != undefined);\n",
        "\n",
        "    if (!this.supports_binary) {\n",
        "        var warnings = document.getElementById(\"mpl-warnings\");\n",
        "        if (warnings) {\n",
        "            warnings.style.display = 'block';\n",
        "            warnings.textContent = (\n",
        "                \"This browser does not support binary websocket messages. \" +\n",
        "                    \"Performance may be slow.\");\n",
        "        }\n",
        "    }\n",
        "\n",
        "    this.imageObj = new Image();\n",
        "\n",
        "    this.context = undefined;\n",
        "    this.message = undefined;\n",
        "    this.canvas = undefined;\n",
        "    this.rubberband_canvas = undefined;\n",
        "    this.rubberband_context = undefined;\n",
        "    this.format_dropdown = undefined;\n",
        "\n",
        "    this.focus_on_mousover = false;\n",
        "    this.image_mode = 'full';\n",
        "\n",
        "    this.root = $('<div/>');\n",
        "    this.root.attr('style', 'display: inline-block');\n",
        "    $(parent_element).append(this.root);\n",
        "\n",
        "    this._init_header(this);\n",
        "    this._init_canvas(this);\n",
        "    this._init_toolbar(this);\n",
        "\n",
        "    var fig = this;\n",
        "\n",
        "    this.waiting = false;\n",
        "\n",
        "    this.ws.onopen =  function () {\n",
        "            fig.send_message(\"supports_binary\", {value: fig.supports_binary});\n",
        "            fig.send_message(\"send_image_mode\", {});\n",
        "            fig.send_message(\"refresh\", {});\n",
        "        }\n",
        "\n",
        "    this.imageObj.onload = function() {\n",
        "            if (fig.image_mode == 'full') {\n",
        "                // Full images could contain transparency (where diff images\n",
        "                // almost always do), so we need to clear the canvas so that\n",
        "                // there is no ghosting.\n",
        "                fig.context.clearRect(0, 0, fig.canvas.width, fig.canvas.height);\n",
        "            }\n",
        "            fig.context.drawImage(fig.imageObj, 0, 0);\n",
        "            fig.waiting = false;\n",
        "        };\n",
        "\n",
        "    this.imageObj.onunload = function() {\n",
        "        this.ws.close();\n",
        "    }\n",
        "\n",
        "    this.ws.onmessage = this._make_on_message_function(this);\n",
        "\n",
        "    this.ondownload = ondownload;\n",
        "}\n",
        "\n",
        "mpl.figure.prototype._init_header = function() {\n",
        "    var titlebar = $(\n",
        "        '<div class=\"ui-dialog-titlebar ui-widget-header ui-corner-all ' +\n",
        "        'ui-helper-clearfix\"/>');\n",
        "    var titletext = $(\n",
        "        '<div class=\"ui-dialog-title\" style=\"width: 100%; ' +\n",
        "        'text-align: center; padding: 3px;\"/>');\n",
        "    titlebar.append(titletext)\n",
        "    this.root.append(titlebar);\n",
        "    this.header = titletext[0];\n",
        "}\n",
        "\n",
        "mpl.figure.prototype._init_canvas = function() {\n",
        "    var fig = this;\n",
        "\n",
        "    var canvas_div = $('<div/>');\n",
        "    canvas_div.resizable({ resize: mpl.debounce_resize(\n",
        "        function(event, ui) { fig.request_resize(ui.size.width, ui.size.height); }\n",
        "        , 50)});\n",
        "\n",
        "    canvas_div.attr('style', 'position: relative; clear: both;');\n",
        "    this.root.append(canvas_div);\n",
        "\n",
        "    var canvas = $('<canvas/>');\n",
        "    canvas.addClass('mpl-canvas');\n",
        "    canvas.attr('style', \"left: 0; top: 0; z-index: 0;\")\n",
        "\n",
        "    function canvas_keyboard_event(event) {\n",
        "        return fig.key_event(event, event['data']);\n",
        "    }\n",
        "\n",
        "    this.canvas = canvas[0];\n",
        "    this.context = canvas[0].getContext(\"2d\");\n",
        "\n",
        "    var rubberband = $('<canvas/>');\n",
        "    rubberband.attr('style', \"position: absolute; left: 0; top: 0; z-index: 1;\")\n",
        "    function mouse_event_fn(event) {\n",
        "        return fig.mouse_event(event, event['data']);\n",
        "    }\n",
        "    rubberband.mousedown('button_press', mouse_event_fn);\n",
        "    rubberband.mouseup('button_release', mouse_event_fn);\n",
        "    // Throttle sequential mouse events to 1 every 20ms.\n",
        "    rubberband.mousemove('motion_notify', mouse_event_fn);\n",
        "\n",
        "    canvas_div.append(canvas);\n",
        "    canvas_div.append(rubberband);\n",
        "\n",
        "    canvas_div.keydown('key_press', canvas_keyboard_event);\n",
        "    canvas_div.keydown('key_release', canvas_keyboard_event);\n",
        "\n",
        "    this.rubberband = rubberband;\n",
        "    this.rubberband_canvas = rubberband[0];\n",
        "    this.rubberband_context = rubberband[0].getContext(\"2d\");\n",
        "    this.rubberband_context.strokeStyle = \"#000000\";\n",
        "\n",
        "    this._resize_canvas = function(width, height) {\n",
        "        // Keep the size of the canvas, canvas container, and rubber band\n",
        "        // canvas in synch.\n",
        "        canvas_div.css('width', width)\n",
        "        canvas_div.css('height', height)\n",
        "\n",
        "        canvas.attr('width', width);\n",
        "        canvas.attr('height', height);\n",
        "\n",
        "        rubberband.attr('width', width);\n",
        "        rubberband.attr('height', height);\n",
        "    }\n",
        "\n",
        "    // Set the figure to an initial 600x600px, this will subsequently be updated\n",
        "    // upon first draw.\n",
        "    this._resize_canvas(600, 600);\n",
        "}\n",
        "\n",
        "mpl.figure.prototype._init_toolbar = function() {\n",
        "    var fig = this;\n",
        "\n",
        "    var nav_element = $('<div/>')\n",
        "    nav_element.attr('style', 'width: 100%');\n",
        "    this.root.append(nav_element);\n",
        "\n",
        "    // Define a callback function for later on.\n",
        "    function toolbar_event(event) {\n",
        "        return fig.toolbar_button_onclick(event['data']);\n",
        "    }\n",
        "    function toolbar_mouse_event(event) {\n",
        "        return fig.toolbar_button_onmouseover(event['data']);\n",
        "    }\n",
        "\n",
        "    for(var toolbar_ind in mpl.toolbar_items){\n",
        "        var name = mpl.toolbar_items[toolbar_ind][0];\n",
        "        var tooltip = mpl.toolbar_items[toolbar_ind][1];\n",
        "        var image = mpl.toolbar_items[toolbar_ind][2];\n",
        "        var method_name = mpl.toolbar_items[toolbar_ind][3];\n",
        "\n",
        "        if (!name) {\n",
        "            // put a spacer in here.\n",
        "            continue;\n",
        "        }\n",
        "        var button = $('<button/>');\n",
        "        button.addClass('ui-button ui-widget ui-state-default ui-corner-all ' +\n",
        "                        'ui-button-icon-only');\n",
        "        button.attr('role', 'button');\n",
        "        button.attr('aria-disabled', 'false');\n",
        "        button.click(method_name, toolbar_event);\n",
        "        button.mouseover(tooltip, toolbar_mouse_event);\n",
        "\n",
        "        var icon_img = $('<span/>');\n",
        "        icon_img.addClass('ui-button-icon-primary ui-icon');\n",
        "        icon_img.addClass(image);\n",
        "        icon_img.addClass('ui-corner-all');\n",
        "\n",
        "        var tooltip_span = $('<span/>');\n",
        "        tooltip_span.addClass('ui-button-text');\n",
        "        tooltip_span.html(tooltip);\n",
        "\n",
        "        button.append(icon_img);\n",
        "        button.append(tooltip_span);\n",
        "\n",
        "        nav_element.append(button);\n",
        "    }\n",
        "\n",
        "    var fmt_picker_span = $('<span/>');\n",
        "\n",
        "    var fmt_picker = $('<select/>');\n",
        "    fmt_picker.addClass('mpl-toolbar-option ui-widget ui-widget-content');\n",
        "    fmt_picker_span.append(fmt_picker);\n",
        "    nav_element.append(fmt_picker_span);\n",
        "    this.format_dropdown = fmt_picker[0];\n",
        "\n",
        "    for (var ind in mpl.extensions) {\n",
        "        var fmt = mpl.extensions[ind];\n",
        "        var option = $(\n",
        "            '<option/>', {selected: fmt === mpl.default_extension}).html(fmt);\n",
        "        fmt_picker.append(option)\n",
        "    }\n",
        "\n",
        "    // Add hover states to the ui-buttons\n",
        "    $( \".ui-button\" ).hover(\n",
        "        function() { $(this).addClass(\"ui-state-hover\");},\n",
        "        function() { $(this).removeClass(\"ui-state-hover\");}\n",
        "    );\n",
        "\n",
        "    var status_bar = $('<span class=\"mpl-message\"/>');\n",
        "    nav_element.append(status_bar);\n",
        "    this.message = status_bar[0];\n",
        "}\n",
        "\n",
        "mpl.figure.prototype.request_resize = function(x_pixels, y_pixels) {\n",
        "    // Request matplotlib to resize the figure. Matplotlib will then trigger a resize in the client,\n",
        "    // which will in turn request a refresh of the image.\n",
        "    this.send_message('resize', {'width': x_pixels, 'height': y_pixels});\n",
        "}\n",
        "\n",
        "mpl.figure.prototype.send_message = function(type, properties) {\n",
        "    properties['type'] = type;\n",
        "    properties['figure_id'] = this.id;\n",
        "    this.ws.send(JSON.stringify(properties));\n",
        "}\n",
        "\n",
        "mpl.figure.prototype.send_draw_message = function() {\n",
        "    if (!this.waiting) {\n",
        "        this.waiting = true;\n",
        "        this.ws.send(JSON.stringify({type: \"draw\", figure_id: this.id}));\n",
        "    }\n",
        "}\n",
        "\n",
        "mpl.figure.prototype.handle_resize = function(fig, msg) {\n",
        "    var size = msg['size'];\n",
        "    if (size[0] != fig.canvas.width || size[1] != fig.canvas.height) {\n",
        "        fig._resize_canvas(size[0], size[1]);\n",
        "        fig.send_message(\"refresh\", {});\n",
        "    };\n",
        "}\n",
        "\n",
        "mpl.figure.prototype.handle_rubberband = function(fig, msg) {\n",
        "    var x0 = msg['x0'];\n",
        "    var y0 = fig.canvas.height - msg['y0'];\n",
        "    var x1 = msg['x1'];\n",
        "    var y1 = fig.canvas.height - msg['y1'];\n",
        "    x0 = Math.floor(x0) + 0.5;\n",
        "    y0 = Math.floor(y0) + 0.5;\n",
        "    x1 = Math.floor(x1) + 0.5;\n",
        "    y1 = Math.floor(y1) + 0.5;\n",
        "    var min_x = Math.min(x0, x1);\n",
        "    var min_y = Math.min(y0, y1);\n",
        "    var width = Math.abs(x1 - x0);\n",
        "    var height = Math.abs(y1 - y0);\n",
        "\n",
        "    fig.rubberband_context.clearRect(\n",
        "        0, 0, fig.canvas.width, fig.canvas.height);\n",
        "\n",
        "    fig.rubberband_context.strokeRect(min_x, min_y, width, height);\n",
        "}\n",
        "\n",
        "mpl.figure.prototype.handle_figure_label = function(fig, msg) {\n",
        "    // Updates the figure title.\n",
        "    fig.header.textContent = msg['label'];\n",
        "}\n",
        "\n",
        "mpl.figure.prototype.handle_cursor = function(fig, msg) {\n",
        "    var cursor = msg['cursor'];\n",
        "    switch(cursor)\n",
        "    {\n",
        "    case 0:\n",
        "        cursor = 'pointer';\n",
        "        break;\n",
        "    case 1:\n",
        "        cursor = 'default';\n",
        "        break;\n",
        "    case 2:\n",
        "        cursor = 'crosshair';\n",
        "        break;\n",
        "    case 3:\n",
        "        cursor = 'move';\n",
        "        break;\n",
        "    }\n",
        "    fig.rubberband_canvas.style.cursor = cursor;\n",
        "}\n",
        "\n",
        "mpl.figure.prototype.handle_message = function(fig, msg) {\n",
        "    fig.message.textContent = msg['message'];\n",
        "}\n",
        "\n",
        "mpl.figure.prototype.handle_draw = function(fig, msg) {\n",
        "    // Request the server to send over a new figure.\n",
        "    fig.send_draw_message();\n",
        "}\n",
        "\n",
        "mpl.figure.prototype.handle_image_mode = function(fig, msg) {\n",
        "    fig.image_mode = msg['mode'];\n",
        "}\n",
        "\n",
        "mpl.figure.prototype.updated_canvas_event = function() {\n",
        "    // Called whenever the canvas gets updated.\n",
        "    this.send_message(\"ack\", {});\n",
        "}\n",
        "\n",
        "// A function to construct a web socket function for onmessage handling.\n",
        "// Called in the figure constructor.\n",
        "mpl.figure.prototype._make_on_message_function = function(fig) {\n",
        "    return function socket_on_message(evt) {\n",
        "        if (evt.data instanceof Blob) {\n",
        "            /* FIXME: We get \"Resource interpreted as Image but\n",
        "             * transferred with MIME type text/plain:\" errors on\n",
        "             * Chrome.  But how to set the MIME type?  It doesn't seem\n",
        "             * to be part of the websocket stream */\n",
        "            evt.data.type = \"image/png\";\n",
        "\n",
        "            /* Free the memory for the previous frames */\n",
        "            if (fig.imageObj.src) {\n",
        "                (window.URL || window.webkitURL).revokeObjectURL(\n",
        "                    fig.imageObj.src);\n",
        "            }\n",
        "\n",
        "            fig.imageObj.src = (window.URL || window.webkitURL).createObjectURL(\n",
        "                evt.data);\n",
        "            fig.updated_canvas_event();\n",
        "            return;\n",
        "        }\n",
        "        else if (typeof evt.data === 'string' && evt.data.slice(0, 21) == \"data:image/png;base64\") {\n",
        "            fig.imageObj.src = evt.data;\n",
        "            fig.updated_canvas_event();\n",
        "            return;\n",
        "        }\n",
        "\n",
        "        var msg = JSON.parse(evt.data);\n",
        "        var msg_type = msg['type'];\n",
        "\n",
        "        // Call the  \"handle_{type}\" callback, which takes\n",
        "        // the figure and JSON message as its only arguments.\n",
        "        try {\n",
        "            var callback = fig[\"handle_\" + msg_type];\n",
        "        } catch (e) {\n",
        "            console.log(\"No handler for the '\" + msg_type + \"' message type: \", msg);\n",
        "            return;\n",
        "        }\n",
        "\n",
        "        if (callback) {\n",
        "            try {\n",
        "                // console.log(\"Handling '\" + msg_type + \"' message: \", msg);\n",
        "                callback(fig, msg);\n",
        "            } catch (e) {\n",
        "                console.log(\"Exception inside the 'handler_\" + msg_type + \"' callback:\", e, e.stack, msg);\n",
        "            }\n",
        "        }\n",
        "    };\n",
        "}\n",
        "\n",
        "// from http://stackoverflow.com/questions/1114465/getting-mouse-location-in-canvas\n",
        "mpl.findpos = function(e) {\n",
        "    //this section is from http://www.quirksmode.org/js/events_properties.html\n",
        "    var targ;\n",
        "    if (!e)\n",
        "        e = window.event;\n",
        "    if (e.target)\n",
        "        targ = e.target;\n",
        "    else if (e.srcElement)\n",
        "        targ = e.srcElement;\n",
        "    if (targ.nodeType == 3) // defeat Safari bug\n",
        "        targ = targ.parentNode;\n",
        "\n",
        "    // jQuery normalizes the pageX and pageY\n",
        "    // pageX,Y are the mouse positions relative to the document\n",
        "    // offset() returns the position of the element relative to the document\n",
        "    var x = e.pageX - $(targ).offset().left;\n",
        "    var y = e.pageY - $(targ).offset().top;\n",
        "\n",
        "    return {\"x\": x, \"y\": y};\n",
        "};\n",
        "\n",
        "mpl.figure.prototype.mouse_event = function(event, name) {\n",
        "    var canvas_pos = mpl.findpos(event)\n",
        "\n",
        "    if (this.focus_on_mouseover && name === 'motion_notify')\n",
        "    {\n",
        "        this.canvas.focus();\n",
        "    }\n",
        "\n",
        "    var x = canvas_pos.x;\n",
        "    var y = canvas_pos.y;\n",
        "\n",
        "    this.send_message(name, {x: x, y: y, button: event.button});\n",
        "\n",
        "    /* This prevents the web browser from automatically changing to\n",
        "     * the text insertion cursor when the button is pressed.  We want\n",
        "     * to control all of the cursor setting manually through the\n",
        "     * 'cursor' event from matplotlib */\n",
        "    event.preventDefault();\n",
        "    return false;\n",
        "}\n",
        "\n",
        "mpl.figure.prototype.key_event = function(event, name) {\n",
        "    /* Don't fire events just when a modifier is changed.  Modifiers are\n",
        "       sent along with other keys. */\n",
        "    if (event.keyCode >= 16 && event.keyCode <= 20) {\n",
        "        return;\n",
        "    }\n",
        "\n",
        "    value = '';\n",
        "    if (event.ctrlKey) {\n",
        "        value += \"ctrl+\";\n",
        "    }\n",
        "    if (event.altKey) {\n",
        "        value += \"alt+\";\n",
        "    }\n",
        "    value += String.fromCharCode(event.keyCode).toLowerCase();\n",
        "\n",
        "    this.send_message(name, {key: value});\n",
        "}\n",
        "\n",
        "mpl.figure.prototype.toolbar_button_onclick = function(name) {\n",
        "    if (name == 'download') {\n",
        "        var format_dropdown = this.format_dropdown;\n",
        "        var format = format_dropdown.options[format_dropdown.selectedIndex].value;\n",
        "        this.ondownload(this, format);\n",
        "    } else {\n",
        "        this.send_message(\"toolbar_button\", {name: name});\n",
        "    }\n",
        "};\n",
        "\n",
        "mpl.figure.prototype.toolbar_button_onmouseover = function(tooltip) {\n",
        "    this.message.textContent = tooltip;\n",
        "};\n",
        "\n",
        "mpl.debounce_event = function(func, time){\n",
        "    var timer;\n",
        "    return function(event){\n",
        "        clearTimeout(timer);\n",
        "        timer = setTimeout(function(){ func(event); }, time);\n",
        "    };\n",
        "}\n",
        "\n",
        "mpl.debounce_resize = function(func, time){\n",
        "    var timer;\n",
        "    return function(event, ui){\n",
        "        clearTimeout(timer);\n",
        "        timer = setTimeout(function(){ func(event, ui); }, time);\n",
        "    };\n",
        "}\n",
        "mpl.toolbar_items = [[\"Home\", \"Reset original view\", \"fa fa-home icon-home\", \"home\"], [\"Back\", \"Back to  previous view\", \"fa fa-arrow-left icon-arrow-left\", \"back\"], [\"Forward\", \"Forward to next view\", \"fa fa-arrow-right icon-arrow-right\", \"forward\"], [\"\", \"\", \"\", \"\"], [\"Pan\", \"Pan axes with left mouse, zoom with right\", \"fa fa-arrows icon-move\", \"pan\"], [\"Zoom\", \"Zoom to rectangle\", \"fa fa-square-o icon-check-empty\", \"zoom\"], [\"\", \"\", \"\", \"\"]];\n",
        "\n",
        "mpl.extensions = [\"eps\", \"jpeg\", \"pgf\", \"pdf\", \"png\", \"ps\", \"raw\", \"svg\", \"tif\"];\n",
        "\n",
        "mpl.default_extension = \"png\";var comm_websocket_adapter = function(comm) {\n",
        "    // Create a \"websocket\"-like object which calls the given IPython comm\n",
        "    // object with the appropriate methods. Currently this is a non binary\n",
        "    // socket, so there is still some room for performance tuning.\n",
        "    var ws = {};\n",
        "\n",
        "    ws.close = function() {\n",
        "        comm.close()\n",
        "    };\n",
        "    ws.send = function(m) {\n",
        "        //console.log('sending', m);\n",
        "        comm.send(m);\n",
        "    };\n",
        "    // Register the callback with on_msg.\n",
        "    comm.on_msg(function(msg) {\n",
        "        //console.log('receiving', msg['content']['data'], msg);\n",
        "        // Pass the mpl event to the overriden (by mpl) onmessage function.\n",
        "        ws.onmessage(msg['content']['data'])\n",
        "    });\n",
        "    return ws;\n",
        "}\n",
        "\n",
        "mpl.mpl_figure_comm = function(comm, msg) {\n",
        "    // This is the function which gets called when the mpl process\n",
        "    // starts-up an IPython Comm through the \"matplotlib\" channel.\n",
        "\n",
        "    var id = msg.content.data.id;\n",
        "    // Get hold of the div created by the display call when the Comm\n",
        "    // socket was opened in Python.\n",
        "    var element = $(\"#\" + id);\n",
        "    var ws_proxy = comm_websocket_adapter(comm)\n",
        "\n",
        "    var fig = new mpl.figure(id, ws_proxy,\n",
        "                           function() { },\n",
        "                           element.get(0));\n",
        "\n",
        "    // Call onopen now - mpl needs it, as it is assuming we've passed it a real\n",
        "    // web socket which is closed, not our websocket->open comm proxy.\n",
        "    ws_proxy.onopen();\n",
        "\n",
        "    fig.parent_element = element.get(0);\n",
        "    fig.cell_info = mpl.find_output_cell(\"<div id='\" + id + \"'></div>\");\n",
        "\n",
        "    var output_index = fig.cell_info[2]\n",
        "    var cell = fig.cell_info[0];\n",
        "\n",
        "    // Disable right mouse context menu.\n",
        "    $(fig.rubberband_canvas).bind(\"contextmenu\",function(e){\n",
        "        return false;\n",
        "    });\n",
        "\n",
        "};\n",
        "\n",
        "mpl.figure.prototype.handle_close = function(fig, msg) {\n",
        "    // Update the output cell to use the data from the current canvas.\n",
        "    fig.push_to_output();\n",
        "    var dataURL = fig.canvas.toDataURL();\n",
        "    // Re-enable the keyboard manager in IPython - without this line, in FF,\n",
        "    // the notebook keyboard shortcuts fail.\n",
        "    IPython.keyboard_manager.enable()\n",
        "    $(fig.parent_element).html('<img src=\"' + dataURL + '\">');\n",
        "    fig.send_message('closing', {});\n",
        "    fig.ws.close()\n",
        "}\n",
        "\n",
        "mpl.figure.prototype.push_to_output = function(remove_interactive) {\n",
        "    // Turn the data on the canvas into data in the output cell.\n",
        "    var dataURL = this.canvas.toDataURL();\n",
        "    this.cell_info[1]['text/html'] = '<img src=\"' + dataURL + '\">';\n",
        "}\n",
        "\n",
        "mpl.figure.prototype.updated_canvas_event = function() {\n",
        "    // Tell IPython that the notebook contents must change.\n",
        "    IPython.notebook.set_dirty(true);\n",
        "    this.send_message(\"ack\", {});\n",
        "    var fig = this;\n",
        "    // Wait a second, then push the new image to the DOM so\n",
        "    // that it is saved nicely (might be nice to debounce this).\n",
        "    setTimeout(function () { fig.push_to_output() }, 1000);\n",
        "}\n",
        "\n",
        "mpl.figure.prototype._init_toolbar = function() {\n",
        "    var fig = this;\n",
        "\n",
        "    var nav_element = $('<div/>')\n",
        "    nav_element.attr('style', 'width: 100%');\n",
        "    this.root.append(nav_element);\n",
        "\n",
        "    // Define a callback function for later on.\n",
        "    function toolbar_event(event) {\n",
        "        return fig.toolbar_button_onclick(event['data']);\n",
        "    }\n",
        "    function toolbar_mouse_event(event) {\n",
        "        return fig.toolbar_button_onmouseover(event['data']);\n",
        "    }\n",
        "\n",
        "    for(var toolbar_ind in mpl.toolbar_items){\n",
        "        var name = mpl.toolbar_items[toolbar_ind][0];\n",
        "        var tooltip = mpl.toolbar_items[toolbar_ind][1];\n",
        "        var image = mpl.toolbar_items[toolbar_ind][2];\n",
        "        var method_name = mpl.toolbar_items[toolbar_ind][3];\n",
        "\n",
        "        if (!name) { continue; };\n",
        "\n",
        "        var button = $('<button class=\"btn btn-default\" href=\"#\" title=\"' + name + '\"><i class=\"fa ' + image + ' fa-lg\"></i></button>');\n",
        "        button.click(method_name, toolbar_event);\n",
        "        button.mouseover(tooltip, toolbar_mouse_event);\n",
        "        nav_element.append(button);\n",
        "    }\n",
        "\n",
        "    // Add the status bar.\n",
        "    var status_bar = $('<span class=\"mpl-message\" style=\"text-align:right; float: right;\"/>');\n",
        "    nav_element.append(status_bar);\n",
        "    this.message = status_bar[0];\n",
        "\n",
        "    // Add the close button to the window.\n",
        "    var buttongrp = $('<div class=\"btn-group inline pull-right\"></div>');\n",
        "    var button = $('<button class=\"btn btn-mini btn-danger\" href=\"#\" title=\"Close figure\"><i class=\"fa fa-times icon-remove icon-large\"></i></button>');\n",
        "    button.click(function (evt) { fig.handle_close(fig, {}); } );\n",
        "    button.mouseover('Close figure', toolbar_mouse_event);\n",
        "    buttongrp.append(button);\n",
        "    var titlebar = this.root.find($('.ui-dialog-titlebar'));\n",
        "    titlebar.prepend(buttongrp);\n",
        "}\n",
        "\n",
        "mpl.find_output_cell = function(html_output) {\n",
        "    // Return the cell and output element which can be found *uniquely* in the notebook.\n",
        "    // Note - this is a bit hacky, but it is done because the \"notebook_saving.Notebook\"\n",
        "    // IPython event is triggered only after the cells have been serialised, which for\n",
        "    // our purposes (turning an active figure into a static one), is too late.\n",
        "    var cells = IPython.notebook.get_cells();\n",
        "    var ncells = cells.length;\n",
        "    for (var i=0; i<ncells; i++) {\n",
        "        var cell = cells[i];\n",
        "        if (cell.cell_type == 'code'){\n",
        "            for (var j=0; j<cell.output_area.outputs.length; j++) {\n",
        "                var data = cell.output_area.outputs[j];\n",
        "                if (cell.output_area.outputs[j]['text/html'] == html_output) {\n",
        "                    var output = cell.output_area.outputs[j];\n",
        "                    return [cell, output, j];\n",
        "                }\n",
        "            }\n",
        "        }\n",
        "    }\n",
        "}\n",
        "\n",
        "// Register the function which deals with the matplotlib target/channel.\n",
        "// The kernel may be null if the page has been refreshed.\n",
        "if (IPython.notebook.kernel != null) {\n",
        "    IPython.notebook.kernel.comm_manager.register_target('matplotlib', mpl.mpl_figure_comm);\n",
        "}\n"
       ],
       "metadata": {},
       "output_type": "display_data",
       "text": [
        "<IPython.core.display.Javascript at 0x7f3f9fcaed90>"
       ]
      },
      {
       "html": [
        "<img src=\"data:image/png;base64,iVBORw0KGgoAAAANSUhEUgAAAoAAAAHgCAYAAAA10dzkAAAgAElEQVR4nO2de7hcVWG3f+GO3IwgIIgkqFjEACpBqIrhUhUVC1alcvEJ5aJWaYlYjSASRFS0sWIRFT9MKLRQBUoQo6AQsFADNqmxKLeaiEGgQKgbhKJA1vfHnjSzf3PZe2fPWXv2zPs+z/vAOWcua1/mzJs5s9ZIAAAAAAAAAAAAAAAAAAAAAAAAAAAAAAAAAAAAAAAAAAAAAAAAAAAAAAAAAAAAAAAAAAAAAAAAAAAAAAAAAAAAAAAAAAAAAAAAAAAAAAAAAAAAAAAAAAAAAAAAAAAAAAAAAAAAAAAAAAAAAAAAAAAAAAAAAAAAAAAAAAAAAAAAAAAAAAAAAAAAAAAAAAAAAAAAAAAAAAAAkOWPJf2zpJWSfi8pkXSbpDmStq9vWIWYL2lRDff7R5JuULqvVkt6ew1jkKTDJM3q8v0ZSsf1oqijAQAAgEbwUUnPSvqBpPdKep2kN0k6U9L9khbWN7RC7KI0xmLzPUnLJb1R0j6SnlvDGKQ0gFd2+f4WSse1UdTRAAAAwNBzkNL4m9vj55tKOibecBrFr5TGV93MV/cABAAAAOjKtZIelLRhiet8XtJ/KP3T50NKXznc2y4zU+mfH505kla0fb2BpLMk/VLS/0p6WNK/Snpt22WObN3f4637/JmkE9t+Pl/ZPwFvIek8Sb+Q9DtJv5H0L5Je2mOM+0n6lqTHJP1a0qclrddl7GuY0bpeu8t7jGUNN0qat473/XxJ5yuNvKdal/sHpa/sze8zljXjbP8T8IaSPqX0GPy+ddkzlR6HNUxpXe99kj6j9PxYpfQtAs/rsm0AAADQIDZQGl0Xl7jOekrj4yhJb1D6p+KvKQ2T3dsuN1PFAvA0pZF2kqTXS3qbpDNa/5XSP0c/K+nvJB0o6eDWZf+m7TbmK30v3hp2aI3pXW23+W2lEbNtlzHe0xrXgZI+IekZScd333xJaWC+RtJ/S/qO0j+z7tljLGtYJOmb63Dfz21d5r8l/ZWkAyT9uaR/krS50j9/X9P6+T42lhnqDMCLJf1B6T4+qPXfPyg9pmuY0rreryRdovQYv1dpnF/SZdsAAACgQWyn9In+7C4/28DsxXqtn1+nNNLWMFPFAvAaSZf3uf2PKA23fsxX/0kg67fGeJekv+4yxjPs8t9Ruj15rFQ26vqNpVcA5t33mUqjcFqfccxX9z8Bz1A2AHdvff0Ju9xpre+/ovX1lNbXvh2nKA19AAAAaDBrAvDT9v3t1flnxfY/Sx4o6YdK//zbfpn2ySIzVSwAP6n0VcizlM5E9gkL+7du52JJh6j7RIv56oyVd0r6N6Xx2D7G87uM0f98/VlJd3S5H2cQAZh33z+WdEvOOOarWAB+oPX1VLvczq3v/2Xr6ymtrz9il3tT6/vbCgAAABrLBpKeVPbPf1L6itmrWn5d6Z9g1wTgq5S+d+yflP5pdbqkVyuNv/Y/fc5U8fcAfkzSz1uXf0zShcq+1+zPlL4v8A8tr1P2FbH5ykbX21q39WWl0bJ3a4z/oe4RtkvOGHtRJgBvXMf7vkfpewT7MV/FAvATra83tctt0vr+6a2vp7S+/ouc2wMAAICG8n31nwQyR9lXAD+tNEqcf1U2AP+8dT2/3fPUO662kXSC0okel3X5+SZK4+4XSid2rGG+stF1iaTru1zfg22mBh+AX1P6yqNz+zre97/1uL125qvcK4B+n1PU/RVAAhAAAGBEOVDpK3xf6PHzOcoG4BfV+efR3ZW+T609APdrXe/Vbd/bUNLdWjtLtRdXSvrPPj//q9Ztb936er6yAXiF0jX62nlz6zoTHYCzlU6WaP9T9kuVvnK5Lvc9R+m+3aPPOL4u6ZEu35+hbLDt1vr6VLvcqa3vv7z19RQRgAAAACPP3yiNwOuUzvbcX+nixh+SdKfSP8tOal32YKURcJ7SWaQnSLpP0n8pG2HrK32lcKmkQ5V+WsUPlMZNe+AsUDrR4TCls4pPlvSE1q5L+Cmlr6od0RrXka37WtJ2G/Ptvo9vbc8ZSgN3ltJZsivVfSmWdQ3A+9QZgC+W9LSkSyX9idL9+XOlr1iuy31vpTSaH1IavgdKerfSVzk3b11mTRC/X+mf5Nf8eXyGOoPtH5TG6Cdb4/tk6+uL2i4zRQQgAADAWLDmo+Du09qPgrtVaURtZ5d9v9II+19JP1X6Hr156lz+5OVKw+xxpUuKnNy6vfZXAD+sdKLDI0rfj3iH0ihZv/Xztyj9M/X9WrsG3jeU/Xi6bvd9RuuyTyr9E+r+6j4R41l1RpiPsRfdXgGUpD9V+grmk0rfd3hwxft+vtJX+e5Xemx+rXSb17zK+Byl78l8VJ3rAD6rbLBtoDS4VygNvxWtr9dvu8wU9Q5Avz0AABgiZit9In1C6RPrAnUuggsAADBuvEPpe4TXfIZ3v0XfpfSV9nmtyz+i9G0w6/e9BkCNvFPpn4p2VvreoSuVvmIDAAAwzhwl6eNKXygpEoAXKX0bx3SlC7H/Rumr5gCNYJpYvwsAAGANM5QfgM9T+p7eg9q+d6zSiV6Tul4DYIjYVOkb6pfVPRAAAIAhYYbyA/BgpbPw2//ku2bhdN5WBUPL25S++f5ZpbMxp9Q6GgAAgOFhhvID8Eh1LrH0nNb1XjsxwwKoznOUzjD8Y6XvAfy5pI3tMpMk7ShpS0RExALuqIn98+ekCRhzt/HOEAEIY8CGkn4n6e32/R0lBURExBLuqIljywkY75Zd7meG+BMwjAEbKV0S5k32/dYDbVaQZo+504dgDMMg+4H9wL5gP/RyVlDvoBoUW0oKs6Qwu6Kzqgdgr0kgD4lJIDCknCNpX6X/UtlH6Z+AV2jtJwesoRWAs4M0Z8zddwjGMAyyH9gP7Av2Qy9nB0UKwE9I4dMV/UT3AJwsaS+lnxi0WtKrWl9vpvSVzTuVLvmyhvlKP8t7zTIw90maM4HbD1CJf1L6KQVPtf77j0o/osohAPnlzn5gP7Av2A8FHYkAnKk0/FYrnSS55r/7K50sueb/17CZ0gh8TNIqpQtB560dCDD0EID/59FDMIZhkP3AfmBfsB96GS8Az5TCORU9s/+fgAHGGgIQERELGi8Az5bC3IqeTQAC9IQARETEghKAAKMCAYiIiAWNF4DnSOHLFT2HAAToCQGIiIgFjReAc6VwfkXnEoAAPSEAERGxoAQgwKhAACIiYkHjBeCXpfCNin6ZAAToCQGIiIgFjReA50thXkXPJwABekIAIiJiQQlAgFGBAERExILGC8ALpHBJRS8gAAF6QgAiImJB4wXgN6VwWUW/SQAC9IQARETEghKAAKMCAYiIiAWNF4AXS+GKil5MAAL0hABERMSCxgvAy6RwdUUvIwABekIAIiJiQQlAgFGBAERExILGC8DLpbCwopcTgAA9IQAREbGg8QLwKin8oKJXEYAAPSEAERGxoAQgwKhAACIiYkHjBeA1UlhU0WsIQICeEICIiFjQeAF4rRRurui1BCBATwhAREQsKAEIMCoQgIiIWNB4AXi9FBZX9HoCEKAnBCAiIhY0XgDeJIUlFb2JAAToCQGIiIgFJQABRgUCEBERCxovAG+RwrKK3kIAAvSEAERExILGC8DbpPCLit5GAAL0hABERMSCEoAAowIBiIiIBY0XgEulcHdFlxKAAD0hABERsaDxAvBnUlhR0Z/1D8DZku6X9ISkBZK26zOml0n6rqRHJT0s6VxJGw5yowFiQwAiImJBRyYAj5X0uKTDJO0paZGkG3uMZzNJv5I0T9JLJe0n6WeSvjzoDQeICQGIiIgFjReAd0jhvore0TsAl0o6q+3rqZJWK41B542S/lfZV/ze2vre5oPaaIDYEICIiFjQeAF4jxQerOg93QNwY0nPSDrA7ne5pBO7jOdQpa8WTmr73oFKg/ENg9pogNgQgIiIWNCRCMAdlMbb7na/t0o6rct4ni/pMUlnKn0VcFtJN7Ru44jBbjpAPAhAREQsaLwAXLG+wqoNqrlifXUbb9kAlKS3SFqp9JXDJyV9onUb7xrgdgNEhQBERMSCxgvAlRsrJJuU94oNFT64furx3QOw35+AT8gZ2/MlbSrpj5QG4N4D2WKAGiAAERGxoMMfgO2u3Fi9xrtE3SeB7FFwjKcrfUVwvYrbClAbBCAiIhY0XgA++ByFJzer5oPPUa/xzlT6vr41y8DcoLXLwOwo6U5J09suf1zr65dJ+oik34s//0LDIQAREbGg8QLwkS0V/rBVNR/ZUv3G274Q9FVKJ3dI0hRJz0rav+2yX5T0kKSnlL56ePiEbDlARAhAREQs6EgFIMBYQwAiImJB4wVgMlkhbF3NZLJijBegkRCAiIhY0IgBuI1C2LaayTaKMV6ARkIAIiJiQQlAgFGBAERExIJGDMDtFcIO1Uy2V4zxAjQSAhAREQsaMQBfqBBeVM3khYoxXoBGQgAiImJBCUCAUYEARETEgkYMwCkKYZdqJlMUY7wAjYQARETEgkYMwF0UwkurmeyiGOMFaCQEICIiFpQABBgVCEBERCxoxADcVSHsVs1kV8UYL0AjIQAREbGgEQPw5QphWjWTlyvGeAEaCQGIiIgFJQABRgUCEBERCxoxAKcphL2qmUxTjPECNBICEBERCxoxAF+pEPauZvJKxRgvQCMhABERsaAEIMCwc6qkpZIel3S/pG9K2qbL5QhAREQsaMQA3Fsh7FvNZG/FGC/AUPFdSUdK2lXSdEmLJV3f5XIEICIiFjRiAL5GIby2mslrFGO8AEPNvpJWS9rCvk8AIiJiQQlAgKbxRklPSlrPvk8AIiJiQSMG4GsVwhuqmbxWMcYLMLRsLOknks7v8jMCEBERCxoxAN+gEA6qZvIGxRgvwFCyvqRvS7pV0nO6/JwARETEghKAAE1gPUkXS1om6bk9LtMKwOlB2rfl0UPwSwYREYfDo8Pa54fpQbEC8CCF8KZqJgcpxngBhopJSpd+uUvStn0uxyuAiIhY0IivAP6JQnhLNZM/UYzxAgwVX5f0kNIlYLZvk0kgiIi4jhKAAMPOaknPtv67uu3rF9nlCEBERCxoxAA8RCG8vZrJIYoxXoBGQgAiImJBIwbgoQrhHdVMDlWM8QI0EgIQERELSgACjAoEICIiFjRiAB6mEN5VzeQwxRgvQCMhABERsaARA/CdCuE91UzeqX7jnS3pfklPSFogabs+Y5om6TpJ/yPpEUlXStppkBsNEBsCEBERCzoyAXispMclHSZpT0mLJN3YZ0z3SrpU0q6S9pD0Q0n/OtjNBogLAYhD6qcxY93HA3FOiBqARyiEY6qZHKFe410q6ay2r6cqXS1jzy7jeX7rZ3u0fe9tkp4c2BYD1AABiENq3cE1bNZ9PBDnhKgBeKRCmFnN5Eh1G+/Gkp6RdIDd73JJJ/YY01JJfytpI0mbS/onSVcNcqMBYkMA4pBad3ANm3UfD8Q5YUQCcAelr+jtbvd7q6TTeoxpJ0l3Kg3HZyUtFhNLoOEQgDik1h1cw2bdxwNxTogagO9VCMdXM3mvuo23bABuKGmJ0vcAvlrSH0v6gaRrBrzdAFEhAHGCrDuYkHjEwRsxAP9CIby/vN9/q8KsPVI/uLu6jbffn4BP6DKeQ5S+32/Dtu+9QN0jEqAxEIA4QdYdPUgA4uAd/gBsN/kL9RrvEnWfBLKHOnmr0qVi1m/73vaty08b1EYDxIYAxAmy7uhBAhAHb8QAPFEhfKiayYnqNd6Zkh7T2mVgbtDaZWB2VPp+v+mtrydLeljSNyW9TGkkfkfS3ZI2mKidADDREIA4QdYdPUgA4uCNGIDvVwh/Xc3k/eo33vaFoK+StG3r+1OUTvTYv+2y05VG4pqFoK9WuiYgQGMhAHEdrTtq3HMaZt37i0DEdXGkAhBgrCEAcR2tO1oIQAIQ4xsxAD+kEE6pZvIhxRgvQCMhAHEdrTtaCEACEOMbMQBPVggfq2ZysmKMF6CREIC4jtYdLQQgAYjxJQABRgUCEFvWHSF1B1nTJBixDiMG4CkK4dRqJqcoxngBGgkBiC0JwGZJAGIdRgzAjymET1Yz+ZhijBegkRCA2JIAbJYEINYhAQgwKhCA2JIAbJYEINZhxAA8VSF8qprJqYoxXoBGQgCOlU0OuLljZpPjse7zHCfOiAH4SYXwmWomn1SM8QI0EgJwrCQAmyMBiMMoAQgwKhCAYyUB2BwJQBxGIwbgmQrhnGomZyrGeAEaCQE4VhKAzZEAxGE0YgCerRDmVjM5WzHGC9BICMCRdpgCb9CB9OURc5gCkiDEXhKAAKMCATjSEoDNkQDEJhgxAM9RCOdWMzlHMcYL0EgIwJGWAGyOBCA2wYgB+AWFcF41ky8oxngBGgkB2GibHHhVg+n8ETNmQA7bewjrfhxhcQlAgFGBAGy0BODoSABiE4wYgH+nEL5WzeTvFGO8AI2EAGy0BODoSABiE4wYgH+vEP5fNZO/V4zxAjQSArDREoCjIwGITZAABBgVCMBGWWfkDTroygbSN0o6b8gsO/6JDMhhD8S6H2fY24gBeL5CmFfN5HzFGC9AIyEAGyUBSAASgFinEQPwAoVwcTWTCxRjvACNhABslAQgAUgAYp0SgACjAgHYKAlAApAAxDqNGIAXKoRLq5lcqBjjBWgkBOBQGzP4qgZe7IC7pKSXRbbs+GIGZOxAJAhHx4gBeJFC+HY1k4sUY7wAjYQAHGoJQAKQAKz/cYhrJQABRgUCcKglAAlAArD+xyGuNWIAXqIQrqxmcolijBegkRCAQy0BSAASgPU/DnGtEQPwMoVwdTWTyxRjvACNhACs1ZiBlxd5Ex14ZQMuL7CuKOnVkS07vqpBWSYYq04oIRDHVwIQYFQgAGuVACQACUACsElGDMDLFcLCaiaXq994Z0u6X9ITkhZI2q7HeKZIWt3DbQa65QARIQBrlQAkAAlAArBJRgzAKxXCtdVMrlSv8R4r6XFJh0naU9IiSTf2GM96krZtcztJl0r60cC3HCAiBGCtEoAEIAFIADbJkQnApZLOavt6qtJX9PYsML5NJSWSjhvAtgLUBgEY1WEOvrKBV3aSRtmgywusheYPSrpowJa9fx9/2aAsE4xlJ5iUDUSCcHyMGIBXK4Trq5lcrW7j3VjSM5IOsPtdLunEAuM7SumfjTcfwLYC1AYBGFUCkAAkAAnAJhsxABcqhJuqmSxUt/HuoPTVvt3tfm+VdFqB8V0n6eJBbChAnRCAUSUACUACkABssmMfgC9U+urhwQPaVoDaIACjSgASgAQgAdhkIwbgtQrh5vJ+f67CrCNSP/gOdRtvvz8Bn5AztlMl3TuoDQWoEwJwQp3o4Mt74u33Rv5BT+IoG3QeQHlB58F1c46Lc1wyYPPuL2+8eUGZt7/6BWPehJK8IMwLxImeNEIQDo8RA/B6hbC4msn16jXeJeo+CWSPnLHdJenTg9pQgDohACdUApAAJAAJwFFyZAJwpqTHtHYZmBu0dhmYHSXdKWm6XWc/pZH40gnZaoDIEIATKgFIABKABOAoGTEAb1QI/17N5Eb1G2/7QtBXKV3jT0oXfn5W0v52+a9KumUiNhigDgjACZUAJAAJQAJwlIwYgDcrhJ9WM7lZMcYL0EgIwIE6zMHn0Rc78MoGXV6wLTN/kePdOa4oad7t5Y3Hx58XlFWCseyEkrKBSBCOjwQgwKhAAA5UApAAJAAJwFE2YgD+WCH8ZzWTHyvGeAGGjndIul7pR9asVvp5hg4BOFAJQAKQACQAR9mIAfgThXBHNZOfKMZ4AYaOoyR9XOkbXQnAKNYdfGXe15cXfFUDr2rQ5QXaSvPBHFeZyYD1288bj48/LzCrBGPe+wnzArFsEJYNxNhBWPfviSZLAAI0iRkiACNJABKABCABOMpGDMClCuGeaiZLFWO8AEPLDBGAkSQACUACkAAcZSMG4DKFsLyayTLFGC/A0DJDBGAkCUACkAAkAEdZAhCgScwQAThBDnvw9Yu8vEkdVQMvb5JGXtDlBduT5h/MMGT6+Hz8eUGZF4z9JpnkTSjJC0Q/NyZ60ghBOLxGDMCfK4RfVzP5uWKMF2BomaHcAJwepH1bHj0Ev2SaIgFIABKABOCoe3RY+/wwPShWAN6lEO6vZnKXYowXYGiZIV4BnCAJQAKQACQAx8mIrwASgADrzGRJe0k6XmkAvqr19WZtlyEAK0kAEoAEIAE4TkYMwF8qhIeqmfxSMcYLMHTMVBp+q5V+sPWa/7Z/wDUBWMomB59HX96kjkVm3iSOvMDzSRB5QVcysCaZm+a4RY6TzbzL592fj690QOYFo+/ffnHox86PrR97Pzf83CEIx8d4AfjbFQqrV1XztysUY7wAjYQALCUBSAASgATgOEsAAowKBGApCUACkAAkAMfZeAG4aqXC00k1V61UjPECNBICsJQEIAFIABKA42y8AHzoAYWnnqjmQw8oxngBGgkB2NemB5+/eb/9SbvqpA5fqDgv8EpO0tjA9ODaxnyBOdV8SY67lTTv9vz+fXw+ft8+3/7Sk0z6xWHeItNlJ40MeiFpgnB4JQABRgUCsK8EIAFIABKAdf8eGibjBeD9D00Kv3tqvUre/9CkGOMFaCQEYF8JQAKQACQA6/49NEzGC8CVj24Ykmc2quTKRzeMMV6ARkIA9pUAJAAJQAKw7t9DwyQBCDAqEIB9negAjBl8Hn3+pJ43qSNvoeacwMubpOFBtJPpgTXN3NvczzzAPHjA+u37/fv4fPy+fb79vn9KTTLxY+PHzo9t3qSRYQ9CAnDijBeAv0o2CY+GTSv5q2STGOMFaCQEYF8JQAKQACQA6/49NEzGC8DlyWbh4bB5JZcnm8UYL0AjIQD7SgASgAQgAVj376FhkgAEGBUIwL4SgAQgAUgA1v17aJiMF4B3J1uGB8JWlbw72TLGeAEaCQGYcZSDz6Ov6qQOjwwzL/B8kkRe0HlgHWIebr7HPMY81jy+pH59v32/fx+fj9+3Ly8Yff/1C8TcCSR5i0rnTRohCMfHeAF4RzI53Be2ruQdyeQY4wVoJAQgARgIQAKQACQACUCA8YIAJAADAUgAEoAE4LAF4O3JNuHesG0lb0+2iTFegEYy5gE40cFXNgDzgs8/c7VM8Hn05QXfk6HvZ/P6e878s3P9PWweMP4eOX9PnQeTB9YHzFnmx80zzbPNz5XUr++37/fv4/Px+/b59vv+8f3n+7d93/ux6ft+wdDl2E90EJb9LGHWCRyHAFyWbBeWhxdUclmyXYzxAjQSApAADARgwegjAAMBSACKAAQYCQhAAjAQgAWjjwAMBCABqEgBuDTZIdwTXljJpckO/cY7W9L9kp6QtEDSdjnjeo+kn0l6StJvJH1kYFsMUAMEIAEYCMCC0UcABgKQAFSkAPxJslO4I+xcyZ8kO/Ua77GSHpd0mKQ9JS2SdGOfMR0j6ZHWf6dK2kvSjIFuNUBkCMChmvQxkcHn0Vcy+DYwfdKBr2Pnkxg8YN5p+iQLDyYPrLnmV8yLzH80rzAXlNSv77fv9+/j8/H79vn2+/7x/ef7t33f+7HxY+fHduiDkEkhBGDlAFwq6ay2r6dKWq00Bp0NJT2oNP4ARgYCkAAMBGDB6CMAAwFIACpSAC5Opobbw4sruTiZ2m28G0t6RtIBdr/LJZ3YZTz7Ko3D4yTdLunXkuZLet5gNxsgLgQgARgIwILRRwAGApAAVKQAvCV5cVgWdq3kLcmLu413B6VBt7vd762STusynj9vXf5uSW+WtJ+kxZKuHfB2A0SFACQAAwFYMPoIwEAAEoAavwA8snX59j8B79H63o6D2miA2IxZAA5b8M0z/YnPF8xdaPoT6xKz30SPnM/u9YWcX2DuZr7ePNQ81swLvHNNDyoPsuvNW8xl5s/Nu0rq1/fb9/v38fn4fft8+/MC0fdv+773Y+PHzo+tH/uOIPRzJy8I/bz089bPaz/v/XExzyQIRzEAf5TsGpaG3Up73vd3CkfNel44atbzwrs/+Nxu4+33J+ATuoznIKWxt0/b9zZpfW/fQW00QGwIQAIwEICBACQA+0gA1hGANyS7hdvCKyp5Q7Jbr/EuUfdJIHt0Gc9zJf1e0lFt33tF6/I7DGqjAWJDABKAgQAMBCAB2EcCcAQDcKakx7R2GZgbtHYZmB0l3Slpetvlvy7pl5JepzQSfyTpmonZfIA4EIAEYCAAAwFIAPaRAKwjAH+YTAs/DntV8ofJtH7jbV8I+ipJ27a+P0XSs5L2b7vsJpK+KulRSQ9JukjpK4MAjYUALBWA/sRRNgD9iesSMy/4Fpllgs8netiTuj/p5y3kfIDpkxJ8oePTTQ8cn0TxXXOx6UH2m6cybpo8mnGr3z+Q0T823j9Eyj9TwH/u1/fb9/v38XWM37fPt9/3j+8/37/t+96PjR+7fotI71QkCMtOEvHz1s/rvCD0x40/rsoGYF4QEoB1BOC1yV7h5vDqSl6b7BVjvACNhAAkAAMBSAASgAQgAQgwXhCABGAgAAlAApAAHLYAXJi8OtwU9qnkwuTVMcYL0EgIQAIwEIAEIAFIAA5bAH4nmR5uCPtV8jvJ9BjjBWgkIx6AVYMv9qSPvIWeF5u/MFea/sTcJ/h8IkBe8L3HPMk827zQ9EkQHkC/XJ3Rg8oDzD8EyucD+msDrwvXZZwRvldKv77fvt+/j8/H3xGMtv0d+8f3n+/f9n3vx8aPXV4Qlp4k4uedn5d+3vp5XXahaH9cMSmEACQAAfIgAAlAApAAJAAJwILGC8B/Sfa1R1l5/yXZN8Z4ARoJAUgAEoAEIAFIABY0XgBenryu5KOy08uT18UYL0AjIQAJQAKQACQACcCCEoAAowIBONSTPm42l5krzFWmPTFv0GbV4POFiD9n+sLGvhCyLaS80aoko0+68E/89Hf7vDEsyPhn4ZKMx4QLMh4Xzst4YvhSxr8MczP6z/36fvt+/z4+H6fU2rkAACAASURBVL9vn2+/75+Ohah9/7bvez82fuyqBuEGZkcQ+nnp562f137eMylkeIwXgN9K3hCuCQdV8lvJG2KMF6CREIAEIAFIABKABGBB4wXgpcmB9qgp76XJgTHGC9BICEACkAAkAAlAArCgBCDAqDDmATjR7/nzJ6a89/wtMv29UXnr/OV8vu/kNvM+y9fXjssLPl+n7ibT3tPm6+b5e+Q8kA4N38rowXVS+HzGU8PpGc8Kp2Sca4n3JUu88yzx/Od+fb99v38fn4/ft8+33/eP77+O9wy273s/NnlB6Mc+77OEJ5uVPzvYz3t/XOS9J9Afd3W/J7Du34PNDMCLk4PDFeGQSl6cHBxjvACNhAAkAAlAApAAJAALGi8A5ydvtkdFeecnb44xXoBGQgASgAQgAUgAEoAFJQABRgUCkAAkAAlAApAALGi8ALwweWu4NBxWyQuTt8YYL0AjGbEALPvm7EEH4LwwsZM+fD21xLQn3i3MqW3uZx5u+mf5+rp+ecF379MZt372voy+Tp4v4HBkuDDjyeGzGT24PNjmh3dn9PcG+XIR/gkC/pFS/nO/vt++37+Pz8fv2+fb7/vH95/v38z+92Pjx86PrR97Pzf83Jlq+nnXEYR+3vp5PWyTQlgXsI4AvCB5u02lKu8FydtjjBegkRCABCABSAASgARgQQlAgFGBACQACUACkAAkAAsaLwC/mhze8Tgq61eTw2OMF6CREIAEIAFIABKABGBB4wXgecm77FFQ3vOSd8UYL0AjIQAHOunDn2gGPekjZ6HnSWa/xZ4PMY81zzT9s2Z94WGbhOCfdbtX+HFGX7HLF1Y+3aZReED5m7090G6zRLoj7JxxuS21fF/YOuMDYauM/nO/vt++37+Pz8fv2+fb7/vH95/v3/Z93zFBxI+dH1s/9n5u+LmTt1C0n5e5C0UPelKIPy4HPSmEAJyI5yUCEGBiIQAJQAKQACQACcCCxgvAc5MjbK58ec9NjogxXoBGQgASgAQgAUgAEoAFjReAX0yODF8NMyv5xeTIGOMFaCQEIAFIABKABCABWFACEGBUGLMAjL3wc9VJHyvMkpM+XmK2L+b7HvMj5lfM75p3ZfWFiX2SggfLiba0sk+K8PfyfC/MyLg07JbxXkvO5JmNMq5epYzh1+Y95h2m/9yu77fv9+/j8/H79vn2+/7x/ef7t33fdywabceu49j6sfdzw88dXyjaz7vSk0L8vB/0pBAWhm5CAH4hOabjH0Zl/UJyTIzxAjQSApAAJAAJQAKQACxovAD8XDKz4xN4yvq5ZGaM8QI0EgKQACQACUACkAAsKAEIMCoQgAQgAUgAEoAEYEHjBeDZyfEdn7ld1rOT42OMF6CRNDwA837RTnQAzgvlJn38wPQ3t//CfND8Q9a8SR+vNA9t0xf7/Zx5mbkk66bJoxl3DcsyvjEsyJgXfL5wsi/E7JMsPLA6gu6n5vXm1ea3zUtN/7lf32/f79/G5+P37fPt9/2TF4Tt+96PjR87P7Ydx97PDT93DjX9vMudFGLndcd5748Lf9z446rspBAWhh7GAPxU8r7w+XBSJT+VvC/GeAGGktmS7pf0hKQFkraznxOABCABSAASgARgQUcqAPOeH9u5UdJq868GuM0AA+VYSY9LOkzSnpIWKT2J2yEACUACkAAkAAnAgsYLwDOSD9gHJJb3jOQDvcZb5PmxnUWS5krats1NB7vZAINjqaSz2r6eqvRfLXu2fY8AJAAJQAKQACQACxovAE9LPtRxnpf1tORDvcZb5PmxnUV2eYChZWNJz0g6wL6/XNKJbV+PeQD6L/a8ABz0ws9LzBVmzqSPTc2ppr85v/2N+x83v276YsH3Pp3xheGejK+zpY79Q5nmhI9l9KC5KeyT0RdafjpRxvCf5rXmxea55mfMT5qnmv5zv77fvt+/j8/G79vn2+/7x/ef79/2fe/Hxo+dH9uOY+/nhp87eZNC/Lz089bP69xJIf648cdV1YWh8wJwnBeGHokALPr82M4iSf8t6WFJ/yHpw5LWG+RGAwyKHZT+a2Z3+/6tkk5r+5oAJAAJQAKQACQACxovAGcnJ3ec12WdnZzcbbxFnx/bOU7SjNZ1jpe0StKnBrjNAAODACQACUACkAAkAAdsvAD8aHJKx0cilvWjySndxrsuAegcK+mxqhsKMBH0e4n7hLavWwE4PUj7tjx6CH7J1BWAda/7t9J80rQnysmmfybrwebxbZ5t5rznb/MnHs7onz17mH26rf8xxj+j0z8b9x7Lko7g8/fUXWmeZ3rAvd98j/kO8+2m/9yv77fv9+/j8/Hb9vn2+/7x/ef7t33f+7HxY+fHNvc9gX7uHG/6eefnpZ+3HQHo570/LoZ9XcBRC8Cjw9rnh+lBQx6AR37/z8NrZu0TXjNrn7D3B1/dbbxFnx/7safSiNy64rYCTAhL1P1Nrnu0fY9XAAlAApAAJAAJwILGewXwlOSjFV//Oz2ckny013iLPD/2473iFUAYYmYqPUHXTHO/QSwDEwhAApAAJAAJwOEPwJOT2RXfATgnnJz0HG+/58cdJd0paXrr612U/mn4lUpD8c+VTgj57ITtAYAB0L7Q5VVK1y5qhwAkAAlAApAAJAALOjIBKPV+fpwi6VlJ+7e+fqGkmyQ9KulJST+X9DeS1p+g7QeIwogH4KDX/SsbgANe92+DkNXXV9vbPNyc1aZ/3uu1Zs6kjxn26bXHhfMy+oKsV9in1S6z1el+99R6GXODb6751+a7zIPMvc1p5m6m/9yv77fv9+/j8/HnBKHvH99/vn/b970fGz92uZNC/Nzwc2eW6eedn5d+3vp5PfB1AWMHYNkgrPv36HAG4IeS0youAnNW+FByWozxAjQSApAAJAAJQAKQACxovAD8QHJGxc8B+Wz4QHJGjPECNBICkAAkAAlAApAALCgBCDAqEIAEIAFIABKABGBB4wXg+5JPhZPC5yv5vuRTMcYL0EgIwFo/+/duc5UZslZZ+Pk9Iej0Ni8yb8m60aok425haca8SR8X2FLQvpDxA2GrjGG5si40faHlD5k+acMDbRdz66zJJllXbZDVf+7X77h9v38fn4/ft8+33/aP7z/fv+373o+NHzs/tn7s/dzoOHdONwe+MLQ/Lvxx0/TPBq779+hwBuDxydnhL8PcSh6fnB1jvACNhAAkAAlAApAAJAALSgACjAoEIAFIABKABCABWNB4ATgz+Vw4MXypkjOTz8UYL0AjIQAJQAKQACQACcCCxgvAY5IvdLx/tazHJF+IMV6ARtKwAMz7RTpsAbjIXGL6E1li2hPhFuZLzAPMY81+Cz8vy7r1s/dl3McS4xhLPF+B61vh0Iw+aeGpJ5QxLDb/n/kx0xdm9uDaIasH3d3KusRcbPrP/fp++37/HePz8fv2+fbb/vH95/u3fd/7sfFj58fWj72fG7kLQ/t55+eln7d+XncEoD8u/HHjjyt/3A17ADYpCAlAgFGBACQACUACkAAkAAsaLwCPTL5on29T3iOTL8YYL0AjIQAJQAKQACQACcCCxgvAI5JzO87Vsh6RnBtjvACNhAAkAAlAApAAJAALSgACjAoEYN8A9AViBx2AK8ycAJxsTjMPMT9gzm1zgXlX1heE5Rl98WCfbecLMHzPrnFv2DZj+LWy+qSHc8yZ5mvNF2V9UFk94H5gXmFeZvrP/fp++37/Pr6O8fv2+fb7/rH95/u3fd/7sfFj58fWj72fGx3nzlzTzzs/L/289fM6NwD9cTPoAPTHPQFYRwC+KzkvHBkurOS7kvNijBegkRCABCABSAASgARgQeMF4OHJV8O7w/xKHp58NcZ4ARoJAUgAEoAEIAFIABaUAAQYFQhAApAAJAAJQAKwoPEC8O3JBeHPwiWVfHtyQYzxAjSSMQtA/8U96ABcaPoT0TJzpfmkaU+E25j+RHqoeZJ5bpvXmvc+nXHncEfGN4YFGU8On83oCzD4wsQPh80zhv9U1kvNU02fNDEt65ObZV2mrAvNS8zzzS+b/nO/vt++37+Pz8ffsX2+/b5/bP/5/m3f935s/Nj5sfVj7+dGx7lzrunnnZ+Xft76ed0RgP648MeNP678ceePy0EHYF4QEoDr8rz01uTCjkXLy/rW5MIY4wVoJAQgAUgAEoAEIAFYUAIQYFQgAAlAApAAJAAJwILGC8A3J/NtManyvjmZH2O8AI2EACQACUACkAAkAAsaLwAPTi4Oh4QrKnlwcnGM8QI0EgIwoy8A608El5h5AXizOeAAfKV5uDnL/Eqb15u/eSrjrra0sP/L+hRbXthX4Ppx2Ctj8sxGGcO/K6svfPzX5pvMXbL6pIubTZ/U4UF3jvlp03/u1/fb9/vvmBRi4+/YPt9+3z+2/3z/tu97PzZ+7PzY+rH3c6Pj3PmK6eedn5d+3g48AP1xlxeA/rj2x73/XiAARQACNB4CkAAkAAlAApAALGi8ADwwubTj1emyHphcGmO8AI2EACQACUACkAAkAAsaLwDfkHwrHBSuqeQbkm/FGC9AIyEAKwXgFeaAA3BSyPoCc4ABuN6Dv8uYF4AfC3My+hKst4VXZPzdU+tl7Pjs36+ZHzIPMm1dvfuUdZHp79mba84pqV/fb9/v38fXsS6gb59vv+8f23++f9v3vR8bP3Z5AejnxsAD0M9rP+8HHoD+uCUACUCA8YMAJAAJQAKQACQACxovAF+XXN6xSHlZX5dcHmO8AI2EACQACUACkAAkAAsaLwD3Tf4lvC5cV8l9k3+JMV6ARkIAEoAEIAFIABKABSUAAUYFApAAJADVOeljjuk/JwAJQAJwYp+XpiffCfuFGyo5PflOjPECNBICkAAkAAlAApAALGi8AHx1stCWky/vq5OF/cY7W9L9kp6QtEDSdgXHdq+k1ZLWG8zmAtQDAUgAEoAEIAFIABZ0ZALwWEmPSzpM0p6SFkm6scDYLpL0PUnPigCEhkMAEoAEIAFIABKABY0XgHsl14ZXh5sruVdyba/xLpV0VtvXU5W+qrdnn3G9Q9KPJR0oXgGEEYAALBWA80K5zwKuGIAKWfMWgvbPXO0XgP55rrbY74vD7Rn9I5Z8MeELwjEZ/Vdxx0LQP1XWeeYp5lvMl2ZdtUHWxcp6hfkN04POF372n/v1/fb9/n18Pv6O7fPt9/1j+8/3b/u+92Pjx86PrR/7joWg/dzJC0A/L/28rX0haH9cE4DDEIDTkh/acvLlnZb8sNt4N5b0jKQD7H6XSzqxx5i2U/qn35dJmiECEEYAApAAJAAJQAKQACzoSATgDkoDbne731slndZjTFdL+nDr/2eIAIQRgAAkAAlAApAAJAALGi8Ad0tusDeSlHe35IZu4y0bgMdKulnSpNbXM1rXX3+A2wwQHQKQACQACUACkAAsaLwA3DX5UdgtLC3tTt8/Lzxv1lHhebOOCs/94Lu7jbffn4BP6DKeea3LP93yGaUB+LSk4we76QDxIAAzftmsGoCLTH+iWmGWDMBppj/RnmSe2+Z3zXufzrhzuCPjG8OCjCeFz2c8LxyX0VfkeiBslTHcoazfNj9pvsvcK+sftsp6t7IuMi8z55keeP5zv77fvt+/j8/H37F9vv2+f2z/+f5t3/d+bPzY+bH1Y+/nRse5c67p552fl37elg5Af9z448ofd1UD0H8vEIAa4gBsd9fkR73Gu0TdJ4Hs0WU8O0h6eZszW5edJum5A91ygIgQgAQgAUgAEoAEYEHjBeCLk1s6ZqSX9cXJLb3GO1PSY1q7DMwNWrsMzI6S7pQ0vcf4Zoj3AMIIQAASgAQgAUgAEoAFjReAU5PFHW9HKOvUZHG/8bYvBH2VpG1b35+idJ2//XuMb4ZYBxBGAAKQACQACUACkAAs6EgFIMBYM2YBmBeEVQPwatOfiJaY/kSWmPZEONnczTzYPN78XJsLzLuyviAsz+gfsn6cZcXnLSuuCQdlvCe8MGO4X1mvNc8132/6wsm7ZE02yfoLZb3ZXGhebfrP/fp++37/Pr6O8fv2+fb7/rH95/u3fd/7sfFj58fWj72fGx3nzudMP+/8vPTz1s/rjgD0x4U/bvxx5Y87f1wOOgDzfs8QgOvyvLRT8pOOf4yUdafkJzHGC9BICEACkAAkAAlAArCg8QJwh2SpndXl3SFZGmO8AI2EACQACUACkAAkAAtKAAKMCgQgAUgAEoAEIAFY0HgBuF2yrONcLOt2ybIY4wVoJA0LwLJBWDUAfQHYQQfg3eYq054ItzBfYh5gHmue2eY/mkuybvX7BzL6h6y/O8zPeHo4NeOl4bCMvkLX755aL2PHwtAXmz4p4j3ma00Lric3y3qfsvqkDQ86/7lf32+/I/h8fD5+3z7ffts/vv98/7bvez82fuz82Pqx93Oj49w50/Tzzs9LP2/9vO4IQH9c+ONm0AHoj/uJDsC6f48OZwBuk9wetg33VnKb5PYY4wVoJAQgAUgAEoAEIAFYUAIQYFQgAAlAApAAJAAJwILGC8DJ/3NH2PrZ+yo5+X/uiDFegEZCAFYKwEtMf6L5gbnYLBmAG5g7mfuZ7zE/3uaF5k1Z13vwdxl9hX3//NiTw2cz+tpz19k7zfzf6h3vCbze/Jr5MdOD6g3mNPNF5tZZO9bts593XN9v3+/fx+fj9+3z7bf94/vP92/7vvdj48fOj60fez83Os6dj5t+3vl56eetn9elA9AfV/6488elP24JwGEMwC0fvrvjHyNl3fLhu2OMF6CREIAEIAFIABKABGBBCUCAUYEAJAAJQAKQACQACxovADd7YHnY/ImHK7nZA8tjjBegkRCABCABSAASgARgQeMF4CYrfxU2TR6t5CYrfxVjvACNhAAsFYC+Ppg/kVxh+meQ3mz+wnzQ/EPWSSHrC8xXmv0+G3iu6Z/vmrMu4H72ab/HhAsyzgkfy+iTQm4Lr8j4aNg0Y7hHWX0dPA+mU82Z5ttND7R9zb1N/7lf32/f79/H5+P37bPt9/3j+8/3b/u+92Pjxy533T8/N/zcyfvsXz8v/bz189rP+47HhT9u/HHljzt/XPrj1h/XBCABCDD6EIAEIAFIABKABGBB4wXghitWho1WJZXccMXKGOMFaCQEIAFIABKABCABWNB4ATjpnvs73o5Q1kn33B9jvACNhAAkAAlAApAAJAALSgACDDv7S1oo6WFJqyXt0uNyIx6AeUFYdwAuM1eYT5oha9nPBu61KHS3haEXZ/X31uxmSw/7xIKT7BNovxROzLggvDHjMpuKkDyzUcbcIJxnnmP6pAv/7F0PtmNM/7lf32/f79/HlxN8vv2+f3z/+f5t3/d+bPzY+bH1Y1964efKn/3r570/LvxxM2wBWPb3Ut2/R4czAHXnQ0G/eaqadz4UY7wAQ8WbJc2RdLwIwEAAEoAEIAFIADYsAG9fFXTv09W8fVWM8QIMJVNEAAYCkAAkAAlAApAABBgnpogADAQgAUgAEoAEYMMC8Ke/Dfrl6mr+9LcxxgswlEwRARiKB2BeEPoTxTzTP2TeF6BdZC4xSy4MvamZtzD0O9ucZX7FzJkUsq0tRbxPuCnju8P8jNkpIXPCV8PMjNeEgzLeHl6csWOSyK+VdbF5tekBdp451/SA85/79f32/f59fDZ+3z7fft8/vv98/7bvez82fuxyJ334ueHnzjvNvIWf/bztCEA/7/1x4Y8bf1z5484fl/649cd1XvARgIoRgEuSznOzrEuSGOMFiMLXlAZdL2+wy08RARgIQAKQACQACUACEKDJbCVphz5ubZefokIBOD1I+7Y8egh+yRCABCABSAASgMPh0WHt88P0oFgBeGsS9PNQzVsJQBhfpohXAAMBSAASgAQgATgII74CeEsStCxU8xYCEMaPzSTtJektSgPwba2vJ9vlxjwAq04K8ScSf3P5FeYPTP8Q+4oLQ29jTjN7TQjpNinkIvOWrL7g6s7hjoyvC9dl9MWITw2nZ8wLwqU2deG+sHXGpxNlDMvNfzdvMn1SRp5+fb99u38fn4/fty8v+Hz/+f5t3/d+bPzY+bHtOPZlJ334eefnZeWFn/1x448rf9z549Ift7EXfiYAcyAAASowQ2vfF/hs23/fa5cjAAlAApAAJAAJwIJGDMCbkqAloZo3EYAAvSAACUACkAAkAAnAgkYMwOuTziWJyno9AQjQCwKQACQACUACkAAsKAEIMCo0PADLBuGgA7DqwtCLQv9JISvMxAyh76SQqWb7G/MPN/2N/XPNK0z7U4svJryrLV08I3wvY14QnheOy/itcGjGm2xqg0+a8MDyhZU7gvEh837Tfu7X99v3+/fx+fh9+3z784LP92/7vu9Y6Nn/TObH1o+9nxt+7vikDz/vcid9+Hnt533epI+6F34uG4B1/55sSABel3T+46Ss1xGAAL0gAAlAApAAJAAJwIJGDMCFSdBNoZoL+wbgbEn3S3pC0gJJ2/UZ0z9LulfS/0q6T9J5SidbAjQWApAAJAAJQAKQACzoyATgsZIel3SYpD0lLZJ0Y58xfVDSPpJ2kvQGST+XdOFgNxsgLmMWgHlB6L/o84Kw6rqAkd8T2P55rAeYx5gfN/PWCbQFWDd/4uGMeUF4ZLgw48nhsxk/a9+5wBLoCvvE2xvCfhl/HPbK6J+te0fHO+X669f32/f79/H5+H37fPt9//QLvl3Dssy+71gcN2+dPz/2fm74ueOf9Rv9PX+s+zeSAXh1EnR9qObVPQNwqaSz2r6eqnS1jD0LjvEkSXdU3VCAOiEACUACkAAkAAnAgkYMwCuToGtDNa/sGoAbS3pG0gF2v8slnVhgfNsrfcXw7wewrQC1QQASgAQgAUgAEoAFHYkA3EHpq3272/3eKum0PuM6R9LvWtddKGnDgW0xQA0QgAQgAUgAEoAEYEEjBuC3k85ztazfHmgAbi3pJZLeKulnkr45sC0GqAECcKgmhdxsLjNXmCUnhbR/HusrzUPM483Tza+b/i9viw6fiPBimxaxnyXTYeHSjMfZtAj/7FsPKJ9EMd8+nfhSuwcPtDz9+n77fv8+Ph+/b59vv+8f338dEz3a978fGz92fmz92Pu54edO6c/6zZv04ee9Py6aNumDAFyn56VLk6AFobxnfD/o7bNS3/LBbuPt9yfgEwqO8Y+VRuRWFbcVoDYIQAKQACQACUACsKANCMB2L+05CWSJuk8C2aPgGF+vNCI3rbitALVBABKABCABSAASgAWNGIAXJ51LFJX14p4BOFPSY1q7DMwNWrsMzI6S7pQ0vfX1bpJmSdpL0s6S3iTpPyVdOWF7ACACBCABSAASgAQgAVjQiAH4zSToslDNbxZeCPoqSdu2vj9F0rOS9m/7+jpJjyhdCPoepRNCtpiYzQeIw4gFYNkgnOgAnBcmdlLISvNJ0554t2iz3yLR+4XOxX4/YJ5pXmj6m7GXZd1oVZLxBWF5xleE2zL6pAcPpJn2abknhc9n9OA63ZZWPiucUkq/vt++37+Pz8fv2+fb7/vH95/v38y+92Pjx86PbdmFnrcwO4LPz0s/b2NP+mDhZwIQAAhAApAAJAAJQAKwoBED8BtJ0D+Gan6DAAToBQFIABKABCABSAAWNGIAfi0JuihU82sEIEAvCEACkAAkAAlAArCgBCDAqDDmATjRQehPRGUnhSwyl5h3m6vMPgtFTzZfYlYNQp9o4MszLDbvfTqjLyT9wnBPRg8knyTxxrAgowfXu23ahi+0fIwt1ew/9+v77fv9+/h8/L59vv2+fzr2n+/f9n1fNfj83PBzZ1LIWejZz0s/b/289vO+7KQPf9wx6aORAXhe0vmPl7KeRwAC9IIAJAAJQAKQACQACxoxAL+UdP4eKeuXCECAXhCABCABSAASgARgQQlAgFGBACQACUACkAAkAAsaMQD/Nun8nOqy/i0BCNCLEQ/AskE47JNCbg4DWyjan7S3MXczX296NOQtHH2u6cs1XG/6pAYLIF/4eNtwb8adwx0ZdwtLM+4Vfpzx1eHmUvr1/fb9/n18HQs3e+D59vv+8f3n+7ffws5+7PzY+rH3c6Mj+NyqCz0z6WN4jRiA5ySd53VZzyEAAXpBABKABCABSAASgAUlAAFGBQKQACQACUACkAAsaMQAPDsJmhuqeTYBCNALApAAJAAJQAKQACxoxACckwR9LlRzDgEI0AsCsNYg9Dev5wXhIrPsQtE9YlAhaAPTn/TzJokcah5rzjLPNn3SiH+m57WmT4K4y7Sg8oWTPcB80sVWv38go//cr9+xMLMHnY/Px+/b59vv+8f3n+/f9n3vxyZvkocfez83coOv7ELPfl7nBZ8/buoOPgJwQp6XCECACYUAJAADAUgAEoAE4NAF4OlJ53le1tMJQIBeEIAEYCAACUACkAAcugD8eNK5hFFZP04AAvSCAJzQAHTz3hPoT2xV1wnsF4R93h+4LkG4t3mw+U7T16L7uOl/yvH1vfw9cAtMD6qbTA8wd4mZd3m/fb9/H5+P37fPt9/3j+8/37/t+96PTfTgm+h1/vxxlfc4JAAJQAAgAAnAQAB2kQAkAAnALkYMwI8mnZPJyvpRAhCgFwQgARgIwC4SgAQgAdjFiAH44aTzvC/rhwlAgF4QgARgIAC7SAASgARgFwlAgFFhzAKw7iCsuk7gIIOw3wSRLkHoa79NNncyp5m+1twh5ntMD5yPmP5eHw8mXxfPJ1FclKMHWt7l/fb9/n18Pn7fPt9+3z++/3z/tu97PzZ+7Eqv6zfRwTfs6/yNU/DVGIAnJZ2Pi7KeRAAC9IIAJAADAdhFAjAQgARgrQH4l0nn7Pay/iUBCNALApAADARgFwnAQAASgAQgwOhCABKAgQDsIgEYCEACsNYAfF8SdFKo5vsIQIBejHkAlg3CsgFYNQj9ze9VPzu46ASRAkHobmrmTRp5pZkXiD7J4RjTg8lf6zw9dgAAEeFJREFUCfDA8jeLl11ewq/vt+/37+Pz8fv25QWe779+Ezv82OQdy8rB5+dd2c/29fO+avANOgDr/j1VpxED8Lik83FT1uMIQIBeEIAEYCAAAwFIAAYCsIgEIMCoQAASgIEADAQgARgIwCJGDMD3JkHHh2q+lwAE6AUBSAAGAjAQgARgIACLGDEAj0o6P1O8rEcRgAC9IABLBeAoBWG/CSK/CNIKc5X5B9MiwicWbGG+wPSA8Ukk+5kHmB5Mh5oeWD6pwvVAy7u8377fv4/Px+/b59vv+8f3n+/fvpM6/Nj5sfVjP+7BRwASgACjBwFIAAYCsIsEYCAACcBaA/CIpPNxWNYj+gbgbEn3S3pC0gJJ2/UYz2RJX5F0j6QnJf2XpE9IWm/A2w0QFQKQAAwEYBcJwEAAEoC1BuA7k/zHXe7jsmcAHivpcUmHSdpT0iJJN/YYz+6S/lnSmyVNlfQ2Sf8t6fSBbzlARAhAAjAQgF0kAAMBSACOcAAulXRW29dTJa1WGoNFmC1pSdUNBagTArCvEx2E/kSWF4TzzLJBuDD0XjR6sbnM9Ch40Cw5aSQvEH0SyU5mXjD6JIm9TQ8un2SRp1/fb9/vPy/ofPt8+/sFXtfIa9ePjR87P7Z+7P3c8HNnoVk2+Py8zgu+vAAk+CbOiAH4p0nnP6zK+qddA3BjSc9IOsDud7mkEwuO8TOSrqu6oQB1QgD2lQAkAHtIAAYCcByNGIBvS4IOD9V8W9cA3EHpq3272/3eKum0AuPbRdJvJb17ANsKUBsEYF8JQAKwhwRgIADH0bEPwG0l3Snp/AFtK0BtEIB9JQAJwB4SgIEAHEcjBuCbk8730hbxNd8P2mVW6s4f7Dbefn8CPqHPuLaW9DNJ/zDAbQWoDQKwr2WfKAYdhP5EWDUIr2jTn7T9Sd2f9MtOGvHIeNLMixZzA9ODaLLpkyQ8sNypJc27Pb9/H5+P37ev7P7p2L/9Ai9vUkfZ4LvCrBp8ZSd9DDr4CMDeRgzAg5POyVNlPbjnJJAl6j4JZI8eY5qsdOLIFWL5FxgRCMC+EoAEIAFIANb9e2iYHJkAnCnpMa1dBuYGrV0GZkelf+ad3jae2yQtlrSTpO1bPn/C9gBABAjAvhKABCABSADW/XtomIwYgDOSoINDNWcUXgj6KqXv75OkKZKelbR/6+sZSl8dfLb13zUun5jNB4gDAdhXApAAJAAJwLp/Dw2TEQPw9UnnepllfT0fBQfQCwKwlIMOwEEHYZmFo/1J25/U+y0ifXPInzRyt7nSzJtEkrPQdNlJJh5YeW5qlr1+qUka3fTtz5vI4fu3fd/nTerwY+vHvmrw5S3sPOjgY9LHxEkAAowKBGApCUACkAAkAMfZiAG4X1J+dn7HbH0CEMaPEyT9m9LFKh+SdLnSWU4OAVhKApAAJAAJwHE2YgBOTzqXWyrrdAIQxo+LlUbg7pKmSbpG6aymDexyBGAlBx2E/kQ36CCcF3q/X9Cf1PutIdjtPYMeEf6+Mo+QvPcQetCsMj2I/D1wHlAVg7J0sLk+Ph+/b59vv+8f33++f9v3vR8bP3Z+bP3Y+7nh5848c9DBN9Hv+av790iTJAABmsb2SmctvcK+TwBWkgAkAAlAAnCcjBiAr0w6F1gv6ysJQIBdlQbgDvZ9ArCSBCABSAASgONkxADcI+n8RJ2y7kEAwngzSdICSQu7/IwArCQBSAASgATgOEkAAtTF15RdiNK9oct1vijpvyRt1+VnBOBArTsI8wKxVwx2C8J+awh2C0SfOJAXiHnrDOZNKnHzAtInTUy0eQGXtz39gm5Jl/3XL/L82OQFXtl1/PKCL+88JfiaY8QAfHnS+RnaZX05AQijw1ZK/4zby63t8p+R9GtJO/e4vVYATg/Svi2PHoJfMk2VACQACUACcNQ8Oqx9fpgeFCsAd02CdgvV3JUAhPHkDEkPSnpZn8vwCuBAJQAJQAKQABxlI74CSAACrBOzlX6+4Zu09oOrt5e0oV2OAByoBCABSAASgKNsxADcJQl6SajmLgQgjB8r1PnB1e0fbr0GAnBCHXQQ5gVimSD0J+1+E0YGEYg+0WCigzFv0slEmzeeKkHXLer6TeQYdOANOvjKnvcEX31GDMCdk/Kf0e3uTAAC9IIAnFAJQAKQACQAR0kCEGBUIAAnVAKQACQACcBRMmIA7pgE7RSquSMBCNALAnBCJQAJQAKQABwlIwbgdknQC0I1tyMAAXpBAEY1dhD2C0R/0nbLBuGgA7FsMOYFZF5QVjXv/vLGmxd0/QIvL/LyjlVe8OWdK4Oe1EHwDa8EIMCoQABGlQAkAAlAArDJRgzA5yVB24RqPo8ABOgFARhVApAAJAAJwCYbMQCfmwRNDtV8LgEI0AsCMKoEIAFIABKATZYABBgVCMBaLfvEVjYQi8Zg3oSRdQnEvGD0QCwbjGUDMi8oq1r2/vO2J2/iRtmJHIMMvEEHX9XHQd2P43EyYgBungRtEaq5OQEI0AsCsFYJQAKQACQAm2TEANwkCdo0VHMTAhCgFwRgrRKABCABSAA2SQIQYFQgAGuVACQACUACsElGDMD1k6ANQjXXJwABekEADpUTHYTrOmFkEIGYF4weMGWDMS8g67bs+PP2R17UDVPgEXyjY8QAVBI0KVRTBCBALwjAoZIAJAAJQAJwmCUAAUYFAnCoJAAJQAKQABxmIwegQkUJQIBeEIBD7TAFYexALPsew7JBGduy4y+7fyYy8Ag+XCMBCDAqEIBDLQFIABKA9T8Oca0EIMCoQAAOtQQgAUgA1v84xLWOVADOlnS/pCckLZC0XZ8xfULSbZKekvSvg91cgHogAIdaApAAJADrfxziWkcmAI+V9LikwyTtKWmRpBv7jOkMSR+SdJGkHw16gwHqgABslFWfSNc1DiciEMsGY9WAHHbLbn+ZfTvsgUfwNceRCcClks5q+3qqpNVKY7Afc8QrgDAiEICNkgAkAAlArNOYAfhIkP5Q0Ue6jXdjSc9IOsDud7mkE3PGNkcEIIwIBGCjJAAJQAIQ6zRmAD4YpCcr+mC38e6g9NW+3e1+b5V0Ws7Y5ogAhBGBAGyUBCABSABinRKAIgBhRCAAR8o6AzF2MFYNyLqtur0TGXQEHvYyZgCuDOl7+Mp6RZA+2PL4buPt9yfgE3LGNkcEIIwIBOBISQA2RwIQm2jMAFwRpFUVXdFrvEvUfRLIHjljmyMCEEYEAnCkJACbIwGITXRkAnCmpMe0dhmYG7R2GZgdJd0paXrb5V8kaS9JX1M6g3jP1tcAjYUAHCkJwOZIAGITjRmA94T0PXxVvKffeNsXgr5K0rat70+R9Kyk/dsuO1/pK4SrWz9b81+AxkIAjrSDfuKuMxBjB+WgnejtHabAI/hG15gB+IuQvg+wir+IMV6ARkIAjrQE4PBIAOIoSAACjAoE4EhLAA6PBCCOgjED8GchfQ9fFX8WY7wAjYQAHGkJwOGRAMRRMGYALg3S3RVdGmO8AI2EABxbJ/pJv2ogDltQDlOwEXhYlwQgwKhAAI6tBCABSABiWWMG4G0hfQ9fFW+LMV6ARkIAjq0EIAFIAGJZYwbgLUFaVtFbYowXoJEQgGMrAUgAEoBYVgIQYFQgALGHEx0NwxaQw26dx6LucxGHx5gBeFOQllT0phjjBWgkBCD2kAAcLglAHAZjBuD1QVpc0etjjBegkRCA2EMCcLgkAHEYJAABRgUCEAdk3cEYOzjrHi9Bh3UYMwCvDdLNFb02xngBGgkBiAOy7qghAAlAnHhjBuA1QVpU0WtijBegkRCAOCDrjhoCkADEiZcABBgVCEAckHVHDQFIAOLEGzMArwrSDyp6VYzxAjQSAhAjWXf0jJt1H28cTWMG4OVBWljRy2OMF6CREIAYybqDaNys+3jjaEoAAowKBCBGsu4gGjfrPt44msYMwMuCdHVFL4sxXoBGQgBiJOsOonGz7uONo2nMALw4SFdU9OIY4wVoJAQgNtS6A4tgw3GUAAQYFQhAbKh1BxsBiONozAD8Zkj/hFvFb8YYL0AjIQCxodYdbAQgjqMxA/CCIF1S0QtijBegkRCA2FDrDjYCEMdRAhBgVCAAERGxoDED8Pwgzavo+THGC9BICEBERCxozAD8cpC+UdEvxxgvQCMhABERsaAEIMCoQAAiImJBYwbg3JD+CbeKc2OMF6CREICIiFjQmAF4TkhfwaviOTHGCzA0zJT0M0mPSfqtpOsl7d3jsgQgIiIWdKQCcLak+yU9IWmBpO36jGlzSfMkJZIekfRFSesPcqMBBsGbJB0iaRdJfyTpq5IeVfcHAAGIiIgFjRmAZ4f0T7hVPLvXeI+V9LikwyTtKWmRpBv7jOkiST+XNF3SAZJ+I+nMwW42wODZQtJqSft0+RkB+H8ePQRjGAbZD+wH9gX7oZcxA/DMkL6CV8Uze413qaSz2r6eqvR5cs8u43mepKclHdT2vWMlPSxp0qA2GmDQbCjpw0r/tbJZl58TgP/nvkMwhmGQ/cB+YF+wH3oZMwA/EaovsP6JbuPdWNIzSl/Ja2e5pBO7jOfg1uXb/+S7s9JgfOmgNhpgUEyT9DulJ+2Dkl7V43IEIL/c2Q/sB/YF+6GgIxGAOyiNt93tfm+VdFqX8Ryp9H1/7TyndRuvHcgWA+TwNaUnXC9vaLvshkrfA7i3pK8rfaPrtl1us/VAm9V6YI+z04dgDMMg+4H9wL5gP/RyVlC0ABzE81LX8RKA0Di2Unri9nLrPte9S9Jfd/n+jkofHIiIiEXdURPHlhMw3qJ/Aj6hy3j4EzA0mnskva/L9ycpfSBviYiIWMAdNbGTHyZNwJh9vEvUfRLIHl3G02sSyENdbhegVk6XtL+kKZL2Uvqn40cl7VTjmAAAAIaFmUrXyl2zDMwNWrsMzI6S7lS65Msa5ku6XWuXgblP0pwYAwUow1ylL2U/JekBSVer9yQQAACAcaR9IeirtPZ98lMkPav0hZQ1bKY0Ah+TtErpQtDrRRonAAAAAADA4Jip4h8fN+qcIOnflO6HhyRdrvT9IePG/pIWKl3sdLXSWeXjQpmPiBpV3qH090Ci9PiP66sdpypdNPhxpefENyVtU+uI6mG2pDuUPiYeUfq4YAIEwAhQ5uPjRp2LlUbg7krXU7xG6ftBNqhzUDXwZqXvcTle4xWAZT8ialQ5StLHlT7xj3MAflfpMiC7Kn3/12KlYTxuvFPSgUpnv+4h6UpJ/1XriABgQuj38XHjxvZK98Ur6h5ITUzReAXgUhX/iKhxYIbGOwCdfZXujy3qHkjNTFO6H7qtLwsADSXv4+PGjV2V/qLboe6B1MQUjU8Alv2IqHFghgjAdt4o6UmN9/7YVOlkw2V1DwQABkPRj48bJyYpfa/LwroHUiNTND4BWPYTAsaBGSIA17CxpJ9IOr/ugdTE25S+PeJZpWvLTql1NADQl4n4+LimUmZfrOGLSt/nMkqTAMruhykiAAlAAnB9Sd9Wei48p+ax1MVzlP4e+GOl7wH8udIoBoAhZCI+Pq6plN0Xn5H0a6Vveh4lyu6HKRqfACz7EVHjwAwRgOspnRy2TNJzax7LsLCh0r8Yvb3ugQDA4On18XHjwBlK/wz+sroHMgRM0fgEoFTuI6LGgRka7wCcpHTpl7s0Wn8RqcpGSpeEeVPdAwGAavDxcWuZrbW/2LZvc8M6B1UDmyk9F96iNADe1vp6cp2DisBM9f6IqHFistLjvWYZoFe1vh63iWFfV7oe6HRlfx+MWxCfo3QG9M5KV4e4UtIKSZvXOSgAqA4fH7eWFUrf5Nz+vjj/WKBxYIay27/mv++tcUyx6PURUePETHU//uP2OGjf/vb98aI6B1UD/yRppdLniJWS/lHSi2sdEQAAAAAAAAAAAAAAAAAAAAAAAAAAAAAAAAAAAAAAAAAAAAAAAAAAAAAAAAAAAAAAAAAAAAAAAAAAAAAAAAAAAAAAAAAAAAAAAAAAAAAAAAAAAAAAAAAAAAAAAAAAAAAAAAAAAAAAAAAAAAAAAAAAAAAAAAAAAAAAAAAAAAAAAAAAAAAAAAAAAAAAAAAAAAAAAAAAAAAAAAAAAAAAAAAAAAAAAAAADB//H0wK+5G0FYwcAAAAAElFTkSuQmCC\">"
       ],
       "metadata": {},
       "output_type": "display_data",
       "text": [
        "<IPython.core.display.HTML at 0x7f3f9fcb5390>"
       ]
      },
      {
       "metadata": {},
       "output_type": "pyout",
       "prompt_number": 111,
       "text": [
        "<matplotlib.colorbar.Colorbar instance at 0x7f3f9fb8cb00>"
       ]
      }
     ],
     "prompt_number": 111
    },
    {
     "cell_type": "code",
     "collapsed": false,
     "input": [
      "plt.figure()\n",
      "x = y = np.linspace(-3, 3, 101)\n",
      "plt.title('Gaussian function')\n",
      "values = np.exp(-(x**2 + (y[:, None] + 0.5)**2))\n",
      "plt.contour(x, y, values)"
     ],
     "language": "python",
     "metadata": {
      "slideshow": {
       "slide_type": "subslide"
      }
     },
     "outputs": [
      {
       "javascript": [
        "/* Put everything inside the global mpl namespace */\n",
        "window.mpl = {};\n",
        "\n",
        "mpl.get_websocket_type = function() {\n",
        "    if (typeof(WebSocket) !== 'undefined') {\n",
        "        return WebSocket;\n",
        "    } else if (typeof(MozWebSocket) !== 'undefined') {\n",
        "        return MozWebSocket;\n",
        "    } else {\n",
        "        alert('Your browser does not have WebSocket support.' +\n",
        "              'Please try Chrome, Safari or Firefox \u2265 6. ' +\n",
        "              'Firefox 4 and 5 are also supported but you ' +\n",
        "              'have to enable WebSockets in about:config.');\n",
        "    };\n",
        "}\n",
        "\n",
        "mpl.figure = function(figure_id, websocket, ondownload, parent_element) {\n",
        "    this.id = figure_id;\n",
        "\n",
        "    this.ws = websocket;\n",
        "\n",
        "    this.supports_binary = (this.ws.binaryType != undefined);\n",
        "\n",
        "    if (!this.supports_binary) {\n",
        "        var warnings = document.getElementById(\"mpl-warnings\");\n",
        "        if (warnings) {\n",
        "            warnings.style.display = 'block';\n",
        "            warnings.textContent = (\n",
        "                \"This browser does not support binary websocket messages. \" +\n",
        "                    \"Performance may be slow.\");\n",
        "        }\n",
        "    }\n",
        "\n",
        "    this.imageObj = new Image();\n",
        "\n",
        "    this.context = undefined;\n",
        "    this.message = undefined;\n",
        "    this.canvas = undefined;\n",
        "    this.rubberband_canvas = undefined;\n",
        "    this.rubberband_context = undefined;\n",
        "    this.format_dropdown = undefined;\n",
        "\n",
        "    this.focus_on_mousover = false;\n",
        "    this.image_mode = 'full';\n",
        "\n",
        "    this.root = $('<div/>');\n",
        "    this.root.attr('style', 'display: inline-block');\n",
        "    $(parent_element).append(this.root);\n",
        "\n",
        "    this._init_header(this);\n",
        "    this._init_canvas(this);\n",
        "    this._init_toolbar(this);\n",
        "\n",
        "    var fig = this;\n",
        "\n",
        "    this.waiting = false;\n",
        "\n",
        "    this.ws.onopen =  function () {\n",
        "            fig.send_message(\"supports_binary\", {value: fig.supports_binary});\n",
        "            fig.send_message(\"send_image_mode\", {});\n",
        "            fig.send_message(\"refresh\", {});\n",
        "        }\n",
        "\n",
        "    this.imageObj.onload = function() {\n",
        "            if (fig.image_mode == 'full') {\n",
        "                // Full images could contain transparency (where diff images\n",
        "                // almost always do), so we need to clear the canvas so that\n",
        "                // there is no ghosting.\n",
        "                fig.context.clearRect(0, 0, fig.canvas.width, fig.canvas.height);\n",
        "            }\n",
        "            fig.context.drawImage(fig.imageObj, 0, 0);\n",
        "            fig.waiting = false;\n",
        "        };\n",
        "\n",
        "    this.imageObj.onunload = function() {\n",
        "        this.ws.close();\n",
        "    }\n",
        "\n",
        "    this.ws.onmessage = this._make_on_message_function(this);\n",
        "\n",
        "    this.ondownload = ondownload;\n",
        "}\n",
        "\n",
        "mpl.figure.prototype._init_header = function() {\n",
        "    var titlebar = $(\n",
        "        '<div class=\"ui-dialog-titlebar ui-widget-header ui-corner-all ' +\n",
        "        'ui-helper-clearfix\"/>');\n",
        "    var titletext = $(\n",
        "        '<div class=\"ui-dialog-title\" style=\"width: 100%; ' +\n",
        "        'text-align: center; padding: 3px;\"/>');\n",
        "    titlebar.append(titletext)\n",
        "    this.root.append(titlebar);\n",
        "    this.header = titletext[0];\n",
        "}\n",
        "\n",
        "mpl.figure.prototype._init_canvas = function() {\n",
        "    var fig = this;\n",
        "\n",
        "    var canvas_div = $('<div/>');\n",
        "    canvas_div.resizable({ resize: mpl.debounce_resize(\n",
        "        function(event, ui) { fig.request_resize(ui.size.width, ui.size.height); }\n",
        "        , 50)});\n",
        "\n",
        "    canvas_div.attr('style', 'position: relative; clear: both;');\n",
        "    this.root.append(canvas_div);\n",
        "\n",
        "    var canvas = $('<canvas/>');\n",
        "    canvas.addClass('mpl-canvas');\n",
        "    canvas.attr('style', \"left: 0; top: 0; z-index: 0;\")\n",
        "\n",
        "    function canvas_keyboard_event(event) {\n",
        "        return fig.key_event(event, event['data']);\n",
        "    }\n",
        "\n",
        "    this.canvas = canvas[0];\n",
        "    this.context = canvas[0].getContext(\"2d\");\n",
        "\n",
        "    var rubberband = $('<canvas/>');\n",
        "    rubberband.attr('style', \"position: absolute; left: 0; top: 0; z-index: 1;\")\n",
        "    function mouse_event_fn(event) {\n",
        "        return fig.mouse_event(event, event['data']);\n",
        "    }\n",
        "    rubberband.mousedown('button_press', mouse_event_fn);\n",
        "    rubberband.mouseup('button_release', mouse_event_fn);\n",
        "    // Throttle sequential mouse events to 1 every 20ms.\n",
        "    rubberband.mousemove('motion_notify', mouse_event_fn);\n",
        "\n",
        "    canvas_div.append(canvas);\n",
        "    canvas_div.append(rubberband);\n",
        "\n",
        "    canvas_div.keydown('key_press', canvas_keyboard_event);\n",
        "    canvas_div.keydown('key_release', canvas_keyboard_event);\n",
        "\n",
        "    this.rubberband = rubberband;\n",
        "    this.rubberband_canvas = rubberband[0];\n",
        "    this.rubberband_context = rubberband[0].getContext(\"2d\");\n",
        "    this.rubberband_context.strokeStyle = \"#000000\";\n",
        "\n",
        "    this._resize_canvas = function(width, height) {\n",
        "        // Keep the size of the canvas, canvas container, and rubber band\n",
        "        // canvas in synch.\n",
        "        canvas_div.css('width', width)\n",
        "        canvas_div.css('height', height)\n",
        "\n",
        "        canvas.attr('width', width);\n",
        "        canvas.attr('height', height);\n",
        "\n",
        "        rubberband.attr('width', width);\n",
        "        rubberband.attr('height', height);\n",
        "    }\n",
        "\n",
        "    // Set the figure to an initial 600x600px, this will subsequently be updated\n",
        "    // upon first draw.\n",
        "    this._resize_canvas(600, 600);\n",
        "}\n",
        "\n",
        "mpl.figure.prototype._init_toolbar = function() {\n",
        "    var fig = this;\n",
        "\n",
        "    var nav_element = $('<div/>')\n",
        "    nav_element.attr('style', 'width: 100%');\n",
        "    this.root.append(nav_element);\n",
        "\n",
        "    // Define a callback function for later on.\n",
        "    function toolbar_event(event) {\n",
        "        return fig.toolbar_button_onclick(event['data']);\n",
        "    }\n",
        "    function toolbar_mouse_event(event) {\n",
        "        return fig.toolbar_button_onmouseover(event['data']);\n",
        "    }\n",
        "\n",
        "    for(var toolbar_ind in mpl.toolbar_items){\n",
        "        var name = mpl.toolbar_items[toolbar_ind][0];\n",
        "        var tooltip = mpl.toolbar_items[toolbar_ind][1];\n",
        "        var image = mpl.toolbar_items[toolbar_ind][2];\n",
        "        var method_name = mpl.toolbar_items[toolbar_ind][3];\n",
        "\n",
        "        if (!name) {\n",
        "            // put a spacer in here.\n",
        "            continue;\n",
        "        }\n",
        "        var button = $('<button/>');\n",
        "        button.addClass('ui-button ui-widget ui-state-default ui-corner-all ' +\n",
        "                        'ui-button-icon-only');\n",
        "        button.attr('role', 'button');\n",
        "        button.attr('aria-disabled', 'false');\n",
        "        button.click(method_name, toolbar_event);\n",
        "        button.mouseover(tooltip, toolbar_mouse_event);\n",
        "\n",
        "        var icon_img = $('<span/>');\n",
        "        icon_img.addClass('ui-button-icon-primary ui-icon');\n",
        "        icon_img.addClass(image);\n",
        "        icon_img.addClass('ui-corner-all');\n",
        "\n",
        "        var tooltip_span = $('<span/>');\n",
        "        tooltip_span.addClass('ui-button-text');\n",
        "        tooltip_span.html(tooltip);\n",
        "\n",
        "        button.append(icon_img);\n",
        "        button.append(tooltip_span);\n",
        "\n",
        "        nav_element.append(button);\n",
        "    }\n",
        "\n",
        "    var fmt_picker_span = $('<span/>');\n",
        "\n",
        "    var fmt_picker = $('<select/>');\n",
        "    fmt_picker.addClass('mpl-toolbar-option ui-widget ui-widget-content');\n",
        "    fmt_picker_span.append(fmt_picker);\n",
        "    nav_element.append(fmt_picker_span);\n",
        "    this.format_dropdown = fmt_picker[0];\n",
        "\n",
        "    for (var ind in mpl.extensions) {\n",
        "        var fmt = mpl.extensions[ind];\n",
        "        var option = $(\n",
        "            '<option/>', {selected: fmt === mpl.default_extension}).html(fmt);\n",
        "        fmt_picker.append(option)\n",
        "    }\n",
        "\n",
        "    // Add hover states to the ui-buttons\n",
        "    $( \".ui-button\" ).hover(\n",
        "        function() { $(this).addClass(\"ui-state-hover\");},\n",
        "        function() { $(this).removeClass(\"ui-state-hover\");}\n",
        "    );\n",
        "\n",
        "    var status_bar = $('<span class=\"mpl-message\"/>');\n",
        "    nav_element.append(status_bar);\n",
        "    this.message = status_bar[0];\n",
        "}\n",
        "\n",
        "mpl.figure.prototype.request_resize = function(x_pixels, y_pixels) {\n",
        "    // Request matplotlib to resize the figure. Matplotlib will then trigger a resize in the client,\n",
        "    // which will in turn request a refresh of the image.\n",
        "    this.send_message('resize', {'width': x_pixels, 'height': y_pixels});\n",
        "}\n",
        "\n",
        "mpl.figure.prototype.send_message = function(type, properties) {\n",
        "    properties['type'] = type;\n",
        "    properties['figure_id'] = this.id;\n",
        "    this.ws.send(JSON.stringify(properties));\n",
        "}\n",
        "\n",
        "mpl.figure.prototype.send_draw_message = function() {\n",
        "    if (!this.waiting) {\n",
        "        this.waiting = true;\n",
        "        this.ws.send(JSON.stringify({type: \"draw\", figure_id: this.id}));\n",
        "    }\n",
        "}\n",
        "\n",
        "mpl.figure.prototype.handle_resize = function(fig, msg) {\n",
        "    var size = msg['size'];\n",
        "    if (size[0] != fig.canvas.width || size[1] != fig.canvas.height) {\n",
        "        fig._resize_canvas(size[0], size[1]);\n",
        "        fig.send_message(\"refresh\", {});\n",
        "    };\n",
        "}\n",
        "\n",
        "mpl.figure.prototype.handle_rubberband = function(fig, msg) {\n",
        "    var x0 = msg['x0'];\n",
        "    var y0 = fig.canvas.height - msg['y0'];\n",
        "    var x1 = msg['x1'];\n",
        "    var y1 = fig.canvas.height - msg['y1'];\n",
        "    x0 = Math.floor(x0) + 0.5;\n",
        "    y0 = Math.floor(y0) + 0.5;\n",
        "    x1 = Math.floor(x1) + 0.5;\n",
        "    y1 = Math.floor(y1) + 0.5;\n",
        "    var min_x = Math.min(x0, x1);\n",
        "    var min_y = Math.min(y0, y1);\n",
        "    var width = Math.abs(x1 - x0);\n",
        "    var height = Math.abs(y1 - y0);\n",
        "\n",
        "    fig.rubberband_context.clearRect(\n",
        "        0, 0, fig.canvas.width, fig.canvas.height);\n",
        "\n",
        "    fig.rubberband_context.strokeRect(min_x, min_y, width, height);\n",
        "}\n",
        "\n",
        "mpl.figure.prototype.handle_figure_label = function(fig, msg) {\n",
        "    // Updates the figure title.\n",
        "    fig.header.textContent = msg['label'];\n",
        "}\n",
        "\n",
        "mpl.figure.prototype.handle_cursor = function(fig, msg) {\n",
        "    var cursor = msg['cursor'];\n",
        "    switch(cursor)\n",
        "    {\n",
        "    case 0:\n",
        "        cursor = 'pointer';\n",
        "        break;\n",
        "    case 1:\n",
        "        cursor = 'default';\n",
        "        break;\n",
        "    case 2:\n",
        "        cursor = 'crosshair';\n",
        "        break;\n",
        "    case 3:\n",
        "        cursor = 'move';\n",
        "        break;\n",
        "    }\n",
        "    fig.rubberband_canvas.style.cursor = cursor;\n",
        "}\n",
        "\n",
        "mpl.figure.prototype.handle_message = function(fig, msg) {\n",
        "    fig.message.textContent = msg['message'];\n",
        "}\n",
        "\n",
        "mpl.figure.prototype.handle_draw = function(fig, msg) {\n",
        "    // Request the server to send over a new figure.\n",
        "    fig.send_draw_message();\n",
        "}\n",
        "\n",
        "mpl.figure.prototype.handle_image_mode = function(fig, msg) {\n",
        "    fig.image_mode = msg['mode'];\n",
        "}\n",
        "\n",
        "mpl.figure.prototype.updated_canvas_event = function() {\n",
        "    // Called whenever the canvas gets updated.\n",
        "    this.send_message(\"ack\", {});\n",
        "}\n",
        "\n",
        "// A function to construct a web socket function for onmessage handling.\n",
        "// Called in the figure constructor.\n",
        "mpl.figure.prototype._make_on_message_function = function(fig) {\n",
        "    return function socket_on_message(evt) {\n",
        "        if (evt.data instanceof Blob) {\n",
        "            /* FIXME: We get \"Resource interpreted as Image but\n",
        "             * transferred with MIME type text/plain:\" errors on\n",
        "             * Chrome.  But how to set the MIME type?  It doesn't seem\n",
        "             * to be part of the websocket stream */\n",
        "            evt.data.type = \"image/png\";\n",
        "\n",
        "            /* Free the memory for the previous frames */\n",
        "            if (fig.imageObj.src) {\n",
        "                (window.URL || window.webkitURL).revokeObjectURL(\n",
        "                    fig.imageObj.src);\n",
        "            }\n",
        "\n",
        "            fig.imageObj.src = (window.URL || window.webkitURL).createObjectURL(\n",
        "                evt.data);\n",
        "            fig.updated_canvas_event();\n",
        "            return;\n",
        "        }\n",
        "        else if (typeof evt.data === 'string' && evt.data.slice(0, 21) == \"data:image/png;base64\") {\n",
        "            fig.imageObj.src = evt.data;\n",
        "            fig.updated_canvas_event();\n",
        "            return;\n",
        "        }\n",
        "\n",
        "        var msg = JSON.parse(evt.data);\n",
        "        var msg_type = msg['type'];\n",
        "\n",
        "        // Call the  \"handle_{type}\" callback, which takes\n",
        "        // the figure and JSON message as its only arguments.\n",
        "        try {\n",
        "            var callback = fig[\"handle_\" + msg_type];\n",
        "        } catch (e) {\n",
        "            console.log(\"No handler for the '\" + msg_type + \"' message type: \", msg);\n",
        "            return;\n",
        "        }\n",
        "\n",
        "        if (callback) {\n",
        "            try {\n",
        "                // console.log(\"Handling '\" + msg_type + \"' message: \", msg);\n",
        "                callback(fig, msg);\n",
        "            } catch (e) {\n",
        "                console.log(\"Exception inside the 'handler_\" + msg_type + \"' callback:\", e, e.stack, msg);\n",
        "            }\n",
        "        }\n",
        "    };\n",
        "}\n",
        "\n",
        "// from http://stackoverflow.com/questions/1114465/getting-mouse-location-in-canvas\n",
        "mpl.findpos = function(e) {\n",
        "    //this section is from http://www.quirksmode.org/js/events_properties.html\n",
        "    var targ;\n",
        "    if (!e)\n",
        "        e = window.event;\n",
        "    if (e.target)\n",
        "        targ = e.target;\n",
        "    else if (e.srcElement)\n",
        "        targ = e.srcElement;\n",
        "    if (targ.nodeType == 3) // defeat Safari bug\n",
        "        targ = targ.parentNode;\n",
        "\n",
        "    // jQuery normalizes the pageX and pageY\n",
        "    // pageX,Y are the mouse positions relative to the document\n",
        "    // offset() returns the position of the element relative to the document\n",
        "    var x = e.pageX - $(targ).offset().left;\n",
        "    var y = e.pageY - $(targ).offset().top;\n",
        "\n",
        "    return {\"x\": x, \"y\": y};\n",
        "};\n",
        "\n",
        "mpl.figure.prototype.mouse_event = function(event, name) {\n",
        "    var canvas_pos = mpl.findpos(event)\n",
        "\n",
        "    if (this.focus_on_mouseover && name === 'motion_notify')\n",
        "    {\n",
        "        this.canvas.focus();\n",
        "    }\n",
        "\n",
        "    var x = canvas_pos.x;\n",
        "    var y = canvas_pos.y;\n",
        "\n",
        "    this.send_message(name, {x: x, y: y, button: event.button});\n",
        "\n",
        "    /* This prevents the web browser from automatically changing to\n",
        "     * the text insertion cursor when the button is pressed.  We want\n",
        "     * to control all of the cursor setting manually through the\n",
        "     * 'cursor' event from matplotlib */\n",
        "    event.preventDefault();\n",
        "    return false;\n",
        "}\n",
        "\n",
        "mpl.figure.prototype.key_event = function(event, name) {\n",
        "    /* Don't fire events just when a modifier is changed.  Modifiers are\n",
        "       sent along with other keys. */\n",
        "    if (event.keyCode >= 16 && event.keyCode <= 20) {\n",
        "        return;\n",
        "    }\n",
        "\n",
        "    value = '';\n",
        "    if (event.ctrlKey) {\n",
        "        value += \"ctrl+\";\n",
        "    }\n",
        "    if (event.altKey) {\n",
        "        value += \"alt+\";\n",
        "    }\n",
        "    value += String.fromCharCode(event.keyCode).toLowerCase();\n",
        "\n",
        "    this.send_message(name, {key: value});\n",
        "}\n",
        "\n",
        "mpl.figure.prototype.toolbar_button_onclick = function(name) {\n",
        "    if (name == 'download') {\n",
        "        var format_dropdown = this.format_dropdown;\n",
        "        var format = format_dropdown.options[format_dropdown.selectedIndex].value;\n",
        "        this.ondownload(this, format);\n",
        "    } else {\n",
        "        this.send_message(\"toolbar_button\", {name: name});\n",
        "    }\n",
        "};\n",
        "\n",
        "mpl.figure.prototype.toolbar_button_onmouseover = function(tooltip) {\n",
        "    this.message.textContent = tooltip;\n",
        "};\n",
        "\n",
        "mpl.debounce_event = function(func, time){\n",
        "    var timer;\n",
        "    return function(event){\n",
        "        clearTimeout(timer);\n",
        "        timer = setTimeout(function(){ func(event); }, time);\n",
        "    };\n",
        "}\n",
        "\n",
        "mpl.debounce_resize = function(func, time){\n",
        "    var timer;\n",
        "    return function(event, ui){\n",
        "        clearTimeout(timer);\n",
        "        timer = setTimeout(function(){ func(event, ui); }, time);\n",
        "    };\n",
        "}\n",
        "mpl.toolbar_items = [[\"Home\", \"Reset original view\", \"fa fa-home icon-home\", \"home\"], [\"Back\", \"Back to  previous view\", \"fa fa-arrow-left icon-arrow-left\", \"back\"], [\"Forward\", \"Forward to next view\", \"fa fa-arrow-right icon-arrow-right\", \"forward\"], [\"\", \"\", \"\", \"\"], [\"Pan\", \"Pan axes with left mouse, zoom with right\", \"fa fa-arrows icon-move\", \"pan\"], [\"Zoom\", \"Zoom to rectangle\", \"fa fa-square-o icon-check-empty\", \"zoom\"], [\"\", \"\", \"\", \"\"]];\n",
        "\n",
        "mpl.extensions = [\"eps\", \"jpeg\", \"pgf\", \"pdf\", \"png\", \"ps\", \"raw\", \"svg\", \"tif\"];\n",
        "\n",
        "mpl.default_extension = \"png\";var comm_websocket_adapter = function(comm) {\n",
        "    // Create a \"websocket\"-like object which calls the given IPython comm\n",
        "    // object with the appropriate methods. Currently this is a non binary\n",
        "    // socket, so there is still some room for performance tuning.\n",
        "    var ws = {};\n",
        "\n",
        "    ws.close = function() {\n",
        "        comm.close()\n",
        "    };\n",
        "    ws.send = function(m) {\n",
        "        //console.log('sending', m);\n",
        "        comm.send(m);\n",
        "    };\n",
        "    // Register the callback with on_msg.\n",
        "    comm.on_msg(function(msg) {\n",
        "        //console.log('receiving', msg['content']['data'], msg);\n",
        "        // Pass the mpl event to the overriden (by mpl) onmessage function.\n",
        "        ws.onmessage(msg['content']['data'])\n",
        "    });\n",
        "    return ws;\n",
        "}\n",
        "\n",
        "mpl.mpl_figure_comm = function(comm, msg) {\n",
        "    // This is the function which gets called when the mpl process\n",
        "    // starts-up an IPython Comm through the \"matplotlib\" channel.\n",
        "\n",
        "    var id = msg.content.data.id;\n",
        "    // Get hold of the div created by the display call when the Comm\n",
        "    // socket was opened in Python.\n",
        "    var element = $(\"#\" + id);\n",
        "    var ws_proxy = comm_websocket_adapter(comm)\n",
        "\n",
        "    var fig = new mpl.figure(id, ws_proxy,\n",
        "                           function() { },\n",
        "                           element.get(0));\n",
        "\n",
        "    // Call onopen now - mpl needs it, as it is assuming we've passed it a real\n",
        "    // web socket which is closed, not our websocket->open comm proxy.\n",
        "    ws_proxy.onopen();\n",
        "\n",
        "    fig.parent_element = element.get(0);\n",
        "    fig.cell_info = mpl.find_output_cell(\"<div id='\" + id + \"'></div>\");\n",
        "\n",
        "    var output_index = fig.cell_info[2]\n",
        "    var cell = fig.cell_info[0];\n",
        "\n",
        "    // Disable right mouse context menu.\n",
        "    $(fig.rubberband_canvas).bind(\"contextmenu\",function(e){\n",
        "        return false;\n",
        "    });\n",
        "\n",
        "};\n",
        "\n",
        "mpl.figure.prototype.handle_close = function(fig, msg) {\n",
        "    // Update the output cell to use the data from the current canvas.\n",
        "    fig.push_to_output();\n",
        "    var dataURL = fig.canvas.toDataURL();\n",
        "    // Re-enable the keyboard manager in IPython - without this line, in FF,\n",
        "    // the notebook keyboard shortcuts fail.\n",
        "    IPython.keyboard_manager.enable()\n",
        "    $(fig.parent_element).html('<img src=\"' + dataURL + '\">');\n",
        "    fig.send_message('closing', {});\n",
        "    fig.ws.close()\n",
        "}\n",
        "\n",
        "mpl.figure.prototype.push_to_output = function(remove_interactive) {\n",
        "    // Turn the data on the canvas into data in the output cell.\n",
        "    var dataURL = this.canvas.toDataURL();\n",
        "    this.cell_info[1]['text/html'] = '<img src=\"' + dataURL + '\">';\n",
        "}\n",
        "\n",
        "mpl.figure.prototype.updated_canvas_event = function() {\n",
        "    // Tell IPython that the notebook contents must change.\n",
        "    IPython.notebook.set_dirty(true);\n",
        "    this.send_message(\"ack\", {});\n",
        "    var fig = this;\n",
        "    // Wait a second, then push the new image to the DOM so\n",
        "    // that it is saved nicely (might be nice to debounce this).\n",
        "    setTimeout(function () { fig.push_to_output() }, 1000);\n",
        "}\n",
        "\n",
        "mpl.figure.prototype._init_toolbar = function() {\n",
        "    var fig = this;\n",
        "\n",
        "    var nav_element = $('<div/>')\n",
        "    nav_element.attr('style', 'width: 100%');\n",
        "    this.root.append(nav_element);\n",
        "\n",
        "    // Define a callback function for later on.\n",
        "    function toolbar_event(event) {\n",
        "        return fig.toolbar_button_onclick(event['data']);\n",
        "    }\n",
        "    function toolbar_mouse_event(event) {\n",
        "        return fig.toolbar_button_onmouseover(event['data']);\n",
        "    }\n",
        "\n",
        "    for(var toolbar_ind in mpl.toolbar_items){\n",
        "        var name = mpl.toolbar_items[toolbar_ind][0];\n",
        "        var tooltip = mpl.toolbar_items[toolbar_ind][1];\n",
        "        var image = mpl.toolbar_items[toolbar_ind][2];\n",
        "        var method_name = mpl.toolbar_items[toolbar_ind][3];\n",
        "\n",
        "        if (!name) { continue; };\n",
        "\n",
        "        var button = $('<button class=\"btn btn-default\" href=\"#\" title=\"' + name + '\"><i class=\"fa ' + image + ' fa-lg\"></i></button>');\n",
        "        button.click(method_name, toolbar_event);\n",
        "        button.mouseover(tooltip, toolbar_mouse_event);\n",
        "        nav_element.append(button);\n",
        "    }\n",
        "\n",
        "    // Add the status bar.\n",
        "    var status_bar = $('<span class=\"mpl-message\" style=\"text-align:right; float: right;\"/>');\n",
        "    nav_element.append(status_bar);\n",
        "    this.message = status_bar[0];\n",
        "\n",
        "    // Add the close button to the window.\n",
        "    var buttongrp = $('<div class=\"btn-group inline pull-right\"></div>');\n",
        "    var button = $('<button class=\"btn btn-mini btn-danger\" href=\"#\" title=\"Close figure\"><i class=\"fa fa-times icon-remove icon-large\"></i></button>');\n",
        "    button.click(function (evt) { fig.handle_close(fig, {}); } );\n",
        "    button.mouseover('Close figure', toolbar_mouse_event);\n",
        "    buttongrp.append(button);\n",
        "    var titlebar = this.root.find($('.ui-dialog-titlebar'));\n",
        "    titlebar.prepend(buttongrp);\n",
        "}\n",
        "\n",
        "mpl.find_output_cell = function(html_output) {\n",
        "    // Return the cell and output element which can be found *uniquely* in the notebook.\n",
        "    // Note - this is a bit hacky, but it is done because the \"notebook_saving.Notebook\"\n",
        "    // IPython event is triggered only after the cells have been serialised, which for\n",
        "    // our purposes (turning an active figure into a static one), is too late.\n",
        "    var cells = IPython.notebook.get_cells();\n",
        "    var ncells = cells.length;\n",
        "    for (var i=0; i<ncells; i++) {\n",
        "        var cell = cells[i];\n",
        "        if (cell.cell_type == 'code'){\n",
        "            for (var j=0; j<cell.output_area.outputs.length; j++) {\n",
        "                var data = cell.output_area.outputs[j];\n",
        "                if (cell.output_area.outputs[j]['text/html'] == html_output) {\n",
        "                    var output = cell.output_area.outputs[j];\n",
        "                    return [cell, output, j];\n",
        "                }\n",
        "            }\n",
        "        }\n",
        "    }\n",
        "}\n",
        "\n",
        "// Register the function which deals with the matplotlib target/channel.\n",
        "// The kernel may be null if the page has been refreshed.\n",
        "if (IPython.notebook.kernel != null) {\n",
        "    IPython.notebook.kernel.comm_manager.register_target('matplotlib', mpl.mpl_figure_comm);\n",
        "}\n"
       ],
       "metadata": {},
       "output_type": "display_data",
       "text": [
        "<IPython.core.display.Javascript at 0x7f3f9fb62310>"
       ]
      },
      {
       "html": [
        "<img src=\"data:image/png;base64,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\">"
       ],
       "metadata": {},
       "output_type": "display_data",
       "text": [
        "<IPython.core.display.HTML at 0x7f3f9fb62850>"
       ]
      },
      {
       "metadata": {},
       "output_type": "pyout",
       "prompt_number": 112,
       "text": [
        "<matplotlib.contour.QuadContourSet instance at 0x7f3f9fae50e0>"
       ]
      }
     ],
     "prompt_number": 112
    },
    {
     "cell_type": "code",
     "collapsed": false,
     "input": [
      "from scipy.stats import norm\n",
      "random = norm.rvs(size=10000)\n",
      "plt.hist(random, bins=20, label='Histogram')\n",
      "plt.legend()"
     ],
     "language": "python",
     "metadata": {
      "slideshow": {
       "slide_type": "subslide"
      }
     },
     "outputs": [
      {
       "metadata": {},
       "output_type": "pyout",
       "prompt_number": 98,
       "text": [
        "<matplotlib.legend.Legend at 0x7f3fa7ad9550>"
       ]
      }
     ],
     "prompt_number": 98
    },
    {
     "cell_type": "code",
     "collapsed": false,
     "input": [
      "plt.figure()\n",
      "x = np.linspace(0, 20, 401)\n",
      "plt.subplot(2, 1, 1)\n",
      "plt.plot(x, np.sin(x))\n",
      "plt.subplot(2, 1, 2)\n",
      "plt.plot(x, np.sinc(x))"
     ],
     "language": "python",
     "metadata": {
      "slideshow": {
       "slide_type": "subslide"
      }
     },
     "outputs": [
      {
       "javascript": [
        "/* Put everything inside the global mpl namespace */\n",
        "window.mpl = {};\n",
        "\n",
        "mpl.get_websocket_type = function() {\n",
        "    if (typeof(WebSocket) !== 'undefined') {\n",
        "        return WebSocket;\n",
        "    } else if (typeof(MozWebSocket) !== 'undefined') {\n",
        "        return MozWebSocket;\n",
        "    } else {\n",
        "        alert('Your browser does not have WebSocket support.' +\n",
        "              'Please try Chrome, Safari or Firefox \u2265 6. ' +\n",
        "              'Firefox 4 and 5 are also supported but you ' +\n",
        "              'have to enable WebSockets in about:config.');\n",
        "    };\n",
        "}\n",
        "\n",
        "mpl.figure = function(figure_id, websocket, ondownload, parent_element) {\n",
        "    this.id = figure_id;\n",
        "\n",
        "    this.ws = websocket;\n",
        "\n",
        "    this.supports_binary = (this.ws.binaryType != undefined);\n",
        "\n",
        "    if (!this.supports_binary) {\n",
        "        var warnings = document.getElementById(\"mpl-warnings\");\n",
        "        if (warnings) {\n",
        "            warnings.style.display = 'block';\n",
        "            warnings.textContent = (\n",
        "                \"This browser does not support binary websocket messages. \" +\n",
        "                    \"Performance may be slow.\");\n",
        "        }\n",
        "    }\n",
        "\n",
        "    this.imageObj = new Image();\n",
        "\n",
        "    this.context = undefined;\n",
        "    this.message = undefined;\n",
        "    this.canvas = undefined;\n",
        "    this.rubberband_canvas = undefined;\n",
        "    this.rubberband_context = undefined;\n",
        "    this.format_dropdown = undefined;\n",
        "\n",
        "    this.focus_on_mousover = false;\n",
        "    this.image_mode = 'full';\n",
        "\n",
        "    this.root = $('<div/>');\n",
        "    this.root.attr('style', 'display: inline-block');\n",
        "    $(parent_element).append(this.root);\n",
        "\n",
        "    this._init_header(this);\n",
        "    this._init_canvas(this);\n",
        "    this._init_toolbar(this);\n",
        "\n",
        "    var fig = this;\n",
        "\n",
        "    this.waiting = false;\n",
        "\n",
        "    this.ws.onopen =  function () {\n",
        "            fig.send_message(\"supports_binary\", {value: fig.supports_binary});\n",
        "            fig.send_message(\"send_image_mode\", {});\n",
        "            fig.send_message(\"refresh\", {});\n",
        "        }\n",
        "\n",
        "    this.imageObj.onload = function() {\n",
        "            if (fig.image_mode == 'full') {\n",
        "                // Full images could contain transparency (where diff images\n",
        "                // almost always do), so we need to clear the canvas so that\n",
        "                // there is no ghosting.\n",
        "                fig.context.clearRect(0, 0, fig.canvas.width, fig.canvas.height);\n",
        "            }\n",
        "            fig.context.drawImage(fig.imageObj, 0, 0);\n",
        "            fig.waiting = false;\n",
        "        };\n",
        "\n",
        "    this.imageObj.onunload = function() {\n",
        "        this.ws.close();\n",
        "    }\n",
        "\n",
        "    this.ws.onmessage = this._make_on_message_function(this);\n",
        "\n",
        "    this.ondownload = ondownload;\n",
        "}\n",
        "\n",
        "mpl.figure.prototype._init_header = function() {\n",
        "    var titlebar = $(\n",
        "        '<div class=\"ui-dialog-titlebar ui-widget-header ui-corner-all ' +\n",
        "        'ui-helper-clearfix\"/>');\n",
        "    var titletext = $(\n",
        "        '<div class=\"ui-dialog-title\" style=\"width: 100%; ' +\n",
        "        'text-align: center; padding: 3px;\"/>');\n",
        "    titlebar.append(titletext)\n",
        "    this.root.append(titlebar);\n",
        "    this.header = titletext[0];\n",
        "}\n",
        "\n",
        "mpl.figure.prototype._init_canvas = function() {\n",
        "    var fig = this;\n",
        "\n",
        "    var canvas_div = $('<div/>');\n",
        "    canvas_div.resizable({ resize: mpl.debounce_resize(\n",
        "        function(event, ui) { fig.request_resize(ui.size.width, ui.size.height); }\n",
        "        , 50)});\n",
        "\n",
        "    canvas_div.attr('style', 'position: relative; clear: both;');\n",
        "    this.root.append(canvas_div);\n",
        "\n",
        "    var canvas = $('<canvas/>');\n",
        "    canvas.addClass('mpl-canvas');\n",
        "    canvas.attr('style', \"left: 0; top: 0; z-index: 0;\")\n",
        "\n",
        "    function canvas_keyboard_event(event) {\n",
        "        return fig.key_event(event, event['data']);\n",
        "    }\n",
        "\n",
        "    this.canvas = canvas[0];\n",
        "    this.context = canvas[0].getContext(\"2d\");\n",
        "\n",
        "    var rubberband = $('<canvas/>');\n",
        "    rubberband.attr('style', \"position: absolute; left: 0; top: 0; z-index: 1;\")\n",
        "    function mouse_event_fn(event) {\n",
        "        return fig.mouse_event(event, event['data']);\n",
        "    }\n",
        "    rubberband.mousedown('button_press', mouse_event_fn);\n",
        "    rubberband.mouseup('button_release', mouse_event_fn);\n",
        "    // Throttle sequential mouse events to 1 every 20ms.\n",
        "    rubberband.mousemove('motion_notify', mouse_event_fn);\n",
        "\n",
        "    canvas_div.append(canvas);\n",
        "    canvas_div.append(rubberband);\n",
        "\n",
        "    canvas_div.keydown('key_press', canvas_keyboard_event);\n",
        "    canvas_div.keydown('key_release', canvas_keyboard_event);\n",
        "\n",
        "    this.rubberband = rubberband;\n",
        "    this.rubberband_canvas = rubberband[0];\n",
        "    this.rubberband_context = rubberband[0].getContext(\"2d\");\n",
        "    this.rubberband_context.strokeStyle = \"#000000\";\n",
        "\n",
        "    this._resize_canvas = function(width, height) {\n",
        "        // Keep the size of the canvas, canvas container, and rubber band\n",
        "        // canvas in synch.\n",
        "        canvas_div.css('width', width)\n",
        "        canvas_div.css('height', height)\n",
        "\n",
        "        canvas.attr('width', width);\n",
        "        canvas.attr('height', height);\n",
        "\n",
        "        rubberband.attr('width', width);\n",
        "        rubberband.attr('height', height);\n",
        "    }\n",
        "\n",
        "    // Set the figure to an initial 600x600px, this will subsequently be updated\n",
        "    // upon first draw.\n",
        "    this._resize_canvas(600, 600);\n",
        "}\n",
        "\n",
        "mpl.figure.prototype._init_toolbar = function() {\n",
        "    var fig = this;\n",
        "\n",
        "    var nav_element = $('<div/>')\n",
        "    nav_element.attr('style', 'width: 100%');\n",
        "    this.root.append(nav_element);\n",
        "\n",
        "    // Define a callback function for later on.\n",
        "    function toolbar_event(event) {\n",
        "        return fig.toolbar_button_onclick(event['data']);\n",
        "    }\n",
        "    function toolbar_mouse_event(event) {\n",
        "        return fig.toolbar_button_onmouseover(event['data']);\n",
        "    }\n",
        "\n",
        "    for(var toolbar_ind in mpl.toolbar_items){\n",
        "        var name = mpl.toolbar_items[toolbar_ind][0];\n",
        "        var tooltip = mpl.toolbar_items[toolbar_ind][1];\n",
        "        var image = mpl.toolbar_items[toolbar_ind][2];\n",
        "        var method_name = mpl.toolbar_items[toolbar_ind][3];\n",
        "\n",
        "        if (!name) {\n",
        "            // put a spacer in here.\n",
        "            continue;\n",
        "        }\n",
        "        var button = $('<button/>');\n",
        "        button.addClass('ui-button ui-widget ui-state-default ui-corner-all ' +\n",
        "                        'ui-button-icon-only');\n",
        "        button.attr('role', 'button');\n",
        "        button.attr('aria-disabled', 'false');\n",
        "        button.click(method_name, toolbar_event);\n",
        "        button.mouseover(tooltip, toolbar_mouse_event);\n",
        "\n",
        "        var icon_img = $('<span/>');\n",
        "        icon_img.addClass('ui-button-icon-primary ui-icon');\n",
        "        icon_img.addClass(image);\n",
        "        icon_img.addClass('ui-corner-all');\n",
        "\n",
        "        var tooltip_span = $('<span/>');\n",
        "        tooltip_span.addClass('ui-button-text');\n",
        "        tooltip_span.html(tooltip);\n",
        "\n",
        "        button.append(icon_img);\n",
        "        button.append(tooltip_span);\n",
        "\n",
        "        nav_element.append(button);\n",
        "    }\n",
        "\n",
        "    var fmt_picker_span = $('<span/>');\n",
        "\n",
        "    var fmt_picker = $('<select/>');\n",
        "    fmt_picker.addClass('mpl-toolbar-option ui-widget ui-widget-content');\n",
        "    fmt_picker_span.append(fmt_picker);\n",
        "    nav_element.append(fmt_picker_span);\n",
        "    this.format_dropdown = fmt_picker[0];\n",
        "\n",
        "    for (var ind in mpl.extensions) {\n",
        "        var fmt = mpl.extensions[ind];\n",
        "        var option = $(\n",
        "            '<option/>', {selected: fmt === mpl.default_extension}).html(fmt);\n",
        "        fmt_picker.append(option)\n",
        "    }\n",
        "\n",
        "    // Add hover states to the ui-buttons\n",
        "    $( \".ui-button\" ).hover(\n",
        "        function() { $(this).addClass(\"ui-state-hover\");},\n",
        "        function() { $(this).removeClass(\"ui-state-hover\");}\n",
        "    );\n",
        "\n",
        "    var status_bar = $('<span class=\"mpl-message\"/>');\n",
        "    nav_element.append(status_bar);\n",
        "    this.message = status_bar[0];\n",
        "}\n",
        "\n",
        "mpl.figure.prototype.request_resize = function(x_pixels, y_pixels) {\n",
        "    // Request matplotlib to resize the figure. Matplotlib will then trigger a resize in the client,\n",
        "    // which will in turn request a refresh of the image.\n",
        "    this.send_message('resize', {'width': x_pixels, 'height': y_pixels});\n",
        "}\n",
        "\n",
        "mpl.figure.prototype.send_message = function(type, properties) {\n",
        "    properties['type'] = type;\n",
        "    properties['figure_id'] = this.id;\n",
        "    this.ws.send(JSON.stringify(properties));\n",
        "}\n",
        "\n",
        "mpl.figure.prototype.send_draw_message = function() {\n",
        "    if (!this.waiting) {\n",
        "        this.waiting = true;\n",
        "        this.ws.send(JSON.stringify({type: \"draw\", figure_id: this.id}));\n",
        "    }\n",
        "}\n",
        "\n",
        "mpl.figure.prototype.handle_resize = function(fig, msg) {\n",
        "    var size = msg['size'];\n",
        "    if (size[0] != fig.canvas.width || size[1] != fig.canvas.height) {\n",
        "        fig._resize_canvas(size[0], size[1]);\n",
        "        fig.send_message(\"refresh\", {});\n",
        "    };\n",
        "}\n",
        "\n",
        "mpl.figure.prototype.handle_rubberband = function(fig, msg) {\n",
        "    var x0 = msg['x0'];\n",
        "    var y0 = fig.canvas.height - msg['y0'];\n",
        "    var x1 = msg['x1'];\n",
        "    var y1 = fig.canvas.height - msg['y1'];\n",
        "    x0 = Math.floor(x0) + 0.5;\n",
        "    y0 = Math.floor(y0) + 0.5;\n",
        "    x1 = Math.floor(x1) + 0.5;\n",
        "    y1 = Math.floor(y1) + 0.5;\n",
        "    var min_x = Math.min(x0, x1);\n",
        "    var min_y = Math.min(y0, y1);\n",
        "    var width = Math.abs(x1 - x0);\n",
        "    var height = Math.abs(y1 - y0);\n",
        "\n",
        "    fig.rubberband_context.clearRect(\n",
        "        0, 0, fig.canvas.width, fig.canvas.height);\n",
        "\n",
        "    fig.rubberband_context.strokeRect(min_x, min_y, width, height);\n",
        "}\n",
        "\n",
        "mpl.figure.prototype.handle_figure_label = function(fig, msg) {\n",
        "    // Updates the figure title.\n",
        "    fig.header.textContent = msg['label'];\n",
        "}\n",
        "\n",
        "mpl.figure.prototype.handle_cursor = function(fig, msg) {\n",
        "    var cursor = msg['cursor'];\n",
        "    switch(cursor)\n",
        "    {\n",
        "    case 0:\n",
        "        cursor = 'pointer';\n",
        "        break;\n",
        "    case 1:\n",
        "        cursor = 'default';\n",
        "        break;\n",
        "    case 2:\n",
        "        cursor = 'crosshair';\n",
        "        break;\n",
        "    case 3:\n",
        "        cursor = 'move';\n",
        "        break;\n",
        "    }\n",
        "    fig.rubberband_canvas.style.cursor = cursor;\n",
        "}\n",
        "\n",
        "mpl.figure.prototype.handle_message = function(fig, msg) {\n",
        "    fig.message.textContent = msg['message'];\n",
        "}\n",
        "\n",
        "mpl.figure.prototype.handle_draw = function(fig, msg) {\n",
        "    // Request the server to send over a new figure.\n",
        "    fig.send_draw_message();\n",
        "}\n",
        "\n",
        "mpl.figure.prototype.handle_image_mode = function(fig, msg) {\n",
        "    fig.image_mode = msg['mode'];\n",
        "}\n",
        "\n",
        "mpl.figure.prototype.updated_canvas_event = function() {\n",
        "    // Called whenever the canvas gets updated.\n",
        "    this.send_message(\"ack\", {});\n",
        "}\n",
        "\n",
        "// A function to construct a web socket function for onmessage handling.\n",
        "// Called in the figure constructor.\n",
        "mpl.figure.prototype._make_on_message_function = function(fig) {\n",
        "    return function socket_on_message(evt) {\n",
        "        if (evt.data instanceof Blob) {\n",
        "            /* FIXME: We get \"Resource interpreted as Image but\n",
        "             * transferred with MIME type text/plain:\" errors on\n",
        "             * Chrome.  But how to set the MIME type?  It doesn't seem\n",
        "             * to be part of the websocket stream */\n",
        "            evt.data.type = \"image/png\";\n",
        "\n",
        "            /* Free the memory for the previous frames */\n",
        "            if (fig.imageObj.src) {\n",
        "                (window.URL || window.webkitURL).revokeObjectURL(\n",
        "                    fig.imageObj.src);\n",
        "            }\n",
        "\n",
        "            fig.imageObj.src = (window.URL || window.webkitURL).createObjectURL(\n",
        "                evt.data);\n",
        "            fig.updated_canvas_event();\n",
        "            return;\n",
        "        }\n",
        "        else if (typeof evt.data === 'string' && evt.data.slice(0, 21) == \"data:image/png;base64\") {\n",
        "            fig.imageObj.src = evt.data;\n",
        "            fig.updated_canvas_event();\n",
        "            return;\n",
        "        }\n",
        "\n",
        "        var msg = JSON.parse(evt.data);\n",
        "        var msg_type = msg['type'];\n",
        "\n",
        "        // Call the  \"handle_{type}\" callback, which takes\n",
        "        // the figure and JSON message as its only arguments.\n",
        "        try {\n",
        "            var callback = fig[\"handle_\" + msg_type];\n",
        "        } catch (e) {\n",
        "            console.log(\"No handler for the '\" + msg_type + \"' message type: \", msg);\n",
        "            return;\n",
        "        }\n",
        "\n",
        "        if (callback) {\n",
        "            try {\n",
        "                // console.log(\"Handling '\" + msg_type + \"' message: \", msg);\n",
        "                callback(fig, msg);\n",
        "            } catch (e) {\n",
        "                console.log(\"Exception inside the 'handler_\" + msg_type + \"' callback:\", e, e.stack, msg);\n",
        "            }\n",
        "        }\n",
        "    };\n",
        "}\n",
        "\n",
        "// from http://stackoverflow.com/questions/1114465/getting-mouse-location-in-canvas\n",
        "mpl.findpos = function(e) {\n",
        "    //this section is from http://www.quirksmode.org/js/events_properties.html\n",
        "    var targ;\n",
        "    if (!e)\n",
        "        e = window.event;\n",
        "    if (e.target)\n",
        "        targ = e.target;\n",
        "    else if (e.srcElement)\n",
        "        targ = e.srcElement;\n",
        "    if (targ.nodeType == 3) // defeat Safari bug\n",
        "        targ = targ.parentNode;\n",
        "\n",
        "    // jQuery normalizes the pageX and pageY\n",
        "    // pageX,Y are the mouse positions relative to the document\n",
        "    // offset() returns the position of the element relative to the document\n",
        "    var x = e.pageX - $(targ).offset().left;\n",
        "    var y = e.pageY - $(targ).offset().top;\n",
        "\n",
        "    return {\"x\": x, \"y\": y};\n",
        "};\n",
        "\n",
        "mpl.figure.prototype.mouse_event = function(event, name) {\n",
        "    var canvas_pos = mpl.findpos(event)\n",
        "\n",
        "    if (this.focus_on_mouseover && name === 'motion_notify')\n",
        "    {\n",
        "        this.canvas.focus();\n",
        "    }\n",
        "\n",
        "    var x = canvas_pos.x;\n",
        "    var y = canvas_pos.y;\n",
        "\n",
        "    this.send_message(name, {x: x, y: y, button: event.button});\n",
        "\n",
        "    /* This prevents the web browser from automatically changing to\n",
        "     * the text insertion cursor when the button is pressed.  We want\n",
        "     * to control all of the cursor setting manually through the\n",
        "     * 'cursor' event from matplotlib */\n",
        "    event.preventDefault();\n",
        "    return false;\n",
        "}\n",
        "\n",
        "mpl.figure.prototype.key_event = function(event, name) {\n",
        "    /* Don't fire events just when a modifier is changed.  Modifiers are\n",
        "       sent along with other keys. */\n",
        "    if (event.keyCode >= 16 && event.keyCode <= 20) {\n",
        "        return;\n",
        "    }\n",
        "\n",
        "    value = '';\n",
        "    if (event.ctrlKey) {\n",
        "        value += \"ctrl+\";\n",
        "    }\n",
        "    if (event.altKey) {\n",
        "        value += \"alt+\";\n",
        "    }\n",
        "    value += String.fromCharCode(event.keyCode).toLowerCase();\n",
        "\n",
        "    this.send_message(name, {key: value});\n",
        "}\n",
        "\n",
        "mpl.figure.prototype.toolbar_button_onclick = function(name) {\n",
        "    if (name == 'download') {\n",
        "        var format_dropdown = this.format_dropdown;\n",
        "        var format = format_dropdown.options[format_dropdown.selectedIndex].value;\n",
        "        this.ondownload(this, format);\n",
        "    } else {\n",
        "        this.send_message(\"toolbar_button\", {name: name});\n",
        "    }\n",
        "};\n",
        "\n",
        "mpl.figure.prototype.toolbar_button_onmouseover = function(tooltip) {\n",
        "    this.message.textContent = tooltip;\n",
        "};\n",
        "\n",
        "mpl.debounce_event = function(func, time){\n",
        "    var timer;\n",
        "    return function(event){\n",
        "        clearTimeout(timer);\n",
        "        timer = setTimeout(function(){ func(event); }, time);\n",
        "    };\n",
        "}\n",
        "\n",
        "mpl.debounce_resize = function(func, time){\n",
        "    var timer;\n",
        "    return function(event, ui){\n",
        "        clearTimeout(timer);\n",
        "        timer = setTimeout(function(){ func(event, ui); }, time);\n",
        "    };\n",
        "}\n",
        "mpl.toolbar_items = [[\"Home\", \"Reset original view\", \"fa fa-home icon-home\", \"home\"], [\"Back\", \"Back to  previous view\", \"fa fa-arrow-left icon-arrow-left\", \"back\"], [\"Forward\", \"Forward to next view\", \"fa fa-arrow-right icon-arrow-right\", \"forward\"], [\"\", \"\", \"\", \"\"], [\"Pan\", \"Pan axes with left mouse, zoom with right\", \"fa fa-arrows icon-move\", \"pan\"], [\"Zoom\", \"Zoom to rectangle\", \"fa fa-square-o icon-check-empty\", \"zoom\"], [\"\", \"\", \"\", \"\"]];\n",
        "\n",
        "mpl.extensions = [\"eps\", \"jpeg\", \"pgf\", \"pdf\", \"png\", \"ps\", \"raw\", \"svg\", \"tif\"];\n",
        "\n",
        "mpl.default_extension = \"png\";var comm_websocket_adapter = function(comm) {\n",
        "    // Create a \"websocket\"-like object which calls the given IPython comm\n",
        "    // object with the appropriate methods. Currently this is a non binary\n",
        "    // socket, so there is still some room for performance tuning.\n",
        "    var ws = {};\n",
        "\n",
        "    ws.close = function() {\n",
        "        comm.close()\n",
        "    };\n",
        "    ws.send = function(m) {\n",
        "        //console.log('sending', m);\n",
        "        comm.send(m);\n",
        "    };\n",
        "    // Register the callback with on_msg.\n",
        "    comm.on_msg(function(msg) {\n",
        "        //console.log('receiving', msg['content']['data'], msg);\n",
        "        // Pass the mpl event to the overriden (by mpl) onmessage function.\n",
        "        ws.onmessage(msg['content']['data'])\n",
        "    });\n",
        "    return ws;\n",
        "}\n",
        "\n",
        "mpl.mpl_figure_comm = function(comm, msg) {\n",
        "    // This is the function which gets called when the mpl process\n",
        "    // starts-up an IPython Comm through the \"matplotlib\" channel.\n",
        "\n",
        "    var id = msg.content.data.id;\n",
        "    // Get hold of the div created by the display call when the Comm\n",
        "    // socket was opened in Python.\n",
        "    var element = $(\"#\" + id);\n",
        "    var ws_proxy = comm_websocket_adapter(comm)\n",
        "\n",
        "    var fig = new mpl.figure(id, ws_proxy,\n",
        "                           function() { },\n",
        "                           element.get(0));\n",
        "\n",
        "    // Call onopen now - mpl needs it, as it is assuming we've passed it a real\n",
        "    // web socket which is closed, not our websocket->open comm proxy.\n",
        "    ws_proxy.onopen();\n",
        "\n",
        "    fig.parent_element = element.get(0);\n",
        "    fig.cell_info = mpl.find_output_cell(\"<div id='\" + id + \"'></div>\");\n",
        "\n",
        "    var output_index = fig.cell_info[2]\n",
        "    var cell = fig.cell_info[0];\n",
        "\n",
        "    // Disable right mouse context menu.\n",
        "    $(fig.rubberband_canvas).bind(\"contextmenu\",function(e){\n",
        "        return false;\n",
        "    });\n",
        "\n",
        "};\n",
        "\n",
        "mpl.figure.prototype.handle_close = function(fig, msg) {\n",
        "    // Update the output cell to use the data from the current canvas.\n",
        "    fig.push_to_output();\n",
        "    var dataURL = fig.canvas.toDataURL();\n",
        "    // Re-enable the keyboard manager in IPython - without this line, in FF,\n",
        "    // the notebook keyboard shortcuts fail.\n",
        "    IPython.keyboard_manager.enable()\n",
        "    $(fig.parent_element).html('<img src=\"' + dataURL + '\">');\n",
        "    fig.send_message('closing', {});\n",
        "    fig.ws.close()\n",
        "}\n",
        "\n",
        "mpl.figure.prototype.push_to_output = function(remove_interactive) {\n",
        "    // Turn the data on the canvas into data in the output cell.\n",
        "    var dataURL = this.canvas.toDataURL();\n",
        "    this.cell_info[1]['text/html'] = '<img src=\"' + dataURL + '\">';\n",
        "}\n",
        "\n",
        "mpl.figure.prototype.updated_canvas_event = function() {\n",
        "    // Tell IPython that the notebook contents must change.\n",
        "    IPython.notebook.set_dirty(true);\n",
        "    this.send_message(\"ack\", {});\n",
        "    var fig = this;\n",
        "    // Wait a second, then push the new image to the DOM so\n",
        "    // that it is saved nicely (might be nice to debounce this).\n",
        "    setTimeout(function () { fig.push_to_output() }, 1000);\n",
        "}\n",
        "\n",
        "mpl.figure.prototype._init_toolbar = function() {\n",
        "    var fig = this;\n",
        "\n",
        "    var nav_element = $('<div/>')\n",
        "    nav_element.attr('style', 'width: 100%');\n",
        "    this.root.append(nav_element);\n",
        "\n",
        "    // Define a callback function for later on.\n",
        "    function toolbar_event(event) {\n",
        "        return fig.toolbar_button_onclick(event['data']);\n",
        "    }\n",
        "    function toolbar_mouse_event(event) {\n",
        "        return fig.toolbar_button_onmouseover(event['data']);\n",
        "    }\n",
        "\n",
        "    for(var toolbar_ind in mpl.toolbar_items){\n",
        "        var name = mpl.toolbar_items[toolbar_ind][0];\n",
        "        var tooltip = mpl.toolbar_items[toolbar_ind][1];\n",
        "        var image = mpl.toolbar_items[toolbar_ind][2];\n",
        "        var method_name = mpl.toolbar_items[toolbar_ind][3];\n",
        "\n",
        "        if (!name) { continue; };\n",
        "\n",
        "        var button = $('<button class=\"btn btn-default\" href=\"#\" title=\"' + name + '\"><i class=\"fa ' + image + ' fa-lg\"></i></button>');\n",
        "        button.click(method_name, toolbar_event);\n",
        "        button.mouseover(tooltip, toolbar_mouse_event);\n",
        "        nav_element.append(button);\n",
        "    }\n",
        "\n",
        "    // Add the status bar.\n",
        "    var status_bar = $('<span class=\"mpl-message\" style=\"text-align:right; float: right;\"/>');\n",
        "    nav_element.append(status_bar);\n",
        "    this.message = status_bar[0];\n",
        "\n",
        "    // Add the close button to the window.\n",
        "    var buttongrp = $('<div class=\"btn-group inline pull-right\"></div>');\n",
        "    var button = $('<button class=\"btn btn-mini btn-danger\" href=\"#\" title=\"Close figure\"><i class=\"fa fa-times icon-remove icon-large\"></i></button>');\n",
        "    button.click(function (evt) { fig.handle_close(fig, {}); } );\n",
        "    button.mouseover('Close figure', toolbar_mouse_event);\n",
        "    buttongrp.append(button);\n",
        "    var titlebar = this.root.find($('.ui-dialog-titlebar'));\n",
        "    titlebar.prepend(buttongrp);\n",
        "}\n",
        "\n",
        "mpl.find_output_cell = function(html_output) {\n",
        "    // Return the cell and output element which can be found *uniquely* in the notebook.\n",
        "    // Note - this is a bit hacky, but it is done because the \"notebook_saving.Notebook\"\n",
        "    // IPython event is triggered only after the cells have been serialised, which for\n",
        "    // our purposes (turning an active figure into a static one), is too late.\n",
        "    var cells = IPython.notebook.get_cells();\n",
        "    var ncells = cells.length;\n",
        "    for (var i=0; i<ncells; i++) {\n",
        "        var cell = cells[i];\n",
        "        if (cell.cell_type == 'code'){\n",
        "            for (var j=0; j<cell.output_area.outputs.length; j++) {\n",
        "                var data = cell.output_area.outputs[j];\n",
        "                if (cell.output_area.outputs[j]['text/html'] == html_output) {\n",
        "                    var output = cell.output_area.outputs[j];\n",
        "                    return [cell, output, j];\n",
        "                }\n",
        "            }\n",
        "        }\n",
        "    }\n",
        "}\n",
        "\n",
        "// Register the function which deals with the matplotlib target/channel.\n",
        "// The kernel may be null if the page has been refreshed.\n",
        "if (IPython.notebook.kernel != null) {\n",
        "    IPython.notebook.kernel.comm_manager.register_target('matplotlib', mpl.mpl_figure_comm);\n",
        "}\n"
       ],
       "metadata": {},
       "output_type": "display_data",
       "text": [
        "<IPython.core.display.Javascript at 0x7f3f9f912c50>"
       ]
      },
      {
       "html": [
        "<img src=\"data:image/png;base64,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\">"
       ],
       "metadata": {},
       "output_type": "display_data",
       "text": [
        "<IPython.core.display.HTML at 0x7f3f9f9e3810>"
       ]
      },
      {
       "metadata": {},
       "output_type": "pyout",
       "prompt_number": 114,
       "text": [
        "[<matplotlib.lines.Line2D at 0x7f3f9e078f90>]"
       ]
      }
     ],
     "prompt_number": 114
    },
    {
     "cell_type": "code",
     "collapsed": false,
     "input": [
      "with plt.xkcd():\n",
      "    plt.figure()\n",
      "    x = np.linspace(0, 20, 401)\n",
      "    sub1 = plt.subplot(2, 1, 1)\n",
      "    plt.title(\"It's XKCD-style!\")\n",
      "    plt.plot(x, np.sin(x))\n",
      "    plt.subplot(2, 1, 2)\n",
      "    plt.plot(x, np.sinc(x))"
     ],
     "language": "python",
     "metadata": {
      "slideshow": {
       "slide_type": "subslide"
      }
     },
     "outputs": [
      {
       "javascript": [
        "/* Put everything inside the global mpl namespace */\n",
        "window.mpl = {};\n",
        "\n",
        "mpl.get_websocket_type = function() {\n",
        "    if (typeof(WebSocket) !== 'undefined') {\n",
        "        return WebSocket;\n",
        "    } else if (typeof(MozWebSocket) !== 'undefined') {\n",
        "        return MozWebSocket;\n",
        "    } else {\n",
        "        alert('Your browser does not have WebSocket support.' +\n",
        "              'Please try Chrome, Safari or Firefox \u2265 6. ' +\n",
        "              'Firefox 4 and 5 are also supported but you ' +\n",
        "              'have to enable WebSockets in about:config.');\n",
        "    };\n",
        "}\n",
        "\n",
        "mpl.figure = function(figure_id, websocket, ondownload, parent_element) {\n",
        "    this.id = figure_id;\n",
        "\n",
        "    this.ws = websocket;\n",
        "\n",
        "    this.supports_binary = (this.ws.binaryType != undefined);\n",
        "\n",
        "    if (!this.supports_binary) {\n",
        "        var warnings = document.getElementById(\"mpl-warnings\");\n",
        "        if (warnings) {\n",
        "            warnings.style.display = 'block';\n",
        "            warnings.textContent = (\n",
        "                \"This browser does not support binary websocket messages. \" +\n",
        "                    \"Performance may be slow.\");\n",
        "        }\n",
        "    }\n",
        "\n",
        "    this.imageObj = new Image();\n",
        "\n",
        "    this.context = undefined;\n",
        "    this.message = undefined;\n",
        "    this.canvas = undefined;\n",
        "    this.rubberband_canvas = undefined;\n",
        "    this.rubberband_context = undefined;\n",
        "    this.format_dropdown = undefined;\n",
        "\n",
        "    this.focus_on_mousover = false;\n",
        "    this.image_mode = 'full';\n",
        "\n",
        "    this.root = $('<div/>');\n",
        "    this.root.attr('style', 'display: inline-block');\n",
        "    $(parent_element).append(this.root);\n",
        "\n",
        "    this._init_header(this);\n",
        "    this._init_canvas(this);\n",
        "    this._init_toolbar(this);\n",
        "\n",
        "    var fig = this;\n",
        "\n",
        "    this.waiting = false;\n",
        "\n",
        "    this.ws.onopen =  function () {\n",
        "            fig.send_message(\"supports_binary\", {value: fig.supports_binary});\n",
        "            fig.send_message(\"send_image_mode\", {});\n",
        "            fig.send_message(\"refresh\", {});\n",
        "        }\n",
        "\n",
        "    this.imageObj.onload = function() {\n",
        "            if (fig.image_mode == 'full') {\n",
        "                // Full images could contain transparency (where diff images\n",
        "                // almost always do), so we need to clear the canvas so that\n",
        "                // there is no ghosting.\n",
        "                fig.context.clearRect(0, 0, fig.canvas.width, fig.canvas.height);\n",
        "            }\n",
        "            fig.context.drawImage(fig.imageObj, 0, 0);\n",
        "            fig.waiting = false;\n",
        "        };\n",
        "\n",
        "    this.imageObj.onunload = function() {\n",
        "        this.ws.close();\n",
        "    }\n",
        "\n",
        "    this.ws.onmessage = this._make_on_message_function(this);\n",
        "\n",
        "    this.ondownload = ondownload;\n",
        "}\n",
        "\n",
        "mpl.figure.prototype._init_header = function() {\n",
        "    var titlebar = $(\n",
        "        '<div class=\"ui-dialog-titlebar ui-widget-header ui-corner-all ' +\n",
        "        'ui-helper-clearfix\"/>');\n",
        "    var titletext = $(\n",
        "        '<div class=\"ui-dialog-title\" style=\"width: 100%; ' +\n",
        "        'text-align: center; padding: 3px;\"/>');\n",
        "    titlebar.append(titletext)\n",
        "    this.root.append(titlebar);\n",
        "    this.header = titletext[0];\n",
        "}\n",
        "\n",
        "mpl.figure.prototype._init_canvas = function() {\n",
        "    var fig = this;\n",
        "\n",
        "    var canvas_div = $('<div/>');\n",
        "    canvas_div.resizable({ resize: mpl.debounce_resize(\n",
        "        function(event, ui) { fig.request_resize(ui.size.width, ui.size.height); }\n",
        "        , 50)});\n",
        "\n",
        "    canvas_div.attr('style', 'position: relative; clear: both;');\n",
        "    this.root.append(canvas_div);\n",
        "\n",
        "    var canvas = $('<canvas/>');\n",
        "    canvas.addClass('mpl-canvas');\n",
        "    canvas.attr('style', \"left: 0; top: 0; z-index: 0;\")\n",
        "\n",
        "    function canvas_keyboard_event(event) {\n",
        "        return fig.key_event(event, event['data']);\n",
        "    }\n",
        "\n",
        "    this.canvas = canvas[0];\n",
        "    this.context = canvas[0].getContext(\"2d\");\n",
        "\n",
        "    var rubberband = $('<canvas/>');\n",
        "    rubberband.attr('style', \"position: absolute; left: 0; top: 0; z-index: 1;\")\n",
        "    function mouse_event_fn(event) {\n",
        "        return fig.mouse_event(event, event['data']);\n",
        "    }\n",
        "    rubberband.mousedown('button_press', mouse_event_fn);\n",
        "    rubberband.mouseup('button_release', mouse_event_fn);\n",
        "    // Throttle sequential mouse events to 1 every 20ms.\n",
        "    rubberband.mousemove('motion_notify', mouse_event_fn);\n",
        "\n",
        "    canvas_div.append(canvas);\n",
        "    canvas_div.append(rubberband);\n",
        "\n",
        "    canvas_div.keydown('key_press', canvas_keyboard_event);\n",
        "    canvas_div.keydown('key_release', canvas_keyboard_event);\n",
        "\n",
        "    this.rubberband = rubberband;\n",
        "    this.rubberband_canvas = rubberband[0];\n",
        "    this.rubberband_context = rubberband[0].getContext(\"2d\");\n",
        "    this.rubberband_context.strokeStyle = \"#000000\";\n",
        "\n",
        "    this._resize_canvas = function(width, height) {\n",
        "        // Keep the size of the canvas, canvas container, and rubber band\n",
        "        // canvas in synch.\n",
        "        canvas_div.css('width', width)\n",
        "        canvas_div.css('height', height)\n",
        "\n",
        "        canvas.attr('width', width);\n",
        "        canvas.attr('height', height);\n",
        "\n",
        "        rubberband.attr('width', width);\n",
        "        rubberband.attr('height', height);\n",
        "    }\n",
        "\n",
        "    // Set the figure to an initial 600x600px, this will subsequently be updated\n",
        "    // upon first draw.\n",
        "    this._resize_canvas(600, 600);\n",
        "}\n",
        "\n",
        "mpl.figure.prototype._init_toolbar = function() {\n",
        "    var fig = this;\n",
        "\n",
        "    var nav_element = $('<div/>')\n",
        "    nav_element.attr('style', 'width: 100%');\n",
        "    this.root.append(nav_element);\n",
        "\n",
        "    // Define a callback function for later on.\n",
        "    function toolbar_event(event) {\n",
        "        return fig.toolbar_button_onclick(event['data']);\n",
        "    }\n",
        "    function toolbar_mouse_event(event) {\n",
        "        return fig.toolbar_button_onmouseover(event['data']);\n",
        "    }\n",
        "\n",
        "    for(var toolbar_ind in mpl.toolbar_items){\n",
        "        var name = mpl.toolbar_items[toolbar_ind][0];\n",
        "        var tooltip = mpl.toolbar_items[toolbar_ind][1];\n",
        "        var image = mpl.toolbar_items[toolbar_ind][2];\n",
        "        var method_name = mpl.toolbar_items[toolbar_ind][3];\n",
        "\n",
        "        if (!name) {\n",
        "            // put a spacer in here.\n",
        "            continue;\n",
        "        }\n",
        "        var button = $('<button/>');\n",
        "        button.addClass('ui-button ui-widget ui-state-default ui-corner-all ' +\n",
        "                        'ui-button-icon-only');\n",
        "        button.attr('role', 'button');\n",
        "        button.attr('aria-disabled', 'false');\n",
        "        button.click(method_name, toolbar_event);\n",
        "        button.mouseover(tooltip, toolbar_mouse_event);\n",
        "\n",
        "        var icon_img = $('<span/>');\n",
        "        icon_img.addClass('ui-button-icon-primary ui-icon');\n",
        "        icon_img.addClass(image);\n",
        "        icon_img.addClass('ui-corner-all');\n",
        "\n",
        "        var tooltip_span = $('<span/>');\n",
        "        tooltip_span.addClass('ui-button-text');\n",
        "        tooltip_span.html(tooltip);\n",
        "\n",
        "        button.append(icon_img);\n",
        "        button.append(tooltip_span);\n",
        "\n",
        "        nav_element.append(button);\n",
        "    }\n",
        "\n",
        "    var fmt_picker_span = $('<span/>');\n",
        "\n",
        "    var fmt_picker = $('<select/>');\n",
        "    fmt_picker.addClass('mpl-toolbar-option ui-widget ui-widget-content');\n",
        "    fmt_picker_span.append(fmt_picker);\n",
        "    nav_element.append(fmt_picker_span);\n",
        "    this.format_dropdown = fmt_picker[0];\n",
        "\n",
        "    for (var ind in mpl.extensions) {\n",
        "        var fmt = mpl.extensions[ind];\n",
        "        var option = $(\n",
        "            '<option/>', {selected: fmt === mpl.default_extension}).html(fmt);\n",
        "        fmt_picker.append(option)\n",
        "    }\n",
        "\n",
        "    // Add hover states to the ui-buttons\n",
        "    $( \".ui-button\" ).hover(\n",
        "        function() { $(this).addClass(\"ui-state-hover\");},\n",
        "        function() { $(this).removeClass(\"ui-state-hover\");}\n",
        "    );\n",
        "\n",
        "    var status_bar = $('<span class=\"mpl-message\"/>');\n",
        "    nav_element.append(status_bar);\n",
        "    this.message = status_bar[0];\n",
        "}\n",
        "\n",
        "mpl.figure.prototype.request_resize = function(x_pixels, y_pixels) {\n",
        "    // Request matplotlib to resize the figure. Matplotlib will then trigger a resize in the client,\n",
        "    // which will in turn request a refresh of the image.\n",
        "    this.send_message('resize', {'width': x_pixels, 'height': y_pixels});\n",
        "}\n",
        "\n",
        "mpl.figure.prototype.send_message = function(type, properties) {\n",
        "    properties['type'] = type;\n",
        "    properties['figure_id'] = this.id;\n",
        "    this.ws.send(JSON.stringify(properties));\n",
        "}\n",
        "\n",
        "mpl.figure.prototype.send_draw_message = function() {\n",
        "    if (!this.waiting) {\n",
        "        this.waiting = true;\n",
        "        this.ws.send(JSON.stringify({type: \"draw\", figure_id: this.id}));\n",
        "    }\n",
        "}\n",
        "\n",
        "mpl.figure.prototype.handle_resize = function(fig, msg) {\n",
        "    var size = msg['size'];\n",
        "    if (size[0] != fig.canvas.width || size[1] != fig.canvas.height) {\n",
        "        fig._resize_canvas(size[0], size[1]);\n",
        "        fig.send_message(\"refresh\", {});\n",
        "    };\n",
        "}\n",
        "\n",
        "mpl.figure.prototype.handle_rubberband = function(fig, msg) {\n",
        "    var x0 = msg['x0'];\n",
        "    var y0 = fig.canvas.height - msg['y0'];\n",
        "    var x1 = msg['x1'];\n",
        "    var y1 = fig.canvas.height - msg['y1'];\n",
        "    x0 = Math.floor(x0) + 0.5;\n",
        "    y0 = Math.floor(y0) + 0.5;\n",
        "    x1 = Math.floor(x1) + 0.5;\n",
        "    y1 = Math.floor(y1) + 0.5;\n",
        "    var min_x = Math.min(x0, x1);\n",
        "    var min_y = Math.min(y0, y1);\n",
        "    var width = Math.abs(x1 - x0);\n",
        "    var height = Math.abs(y1 - y0);\n",
        "\n",
        "    fig.rubberband_context.clearRect(\n",
        "        0, 0, fig.canvas.width, fig.canvas.height);\n",
        "\n",
        "    fig.rubberband_context.strokeRect(min_x, min_y, width, height);\n",
        "}\n",
        "\n",
        "mpl.figure.prototype.handle_figure_label = function(fig, msg) {\n",
        "    // Updates the figure title.\n",
        "    fig.header.textContent = msg['label'];\n",
        "}\n",
        "\n",
        "mpl.figure.prototype.handle_cursor = function(fig, msg) {\n",
        "    var cursor = msg['cursor'];\n",
        "    switch(cursor)\n",
        "    {\n",
        "    case 0:\n",
        "        cursor = 'pointer';\n",
        "        break;\n",
        "    case 1:\n",
        "        cursor = 'default';\n",
        "        break;\n",
        "    case 2:\n",
        "        cursor = 'crosshair';\n",
        "        break;\n",
        "    case 3:\n",
        "        cursor = 'move';\n",
        "        break;\n",
        "    }\n",
        "    fig.rubberband_canvas.style.cursor = cursor;\n",
        "}\n",
        "\n",
        "mpl.figure.prototype.handle_message = function(fig, msg) {\n",
        "    fig.message.textContent = msg['message'];\n",
        "}\n",
        "\n",
        "mpl.figure.prototype.handle_draw = function(fig, msg) {\n",
        "    // Request the server to send over a new figure.\n",
        "    fig.send_draw_message();\n",
        "}\n",
        "\n",
        "mpl.figure.prototype.handle_image_mode = function(fig, msg) {\n",
        "    fig.image_mode = msg['mode'];\n",
        "}\n",
        "\n",
        "mpl.figure.prototype.updated_canvas_event = function() {\n",
        "    // Called whenever the canvas gets updated.\n",
        "    this.send_message(\"ack\", {});\n",
        "}\n",
        "\n",
        "// A function to construct a web socket function for onmessage handling.\n",
        "// Called in the figure constructor.\n",
        "mpl.figure.prototype._make_on_message_function = function(fig) {\n",
        "    return function socket_on_message(evt) {\n",
        "        if (evt.data instanceof Blob) {\n",
        "            /* FIXME: We get \"Resource interpreted as Image but\n",
        "             * transferred with MIME type text/plain:\" errors on\n",
        "             * Chrome.  But how to set the MIME type?  It doesn't seem\n",
        "             * to be part of the websocket stream */\n",
        "            evt.data.type = \"image/png\";\n",
        "\n",
        "            /* Free the memory for the previous frames */\n",
        "            if (fig.imageObj.src) {\n",
        "                (window.URL || window.webkitURL).revokeObjectURL(\n",
        "                    fig.imageObj.src);\n",
        "            }\n",
        "\n",
        "            fig.imageObj.src = (window.URL || window.webkitURL).createObjectURL(\n",
        "                evt.data);\n",
        "            fig.updated_canvas_event();\n",
        "            return;\n",
        "        }\n",
        "        else if (typeof evt.data === 'string' && evt.data.slice(0, 21) == \"data:image/png;base64\") {\n",
        "            fig.imageObj.src = evt.data;\n",
        "            fig.updated_canvas_event();\n",
        "            return;\n",
        "        }\n",
        "\n",
        "        var msg = JSON.parse(evt.data);\n",
        "        var msg_type = msg['type'];\n",
        "\n",
        "        // Call the  \"handle_{type}\" callback, which takes\n",
        "        // the figure and JSON message as its only arguments.\n",
        "        try {\n",
        "            var callback = fig[\"handle_\" + msg_type];\n",
        "        } catch (e) {\n",
        "            console.log(\"No handler for the '\" + msg_type + \"' message type: \", msg);\n",
        "            return;\n",
        "        }\n",
        "\n",
        "        if (callback) {\n",
        "            try {\n",
        "                // console.log(\"Handling '\" + msg_type + \"' message: \", msg);\n",
        "                callback(fig, msg);\n",
        "            } catch (e) {\n",
        "                console.log(\"Exception inside the 'handler_\" + msg_type + \"' callback:\", e, e.stack, msg);\n",
        "            }\n",
        "        }\n",
        "    };\n",
        "}\n",
        "\n",
        "// from http://stackoverflow.com/questions/1114465/getting-mouse-location-in-canvas\n",
        "mpl.findpos = function(e) {\n",
        "    //this section is from http://www.quirksmode.org/js/events_properties.html\n",
        "    var targ;\n",
        "    if (!e)\n",
        "        e = window.event;\n",
        "    if (e.target)\n",
        "        targ = e.target;\n",
        "    else if (e.srcElement)\n",
        "        targ = e.srcElement;\n",
        "    if (targ.nodeType == 3) // defeat Safari bug\n",
        "        targ = targ.parentNode;\n",
        "\n",
        "    // jQuery normalizes the pageX and pageY\n",
        "    // pageX,Y are the mouse positions relative to the document\n",
        "    // offset() returns the position of the element relative to the document\n",
        "    var x = e.pageX - $(targ).offset().left;\n",
        "    var y = e.pageY - $(targ).offset().top;\n",
        "\n",
        "    return {\"x\": x, \"y\": y};\n",
        "};\n",
        "\n",
        "mpl.figure.prototype.mouse_event = function(event, name) {\n",
        "    var canvas_pos = mpl.findpos(event)\n",
        "\n",
        "    if (this.focus_on_mouseover && name === 'motion_notify')\n",
        "    {\n",
        "        this.canvas.focus();\n",
        "    }\n",
        "\n",
        "    var x = canvas_pos.x;\n",
        "    var y = canvas_pos.y;\n",
        "\n",
        "    this.send_message(name, {x: x, y: y, button: event.button});\n",
        "\n",
        "    /* This prevents the web browser from automatically changing to\n",
        "     * the text insertion cursor when the button is pressed.  We want\n",
        "     * to control all of the cursor setting manually through the\n",
        "     * 'cursor' event from matplotlib */\n",
        "    event.preventDefault();\n",
        "    return false;\n",
        "}\n",
        "\n",
        "mpl.figure.prototype.key_event = function(event, name) {\n",
        "    /* Don't fire events just when a modifier is changed.  Modifiers are\n",
        "       sent along with other keys. */\n",
        "    if (event.keyCode >= 16 && event.keyCode <= 20) {\n",
        "        return;\n",
        "    }\n",
        "\n",
        "    value = '';\n",
        "    if (event.ctrlKey) {\n",
        "        value += \"ctrl+\";\n",
        "    }\n",
        "    if (event.altKey) {\n",
        "        value += \"alt+\";\n",
        "    }\n",
        "    value += String.fromCharCode(event.keyCode).toLowerCase();\n",
        "\n",
        "    this.send_message(name, {key: value});\n",
        "}\n",
        "\n",
        "mpl.figure.prototype.toolbar_button_onclick = function(name) {\n",
        "    if (name == 'download') {\n",
        "        var format_dropdown = this.format_dropdown;\n",
        "        var format = format_dropdown.options[format_dropdown.selectedIndex].value;\n",
        "        this.ondownload(this, format);\n",
        "    } else {\n",
        "        this.send_message(\"toolbar_button\", {name: name});\n",
        "    }\n",
        "};\n",
        "\n",
        "mpl.figure.prototype.toolbar_button_onmouseover = function(tooltip) {\n",
        "    this.message.textContent = tooltip;\n",
        "};\n",
        "\n",
        "mpl.debounce_event = function(func, time){\n",
        "    var timer;\n",
        "    return function(event){\n",
        "        clearTimeout(timer);\n",
        "        timer = setTimeout(function(){ func(event); }, time);\n",
        "    };\n",
        "}\n",
        "\n",
        "mpl.debounce_resize = function(func, time){\n",
        "    var timer;\n",
        "    return function(event, ui){\n",
        "        clearTimeout(timer);\n",
        "        timer = setTimeout(function(){ func(event, ui); }, time);\n",
        "    };\n",
        "}\n",
        "mpl.toolbar_items = [[\"Home\", \"Reset original view\", \"fa fa-home icon-home\", \"home\"], [\"Back\", \"Back to  previous view\", \"fa fa-arrow-left icon-arrow-left\", \"back\"], [\"Forward\", \"Forward to next view\", \"fa fa-arrow-right icon-arrow-right\", \"forward\"], [\"\", \"\", \"\", \"\"], [\"Pan\", \"Pan axes with left mouse, zoom with right\", \"fa fa-arrows icon-move\", \"pan\"], [\"Zoom\", \"Zoom to rectangle\", \"fa fa-square-o icon-check-empty\", \"zoom\"], [\"\", \"\", \"\", \"\"]];\n",
        "\n",
        "mpl.extensions = [\"eps\", \"jpeg\", \"pgf\", \"pdf\", \"png\", \"ps\", \"raw\", \"svg\", \"tif\"];\n",
        "\n",
        "mpl.default_extension = \"png\";var comm_websocket_adapter = function(comm) {\n",
        "    // Create a \"websocket\"-like object which calls the given IPython comm\n",
        "    // object with the appropriate methods. Currently this is a non binary\n",
        "    // socket, so there is still some room for performance tuning.\n",
        "    var ws = {};\n",
        "\n",
        "    ws.close = function() {\n",
        "        comm.close()\n",
        "    };\n",
        "    ws.send = function(m) {\n",
        "        //console.log('sending', m);\n",
        "        comm.send(m);\n",
        "    };\n",
        "    // Register the callback with on_msg.\n",
        "    comm.on_msg(function(msg) {\n",
        "        //console.log('receiving', msg['content']['data'], msg);\n",
        "        // Pass the mpl event to the overriden (by mpl) onmessage function.\n",
        "        ws.onmessage(msg['content']['data'])\n",
        "    });\n",
        "    return ws;\n",
        "}\n",
        "\n",
        "mpl.mpl_figure_comm = function(comm, msg) {\n",
        "    // This is the function which gets called when the mpl process\n",
        "    // starts-up an IPython Comm through the \"matplotlib\" channel.\n",
        "\n",
        "    var id = msg.content.data.id;\n",
        "    // Get hold of the div created by the display call when the Comm\n",
        "    // socket was opened in Python.\n",
        "    var element = $(\"#\" + id);\n",
        "    var ws_proxy = comm_websocket_adapter(comm)\n",
        "\n",
        "    var fig = new mpl.figure(id, ws_proxy,\n",
        "                           function() { },\n",
        "                           element.get(0));\n",
        "\n",
        "    // Call onopen now - mpl needs it, as it is assuming we've passed it a real\n",
        "    // web socket which is closed, not our websocket->open comm proxy.\n",
        "    ws_proxy.onopen();\n",
        "\n",
        "    fig.parent_element = element.get(0);\n",
        "    fig.cell_info = mpl.find_output_cell(\"<div id='\" + id + \"'></div>\");\n",
        "\n",
        "    var output_index = fig.cell_info[2]\n",
        "    var cell = fig.cell_info[0];\n",
        "\n",
        "    // Disable right mouse context menu.\n",
        "    $(fig.rubberband_canvas).bind(\"contextmenu\",function(e){\n",
        "        return false;\n",
        "    });\n",
        "\n",
        "};\n",
        "\n",
        "mpl.figure.prototype.handle_close = function(fig, msg) {\n",
        "    // Update the output cell to use the data from the current canvas.\n",
        "    fig.push_to_output();\n",
        "    var dataURL = fig.canvas.toDataURL();\n",
        "    // Re-enable the keyboard manager in IPython - without this line, in FF,\n",
        "    // the notebook keyboard shortcuts fail.\n",
        "    IPython.keyboard_manager.enable()\n",
        "    $(fig.parent_element).html('<img src=\"' + dataURL + '\">');\n",
        "    fig.send_message('closing', {});\n",
        "    fig.ws.close()\n",
        "}\n",
        "\n",
        "mpl.figure.prototype.push_to_output = function(remove_interactive) {\n",
        "    // Turn the data on the canvas into data in the output cell.\n",
        "    var dataURL = this.canvas.toDataURL();\n",
        "    this.cell_info[1]['text/html'] = '<img src=\"' + dataURL + '\">';\n",
        "}\n",
        "\n",
        "mpl.figure.prototype.updated_canvas_event = function() {\n",
        "    // Tell IPython that the notebook contents must change.\n",
        "    IPython.notebook.set_dirty(true);\n",
        "    this.send_message(\"ack\", {});\n",
        "    var fig = this;\n",
        "    // Wait a second, then push the new image to the DOM so\n",
        "    // that it is saved nicely (might be nice to debounce this).\n",
        "    setTimeout(function () { fig.push_to_output() }, 1000);\n",
        "}\n",
        "\n",
        "mpl.figure.prototype._init_toolbar = function() {\n",
        "    var fig = this;\n",
        "\n",
        "    var nav_element = $('<div/>')\n",
        "    nav_element.attr('style', 'width: 100%');\n",
        "    this.root.append(nav_element);\n",
        "\n",
        "    // Define a callback function for later on.\n",
        "    function toolbar_event(event) {\n",
        "        return fig.toolbar_button_onclick(event['data']);\n",
        "    }\n",
        "    function toolbar_mouse_event(event) {\n",
        "        return fig.toolbar_button_onmouseover(event['data']);\n",
        "    }\n",
        "\n",
        "    for(var toolbar_ind in mpl.toolbar_items){\n",
        "        var name = mpl.toolbar_items[toolbar_ind][0];\n",
        "        var tooltip = mpl.toolbar_items[toolbar_ind][1];\n",
        "        var image = mpl.toolbar_items[toolbar_ind][2];\n",
        "        var method_name = mpl.toolbar_items[toolbar_ind][3];\n",
        "\n",
        "        if (!name) { continue; };\n",
        "\n",
        "        var button = $('<button class=\"btn btn-default\" href=\"#\" title=\"' + name + '\"><i class=\"fa ' + image + ' fa-lg\"></i></button>');\n",
        "        button.click(method_name, toolbar_event);\n",
        "        button.mouseover(tooltip, toolbar_mouse_event);\n",
        "        nav_element.append(button);\n",
        "    }\n",
        "\n",
        "    // Add the status bar.\n",
        "    var status_bar = $('<span class=\"mpl-message\" style=\"text-align:right; float: right;\"/>');\n",
        "    nav_element.append(status_bar);\n",
        "    this.message = status_bar[0];\n",
        "\n",
        "    // Add the close button to the window.\n",
        "    var buttongrp = $('<div class=\"btn-group inline pull-right\"></div>');\n",
        "    var button = $('<button class=\"btn btn-mini btn-danger\" href=\"#\" title=\"Close figure\"><i class=\"fa fa-times icon-remove icon-large\"></i></button>');\n",
        "    button.click(function (evt) { fig.handle_close(fig, {}); } );\n",
        "    button.mouseover('Close figure', toolbar_mouse_event);\n",
        "    buttongrp.append(button);\n",
        "    var titlebar = this.root.find($('.ui-dialog-titlebar'));\n",
        "    titlebar.prepend(buttongrp);\n",
        "}\n",
        "\n",
        "mpl.find_output_cell = function(html_output) {\n",
        "    // Return the cell and output element which can be found *uniquely* in the notebook.\n",
        "    // Note - this is a bit hacky, but it is done because the \"notebook_saving.Notebook\"\n",
        "    // IPython event is triggered only after the cells have been serialised, which for\n",
        "    // our purposes (turning an active figure into a static one), is too late.\n",
        "    var cells = IPython.notebook.get_cells();\n",
        "    var ncells = cells.length;\n",
        "    for (var i=0; i<ncells; i++) {\n",
        "        var cell = cells[i];\n",
        "        if (cell.cell_type == 'code'){\n",
        "            for (var j=0; j<cell.output_area.outputs.length; j++) {\n",
        "                var data = cell.output_area.outputs[j];\n",
        "                if (cell.output_area.outputs[j]['text/html'] == html_output) {\n",
        "                    var output = cell.output_area.outputs[j];\n",
        "                    return [cell, output, j];\n",
        "                }\n",
        "            }\n",
        "        }\n",
        "    }\n",
        "}\n",
        "\n",
        "// Register the function which deals with the matplotlib target/channel.\n",
        "// The kernel may be null if the page has been refreshed.\n",
        "if (IPython.notebook.kernel != null) {\n",
        "    IPython.notebook.kernel.comm_manager.register_target('matplotlib', mpl.mpl_figure_comm);\n",
        "}\n"
       ],
       "metadata": {},
       "output_type": "display_data",
       "text": [
        "<IPython.core.display.Javascript at 0x7f3f9fa3d1d0>"
       ]
      },
      {
       "html": [
        "<img src=\"data:image/png;base64,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\">"
       ],
       "metadata": {},
       "output_type": "display_data",
       "text": [
        "<IPython.core.display.HTML at 0x7f3f9fa3d610>"
       ]
      }
     ],
     "prompt_number": 113
    },
    {
     "cell_type": "heading",
     "level": 2,
     "metadata": {
      "slideshow": {
       "slide_type": "subslide"
      }
     },
     "source": [
      "More Examples"
     ]
    },
    {
     "cell_type": "markdown",
     "metadata": {},
     "source": [
      "* Many, many very good examples at the **Gallery**:\n",
      "\n",
      "    http://matplotlib.org/gallery\n",
      "\n",
      "\n",
      "* Examples for animations, Graphical User Interface:\n",
      "    \n",
      "    http://matplotlib.org/examples/index.html\n"
     ]
    },
    {
     "cell_type": "heading",
     "level": 2,
     "metadata": {
      "slideshow": {
       "slide_type": "slide"
      }
     },
     "source": [
      "Conclusions"
     ]
    },
    {
     "cell_type": "markdown",
     "metadata": {},
     "source": [
      "We have seen:\n",
      "  1. How to do convenient, fast math in **NumPy**\n",
      "  2. Where to find many useful tools with **SciPy and friends**\n",
      "  3. How to make beautiful graphics with **matplotlib**\n",
      " \n",
      "Last point:\n",
      "   1. Do *not* reinvent the wheel\n",
      "   2. Algorithms matter\n",
      "   3. \"Premature optimization is the root of all evil\" \u2013 Donald Knuth"
     ]
    }
   ],
   "metadata": {}
  }
 ]
}