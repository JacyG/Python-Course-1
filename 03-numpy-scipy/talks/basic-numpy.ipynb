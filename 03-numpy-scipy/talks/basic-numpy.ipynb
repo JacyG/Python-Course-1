{
 "metadata": {
  "celltoolbar": "Slideshow",
  "name": "",
  "signature": "sha256:83c50767cf460917edcca787715385706002ca409774d01edff3baafe30b1b2f"
 },
 "nbformat": 3,
 "nbformat_minor": 0,
 "worksheets": [
  {
   "cells": [
    {
     "cell_type": "markdown",
     "metadata": {
      "slideshow": {
       "slide_type": "skip"
      }
     },
     "source": [
      "Run using ``ipython3 nbconvert --to slides --post serve basic-numpy.ipynb``"
     ]
    },
    {
     "cell_type": "code",
     "collapsed": false,
     "input": [
      "# For easier python 2 compatibility:\n",
      "from __future__ import division, print_function, absolute_import\n",
      "\n",
      "# Normal imports:\n",
      "import numpy as np"
     ],
     "language": "python",
     "metadata": {
      "slideshow": {
       "slide_type": "skip"
      }
     },
     "outputs": [],
     "prompt_number": 1
    },
    {
     "cell_type": "heading",
     "level": 1,
     "metadata": {
      "slideshow": {
       "slide_type": "slide"
      }
     },
     "source": [
      "Introduction to the scientific python stack"
     ]
    },
    {
     "cell_type": "markdown",
     "metadata": {
      "slideshow": {
       "slide_type": "slide"
      }
     },
     "source": [
      "Basic module NumPy\n",
      "==================\n",
      "  * Basis for scientific computing with Python\n",
      "  * A powerfull N-dimension array object\n",
      "  * Basic and not so basic math operations\n",
      "  * Linear algebra operations\n",
      "  * _Normally_ homogenous data (i.e. numbers)\n",
      "  * random numbers, FFT, sorting, \u2026\n",
      "\n",
      "Convention\n",
      "----------"
     ]
    },
    {
     "cell_type": "code",
     "collapsed": false,
     "input": [
      "import numpy as np"
     ],
     "language": "python",
     "metadata": {
      "slideshow": {
       "slide_type": "-"
      }
     },
     "outputs": [],
     "prompt_number": 2
    },
    {
     "cell_type": "heading",
     "level": 1,
     "metadata": {
      "slideshow": {
       "slide_type": "slide"
      }
     },
     "source": [
      "Numpy is useful"
     ]
    },
    {
     "cell_type": "markdown",
     "metadata": {
      "slideshow": {
       "slide_type": "-"
      }
     },
     "source": [
      "* Homogenous data:\n",
      "  - Experimental data sets\n",
      "  - Simulations\n",
      "  - \u2026\n",
      "\n",
      "   **For example**:"
     ]
    },
    {
     "cell_type": "code",
     "collapsed": false,
     "input": [
      "x = np.linspace(0, 9, 1001)\n",
      "print(x[::200])"
     ],
     "language": "python",
     "metadata": {},
     "outputs": [
      {
       "output_type": "stream",
       "stream": "stdout",
       "text": [
        "[ 0.   1.8  3.6  5.4  7.2  9. ]\n"
       ]
      }
     ],
     "prompt_number": 3
    },
    {
     "cell_type": "code",
     "collapsed": false,
     "input": [
      "print(np.sqrt(x)[::200])"
     ],
     "language": "python",
     "metadata": {},
     "outputs": [
      {
       "output_type": "stream",
       "stream": "stdout",
       "text": [
        "[ 0.          1.34164079  1.8973666   2.32379001  2.68328157  3.        ]\n"
       ]
      }
     ],
     "prompt_number": 4
    },
    {
     "cell_type": "markdown",
     "metadata": {
      "slideshow": {
       "slide_type": "subslide"
      }
     },
     "source": [
      "NumPy can be much faster (typically $\\approx 50\\times$):"
     ]
    },
    {
     "cell_type": "code",
     "collapsed": false,
     "input": [
      "%%timeit\n",
      "numpy_result = np.sqrt(x)"
     ],
     "language": "python",
     "metadata": {},
     "outputs": [
      {
       "output_type": "stream",
       "stream": "stdout",
       "text": [
        "100000 loops, best of 3: 4.28 \u00b5s per loop\n"
       ]
      }
     ],
     "prompt_number": 5
    },
    {
     "cell_type": "code",
     "collapsed": false,
     "input": [
      "from math import sqrt\n",
      "x = list(x)"
     ],
     "language": "python",
     "metadata": {},
     "outputs": [],
     "prompt_number": 6
    },
    {
     "cell_type": "code",
     "collapsed": false,
     "input": [
      "%%timeit\n",
      "python_result = [sqrt(value) for value in x]"
     ],
     "language": "python",
     "metadata": {},
     "outputs": [
      {
       "output_type": "stream",
       "stream": "stdout",
       "text": [
        "10000 loops, best of 3: 89.4 \u00b5s per loop\n"
       ]
      }
     ],
     "prompt_number": 7
    },
    {
     "cell_type": "markdown",
     "metadata": {},
     "source": [
      "(The actual speedup depends, but it can be much more for simple operations like $\\times, +$)"
     ]
    },
    {
     "cell_type": "heading",
     "level": 1,
     "metadata": {
      "slideshow": {
       "slide_type": "slide"
      }
     },
     "source": [
      "Arrays are N-Dimensional (``ndarray``)"
     ]
    },
    {
     "cell_type": "markdown",
     "metadata": {
      "slideshow": {
       "slide_type": "-"
      }
     },
     "source": [
      "A bit like nested lists:"
     ]
    },
    {
     "cell_type": "heading",
     "level": 2,
     "metadata": {},
     "source": [
      "0 Dimensional"
     ]
    },
    {
     "cell_type": "code",
     "collapsed": false,
     "input": [
      "arr = np.array(5)\n",
      "# although 0-d arrays are sometimes a bit special :(\n",
      "print(arr)\n",
      "print('The dimension is:', arr.ndim)\n",
      "print('The shape is:', arr.shape)"
     ],
     "language": "python",
     "metadata": {
      "slideshow": {
       "slide_type": "-"
      }
     },
     "outputs": [
      {
       "output_type": "stream",
       "stream": "stdout",
       "text": [
        "5\n",
        "The dimension is: 0\n",
        "The shape is: ()\n"
       ]
      }
     ],
     "prompt_number": 8
    },
    {
     "cell_type": "heading",
     "level": 2,
     "metadata": {
      "slideshow": {
       "slide_type": "subslide"
      }
     },
     "source": [
      "1 Dimensional"
     ]
    },
    {
     "cell_type": "code",
     "collapsed": false,
     "input": [
      "arr = np.array([4, 5, 6])\n",
      "print(arr)\n",
      "print('The dimension is:', arr.ndim)\n",
      "print('The shape is:', arr.shape)"
     ],
     "language": "python",
     "metadata": {
      "slideshow": {
       "slide_type": "-"
      }
     },
     "outputs": [
      {
       "output_type": "stream",
       "stream": "stdout",
       "text": [
        "[4 5 6]\n",
        "The dimension is: 1\n",
        "The shape is: (3,)\n"
       ]
      }
     ],
     "prompt_number": 9
    },
    {
     "cell_type": "heading",
     "level": 2,
     "metadata": {
      "slideshow": {
       "slide_type": "subslide"
      }
     },
     "source": [
      "2 Dimensional"
     ]
    },
    {
     "cell_type": "code",
     "collapsed": false,
     "input": [
      "arr = np.array([[1, 2],\n",
      "                [3, 4],\n",
      "                [5, 6]])\n",
      "print(arr)\n",
      "print('The dimension is:', arr.ndim)\n",
      "print('The shape is:', arr.shape)"
     ],
     "language": "python",
     "metadata": {
      "slideshow": {
       "slide_type": "-"
      }
     },
     "outputs": [
      {
       "output_type": "stream",
       "stream": "stdout",
       "text": [
        "[[1 2]\n",
        " [3 4]\n",
        " [5 6]]\n",
        "The dimension is: 2\n",
        "The shape is: (3, 2)\n"
       ]
      }
     ],
     "prompt_number": 10
    },
    {
     "cell_type": "heading",
     "level": 2,
     "metadata": {
      "slideshow": {
       "slide_type": "subslide"
      }
     },
     "source": [
      "3 Dimensional"
     ]
    },
    {
     "cell_type": "code",
     "collapsed": false,
     "input": [
      "arr = np.array([[[1, 2],\n",
      "                 [2, 3]],\n",
      "                [[4, 5],\n",
      "                 [8, 9]]])\n",
      "print('The dimension is:', arr.ndim)\n",
      "print('The shape is:', arr.shape)"
     ],
     "language": "python",
     "metadata": {
      "slideshow": {
       "slide_type": "-"
      }
     },
     "outputs": [
      {
       "output_type": "stream",
       "stream": "stdout",
       "text": [
        "The dimension is: 3\n",
        "The shape is: (2, 2, 2)\n"
       ]
      }
     ],
     "prompt_number": 11
    },
    {
     "cell_type": "heading",
     "level": 1,
     "metadata": {
      "slideshow": {
       "slide_type": "slide"
      }
     },
     "source": [
      "Array creation"
     ]
    },
    {
     "cell_type": "heading",
     "level": 2,
     "metadata": {},
     "source": [
      "Homogeneous arrays"
     ]
    },
    {
     "cell_type": "code",
     "collapsed": false,
     "input": [
      "arr = np.zeros((3, 4))\n",
      "print(repr(arr))\n",
      "print('Shape:', arr.shape)"
     ],
     "language": "python",
     "metadata": {},
     "outputs": [
      {
       "output_type": "stream",
       "stream": "stdout",
       "text": [
        "array([[ 0.,  0.,  0.,  0.],\n",
        "       [ 0.,  0.,  0.,  0.],\n",
        "       [ 0.,  0.,  0.,  0.]])\n",
        "Shape: (3, 4)\n"
       ]
      }
     ],
     "prompt_number": 12
    },
    {
     "cell_type": "code",
     "collapsed": false,
     "input": [
      "np.zeros(3, dtype=np.int64)"
     ],
     "language": "python",
     "metadata": {},
     "outputs": [
      {
       "metadata": {},
       "output_type": "pyout",
       "prompt_number": 13,
       "text": [
        "array([0, 0, 0])"
       ]
      }
     ],
     "prompt_number": 13
    },
    {
     "cell_type": "code",
     "collapsed": false,
     "input": [
      "np.full((1,3), 5)"
     ],
     "language": "python",
     "metadata": {},
     "outputs": [
      {
       "metadata": {},
       "output_type": "pyout",
       "prompt_number": 14,
       "text": [
        "array([[ 5.,  5.,  5.]])"
       ]
      }
     ],
     "prompt_number": 14
    },
    {
     "cell_type": "markdown",
     "metadata": {},
     "source": [
      "Check ``help(np.zeros)``, etc. for other handy variations."
     ]
    },
    {
     "cell_type": "heading",
     "level": 2,
     "metadata": {
      "slideshow": {
       "slide_type": "subslide"
      }
     },
     "source": [
      "Special one dimensional arrays"
     ]
    },
    {
     "cell_type": "markdown",
     "metadata": {},
     "source": [
      "Ranges for float and integer arrays"
     ]
    },
    {
     "cell_type": "code",
     "collapsed": false,
     "input": [
      "np.linspace(0, 3, 7)"
     ],
     "language": "python",
     "metadata": {},
     "outputs": [
      {
       "metadata": {},
       "output_type": "pyout",
       "prompt_number": 15,
       "text": [
        "array([ 0. ,  0.5,  1. ,  1.5,  2. ,  2.5,  3. ])"
       ]
      }
     ],
     "prompt_number": 15
    },
    {
     "cell_type": "code",
     "collapsed": false,
     "input": [
      "np.arange(10)  # much like pythons range"
     ],
     "language": "python",
     "metadata": {},
     "outputs": [
      {
       "metadata": {},
       "output_type": "pyout",
       "prompt_number": 16,
       "text": [
        "array([0, 1, 2, 3, 4, 5, 6, 7, 8, 9])"
       ]
      }
     ],
     "prompt_number": 16
    },
    {
     "cell_type": "markdown",
     "metadata": {},
     "source": [
      "<font color='red'>Note:</font> Please do not use ``arange`` for floats!"
     ]
    },
    {
     "cell_type": "heading",
     "level": 3,
     "metadata": {},
     "source": [
      "N-Dimensional versions:"
     ]
    },
    {
     "cell_type": "markdown",
     "metadata": {},
     "source": [
      "  * ```np.meshgrid; np.ogrid; np.mgrid```"
     ]
    },
    {
     "cell_type": "heading",
     "level": 2,
     "metadata": {
      "slideshow": {
       "slide_type": "subslide"
      }
     },
     "source": [
      "Random arrays"
     ]
    },
    {
     "cell_type": "markdown",
     "metadata": {
      "slideshow": {
       "slide_type": "-"
      }
     },
     "source": [
      "Draw from the interval $[0, 1[$:"
     ]
    },
    {
     "cell_type": "code",
     "collapsed": false,
     "input": [
      "np.random.random((1, 5))"
     ],
     "language": "python",
     "metadata": {},
     "outputs": [
      {
       "metadata": {},
       "output_type": "pyout",
       "prompt_number": 17,
       "text": [
        "array([[ 0.38231591,  0.2483479 ,  0.90224003,  0.21174116,  0.79446535]])"
       ]
      }
     ],
     "prompt_number": 17
    },
    {
     "cell_type": "markdown",
     "metadata": {},
     "source": [
      "Draw from a normal distribution with mean 2 and standard deviation 3:"
     ]
    },
    {
     "cell_type": "code",
     "collapsed": false,
     "input": [
      "np.random.normal(loc=2, scale=3, size=(1, 5)) "
     ],
     "language": "python",
     "metadata": {},
     "outputs": [
      {
       "metadata": {},
       "output_type": "pyout",
       "prompt_number": 18,
       "text": [
        "array([[ 2.63493608,  2.69413851,  2.63177543, -0.86759622,  4.87240526]])"
       ]
      }
     ],
     "prompt_number": 18
    },
    {
     "cell_type": "markdown",
     "metadata": {},
     "source": [
      "* And many more, check ``np.random.<tab>``!"
     ]
    },
    {
     "cell_type": "markdown",
     "metadata": {},
     "source": [
      "<font color='red'>Note:</font> ``np.random.seed()`` makes sure you get the same numbers. Using ``np.random.RandomState`` is often even better."
     ]
    },
    {
     "cell_type": "heading",
     "level": 2,
     "metadata": {
      "slideshow": {
       "slide_type": "subslide"
      }
     },
     "source": [
      "Special arrays"
     ]
    },
    {
     "cell_type": "code",
     "collapsed": false,
     "input": [
      "np.eye(3)"
     ],
     "language": "python",
     "metadata": {},
     "outputs": [
      {
       "metadata": {},
       "output_type": "pyout",
       "prompt_number": 19,
       "text": [
        "array([[ 1.,  0.,  0.],\n",
        "       [ 0.,  1.,  0.],\n",
        "       [ 0.,  0.,  1.]])"
       ]
      }
     ],
     "prompt_number": 19
    },
    {
     "cell_type": "code",
     "collapsed": false,
     "input": [
      "np.diag([1, 5, 2], k=1)"
     ],
     "language": "python",
     "metadata": {},
     "outputs": [
      {
       "metadata": {},
       "output_type": "pyout",
       "prompt_number": 20,
       "text": [
        "array([[0, 1, 0, 0],\n",
        "       [0, 0, 5, 0],\n",
        "       [0, 0, 0, 2],\n",
        "       [0, 0, 0, 0]])"
       ]
      }
     ],
     "prompt_number": 20
    },
    {
     "cell_type": "markdown",
     "metadata": {},
     "source": [
      "And many many more\u2026"
     ]
    },
    {
     "cell_type": "heading",
     "level": 1,
     "metadata": {
      "slideshow": {
       "slide_type": "slide"
      }
     },
     "source": [
      "Lets do math!"
     ]
    },
    {
     "cell_type": "markdown",
     "metadata": {
      "slideshow": {
       "slide_type": "-"
      }
     },
     "source": [
      " * Math is **elementwise** (unlike lists)"
     ]
    },
    {
     "cell_type": "code",
     "collapsed": false,
     "input": [
      "arr = np.linspace(-1, 1, 5)\n",
      "# 5 steps from -1 to 1 (including both)\n",
      "print(arr)"
     ],
     "language": "python",
     "metadata": {
      "slideshow": {
       "slide_type": "-"
      }
     },
     "outputs": [
      {
       "output_type": "stream",
       "stream": "stdout",
       "text": [
        "[-1.  -0.5  0.   0.5  1. ]\n"
       ]
      }
     ],
     "prompt_number": 21
    },
    {
     "cell_type": "code",
     "collapsed": false,
     "input": [
      "print(arr + 1)"
     ],
     "language": "python",
     "metadata": {},
     "outputs": [
      {
       "output_type": "stream",
       "stream": "stdout",
       "text": [
        "[ 0.   0.5  1.   1.5  2. ]\n"
       ]
      }
     ],
     "prompt_number": 22
    },
    {
     "cell_type": "heading",
     "level": 2,
     "metadata": {
      "slideshow": {
       "slide_type": "subslide"
      }
     },
     "source": [
      "Unary functions"
     ]
    },
    {
     "cell_type": "code",
     "collapsed": false,
     "input": [
      "np.sin(arr)"
     ],
     "language": "python",
     "metadata": {},
     "outputs": [
      {
       "metadata": {},
       "output_type": "pyout",
       "prompt_number": 23,
       "text": [
        "array([-0.84147098, -0.47942554,  0.        ,  0.47942554,  0.84147098])"
       ]
      }
     ],
     "prompt_number": 23
    },
    {
     "cell_type": "code",
     "collapsed": false,
     "input": [
      "arr**2"
     ],
     "language": "python",
     "metadata": {},
     "outputs": [
      {
       "metadata": {},
       "output_type": "pyout",
       "prompt_number": 24,
       "text": [
        "array([ 1.  ,  0.25,  0.  ,  0.25,  1.  ])"
       ]
      }
     ],
     "prompt_number": 24
    },
    {
     "cell_type": "code",
     "collapsed": false,
     "input": [
      "abs(arr)"
     ],
     "language": "python",
     "metadata": {},
     "outputs": [
      {
       "metadata": {},
       "output_type": "pyout",
       "prompt_number": 25,
       "text": [
        "array([ 1. ,  0.5,  0. ,  0.5,  1. ])"
       ]
      }
     ],
     "prompt_number": 25
    },
    {
     "cell_type": "code",
     "collapsed": false,
     "input": [
      "-arr"
     ],
     "language": "python",
     "metadata": {},
     "outputs": [
      {
       "metadata": {},
       "output_type": "pyout",
       "prompt_number": 26,
       "text": [
        "array([ 1. ,  0.5, -0. , -0.5, -1. ])"
       ]
      }
     ],
     "prompt_number": 26
    },
    {
     "cell_type": "heading",
     "level": 2,
     "metadata": {
      "slideshow": {
       "slide_type": "subslide"
      }
     },
     "source": [
      "Binary functions"
     ]
    },
    {
     "cell_type": "code",
     "collapsed": false,
     "input": [
      "arr + arr  # also np.add(arr, arr)"
     ],
     "language": "python",
     "metadata": {},
     "outputs": [
      {
       "metadata": {},
       "output_type": "pyout",
       "prompt_number": 27,
       "text": [
        "array([-2., -1.,  0.,  1.,  2.])"
       ]
      }
     ],
     "prompt_number": 27
    },
    {
     "cell_type": "code",
     "collapsed": false,
     "input": [
      "arr * 2"
     ],
     "language": "python",
     "metadata": {},
     "outputs": [
      {
       "metadata": {},
       "output_type": "pyout",
       "prompt_number": 28,
       "text": [
        "array([-2., -1.,  0.,  1.,  2.])"
       ]
      }
     ],
     "prompt_number": 28
    },
    {
     "cell_type": "code",
     "collapsed": false,
     "input": [
      "arr + 3"
     ],
     "language": "python",
     "metadata": {},
     "outputs": [
      {
       "metadata": {},
       "output_type": "pyout",
       "prompt_number": 29,
       "text": [
        "array([ 2. ,  2.5,  3. ,  3.5,  4. ])"
       ]
      }
     ],
     "prompt_number": 29
    },
    {
     "cell_type": "code",
     "collapsed": false,
     "input": [
      "arr == -1"
     ],
     "language": "python",
     "metadata": {},
     "outputs": [
      {
       "metadata": {},
       "output_type": "pyout",
       "prompt_number": 30,
       "text": [
        "array([ True, False, False, False, False], dtype=bool)"
       ]
      }
     ],
     "prompt_number": 30
    },
    {
     "cell_type": "heading",
     "level": 2,
     "metadata": {
      "slideshow": {
       "slide_type": "subslide"
      }
     },
     "source": [
      "Reductions"
     ]
    },
    {
     "cell_type": "markdown",
     "metadata": {
      "slideshow": {
       "slide_type": "-"
      }
     },
     "source": [
      "Many reductions are available either through `ndarray` attributes or as numpy functions:"
     ]
    },
    {
     "cell_type": "code",
     "collapsed": false,
     "input": [
      "np.sum(arr)  # or\n",
      "arr.sum()"
     ],
     "language": "python",
     "metadata": {},
     "outputs": [
      {
       "metadata": {},
       "output_type": "pyout",
       "prompt_number": 31,
       "text": [
        "0.0"
       ]
      }
     ],
     "prompt_number": 31
    },
    {
     "cell_type": "markdown",
     "metadata": {},
     "source": [
      " <font color='red'> *Warning:*</font> Usual `sum(arr)` is *not* correct since it is a python function and not an operator."
     ]
    },
    {
     "cell_type": "heading",
     "level": 2,
     "metadata": {
      "slideshow": {
       "slide_type": "subslide"
      }
     },
     "source": [
      "Other reductions"
     ]
    },
    {
     "cell_type": "code",
     "collapsed": false,
     "input": [
      "np.mean(arr)  # or\n",
      "arr.mean()"
     ],
     "language": "python",
     "metadata": {},
     "outputs": [
      {
       "metadata": {},
       "output_type": "pyout",
       "prompt_number": 32,
       "text": [
        "0.0"
       ]
      }
     ],
     "prompt_number": 32
    },
    {
     "cell_type": "code",
     "collapsed": false,
     "input": [
      "# Logical:\n",
      "arr.all(); arr.any()\n",
      "# Minimum/Maximum:\n",
      "arr.min(); arr.max(); arr.argmin(); arr.argmax()\n",
      "# Standard deviation:\n",
      "arr.std(ddof=1); arr.var()\n",
      "np.median(arr);  # not arr.median here"
     ],
     "language": "python",
     "metadata": {},
     "outputs": [
      {
       "metadata": {},
       "output_type": "pyout",
       "prompt_number": 33,
       "text": [
        "0.0"
       ]
      }
     ],
     "prompt_number": 33
    },
    {
     "cell_type": "heading",
     "level": 2,
     "metadata": {
      "slideshow": {
       "slide_type": "subslide"
      }
     },
     "source": [
      "Recutions \u2013 axis"
     ]
    },
    {
     "cell_type": "markdown",
     "metadata": {},
     "source": [
      "Most reduction (-like) functions accept an `axis` argument:"
     ]
    },
    {
     "cell_type": "code",
     "collapsed": false,
     "input": [
      "arr = np.random.random((50, 3))\n",
      "arr.sum(0)"
     ],
     "language": "python",
     "metadata": {},
     "outputs": [
      {
       "metadata": {},
       "output_type": "pyout",
       "prompt_number": 34,
       "text": [
        "array([ 24.82386045,  27.7803373 ,  25.79224904])"
       ]
      }
     ],
     "prompt_number": 34
    },
    {
     "cell_type": "code",
     "collapsed": false,
     "input": [
      "arr.sum(0, keepdims=True)"
     ],
     "language": "python",
     "metadata": {},
     "outputs": [
      {
       "metadata": {},
       "output_type": "pyout",
       "prompt_number": 35,
       "text": [
        "array([[ 24.82386045,  27.7803373 ,  25.79224904]])"
       ]
      }
     ],
     "prompt_number": 35
    },
    {
     "cell_type": "markdown",
     "metadata": {},
     "source": [
      "You can specify multiple axes (its still called \"axis\"):"
     ]
    },
    {
     "cell_type": "code",
     "collapsed": false,
     "input": [
      "arr.sum(axis=(0, 1))"
     ],
     "language": "python",
     "metadata": {},
     "outputs": [
      {
       "metadata": {},
       "output_type": "pyout",
       "prompt_number": 36,
       "text": [
        "78.396446792589131"
       ]
      }
     ],
     "prompt_number": 36
    },
    {
     "cell_type": "heading",
     "level": 1,
     "metadata": {
      "slideshow": {
       "slide_type": "notes"
      }
     },
     "source": [
      "*(Master)* Reductions"
     ]
    },
    {
     "cell_type": "markdown",
     "metadata": {
      "slideshow": {
       "slide_type": "notes"
      }
     },
     "source": [
      "All binary ufuncs (simple elementwise math functions from above) allow reductions. For example `arr.sum()` is actually a thin wrapper around `np.add.reduce(arr)`!"
     ]
    },
    {
     "cell_type": "heading",
     "level": 1,
     "metadata": {
      "slideshow": {
       "slide_type": "notes"
      }
     },
     "source": [
      "All Available functions"
     ]
    },
    {
     "cell_type": "markdown",
     "metadata": {
      "slideshow": {
       "slide_type": "notes"
      }
     },
     "source": [
      "All available unary (math/ufunc) functions:"
     ]
    },
    {
     "cell_type": "code",
     "collapsed": false,
     "input": [
      "for obj_string in dir(np):\n",
      "    obj = getattr(np, obj_string)\n",
      "    if (isinstance(obj, np.ufunc)\n",
      "            and obj.nin == 1 and obj.nout == 1):\n",
      "        print(obj_string, end=', ')"
     ],
     "language": "python",
     "metadata": {
      "slideshow": {
       "slide_type": "notes"
      }
     },
     "outputs": [
      {
       "output_type": "stream",
       "stream": "stdout",
       "text": [
        "abs, absolute, arccos, arccosh, arcsin, arcsinh, arctan, arctanh, bitwise_not, ceil, conj, conjugate, cos, cosh, deg2rad, degrees, exp, exp2, expm1, fabs, floor, invert, isfinite, isinf, isnan, log, log10, log1p, log2, logical_not, negative, rad2deg, radians, reciprocal, rint, sign, signbit, sin, sinh, spacing, sqrt, square, tan, tanh, trunc, "
       ]
      }
     ],
     "prompt_number": 37
    },
    {
     "cell_type": "markdown",
     "metadata": {
      "slideshow": {
       "slide_type": "notes"
      }
     },
     "source": [
      "All available binary (math/ufunc) functions:"
     ]
    },
    {
     "cell_type": "code",
     "collapsed": false,
     "input": [
      "for obj_string in dir(np):\n",
      "    obj = getattr(np, obj_string)\n",
      "    if (isinstance(obj, np.ufunc)\n",
      "            and obj.nin == 2 and obj.nout == 1):\n",
      "        print(obj_string, end=', ')"
     ],
     "language": "python",
     "metadata": {
      "slideshow": {
       "slide_type": "notes"
      }
     },
     "outputs": [
      {
       "output_type": "stream",
       "stream": "stdout",
       "text": [
        "add, arctan2, bitwise_and, bitwise_or, bitwise_xor, copysign, divide, equal, floor_divide, fmax, fmin, fmod, greater, greater_equal, hypot, ldexp, left_shift, less, less_equal, logaddexp, logaddexp2, logical_and, logical_or, logical_xor, maximum, minimum, mod, multiply, nextafter, not_equal, power, remainder, right_shift, subtract, true_divide, "
       ]
      }
     ],
     "prompt_number": 38
    },
    {
     "cell_type": "markdown",
     "metadata": {
      "slideshow": {
       "slide_type": "notes"
      }
     },
     "source": [
      "Other (math/ufunc) functions:"
     ]
    },
    {
     "cell_type": "code",
     "collapsed": false,
     "input": [
      "for obj_string in dir(np):\n",
      "    obj = getattr(np, obj_string)\n",
      "    if (isinstance(obj, np.ufunc)\n",
      "            and (obj.nin > 2 or obj.nout != 1)):\n",
      "        print(obj_string, end=', ')"
     ],
     "language": "python",
     "metadata": {
      "slideshow": {
       "slide_type": "notes"
      }
     },
     "outputs": [
      {
       "output_type": "stream",
       "stream": "stdout",
       "text": [
        "frexp, modf, "
       ]
      }
     ],
     "prompt_number": 39
    },
    {
     "cell_type": "heading",
     "level": 1,
     "metadata": {
      "slideshow": {
       "slide_type": "slide"
      }
     },
     "source": [
      "Broadcasting"
     ]
    },
    {
     "cell_type": "markdown",
     "metadata": {
      "slideshow": {
       "slide_type": "-"
      }
     },
     "source": [
      "Implicite repetition of arrays.\n",
      "\n",
      "We have already done this:"
     ]
    },
    {
     "cell_type": "code",
     "collapsed": false,
     "input": [
      "arr = np.array([1, 2, 3, 4])\n",
      "arr + 3"
     ],
     "language": "python",
     "metadata": {
      "slideshow": {
       "slide_type": "-"
      }
     },
     "outputs": [
      {
       "metadata": {},
       "output_type": "pyout",
       "prompt_number": 40,
       "text": [
        "array([4, 5, 6, 7])"
       ]
      }
     ],
     "prompt_number": 40
    },
    {
     "cell_type": "markdown",
     "metadata": {},
     "source": [
      "Is actually:"
     ]
    },
    {
     "cell_type": "code",
     "collapsed": false,
     "input": [
      "threes = np.array([3, 3, 3, 3])\n",
      "arr + threes"
     ],
     "language": "python",
     "metadata": {},
     "outputs": [
      {
       "metadata": {},
       "output_type": "pyout",
       "prompt_number": 41,
       "text": [
        "array([4, 5, 6, 7])"
       ]
      }
     ],
     "prompt_number": 41
    },
    {
     "cell_type": "markdown",
     "metadata": {
      "slideshow": {
       "slide_type": "subslide"
      }
     },
     "source": [
      "<img src=files/images/broadcast_scalar.svg width=200pt>"
     ]
    },
    {
     "cell_type": "markdown",
     "metadata": {},
     "source": [
      "This happens (more efficiently):"
     ]
    },
    {
     "cell_type": "code",
     "collapsed": false,
     "input": [
      "three = np.array(3)\n",
      "three = three.reshape(1)\n",
      "print('Shape:', three.shape)\n",
      "threes = three.repeat(len(arr))\n",
      "print('Threes shape:', threes.shape)"
     ],
     "language": "python",
     "metadata": {},
     "outputs": [
      {
       "output_type": "stream",
       "stream": "stdout",
       "text": [
        "Shape: (1,)\n",
        "Threes shape: (4,)\n"
       ]
      }
     ],
     "prompt_number": 42
    },
    {
     "cell_type": "code",
     "collapsed": false,
     "input": [
      "result = arr + threes"
     ],
     "language": "python",
     "metadata": {},
     "outputs": [],
     "prompt_number": 43
    },
    {
     "cell_type": "markdown",
     "metadata": {
      "slideshow": {
       "slide_type": "subslide"
      }
     },
     "source": [
      "<img src=files/images/array_3x5x8.png width=200pt>"
     ]
    },
    {
     "cell_type": "code",
     "collapsed": false,
     "input": [
      "red = np.arange(8)\n",
      "green = np.ones((4, 3, 1))\n",
      "\n",
      "blue = red * green\n",
      "print(blue.shape)"
     ],
     "language": "python",
     "metadata": {
      "slideshow": {
       "slide_type": "-"
      }
     },
     "outputs": [
      {
       "output_type": "stream",
       "stream": "stdout",
       "text": [
        "(4, 3, 8)\n"
       ]
      }
     ],
     "prompt_number": 44
    },
    {
     "cell_type": "heading",
     "level": 2,
     "metadata": {
      "slideshow": {
       "slide_type": "subslide"
      }
     },
     "source": [
      "Example:"
     ]
    },
    {
     "cell_type": "code",
     "collapsed": false,
     "input": [
      "arr1 = np.arange(5)\n",
      "arr2 = np.arange(10, 15)"
     ],
     "language": "python",
     "metadata": {
      "slideshow": {
       "slide_type": "-"
      }
     },
     "outputs": [],
     "prompt_number": 45
    },
    {
     "cell_type": "markdown",
     "metadata": {},
     "source": [
      "Create `(5, 5)` array, which combines all numbers:"
     ]
    },
    {
     "cell_type": "code",
     "collapsed": false,
     "input": [
      "arr2 = arr2[:, np.newaxis]  # later\n",
      "print(arr2.shape)"
     ],
     "language": "python",
     "metadata": {},
     "outputs": [
      {
       "output_type": "stream",
       "stream": "stdout",
       "text": [
        "(5, 1)\n"
       ]
      }
     ],
     "prompt_number": 46
    },
    {
     "cell_type": "code",
     "collapsed": false,
     "input": [
      "print(arr1 +  arr2)"
     ],
     "language": "python",
     "metadata": {},
     "outputs": [
      {
       "output_type": "stream",
       "stream": "stdout",
       "text": [
        "[[10 11 12 13 14]\n",
        " [11 12 13 14 15]\n",
        " [12 13 14 15 16]\n",
        " [13 14 15 16 17]\n",
        " [14 15 16 17 18]]\n"
       ]
      }
     ],
     "prompt_number": 47
    },
    {
     "cell_type": "heading",
     "level": 1,
     "metadata": {
      "slideshow": {
       "slide_type": "slide"
      }
     },
     "source": [
      "Container manipulation"
     ]
    },
    {
     "cell_type": "heading",
     "level": 2,
     "metadata": {},
     "source": [
      "Reshaping"
     ]
    },
    {
     "cell_type": "markdown",
     "metadata": {},
     "source": [
      "You can reshape arrays (more in the exercizes)"
     ]
    },
    {
     "cell_type": "code",
     "collapsed": false,
     "input": [
      "np.arange(10).reshape(2, 5)"
     ],
     "language": "python",
     "metadata": {},
     "outputs": [
      {
       "metadata": {},
       "output_type": "pyout",
       "prompt_number": 48,
       "text": [
        "array([[0, 1, 2, 3, 4],\n",
        "       [5, 6, 7, 8, 9]])"
       ]
      }
     ],
     "prompt_number": 48
    },
    {
     "cell_type": "code",
     "collapsed": false,
     "input": [
      "np.arange(10).reshape(2, -1)  # -1 is a \"joker\""
     ],
     "language": "python",
     "metadata": {},
     "outputs": [
      {
       "metadata": {},
       "output_type": "pyout",
       "prompt_number": 49,
       "text": [
        "array([[0, 1, 2, 3, 4],\n",
        "       [5, 6, 7, 8, 9]])"
       ]
      }
     ],
     "prompt_number": 49
    },
    {
     "cell_type": "heading",
     "level": 2,
     "metadata": {
      "slideshow": {
       "slide_type": "subslide"
      }
     },
     "source": [
      "Other manipulations"
     ]
    },
    {
     "cell_type": "code",
     "collapsed": false,
     "input": [
      "np.arange(3).repeat(2)"
     ],
     "language": "python",
     "metadata": {},
     "outputs": [
      {
       "metadata": {},
       "output_type": "pyout",
       "prompt_number": 50,
       "text": [
        "array([0, 0, 1, 1, 2, 2])"
       ]
      }
     ],
     "prompt_number": 50
    },
    {
     "cell_type": "code",
     "collapsed": false,
     "input": [
      "np.concatenate((np.arange(2), np.arange(3)))"
     ],
     "language": "python",
     "metadata": {},
     "outputs": [
      {
       "metadata": {},
       "output_type": "pyout",
       "prompt_number": 51,
       "text": [
        "array([0, 1, 0, 1, 2])"
       ]
      }
     ],
     "prompt_number": 51
    },
    {
     "cell_type": "markdown",
     "metadata": {},
     "source": [
      "* Concatenate has many friends (hstack, see \"See Also\")\n",
      "\n",
      "There are more to explorer for specific tasks."
     ]
    },
    {
     "cell_type": "heading",
     "level": 1,
     "metadata": {
      "slideshow": {
       "slide_type": "slide"
      }
     },
     "source": [
      "Indexing"
     ]
    },
    {
     "cell_type": "markdown",
     "metadata": {},
     "source": [
      "* Indexing is very powerfull in NumPy\n",
      "  \n",
      "* There are different types of indexing:\n",
      "    1. Picking a single element\n",
      "    2. Slicing\n",
      "    3. Advanced indexing:\n",
      "       * picking many elements at once\n",
      "    4. (Advanced) Boolean indexing:\n",
      "       * Selecting based on logical expressions\n",
      "\n",
      "Note: *Advanced* indexing is often also called *fancy* indexing"
     ]
    },
    {
     "cell_type": "heading",
     "level": 2,
     "metadata": {
      "slideshow": {
       "slide_type": "subslide"
      }
     },
     "source": [
      "Picking an element"
     ]
    },
    {
     "cell_type": "markdown",
     "metadata": {},
     "source": [
      "Picking a single element from an array requires an integer along each dimension"
     ]
    },
    {
     "cell_type": "code",
     "collapsed": false,
     "input": [
      "arr = np.arange(10).reshape(2, 5)\n",
      "print(arr)"
     ],
     "language": "python",
     "metadata": {},
     "outputs": [
      {
       "output_type": "stream",
       "stream": "stdout",
       "text": [
        "[[0 1 2 3 4]\n",
        " [5 6 7 8 9]]\n"
       ]
      }
     ],
     "prompt_number": 52
    },
    {
     "cell_type": "code",
     "collapsed": false,
     "input": [
      "print(arr[0, 3])\n",
      "print(arr[1, 2])"
     ],
     "language": "python",
     "metadata": {},
     "outputs": [
      {
       "output_type": "stream",
       "stream": "stdout",
       "text": [
        "3\n",
        "7\n"
       ]
      }
     ],
     "prompt_number": 53
    },
    {
     "cell_type": "code",
     "collapsed": false,
     "input": [
      "indx = (0, 3); print(arr[indx])  # This is identical!"
     ],
     "language": "python",
     "metadata": {},
     "outputs": [
      {
       "output_type": "stream",
       "stream": "stdout",
       "text": [
        "3\n"
       ]
      }
     ],
     "prompt_number": 54
    },
    {
     "cell_type": "heading",
     "level": 1,
     "metadata": {
      "slideshow": {
       "slide_type": "subslide"
      }
     },
     "source": [
      "Incomplete index"
     ]
    },
    {
     "cell_type": "code",
     "collapsed": false,
     "input": [
      "arr"
     ],
     "language": "python",
     "metadata": {},
     "outputs": [
      {
       "metadata": {},
       "output_type": "pyout",
       "prompt_number": 55,
       "text": [
        "array([[0, 1, 2, 3, 4],\n",
        "       [5, 6, 7, 8, 9]])"
       ]
      }
     ],
     "prompt_number": 55
    },
    {
     "cell_type": "code",
     "collapsed": false,
     "input": [
      "arr[0]"
     ],
     "language": "python",
     "metadata": {},
     "outputs": [
      {
       "metadata": {},
       "output_type": "pyout",
       "prompt_number": 56,
       "text": [
        "array([0, 1, 2, 3, 4])"
       ]
      }
     ],
     "prompt_number": 56
    },
    {
     "cell_type": "markdown",
     "metadata": {},
     "source": [
      "This is much like a list of lists.\n",
      "But **never** do this:"
     ]
    },
    {
     "cell_type": "code",
     "collapsed": false,
     "input": [
      "arr[0][1]"
     ],
     "language": "python",
     "metadata": {},
     "outputs": [
      {
       "metadata": {},
       "output_type": "pyout",
       "prompt_number": 57,
       "text": [
        "1"
       ]
      }
     ],
     "prompt_number": 57
    },
    {
     "cell_type": "heading",
     "level": 2,
     "metadata": {
      "slideshow": {
       "slide_type": "subslide"
      }
     },
     "source": [
      "Slicing"
     ]
    },
    {
     "cell_type": "markdown",
     "metadata": {},
     "source": [
      "* You already know `:` (`slice`) from lists\n",
      "* We can do it in arbitrary dimensions\n",
      "* NumPy also has ``...`` (`Ellipsis`)\n",
      "* NumPy also has ``np.newaxis`` (identical to ``None``)"
     ]
    },
    {
     "cell_type": "heading",
     "level": 3,
     "metadata": {
      "slideshow": {
       "slide_type": "subslide"
      }
     },
     "source": [
      "Simple slicing"
     ]
    },
    {
     "cell_type": "markdown",
     "metadata": {},
     "source": [
      "* Just like slicing of lists `list[start:stop:step]`\n",
      "* For many dimensions each is sliced seperatly"
     ]
    },
    {
     "cell_type": "code",
     "collapsed": false,
     "input": [
      "arr"
     ],
     "language": "python",
     "metadata": {},
     "outputs": [
      {
       "metadata": {},
       "output_type": "pyout",
       "prompt_number": 58,
       "text": [
        "array([[0, 1, 2, 3, 4],\n",
        "       [5, 6, 7, 8, 9]])"
       ]
      }
     ],
     "prompt_number": 58
    },
    {
     "cell_type": "code",
     "collapsed": false,
     "input": [
      "arr[1:, 1::2]"
     ],
     "language": "python",
     "metadata": {},
     "outputs": [
      {
       "metadata": {},
       "output_type": "pyout",
       "prompt_number": 59,
       "text": [
        "array([[6, 8]])"
       ]
      }
     ],
     "prompt_number": 59
    },
    {
     "cell_type": "code",
     "collapsed": false,
     "input": [
      "# Maybe it helps to realize this:\n",
      "arr[1:][:, 1::2]  # note the single : is to \"skip\" that dimension"
     ],
     "language": "python",
     "metadata": {},
     "outputs": [
      {
       "metadata": {},
       "output_type": "pyout",
       "prompt_number": 60,
       "text": [
        "array([[6, 8]])"
       ]
      }
     ],
     "prompt_number": 60
    },
    {
     "cell_type": "heading",
     "level": 3,
     "metadata": {
      "slideshow": {
       "slide_type": "subslide"
      }
     },
     "source": [
      "Ellipsis"
     ]
    },
    {
     "cell_type": "markdown",
     "metadata": {},
     "source": [
      "`...` replaces an arbitray number of `:`"
     ]
    },
    {
     "cell_type": "code",
     "collapsed": false,
     "input": [
      "print(arr[1, ...])  # identical to arr[1]\n",
      "print(repr(arr[1, 0, ...]))  # never a scalar\n",
      "print(repr(arr[1, 0]))  # is a scalar (immutable)"
     ],
     "language": "python",
     "metadata": {},
     "outputs": [
      {
       "output_type": "stream",
       "stream": "stdout",
       "text": [
        "[5 6 7 8 9]\n",
        "array(5)\n",
        "5\n"
       ]
      }
     ],
     "prompt_number": 61
    },
    {
     "cell_type": "code",
     "collapsed": false,
     "input": [
      "high_dimensional = np.ones((5, 4, 3, 2))\n",
      "high_dimensional[..., :1].shape"
     ],
     "language": "python",
     "metadata": {},
     "outputs": [
      {
       "metadata": {},
       "output_type": "pyout",
       "prompt_number": 62,
       "text": [
        "(5, 4, 3, 1)"
       ]
      }
     ],
     "prompt_number": 62
    },
    {
     "cell_type": "code",
     "collapsed": false,
     "input": [
      "high_dimensional[0, ..., 1].shape"
     ],
     "language": "python",
     "metadata": {},
     "outputs": [
      {
       "metadata": {},
       "output_type": "pyout",
       "prompt_number": 63,
       "text": [
        "(4, 3)"
       ]
      }
     ],
     "prompt_number": 63
    },
    {
     "cell_type": "heading",
     "level": 3,
     "metadata": {
      "slideshow": {
       "slide_type": "subslide"
      }
     },
     "source": [
      "Newaxis"
     ]
    },
    {
     "cell_type": "markdown",
     "metadata": {},
     "source": [
      "Inserts a new axis of size 1 (increases dimension)"
     ]
    },
    {
     "cell_type": "code",
     "collapsed": false,
     "input": [
      "arr.shape"
     ],
     "language": "python",
     "metadata": {},
     "outputs": [
      {
       "metadata": {},
       "output_type": "pyout",
       "prompt_number": 64,
       "text": [
        "(2, 5)"
       ]
      }
     ],
     "prompt_number": 64
    },
    {
     "cell_type": "code",
     "collapsed": false,
     "input": [
      "arr[:, np.newaxis, :, np.newaxis].shape"
     ],
     "language": "python",
     "metadata": {},
     "outputs": [
      {
       "metadata": {},
       "output_type": "pyout",
       "prompt_number": 65,
       "text": [
        "(2, 1, 5, 1)"
       ]
      }
     ],
     "prompt_number": 65
    },
    {
     "cell_type": "code",
     "collapsed": false,
     "input": [
      "arr[..., None].shape"
     ],
     "language": "python",
     "metadata": {},
     "outputs": [
      {
       "metadata": {},
       "output_type": "pyout",
       "prompt_number": 66,
       "text": [
        "(2, 5, 1)"
       ]
      }
     ],
     "prompt_number": 66
    },
    {
     "cell_type": "code",
     "collapsed": false,
     "input": [
      "np.newaxis is None"
     ],
     "language": "python",
     "metadata": {},
     "outputs": [
      {
       "metadata": {},
       "output_type": "pyout",
       "prompt_number": 67,
       "text": [
        "True"
       ]
      }
     ],
     "prompt_number": 67
    },
    {
     "cell_type": "heading",
     "level": 2,
     "metadata": {
      "slideshow": {
       "slide_type": "subslide"
      }
     },
     "source": [
      "Advanced (integer) Indexing"
     ]
    },
    {
     "cell_type": "markdown",
     "metadata": {},
     "source": [
      "Create a new array selecting many elements"
     ]
    },
    {
     "cell_type": "code",
     "collapsed": false,
     "input": [
      "arr = np.arange(1, 6)"
     ],
     "language": "python",
     "metadata": {},
     "outputs": [],
     "prompt_number": 68
    },
    {
     "cell_type": "code",
     "collapsed": false,
     "input": [
      "indx = np.array([0, 4, 2], dtype=np.intp)\n",
      "arr[indx]"
     ],
     "language": "python",
     "metadata": {},
     "outputs": [
      {
       "metadata": {},
       "output_type": "pyout",
       "prompt_number": 69,
       "text": [
        "array([1, 5, 3])"
       ]
      }
     ],
     "prompt_number": 69
    },
    {
     "cell_type": "code",
     "collapsed": false,
     "input": [
      "arr[0], arr[4], arr[2]"
     ],
     "language": "python",
     "metadata": {},
     "outputs": [
      {
       "metadata": {},
       "output_type": "pyout",
       "prompt_number": 70,
       "text": [
        "(1, 5, 3)"
       ]
      }
     ],
     "prompt_number": 70
    },
    {
     "cell_type": "code",
     "collapsed": false,
     "input": [
      "arr[[0, 4, 2]]  # But nested lists do not!\n",
      "\n",
      "# intp is safest, but please do not worry about it generally:\n",
      "arr[np.array([0, 4, 2], dtype=np.uint16)]"
     ],
     "language": "python",
     "metadata": {},
     "outputs": [
      {
       "metadata": {},
       "output_type": "pyout",
       "prompt_number": 71,
       "text": [
        "array([1, 5, 3])"
       ]
      }
     ],
     "prompt_number": 71
    },
    {
     "cell_type": "heading",
     "level": 3,
     "metadata": {
      "slideshow": {
       "slide_type": "subslide"
      }
     },
     "source": [
      "Can be combined with other indexing"
     ]
    },
    {
     "cell_type": "code",
     "collapsed": false,
     "input": [
      "arr = np.arange(6).reshape(2, 3)\n",
      "arr"
     ],
     "language": "python",
     "metadata": {},
     "outputs": [
      {
       "metadata": {},
       "output_type": "pyout",
       "prompt_number": 72,
       "text": [
        "array([[0, 1, 2],\n",
        "       [3, 4, 5]])"
       ]
      }
     ],
     "prompt_number": 72
    },
    {
     "cell_type": "code",
     "collapsed": false,
     "input": [
      "arr[[1, 0], :2]"
     ],
     "language": "python",
     "metadata": {},
     "outputs": [
      {
       "metadata": {},
       "output_type": "pyout",
       "prompt_number": 73,
       "text": [
        "array([[3, 4],\n",
        "       [0, 1]])"
       ]
      }
     ],
     "prompt_number": 73
    },
    {
     "cell_type": "markdown",
     "metadata": {},
     "source": [
      "Slicing happens first, then the rest (actually it is more the other way around)"
     ]
    },
    {
     "cell_type": "heading",
     "level": 3,
     "metadata": {
      "slideshow": {
       "slide_type": "subslide"
      }
     },
     "source": [
      "Can have arbitrary shapes"
     ]
    },
    {
     "cell_type": "code",
     "collapsed": false,
     "input": [
      "arr"
     ],
     "language": "python",
     "metadata": {},
     "outputs": [
      {
       "metadata": {},
       "output_type": "pyout",
       "prompt_number": 74,
       "text": [
        "array([[0, 1, 2],\n",
        "       [3, 4, 5]])"
       ]
      }
     ],
     "prompt_number": 74
    },
    {
     "cell_type": "code",
     "collapsed": false,
     "input": [
      "indx = np.array([[0, 1],\n",
      "                 [2, 1]])\n",
      "arr[0, indx]"
     ],
     "language": "python",
     "metadata": {},
     "outputs": [
      {
       "metadata": {},
       "output_type": "pyout",
       "prompt_number": 75,
       "text": [
        "array([[0, 1],\n",
        "       [2, 1]])"
       ]
      }
     ],
     "prompt_number": 75
    },
    {
     "cell_type": "heading",
     "level": 3,
     "metadata": {
      "slideshow": {
       "slide_type": "subslide"
      }
     },
     "source": [
      "Two advanced indexes are iterated **together**"
     ]
    },
    {
     "cell_type": "markdown",
     "metadata": {},
     "source": [
      "This is *not* like slicing (or matlab)!"
     ]
    },
    {
     "cell_type": "code",
     "collapsed": false,
     "input": [
      "arr"
     ],
     "language": "python",
     "metadata": {},
     "outputs": [
      {
       "metadata": {},
       "output_type": "pyout",
       "prompt_number": 76,
       "text": [
        "array([[0, 1, 2],\n",
        "       [3, 4, 5]])"
       ]
      }
     ],
     "prompt_number": 76
    },
    {
     "cell_type": "code",
     "collapsed": false,
     "input": [
      "indx1 = np.array([1, 0])\n",
      "indx2 = np.array([0, 2])\n",
      "arr[indx1, indx2]"
     ],
     "language": "python",
     "metadata": {},
     "outputs": [
      {
       "metadata": {},
       "output_type": "pyout",
       "prompt_number": 77,
       "text": [
        "array([3, 2])"
       ]
      }
     ],
     "prompt_number": 77
    },
    {
     "cell_type": "markdown",
     "metadata": {},
     "source": [
      "The output has the same shapes as the (broadcasted) input!"
     ]
    },
    {
     "cell_type": "heading",
     "level": 3,
     "metadata": {
      "slideshow": {
       "slide_type": "subslide"
      }
     },
     "source": [
      "Example: Make use of multiple advanced indices"
     ]
    },
    {
     "cell_type": "markdown",
     "metadata": {},
     "source": [
      "Select the \"corners\" with advanced indexing"
     ]
    },
    {
     "cell_type": "code",
     "collapsed": false,
     "input": [
      "arr"
     ],
     "language": "python",
     "metadata": {},
     "outputs": [
      {
       "metadata": {},
       "output_type": "pyout",
       "prompt_number": 78,
       "text": [
        "array([[0, 1, 2],\n",
        "       [3, 4, 5]])"
       ]
      }
     ],
     "prompt_number": 78
    },
    {
     "cell_type": "code",
     "collapsed": false,
     "input": [
      "indx1 = np.array([0, -1])\n",
      "indx2 = np.array([[[0],\n",
      "                   [-1]]])\n",
      "arr[indx1, indx2]"
     ],
     "language": "python",
     "metadata": {},
     "outputs": [
      {
       "metadata": {},
       "output_type": "pyout",
       "prompt_number": 79,
       "text": [
        "array([[[0, 3],\n",
        "        [2, 5]]])"
       ]
      }
     ],
     "prompt_number": 79
    },
    {
     "cell_type": "heading",
     "level": 2,
     "metadata": {
      "slideshow": {
       "slide_type": "subslide"
      }
     },
     "source": [
      "Boolean indexing"
     ]
    },
    {
     "cell_type": "markdown",
     "metadata": {},
     "source": [
      "* Filter an array\n",
      "* Can work on the full arrays or some axes\n",
      "* Result is always one dimensional"
     ]
    },
    {
     "cell_type": "code",
     "collapsed": false,
     "input": [
      "arr"
     ],
     "language": "python",
     "metadata": {},
     "outputs": [
      {
       "metadata": {},
       "output_type": "pyout",
       "prompt_number": 80,
       "text": [
        "array([[0, 1, 2],\n",
        "       [3, 4, 5]])"
       ]
      }
     ],
     "prompt_number": 80
    },
    {
     "cell_type": "code",
     "collapsed": false,
     "input": [
      "arr > 3"
     ],
     "language": "python",
     "metadata": {},
     "outputs": [
      {
       "metadata": {},
       "output_type": "pyout",
       "prompt_number": 81,
       "text": [
        "array([[False, False, False],\n",
        "       [False,  True,  True]], dtype=bool)"
       ]
      }
     ],
     "prompt_number": 81
    },
    {
     "cell_type": "code",
     "collapsed": false,
     "input": [
      "arr[arr > 3]"
     ],
     "language": "python",
     "metadata": {},
     "outputs": [
      {
       "metadata": {},
       "output_type": "pyout",
       "prompt_number": 82,
       "text": [
        "array([4, 5])"
       ]
      }
     ],
     "prompt_number": 82
    },
    {
     "cell_type": "heading",
     "level": 3,
     "metadata": {
      "slideshow": {
       "slide_type": "subslide"
      }
     },
     "source": [
      "Use it on part of the array only"
     ]
    },
    {
     "cell_type": "code",
     "collapsed": false,
     "input": [
      "arr"
     ],
     "language": "python",
     "metadata": {},
     "outputs": [
      {
       "metadata": {},
       "output_type": "pyout",
       "prompt_number": 83,
       "text": [
        "array([[0, 1, 2],\n",
        "       [3, 4, 5]])"
       ]
      }
     ],
     "prompt_number": 83
    },
    {
     "cell_type": "code",
     "collapsed": false,
     "input": [
      "print('Every column starting >=1:', repr(arr[0] >= 1))\n",
      "arr[:, arr[0] >= 1]  # Every column starting >= 1"
     ],
     "language": "python",
     "metadata": {},
     "outputs": [
      {
       "output_type": "stream",
       "stream": "stdout",
       "text": [
        "Every column starting >=1: array([False,  True,  True], dtype=bool)\n"
       ]
      },
      {
       "metadata": {},
       "output_type": "pyout",
       "prompt_number": 84,
       "text": [
        "array([[1, 2],\n",
        "       [4, 5]])"
       ]
      }
     ],
     "prompt_number": 84
    },
    {
     "cell_type": "code",
     "collapsed": false,
     "input": [
      "print('Every row starting >1:', repr(arr[:, 0] > 1))\n",
      "arr[arr[:, 0] > 1]"
     ],
     "language": "python",
     "metadata": {},
     "outputs": [
      {
       "output_type": "stream",
       "stream": "stdout",
       "text": [
        "Every row starting >1: array([False,  True], dtype=bool)\n"
       ]
      },
      {
       "metadata": {},
       "output_type": "pyout",
       "prompt_number": 85,
       "text": [
        "array([[3, 4, 5]])"
       ]
      }
     ],
     "prompt_number": 85
    },
    {
     "cell_type": "heading",
     "level": 2,
     "metadata": {
      "slideshow": {
       "slide_type": "subslide"
      }
     },
     "source": [
      "Assignments"
     ]
    },
    {
     "cell_type": "markdown",
     "metadata": {},
     "source": [
      "Indexing can also be used for *assignmnents*:"
     ]
    },
    {
     "cell_type": "code",
     "collapsed": false,
     "input": [
      "arr = np.arange(10)\n",
      "arr[:4] = 0\n",
      "arr"
     ],
     "language": "python",
     "metadata": {},
     "outputs": [
      {
       "metadata": {},
       "output_type": "pyout",
       "prompt_number": 86,
       "text": [
        "array([0, 0, 0, 0, 4, 5, 6, 7, 8, 9])"
       ]
      }
     ],
     "prompt_number": 86
    },
    {
     "cell_type": "code",
     "collapsed": false,
     "input": [
      "arr[[-1, -3]] = 999\n",
      "arr"
     ],
     "language": "python",
     "metadata": {},
     "outputs": [
      {
       "metadata": {},
       "output_type": "pyout",
       "prompt_number": 87,
       "text": [
        "array([  0,   0,   0,   0,   4,   5,   6, 999,   8, 999])"
       ]
      }
     ],
     "prompt_number": 87
    },
    {
     "cell_type": "code",
     "collapsed": false,
     "input": [
      "arr[arr > 10] = 42\n",
      "arr"
     ],
     "language": "python",
     "metadata": {},
     "outputs": [
      {
       "metadata": {},
       "output_type": "pyout",
       "prompt_number": 88,
       "text": [
        "array([ 0,  0,  0,  0,  4,  5,  6, 42,  8, 42])"
       ]
      }
     ],
     "prompt_number": 88
    },
    {
     "cell_type": "heading",
     "level": 2,
     "metadata": {
      "slideshow": {
       "slide_type": "notes"
      }
     },
     "source": [
      "Some notes"
     ]
    },
    {
     "cell_type": "markdown",
     "metadata": {
      "slideshow": {
       "slide_type": "notes"
      }
     },
     "source": [
      "  * All of these can be combined\n",
      "  * But combination can be very complicating in some cases\n",
      "     * for example `arr[index_array, :, index_array]`.\n",
      "  * Indexing is best with the `np.intp` type (others may be slower or in principle unsafe)"
     ]
    },
    {
     "cell_type": "heading",
     "level": 1,
     "metadata": {
      "slideshow": {
       "slide_type": "slide"
      }
     },
     "source": [
      "Memory and Views"
     ]
    },
    {
     "cell_type": "markdown",
     "metadata": {},
     "source": [
      "1. Numpy arrays are of course mutable objects.\n",
      "2. Slices create **views** into the same memory."
     ]
    },
    {
     "cell_type": "code",
     "collapsed": false,
     "input": [
      "arr = np.arange(10)\n",
      "# Take the first half:\n",
      "view = arr[:5]\n",
      "# Set it to 0:\n",
      "view[...] = 0\n",
      "print(arr)"
     ],
     "language": "python",
     "metadata": {},
     "outputs": [
      {
       "output_type": "stream",
       "stream": "stdout",
       "text": [
        "[0 0 0 0 0 5 6 7 8 9]\n"
       ]
      }
     ],
     "prompt_number": 89
    },
    {
     "cell_type": "markdown",
     "metadata": {},
     "source": [
      "*Note:* Advanced indexing *always* creates a copy, slicing *never* creates a copy."
     ]
    },
    {
     "cell_type": "heading",
     "level": 2,
     "metadata": {
      "slideshow": {
       "slide_type": "subslide"
      }
     },
     "source": [
      "Take care about views"
     ]
    },
    {
     "cell_type": "markdown",
     "metadata": {},
     "source": [
      " * Some functions will return a view *if possible* i.e.:\n",
      "      * `np.reshape`\n",
      "      * `np.ravel`\n",
      " * A functions *reads* $\\rightarrow$ views are great.\n",
      " * A function *writes* $\\rightarrow$ no view unless `out` argument."
     ]
    },
    {
     "cell_type": "heading",
     "level": 2,
     "metadata": {
      "slideshow": {
       "slide_type": "subslide"
      }
     },
     "source": [
      "Optimizing memory usage"
     ]
    },
    {
     "cell_type": "markdown",
     "metadata": {},
     "source": [
      "  * Many numpy functions provide an `out` argument (all ufuncs):\n",
      "     `arr += 1` is the same as `np.add(arr, 1, out=arr)`\n",
      "  * **Be careful** when using the `out`. *Only* use out when this is\n",
      "    **not** the same data. A common pitfall for example is:\n",
      "    \n",
      "    ``arr += arr.T``\n",
      "    \n",
      "    Since `arr.T` is a view, it is changed during the\n",
      "    operation $\\rightarrow$ **unpredictable results** (it might even work)\n",
      "    \n",
      "  \n",
      "  * A small view into a large array will keep the large array alive."
     ]
    },
    {
     "cell_type": "heading",
     "level": 2,
     "metadata": {
      "slideshow": {
       "slide_type": "subslide"
      }
     },
     "source": [
      "Datatypes"
     ]
    },
    {
     "cell_type": "markdown",
     "metadata": {},
     "source": [
      "* Unlike lists, arrays have a specific element type.\n",
      "* Be careful with integers:"
     ]
    },
    {
     "cell_type": "code",
     "collapsed": false,
     "input": [
      "arr = np.arange(10)  # either 32 or 64 bit!\n",
      "arr = arr.astype(np.int64)\n",
      "arr += 0.5  # Will be an error in the future!\n",
      "arr"
     ],
     "language": "python",
     "metadata": {},
     "outputs": [
      {
       "metadata": {},
       "output_type": "pyout",
       "prompt_number": 90,
       "text": [
        "array([0, 1, 2, 3, 4, 5, 6, 7, 8, 9])"
       ]
      }
     ],
     "prompt_number": 90
    },
    {
     "cell_type": "code",
     "collapsed": false,
     "input": [
      "arr + np.int64(2**63-1)"
     ],
     "language": "python",
     "metadata": {},
     "outputs": [
      {
       "metadata": {},
       "output_type": "pyout",
       "prompt_number": 91,
       "text": [
        "array([9223372036854775807, -9223372036854775808, -9223372036854775807,\n",
        "       -9223372036854775806, -9223372036854775805, -9223372036854775804,\n",
        "       -9223372036854775803, -9223372036854775802, -9223372036854775801,\n",
        "       -9223372036854775800])"
       ]
      }
     ],
     "prompt_number": 91
    },
    {
     "cell_type": "markdown",
     "metadata": {
      "slideshow": {
       "slide_type": "-"
      }
     },
     "source": [
      "Floats have finite precision. Especial float32 (single precision):"
     ]
    },
    {
     "cell_type": "code",
     "collapsed": false,
     "input": [
      "arr = np.ones((10**8, 2)).astype(np.float32)\n",
      "print(arr.mean(0))"
     ],
     "language": "python",
     "metadata": {},
     "outputs": [
      {
       "output_type": "stream",
       "stream": "stdout",
       "text": [
        "[ 0.16777216  0.16777216]\n"
       ]
      }
     ],
     "prompt_number": 92
    },
    {
     "cell_type": "heading",
     "level": 1,
     "metadata": {
      "slideshow": {
       "slide_type": "slide"
      }
     },
     "source": [
      "SciPy"
     ]
    },
    {
     "cell_type": "markdown",
     "metadata": {},
     "source": [
      "Scipy is a collection of many packages such as:\n",
      "\n",
      "* integrate: \tIntegration and ordinary differential equation solvers\n",
      "* interpolate: \tInterpolation and smoothing splines\n",
      "* linalg: \tLinear algebra\n",
      "* ndimage: \tN-dimensional image processing\n",
      "* optimize: \tOptimization and root-finding routines\n",
      "* signal: \tSignal processing\n",
      "* spatial: \tSpatial data structures and algorithms\n",
      "* stats: \tStatistical distributions and functions\n",
      "* \u2026"
     ]
    },
    {
     "cell_type": "heading",
     "level": 2,
     "metadata": {
      "slideshow": {
       "slide_type": "subslide"
      }
     },
     "source": [
      "Usage"
     ]
    },
    {
     "cell_type": "markdown",
     "metadata": {},
     "source": [
      "* Import a subpackage directly for example:\n",
      "  \n",
      "  * ``from scipy import integrate``\n",
      "  * ``from scipy.spatial import KDTree``\n",
      "\n",
      "* Documentation available at (also numpy): http://scipy.org\n",
      "  \n",
      "* Main namespace is (basically) just numpy $\\rightarrow$ do not use it."
     ]
    },
    {
     "cell_type": "heading",
     "level": 2,
     "metadata": {
      "slideshow": {
       "slide_type": "subslide"
      }
     },
     "source": [
      "Other packages"
     ]
    },
    {
     "cell_type": "markdown",
     "metadata": {},
     "source": [
      "1. SciPy is BSD license, but some packages (sometimes \"scikits\") are either to large or copyleft.\n",
      "2. The ecosystem is constantly growing.\n",
      "3. Some packages to keep in mind are for example:\n",
      "   * scikits-learn (`sklearn` as a package)\n",
      "   * scikits-image (`skimage`)\n",
      "   * networkx\n",
      "   * astropy\n",
      "   * statsmodels\n",
      "   * ..."
     ]
    },
    {
     "cell_type": "heading",
     "level": 1,
     "metadata": {
      "slideshow": {
       "slide_type": "slide"
      }
     },
     "source": [
      "Plotting with matplotlib"
     ]
    },
    {
     "cell_type": "code",
     "collapsed": false,
     "input": [
      "# In the ipython notebook, make it aware of matplotlib:\n",
      "%matplotlib nbagg\n",
      "import matplotlib"
     ],
     "language": "python",
     "metadata": {},
     "outputs": [],
     "prompt_number": 93
    },
    {
     "cell_type": "heading",
     "level": 3,
     "metadata": {
      "slideshow": {
       "slide_type": "subslide"
      }
     },
     "source": [
      "Pyplot interface"
     ]
    },
    {
     "cell_type": "code",
     "collapsed": false,
     "input": [
      "# Import interactive interface to matplotlib:\n",
      "from matplotlib import pyplot as plt"
     ],
     "language": "python",
     "metadata": {},
     "outputs": [],
     "prompt_number": 94
    },
    {
     "cell_type": "markdown",
     "metadata": {},
     "source": [
      "* Pyplot interface will \"remember\" the last figure you worked with\n",
      "* It will redraw automatically\n",
      "* convenient for most cases\n",
      "\n",
      "**But:**\n",
      "  * Complex things or GUI programming $\\rightarrow$ use the figure/axis objects directly.\n",
      "  * Please do not use `pylab`"
     ]
    },
    {
     "cell_type": "heading",
     "level": 2,
     "metadata": {
      "slideshow": {
       "slide_type": "subslide"
      }
     },
     "source": [
      "Plotting from a script, etc."
     ]
    },
    {
     "cell_type": "markdown",
     "metadata": {},
     "source": [
      "* *IPython notebook* like before or `ipython notebook --matplotlib=inline`\n",
      "* Run *IPython* with: `ipython --matplotlib`\n",
      "* In a script calling `plt.show()` will show all figures and pause the program\n",
      "* ``plt.savefig()`` or `figure.savefig()`` to save to almost arbitrary file types.\n",
      "* Animations are easy $\\rightarrow$ check the tutorials"
     ]
    },
    {
     "cell_type": "heading",
     "level": 2,
     "metadata": {
      "slideshow": {
       "slide_type": "subslide"
      }
     },
     "source": [
      "Simple plot examples:"
     ]
    },
    {
     "cell_type": "code",
     "collapsed": false,
     "input": [
      "plt.figure()\n",
      "x = np.linspace(0, 20, 301)\n",
      "plt.plot(x, np.sin(x), label='sine')\n",
      "plt.legend()\n",
      "plt.xlabel('$x$')\n",
      "plt.ylabel('$y$')"
     ],
     "language": "python",
     "metadata": {},
     "outputs": [
      {
       "javascript": [
        "/* Put everything inside the global mpl namespace */\n",
        "window.mpl = {};\n",
        "\n",
        "mpl.get_websocket_type = function() {\n",
        "    if (typeof(WebSocket) !== 'undefined') {\n",
        "        return WebSocket;\n",
        "    } else if (typeof(MozWebSocket) !== 'undefined') {\n",
        "        return MozWebSocket;\n",
        "    } else {\n",
        "        alert('Your browser does not have WebSocket support.' +\n",
        "              'Please try Chrome, Safari or Firefox \u2265 6. ' +\n",
        "              'Firefox 4 and 5 are also supported but you ' +\n",
        "              'have to enable WebSockets in about:config.');\n",
        "    };\n",
        "}\n",
        "\n",
        "mpl.figure = function(figure_id, websocket, ondownload, parent_element) {\n",
        "    this.id = figure_id;\n",
        "\n",
        "    this.ws = websocket;\n",
        "\n",
        "    this.supports_binary = (this.ws.binaryType != undefined);\n",
        "\n",
        "    if (!this.supports_binary) {\n",
        "        var warnings = document.getElementById(\"mpl-warnings\");\n",
        "        if (warnings) {\n",
        "            warnings.style.display = 'block';\n",
        "            warnings.textContent = (\n",
        "                \"This browser does not support binary websocket messages. \" +\n",
        "                    \"Performance may be slow.\");\n",
        "        }\n",
        "    }\n",
        "\n",
        "    this.imageObj = new Image();\n",
        "\n",
        "    this.context = undefined;\n",
        "    this.message = undefined;\n",
        "    this.canvas = undefined;\n",
        "    this.rubberband_canvas = undefined;\n",
        "    this.rubberband_context = undefined;\n",
        "    this.format_dropdown = undefined;\n",
        "\n",
        "    this.focus_on_mousover = false;\n",
        "    this.image_mode = 'full';\n",
        "\n",
        "    this.root = $('<div/>');\n",
        "    this.root.attr('style', 'display: inline-block');\n",
        "    $(parent_element).append(this.root);\n",
        "\n",
        "    this._init_header(this);\n",
        "    this._init_canvas(this);\n",
        "    this._init_toolbar(this);\n",
        "\n",
        "    var fig = this;\n",
        "\n",
        "    this.waiting = false;\n",
        "\n",
        "    this.ws.onopen =  function () {\n",
        "            fig.send_message(\"supports_binary\", {value: fig.supports_binary});\n",
        "            fig.send_message(\"send_image_mode\", {});\n",
        "            fig.send_message(\"refresh\", {});\n",
        "        }\n",
        "\n",
        "    this.imageObj.onload = function() {\n",
        "            if (fig.image_mode == 'full') {\n",
        "                // Full images could contain transparency (where diff images\n",
        "                // almost always do), so we need to clear the canvas so that\n",
        "                // there is no ghosting.\n",
        "                fig.context.clearRect(0, 0, fig.canvas.width, fig.canvas.height);\n",
        "            }\n",
        "            fig.context.drawImage(fig.imageObj, 0, 0);\n",
        "            fig.waiting = false;\n",
        "        };\n",
        "\n",
        "    this.imageObj.onunload = function() {\n",
        "        this.ws.close();\n",
        "    }\n",
        "\n",
        "    this.ws.onmessage = this._make_on_message_function(this);\n",
        "\n",
        "    this.ondownload = ondownload;\n",
        "}\n",
        "\n",
        "mpl.figure.prototype._init_header = function() {\n",
        "    var titlebar = $(\n",
        "        '<div class=\"ui-dialog-titlebar ui-widget-header ui-corner-all ' +\n",
        "        'ui-helper-clearfix\"/>');\n",
        "    var titletext = $(\n",
        "        '<div class=\"ui-dialog-title\" style=\"width: 100%; ' +\n",
        "        'text-align: center; padding: 3px;\"/>');\n",
        "    titlebar.append(titletext)\n",
        "    this.root.append(titlebar);\n",
        "    this.header = titletext[0];\n",
        "}\n",
        "\n",
        "mpl.figure.prototype._init_canvas = function() {\n",
        "    var fig = this;\n",
        "\n",
        "    var canvas_div = $('<div/>');\n",
        "    canvas_div.resizable({ resize: mpl.debounce_resize(\n",
        "        function(event, ui) { fig.request_resize(ui.size.width, ui.size.height); }\n",
        "        , 50)});\n",
        "\n",
        "    canvas_div.attr('style', 'position: relative; clear: both;');\n",
        "    this.root.append(canvas_div);\n",
        "\n",
        "    var canvas = $('<canvas/>');\n",
        "    canvas.addClass('mpl-canvas');\n",
        "    canvas.attr('style', \"left: 0; top: 0; z-index: 0;\")\n",
        "\n",
        "    function canvas_keyboard_event(event) {\n",
        "        return fig.key_event(event, event['data']);\n",
        "    }\n",
        "\n",
        "    this.canvas = canvas[0];\n",
        "    this.context = canvas[0].getContext(\"2d\");\n",
        "\n",
        "    var rubberband = $('<canvas/>');\n",
        "    rubberband.attr('style', \"position: absolute; left: 0; top: 0; z-index: 1;\")\n",
        "    function mouse_event_fn(event) {\n",
        "        return fig.mouse_event(event, event['data']);\n",
        "    }\n",
        "    rubberband.mousedown('button_press', mouse_event_fn);\n",
        "    rubberband.mouseup('button_release', mouse_event_fn);\n",
        "    // Throttle sequential mouse events to 1 every 20ms.\n",
        "    rubberband.mousemove('motion_notify', mouse_event_fn);\n",
        "\n",
        "    canvas_div.append(canvas);\n",
        "    canvas_div.append(rubberband);\n",
        "\n",
        "    canvas_div.keydown('key_press', canvas_keyboard_event);\n",
        "    canvas_div.keydown('key_release', canvas_keyboard_event);\n",
        "\n",
        "    this.rubberband = rubberband;\n",
        "    this.rubberband_canvas = rubberband[0];\n",
        "    this.rubberband_context = rubberband[0].getContext(\"2d\");\n",
        "    this.rubberband_context.strokeStyle = \"#000000\";\n",
        "\n",
        "    this._resize_canvas = function(width, height) {\n",
        "        // Keep the size of the canvas, canvas container, and rubber band\n",
        "        // canvas in synch.\n",
        "        canvas_div.css('width', width)\n",
        "        canvas_div.css('height', height)\n",
        "\n",
        "        canvas.attr('width', width);\n",
        "        canvas.attr('height', height);\n",
        "\n",
        "        rubberband.attr('width', width);\n",
        "        rubberband.attr('height', height);\n",
        "    }\n",
        "\n",
        "    // Set the figure to an initial 600x600px, this will subsequently be updated\n",
        "    // upon first draw.\n",
        "    this._resize_canvas(600, 600);\n",
        "}\n",
        "\n",
        "mpl.figure.prototype._init_toolbar = function() {\n",
        "    var fig = this;\n",
        "\n",
        "    var nav_element = $('<div/>')\n",
        "    nav_element.attr('style', 'width: 100%');\n",
        "    this.root.append(nav_element);\n",
        "\n",
        "    // Define a callback function for later on.\n",
        "    function toolbar_event(event) {\n",
        "        return fig.toolbar_button_onclick(event['data']);\n",
        "    }\n",
        "    function toolbar_mouse_event(event) {\n",
        "        return fig.toolbar_button_onmouseover(event['data']);\n",
        "    }\n",
        "\n",
        "    for(var toolbar_ind in mpl.toolbar_items){\n",
        "        var name = mpl.toolbar_items[toolbar_ind][0];\n",
        "        var tooltip = mpl.toolbar_items[toolbar_ind][1];\n",
        "        var image = mpl.toolbar_items[toolbar_ind][2];\n",
        "        var method_name = mpl.toolbar_items[toolbar_ind][3];\n",
        "\n",
        "        if (!name) {\n",
        "            // put a spacer in here.\n",
        "            continue;\n",
        "        }\n",
        "        var button = $('<button/>');\n",
        "        button.addClass('ui-button ui-widget ui-state-default ui-corner-all ' +\n",
        "                        'ui-button-icon-only');\n",
        "        button.attr('role', 'button');\n",
        "        button.attr('aria-disabled', 'false');\n",
        "        button.click(method_name, toolbar_event);\n",
        "        button.mouseover(tooltip, toolbar_mouse_event);\n",
        "\n",
        "        var icon_img = $('<span/>');\n",
        "        icon_img.addClass('ui-button-icon-primary ui-icon');\n",
        "        icon_img.addClass(image);\n",
        "        icon_img.addClass('ui-corner-all');\n",
        "\n",
        "        var tooltip_span = $('<span/>');\n",
        "        tooltip_span.addClass('ui-button-text');\n",
        "        tooltip_span.html(tooltip);\n",
        "\n",
        "        button.append(icon_img);\n",
        "        button.append(tooltip_span);\n",
        "\n",
        "        nav_element.append(button);\n",
        "    }\n",
        "\n",
        "    var fmt_picker_span = $('<span/>');\n",
        "\n",
        "    var fmt_picker = $('<select/>');\n",
        "    fmt_picker.addClass('mpl-toolbar-option ui-widget ui-widget-content');\n",
        "    fmt_picker_span.append(fmt_picker);\n",
        "    nav_element.append(fmt_picker_span);\n",
        "    this.format_dropdown = fmt_picker[0];\n",
        "\n",
        "    for (var ind in mpl.extensions) {\n",
        "        var fmt = mpl.extensions[ind];\n",
        "        var option = $(\n",
        "            '<option/>', {selected: fmt === mpl.default_extension}).html(fmt);\n",
        "        fmt_picker.append(option)\n",
        "    }\n",
        "\n",
        "    // Add hover states to the ui-buttons\n",
        "    $( \".ui-button\" ).hover(\n",
        "        function() { $(this).addClass(\"ui-state-hover\");},\n",
        "        function() { $(this).removeClass(\"ui-state-hover\");}\n",
        "    );\n",
        "\n",
        "    var status_bar = $('<span class=\"mpl-message\"/>');\n",
        "    nav_element.append(status_bar);\n",
        "    this.message = status_bar[0];\n",
        "}\n",
        "\n",
        "mpl.figure.prototype.request_resize = function(x_pixels, y_pixels) {\n",
        "    // Request matplotlib to resize the figure. Matplotlib will then trigger a resize in the client,\n",
        "    // which will in turn request a refresh of the image.\n",
        "    this.send_message('resize', {'width': x_pixels, 'height': y_pixels});\n",
        "}\n",
        "\n",
        "mpl.figure.prototype.send_message = function(type, properties) {\n",
        "    properties['type'] = type;\n",
        "    properties['figure_id'] = this.id;\n",
        "    this.ws.send(JSON.stringify(properties));\n",
        "}\n",
        "\n",
        "mpl.figure.prototype.send_draw_message = function() {\n",
        "    if (!this.waiting) {\n",
        "        this.waiting = true;\n",
        "        this.ws.send(JSON.stringify({type: \"draw\", figure_id: this.id}));\n",
        "    }\n",
        "}\n",
        "\n",
        "mpl.figure.prototype.handle_resize = function(fig, msg) {\n",
        "    var size = msg['size'];\n",
        "    if (size[0] != fig.canvas.width || size[1] != fig.canvas.height) {\n",
        "        fig._resize_canvas(size[0], size[1]);\n",
        "        fig.send_message(\"refresh\", {});\n",
        "    };\n",
        "}\n",
        "\n",
        "mpl.figure.prototype.handle_rubberband = function(fig, msg) {\n",
        "    var x0 = msg['x0'];\n",
        "    var y0 = fig.canvas.height - msg['y0'];\n",
        "    var x1 = msg['x1'];\n",
        "    var y1 = fig.canvas.height - msg['y1'];\n",
        "    x0 = Math.floor(x0) + 0.5;\n",
        "    y0 = Math.floor(y0) + 0.5;\n",
        "    x1 = Math.floor(x1) + 0.5;\n",
        "    y1 = Math.floor(y1) + 0.5;\n",
        "    var min_x = Math.min(x0, x1);\n",
        "    var min_y = Math.min(y0, y1);\n",
        "    var width = Math.abs(x1 - x0);\n",
        "    var height = Math.abs(y1 - y0);\n",
        "\n",
        "    fig.rubberband_context.clearRect(\n",
        "        0, 0, fig.canvas.width, fig.canvas.height);\n",
        "\n",
        "    fig.rubberband_context.strokeRect(min_x, min_y, width, height);\n",
        "}\n",
        "\n",
        "mpl.figure.prototype.handle_figure_label = function(fig, msg) {\n",
        "    // Updates the figure title.\n",
        "    fig.header.textContent = msg['label'];\n",
        "}\n",
        "\n",
        "mpl.figure.prototype.handle_cursor = function(fig, msg) {\n",
        "    var cursor = msg['cursor'];\n",
        "    switch(cursor)\n",
        "    {\n",
        "    case 0:\n",
        "        cursor = 'pointer';\n",
        "        break;\n",
        "    case 1:\n",
        "        cursor = 'default';\n",
        "        break;\n",
        "    case 2:\n",
        "        cursor = 'crosshair';\n",
        "        break;\n",
        "    case 3:\n",
        "        cursor = 'move';\n",
        "        break;\n",
        "    }\n",
        "    fig.rubberband_canvas.style.cursor = cursor;\n",
        "}\n",
        "\n",
        "mpl.figure.prototype.handle_message = function(fig, msg) {\n",
        "    fig.message.textContent = msg['message'];\n",
        "}\n",
        "\n",
        "mpl.figure.prototype.handle_draw = function(fig, msg) {\n",
        "    // Request the server to send over a new figure.\n",
        "    fig.send_draw_message();\n",
        "}\n",
        "\n",
        "mpl.figure.prototype.handle_image_mode = function(fig, msg) {\n",
        "    fig.image_mode = msg['mode'];\n",
        "}\n",
        "\n",
        "mpl.figure.prototype.updated_canvas_event = function() {\n",
        "    // Called whenever the canvas gets updated.\n",
        "    this.send_message(\"ack\", {});\n",
        "}\n",
        "\n",
        "// A function to construct a web socket function for onmessage handling.\n",
        "// Called in the figure constructor.\n",
        "mpl.figure.prototype._make_on_message_function = function(fig) {\n",
        "    return function socket_on_message(evt) {\n",
        "        if (evt.data instanceof Blob) {\n",
        "            /* FIXME: We get \"Resource interpreted as Image but\n",
        "             * transferred with MIME type text/plain:\" errors on\n",
        "             * Chrome.  But how to set the MIME type?  It doesn't seem\n",
        "             * to be part of the websocket stream */\n",
        "            evt.data.type = \"image/png\";\n",
        "\n",
        "            /* Free the memory for the previous frames */\n",
        "            if (fig.imageObj.src) {\n",
        "                (window.URL || window.webkitURL).revokeObjectURL(\n",
        "                    fig.imageObj.src);\n",
        "            }\n",
        "\n",
        "            fig.imageObj.src = (window.URL || window.webkitURL).createObjectURL(\n",
        "                evt.data);\n",
        "            fig.updated_canvas_event();\n",
        "            return;\n",
        "        }\n",
        "        else if (typeof evt.data === 'string' && evt.data.slice(0, 21) == \"data:image/png;base64\") {\n",
        "            fig.imageObj.src = evt.data;\n",
        "            fig.updated_canvas_event();\n",
        "            return;\n",
        "        }\n",
        "\n",
        "        var msg = JSON.parse(evt.data);\n",
        "        var msg_type = msg['type'];\n",
        "\n",
        "        // Call the  \"handle_{type}\" callback, which takes\n",
        "        // the figure and JSON message as its only arguments.\n",
        "        try {\n",
        "            var callback = fig[\"handle_\" + msg_type];\n",
        "        } catch (e) {\n",
        "            console.log(\"No handler for the '\" + msg_type + \"' message type: \", msg);\n",
        "            return;\n",
        "        }\n",
        "\n",
        "        if (callback) {\n",
        "            try {\n",
        "                // console.log(\"Handling '\" + msg_type + \"' message: \", msg);\n",
        "                callback(fig, msg);\n",
        "            } catch (e) {\n",
        "                console.log(\"Exception inside the 'handler_\" + msg_type + \"' callback:\", e, e.stack, msg);\n",
        "            }\n",
        "        }\n",
        "    };\n",
        "}\n",
        "\n",
        "// from http://stackoverflow.com/questions/1114465/getting-mouse-location-in-canvas\n",
        "mpl.findpos = function(e) {\n",
        "    //this section is from http://www.quirksmode.org/js/events_properties.html\n",
        "    var targ;\n",
        "    if (!e)\n",
        "        e = window.event;\n",
        "    if (e.target)\n",
        "        targ = e.target;\n",
        "    else if (e.srcElement)\n",
        "        targ = e.srcElement;\n",
        "    if (targ.nodeType == 3) // defeat Safari bug\n",
        "        targ = targ.parentNode;\n",
        "\n",
        "    // jQuery normalizes the pageX and pageY\n",
        "    // pageX,Y are the mouse positions relative to the document\n",
        "    // offset() returns the position of the element relative to the document\n",
        "    var x = e.pageX - $(targ).offset().left;\n",
        "    var y = e.pageY - $(targ).offset().top;\n",
        "\n",
        "    return {\"x\": x, \"y\": y};\n",
        "};\n",
        "\n",
        "mpl.figure.prototype.mouse_event = function(event, name) {\n",
        "    var canvas_pos = mpl.findpos(event)\n",
        "\n",
        "    if (this.focus_on_mouseover && name === 'motion_notify')\n",
        "    {\n",
        "        this.canvas.focus();\n",
        "    }\n",
        "\n",
        "    var x = canvas_pos.x;\n",
        "    var y = canvas_pos.y;\n",
        "\n",
        "    this.send_message(name, {x: x, y: y, button: event.button});\n",
        "\n",
        "    /* This prevents the web browser from automatically changing to\n",
        "     * the text insertion cursor when the button is pressed.  We want\n",
        "     * to control all of the cursor setting manually through the\n",
        "     * 'cursor' event from matplotlib */\n",
        "    event.preventDefault();\n",
        "    return false;\n",
        "}\n",
        "\n",
        "mpl.figure.prototype.key_event = function(event, name) {\n",
        "    /* Don't fire events just when a modifier is changed.  Modifiers are\n",
        "       sent along with other keys. */\n",
        "    if (event.keyCode >= 16 && event.keyCode <= 20) {\n",
        "        return;\n",
        "    }\n",
        "\n",
        "    value = '';\n",
        "    if (event.ctrlKey) {\n",
        "        value += \"ctrl+\";\n",
        "    }\n",
        "    if (event.altKey) {\n",
        "        value += \"alt+\";\n",
        "    }\n",
        "    value += String.fromCharCode(event.keyCode).toLowerCase();\n",
        "\n",
        "    this.send_message(name, {key: value});\n",
        "}\n",
        "\n",
        "mpl.figure.prototype.toolbar_button_onclick = function(name) {\n",
        "    if (name == 'download') {\n",
        "        var format_dropdown = this.format_dropdown;\n",
        "        var format = format_dropdown.options[format_dropdown.selectedIndex].value;\n",
        "        this.ondownload(this, format);\n",
        "    } else {\n",
        "        this.send_message(\"toolbar_button\", {name: name});\n",
        "    }\n",
        "};\n",
        "\n",
        "mpl.figure.prototype.toolbar_button_onmouseover = function(tooltip) {\n",
        "    this.message.textContent = tooltip;\n",
        "};\n",
        "\n",
        "mpl.debounce_event = function(func, time){\n",
        "    var timer;\n",
        "    return function(event){\n",
        "        clearTimeout(timer);\n",
        "        timer = setTimeout(function(){ func(event); }, time);\n",
        "    };\n",
        "}\n",
        "\n",
        "mpl.debounce_resize = function(func, time){\n",
        "    var timer;\n",
        "    return function(event, ui){\n",
        "        clearTimeout(timer);\n",
        "        timer = setTimeout(function(){ func(event, ui); }, time);\n",
        "    };\n",
        "}\n",
        "mpl.toolbar_items = [[\"Home\", \"Reset original view\", \"fa fa-home icon-home\", \"home\"], [\"Back\", \"Back to  previous view\", \"fa fa-arrow-left icon-arrow-left\", \"back\"], [\"Forward\", \"Forward to next view\", \"fa fa-arrow-right icon-arrow-right\", \"forward\"], [\"\", \"\", \"\", \"\"], [\"Pan\", \"Pan axes with left mouse, zoom with right\", \"fa fa-arrows icon-move\", \"pan\"], [\"Zoom\", \"Zoom to rectangle\", \"fa fa-square-o icon-check-empty\", \"zoom\"], [\"\", \"\", \"\", \"\"]];\n",
        "\n",
        "mpl.extensions = [\"eps\", \"jpeg\", \"pgf\", \"pdf\", \"png\", \"ps\", \"raw\", \"svg\", \"tif\"];\n",
        "\n",
        "mpl.default_extension = \"png\";var comm_websocket_adapter = function(comm) {\n",
        "    // Create a \"websocket\"-like object which calls the given IPython comm\n",
        "    // object with the appropriate methods. Currently this is a non binary\n",
        "    // socket, so there is still some room for performance tuning.\n",
        "    var ws = {};\n",
        "\n",
        "    ws.close = function() {\n",
        "        comm.close()\n",
        "    };\n",
        "    ws.send = function(m) {\n",
        "        //console.log('sending', m);\n",
        "        comm.send(m);\n",
        "    };\n",
        "    // Register the callback with on_msg.\n",
        "    comm.on_msg(function(msg) {\n",
        "        //console.log('receiving', msg['content']['data'], msg);\n",
        "        // Pass the mpl event to the overriden (by mpl) onmessage function.\n",
        "        ws.onmessage(msg['content']['data'])\n",
        "    });\n",
        "    return ws;\n",
        "}\n",
        "\n",
        "mpl.mpl_figure_comm = function(comm, msg) {\n",
        "    // This is the function which gets called when the mpl process\n",
        "    // starts-up an IPython Comm through the \"matplotlib\" channel.\n",
        "\n",
        "    var id = msg.content.data.id;\n",
        "    // Get hold of the div created by the display call when the Comm\n",
        "    // socket was opened in Python.\n",
        "    var element = $(\"#\" + id);\n",
        "    var ws_proxy = comm_websocket_adapter(comm)\n",
        "\n",
        "    var fig = new mpl.figure(id, ws_proxy,\n",
        "                           function() { },\n",
        "                           element.get(0));\n",
        "\n",
        "    // Call onopen now - mpl needs it, as it is assuming we've passed it a real\n",
        "    // web socket which is closed, not our websocket->open comm proxy.\n",
        "    ws_proxy.onopen();\n",
        "\n",
        "    fig.parent_element = element.get(0);\n",
        "    fig.cell_info = mpl.find_output_cell(\"<div id='\" + id + \"'></div>\");\n",
        "\n",
        "    var output_index = fig.cell_info[2]\n",
        "    var cell = fig.cell_info[0];\n",
        "\n",
        "    // Disable right mouse context menu.\n",
        "    $(fig.rubberband_canvas).bind(\"contextmenu\",function(e){\n",
        "        return false;\n",
        "    });\n",
        "\n",
        "};\n",
        "\n",
        "mpl.figure.prototype.handle_close = function(fig, msg) {\n",
        "    // Update the output cell to use the data from the current canvas.\n",
        "    fig.push_to_output();\n",
        "    var dataURL = fig.canvas.toDataURL();\n",
        "    // Re-enable the keyboard manager in IPython - without this line, in FF,\n",
        "    // the notebook keyboard shortcuts fail.\n",
        "    IPython.keyboard_manager.enable()\n",
        "    $(fig.parent_element).html('<img src=\"' + dataURL + '\">');\n",
        "    fig.send_message('closing', {});\n",
        "    fig.ws.close()\n",
        "}\n",
        "\n",
        "mpl.figure.prototype.push_to_output = function(remove_interactive) {\n",
        "    // Turn the data on the canvas into data in the output cell.\n",
        "    var dataURL = this.canvas.toDataURL();\n",
        "    this.cell_info[1]['text/html'] = '<img src=\"' + dataURL + '\">';\n",
        "}\n",
        "\n",
        "mpl.figure.prototype.updated_canvas_event = function() {\n",
        "    // Tell IPython that the notebook contents must change.\n",
        "    IPython.notebook.set_dirty(true);\n",
        "    this.send_message(\"ack\", {});\n",
        "    var fig = this;\n",
        "    // Wait a second, then push the new image to the DOM so\n",
        "    // that it is saved nicely (might be nice to debounce this).\n",
        "    setTimeout(function () { fig.push_to_output() }, 1000);\n",
        "}\n",
        "\n",
        "mpl.figure.prototype._init_toolbar = function() {\n",
        "    var fig = this;\n",
        "\n",
        "    var nav_element = $('<div/>')\n",
        "    nav_element.attr('style', 'width: 100%');\n",
        "    this.root.append(nav_element);\n",
        "\n",
        "    // Define a callback function for later on.\n",
        "    function toolbar_event(event) {\n",
        "        return fig.toolbar_button_onclick(event['data']);\n",
        "    }\n",
        "    function toolbar_mouse_event(event) {\n",
        "        return fig.toolbar_button_onmouseover(event['data']);\n",
        "    }\n",
        "\n",
        "    for(var toolbar_ind in mpl.toolbar_items){\n",
        "        var name = mpl.toolbar_items[toolbar_ind][0];\n",
        "        var tooltip = mpl.toolbar_items[toolbar_ind][1];\n",
        "        var image = mpl.toolbar_items[toolbar_ind][2];\n",
        "        var method_name = mpl.toolbar_items[toolbar_ind][3];\n",
        "\n",
        "        if (!name) { continue; };\n",
        "\n",
        "        var button = $('<button class=\"btn btn-default\" href=\"#\" title=\"' + name + '\"><i class=\"fa ' + image + ' fa-lg\"></i></button>');\n",
        "        button.click(method_name, toolbar_event);\n",
        "        button.mouseover(tooltip, toolbar_mouse_event);\n",
        "        nav_element.append(button);\n",
        "    }\n",
        "\n",
        "    // Add the status bar.\n",
        "    var status_bar = $('<span class=\"mpl-message\" style=\"text-align:right; float: right;\"/>');\n",
        "    nav_element.append(status_bar);\n",
        "    this.message = status_bar[0];\n",
        "\n",
        "    // Add the close button to the window.\n",
        "    var buttongrp = $('<div class=\"btn-group inline pull-right\"></div>');\n",
        "    var button = $('<button class=\"btn btn-mini btn-danger\" href=\"#\" title=\"Close figure\"><i class=\"fa fa-times icon-remove icon-large\"></i></button>');\n",
        "    button.click(function (evt) { fig.handle_close(fig, {}); } );\n",
        "    button.mouseover('Close figure', toolbar_mouse_event);\n",
        "    buttongrp.append(button);\n",
        "    var titlebar = this.root.find($('.ui-dialog-titlebar'));\n",
        "    titlebar.prepend(buttongrp);\n",
        "}\n",
        "\n",
        "mpl.find_output_cell = function(html_output) {\n",
        "    // Return the cell and output element which can be found *uniquely* in the notebook.\n",
        "    // Note - this is a bit hacky, but it is done because the \"notebook_saving.Notebook\"\n",
        "    // IPython event is triggered only after the cells have been serialised, which for\n",
        "    // our purposes (turning an active figure into a static one), is too late.\n",
        "    var cells = IPython.notebook.get_cells();\n",
        "    var ncells = cells.length;\n",
        "    for (var i=0; i<ncells; i++) {\n",
        "        var cell = cells[i];\n",
        "        if (cell.cell_type == 'code'){\n",
        "            for (var j=0; j<cell.output_area.outputs.length; j++) {\n",
        "                var data = cell.output_area.outputs[j];\n",
        "                if (cell.output_area.outputs[j]['text/html'] == html_output) {\n",
        "                    var output = cell.output_area.outputs[j];\n",
        "                    return [cell, output, j];\n",
        "                }\n",
        "            }\n",
        "        }\n",
        "    }\n",
        "}\n",
        "\n",
        "// Register the function which deals with the matplotlib target/channel.\n",
        "// The kernel may be null if the page has been refreshed.\n",
        "if (IPython.notebook.kernel != null) {\n",
        "    IPython.notebook.kernel.comm_manager.register_target('matplotlib', mpl.mpl_figure_comm);\n",
        "}\n"
       ],
       "metadata": {},
       "output_type": "display_data",
       "text": [
        "<IPython.core.display.Javascript at 0x7f24f9d5be50>"
       ]
      },
      {
       "html": [
        "<img src=\"data:image/png;base64,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\">"
       ],
       "metadata": {},
       "output_type": "display_data",
       "text": [
        "<IPython.core.display.HTML at 0x7f24f9d5bed0>"
       ]
      },
      {
       "metadata": {},
       "output_type": "pyout",
       "prompt_number": 95,
       "text": [
        "<matplotlib.text.Text at 0x7f24f9d80c10>"
       ]
      }
     ],
     "prompt_number": 95
    },
    {
     "cell_type": "code",
     "collapsed": false,
     "input": [
      "plt.figure()\n",
      "x = y = np.linspace(-3, 3, 101)\n",
      "plt.title('Gaussian function')\n",
      "values = np.exp(-(x**2 + (y[:, None] + 0.5)**2))\n",
      "plt.pcolormesh(x, y, values)\n",
      "plt.colorbar()"
     ],
     "language": "python",
     "metadata": {
      "slideshow": {
       "slide_type": "subslide"
      }
     },
     "outputs": [
      {
       "javascript": [
        "/* Put everything inside the global mpl namespace */\n",
        "window.mpl = {};\n",
        "\n",
        "mpl.get_websocket_type = function() {\n",
        "    if (typeof(WebSocket) !== 'undefined') {\n",
        "        return WebSocket;\n",
        "    } else if (typeof(MozWebSocket) !== 'undefined') {\n",
        "        return MozWebSocket;\n",
        "    } else {\n",
        "        alert('Your browser does not have WebSocket support.' +\n",
        "              'Please try Chrome, Safari or Firefox \u2265 6. ' +\n",
        "              'Firefox 4 and 5 are also supported but you ' +\n",
        "              'have to enable WebSockets in about:config.');\n",
        "    };\n",
        "}\n",
        "\n",
        "mpl.figure = function(figure_id, websocket, ondownload, parent_element) {\n",
        "    this.id = figure_id;\n",
        "\n",
        "    this.ws = websocket;\n",
        "\n",
        "    this.supports_binary = (this.ws.binaryType != undefined);\n",
        "\n",
        "    if (!this.supports_binary) {\n",
        "        var warnings = document.getElementById(\"mpl-warnings\");\n",
        "        if (warnings) {\n",
        "            warnings.style.display = 'block';\n",
        "            warnings.textContent = (\n",
        "                \"This browser does not support binary websocket messages. \" +\n",
        "                    \"Performance may be slow.\");\n",
        "        }\n",
        "    }\n",
        "\n",
        "    this.imageObj = new Image();\n",
        "\n",
        "    this.context = undefined;\n",
        "    this.message = undefined;\n",
        "    this.canvas = undefined;\n",
        "    this.rubberband_canvas = undefined;\n",
        "    this.rubberband_context = undefined;\n",
        "    this.format_dropdown = undefined;\n",
        "\n",
        "    this.focus_on_mousover = false;\n",
        "    this.image_mode = 'full';\n",
        "\n",
        "    this.root = $('<div/>');\n",
        "    this.root.attr('style', 'display: inline-block');\n",
        "    $(parent_element).append(this.root);\n",
        "\n",
        "    this._init_header(this);\n",
        "    this._init_canvas(this);\n",
        "    this._init_toolbar(this);\n",
        "\n",
        "    var fig = this;\n",
        "\n",
        "    this.waiting = false;\n",
        "\n",
        "    this.ws.onopen =  function () {\n",
        "            fig.send_message(\"supports_binary\", {value: fig.supports_binary});\n",
        "            fig.send_message(\"send_image_mode\", {});\n",
        "            fig.send_message(\"refresh\", {});\n",
        "        }\n",
        "\n",
        "    this.imageObj.onload = function() {\n",
        "            if (fig.image_mode == 'full') {\n",
        "                // Full images could contain transparency (where diff images\n",
        "                // almost always do), so we need to clear the canvas so that\n",
        "                // there is no ghosting.\n",
        "                fig.context.clearRect(0, 0, fig.canvas.width, fig.canvas.height);\n",
        "            }\n",
        "            fig.context.drawImage(fig.imageObj, 0, 0);\n",
        "            fig.waiting = false;\n",
        "        };\n",
        "\n",
        "    this.imageObj.onunload = function() {\n",
        "        this.ws.close();\n",
        "    }\n",
        "\n",
        "    this.ws.onmessage = this._make_on_message_function(this);\n",
        "\n",
        "    this.ondownload = ondownload;\n",
        "}\n",
        "\n",
        "mpl.figure.prototype._init_header = function() {\n",
        "    var titlebar = $(\n",
        "        '<div class=\"ui-dialog-titlebar ui-widget-header ui-corner-all ' +\n",
        "        'ui-helper-clearfix\"/>');\n",
        "    var titletext = $(\n",
        "        '<div class=\"ui-dialog-title\" style=\"width: 100%; ' +\n",
        "        'text-align: center; padding: 3px;\"/>');\n",
        "    titlebar.append(titletext)\n",
        "    this.root.append(titlebar);\n",
        "    this.header = titletext[0];\n",
        "}\n",
        "\n",
        "mpl.figure.prototype._init_canvas = function() {\n",
        "    var fig = this;\n",
        "\n",
        "    var canvas_div = $('<div/>');\n",
        "    canvas_div.resizable({ resize: mpl.debounce_resize(\n",
        "        function(event, ui) { fig.request_resize(ui.size.width, ui.size.height); }\n",
        "        , 50)});\n",
        "\n",
        "    canvas_div.attr('style', 'position: relative; clear: both;');\n",
        "    this.root.append(canvas_div);\n",
        "\n",
        "    var canvas = $('<canvas/>');\n",
        "    canvas.addClass('mpl-canvas');\n",
        "    canvas.attr('style', \"left: 0; top: 0; z-index: 0;\")\n",
        "\n",
        "    function canvas_keyboard_event(event) {\n",
        "        return fig.key_event(event, event['data']);\n",
        "    }\n",
        "\n",
        "    this.canvas = canvas[0];\n",
        "    this.context = canvas[0].getContext(\"2d\");\n",
        "\n",
        "    var rubberband = $('<canvas/>');\n",
        "    rubberband.attr('style', \"position: absolute; left: 0; top: 0; z-index: 1;\")\n",
        "    function mouse_event_fn(event) {\n",
        "        return fig.mouse_event(event, event['data']);\n",
        "    }\n",
        "    rubberband.mousedown('button_press', mouse_event_fn);\n",
        "    rubberband.mouseup('button_release', mouse_event_fn);\n",
        "    // Throttle sequential mouse events to 1 every 20ms.\n",
        "    rubberband.mousemove('motion_notify', mouse_event_fn);\n",
        "\n",
        "    canvas_div.append(canvas);\n",
        "    canvas_div.append(rubberband);\n",
        "\n",
        "    canvas_div.keydown('key_press', canvas_keyboard_event);\n",
        "    canvas_div.keydown('key_release', canvas_keyboard_event);\n",
        "\n",
        "    this.rubberband = rubberband;\n",
        "    this.rubberband_canvas = rubberband[0];\n",
        "    this.rubberband_context = rubberband[0].getContext(\"2d\");\n",
        "    this.rubberband_context.strokeStyle = \"#000000\";\n",
        "\n",
        "    this._resize_canvas = function(width, height) {\n",
        "        // Keep the size of the canvas, canvas container, and rubber band\n",
        "        // canvas in synch.\n",
        "        canvas_div.css('width', width)\n",
        "        canvas_div.css('height', height)\n",
        "\n",
        "        canvas.attr('width', width);\n",
        "        canvas.attr('height', height);\n",
        "\n",
        "        rubberband.attr('width', width);\n",
        "        rubberband.attr('height', height);\n",
        "    }\n",
        "\n",
        "    // Set the figure to an initial 600x600px, this will subsequently be updated\n",
        "    // upon first draw.\n",
        "    this._resize_canvas(600, 600);\n",
        "}\n",
        "\n",
        "mpl.figure.prototype._init_toolbar = function() {\n",
        "    var fig = this;\n",
        "\n",
        "    var nav_element = $('<div/>')\n",
        "    nav_element.attr('style', 'width: 100%');\n",
        "    this.root.append(nav_element);\n",
        "\n",
        "    // Define a callback function for later on.\n",
        "    function toolbar_event(event) {\n",
        "        return fig.toolbar_button_onclick(event['data']);\n",
        "    }\n",
        "    function toolbar_mouse_event(event) {\n",
        "        return fig.toolbar_button_onmouseover(event['data']);\n",
        "    }\n",
        "\n",
        "    for(var toolbar_ind in mpl.toolbar_items){\n",
        "        var name = mpl.toolbar_items[toolbar_ind][0];\n",
        "        var tooltip = mpl.toolbar_items[toolbar_ind][1];\n",
        "        var image = mpl.toolbar_items[toolbar_ind][2];\n",
        "        var method_name = mpl.toolbar_items[toolbar_ind][3];\n",
        "\n",
        "        if (!name) {\n",
        "            // put a spacer in here.\n",
        "            continue;\n",
        "        }\n",
        "        var button = $('<button/>');\n",
        "        button.addClass('ui-button ui-widget ui-state-default ui-corner-all ' +\n",
        "                        'ui-button-icon-only');\n",
        "        button.attr('role', 'button');\n",
        "        button.attr('aria-disabled', 'false');\n",
        "        button.click(method_name, toolbar_event);\n",
        "        button.mouseover(tooltip, toolbar_mouse_event);\n",
        "\n",
        "        var icon_img = $('<span/>');\n",
        "        icon_img.addClass('ui-button-icon-primary ui-icon');\n",
        "        icon_img.addClass(image);\n",
        "        icon_img.addClass('ui-corner-all');\n",
        "\n",
        "        var tooltip_span = $('<span/>');\n",
        "        tooltip_span.addClass('ui-button-text');\n",
        "        tooltip_span.html(tooltip);\n",
        "\n",
        "        button.append(icon_img);\n",
        "        button.append(tooltip_span);\n",
        "\n",
        "        nav_element.append(button);\n",
        "    }\n",
        "\n",
        "    var fmt_picker_span = $('<span/>');\n",
        "\n",
        "    var fmt_picker = $('<select/>');\n",
        "    fmt_picker.addClass('mpl-toolbar-option ui-widget ui-widget-content');\n",
        "    fmt_picker_span.append(fmt_picker);\n",
        "    nav_element.append(fmt_picker_span);\n",
        "    this.format_dropdown = fmt_picker[0];\n",
        "\n",
        "    for (var ind in mpl.extensions) {\n",
        "        var fmt = mpl.extensions[ind];\n",
        "        var option = $(\n",
        "            '<option/>', {selected: fmt === mpl.default_extension}).html(fmt);\n",
        "        fmt_picker.append(option)\n",
        "    }\n",
        "\n",
        "    // Add hover states to the ui-buttons\n",
        "    $( \".ui-button\" ).hover(\n",
        "        function() { $(this).addClass(\"ui-state-hover\");},\n",
        "        function() { $(this).removeClass(\"ui-state-hover\");}\n",
        "    );\n",
        "\n",
        "    var status_bar = $('<span class=\"mpl-message\"/>');\n",
        "    nav_element.append(status_bar);\n",
        "    this.message = status_bar[0];\n",
        "}\n",
        "\n",
        "mpl.figure.prototype.request_resize = function(x_pixels, y_pixels) {\n",
        "    // Request matplotlib to resize the figure. Matplotlib will then trigger a resize in the client,\n",
        "    // which will in turn request a refresh of the image.\n",
        "    this.send_message('resize', {'width': x_pixels, 'height': y_pixels});\n",
        "}\n",
        "\n",
        "mpl.figure.prototype.send_message = function(type, properties) {\n",
        "    properties['type'] = type;\n",
        "    properties['figure_id'] = this.id;\n",
        "    this.ws.send(JSON.stringify(properties));\n",
        "}\n",
        "\n",
        "mpl.figure.prototype.send_draw_message = function() {\n",
        "    if (!this.waiting) {\n",
        "        this.waiting = true;\n",
        "        this.ws.send(JSON.stringify({type: \"draw\", figure_id: this.id}));\n",
        "    }\n",
        "}\n",
        "\n",
        "mpl.figure.prototype.handle_resize = function(fig, msg) {\n",
        "    var size = msg['size'];\n",
        "    if (size[0] != fig.canvas.width || size[1] != fig.canvas.height) {\n",
        "        fig._resize_canvas(size[0], size[1]);\n",
        "        fig.send_message(\"refresh\", {});\n",
        "    };\n",
        "}\n",
        "\n",
        "mpl.figure.prototype.handle_rubberband = function(fig, msg) {\n",
        "    var x0 = msg['x0'];\n",
        "    var y0 = fig.canvas.height - msg['y0'];\n",
        "    var x1 = msg['x1'];\n",
        "    var y1 = fig.canvas.height - msg['y1'];\n",
        "    x0 = Math.floor(x0) + 0.5;\n",
        "    y0 = Math.floor(y0) + 0.5;\n",
        "    x1 = Math.floor(x1) + 0.5;\n",
        "    y1 = Math.floor(y1) + 0.5;\n",
        "    var min_x = Math.min(x0, x1);\n",
        "    var min_y = Math.min(y0, y1);\n",
        "    var width = Math.abs(x1 - x0);\n",
        "    var height = Math.abs(y1 - y0);\n",
        "\n",
        "    fig.rubberband_context.clearRect(\n",
        "        0, 0, fig.canvas.width, fig.canvas.height);\n",
        "\n",
        "    fig.rubberband_context.strokeRect(min_x, min_y, width, height);\n",
        "}\n",
        "\n",
        "mpl.figure.prototype.handle_figure_label = function(fig, msg) {\n",
        "    // Updates the figure title.\n",
        "    fig.header.textContent = msg['label'];\n",
        "}\n",
        "\n",
        "mpl.figure.prototype.handle_cursor = function(fig, msg) {\n",
        "    var cursor = msg['cursor'];\n",
        "    switch(cursor)\n",
        "    {\n",
        "    case 0:\n",
        "        cursor = 'pointer';\n",
        "        break;\n",
        "    case 1:\n",
        "        cursor = 'default';\n",
        "        break;\n",
        "    case 2:\n",
        "        cursor = 'crosshair';\n",
        "        break;\n",
        "    case 3:\n",
        "        cursor = 'move';\n",
        "        break;\n",
        "    }\n",
        "    fig.rubberband_canvas.style.cursor = cursor;\n",
        "}\n",
        "\n",
        "mpl.figure.prototype.handle_message = function(fig, msg) {\n",
        "    fig.message.textContent = msg['message'];\n",
        "}\n",
        "\n",
        "mpl.figure.prototype.handle_draw = function(fig, msg) {\n",
        "    // Request the server to send over a new figure.\n",
        "    fig.send_draw_message();\n",
        "}\n",
        "\n",
        "mpl.figure.prototype.handle_image_mode = function(fig, msg) {\n",
        "    fig.image_mode = msg['mode'];\n",
        "}\n",
        "\n",
        "mpl.figure.prototype.updated_canvas_event = function() {\n",
        "    // Called whenever the canvas gets updated.\n",
        "    this.send_message(\"ack\", {});\n",
        "}\n",
        "\n",
        "// A function to construct a web socket function for onmessage handling.\n",
        "// Called in the figure constructor.\n",
        "mpl.figure.prototype._make_on_message_function = function(fig) {\n",
        "    return function socket_on_message(evt) {\n",
        "        if (evt.data instanceof Blob) {\n",
        "            /* FIXME: We get \"Resource interpreted as Image but\n",
        "             * transferred with MIME type text/plain:\" errors on\n",
        "             * Chrome.  But how to set the MIME type?  It doesn't seem\n",
        "             * to be part of the websocket stream */\n",
        "            evt.data.type = \"image/png\";\n",
        "\n",
        "            /* Free the memory for the previous frames */\n",
        "            if (fig.imageObj.src) {\n",
        "                (window.URL || window.webkitURL).revokeObjectURL(\n",
        "                    fig.imageObj.src);\n",
        "            }\n",
        "\n",
        "            fig.imageObj.src = (window.URL || window.webkitURL).createObjectURL(\n",
        "                evt.data);\n",
        "            fig.updated_canvas_event();\n",
        "            return;\n",
        "        }\n",
        "        else if (typeof evt.data === 'string' && evt.data.slice(0, 21) == \"data:image/png;base64\") {\n",
        "            fig.imageObj.src = evt.data;\n",
        "            fig.updated_canvas_event();\n",
        "            return;\n",
        "        }\n",
        "\n",
        "        var msg = JSON.parse(evt.data);\n",
        "        var msg_type = msg['type'];\n",
        "\n",
        "        // Call the  \"handle_{type}\" callback, which takes\n",
        "        // the figure and JSON message as its only arguments.\n",
        "        try {\n",
        "            var callback = fig[\"handle_\" + msg_type];\n",
        "        } catch (e) {\n",
        "            console.log(\"No handler for the '\" + msg_type + \"' message type: \", msg);\n",
        "            return;\n",
        "        }\n",
        "\n",
        "        if (callback) {\n",
        "            try {\n",
        "                // console.log(\"Handling '\" + msg_type + \"' message: \", msg);\n",
        "                callback(fig, msg);\n",
        "            } catch (e) {\n",
        "                console.log(\"Exception inside the 'handler_\" + msg_type + \"' callback:\", e, e.stack, msg);\n",
        "            }\n",
        "        }\n",
        "    };\n",
        "}\n",
        "\n",
        "// from http://stackoverflow.com/questions/1114465/getting-mouse-location-in-canvas\n",
        "mpl.findpos = function(e) {\n",
        "    //this section is from http://www.quirksmode.org/js/events_properties.html\n",
        "    var targ;\n",
        "    if (!e)\n",
        "        e = window.event;\n",
        "    if (e.target)\n",
        "        targ = e.target;\n",
        "    else if (e.srcElement)\n",
        "        targ = e.srcElement;\n",
        "    if (targ.nodeType == 3) // defeat Safari bug\n",
        "        targ = targ.parentNode;\n",
        "\n",
        "    // jQuery normalizes the pageX and pageY\n",
        "    // pageX,Y are the mouse positions relative to the document\n",
        "    // offset() returns the position of the element relative to the document\n",
        "    var x = e.pageX - $(targ).offset().left;\n",
        "    var y = e.pageY - $(targ).offset().top;\n",
        "\n",
        "    return {\"x\": x, \"y\": y};\n",
        "};\n",
        "\n",
        "mpl.figure.prototype.mouse_event = function(event, name) {\n",
        "    var canvas_pos = mpl.findpos(event)\n",
        "\n",
        "    if (this.focus_on_mouseover && name === 'motion_notify')\n",
        "    {\n",
        "        this.canvas.focus();\n",
        "    }\n",
        "\n",
        "    var x = canvas_pos.x;\n",
        "    var y = canvas_pos.y;\n",
        "\n",
        "    this.send_message(name, {x: x, y: y, button: event.button});\n",
        "\n",
        "    /* This prevents the web browser from automatically changing to\n",
        "     * the text insertion cursor when the button is pressed.  We want\n",
        "     * to control all of the cursor setting manually through the\n",
        "     * 'cursor' event from matplotlib */\n",
        "    event.preventDefault();\n",
        "    return false;\n",
        "}\n",
        "\n",
        "mpl.figure.prototype.key_event = function(event, name) {\n",
        "    /* Don't fire events just when a modifier is changed.  Modifiers are\n",
        "       sent along with other keys. */\n",
        "    if (event.keyCode >= 16 && event.keyCode <= 20) {\n",
        "        return;\n",
        "    }\n",
        "\n",
        "    value = '';\n",
        "    if (event.ctrlKey) {\n",
        "        value += \"ctrl+\";\n",
        "    }\n",
        "    if (event.altKey) {\n",
        "        value += \"alt+\";\n",
        "    }\n",
        "    value += String.fromCharCode(event.keyCode).toLowerCase();\n",
        "\n",
        "    this.send_message(name, {key: value});\n",
        "}\n",
        "\n",
        "mpl.figure.prototype.toolbar_button_onclick = function(name) {\n",
        "    if (name == 'download') {\n",
        "        var format_dropdown = this.format_dropdown;\n",
        "        var format = format_dropdown.options[format_dropdown.selectedIndex].value;\n",
        "        this.ondownload(this, format);\n",
        "    } else {\n",
        "        this.send_message(\"toolbar_button\", {name: name});\n",
        "    }\n",
        "};\n",
        "\n",
        "mpl.figure.prototype.toolbar_button_onmouseover = function(tooltip) {\n",
        "    this.message.textContent = tooltip;\n",
        "};\n",
        "\n",
        "mpl.debounce_event = function(func, time){\n",
        "    var timer;\n",
        "    return function(event){\n",
        "        clearTimeout(timer);\n",
        "        timer = setTimeout(function(){ func(event); }, time);\n",
        "    };\n",
        "}\n",
        "\n",
        "mpl.debounce_resize = function(func, time){\n",
        "    var timer;\n",
        "    return function(event, ui){\n",
        "        clearTimeout(timer);\n",
        "        timer = setTimeout(function(){ func(event, ui); }, time);\n",
        "    };\n",
        "}\n",
        "mpl.toolbar_items = [[\"Home\", \"Reset original view\", \"fa fa-home icon-home\", \"home\"], [\"Back\", \"Back to  previous view\", \"fa fa-arrow-left icon-arrow-left\", \"back\"], [\"Forward\", \"Forward to next view\", \"fa fa-arrow-right icon-arrow-right\", \"forward\"], [\"\", \"\", \"\", \"\"], [\"Pan\", \"Pan axes with left mouse, zoom with right\", \"fa fa-arrows icon-move\", \"pan\"], [\"Zoom\", \"Zoom to rectangle\", \"fa fa-square-o icon-check-empty\", \"zoom\"], [\"\", \"\", \"\", \"\"]];\n",
        "\n",
        "mpl.extensions = [\"eps\", \"jpeg\", \"pgf\", \"pdf\", \"png\", \"ps\", \"raw\", \"svg\", \"tif\"];\n",
        "\n",
        "mpl.default_extension = \"png\";var comm_websocket_adapter = function(comm) {\n",
        "    // Create a \"websocket\"-like object which calls the given IPython comm\n",
        "    // object with the appropriate methods. Currently this is a non binary\n",
        "    // socket, so there is still some room for performance tuning.\n",
        "    var ws = {};\n",
        "\n",
        "    ws.close = function() {\n",
        "        comm.close()\n",
        "    };\n",
        "    ws.send = function(m) {\n",
        "        //console.log('sending', m);\n",
        "        comm.send(m);\n",
        "    };\n",
        "    // Register the callback with on_msg.\n",
        "    comm.on_msg(function(msg) {\n",
        "        //console.log('receiving', msg['content']['data'], msg);\n",
        "        // Pass the mpl event to the overriden (by mpl) onmessage function.\n",
        "        ws.onmessage(msg['content']['data'])\n",
        "    });\n",
        "    return ws;\n",
        "}\n",
        "\n",
        "mpl.mpl_figure_comm = function(comm, msg) {\n",
        "    // This is the function which gets called when the mpl process\n",
        "    // starts-up an IPython Comm through the \"matplotlib\" channel.\n",
        "\n",
        "    var id = msg.content.data.id;\n",
        "    // Get hold of the div created by the display call when the Comm\n",
        "    // socket was opened in Python.\n",
        "    var element = $(\"#\" + id);\n",
        "    var ws_proxy = comm_websocket_adapter(comm)\n",
        "\n",
        "    var fig = new mpl.figure(id, ws_proxy,\n",
        "                           function() { },\n",
        "                           element.get(0));\n",
        "\n",
        "    // Call onopen now - mpl needs it, as it is assuming we've passed it a real\n",
        "    // web socket which is closed, not our websocket->open comm proxy.\n",
        "    ws_proxy.onopen();\n",
        "\n",
        "    fig.parent_element = element.get(0);\n",
        "    fig.cell_info = mpl.find_output_cell(\"<div id='\" + id + \"'></div>\");\n",
        "\n",
        "    var output_index = fig.cell_info[2]\n",
        "    var cell = fig.cell_info[0];\n",
        "\n",
        "    // Disable right mouse context menu.\n",
        "    $(fig.rubberband_canvas).bind(\"contextmenu\",function(e){\n",
        "        return false;\n",
        "    });\n",
        "\n",
        "};\n",
        "\n",
        "mpl.figure.prototype.handle_close = function(fig, msg) {\n",
        "    // Update the output cell to use the data from the current canvas.\n",
        "    fig.push_to_output();\n",
        "    var dataURL = fig.canvas.toDataURL();\n",
        "    // Re-enable the keyboard manager in IPython - without this line, in FF,\n",
        "    // the notebook keyboard shortcuts fail.\n",
        "    IPython.keyboard_manager.enable()\n",
        "    $(fig.parent_element).html('<img src=\"' + dataURL + '\">');\n",
        "    fig.send_message('closing', {});\n",
        "    fig.ws.close()\n",
        "}\n",
        "\n",
        "mpl.figure.prototype.push_to_output = function(remove_interactive) {\n",
        "    // Turn the data on the canvas into data in the output cell.\n",
        "    var dataURL = this.canvas.toDataURL();\n",
        "    this.cell_info[1]['text/html'] = '<img src=\"' + dataURL + '\">';\n",
        "}\n",
        "\n",
        "mpl.figure.prototype.updated_canvas_event = function() {\n",
        "    // Tell IPython that the notebook contents must change.\n",
        "    IPython.notebook.set_dirty(true);\n",
        "    this.send_message(\"ack\", {});\n",
        "    var fig = this;\n",
        "    // Wait a second, then push the new image to the DOM so\n",
        "    // that it is saved nicely (might be nice to debounce this).\n",
        "    setTimeout(function () { fig.push_to_output() }, 1000);\n",
        "}\n",
        "\n",
        "mpl.figure.prototype._init_toolbar = function() {\n",
        "    var fig = this;\n",
        "\n",
        "    var nav_element = $('<div/>')\n",
        "    nav_element.attr('style', 'width: 100%');\n",
        "    this.root.append(nav_element);\n",
        "\n",
        "    // Define a callback function for later on.\n",
        "    function toolbar_event(event) {\n",
        "        return fig.toolbar_button_onclick(event['data']);\n",
        "    }\n",
        "    function toolbar_mouse_event(event) {\n",
        "        return fig.toolbar_button_onmouseover(event['data']);\n",
        "    }\n",
        "\n",
        "    for(var toolbar_ind in mpl.toolbar_items){\n",
        "        var name = mpl.toolbar_items[toolbar_ind][0];\n",
        "        var tooltip = mpl.toolbar_items[toolbar_ind][1];\n",
        "        var image = mpl.toolbar_items[toolbar_ind][2];\n",
        "        var method_name = mpl.toolbar_items[toolbar_ind][3];\n",
        "\n",
        "        if (!name) { continue; };\n",
        "\n",
        "        var button = $('<button class=\"btn btn-default\" href=\"#\" title=\"' + name + '\"><i class=\"fa ' + image + ' fa-lg\"></i></button>');\n",
        "        button.click(method_name, toolbar_event);\n",
        "        button.mouseover(tooltip, toolbar_mouse_event);\n",
        "        nav_element.append(button);\n",
        "    }\n",
        "\n",
        "    // Add the status bar.\n",
        "    var status_bar = $('<span class=\"mpl-message\" style=\"text-align:right; float: right;\"/>');\n",
        "    nav_element.append(status_bar);\n",
        "    this.message = status_bar[0];\n",
        "\n",
        "    // Add the close button to the window.\n",
        "    var buttongrp = $('<div class=\"btn-group inline pull-right\"></div>');\n",
        "    var button = $('<button class=\"btn btn-mini btn-danger\" href=\"#\" title=\"Close figure\"><i class=\"fa fa-times icon-remove icon-large\"></i></button>');\n",
        "    button.click(function (evt) { fig.handle_close(fig, {}); } );\n",
        "    button.mouseover('Close figure', toolbar_mouse_event);\n",
        "    buttongrp.append(button);\n",
        "    var titlebar = this.root.find($('.ui-dialog-titlebar'));\n",
        "    titlebar.prepend(buttongrp);\n",
        "}\n",
        "\n",
        "mpl.find_output_cell = function(html_output) {\n",
        "    // Return the cell and output element which can be found *uniquely* in the notebook.\n",
        "    // Note - this is a bit hacky, but it is done because the \"notebook_saving.Notebook\"\n",
        "    // IPython event is triggered only after the cells have been serialised, which for\n",
        "    // our purposes (turning an active figure into a static one), is too late.\n",
        "    var cells = IPython.notebook.get_cells();\n",
        "    var ncells = cells.length;\n",
        "    for (var i=0; i<ncells; i++) {\n",
        "        var cell = cells[i];\n",
        "        if (cell.cell_type == 'code'){\n",
        "            for (var j=0; j<cell.output_area.outputs.length; j++) {\n",
        "                var data = cell.output_area.outputs[j];\n",
        "                if (cell.output_area.outputs[j]['text/html'] == html_output) {\n",
        "                    var output = cell.output_area.outputs[j];\n",
        "                    return [cell, output, j];\n",
        "                }\n",
        "            }\n",
        "        }\n",
        "    }\n",
        "}\n",
        "\n",
        "// Register the function which deals with the matplotlib target/channel.\n",
        "// The kernel may be null if the page has been refreshed.\n",
        "if (IPython.notebook.kernel != null) {\n",
        "    IPython.notebook.kernel.comm_manager.register_target('matplotlib', mpl.mpl_figure_comm);\n",
        "}\n"
       ],
       "metadata": {},
       "output_type": "display_data",
       "text": [
        "<IPython.core.display.Javascript at 0x7f24f7d0dd90>"
       ]
      },
      {
       "html": [
        "<img src=\"data:image/png;base64,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\">"
       ],
       "metadata": {},
       "output_type": "display_data",
       "text": [
        "<IPython.core.display.HTML at 0x7f24f7d0d7d0>"
       ]
      },
      {
       "metadata": {},
       "output_type": "pyout",
       "prompt_number": 96,
       "text": [
        "<matplotlib.colorbar.Colorbar instance at 0x7f24f7bf69e0>"
       ]
      }
     ],
     "prompt_number": 96
    },
    {
     "cell_type": "code",
     "collapsed": false,
     "input": [
      "plt.figure()\n",
      "x = y = np.linspace(-3, 3, 101)\n",
      "plt.title('Gaussian function')\n",
      "values = np.exp(-(x**2 + (y[:, None] + 0.5)**2))\n",
      "plt.contour(x, y, values)"
     ],
     "language": "python",
     "metadata": {
      "slideshow": {
       "slide_type": "subslide"
      }
     },
     "outputs": [
      {
       "javascript": [
        "/* Put everything inside the global mpl namespace */\n",
        "window.mpl = {};\n",
        "\n",
        "mpl.get_websocket_type = function() {\n",
        "    if (typeof(WebSocket) !== 'undefined') {\n",
        "        return WebSocket;\n",
        "    } else if (typeof(MozWebSocket) !== 'undefined') {\n",
        "        return MozWebSocket;\n",
        "    } else {\n",
        "        alert('Your browser does not have WebSocket support.' +\n",
        "              'Please try Chrome, Safari or Firefox \u2265 6. ' +\n",
        "              'Firefox 4 and 5 are also supported but you ' +\n",
        "              'have to enable WebSockets in about:config.');\n",
        "    };\n",
        "}\n",
        "\n",
        "mpl.figure = function(figure_id, websocket, ondownload, parent_element) {\n",
        "    this.id = figure_id;\n",
        "\n",
        "    this.ws = websocket;\n",
        "\n",
        "    this.supports_binary = (this.ws.binaryType != undefined);\n",
        "\n",
        "    if (!this.supports_binary) {\n",
        "        var warnings = document.getElementById(\"mpl-warnings\");\n",
        "        if (warnings) {\n",
        "            warnings.style.display = 'block';\n",
        "            warnings.textContent = (\n",
        "                \"This browser does not support binary websocket messages. \" +\n",
        "                    \"Performance may be slow.\");\n",
        "        }\n",
        "    }\n",
        "\n",
        "    this.imageObj = new Image();\n",
        "\n",
        "    this.context = undefined;\n",
        "    this.message = undefined;\n",
        "    this.canvas = undefined;\n",
        "    this.rubberband_canvas = undefined;\n",
        "    this.rubberband_context = undefined;\n",
        "    this.format_dropdown = undefined;\n",
        "\n",
        "    this.focus_on_mousover = false;\n",
        "    this.image_mode = 'full';\n",
        "\n",
        "    this.root = $('<div/>');\n",
        "    this.root.attr('style', 'display: inline-block');\n",
        "    $(parent_element).append(this.root);\n",
        "\n",
        "    this._init_header(this);\n",
        "    this._init_canvas(this);\n",
        "    this._init_toolbar(this);\n",
        "\n",
        "    var fig = this;\n",
        "\n",
        "    this.waiting = false;\n",
        "\n",
        "    this.ws.onopen =  function () {\n",
        "            fig.send_message(\"supports_binary\", {value: fig.supports_binary});\n",
        "            fig.send_message(\"send_image_mode\", {});\n",
        "            fig.send_message(\"refresh\", {});\n",
        "        }\n",
        "\n",
        "    this.imageObj.onload = function() {\n",
        "            if (fig.image_mode == 'full') {\n",
        "                // Full images could contain transparency (where diff images\n",
        "                // almost always do), so we need to clear the canvas so that\n",
        "                // there is no ghosting.\n",
        "                fig.context.clearRect(0, 0, fig.canvas.width, fig.canvas.height);\n",
        "            }\n",
        "            fig.context.drawImage(fig.imageObj, 0, 0);\n",
        "            fig.waiting = false;\n",
        "        };\n",
        "\n",
        "    this.imageObj.onunload = function() {\n",
        "        this.ws.close();\n",
        "    }\n",
        "\n",
        "    this.ws.onmessage = this._make_on_message_function(this);\n",
        "\n",
        "    this.ondownload = ondownload;\n",
        "}\n",
        "\n",
        "mpl.figure.prototype._init_header = function() {\n",
        "    var titlebar = $(\n",
        "        '<div class=\"ui-dialog-titlebar ui-widget-header ui-corner-all ' +\n",
        "        'ui-helper-clearfix\"/>');\n",
        "    var titletext = $(\n",
        "        '<div class=\"ui-dialog-title\" style=\"width: 100%; ' +\n",
        "        'text-align: center; padding: 3px;\"/>');\n",
        "    titlebar.append(titletext)\n",
        "    this.root.append(titlebar);\n",
        "    this.header = titletext[0];\n",
        "}\n",
        "\n",
        "mpl.figure.prototype._init_canvas = function() {\n",
        "    var fig = this;\n",
        "\n",
        "    var canvas_div = $('<div/>');\n",
        "    canvas_div.resizable({ resize: mpl.debounce_resize(\n",
        "        function(event, ui) { fig.request_resize(ui.size.width, ui.size.height); }\n",
        "        , 50)});\n",
        "\n",
        "    canvas_div.attr('style', 'position: relative; clear: both;');\n",
        "    this.root.append(canvas_div);\n",
        "\n",
        "    var canvas = $('<canvas/>');\n",
        "    canvas.addClass('mpl-canvas');\n",
        "    canvas.attr('style', \"left: 0; top: 0; z-index: 0;\")\n",
        "\n",
        "    function canvas_keyboard_event(event) {\n",
        "        return fig.key_event(event, event['data']);\n",
        "    }\n",
        "\n",
        "    this.canvas = canvas[0];\n",
        "    this.context = canvas[0].getContext(\"2d\");\n",
        "\n",
        "    var rubberband = $('<canvas/>');\n",
        "    rubberband.attr('style', \"position: absolute; left: 0; top: 0; z-index: 1;\")\n",
        "    function mouse_event_fn(event) {\n",
        "        return fig.mouse_event(event, event['data']);\n",
        "    }\n",
        "    rubberband.mousedown('button_press', mouse_event_fn);\n",
        "    rubberband.mouseup('button_release', mouse_event_fn);\n",
        "    // Throttle sequential mouse events to 1 every 20ms.\n",
        "    rubberband.mousemove('motion_notify', mouse_event_fn);\n",
        "\n",
        "    canvas_div.append(canvas);\n",
        "    canvas_div.append(rubberband);\n",
        "\n",
        "    canvas_div.keydown('key_press', canvas_keyboard_event);\n",
        "    canvas_div.keydown('key_release', canvas_keyboard_event);\n",
        "\n",
        "    this.rubberband = rubberband;\n",
        "    this.rubberband_canvas = rubberband[0];\n",
        "    this.rubberband_context = rubberband[0].getContext(\"2d\");\n",
        "    this.rubberband_context.strokeStyle = \"#000000\";\n",
        "\n",
        "    this._resize_canvas = function(width, height) {\n",
        "        // Keep the size of the canvas, canvas container, and rubber band\n",
        "        // canvas in synch.\n",
        "        canvas_div.css('width', width)\n",
        "        canvas_div.css('height', height)\n",
        "\n",
        "        canvas.attr('width', width);\n",
        "        canvas.attr('height', height);\n",
        "\n",
        "        rubberband.attr('width', width);\n",
        "        rubberband.attr('height', height);\n",
        "    }\n",
        "\n",
        "    // Set the figure to an initial 600x600px, this will subsequently be updated\n",
        "    // upon first draw.\n",
        "    this._resize_canvas(600, 600);\n",
        "}\n",
        "\n",
        "mpl.figure.prototype._init_toolbar = function() {\n",
        "    var fig = this;\n",
        "\n",
        "    var nav_element = $('<div/>')\n",
        "    nav_element.attr('style', 'width: 100%');\n",
        "    this.root.append(nav_element);\n",
        "\n",
        "    // Define a callback function for later on.\n",
        "    function toolbar_event(event) {\n",
        "        return fig.toolbar_button_onclick(event['data']);\n",
        "    }\n",
        "    function toolbar_mouse_event(event) {\n",
        "        return fig.toolbar_button_onmouseover(event['data']);\n",
        "    }\n",
        "\n",
        "    for(var toolbar_ind in mpl.toolbar_items){\n",
        "        var name = mpl.toolbar_items[toolbar_ind][0];\n",
        "        var tooltip = mpl.toolbar_items[toolbar_ind][1];\n",
        "        var image = mpl.toolbar_items[toolbar_ind][2];\n",
        "        var method_name = mpl.toolbar_items[toolbar_ind][3];\n",
        "\n",
        "        if (!name) {\n",
        "            // put a spacer in here.\n",
        "            continue;\n",
        "        }\n",
        "        var button = $('<button/>');\n",
        "        button.addClass('ui-button ui-widget ui-state-default ui-corner-all ' +\n",
        "                        'ui-button-icon-only');\n",
        "        button.attr('role', 'button');\n",
        "        button.attr('aria-disabled', 'false');\n",
        "        button.click(method_name, toolbar_event);\n",
        "        button.mouseover(tooltip, toolbar_mouse_event);\n",
        "\n",
        "        var icon_img = $('<span/>');\n",
        "        icon_img.addClass('ui-button-icon-primary ui-icon');\n",
        "        icon_img.addClass(image);\n",
        "        icon_img.addClass('ui-corner-all');\n",
        "\n",
        "        var tooltip_span = $('<span/>');\n",
        "        tooltip_span.addClass('ui-button-text');\n",
        "        tooltip_span.html(tooltip);\n",
        "\n",
        "        button.append(icon_img);\n",
        "        button.append(tooltip_span);\n",
        "\n",
        "        nav_element.append(button);\n",
        "    }\n",
        "\n",
        "    var fmt_picker_span = $('<span/>');\n",
        "\n",
        "    var fmt_picker = $('<select/>');\n",
        "    fmt_picker.addClass('mpl-toolbar-option ui-widget ui-widget-content');\n",
        "    fmt_picker_span.append(fmt_picker);\n",
        "    nav_element.append(fmt_picker_span);\n",
        "    this.format_dropdown = fmt_picker[0];\n",
        "\n",
        "    for (var ind in mpl.extensions) {\n",
        "        var fmt = mpl.extensions[ind];\n",
        "        var option = $(\n",
        "            '<option/>', {selected: fmt === mpl.default_extension}).html(fmt);\n",
        "        fmt_picker.append(option)\n",
        "    }\n",
        "\n",
        "    // Add hover states to the ui-buttons\n",
        "    $( \".ui-button\" ).hover(\n",
        "        function() { $(this).addClass(\"ui-state-hover\");},\n",
        "        function() { $(this).removeClass(\"ui-state-hover\");}\n",
        "    );\n",
        "\n",
        "    var status_bar = $('<span class=\"mpl-message\"/>');\n",
        "    nav_element.append(status_bar);\n",
        "    this.message = status_bar[0];\n",
        "}\n",
        "\n",
        "mpl.figure.prototype.request_resize = function(x_pixels, y_pixels) {\n",
        "    // Request matplotlib to resize the figure. Matplotlib will then trigger a resize in the client,\n",
        "    // which will in turn request a refresh of the image.\n",
        "    this.send_message('resize', {'width': x_pixels, 'height': y_pixels});\n",
        "}\n",
        "\n",
        "mpl.figure.prototype.send_message = function(type, properties) {\n",
        "    properties['type'] = type;\n",
        "    properties['figure_id'] = this.id;\n",
        "    this.ws.send(JSON.stringify(properties));\n",
        "}\n",
        "\n",
        "mpl.figure.prototype.send_draw_message = function() {\n",
        "    if (!this.waiting) {\n",
        "        this.waiting = true;\n",
        "        this.ws.send(JSON.stringify({type: \"draw\", figure_id: this.id}));\n",
        "    }\n",
        "}\n",
        "\n",
        "mpl.figure.prototype.handle_resize = function(fig, msg) {\n",
        "    var size = msg['size'];\n",
        "    if (size[0] != fig.canvas.width || size[1] != fig.canvas.height) {\n",
        "        fig._resize_canvas(size[0], size[1]);\n",
        "        fig.send_message(\"refresh\", {});\n",
        "    };\n",
        "}\n",
        "\n",
        "mpl.figure.prototype.handle_rubberband = function(fig, msg) {\n",
        "    var x0 = msg['x0'];\n",
        "    var y0 = fig.canvas.height - msg['y0'];\n",
        "    var x1 = msg['x1'];\n",
        "    var y1 = fig.canvas.height - msg['y1'];\n",
        "    x0 = Math.floor(x0) + 0.5;\n",
        "    y0 = Math.floor(y0) + 0.5;\n",
        "    x1 = Math.floor(x1) + 0.5;\n",
        "    y1 = Math.floor(y1) + 0.5;\n",
        "    var min_x = Math.min(x0, x1);\n",
        "    var min_y = Math.min(y0, y1);\n",
        "    var width = Math.abs(x1 - x0);\n",
        "    var height = Math.abs(y1 - y0);\n",
        "\n",
        "    fig.rubberband_context.clearRect(\n",
        "        0, 0, fig.canvas.width, fig.canvas.height);\n",
        "\n",
        "    fig.rubberband_context.strokeRect(min_x, min_y, width, height);\n",
        "}\n",
        "\n",
        "mpl.figure.prototype.handle_figure_label = function(fig, msg) {\n",
        "    // Updates the figure title.\n",
        "    fig.header.textContent = msg['label'];\n",
        "}\n",
        "\n",
        "mpl.figure.prototype.handle_cursor = function(fig, msg) {\n",
        "    var cursor = msg['cursor'];\n",
        "    switch(cursor)\n",
        "    {\n",
        "    case 0:\n",
        "        cursor = 'pointer';\n",
        "        break;\n",
        "    case 1:\n",
        "        cursor = 'default';\n",
        "        break;\n",
        "    case 2:\n",
        "        cursor = 'crosshair';\n",
        "        break;\n",
        "    case 3:\n",
        "        cursor = 'move';\n",
        "        break;\n",
        "    }\n",
        "    fig.rubberband_canvas.style.cursor = cursor;\n",
        "}\n",
        "\n",
        "mpl.figure.prototype.handle_message = function(fig, msg) {\n",
        "    fig.message.textContent = msg['message'];\n",
        "}\n",
        "\n",
        "mpl.figure.prototype.handle_draw = function(fig, msg) {\n",
        "    // Request the server to send over a new figure.\n",
        "    fig.send_draw_message();\n",
        "}\n",
        "\n",
        "mpl.figure.prototype.handle_image_mode = function(fig, msg) {\n",
        "    fig.image_mode = msg['mode'];\n",
        "}\n",
        "\n",
        "mpl.figure.prototype.updated_canvas_event = function() {\n",
        "    // Called whenever the canvas gets updated.\n",
        "    this.send_message(\"ack\", {});\n",
        "}\n",
        "\n",
        "// A function to construct a web socket function for onmessage handling.\n",
        "// Called in the figure constructor.\n",
        "mpl.figure.prototype._make_on_message_function = function(fig) {\n",
        "    return function socket_on_message(evt) {\n",
        "        if (evt.data instanceof Blob) {\n",
        "            /* FIXME: We get \"Resource interpreted as Image but\n",
        "             * transferred with MIME type text/plain:\" errors on\n",
        "             * Chrome.  But how to set the MIME type?  It doesn't seem\n",
        "             * to be part of the websocket stream */\n",
        "            evt.data.type = \"image/png\";\n",
        "\n",
        "            /* Free the memory for the previous frames */\n",
        "            if (fig.imageObj.src) {\n",
        "                (window.URL || window.webkitURL).revokeObjectURL(\n",
        "                    fig.imageObj.src);\n",
        "            }\n",
        "\n",
        "            fig.imageObj.src = (window.URL || window.webkitURL).createObjectURL(\n",
        "                evt.data);\n",
        "            fig.updated_canvas_event();\n",
        "            return;\n",
        "        }\n",
        "        else if (typeof evt.data === 'string' && evt.data.slice(0, 21) == \"data:image/png;base64\") {\n",
        "            fig.imageObj.src = evt.data;\n",
        "            fig.updated_canvas_event();\n",
        "            return;\n",
        "        }\n",
        "\n",
        "        var msg = JSON.parse(evt.data);\n",
        "        var msg_type = msg['type'];\n",
        "\n",
        "        // Call the  \"handle_{type}\" callback, which takes\n",
        "        // the figure and JSON message as its only arguments.\n",
        "        try {\n",
        "            var callback = fig[\"handle_\" + msg_type];\n",
        "        } catch (e) {\n",
        "            console.log(\"No handler for the '\" + msg_type + \"' message type: \", msg);\n",
        "            return;\n",
        "        }\n",
        "\n",
        "        if (callback) {\n",
        "            try {\n",
        "                // console.log(\"Handling '\" + msg_type + \"' message: \", msg);\n",
        "                callback(fig, msg);\n",
        "            } catch (e) {\n",
        "                console.log(\"Exception inside the 'handler_\" + msg_type + \"' callback:\", e, e.stack, msg);\n",
        "            }\n",
        "        }\n",
        "    };\n",
        "}\n",
        "\n",
        "// from http://stackoverflow.com/questions/1114465/getting-mouse-location-in-canvas\n",
        "mpl.findpos = function(e) {\n",
        "    //this section is from http://www.quirksmode.org/js/events_properties.html\n",
        "    var targ;\n",
        "    if (!e)\n",
        "        e = window.event;\n",
        "    if (e.target)\n",
        "        targ = e.target;\n",
        "    else if (e.srcElement)\n",
        "        targ = e.srcElement;\n",
        "    if (targ.nodeType == 3) // defeat Safari bug\n",
        "        targ = targ.parentNode;\n",
        "\n",
        "    // jQuery normalizes the pageX and pageY\n",
        "    // pageX,Y are the mouse positions relative to the document\n",
        "    // offset() returns the position of the element relative to the document\n",
        "    var x = e.pageX - $(targ).offset().left;\n",
        "    var y = e.pageY - $(targ).offset().top;\n",
        "\n",
        "    return {\"x\": x, \"y\": y};\n",
        "};\n",
        "\n",
        "mpl.figure.prototype.mouse_event = function(event, name) {\n",
        "    var canvas_pos = mpl.findpos(event)\n",
        "\n",
        "    if (this.focus_on_mouseover && name === 'motion_notify')\n",
        "    {\n",
        "        this.canvas.focus();\n",
        "    }\n",
        "\n",
        "    var x = canvas_pos.x;\n",
        "    var y = canvas_pos.y;\n",
        "\n",
        "    this.send_message(name, {x: x, y: y, button: event.button});\n",
        "\n",
        "    /* This prevents the web browser from automatically changing to\n",
        "     * the text insertion cursor when the button is pressed.  We want\n",
        "     * to control all of the cursor setting manually through the\n",
        "     * 'cursor' event from matplotlib */\n",
        "    event.preventDefault();\n",
        "    return false;\n",
        "}\n",
        "\n",
        "mpl.figure.prototype.key_event = function(event, name) {\n",
        "    /* Don't fire events just when a modifier is changed.  Modifiers are\n",
        "       sent along with other keys. */\n",
        "    if (event.keyCode >= 16 && event.keyCode <= 20) {\n",
        "        return;\n",
        "    }\n",
        "\n",
        "    value = '';\n",
        "    if (event.ctrlKey) {\n",
        "        value += \"ctrl+\";\n",
        "    }\n",
        "    if (event.altKey) {\n",
        "        value += \"alt+\";\n",
        "    }\n",
        "    value += String.fromCharCode(event.keyCode).toLowerCase();\n",
        "\n",
        "    this.send_message(name, {key: value});\n",
        "}\n",
        "\n",
        "mpl.figure.prototype.toolbar_button_onclick = function(name) {\n",
        "    if (name == 'download') {\n",
        "        var format_dropdown = this.format_dropdown;\n",
        "        var format = format_dropdown.options[format_dropdown.selectedIndex].value;\n",
        "        this.ondownload(this, format);\n",
        "    } else {\n",
        "        this.send_message(\"toolbar_button\", {name: name});\n",
        "    }\n",
        "};\n",
        "\n",
        "mpl.figure.prototype.toolbar_button_onmouseover = function(tooltip) {\n",
        "    this.message.textContent = tooltip;\n",
        "};\n",
        "\n",
        "mpl.debounce_event = function(func, time){\n",
        "    var timer;\n",
        "    return function(event){\n",
        "        clearTimeout(timer);\n",
        "        timer = setTimeout(function(){ func(event); }, time);\n",
        "    };\n",
        "}\n",
        "\n",
        "mpl.debounce_resize = function(func, time){\n",
        "    var timer;\n",
        "    return function(event, ui){\n",
        "        clearTimeout(timer);\n",
        "        timer = setTimeout(function(){ func(event, ui); }, time);\n",
        "    };\n",
        "}\n",
        "mpl.toolbar_items = [[\"Home\", \"Reset original view\", \"fa fa-home icon-home\", \"home\"], [\"Back\", \"Back to  previous view\", \"fa fa-arrow-left icon-arrow-left\", \"back\"], [\"Forward\", \"Forward to next view\", \"fa fa-arrow-right icon-arrow-right\", \"forward\"], [\"\", \"\", \"\", \"\"], [\"Pan\", \"Pan axes with left mouse, zoom with right\", \"fa fa-arrows icon-move\", \"pan\"], [\"Zoom\", \"Zoom to rectangle\", \"fa fa-square-o icon-check-empty\", \"zoom\"], [\"\", \"\", \"\", \"\"]];\n",
        "\n",
        "mpl.extensions = [\"eps\", \"jpeg\", \"pgf\", \"pdf\", \"png\", \"ps\", \"raw\", \"svg\", \"tif\"];\n",
        "\n",
        "mpl.default_extension = \"png\";var comm_websocket_adapter = function(comm) {\n",
        "    // Create a \"websocket\"-like object which calls the given IPython comm\n",
        "    // object with the appropriate methods. Currently this is a non binary\n",
        "    // socket, so there is still some room for performance tuning.\n",
        "    var ws = {};\n",
        "\n",
        "    ws.close = function() {\n",
        "        comm.close()\n",
        "    };\n",
        "    ws.send = function(m) {\n",
        "        //console.log('sending', m);\n",
        "        comm.send(m);\n",
        "    };\n",
        "    // Register the callback with on_msg.\n",
        "    comm.on_msg(function(msg) {\n",
        "        //console.log('receiving', msg['content']['data'], msg);\n",
        "        // Pass the mpl event to the overriden (by mpl) onmessage function.\n",
        "        ws.onmessage(msg['content']['data'])\n",
        "    });\n",
        "    return ws;\n",
        "}\n",
        "\n",
        "mpl.mpl_figure_comm = function(comm, msg) {\n",
        "    // This is the function which gets called when the mpl process\n",
        "    // starts-up an IPython Comm through the \"matplotlib\" channel.\n",
        "\n",
        "    var id = msg.content.data.id;\n",
        "    // Get hold of the div created by the display call when the Comm\n",
        "    // socket was opened in Python.\n",
        "    var element = $(\"#\" + id);\n",
        "    var ws_proxy = comm_websocket_adapter(comm)\n",
        "\n",
        "    var fig = new mpl.figure(id, ws_proxy,\n",
        "                           function() { },\n",
        "                           element.get(0));\n",
        "\n",
        "    // Call onopen now - mpl needs it, as it is assuming we've passed it a real\n",
        "    // web socket which is closed, not our websocket->open comm proxy.\n",
        "    ws_proxy.onopen();\n",
        "\n",
        "    fig.parent_element = element.get(0);\n",
        "    fig.cell_info = mpl.find_output_cell(\"<div id='\" + id + \"'></div>\");\n",
        "\n",
        "    var output_index = fig.cell_info[2]\n",
        "    var cell = fig.cell_info[0];\n",
        "\n",
        "    // Disable right mouse context menu.\n",
        "    $(fig.rubberband_canvas).bind(\"contextmenu\",function(e){\n",
        "        return false;\n",
        "    });\n",
        "\n",
        "};\n",
        "\n",
        "mpl.figure.prototype.handle_close = function(fig, msg) {\n",
        "    // Update the output cell to use the data from the current canvas.\n",
        "    fig.push_to_output();\n",
        "    var dataURL = fig.canvas.toDataURL();\n",
        "    // Re-enable the keyboard manager in IPython - without this line, in FF,\n",
        "    // the notebook keyboard shortcuts fail.\n",
        "    IPython.keyboard_manager.enable()\n",
        "    $(fig.parent_element).html('<img src=\"' + dataURL + '\">');\n",
        "    fig.send_message('closing', {});\n",
        "    fig.ws.close()\n",
        "}\n",
        "\n",
        "mpl.figure.prototype.push_to_output = function(remove_interactive) {\n",
        "    // Turn the data on the canvas into data in the output cell.\n",
        "    var dataURL = this.canvas.toDataURL();\n",
        "    this.cell_info[1]['text/html'] = '<img src=\"' + dataURL + '\">';\n",
        "}\n",
        "\n",
        "mpl.figure.prototype.updated_canvas_event = function() {\n",
        "    // Tell IPython that the notebook contents must change.\n",
        "    IPython.notebook.set_dirty(true);\n",
        "    this.send_message(\"ack\", {});\n",
        "    var fig = this;\n",
        "    // Wait a second, then push the new image to the DOM so\n",
        "    // that it is saved nicely (might be nice to debounce this).\n",
        "    setTimeout(function () { fig.push_to_output() }, 1000);\n",
        "}\n",
        "\n",
        "mpl.figure.prototype._init_toolbar = function() {\n",
        "    var fig = this;\n",
        "\n",
        "    var nav_element = $('<div/>')\n",
        "    nav_element.attr('style', 'width: 100%');\n",
        "    this.root.append(nav_element);\n",
        "\n",
        "    // Define a callback function for later on.\n",
        "    function toolbar_event(event) {\n",
        "        return fig.toolbar_button_onclick(event['data']);\n",
        "    }\n",
        "    function toolbar_mouse_event(event) {\n",
        "        return fig.toolbar_button_onmouseover(event['data']);\n",
        "    }\n",
        "\n",
        "    for(var toolbar_ind in mpl.toolbar_items){\n",
        "        var name = mpl.toolbar_items[toolbar_ind][0];\n",
        "        var tooltip = mpl.toolbar_items[toolbar_ind][1];\n",
        "        var image = mpl.toolbar_items[toolbar_ind][2];\n",
        "        var method_name = mpl.toolbar_items[toolbar_ind][3];\n",
        "\n",
        "        if (!name) { continue; };\n",
        "\n",
        "        var button = $('<button class=\"btn btn-default\" href=\"#\" title=\"' + name + '\"><i class=\"fa ' + image + ' fa-lg\"></i></button>');\n",
        "        button.click(method_name, toolbar_event);\n",
        "        button.mouseover(tooltip, toolbar_mouse_event);\n",
        "        nav_element.append(button);\n",
        "    }\n",
        "\n",
        "    // Add the status bar.\n",
        "    var status_bar = $('<span class=\"mpl-message\" style=\"text-align:right; float: right;\"/>');\n",
        "    nav_element.append(status_bar);\n",
        "    this.message = status_bar[0];\n",
        "\n",
        "    // Add the close button to the window.\n",
        "    var buttongrp = $('<div class=\"btn-group inline pull-right\"></div>');\n",
        "    var button = $('<button class=\"btn btn-mini btn-danger\" href=\"#\" title=\"Close figure\"><i class=\"fa fa-times icon-remove icon-large\"></i></button>');\n",
        "    button.click(function (evt) { fig.handle_close(fig, {}); } );\n",
        "    button.mouseover('Close figure', toolbar_mouse_event);\n",
        "    buttongrp.append(button);\n",
        "    var titlebar = this.root.find($('.ui-dialog-titlebar'));\n",
        "    titlebar.prepend(buttongrp);\n",
        "}\n",
        "\n",
        "mpl.find_output_cell = function(html_output) {\n",
        "    // Return the cell and output element which can be found *uniquely* in the notebook.\n",
        "    // Note - this is a bit hacky, but it is done because the \"notebook_saving.Notebook\"\n",
        "    // IPython event is triggered only after the cells have been serialised, which for\n",
        "    // our purposes (turning an active figure into a static one), is too late.\n",
        "    var cells = IPython.notebook.get_cells();\n",
        "    var ncells = cells.length;\n",
        "    for (var i=0; i<ncells; i++) {\n",
        "        var cell = cells[i];\n",
        "        if (cell.cell_type == 'code'){\n",
        "            for (var j=0; j<cell.output_area.outputs.length; j++) {\n",
        "                var data = cell.output_area.outputs[j];\n",
        "                if (cell.output_area.outputs[j]['text/html'] == html_output) {\n",
        "                    var output = cell.output_area.outputs[j];\n",
        "                    return [cell, output, j];\n",
        "                }\n",
        "            }\n",
        "        }\n",
        "    }\n",
        "}\n",
        "\n",
        "// Register the function which deals with the matplotlib target/channel.\n",
        "// The kernel may be null if the page has been refreshed.\n",
        "if (IPython.notebook.kernel != null) {\n",
        "    IPython.notebook.kernel.comm_manager.register_target('matplotlib', mpl.mpl_figure_comm);\n",
        "}\n"
       ],
       "metadata": {},
       "output_type": "display_data",
       "text": [
        "<IPython.core.display.Javascript at 0x7f24f7badc50>"
       ]
      },
      {
       "html": [
        "<img src=\"data:image/png;base64,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\">"
       ],
       "metadata": {},
       "output_type": "display_data",
       "text": [
        "<IPython.core.display.HTML at 0x7f24f7bb5290>"
       ]
      },
      {
       "metadata": {},
       "output_type": "pyout",
       "prompt_number": 97,
       "text": [
        "<matplotlib.contour.QuadContourSet instance at 0x7f24f7c89ea8>"
       ]
      }
     ],
     "prompt_number": 97
    },
    {
     "cell_type": "code",
     "collapsed": false,
     "input": [
      "from scipy.stats import norm\n",
      "random = norm.rvs(size=10000)\n",
      "plt.hist(random, bins=20, label='Histogram')\n",
      "plt.legend()"
     ],
     "language": "python",
     "metadata": {
      "slideshow": {
       "slide_type": "subslide"
      }
     },
     "outputs": [
      {
       "metadata": {},
       "output_type": "pyout",
       "prompt_number": 98,
       "text": [
        "<matplotlib.legend.Legend at 0x7f24f9d5b690>"
       ]
      }
     ],
     "prompt_number": 98
    },
    {
     "cell_type": "code",
     "collapsed": false,
     "input": [
      "plt.figure()\n",
      "x = np.linspace(0, 20, 401)\n",
      "plt.subplot(2, 1, 1)\n",
      "plt.plot(x, np.sin(x))\n",
      "plt.subplot(2, 1, 2)\n",
      "plt.plot(x, np.sinc(x))"
     ],
     "language": "python",
     "metadata": {
      "slideshow": {
       "slide_type": "subslide"
      }
     },
     "outputs": [
      {
       "javascript": [
        "/* Put everything inside the global mpl namespace */\n",
        "window.mpl = {};\n",
        "\n",
        "mpl.get_websocket_type = function() {\n",
        "    if (typeof(WebSocket) !== 'undefined') {\n",
        "        return WebSocket;\n",
        "    } else if (typeof(MozWebSocket) !== 'undefined') {\n",
        "        return MozWebSocket;\n",
        "    } else {\n",
        "        alert('Your browser does not have WebSocket support.' +\n",
        "              'Please try Chrome, Safari or Firefox \u2265 6. ' +\n",
        "              'Firefox 4 and 5 are also supported but you ' +\n",
        "              'have to enable WebSockets in about:config.');\n",
        "    };\n",
        "}\n",
        "\n",
        "mpl.figure = function(figure_id, websocket, ondownload, parent_element) {\n",
        "    this.id = figure_id;\n",
        "\n",
        "    this.ws = websocket;\n",
        "\n",
        "    this.supports_binary = (this.ws.binaryType != undefined);\n",
        "\n",
        "    if (!this.supports_binary) {\n",
        "        var warnings = document.getElementById(\"mpl-warnings\");\n",
        "        if (warnings) {\n",
        "            warnings.style.display = 'block';\n",
        "            warnings.textContent = (\n",
        "                \"This browser does not support binary websocket messages. \" +\n",
        "                    \"Performance may be slow.\");\n",
        "        }\n",
        "    }\n",
        "\n",
        "    this.imageObj = new Image();\n",
        "\n",
        "    this.context = undefined;\n",
        "    this.message = undefined;\n",
        "    this.canvas = undefined;\n",
        "    this.rubberband_canvas = undefined;\n",
        "    this.rubberband_context = undefined;\n",
        "    this.format_dropdown = undefined;\n",
        "\n",
        "    this.focus_on_mousover = false;\n",
        "    this.image_mode = 'full';\n",
        "\n",
        "    this.root = $('<div/>');\n",
        "    this.root.attr('style', 'display: inline-block');\n",
        "    $(parent_element).append(this.root);\n",
        "\n",
        "    this._init_header(this);\n",
        "    this._init_canvas(this);\n",
        "    this._init_toolbar(this);\n",
        "\n",
        "    var fig = this;\n",
        "\n",
        "    this.waiting = false;\n",
        "\n",
        "    this.ws.onopen =  function () {\n",
        "            fig.send_message(\"supports_binary\", {value: fig.supports_binary});\n",
        "            fig.send_message(\"send_image_mode\", {});\n",
        "            fig.send_message(\"refresh\", {});\n",
        "        }\n",
        "\n",
        "    this.imageObj.onload = function() {\n",
        "            if (fig.image_mode == 'full') {\n",
        "                // Full images could contain transparency (where diff images\n",
        "                // almost always do), so we need to clear the canvas so that\n",
        "                // there is no ghosting.\n",
        "                fig.context.clearRect(0, 0, fig.canvas.width, fig.canvas.height);\n",
        "            }\n",
        "            fig.context.drawImage(fig.imageObj, 0, 0);\n",
        "            fig.waiting = false;\n",
        "        };\n",
        "\n",
        "    this.imageObj.onunload = function() {\n",
        "        this.ws.close();\n",
        "    }\n",
        "\n",
        "    this.ws.onmessage = this._make_on_message_function(this);\n",
        "\n",
        "    this.ondownload = ondownload;\n",
        "}\n",
        "\n",
        "mpl.figure.prototype._init_header = function() {\n",
        "    var titlebar = $(\n",
        "        '<div class=\"ui-dialog-titlebar ui-widget-header ui-corner-all ' +\n",
        "        'ui-helper-clearfix\"/>');\n",
        "    var titletext = $(\n",
        "        '<div class=\"ui-dialog-title\" style=\"width: 100%; ' +\n",
        "        'text-align: center; padding: 3px;\"/>');\n",
        "    titlebar.append(titletext)\n",
        "    this.root.append(titlebar);\n",
        "    this.header = titletext[0];\n",
        "}\n",
        "\n",
        "mpl.figure.prototype._init_canvas = function() {\n",
        "    var fig = this;\n",
        "\n",
        "    var canvas_div = $('<div/>');\n",
        "    canvas_div.resizable({ resize: mpl.debounce_resize(\n",
        "        function(event, ui) { fig.request_resize(ui.size.width, ui.size.height); }\n",
        "        , 50)});\n",
        "\n",
        "    canvas_div.attr('style', 'position: relative; clear: both;');\n",
        "    this.root.append(canvas_div);\n",
        "\n",
        "    var canvas = $('<canvas/>');\n",
        "    canvas.addClass('mpl-canvas');\n",
        "    canvas.attr('style', \"left: 0; top: 0; z-index: 0;\")\n",
        "\n",
        "    function canvas_keyboard_event(event) {\n",
        "        return fig.key_event(event, event['data']);\n",
        "    }\n",
        "\n",
        "    this.canvas = canvas[0];\n",
        "    this.context = canvas[0].getContext(\"2d\");\n",
        "\n",
        "    var rubberband = $('<canvas/>');\n",
        "    rubberband.attr('style', \"position: absolute; left: 0; top: 0; z-index: 1;\")\n",
        "    function mouse_event_fn(event) {\n",
        "        return fig.mouse_event(event, event['data']);\n",
        "    }\n",
        "    rubberband.mousedown('button_press', mouse_event_fn);\n",
        "    rubberband.mouseup('button_release', mouse_event_fn);\n",
        "    // Throttle sequential mouse events to 1 every 20ms.\n",
        "    rubberband.mousemove('motion_notify', mouse_event_fn);\n",
        "\n",
        "    canvas_div.append(canvas);\n",
        "    canvas_div.append(rubberband);\n",
        "\n",
        "    canvas_div.keydown('key_press', canvas_keyboard_event);\n",
        "    canvas_div.keydown('key_release', canvas_keyboard_event);\n",
        "\n",
        "    this.rubberband = rubberband;\n",
        "    this.rubberband_canvas = rubberband[0];\n",
        "    this.rubberband_context = rubberband[0].getContext(\"2d\");\n",
        "    this.rubberband_context.strokeStyle = \"#000000\";\n",
        "\n",
        "    this._resize_canvas = function(width, height) {\n",
        "        // Keep the size of the canvas, canvas container, and rubber band\n",
        "        // canvas in synch.\n",
        "        canvas_div.css('width', width)\n",
        "        canvas_div.css('height', height)\n",
        "\n",
        "        canvas.attr('width', width);\n",
        "        canvas.attr('height', height);\n",
        "\n",
        "        rubberband.attr('width', width);\n",
        "        rubberband.attr('height', height);\n",
        "    }\n",
        "\n",
        "    // Set the figure to an initial 600x600px, this will subsequently be updated\n",
        "    // upon first draw.\n",
        "    this._resize_canvas(600, 600);\n",
        "}\n",
        "\n",
        "mpl.figure.prototype._init_toolbar = function() {\n",
        "    var fig = this;\n",
        "\n",
        "    var nav_element = $('<div/>')\n",
        "    nav_element.attr('style', 'width: 100%');\n",
        "    this.root.append(nav_element);\n",
        "\n",
        "    // Define a callback function for later on.\n",
        "    function toolbar_event(event) {\n",
        "        return fig.toolbar_button_onclick(event['data']);\n",
        "    }\n",
        "    function toolbar_mouse_event(event) {\n",
        "        return fig.toolbar_button_onmouseover(event['data']);\n",
        "    }\n",
        "\n",
        "    for(var toolbar_ind in mpl.toolbar_items){\n",
        "        var name = mpl.toolbar_items[toolbar_ind][0];\n",
        "        var tooltip = mpl.toolbar_items[toolbar_ind][1];\n",
        "        var image = mpl.toolbar_items[toolbar_ind][2];\n",
        "        var method_name = mpl.toolbar_items[toolbar_ind][3];\n",
        "\n",
        "        if (!name) {\n",
        "            // put a spacer in here.\n",
        "            continue;\n",
        "        }\n",
        "        var button = $('<button/>');\n",
        "        button.addClass('ui-button ui-widget ui-state-default ui-corner-all ' +\n",
        "                        'ui-button-icon-only');\n",
        "        button.attr('role', 'button');\n",
        "        button.attr('aria-disabled', 'false');\n",
        "        button.click(method_name, toolbar_event);\n",
        "        button.mouseover(tooltip, toolbar_mouse_event);\n",
        "\n",
        "        var icon_img = $('<span/>');\n",
        "        icon_img.addClass('ui-button-icon-primary ui-icon');\n",
        "        icon_img.addClass(image);\n",
        "        icon_img.addClass('ui-corner-all');\n",
        "\n",
        "        var tooltip_span = $('<span/>');\n",
        "        tooltip_span.addClass('ui-button-text');\n",
        "        tooltip_span.html(tooltip);\n",
        "\n",
        "        button.append(icon_img);\n",
        "        button.append(tooltip_span);\n",
        "\n",
        "        nav_element.append(button);\n",
        "    }\n",
        "\n",
        "    var fmt_picker_span = $('<span/>');\n",
        "\n",
        "    var fmt_picker = $('<select/>');\n",
        "    fmt_picker.addClass('mpl-toolbar-option ui-widget ui-widget-content');\n",
        "    fmt_picker_span.append(fmt_picker);\n",
        "    nav_element.append(fmt_picker_span);\n",
        "    this.format_dropdown = fmt_picker[0];\n",
        "\n",
        "    for (var ind in mpl.extensions) {\n",
        "        var fmt = mpl.extensions[ind];\n",
        "        var option = $(\n",
        "            '<option/>', {selected: fmt === mpl.default_extension}).html(fmt);\n",
        "        fmt_picker.append(option)\n",
        "    }\n",
        "\n",
        "    // Add hover states to the ui-buttons\n",
        "    $( \".ui-button\" ).hover(\n",
        "        function() { $(this).addClass(\"ui-state-hover\");},\n",
        "        function() { $(this).removeClass(\"ui-state-hover\");}\n",
        "    );\n",
        "\n",
        "    var status_bar = $('<span class=\"mpl-message\"/>');\n",
        "    nav_element.append(status_bar);\n",
        "    this.message = status_bar[0];\n",
        "}\n",
        "\n",
        "mpl.figure.prototype.request_resize = function(x_pixels, y_pixels) {\n",
        "    // Request matplotlib to resize the figure. Matplotlib will then trigger a resize in the client,\n",
        "    // which will in turn request a refresh of the image.\n",
        "    this.send_message('resize', {'width': x_pixels, 'height': y_pixels});\n",
        "}\n",
        "\n",
        "mpl.figure.prototype.send_message = function(type, properties) {\n",
        "    properties['type'] = type;\n",
        "    properties['figure_id'] = this.id;\n",
        "    this.ws.send(JSON.stringify(properties));\n",
        "}\n",
        "\n",
        "mpl.figure.prototype.send_draw_message = function() {\n",
        "    if (!this.waiting) {\n",
        "        this.waiting = true;\n",
        "        this.ws.send(JSON.stringify({type: \"draw\", figure_id: this.id}));\n",
        "    }\n",
        "}\n",
        "\n",
        "mpl.figure.prototype.handle_resize = function(fig, msg) {\n",
        "    var size = msg['size'];\n",
        "    if (size[0] != fig.canvas.width || size[1] != fig.canvas.height) {\n",
        "        fig._resize_canvas(size[0], size[1]);\n",
        "        fig.send_message(\"refresh\", {});\n",
        "    };\n",
        "}\n",
        "\n",
        "mpl.figure.prototype.handle_rubberband = function(fig, msg) {\n",
        "    var x0 = msg['x0'];\n",
        "    var y0 = fig.canvas.height - msg['y0'];\n",
        "    var x1 = msg['x1'];\n",
        "    var y1 = fig.canvas.height - msg['y1'];\n",
        "    x0 = Math.floor(x0) + 0.5;\n",
        "    y0 = Math.floor(y0) + 0.5;\n",
        "    x1 = Math.floor(x1) + 0.5;\n",
        "    y1 = Math.floor(y1) + 0.5;\n",
        "    var min_x = Math.min(x0, x1);\n",
        "    var min_y = Math.min(y0, y1);\n",
        "    var width = Math.abs(x1 - x0);\n",
        "    var height = Math.abs(y1 - y0);\n",
        "\n",
        "    fig.rubberband_context.clearRect(\n",
        "        0, 0, fig.canvas.width, fig.canvas.height);\n",
        "\n",
        "    fig.rubberband_context.strokeRect(min_x, min_y, width, height);\n",
        "}\n",
        "\n",
        "mpl.figure.prototype.handle_figure_label = function(fig, msg) {\n",
        "    // Updates the figure title.\n",
        "    fig.header.textContent = msg['label'];\n",
        "}\n",
        "\n",
        "mpl.figure.prototype.handle_cursor = function(fig, msg) {\n",
        "    var cursor = msg['cursor'];\n",
        "    switch(cursor)\n",
        "    {\n",
        "    case 0:\n",
        "        cursor = 'pointer';\n",
        "        break;\n",
        "    case 1:\n",
        "        cursor = 'default';\n",
        "        break;\n",
        "    case 2:\n",
        "        cursor = 'crosshair';\n",
        "        break;\n",
        "    case 3:\n",
        "        cursor = 'move';\n",
        "        break;\n",
        "    }\n",
        "    fig.rubberband_canvas.style.cursor = cursor;\n",
        "}\n",
        "\n",
        "mpl.figure.prototype.handle_message = function(fig, msg) {\n",
        "    fig.message.textContent = msg['message'];\n",
        "}\n",
        "\n",
        "mpl.figure.prototype.handle_draw = function(fig, msg) {\n",
        "    // Request the server to send over a new figure.\n",
        "    fig.send_draw_message();\n",
        "}\n",
        "\n",
        "mpl.figure.prototype.handle_image_mode = function(fig, msg) {\n",
        "    fig.image_mode = msg['mode'];\n",
        "}\n",
        "\n",
        "mpl.figure.prototype.updated_canvas_event = function() {\n",
        "    // Called whenever the canvas gets updated.\n",
        "    this.send_message(\"ack\", {});\n",
        "}\n",
        "\n",
        "// A function to construct a web socket function for onmessage handling.\n",
        "// Called in the figure constructor.\n",
        "mpl.figure.prototype._make_on_message_function = function(fig) {\n",
        "    return function socket_on_message(evt) {\n",
        "        if (evt.data instanceof Blob) {\n",
        "            /* FIXME: We get \"Resource interpreted as Image but\n",
        "             * transferred with MIME type text/plain:\" errors on\n",
        "             * Chrome.  But how to set the MIME type?  It doesn't seem\n",
        "             * to be part of the websocket stream */\n",
        "            evt.data.type = \"image/png\";\n",
        "\n",
        "            /* Free the memory for the previous frames */\n",
        "            if (fig.imageObj.src) {\n",
        "                (window.URL || window.webkitURL).revokeObjectURL(\n",
        "                    fig.imageObj.src);\n",
        "            }\n",
        "\n",
        "            fig.imageObj.src = (window.URL || window.webkitURL).createObjectURL(\n",
        "                evt.data);\n",
        "            fig.updated_canvas_event();\n",
        "            return;\n",
        "        }\n",
        "        else if (typeof evt.data === 'string' && evt.data.slice(0, 21) == \"data:image/png;base64\") {\n",
        "            fig.imageObj.src = evt.data;\n",
        "            fig.updated_canvas_event();\n",
        "            return;\n",
        "        }\n",
        "\n",
        "        var msg = JSON.parse(evt.data);\n",
        "        var msg_type = msg['type'];\n",
        "\n",
        "        // Call the  \"handle_{type}\" callback, which takes\n",
        "        // the figure and JSON message as its only arguments.\n",
        "        try {\n",
        "            var callback = fig[\"handle_\" + msg_type];\n",
        "        } catch (e) {\n",
        "            console.log(\"No handler for the '\" + msg_type + \"' message type: \", msg);\n",
        "            return;\n",
        "        }\n",
        "\n",
        "        if (callback) {\n",
        "            try {\n",
        "                // console.log(\"Handling '\" + msg_type + \"' message: \", msg);\n",
        "                callback(fig, msg);\n",
        "            } catch (e) {\n",
        "                console.log(\"Exception inside the 'handler_\" + msg_type + \"' callback:\", e, e.stack, msg);\n",
        "            }\n",
        "        }\n",
        "    };\n",
        "}\n",
        "\n",
        "// from http://stackoverflow.com/questions/1114465/getting-mouse-location-in-canvas\n",
        "mpl.findpos = function(e) {\n",
        "    //this section is from http://www.quirksmode.org/js/events_properties.html\n",
        "    var targ;\n",
        "    if (!e)\n",
        "        e = window.event;\n",
        "    if (e.target)\n",
        "        targ = e.target;\n",
        "    else if (e.srcElement)\n",
        "        targ = e.srcElement;\n",
        "    if (targ.nodeType == 3) // defeat Safari bug\n",
        "        targ = targ.parentNode;\n",
        "\n",
        "    // jQuery normalizes the pageX and pageY\n",
        "    // pageX,Y are the mouse positions relative to the document\n",
        "    // offset() returns the position of the element relative to the document\n",
        "    var x = e.pageX - $(targ).offset().left;\n",
        "    var y = e.pageY - $(targ).offset().top;\n",
        "\n",
        "    return {\"x\": x, \"y\": y};\n",
        "};\n",
        "\n",
        "mpl.figure.prototype.mouse_event = function(event, name) {\n",
        "    var canvas_pos = mpl.findpos(event)\n",
        "\n",
        "    if (this.focus_on_mouseover && name === 'motion_notify')\n",
        "    {\n",
        "        this.canvas.focus();\n",
        "    }\n",
        "\n",
        "    var x = canvas_pos.x;\n",
        "    var y = canvas_pos.y;\n",
        "\n",
        "    this.send_message(name, {x: x, y: y, button: event.button});\n",
        "\n",
        "    /* This prevents the web browser from automatically changing to\n",
        "     * the text insertion cursor when the button is pressed.  We want\n",
        "     * to control all of the cursor setting manually through the\n",
        "     * 'cursor' event from matplotlib */\n",
        "    event.preventDefault();\n",
        "    return false;\n",
        "}\n",
        "\n",
        "mpl.figure.prototype.key_event = function(event, name) {\n",
        "    /* Don't fire events just when a modifier is changed.  Modifiers are\n",
        "       sent along with other keys. */\n",
        "    if (event.keyCode >= 16 && event.keyCode <= 20) {\n",
        "        return;\n",
        "    }\n",
        "\n",
        "    value = '';\n",
        "    if (event.ctrlKey) {\n",
        "        value += \"ctrl+\";\n",
        "    }\n",
        "    if (event.altKey) {\n",
        "        value += \"alt+\";\n",
        "    }\n",
        "    value += String.fromCharCode(event.keyCode).toLowerCase();\n",
        "\n",
        "    this.send_message(name, {key: value});\n",
        "}\n",
        "\n",
        "mpl.figure.prototype.toolbar_button_onclick = function(name) {\n",
        "    if (name == 'download') {\n",
        "        var format_dropdown = this.format_dropdown;\n",
        "        var format = format_dropdown.options[format_dropdown.selectedIndex].value;\n",
        "        this.ondownload(this, format);\n",
        "    } else {\n",
        "        this.send_message(\"toolbar_button\", {name: name});\n",
        "    }\n",
        "};\n",
        "\n",
        "mpl.figure.prototype.toolbar_button_onmouseover = function(tooltip) {\n",
        "    this.message.textContent = tooltip;\n",
        "};\n",
        "\n",
        "mpl.debounce_event = function(func, time){\n",
        "    var timer;\n",
        "    return function(event){\n",
        "        clearTimeout(timer);\n",
        "        timer = setTimeout(function(){ func(event); }, time);\n",
        "    };\n",
        "}\n",
        "\n",
        "mpl.debounce_resize = function(func, time){\n",
        "    var timer;\n",
        "    return function(event, ui){\n",
        "        clearTimeout(timer);\n",
        "        timer = setTimeout(function(){ func(event, ui); }, time);\n",
        "    };\n",
        "}\n",
        "mpl.toolbar_items = [[\"Home\", \"Reset original view\", \"fa fa-home icon-home\", \"home\"], [\"Back\", \"Back to  previous view\", \"fa fa-arrow-left icon-arrow-left\", \"back\"], [\"Forward\", \"Forward to next view\", \"fa fa-arrow-right icon-arrow-right\", \"forward\"], [\"\", \"\", \"\", \"\"], [\"Pan\", \"Pan axes with left mouse, zoom with right\", \"fa fa-arrows icon-move\", \"pan\"], [\"Zoom\", \"Zoom to rectangle\", \"fa fa-square-o icon-check-empty\", \"zoom\"], [\"\", \"\", \"\", \"\"]];\n",
        "\n",
        "mpl.extensions = [\"eps\", \"jpeg\", \"pgf\", \"pdf\", \"png\", \"ps\", \"raw\", \"svg\", \"tif\"];\n",
        "\n",
        "mpl.default_extension = \"png\";var comm_websocket_adapter = function(comm) {\n",
        "    // Create a \"websocket\"-like object which calls the given IPython comm\n",
        "    // object with the appropriate methods. Currently this is a non binary\n",
        "    // socket, so there is still some room for performance tuning.\n",
        "    var ws = {};\n",
        "\n",
        "    ws.close = function() {\n",
        "        comm.close()\n",
        "    };\n",
        "    ws.send = function(m) {\n",
        "        //console.log('sending', m);\n",
        "        comm.send(m);\n",
        "    };\n",
        "    // Register the callback with on_msg.\n",
        "    comm.on_msg(function(msg) {\n",
        "        //console.log('receiving', msg['content']['data'], msg);\n",
        "        // Pass the mpl event to the overriden (by mpl) onmessage function.\n",
        "        ws.onmessage(msg['content']['data'])\n",
        "    });\n",
        "    return ws;\n",
        "}\n",
        "\n",
        "mpl.mpl_figure_comm = function(comm, msg) {\n",
        "    // This is the function which gets called when the mpl process\n",
        "    // starts-up an IPython Comm through the \"matplotlib\" channel.\n",
        "\n",
        "    var id = msg.content.data.id;\n",
        "    // Get hold of the div created by the display call when the Comm\n",
        "    // socket was opened in Python.\n",
        "    var element = $(\"#\" + id);\n",
        "    var ws_proxy = comm_websocket_adapter(comm)\n",
        "\n",
        "    var fig = new mpl.figure(id, ws_proxy,\n",
        "                           function() { },\n",
        "                           element.get(0));\n",
        "\n",
        "    // Call onopen now - mpl needs it, as it is assuming we've passed it a real\n",
        "    // web socket which is closed, not our websocket->open comm proxy.\n",
        "    ws_proxy.onopen();\n",
        "\n",
        "    fig.parent_element = element.get(0);\n",
        "    fig.cell_info = mpl.find_output_cell(\"<div id='\" + id + \"'></div>\");\n",
        "\n",
        "    var output_index = fig.cell_info[2]\n",
        "    var cell = fig.cell_info[0];\n",
        "\n",
        "    // Disable right mouse context menu.\n",
        "    $(fig.rubberband_canvas).bind(\"contextmenu\",function(e){\n",
        "        return false;\n",
        "    });\n",
        "\n",
        "};\n",
        "\n",
        "mpl.figure.prototype.handle_close = function(fig, msg) {\n",
        "    // Update the output cell to use the data from the current canvas.\n",
        "    fig.push_to_output();\n",
        "    var dataURL = fig.canvas.toDataURL();\n",
        "    // Re-enable the keyboard manager in IPython - without this line, in FF,\n",
        "    // the notebook keyboard shortcuts fail.\n",
        "    IPython.keyboard_manager.enable()\n",
        "    $(fig.parent_element).html('<img src=\"' + dataURL + '\">');\n",
        "    fig.send_message('closing', {});\n",
        "    fig.ws.close()\n",
        "}\n",
        "\n",
        "mpl.figure.prototype.push_to_output = function(remove_interactive) {\n",
        "    // Turn the data on the canvas into data in the output cell.\n",
        "    var dataURL = this.canvas.toDataURL();\n",
        "    this.cell_info[1]['text/html'] = '<img src=\"' + dataURL + '\">';\n",
        "}\n",
        "\n",
        "mpl.figure.prototype.updated_canvas_event = function() {\n",
        "    // Tell IPython that the notebook contents must change.\n",
        "    IPython.notebook.set_dirty(true);\n",
        "    this.send_message(\"ack\", {});\n",
        "    var fig = this;\n",
        "    // Wait a second, then push the new image to the DOM so\n",
        "    // that it is saved nicely (might be nice to debounce this).\n",
        "    setTimeout(function () { fig.push_to_output() }, 1000);\n",
        "}\n",
        "\n",
        "mpl.figure.prototype._init_toolbar = function() {\n",
        "    var fig = this;\n",
        "\n",
        "    var nav_element = $('<div/>')\n",
        "    nav_element.attr('style', 'width: 100%');\n",
        "    this.root.append(nav_element);\n",
        "\n",
        "    // Define a callback function for later on.\n",
        "    function toolbar_event(event) {\n",
        "        return fig.toolbar_button_onclick(event['data']);\n",
        "    }\n",
        "    function toolbar_mouse_event(event) {\n",
        "        return fig.toolbar_button_onmouseover(event['data']);\n",
        "    }\n",
        "\n",
        "    for(var toolbar_ind in mpl.toolbar_items){\n",
        "        var name = mpl.toolbar_items[toolbar_ind][0];\n",
        "        var tooltip = mpl.toolbar_items[toolbar_ind][1];\n",
        "        var image = mpl.toolbar_items[toolbar_ind][2];\n",
        "        var method_name = mpl.toolbar_items[toolbar_ind][3];\n",
        "\n",
        "        if (!name) { continue; };\n",
        "\n",
        "        var button = $('<button class=\"btn btn-default\" href=\"#\" title=\"' + name + '\"><i class=\"fa ' + image + ' fa-lg\"></i></button>');\n",
        "        button.click(method_name, toolbar_event);\n",
        "        button.mouseover(tooltip, toolbar_mouse_event);\n",
        "        nav_element.append(button);\n",
        "    }\n",
        "\n",
        "    // Add the status bar.\n",
        "    var status_bar = $('<span class=\"mpl-message\" style=\"text-align:right; float: right;\"/>');\n",
        "    nav_element.append(status_bar);\n",
        "    this.message = status_bar[0];\n",
        "\n",
        "    // Add the close button to the window.\n",
        "    var buttongrp = $('<div class=\"btn-group inline pull-right\"></div>');\n",
        "    var button = $('<button class=\"btn btn-mini btn-danger\" href=\"#\" title=\"Close figure\"><i class=\"fa fa-times icon-remove icon-large\"></i></button>');\n",
        "    button.click(function (evt) { fig.handle_close(fig, {}); } );\n",
        "    button.mouseover('Close figure', toolbar_mouse_event);\n",
        "    buttongrp.append(button);\n",
        "    var titlebar = this.root.find($('.ui-dialog-titlebar'));\n",
        "    titlebar.prepend(buttongrp);\n",
        "}\n",
        "\n",
        "mpl.find_output_cell = function(html_output) {\n",
        "    // Return the cell and output element which can be found *uniquely* in the notebook.\n",
        "    // Note - this is a bit hacky, but it is done because the \"notebook_saving.Notebook\"\n",
        "    // IPython event is triggered only after the cells have been serialised, which for\n",
        "    // our purposes (turning an active figure into a static one), is too late.\n",
        "    var cells = IPython.notebook.get_cells();\n",
        "    var ncells = cells.length;\n",
        "    for (var i=0; i<ncells; i++) {\n",
        "        var cell = cells[i];\n",
        "        if (cell.cell_type == 'code'){\n",
        "            for (var j=0; j<cell.output_area.outputs.length; j++) {\n",
        "                var data = cell.output_area.outputs[j];\n",
        "                if (cell.output_area.outputs[j]['text/html'] == html_output) {\n",
        "                    var output = cell.output_area.outputs[j];\n",
        "                    return [cell, output, j];\n",
        "                }\n",
        "            }\n",
        "        }\n",
        "    }\n",
        "}\n",
        "\n",
        "// Register the function which deals with the matplotlib target/channel.\n",
        "// The kernel may be null if the page has been refreshed.\n",
        "if (IPython.notebook.kernel != null) {\n",
        "    IPython.notebook.kernel.comm_manager.register_target('matplotlib', mpl.mpl_figure_comm);\n",
        "}\n"
       ],
       "metadata": {},
       "output_type": "display_data",
       "text": [
        "<IPython.core.display.Javascript at 0x7f24f279c990>"
       ]
      },
      {
       "html": [
        "<img src=\"data:image/png;base64,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\">"
       ],
       "metadata": {},
       "output_type": "display_data",
       "text": [
        "<IPython.core.display.HTML at 0x7f24f279cf90>"
       ]
      },
      {
       "metadata": {},
       "output_type": "pyout",
       "prompt_number": 99,
       "text": [
        "[<matplotlib.lines.Line2D at 0x7f24f27ca350>]"
       ]
      }
     ],
     "prompt_number": 99
    },
    {
     "cell_type": "code",
     "collapsed": false,
     "input": [
      "with plt.xkcd():\n",
      "    plt.figure()\n",
      "    x = np.linspace(0, 20, 401)\n",
      "    sub1 = plt.subplot(2, 1, 1)\n",
      "    plt.title(\"It's XKCD-style!\")\n",
      "    plt.plot(x, np.sin(x))\n",
      "    plt.subplot(2, 1, 2)\n",
      "    plt.plot(x, np.sinc(x))"
     ],
     "language": "python",
     "metadata": {
      "slideshow": {
       "slide_type": "subslide"
      }
     },
     "outputs": [
      {
       "javascript": [
        "/* Put everything inside the global mpl namespace */\n",
        "window.mpl = {};\n",
        "\n",
        "mpl.get_websocket_type = function() {\n",
        "    if (typeof(WebSocket) !== 'undefined') {\n",
        "        return WebSocket;\n",
        "    } else if (typeof(MozWebSocket) !== 'undefined') {\n",
        "        return MozWebSocket;\n",
        "    } else {\n",
        "        alert('Your browser does not have WebSocket support.' +\n",
        "              'Please try Chrome, Safari or Firefox \u2265 6. ' +\n",
        "              'Firefox 4 and 5 are also supported but you ' +\n",
        "              'have to enable WebSockets in about:config.');\n",
        "    };\n",
        "}\n",
        "\n",
        "mpl.figure = function(figure_id, websocket, ondownload, parent_element) {\n",
        "    this.id = figure_id;\n",
        "\n",
        "    this.ws = websocket;\n",
        "\n",
        "    this.supports_binary = (this.ws.binaryType != undefined);\n",
        "\n",
        "    if (!this.supports_binary) {\n",
        "        var warnings = document.getElementById(\"mpl-warnings\");\n",
        "        if (warnings) {\n",
        "            warnings.style.display = 'block';\n",
        "            warnings.textContent = (\n",
        "                \"This browser does not support binary websocket messages. \" +\n",
        "                    \"Performance may be slow.\");\n",
        "        }\n",
        "    }\n",
        "\n",
        "    this.imageObj = new Image();\n",
        "\n",
        "    this.context = undefined;\n",
        "    this.message = undefined;\n",
        "    this.canvas = undefined;\n",
        "    this.rubberband_canvas = undefined;\n",
        "    this.rubberband_context = undefined;\n",
        "    this.format_dropdown = undefined;\n",
        "\n",
        "    this.focus_on_mousover = false;\n",
        "    this.image_mode = 'full';\n",
        "\n",
        "    this.root = $('<div/>');\n",
        "    this.root.attr('style', 'display: inline-block');\n",
        "    $(parent_element).append(this.root);\n",
        "\n",
        "    this._init_header(this);\n",
        "    this._init_canvas(this);\n",
        "    this._init_toolbar(this);\n",
        "\n",
        "    var fig = this;\n",
        "\n",
        "    this.waiting = false;\n",
        "\n",
        "    this.ws.onopen =  function () {\n",
        "            fig.send_message(\"supports_binary\", {value: fig.supports_binary});\n",
        "            fig.send_message(\"send_image_mode\", {});\n",
        "            fig.send_message(\"refresh\", {});\n",
        "        }\n",
        "\n",
        "    this.imageObj.onload = function() {\n",
        "            if (fig.image_mode == 'full') {\n",
        "                // Full images could contain transparency (where diff images\n",
        "                // almost always do), so we need to clear the canvas so that\n",
        "                // there is no ghosting.\n",
        "                fig.context.clearRect(0, 0, fig.canvas.width, fig.canvas.height);\n",
        "            }\n",
        "            fig.context.drawImage(fig.imageObj, 0, 0);\n",
        "            fig.waiting = false;\n",
        "        };\n",
        "\n",
        "    this.imageObj.onunload = function() {\n",
        "        this.ws.close();\n",
        "    }\n",
        "\n",
        "    this.ws.onmessage = this._make_on_message_function(this);\n",
        "\n",
        "    this.ondownload = ondownload;\n",
        "}\n",
        "\n",
        "mpl.figure.prototype._init_header = function() {\n",
        "    var titlebar = $(\n",
        "        '<div class=\"ui-dialog-titlebar ui-widget-header ui-corner-all ' +\n",
        "        'ui-helper-clearfix\"/>');\n",
        "    var titletext = $(\n",
        "        '<div class=\"ui-dialog-title\" style=\"width: 100%; ' +\n",
        "        'text-align: center; padding: 3px;\"/>');\n",
        "    titlebar.append(titletext)\n",
        "    this.root.append(titlebar);\n",
        "    this.header = titletext[0];\n",
        "}\n",
        "\n",
        "mpl.figure.prototype._init_canvas = function() {\n",
        "    var fig = this;\n",
        "\n",
        "    var canvas_div = $('<div/>');\n",
        "    canvas_div.resizable({ resize: mpl.debounce_resize(\n",
        "        function(event, ui) { fig.request_resize(ui.size.width, ui.size.height); }\n",
        "        , 50)});\n",
        "\n",
        "    canvas_div.attr('style', 'position: relative; clear: both;');\n",
        "    this.root.append(canvas_div);\n",
        "\n",
        "    var canvas = $('<canvas/>');\n",
        "    canvas.addClass('mpl-canvas');\n",
        "    canvas.attr('style', \"left: 0; top: 0; z-index: 0;\")\n",
        "\n",
        "    function canvas_keyboard_event(event) {\n",
        "        return fig.key_event(event, event['data']);\n",
        "    }\n",
        "\n",
        "    this.canvas = canvas[0];\n",
        "    this.context = canvas[0].getContext(\"2d\");\n",
        "\n",
        "    var rubberband = $('<canvas/>');\n",
        "    rubberband.attr('style', \"position: absolute; left: 0; top: 0; z-index: 1;\")\n",
        "    function mouse_event_fn(event) {\n",
        "        return fig.mouse_event(event, event['data']);\n",
        "    }\n",
        "    rubberband.mousedown('button_press', mouse_event_fn);\n",
        "    rubberband.mouseup('button_release', mouse_event_fn);\n",
        "    // Throttle sequential mouse events to 1 every 20ms.\n",
        "    rubberband.mousemove('motion_notify', mouse_event_fn);\n",
        "\n",
        "    canvas_div.append(canvas);\n",
        "    canvas_div.append(rubberband);\n",
        "\n",
        "    canvas_div.keydown('key_press', canvas_keyboard_event);\n",
        "    canvas_div.keydown('key_release', canvas_keyboard_event);\n",
        "\n",
        "    this.rubberband = rubberband;\n",
        "    this.rubberband_canvas = rubberband[0];\n",
        "    this.rubberband_context = rubberband[0].getContext(\"2d\");\n",
        "    this.rubberband_context.strokeStyle = \"#000000\";\n",
        "\n",
        "    this._resize_canvas = function(width, height) {\n",
        "        // Keep the size of the canvas, canvas container, and rubber band\n",
        "        // canvas in synch.\n",
        "        canvas_div.css('width', width)\n",
        "        canvas_div.css('height', height)\n",
        "\n",
        "        canvas.attr('width', width);\n",
        "        canvas.attr('height', height);\n",
        "\n",
        "        rubberband.attr('width', width);\n",
        "        rubberband.attr('height', height);\n",
        "    }\n",
        "\n",
        "    // Set the figure to an initial 600x600px, this will subsequently be updated\n",
        "    // upon first draw.\n",
        "    this._resize_canvas(600, 600);\n",
        "}\n",
        "\n",
        "mpl.figure.prototype._init_toolbar = function() {\n",
        "    var fig = this;\n",
        "\n",
        "    var nav_element = $('<div/>')\n",
        "    nav_element.attr('style', 'width: 100%');\n",
        "    this.root.append(nav_element);\n",
        "\n",
        "    // Define a callback function for later on.\n",
        "    function toolbar_event(event) {\n",
        "        return fig.toolbar_button_onclick(event['data']);\n",
        "    }\n",
        "    function toolbar_mouse_event(event) {\n",
        "        return fig.toolbar_button_onmouseover(event['data']);\n",
        "    }\n",
        "\n",
        "    for(var toolbar_ind in mpl.toolbar_items){\n",
        "        var name = mpl.toolbar_items[toolbar_ind][0];\n",
        "        var tooltip = mpl.toolbar_items[toolbar_ind][1];\n",
        "        var image = mpl.toolbar_items[toolbar_ind][2];\n",
        "        var method_name = mpl.toolbar_items[toolbar_ind][3];\n",
        "\n",
        "        if (!name) {\n",
        "            // put a spacer in here.\n",
        "            continue;\n",
        "        }\n",
        "        var button = $('<button/>');\n",
        "        button.addClass('ui-button ui-widget ui-state-default ui-corner-all ' +\n",
        "                        'ui-button-icon-only');\n",
        "        button.attr('role', 'button');\n",
        "        button.attr('aria-disabled', 'false');\n",
        "        button.click(method_name, toolbar_event);\n",
        "        button.mouseover(tooltip, toolbar_mouse_event);\n",
        "\n",
        "        var icon_img = $('<span/>');\n",
        "        icon_img.addClass('ui-button-icon-primary ui-icon');\n",
        "        icon_img.addClass(image);\n",
        "        icon_img.addClass('ui-corner-all');\n",
        "\n",
        "        var tooltip_span = $('<span/>');\n",
        "        tooltip_span.addClass('ui-button-text');\n",
        "        tooltip_span.html(tooltip);\n",
        "\n",
        "        button.append(icon_img);\n",
        "        button.append(tooltip_span);\n",
        "\n",
        "        nav_element.append(button);\n",
        "    }\n",
        "\n",
        "    var fmt_picker_span = $('<span/>');\n",
        "\n",
        "    var fmt_picker = $('<select/>');\n",
        "    fmt_picker.addClass('mpl-toolbar-option ui-widget ui-widget-content');\n",
        "    fmt_picker_span.append(fmt_picker);\n",
        "    nav_element.append(fmt_picker_span);\n",
        "    this.format_dropdown = fmt_picker[0];\n",
        "\n",
        "    for (var ind in mpl.extensions) {\n",
        "        var fmt = mpl.extensions[ind];\n",
        "        var option = $(\n",
        "            '<option/>', {selected: fmt === mpl.default_extension}).html(fmt);\n",
        "        fmt_picker.append(option)\n",
        "    }\n",
        "\n",
        "    // Add hover states to the ui-buttons\n",
        "    $( \".ui-button\" ).hover(\n",
        "        function() { $(this).addClass(\"ui-state-hover\");},\n",
        "        function() { $(this).removeClass(\"ui-state-hover\");}\n",
        "    );\n",
        "\n",
        "    var status_bar = $('<span class=\"mpl-message\"/>');\n",
        "    nav_element.append(status_bar);\n",
        "    this.message = status_bar[0];\n",
        "}\n",
        "\n",
        "mpl.figure.prototype.request_resize = function(x_pixels, y_pixels) {\n",
        "    // Request matplotlib to resize the figure. Matplotlib will then trigger a resize in the client,\n",
        "    // which will in turn request a refresh of the image.\n",
        "    this.send_message('resize', {'width': x_pixels, 'height': y_pixels});\n",
        "}\n",
        "\n",
        "mpl.figure.prototype.send_message = function(type, properties) {\n",
        "    properties['type'] = type;\n",
        "    properties['figure_id'] = this.id;\n",
        "    this.ws.send(JSON.stringify(properties));\n",
        "}\n",
        "\n",
        "mpl.figure.prototype.send_draw_message = function() {\n",
        "    if (!this.waiting) {\n",
        "        this.waiting = true;\n",
        "        this.ws.send(JSON.stringify({type: \"draw\", figure_id: this.id}));\n",
        "    }\n",
        "}\n",
        "\n",
        "mpl.figure.prototype.handle_resize = function(fig, msg) {\n",
        "    var size = msg['size'];\n",
        "    if (size[0] != fig.canvas.width || size[1] != fig.canvas.height) {\n",
        "        fig._resize_canvas(size[0], size[1]);\n",
        "        fig.send_message(\"refresh\", {});\n",
        "    };\n",
        "}\n",
        "\n",
        "mpl.figure.prototype.handle_rubberband = function(fig, msg) {\n",
        "    var x0 = msg['x0'];\n",
        "    var y0 = fig.canvas.height - msg['y0'];\n",
        "    var x1 = msg['x1'];\n",
        "    var y1 = fig.canvas.height - msg['y1'];\n",
        "    x0 = Math.floor(x0) + 0.5;\n",
        "    y0 = Math.floor(y0) + 0.5;\n",
        "    x1 = Math.floor(x1) + 0.5;\n",
        "    y1 = Math.floor(y1) + 0.5;\n",
        "    var min_x = Math.min(x0, x1);\n",
        "    var min_y = Math.min(y0, y1);\n",
        "    var width = Math.abs(x1 - x0);\n",
        "    var height = Math.abs(y1 - y0);\n",
        "\n",
        "    fig.rubberband_context.clearRect(\n",
        "        0, 0, fig.canvas.width, fig.canvas.height);\n",
        "\n",
        "    fig.rubberband_context.strokeRect(min_x, min_y, width, height);\n",
        "}\n",
        "\n",
        "mpl.figure.prototype.handle_figure_label = function(fig, msg) {\n",
        "    // Updates the figure title.\n",
        "    fig.header.textContent = msg['label'];\n",
        "}\n",
        "\n",
        "mpl.figure.prototype.handle_cursor = function(fig, msg) {\n",
        "    var cursor = msg['cursor'];\n",
        "    switch(cursor)\n",
        "    {\n",
        "    case 0:\n",
        "        cursor = 'pointer';\n",
        "        break;\n",
        "    case 1:\n",
        "        cursor = 'default';\n",
        "        break;\n",
        "    case 2:\n",
        "        cursor = 'crosshair';\n",
        "        break;\n",
        "    case 3:\n",
        "        cursor = 'move';\n",
        "        break;\n",
        "    }\n",
        "    fig.rubberband_canvas.style.cursor = cursor;\n",
        "}\n",
        "\n",
        "mpl.figure.prototype.handle_message = function(fig, msg) {\n",
        "    fig.message.textContent = msg['message'];\n",
        "}\n",
        "\n",
        "mpl.figure.prototype.handle_draw = function(fig, msg) {\n",
        "    // Request the server to send over a new figure.\n",
        "    fig.send_draw_message();\n",
        "}\n",
        "\n",
        "mpl.figure.prototype.handle_image_mode = function(fig, msg) {\n",
        "    fig.image_mode = msg['mode'];\n",
        "}\n",
        "\n",
        "mpl.figure.prototype.updated_canvas_event = function() {\n",
        "    // Called whenever the canvas gets updated.\n",
        "    this.send_message(\"ack\", {});\n",
        "}\n",
        "\n",
        "// A function to construct a web socket function for onmessage handling.\n",
        "// Called in the figure constructor.\n",
        "mpl.figure.prototype._make_on_message_function = function(fig) {\n",
        "    return function socket_on_message(evt) {\n",
        "        if (evt.data instanceof Blob) {\n",
        "            /* FIXME: We get \"Resource interpreted as Image but\n",
        "             * transferred with MIME type text/plain:\" errors on\n",
        "             * Chrome.  But how to set the MIME type?  It doesn't seem\n",
        "             * to be part of the websocket stream */\n",
        "            evt.data.type = \"image/png\";\n",
        "\n",
        "            /* Free the memory for the previous frames */\n",
        "            if (fig.imageObj.src) {\n",
        "                (window.URL || window.webkitURL).revokeObjectURL(\n",
        "                    fig.imageObj.src);\n",
        "            }\n",
        "\n",
        "            fig.imageObj.src = (window.URL || window.webkitURL).createObjectURL(\n",
        "                evt.data);\n",
        "            fig.updated_canvas_event();\n",
        "            return;\n",
        "        }\n",
        "        else if (typeof evt.data === 'string' && evt.data.slice(0, 21) == \"data:image/png;base64\") {\n",
        "            fig.imageObj.src = evt.data;\n",
        "            fig.updated_canvas_event();\n",
        "            return;\n",
        "        }\n",
        "\n",
        "        var msg = JSON.parse(evt.data);\n",
        "        var msg_type = msg['type'];\n",
        "\n",
        "        // Call the  \"handle_{type}\" callback, which takes\n",
        "        // the figure and JSON message as its only arguments.\n",
        "        try {\n",
        "            var callback = fig[\"handle_\" + msg_type];\n",
        "        } catch (e) {\n",
        "            console.log(\"No handler for the '\" + msg_type + \"' message type: \", msg);\n",
        "            return;\n",
        "        }\n",
        "\n",
        "        if (callback) {\n",
        "            try {\n",
        "                // console.log(\"Handling '\" + msg_type + \"' message: \", msg);\n",
        "                callback(fig, msg);\n",
        "            } catch (e) {\n",
        "                console.log(\"Exception inside the 'handler_\" + msg_type + \"' callback:\", e, e.stack, msg);\n",
        "            }\n",
        "        }\n",
        "    };\n",
        "}\n",
        "\n",
        "// from http://stackoverflow.com/questions/1114465/getting-mouse-location-in-canvas\n",
        "mpl.findpos = function(e) {\n",
        "    //this section is from http://www.quirksmode.org/js/events_properties.html\n",
        "    var targ;\n",
        "    if (!e)\n",
        "        e = window.event;\n",
        "    if (e.target)\n",
        "        targ = e.target;\n",
        "    else if (e.srcElement)\n",
        "        targ = e.srcElement;\n",
        "    if (targ.nodeType == 3) // defeat Safari bug\n",
        "        targ = targ.parentNode;\n",
        "\n",
        "    // jQuery normalizes the pageX and pageY\n",
        "    // pageX,Y are the mouse positions relative to the document\n",
        "    // offset() returns the position of the element relative to the document\n",
        "    var x = e.pageX - $(targ).offset().left;\n",
        "    var y = e.pageY - $(targ).offset().top;\n",
        "\n",
        "    return {\"x\": x, \"y\": y};\n",
        "};\n",
        "\n",
        "mpl.figure.prototype.mouse_event = function(event, name) {\n",
        "    var canvas_pos = mpl.findpos(event)\n",
        "\n",
        "    if (this.focus_on_mouseover && name === 'motion_notify')\n",
        "    {\n",
        "        this.canvas.focus();\n",
        "    }\n",
        "\n",
        "    var x = canvas_pos.x;\n",
        "    var y = canvas_pos.y;\n",
        "\n",
        "    this.send_message(name, {x: x, y: y, button: event.button});\n",
        "\n",
        "    /* This prevents the web browser from automatically changing to\n",
        "     * the text insertion cursor when the button is pressed.  We want\n",
        "     * to control all of the cursor setting manually through the\n",
        "     * 'cursor' event from matplotlib */\n",
        "    event.preventDefault();\n",
        "    return false;\n",
        "}\n",
        "\n",
        "mpl.figure.prototype.key_event = function(event, name) {\n",
        "    /* Don't fire events just when a modifier is changed.  Modifiers are\n",
        "       sent along with other keys. */\n",
        "    if (event.keyCode >= 16 && event.keyCode <= 20) {\n",
        "        return;\n",
        "    }\n",
        "\n",
        "    value = '';\n",
        "    if (event.ctrlKey) {\n",
        "        value += \"ctrl+\";\n",
        "    }\n",
        "    if (event.altKey) {\n",
        "        value += \"alt+\";\n",
        "    }\n",
        "    value += String.fromCharCode(event.keyCode).toLowerCase();\n",
        "\n",
        "    this.send_message(name, {key: value});\n",
        "}\n",
        "\n",
        "mpl.figure.prototype.toolbar_button_onclick = function(name) {\n",
        "    if (name == 'download') {\n",
        "        var format_dropdown = this.format_dropdown;\n",
        "        var format = format_dropdown.options[format_dropdown.selectedIndex].value;\n",
        "        this.ondownload(this, format);\n",
        "    } else {\n",
        "        this.send_message(\"toolbar_button\", {name: name});\n",
        "    }\n",
        "};\n",
        "\n",
        "mpl.figure.prototype.toolbar_button_onmouseover = function(tooltip) {\n",
        "    this.message.textContent = tooltip;\n",
        "};\n",
        "\n",
        "mpl.debounce_event = function(func, time){\n",
        "    var timer;\n",
        "    return function(event){\n",
        "        clearTimeout(timer);\n",
        "        timer = setTimeout(function(){ func(event); }, time);\n",
        "    };\n",
        "}\n",
        "\n",
        "mpl.debounce_resize = function(func, time){\n",
        "    var timer;\n",
        "    return function(event, ui){\n",
        "        clearTimeout(timer);\n",
        "        timer = setTimeout(function(){ func(event, ui); }, time);\n",
        "    };\n",
        "}\n",
        "mpl.toolbar_items = [[\"Home\", \"Reset original view\", \"fa fa-home icon-home\", \"home\"], [\"Back\", \"Back to  previous view\", \"fa fa-arrow-left icon-arrow-left\", \"back\"], [\"Forward\", \"Forward to next view\", \"fa fa-arrow-right icon-arrow-right\", \"forward\"], [\"\", \"\", \"\", \"\"], [\"Pan\", \"Pan axes with left mouse, zoom with right\", \"fa fa-arrows icon-move\", \"pan\"], [\"Zoom\", \"Zoom to rectangle\", \"fa fa-square-o icon-check-empty\", \"zoom\"], [\"\", \"\", \"\", \"\"]];\n",
        "\n",
        "mpl.extensions = [\"eps\", \"jpeg\", \"pgf\", \"pdf\", \"png\", \"ps\", \"raw\", \"svg\", \"tif\"];\n",
        "\n",
        "mpl.default_extension = \"png\";var comm_websocket_adapter = function(comm) {\n",
        "    // Create a \"websocket\"-like object which calls the given IPython comm\n",
        "    // object with the appropriate methods. Currently this is a non binary\n",
        "    // socket, so there is still some room for performance tuning.\n",
        "    var ws = {};\n",
        "\n",
        "    ws.close = function() {\n",
        "        comm.close()\n",
        "    };\n",
        "    ws.send = function(m) {\n",
        "        //console.log('sending', m);\n",
        "        comm.send(m);\n",
        "    };\n",
        "    // Register the callback with on_msg.\n",
        "    comm.on_msg(function(msg) {\n",
        "        //console.log('receiving', msg['content']['data'], msg);\n",
        "        // Pass the mpl event to the overriden (by mpl) onmessage function.\n",
        "        ws.onmessage(msg['content']['data'])\n",
        "    });\n",
        "    return ws;\n",
        "}\n",
        "\n",
        "mpl.mpl_figure_comm = function(comm, msg) {\n",
        "    // This is the function which gets called when the mpl process\n",
        "    // starts-up an IPython Comm through the \"matplotlib\" channel.\n",
        "\n",
        "    var id = msg.content.data.id;\n",
        "    // Get hold of the div created by the display call when the Comm\n",
        "    // socket was opened in Python.\n",
        "    var element = $(\"#\" + id);\n",
        "    var ws_proxy = comm_websocket_adapter(comm)\n",
        "\n",
        "    var fig = new mpl.figure(id, ws_proxy,\n",
        "                           function() { },\n",
        "                           element.get(0));\n",
        "\n",
        "    // Call onopen now - mpl needs it, as it is assuming we've passed it a real\n",
        "    // web socket which is closed, not our websocket->open comm proxy.\n",
        "    ws_proxy.onopen();\n",
        "\n",
        "    fig.parent_element = element.get(0);\n",
        "    fig.cell_info = mpl.find_output_cell(\"<div id='\" + id + \"'></div>\");\n",
        "\n",
        "    var output_index = fig.cell_info[2]\n",
        "    var cell = fig.cell_info[0];\n",
        "\n",
        "    // Disable right mouse context menu.\n",
        "    $(fig.rubberband_canvas).bind(\"contextmenu\",function(e){\n",
        "        return false;\n",
        "    });\n",
        "\n",
        "};\n",
        "\n",
        "mpl.figure.prototype.handle_close = function(fig, msg) {\n",
        "    // Update the output cell to use the data from the current canvas.\n",
        "    fig.push_to_output();\n",
        "    var dataURL = fig.canvas.toDataURL();\n",
        "    // Re-enable the keyboard manager in IPython - without this line, in FF,\n",
        "    // the notebook keyboard shortcuts fail.\n",
        "    IPython.keyboard_manager.enable()\n",
        "    $(fig.parent_element).html('<img src=\"' + dataURL + '\">');\n",
        "    fig.send_message('closing', {});\n",
        "    fig.ws.close()\n",
        "}\n",
        "\n",
        "mpl.figure.prototype.push_to_output = function(remove_interactive) {\n",
        "    // Turn the data on the canvas into data in the output cell.\n",
        "    var dataURL = this.canvas.toDataURL();\n",
        "    this.cell_info[1]['text/html'] = '<img src=\"' + dataURL + '\">';\n",
        "}\n",
        "\n",
        "mpl.figure.prototype.updated_canvas_event = function() {\n",
        "    // Tell IPython that the notebook contents must change.\n",
        "    IPython.notebook.set_dirty(true);\n",
        "    this.send_message(\"ack\", {});\n",
        "    var fig = this;\n",
        "    // Wait a second, then push the new image to the DOM so\n",
        "    // that it is saved nicely (might be nice to debounce this).\n",
        "    setTimeout(function () { fig.push_to_output() }, 1000);\n",
        "}\n",
        "\n",
        "mpl.figure.prototype._init_toolbar = function() {\n",
        "    var fig = this;\n",
        "\n",
        "    var nav_element = $('<div/>')\n",
        "    nav_element.attr('style', 'width: 100%');\n",
        "    this.root.append(nav_element);\n",
        "\n",
        "    // Define a callback function for later on.\n",
        "    function toolbar_event(event) {\n",
        "        return fig.toolbar_button_onclick(event['data']);\n",
        "    }\n",
        "    function toolbar_mouse_event(event) {\n",
        "        return fig.toolbar_button_onmouseover(event['data']);\n",
        "    }\n",
        "\n",
        "    for(var toolbar_ind in mpl.toolbar_items){\n",
        "        var name = mpl.toolbar_items[toolbar_ind][0];\n",
        "        var tooltip = mpl.toolbar_items[toolbar_ind][1];\n",
        "        var image = mpl.toolbar_items[toolbar_ind][2];\n",
        "        var method_name = mpl.toolbar_items[toolbar_ind][3];\n",
        "\n",
        "        if (!name) { continue; };\n",
        "\n",
        "        var button = $('<button class=\"btn btn-default\" href=\"#\" title=\"' + name + '\"><i class=\"fa ' + image + ' fa-lg\"></i></button>');\n",
        "        button.click(method_name, toolbar_event);\n",
        "        button.mouseover(tooltip, toolbar_mouse_event);\n",
        "        nav_element.append(button);\n",
        "    }\n",
        "\n",
        "    // Add the status bar.\n",
        "    var status_bar = $('<span class=\"mpl-message\" style=\"text-align:right; float: right;\"/>');\n",
        "    nav_element.append(status_bar);\n",
        "    this.message = status_bar[0];\n",
        "\n",
        "    // Add the close button to the window.\n",
        "    var buttongrp = $('<div class=\"btn-group inline pull-right\"></div>');\n",
        "    var button = $('<button class=\"btn btn-mini btn-danger\" href=\"#\" title=\"Close figure\"><i class=\"fa fa-times icon-remove icon-large\"></i></button>');\n",
        "    button.click(function (evt) { fig.handle_close(fig, {}); } );\n",
        "    button.mouseover('Close figure', toolbar_mouse_event);\n",
        "    buttongrp.append(button);\n",
        "    var titlebar = this.root.find($('.ui-dialog-titlebar'));\n",
        "    titlebar.prepend(buttongrp);\n",
        "}\n",
        "\n",
        "mpl.find_output_cell = function(html_output) {\n",
        "    // Return the cell and output element which can be found *uniquely* in the notebook.\n",
        "    // Note - this is a bit hacky, but it is done because the \"notebook_saving.Notebook\"\n",
        "    // IPython event is triggered only after the cells have been serialised, which for\n",
        "    // our purposes (turning an active figure into a static one), is too late.\n",
        "    var cells = IPython.notebook.get_cells();\n",
        "    var ncells = cells.length;\n",
        "    for (var i=0; i<ncells; i++) {\n",
        "        var cell = cells[i];\n",
        "        if (cell.cell_type == 'code'){\n",
        "            for (var j=0; j<cell.output_area.outputs.length; j++) {\n",
        "                var data = cell.output_area.outputs[j];\n",
        "                if (cell.output_area.outputs[j]['text/html'] == html_output) {\n",
        "                    var output = cell.output_area.outputs[j];\n",
        "                    return [cell, output, j];\n",
        "                }\n",
        "            }\n",
        "        }\n",
        "    }\n",
        "}\n",
        "\n",
        "// Register the function which deals with the matplotlib target/channel.\n",
        "// The kernel may be null if the page has been refreshed.\n",
        "if (IPython.notebook.kernel != null) {\n",
        "    IPython.notebook.kernel.comm_manager.register_target('matplotlib', mpl.mpl_figure_comm);\n",
        "}\n"
       ],
       "metadata": {},
       "output_type": "display_data",
       "text": [
        "<IPython.core.display.Javascript at 0x7f24f26ac2d0>"
       ]
      },
      {
       "html": [
        "<img src=\"data:image/png;base64,iVBORw0KGgoAAAANSUhEUgAAAoAAAAHgCAYAAAA10dzkAAAgAElEQVR4nOydd3RU1RaHD4SQgFRpIiV0CISE3kGp0gRFAUGlKkVAfUgQlaI0UWkiKl2wgYA8ijQVREFDeYA0pXcCodcAKfO9P07u3EmYSWNmzszkfGvNUiZ37v3dffbcs+eUvYXQaDQajUaj0Wg0Go1Go9FoNBqNRqPRaDQajUaj0Wg0Go1Go9FoNBqNRqPRaDQajUaj0Wg0Go1Go9FoNBqNRqPRaDQajUaj0Wg0Go1Go9FoNBqNRqPRaDQajUaj0Wg0Go1Go9FoNBqNRqPRaDQajUaj0Wg0Go1Go9FoNBqNRqPRaDQajUaj0Wg0Go1Go9FoNBqNRqPRaDQajUaj0Wg0Go1Go9FoNBqNRqPRaDQajUaj0Wg0Go1Go9FoNBqNRqPRaDQajUaj0Wg0Go1Go9FoNBqNRqPRaDQajUaj0Wg0Go1Go9FoNBqNRqPRaDQajUaj0Wg0Go1Go9FoNBqNRqPRaDQajUaj0Wg0Go0mzQCZgEZAH+BVoIZqTe4CyA90BfoCnYE8Tj5/VeAloGQqj88B5LZ5ZQfaAsuAX4CxQE5natRoNBqNRuOjAFmBlsBTgL/N+y2BIzzIWCdc8zGgU9JrJnN8CeAjYDWwFvgGaJfCPWVNp7acwBdAfJL7Pg+USMXnywHPOzo24d5/tTnvfeAVO8eVBj4BNgEX7LSDPf6XGntqNBqNRqPxEYC8wNPIkboZwH9TeP2YEOgctwkgdiJHlyYbb8THx7N//34OHjxovGUBCjjQkB9on6Dj0YT3MgG1gWeBosCTwC2ba+4B3ki4Zi/Az+Z8fsCEZAKeGUAW4DVgMTKwOmvz9xPARCB3Km1YGThpfPjixYvs2bOHq1ev2l4zOZvaEgP0T3L+TMBvxgGXLl2yPb6ezXEvAPeSuW8ra9asYezYsdy9e9d46+30eZBGo9FoNBqvAmgMXE5NwGCPu3fvcu/eg/HGhg0bqFmzJoGBgQwaNMj2T2XtaGgEXLc55irQATlq9wAXL160DVps+SbhfJmAb403z549y/jx4/nggw9Yv349FovF+FNcKm7xHClMXwPlgTsA0dHRvPXWWzzyyCOEhITw559/puISJtev25qBl5Dts8f2zWeffZaAgAD27t1rvPVhgo4w455Onz7NuHHjGD58OGFhYVSoUMH6ql+/Pvfu3aNhw4YIIfjiiy+M8xx1iZNpNBqNRqPxHIBAEka9bty4wb1794iMjGTChAnJvqZMmWINop5//nk++OCDREHM559/jr+/P7Vq1WLXrl22f9oCZLKjIwLg2rVrSQMg4uPjuXw5cXxatWpVOnfuDEBcXBx//vmnbVBXDXgdwGKxMGbMGLJly4YQgsDAQIQQ/P7774nOP2vWLCZMmMCoUaOoUaMGtWvXZsKECdy6ZR1svI+DIBDIBxwEOHnyJI0aNcLPz49Ro0YRFyfjyx07dqRo08WLF3P69GkCAwNZsWKF7e3et/3HnTt38PPzw8/PjytXrhhvD07Q8inAzp07yZ49O0IIChUqRM2aNQkPD2fo0KEMHTqUZcuWAbB06VKEEDzxxBO2l3jMlT6n0Wg0Go1GMcgRI9nrP/YYXbt25ciRI+TLlw8hBDly5EAI8cArd+7cxMXFsWfPHoQQhIeHW6OHFStW4Ofnx7Bhw4iOjrYNLGaRMLVrR8cVgLZt2/Loo49y6NAha3DXtWtX/P39mT9/vvVEbdu2RQjBrVu3qF69OkIITp06Zfz5TRJG477++muEEAQEBPDdd99x9epVmjRpwi+//GI91+eff44QAj8/P4oXL07//v1p2bIlQgjq1q1r1ZIQ5GWxo30hyJG/pk2b8vjjj7N7927b+2bp0qUEBAQka9NWrVoB0LhxY0qWLGkb0HLgwAGaN28OwPLlyxFC0LBhQ9tLFE/Q8gXAL7/8ghCCvn37JjpPUuLi4ihTpgy5c+e2fTvYmT6m0Wg0Go3GwwBqGr2+n58fTZs2BeDmzZv89ttv3Lt3j759++Lv78/333/Phg0b2LBhg3Xk6YsvvkAIwfbt2wHYv38//v7+1K5dO+kUbccUdJwBGDJkCEIImjRpQmRkJF27dkUIQb58+di3b5/1ZO3bt0cIQcmSJcmaNSuTJk2yjrYhNzMQFRVFzpw5CQgIYP369Q6DoFGjRpE3b16OHj1qfS8+Pp758+eTNWtW6tWrR0xMjO1HtgJfAVOAecab3bt3RwjBkiVL7F7nzJkzREREEBsbS1hYGCVKlGDt2rVs2LCB3377zXqNNWvWIIRg+fLl1s8+//zzPPnkkwD897//RQhBr169jD9H29ixJ8iRVCEECxcudHjfBrVr19YBoEaj0Wg0GQmggdHrFytWzBoA2jJmzBiKFCliN3ho3bp1opGo9evXI4SgaNGizJkzx3b06QJQIRkdkwDu379PyZIlE42M5cuXjz17Ei2BswaAQggGDhxIfHyiTbd3AP7zn/8ghGD06NH2pFvndkeNGkXhwoXtjpTNmDEDIQQRERF279+WJ554AiEEXbp04fDhw0n/nEjgU089ZZ3CTsqdO3eoUaMGdevWBWDVqlUIIZgzZw4AkydPRgjBl19+aXxkk40dO4EZABYoUICWLVtaX927d09qK1588UVq1apl+1ZxlzmcRqPRaDQa9QB1jF4/ICAgtQGgdVdD1apVk65X48CBAwwePBghBC1atODCBWsWkhNAoAMd1iGo48ePJwoA//jjjwc02QaAQgiaNm2adJSO2rVrkzdvXtuAZyZyc0h2wB9YDzIAFELwv//9zzjuLeB3gLVr1yKEYPr06Vy6dInu3bsza9YsFi1axKJFi1i5cqU1cIyJieHHH3+kdOnSPProo8ycOdNWzgfAQOMfdgLAd5H5Ao8DbNy4kSxZsjBo0CAqVqxI8+bNrffRuXPnpAHgdzZ2nARYp+arV69OnTp1EEJQtWpVZs+ebXvNzSCnrm3WEv4PO2s0NRqNRqPR+BDItC/ExsaSKVMm2wDwDgk7cO0EgOWBi0DSUTPblDBEREQQHBxMWFiY7XHjHOjIZRxw+vTpRMGdvWnM1q1bU6VKFQ4ePEipUqUQQvDxxx9b/37t2jVy5szJrFmzbD+Wy+Z6gSSkVDGmXG1G+cYC34MZAJ46dYpp06Y9sG6vSJEiHDmSON1hTEwMQ4YMwd/fnx9++MHWnvmBG/BAAHjKRldjw669e/e2XmfHjh3W89evXx8hBH///bftZXcnvAD48ssvyZQpE+fOnQPklLadEc4SDxgWnnWRq2k0Go1Go/EUkMmCWblypXUkzSZgcRQAFkOmbTltc+wgZNqWGbYHXr58mRw5cjB+/HjjrevY3wW8DGTwVKZMGYQQ1KtXj8yZM1OwYEEOHDhgPef9+/fx8/Ojffv21n8b6++mTp0KwIkTJxBC8Ouv1pzJpxOukwkYhc3O2n///feBNXcGs2fPJkeOHNy8eROQo2W2L5t1hw8wYsQI8ufPb7uDeQgpBIAJGlcBHDp0CCEE5cuXT3RekRAU2tokKZ999hkBAQEO/54M99FBoEaj8RWQiWUXAUuRSWMfyHYPlEWOhryMg0S1Go2vQcKU4ZIlS+wFgH+A/QAw4bOByIoTBZAbIx4gLi6OypUrJ92xmj+JhqYgR7169eqFEIJhw4YBMH36dIQQiYLA2NhY8uTJw7hx46wntFgsjBgxAiEEn376KZcuXSJr1qy88cYbttd9HpvpawMjAExyLJcuXeKRRx5hwoTkckk7ZtmyZQghbDegzEAmwk4pAOxs3FPFihXp06dPovNmypQJIQTFihWjb9++9OvXz/oaPnw4xvmFEIwZM4YPP/ww0TFTpkx5QOeAAQNibUYyr+Bgql6j0Wi8BmQd0qRsBwIS/l6AhNEHGyzAm6q1azSuBhgBcPjwYerVq2cdQUPmBrwJ8MYbb9gNAG3O0Rng3r17bNu2jUuXLvHvv/+ydetW6y7er776yvjsVSBzks+/D7Bv3z6EEDRq1Ijbt28DckSwY8eO1iBw8+bNgNylHBsbm+hLGxcXR/fu3SlZsiQALVu2JFeuXPY2ZDBlyhRCQkI4duyYNQA0klUfO3aMDz/8kLx589KvXz/b6/wXaJLkBcgRx927d3Pr1i22bdvG8uXLyZMnDxUqVLCOHpKwY9hisVC9evXkAsBOAOfPnydTpkz07ds3kfaJEyc+MBWdP39+atSoQaFChTh58iRPPvnkA8dUqlSJWrVqsW7dukTnCw0NtQghePTRR23fDnGRy2k0Go3rQU73XAC5zmfevHncv2+d+fkMKARYe4eTJ08mLa/0NXpBtMaHAYKARMn6ErAOr9WvX5/WrVvb/i1XknO8CbB3716EEGTPnh0/Pz8qVapEhw4dbDdXAAy0o6GTERgtWLCAY8eOJRISFxfHnDlzyJw5M8WKFUuq80/k+sHtINe6GZtOjFx4NWrUYOfOneaX+uuvyZo1K88++yxnz561BoCBgYGUKFECPz8/cuXKxbx582yvsx879YFJqKBibMzIkSMHBQoUICwsjEmTJtkmkj6DLGdHdHQ0gYGBttPie5KcswuY09hJA0CAxYsXM27cOGbMmMHRo0et1zGC1T///JPvvvuOY8eOcezYMU6ePOkwH+DIkSMpVqxY/GeffWa8FQvkdaqjaTQajTtB1gIFoG7dugghGDt2rPFWPPAzyNGErl27kjlzZrJnz87ixYttH5bDVd+HAbJuaU6gMFAKuRi/ElAFqIGsmVrX5lULWRUhFAhO+MzjyLqvfilc5xEgD7L+aoWEa9S0c406CdeumnCd8gnXyJncNTwVzF2ijybcR4mE+w9NsGWtJPdfN8EmNRNsFJzwmYLIna2BPDjilQnIhhx9LglUtGnDWgk2TXoNw85hCceXA4on6Hyo6Trkej4jz8o15I5VP2AbyA0VNvVsN9r5fDXjj8ePH+fAgQOcPGktiWvLeOyv/8tMwqYLG+4CbZGVQwA4deoUJ06csD1mIFAvwTYNSdi5a2CxWHj99dfx8/MjMDCQ5s2b88orryCEoFmzZtZdtadPn6ZcuXKEhYUxZswY9uzZY7tzGeRuYUf1i38EuH37NgcOHODAgQPW0UsbTiK/p/lIGFU9d+6cbfm80UnO2RHgwoUL+Pn52SbA3gx8bs+waeQY8Bw2NZuTMJPk/bAWUB3psyFIf6yErIVcBfldMZ4XST9vPJPCEj5TASiD9GXb74zP//BG7kTPifwOP4Z8FgQn2Mbe87x2wvtVEmxXHvkDrmiC/Yok/Ld8QlsY57BtR9v2q5rQfuUTrl0I+dz3edtrMgjAAYA5c+YghCBbtmwPPKB79uxJgQIFKFOmDPPmzSN37twsWLDA+PN9YC4wFJmqoQfwhJ0HW12gbgpa/JGdfumEL2Bz5LqkV4GRwFRgNvAdclr6D2AvcjrObuHTh8SCDITjEv7ruGRA+rkHRCE7nd3Ie1qH7PAnA+8h12V2A55CPrBKYGe0JRVtbQRWj2HauBXwAtA74TrvIte9LQTWABuQQcY/yLVPiZOkOQ9bW7vCznHI4O0E0mf+AH5Brnv9AvgQOd07GOnDzZEdSUlkoJ8ZGfRlsrFnGLIOrsFFoLwD249M5r7+Rm42eRf4CFkRZEWCxv3AKeRI2n0Hn38o/v33X4YNG0Z4eDjh4eFMmjTpgVx4qeQ+UudJpI23AGtJXMPYlovI0myVkT/asgNdSTzi+j8gWxJbBgExAJGRkbbn64X08U7AYuRmkf8CE5GjsD2A0cB05HftELAr4fUv0tZHkN/Hm8Y1PJgYpL0PATuBTcjn4hxkEu73gX5Ie7RE/hioiAxkXPrjE9kOOZDfnzrIZ1dHZBv0A/4DDAcmIP19FfIH1WHkrNSDxbM9i/tIv44EjiL9/S/koMl/gW+Q9zUJ2Q5vAt2BZ5A/xiogR+adGkwi7Z4HGbTWA5oB7ZA/WqcDCzC/GxuRz57jwD7kMyrE2Zo0HgwywLAuChdCJKorevHiRbJnz87u3butncJvv/1GlixZkpaxIioqiv379yf7OnPmzP4EZ/sXGfREIjtmVwRwqcJisXD16lWOHTvG9u3bWb16NYsXL+brr7/m888/54MPPuCtt95i4MCB9OnTh27dutG5c2c6dOhAy5YtqV+/PtWqVSM0NJRKlSpRsWJF66tSpUqEhoZStWpVatSoQYMGDWjVqhWdOnWiR48eDBgwgHfffZfx48czffp0FixYwJIlS9iwYQP//PMPUVFR3L5929H01F1kJ3oCGaDtRXZsO5Ff7H3IzuEccnel4y2ZLiYuLo5r165x/Phxdu/ezaZNm1i5ciXz589n6tSpjB8/nuHDhxMeHk7//v3p2rUr7dq1o0mTJtSpU8dq35CQkAdsbNg5LCzMmiC4YcOGtGjRgmeeeYYXX3yRvn37MmTIEMaOHcunn37K/PnzWbRoEevWrWPXrl0cOXKEc+fOcePGDUfBjwWZHDkKOV15GNPeRxJeuxL+vQfZHkeA8wmfc6nt4+PjiY6O5urVqxw8eJDNmzezbt06Fi1axPTp0xkzZgzDhg1jwIABdOvWjZdeeinZ6h8gRxRnz56dqPbwhQsX+PHHHxk/fjwdO3akdevWdOjQgZdffpnXXnuNoUOHMmbMGKZOncr8+fNZvXo127Zt48yZM1y7di3FncHIjvUKcAkZ+G5Fjlz+guy0lgA/IAND2y/FOcy2OIdcS+mSICI+Pp5r165x+PBhduzYwW+//cby5cuZO3cuH3/8MSNHjmTo0KEMHDiQV155xfq8eOaZZ2jRogX16tWjWrVqVK5c+QE/DgkJoUqVKtZ6y/Xr16dRo0Y0a9aMtm3b8txzz9G1a1d69uxJ//79efvtt/n444/54osv+Oabb1i9ejVbt25l//79nDt37oF1oEkwgpgzyOD3T2TAvhS5vGcBMB8ZUM5O+Pf3yDZYhWyT3xM+tx+56/0yLvZ3i8XC7du3OX36NH///TebN29m5cqVfPvtt8yZM4eJEycycuRIhgwZwoABA+jevTvPP/88Tz/9NM2aNaN+/frUrFmTsLAwu8+TypUrExYWRrVq1axt0LhxY9q2bcsLL7xAr169eO2113jrrbcYMWIE48ePZ+rUqcydO5dFixbx008/sWnTJrZv386///7LmTNnuHXrlqNn+H1kwHsE+dyISLDpOmQguQS5QfM75I/yZcBK5Kj7FuSz/h9kX3rNkd1T0zdHRUUZh3+tOi7RuAnksDgALVq0QAjB6tWrrY4za9Ys6tevn8iZzpw5Q2BgoLWU1YULFyhbtqw1YWxyr379+nHs2DGioqK4detWSp1BqomLi+P69etERkZy5MgRdu7cyaZNm1i6dCmzZs3io48+4u2336Z379506NCBBg0aEBwcTNGiRcmWLVuKuh29smfPTqFChQgKCqJMmTKUK1eOChUqEBwcTIUKFShXrhylS5emRIkSFCtWjIIFC6bregEBARQtWpSQkBCaN2/Oyy+/zJtvvsn48eOZNWsWS5cuZePGjezcuZMTJ05w7do1p9nWeOBeuHCB06dPc+jQIbZv386qVauYOXMmo0ePZvDgwfTo0YP27dvTpEkTatWqRYUKFShcuDC5c+e27sxMy8vPz4/cuXNTuHBhgoKCKF26NGXLlqV8+fIEBwcTHBxMxYoVCQ4Ottq5ePHiFC5cmAIFCpAjR450XTdr1qwEBQVRvXp1mjRpwvPPP88rr7xCeHg4Y8eOZerUqSxYsIAVK1bwxx9/8M8//xAZGUl0dHSydWUd2fb+/ftcvXqVI0eOsGvXLjZv3szatWv54YcfmDNnDpMmTWLkyJEMHjyYPn368PLLL9O+fXuefPJJqlSpQvHixa11dNPyypQpE2FhYcydO5eIiAi2bdvG9u3b+fPPP/nkk08IDQ212rl27dpUq1aNkiVLUqRIEfLly2ctI5ee702uXLkoV64cNWvW5IknnqB169Z06dKFAQMGMGLECCZOnMjs2bNZunQpa9asYdOmTezevZsTJ05w8eJFoqOj0ztKSXx8PLdv3+bSpUscPXqUiIgIli9fzldffcWUKVMYPXo0w4YN49VXX+WZZ56hcePGhISEUKhQIbJnz57uZ0XmzJnJkSNHoueFrS9XqFCBsmXLUrJkSYoVK8bjjz9OoUKFrLb29/dPt62LFClCxYoVqVevHm3btqVnz54MGjSIYcOGMWHCBGbPns2KFSvYsmUL+/bt49SpU0RFRXH9+vUHEoinl9jYWG7cuMGlS5eIjIzk2LFj7Nq1iw0bNrBs2TK+/fZbZsyYwYcffsjbb79Nnz596NSpE61bt6ZmzZqUKFGC/Pnzp9sOWbJkIWfOnBQsWJCiRYtSqlQp6/PEeGaXL1+eMmXKUKpUKUqUKEGRIkUoWLAgefLksQ6QpPfl7+9P/vz5KV++PA0aNKBTp04MHDiQ0aNHM23aNObPn8/SpUtZu3YtERERHDp0iMjISLsbutJKavrmp556yjj8kNBkHEhIWtulSxeEEHzzzTdWxxkyZAivvvpqImf6z3/+Q9euXa3/vnjxIqNGjUqVk9l7BQYGkj9/fooVK5boS2nbwZcvX56yZcs+EEzlypWLwMDAND+ICxQoQHBwMLVq1eKpp56iZ8+ehIeHM378eObMmcPChQtZvnw5v/76q7XjiYyM5PLly9y6dYuYmJg0d/a2xMbGcvPmTc6fP8/BgwfZsWMHGzduZMWKFSxcuJDPPvuM9957j/79+9OtWzdat25N7dq1KVu2bJo6IT8/P3LmzJkoiLLtdAy7lipViqCgIIoUKZJsp1OnTh2ioqKs7T1q1CiqV6+e6Hq5c+e2djh169aladOmdOjQgd69ezN48GDGjBljfeAtX76c33//nR07dnDgwAHrjwOb9V8PTXR0tLWz37VrF5s2bWLFihUsXryYmTNnMnbsWIYOHcqgQYPo1asXbdu2pWrVqgQFBZE7d+40+1a2bNnIkycPhQsXpkSJEpQrVy5R51K8eHHy58//UD88/Pz8ePTRRylZsiTVq1enVatW9OjRg9dff53333+fKVOmMGvWLH744QerDx86dIjz589z+/ZtYmNjU+2/SdvbZqQAkEHsnTt3uHDhAkePHmX37t388ccfLF++nNmzZ/PRRx/x3nvvMWjQIHr27Ennzp1p0qQJlSpVolixYuTLly/N32FbO+TKlYvChQtTsmTJB34glC9fntKlS1OkSBHy5s1LYGBgmn4UZM6cmbx581K2bFnq1atHy5Ytee655+jVqxdDhw61jtx/8803/PTTT0RERLB//36OHj3KuXPnuHLlivV54QwsFgt3797l+vXrREVFcejQIbZu3cqvv/7KsmXLmD17Np988gkjR45kwIABdOzYkWbNmlG7dm2Cg4MpXLhwsgGUo+931qxZyZ07N/ny5bP6te0PXuPHbtmyZa2B02OPPUb+/PnJlStXun8oGP1DkSJFqFq1Ko0aNaJt27Z069aNN954w+rr8+bNY9myZaxZs4YtW7awf/9+jh8/zvnz57l582a6fywk5f79+1y/fp0LFy5w4sQJDhw4wI4dO/jjjz9YvXo1P/zwA3PnzmXatGlMmDCB9957jzfeeIOXX36Zp59+moYNG1KpUiXy5cuXZjtkzpyZRx55hAIFClCsWDFKlixJ6dKlH2gH276yZMmSBAUFpapvfuKJJxg1ahSRkZFRQpNxQE4hJgoAN2/ezO7duwkPD09Ukmn+/Pk89thjnD9/3njr1v79+xFCpMrJnnzySes0X7du3ay/8Bo2bEjNmjWpUqUKISEhD0yNGNMjYWFh1unU+vXr06xZM1q3bk3Hjh3p1asXAwcO5O2332bcuHFMmzaNb7/9lnXr1hEREcGRI0e4evXqQwVunoDFYuHWrVucOnWKHTt2sH79er777jumT5/O2LFjGTJkCL1796ZTp060a9eO5s2bU7duXapXr05YWNgDUx6GXatVq0atWrWoV69eommnDh060K1bN/r378+UKVMw2tt4/fTTT5w8eZLr1697vW3tERcXx9WrV60BpBHcLFiwgClTpjB8+HAGDhzISy+9xDPPPEOrVq1o0qQJdevWpWrVqommmSpXrkz16tVp1KgRrVq1okOHDnTp0oVXXnnFOn06efJkZs+ezaJFi1i9erW1QzN24d+5c8etdk7a3vv373fJde7du0dkZCT79+/nr7/+YvXq1Xz//ffMnj2badOmWZdi9OvXj5deeomOHTvSrl07mjVrRp06day2trc0oHbt2jRu3Nhq827dutG3b1/Cw8P5+OOPmT9/PqtWrWLz5s38/fffHD58mMuXL3uEP+/dC926wUsvwauvwqJFcOPGg8dZLHD1Khw/DmfPgqPfUPHx8dy4cYNz585x+PBhtm3bxpo1a5g/fz4LFy58oL379u1LmzZtaNq0KY0aNbLaunLlyomeJZUqVaJy5cpUrVqVWrVqUbduXRo1akTTpk1p3bq1ddlLnz59GDhwIOHh4YwZM8YaQC9btoyff/6ZHTt2cOTIES5fvvzQI1+eTExMDOfOnePvv/+2Lokx/P2jjz7inXfeYeDAgfTo0YNOnTrRvn17WrRoYe0rq1atSmho6APtYDzTQ0NDqVKlCtWrV0/T4MyePXtuuSXw0HgG2AkAGzZsyPDhw9m2bRtZsmShY8eONG/enEaNGtnmDbsN7DEeGNWrVyc0NJS1a9emZp2BS7hzB+7elQ9De8TFwfr18NxzULcutGwJZ864VJLP4a6AwBOJjoaVK2HVKvj9d4iKcuxrvkJGbm/VrF0LWbOCEFC8OPz5QJruB7l9Gzp3lp/JmRPGjk2bj+r29j2SWwO4du1aQkNDre29d+/eWCWBiEYNJASARlLaFStWcOrUKeuvr+3bt/PMM88wceJE7ty5Y+tXTYDdKh8YP/0Ejz8uH3Q1a8KpU6n73OBGVlEAACAASURBVObNkCuXfEiWLQuJ0xtqkiOjdhC3bkkfE0J2ykuXpu3zS5dCjRoQGgpDhnhP4JhR21s1f/4J2bJJfwsNhXPnUv6MQXw89O0rPysEfPJJ6j+r2ztj4aC9vS5FmSadAL8CXL9+nbNnz6Zm2uMQUCHhs0dVPTC2bIGAAPmAa9AAzIICqSMiArJnl5+vXx+ctEzH58mIHURsLLRuLX0lSxZYsyZ955k61eyUk1Qc81gyYnur5tQpKFhQ+kmFCnDxYtrPER8P3bvLc2TODL/8krrP6fbOWDho70fcHoho1IDMLXc1iV/EI/MH1URuO7+NzO/1DjaJdYFIFQ+Mc+egUCH5cAsJgeuOMo2lwOrV8uEoBCSUV9WkQEbsIN54wwzcvv46/eexWOCVV8xRxL17nafRVWTE9lbJ/fvmSHOBAmA/Z3jqz1WvnjzXY4/BlSspf0a3d8bCQXvncWsQolELMtt6O2SyzrA0fO6mux8YsbHQqJF8qOXL93APSIBRo+S5MmVK3RqbjE5G6yAWLzaDv5EjH/580dFQsaI8X61acqTGk8lo7a2ad96RvuHnJ9eZPixnz0KePPKcL72U8vG6vTMWDtrbbmUfjSYRQJy7HxhDhpgBWwq5bFNFXBzUri3PWamSngpOiYzUQdh2nk8/7bxgbetW6b9CwFdfOeecriIjtbdqNm82/WLUKOedd8EC80fM1q3JH6vbO+NgsThs7yAF4YTGm0DWpHTrA2PlSvNB5swH5L59cm2XEPDll847ry+SkTqI5583p8+cvVGoZ0957qJFHafs8AQyUnur5NYtKF1a+kSdOnKmw1lYLPKcxnrn5JZ56/bOWDhob7slLTUaK8hpY1q1aoUQwmGiWGdx5w4EBcmH2FNPOX/q7LXX5LkLF5apFDT2SSkxsK+wfr35Y2PJEuef/8wZM8XHrFnOP7+zyCjtrZqhQ6UvZMsGhw45//x//WX6c3I72HV7ZwwiIuR/HfTfFVXHFxoPBygOsoRcjhw5XO6w770nH16BgXDihPPPHxlp7goeMcL559d4D/fuyfRAQkCLFq5L2WKk6ihZUi89yMicPGlmNPjoI9ddp2NHeY1ixfSP3IyOUd/BQf9dWXV8ofFwgHIADRs2pECBAi511j17zCna0aNdd53Ro+U1AgLg6FHXXUfj2YwbZ+7UdcVojMGJE6ZfT5vmuutoPJtu3aQPBAXJRPau4vRp80fuxImuu47Gs/njD/kDFxz231VVxxcaDweoCFC3bl0KFy7sMmeNj0+8SeP+fZddirt3oVQpea3evV13HY3nEhUFjzwifeC991x/PSPFzKOP6lGZjMjff5sbP2zKsLuM8HBzqYsnrz3VuI4WLSA4WP6/g/67pur4QuPhAGEANWrUoHjx4i5z1h9+MHf9GusWXMncueboz9mzrr+exrN46y3Z/gULuicgu3LFHJX5/HPXX0/jWbRpI9u+ShX3pAQ6f96cbp4xw/XX03gWu3aZ1WXAYf9dW3V8ofFwgBoAYWFhlC5d2iXOGh8vR/2EgBdecMklHuD+fbkzUwgYNMg919R4BlFRZvmtyZPdd90BA8y1gHFx7ruuRi179pgbM1avdt91+/c3y2Bqf8tYGMsNXnxR/ttB/11HdXyh8XCAOgCVKlWiXLlyLnFW29G/Awdccgm7fP65uRYwLTU4Nd6NMT1WqJDcde4ujh83K9KsWOG+62rUYpRqCwtzb23oI0dMf/v+e/ddV6OWyEjw95ftbpSzdNB/11UdX2g8HKAuQMWKFQk2FhQ4kbg4s2JCly5OP32y3L0LRYrIaw8c6N5ra9Rw8aK59k/FAvn27eW1mzZ1/7U17ufcObMzfpjygumlSxd57WbN3H9tjRrGjjXzmhpZBxz03zoA1CQPNgFgxYoVne6sixaZo3///uv006eIMQoYGOj8JMAaz8MoCViggJrNGBs3mtOBu3e7//oa92KktSpSxLUb2xzx88/m8/X4cfdfX+NeYmOheHHZ5u++a77voP/WU8Ca5MGFI4AWC1Stqmb0zyA6GvLnlxo++ECNBo17iImRv4qFgPffV6PBYpEbAYSQawI1voutv40dq0ZDfLxccyqETEKt8W1WrJBtnTkznDplvu+g/9a7gDXJgwsDwM2bPWM05P33pYb8+d27JkzjXpYske2cJYtcJ6OK6dOljty5tb/5MsuWyXb285O7clUxYYK5412nhPFtnnlGtnW7donfd9B/h6mOLzQeDjabQMqXL+9UZ+3cWTprw4ZOPW2auXTJ3BX62WdqtWhcR7Nmso2ff16tjmvXTH+bO1etFo3raNVKtvGzz6rVERVlliNUsQ5R4x6uXjXbOWkZQAf9ty4Fp0keoBZASEgIZY204k4gMtKsjrBokdNOm24GDZJaSpRwboF2jWdw7Jg52vzzz6rVQK9eUkvNmqqVaFzBhQty5E8I+Okn1WrMnch16qhWonEVM2fKNs6V68FKMw7671Kq4wuNh0NCHsDQ0FCn5gEcM8bMVO8J9VFPnvSsgFTjXIYOlW1bqpR7EvGmxPbtZkC6a5dqNRpn8+mn5rIST3i+/fmn6W+6/KVv0rix4+pWDvrvwqrjC42HA1QBqFatGkFBQU5x1Ph4OdImBAwf7pRTOoUXXpCaGjRQrUTjTOLizMX4EyaoViOx3QD12muq1WicicUic/55Unopi0XWIFa5IUXjOi5eNHM+2pvhcNB/P6o6vtB4OCTUAq5Tp47TagH//rv5a9STUhNs2eIZm1I0zsU2FYYnJfz+7DOpK2/eB6dsNN7L//7nmaO777xjVgZxZ0JqjeuxHXG2l27IQf8dqDq+0Hg4QEmAJk2akDt3bqc4a58+njnSZjsq06OHajUaZ2GURfK05MtXrpiLtnWlBt/h9ddlm1arplpJYg4fNgPTTZtUq9E4k+rVky9raqf/vqc6ttB4AUABgHbt2uHn5/fQjnrvHuTJI531iy8e+nROZ/58qS1rVrmQW+PdREdDzpyyTefNU63mQYxlB02aqFaicQYWi1ljXEWlmZR44onENWI13s/Bg2Zgv327/WPs9N9RqmMLjRcAZAPo2rUrQgjuPWQiqR9/lI7q7w+XLz/UqVzCvXsyX5ZeK+MbGLn/AgJk+hVP49dfzYf3sWOq1Wgelm3bPHN5i8G335rfh+vXVavROAOjulGZMo6n9u3034dVxxYaLwDIBMT0798fIQRRUVEP5azPPSedtX37hzqNSxk+XGp8/HE15Zs0zuPFF+0nRvUUbCs12JZu0ngnQ4bItqxaVbUS+0RHQ44cnjsirkk7lSunvKHSTv+9TXVsofESgOvh4eEIITj2EMMUtokqFy9O92lcjm0Bd50Sxnu5cwceeUS24/z5qtU4Ztw4MyVSXJxqNZr0YrGYdVg//FC1GscYOQEbN1atRPOwnDhhjjhv2+b4ODv99ybFYYXGWwAuDR8+HCEEBw4cSLezzppllsDy9F2PnTrptVneztKl5nTXjRuq1Tjm7Fm5Q1kIWLdOtRpNerGd/vXk6fxffjF3xZ8+rVqN5mGYMkW2ZdGiyec3tdN/r1AdV2i8BCBy/PjxCCHYsWNHup21RQvv2WFruzbr339Vq9Gkh969Zfu1bataSco0by61dumiWokmvRhpVqpUUa0keeLioEgRzx+p1KRMkyayHfv3T/44O/33TNVxhcZLAE5OnToVIQS///57uhz1zh1z+nflynSdwq1YLFChgtTbr59qNZq0Eh8PhQrJ9ps+XbWalPnuO6k1MFAvzvdWjOTPo0apVpIyb78ttQYH65yA3sq1a2b1qjVrkj/WTv89TnVcofESgMPz589HCMHy5cvT5aw//WTu/r11K12ncDszZphTiJ6UQFiTMjt2mCO43jDNFR0ta3gKIWt6aryL8+dNf4uIUK0mZQ4cSDl1iMaz+eYb2X45csjsFclhp/9+U3VcofESgH0rV65ECMH8dK6mf/VVz0zGmxz37smdwELI3X0a72H0aNluISGqlaSeV16RmuvWVa1Ek1a+/tpc3xwbq1pN6jCSB7/xhmolmvTw/POy/Tp1SvlYO/13T9VxhcZLAPZv2rQJIQTTpk1Ls6PGxUGBAtJZP/88zR9XysSJ5oPdW0YuNVC7tmy38HDVSlKPbSnCQ4dUq9GkBWPTWGo6Y09h8mSp+bHH9O5zb8M2nc+336Z8vJ3++3nVcYXGSwD27969GyEEY8aMSbOzRkSYHdvZs2n+uFKuXzdTicyapVqNJjVcumTuqt24UbWa1GOxQLlyUvc776hWo0kt9+/LH4ienm4oKefOmd+Tn39WrUaTFpYtM5dUpWbNsJ3+u6nquELjYpBJnDsBy4G/gBlAmRSODwUGAsOB5gnvHTp+/DhCCAYPHpxmZx0/3vum42wxpq9DQvSCaW/AKOeXO7f3JfI2cgIWKeI9U4kZnfXrZZv5+ckfH95E48bek5lBY2KMOD/9dOqOt9N/l3NfJKJxO0B+YLMdX7gL9Eg4JjswGTgNXHXgOxuBU9euXUMIQe/evVPvpQnUqyed9c030/xRj2DfPnMEc8sW1Wo0KdGxo2yrF15QrSTtnD0LmTNL/WvXqlajSQ39+nlvYuW5c82NBLdvq1ajSQ3R0easVGqmfwHs9N+5lAYoGtcB+AM7ASwWCytXruSdd97hxIkTtj7RD5hrz1kuX77MlsSRzv24uDgyZcpEhw4d0uKrXL5sTjP89luaPupR1K8v76F7d9VKNMlhsZjrTb/6SrWa9GHky9Q5AT0fiwWKFZPtNXWqajVp58YNyJZN6l+wQLUaTWpYtSpt078AdvrvvKrjFI2LAPoD3L17l5YtWyKEICAggEKFCrHRzqKokSNH0qZNG9q0aUNISAhCCIQQdOnSBYvNnGfu3LlpmsZtvKtXm6lUvG06zhZjWjFbNp2nzZP5919ztPbwYdVq0se335rfmStXVKvRJIetvx08qFpN+njpJV31yJvo1Uu2V4sWaftckv47SHGYonEVwB6ARYsWERQUxEcffcSmTZv4+uuvKVSoEP/8808ixwgKCiIgIICmTZvSq1cvJk+ezOTJk/nuu+8SHVe4cGFeffXVNDnde+9JZ61XL23O6mncuWPmafvyS9VqNI6YOlW2UfHi3rteMzoa8uaV9zFpkmo1muT48kvZTsWKea+/GVWPMmWStWU1nktsLOTLJ9trxoy0fbZt27bUNXNMVVQdp2hcAFDWaOFGjRoxbty4RE7Qpk0bPrSp/3Ps2LFUp3epUKECUVFR7N+/P9lXVFSU9TM1a0pnfffdtDmrJ9K3r7yXWrVUK9E4om1b2UZp/J3icQweLO+jYkXvDSwyAt26yXbq2lW1kvQTHy9/MHlLFZOMzMaNZrB+/nziv6Wmby5XrpxxeD3VsYrGBQAdAS5cuEDmzJm5fPmy1UHi4+OpX79+omoeN27cIFeuXOTMmZOQkBBmzZqVaNoXeN34n1q1ajFq1CjrFLGj16iEp8i1a+b6v3RWkPMo/vrL+6d7fJnYWMiZU7bPwoWq1TwcthuPdKUGz6V0adlGn36qWsnDMWqUvI/SpfUPDk/mtddkOzVo8ODfUtM358yZ0zi8pfujE43LAV4AOHnyJEII7tssvJs9ezYhISHcTrLda+rUqZQsWZLixYvj5+fHU089RXR0tPFna574Jk2apCkAXLvWXKx6966TvgEKsVigbFl5T2+9pVqNJim2+SZtBqG9FqNSw2uvqVaiscepU6a//f23ajUPx8GD+geHpxMXZ9Y3t7fhKDV9c0BAgHG4TgTtiwDPAVy6dAl/f39+/fVX4uPjmT17NgUKFOB///sfAJMmTbr71ltvPbAtw8gY/tNPPxlvfWb8T/v27dMUAA4ZIp21YUNnfQXU88kn8p4KFYKYGNVqNLaMGSPbJjRUtRLn8Pnn8n5y5pTrAjWexZw5sn0KFJDTqN5OtWryfgYOVK1EY49ffjGnf+3Vpk9N35wpUyZjhq+Hu2MTjRsAHgdiAcaMGYO/vz9ZsmShUaNGXLHZUtisWbPTc+bMecCJ9u7dixCCVatWGW99YfxPjx49qF69Otu3b0/VGkCjHNfw4U76BngAkZGQJYu8ryVLVKvR2GKk6klHrnKP5Pp1uRNYCFi8WLUaTVJefFG2TefOqpU4B2MDVYEC3p2xwVcxaoU/+aT9v6e0BnDgwIEIIbgu01i8pTpW0bgI4GPDKQ4dOsRPP/2UdF2fla1btxIeHk54eDjz5s2jYsWK5MuXz3ASgNHG/wwePBghBCdPnkzRWW/elJnxhYANG1Lp4V5Chw7yvtq0Ua1EY3DtmplA+ddfVatxHoavtW2rWonGlvh4czpu5kzVapzDhQtyuY4QsGiRajUaW+7dgzx50rf71yBJ/z1GdZyicRFAFmSFj6RsBaoA1vzh+/bto127djz66KMIIXj88cfZvXu38efrgDW//ejRoxFC2P7dIWvWmOv/7txJn8N6KkYizsyZ4cwZ1Wo0YNbGzJ5dPix9hRUrTF87fVq1Go3B1q3mmjlfahejik7r1qqVaGwxnm9ZssjiCukhSf/9ueIwReNqgDLAR8DnQJskfwsBrKvYYmJi2LNnD3fMaO0eshZwHeONmTNnIoRg3bp1KTrbf/6T/HC1NxMXB48/Lu9v/HjVajQAAwbI9njqKdVKnEtsrFlpYsQI1Wo0BsOHyzYJC1OtxLmsXGnWNU6aZkSjjueek+3Svn36z5Gk//5RTVSi8RiAmsBvdnzlAtA04RhrALhq1SqEEMyda7eCXCKMHYwffJB+h/Vkhg2T91eihE6b4AlUruy7Afno0fLeChb0rdFNb6ZKFd9b3wxyY9tjj/nud8kbsa39+/336T9Pkv47Qm30ofEYgJzA00Af4Fkgq83frAHg9u3bEUIwYcKEZB3t+nVzPZY31/9NjqNHzSmgzZtVq8nYXLhgtsVff6lW43xs12b9+KNqNZrz501/i4hQrcb5GD9uS5b0jd3N3s6iRWZpyIcpQ5qk/z6qLuLQeA3YBICHDh1CCME777yTrKMZa+QCAnwj/58j6tXzjaoT3s7XX8t2yJNHTpn6Is88I++xXTvVSjQLFsi2yJtXLgfxNY4dMwNcX9pQ5a20aSPbolOnhztPkv47SnVsofECgNqGA50+fRohBG+++Wayjmbk//PF9X+2fPGFvM9HH9U5AVXSpYtsh+efV63EdejNIJ6D4W8dO6pW4jqaNJH3+PLLqpVkbK5eNUf/V6x4uHMl6b9vqo4tNF4Acp0gIMvLCSHo379/so5mrI95//2Hc1hPJyrKnOpeu1a1moxJfDzkzy/bIBVLU72W2FgoWlTXa1VNXBzky+f7/vbVV+au+oeZdtQ8HEay8Vy5Hn42LUn/fV91bKHxAoCqhgPdvn0bIQTdunVz6GSXL5vTB1u2PJzDegPNm3t/MXhvZu9e099SkZ7SqzHqtRYvrtdmqcK2Hri9agy+wq1bMugQAr78UrWajEujRrINevZ8+HPZ6b+zptT/azI4yHQxAFgsFoQQdOjQwaGT2eZjywjTot98Y95vkhLLGjcwaZK0f6lSqpW4nhMnzODjl19Uq8mYvPeetH/Vqikf6+307SvvtUoVnelABWfOmN93Z2ymtNN/51EdX2g8HKC0rRP5+/vTNpmyBP37S4dt0eLhHdYbuHkTAgMffou+Jn00ayZt/9prqpW4B+N+fXm9oycTGuqb6V/ssXu3GYDs3KlaTcbj44+l7QsXdt5moyT9d0HV8YXGwwEK2zpQzpw5adasmUMHK1lSOu3Eic5xWG+gUyd5z08/rVpJxuLmTciaVdreLF3t2yxe7JyUEJq0YzsCu327ajXuISxM3u/AgaqVZCwsFihfXtp+yBDnnTdJ/11cdXyh8XCAPLYOlC9fPho1amTXuY4fNx+Qe/c6z2k9nR9/NDvlmzdVq8k4GMsNAgJ8r9ygI6KjzbVZn3+uWk3GYupUaffHH884azCnTTMzHdy/r1pNxmHXLrMvPXDAeedN0n+XUR1faDwcwN/WgQoVKkS9evXsOtf06eaQdUZaM3LnjlwDKAT88INqNRmHPn2kzVu1Uq3EvRjLLGrXTvlYjfN44omMtdwA4NIlWX9WCFi+XLWajMObb0qbV67s3PMm6b+DVccXGg8HyARYVyAUKVKEWrVq2XWuli2l0/bu7Vyn9QaMRL16N7B7sFjM5QaTJ6tW414iIszRgX/+Ua0mY3DhgpnyKaNtwDESEb/wgmolGYOYGDniKgRMmeLccyfpv0NUxxcaLwC4YXhMUFAQ1apVe8CxoqPNzRAZsVzVvHlmNYqMsPtZNYcOuWaKxBuwXR80YoRqNRmDmTMzbtL3b781l1pcvapaje/z669m0veoKOeeO0n/XUV1bKHxAoDzhseUKlWKsLCwBxxr3TrptH5+GXNx+sWL5gjBhg2q1fg+xnqs4sUz1nIDAyMnYJkyGfP+3Y0xCta9u2ol7sd23en8+arV+D5du0pbP/GE88+dpP+urjq20HgBwFHDY8qWLUtISMgDjmWsWXCwPyRDUL++tEEKlfI0TqBFC2nrvn1VK1HDwYPmCGhEhGo1vs2dOxl7dgPgpZfk/bdurVqJb3P7NmTLJm397bfOP3+S/ruW6thC4wUAewyPKV++PBUrVnzAsSpUkE47frzzndZb+PBDaYPSpfWojCuxTf/ysPUxvZmaNfUPDnewdKne5b9qlTnDc/58ysdr0sfChdLOgYGu8bUk/Xcd1bGFxgsAfjM8Jjg4+IEA0DY/1u7dzndab2H/ftMOhw6pVuO7GOlfAgMzTvoXe0ycKO1QtKj+weFKXnxR5/mMiYGCBaUdPv5YtRrfpVUraeNOnVxz/iT9d13VsYXGCwBWOHAgQOYjy4jpX5Jiscg1aULINWoa19Cjh56OgsQ/vLZtU63GN7l3D3LnljaeN0+1GrW89Za0Q2ioaiW+yblz5jry1atdcw0dAGrSDGBd+lu+fHkqVaqUyKlat8646V+S8uqrOjhxJbYpEmbNUq1GPVWqSFu8845qJb7JypXSvlmywJUrqtWoxbY03L59qtX4Hh98YA6kxMa65hpJ+m89BaxJGcCaaa106dKJdgHbLpD+739d47TexJIl0haPPKIz57sCV6ZI8Ebef1/aw86yXI0TMHZkZrRk4/awWMy13jr9kHOxzWs6cqTrrpOk/66hOrbQeAHAOMNjgoKCqF69utWhli+XTps1K9y65TrH9RauXIFMmaRN/vhDtRrfY9AgadsGDVQr8QxsS0YdP65ajW9x9y7kzClt+9VXqtV4BiNG6B8crmDLFvN7fPRoysenlyT9t84DqEkZYKjhMYULF6Zu3bpWh+rZU/9CTkr16tImw4erVuJbxMXJOqxCyA0QGjlyYNjks89Uq/EtjB+3/v46AbKB7TSw3ujmPAYMkDZ1UGTLaSTpvyuqji00XgDQzfCYnDlz0rx5cyDxeqyZM13ruN7EO+9Im9Spo1qJb7Fpk9n5nD6tWo3n0KuX3qXqCozdv23aqFbiOdhOVX70kWo1vsH9+5A3r7TptGmuvZZt/w0UVx1baLwAwOoxfn5+tGvXDoD1683cUBcvutZxvYmffzZHDjJymhJnY0z/1q+vWolnsWiRtEvOnBmvTJmrsJ3+1dUvEmMk/a9XT7US38DYaOTnB5cuufZatv03kF91bKHxAoCaAHFxcQgh6JSQpKhPH+m4Tz3lWqf1Nm7elLsGM2LheFcRHw9FikibTpqkWo1ncemSOTL655+q1fgGP/ygp38dsXGjtE2mTPqHvzPo0sU9mSOS9t9ATtWxhcYLACoCXLt2DSEEvXv3xmIxp3/nzHGt43ojtWpJ27z/vmolvsFff5lBzsmTqtV4HmFh0jZjx6pW4hs8/bS0Z8eOqpV4HjExkCePtM+CBarVeDd37pgjza62pW3/DVgAP9WxhcYLAIIATpw4gRCCIUOGEBPjvmFrb2TwYGmfxo1VK/EN+veX9qxdW7USz+T116V9WrRQrcT7uXbNLDWYUWv/pkTnzq6tWJFRMNKGBQTA9euuvZZt/w1cVx1XaLwEoADAzp07EUIwduxYLl7U07/J8eOP5rqsuDjVaryb+/chf3690zU5jI4kRw7XJZHNKMyaJW2ZK5dcC6h5kAULpI3y5NH+9jAYgbS5LM912PbfwAnVcYXGSwByAmzcuBEhBNOnT+fvv3V5pOSIjDSnLHfuVK3Gu1m82FyPpZM/2ycqyvS3rVtVq/FuGjfWlY1S4sIF09+2bFGtxjuJjpYFA4SAb791/fVs+29gj+q4QuMlAJkBli5dihCC7777jt9+0wukU6JECfnl/uIL1Uq8mzZtpB2fe061Es8mOFja6eOPVSvxXs6fN+ux/vyzajWeTbVqOt/pw7BihVlE4cYN11/Ptv8GtqmOKzRuBCgIlAAyJ3NM5oRjCtj5W+ysWbMQQrB+/XoWL9Z5x1LCyCPWubNqJd5LVJRcZyqETJegcUy/fjpv3cMycaK0YYECemozJd59V9qqRg3VSrwTo4hCy5buuZ5t/w1scGW8ofEQgEbAXzZ+EAl0TnJMZuBN4KzNcRFAeZtjYsePH48Qgh07djBjhsw/pnHMnDnyC/7YY6qVeC9ffiltmC+fznGXEkY+wFy5ZNocTdoJDZU2/M9/VCvxfH7/3UwHc+WKajXeRWysfKYJATNmuOeatv03sNrdsYjGzQCvIbd722MO4AcEACuS8ZtOCeeKf/PNNxFCcOrUKcaN07V/U2LvXnOdzPnzqtV4J8Z6rFdeUa3E8zl92vS3f/9Vrcb7MNY1CyFLnmmS5/59yJZN2mvZMtVqvAujWEDmzO7rG2z7b2CJ2uhE41KAhkbDR0RE0LhxY8qVK8eqVatsfWIS8AmAxWJh5syZlCtXjiZNmnA6ca2tZgAvv/wyQghu3brFe+f1cAAAIABJREFU11+72l29n9hYyJ5dftH/+1/VaryPkyfl6IJOqJ06LBY5dSkEyGU+mrRgpBoKDZW21KRMs2bSZq+/rlqJd9G3r7Tbk0+675q2/TewUHWMonEhwDqALVu24O/vjxCCNm3akD9/fmbaKdz73nvvIYTAz8+PTp06UbBgQQ4ePGj8+RRA8+bNady4MRaLhRMn3OKzXk/TpvKL/uabqpV4H2PGSNsVL65T6aSWFi2kzQYPVq3Eu4iOllPnetNW2hg/XtqsUiXVSryH+HgoXNj9aa1ef/11HnnkESzy1833qmMUjYsAHjcavVu3bvTr148TJ05w+/Zttm3bRq5cudhpk5skOjqaggULsnLlSo4cOQLA2LFjKV26dCIHCgkJISoqiv379yf7itK5OqyMHi2/6NWrq1biXVgsUKGCtN2wYarVeA/Dh+s6renBSDXkjoS8vsS2bea0+YULqtV4B7Y2c+ZASmr65pIlSxqH6ylgXwXoD3D9+nX8/f3Zu3dvIkcJDg5m+fLl1n9/8803BAcHE2uz7e3QoUPIU5kULVqUUaNGIYRI9jVq1CjnebWXY9TN9POTZX80qWPPHvMhuX+/ajXew5o1ZmqJ+/dVq/EennlG2q1DB9VKvIvYWHPkdOFC1Wq8gxEjzKUGziQ1fXORIkWMw9e7PTDRuAfgfYB169ZRokSJRE5y4MABcufOzc2bN63v9evXjzeTzFF++umnPGVT5sNisRAQEKADwDRy86a5jk0nTE09b78tbVaxomol3sWVK2bgvH27ajXewfXrcuRPCFlRRZM2jLrJeqNW6qhRQ9rr3Xede97U9M1lypQxDtd5AH0VbALAoKAgq4PcuHGDOnXqMGHCBADOnz/P7du36devH2+88Yb1uB07dpAvXz727dtnvHXy9u3b1uBO6AAwTRhTmdOmqVbiHcTFQdGi0mbjxqlW432ULavL5qUFo6xZjhx6lD49TJ4s7Ve+vGolno9txZ7Nm5177tT0zaHmsONhtwcmGveAzOnHmTNnyJo1KyNGjGDevHlUq1aNYcOGEZ+QJOyJJ57g3XffZebMmeTLl4+vvvqKDz/88IEpYmBWVFQUQghGjhyp1wCmESMhdNeuqpV4B8Y0ZqZMMrWJJm107Srt9/LLqpV4B+3bS3t16aJaiXeydasZ1OhHf/J8/72Zq9PZicaTWwP4559/EhoaSvfu3Y3DL6iOUzQuAngMiAFYvXo1wcHBlC9fPmkKGPr37x9x+fJl4uPj+eCDD8iTJw9PP/00x44dsz3sdWDyP//8gxCC9957z7lemwH44gv5pS9VSrUS76BbN2mvFi1UK/FOpk3T/pZarl2T6yWFgKVLVavxTmJj5eipnkJPGaP6R/v27r2unf77luo4ReNCkEmgAYiNjU20wcMRd+/eTfpWl4Rzfb9hwwaEEHym55XSzM6d5i/kixdVq/FsbNNxzJ2rWo13YpvQODJStRrPZsYMaafcuaXvadKHkX5o0CDVSjwXiwWKFZN2mj7dvde2039bSKYsrMYHAJ4GDtr4wTGgA7L0W3dgIfAFMB2wLUe9Hihrc551S5YsQQjBQr3VK83ExJgZ83U92+RZuNBMx3Htmmo13klcnB6RSS1Nmkg79e6tWol3Y+QDDAlRrcRzOXlSXWYDB/13bnXRicYtAJmAGgkvhxE/kBOoB5S287c/FixYgBCCFSuSqxqncUSDBvKLr2fQk6dNG2mnTp1UK/FuWrbUCchT4vRpc4f+zz+rVuPd/PWXGdxcuqRajWdibDZ69FH31+p20H8XcWXsofERgN3Tp09HCMHGjRvd67k+Qni4/PI3aqRaiedy7Rr4+0s7Jd6DpEkrI0fqhNAp8ckn0kaPP64rzTwstrMcSZaaaxLo3l3a57nn3H9tB/13KdWxhcYLAI6NHz8eIQQ7duxwv/f6AKtWyS9/YKB8WGoeZM4caaOcOeHB5aiatLB6telvzt5t6CvUr6/r2DqTunWlPUePVq3EMwkKUrP+D8BB/11OdWyh8QKAqHfffRchhG19YE0auHjRnCLZtUu1Gs/kiSekfXr2VK3E+zl/3vS33btVq/E8IiPN6d/fflOtxjd47TVpz9atVSvxPCIjze/jnj3uv76D/ruS6thC4wUA9wYMGIAQgvPnz7vfe32E0qV1gl5HXLhgdsi//qpajW9QqpS056efqlbiecyaJW2TL5+e/nUWxgauPHncv8bN0zFqTefIoWZE3kH/XVV1bKHxcAA/gB49eiCESFRCTpM2jAS9PXqoVuJ5zJ4tbZM3r56ydBZGzjEVa448nbZtpW26dVOtxHc4ccIc5TpyRLUaz2LQIGmXli3VXN9B/11DdXyh8XCQu4Pp1KkTQohU5RPU2GfKFF0yyRGtW+sO2dnMnStt+thjMgeZRnLnjlwbqZM/OxeLReZTFAJ+/FG1Gs+iTh1pl/ffV3N9B/13LdXxhcbDAR4HaNWqFdmyZVPivL6Cbcmkq1dVq/Ecbt40qzHo3b/O4/Bh09/00l2TFSukTbJmlb6ncR7GOt4hQ1Qr8Rzu3DGzG6xbp0aDg/67jur4QuPhAOUBGjRoQMGCBd3uuL7EvXsywbEQ8NNPqtV4DosWSZtkyyYflhrnYLFA4cK6qkpSXnlF2uSpp1Qr8T1GjJC2rV1btRLP4fffpU0yZ1b3g8NB/11XdXyh8XCAUIAaNWpQrFgxtzuur9Gokf6FnJTOnaVNOnRQrcT36NBB76y2JT5eTokLAZ9/rlqN77FunTm6eu+eajWeweTJ6qukOOi/dQCoSR6gKkDVqlUpUaKE2x3X13j/ffkwqFJFtRLPICbGXDe0YIFqNb7H1KnStmXKqFbiGWzfbk6LnzypWo3vcfWqad9t21Sr8QxeeEHao3t3dRoc9N96CliTPMgScoSGhlK6dGm3O66vYUwHZMqk1wECbNhgTo/oElLOZ9cus0M+e1a1GvUYFVJCQ1Ur8V2M9EMzZqhW4hmUKCHt8cUX6jQ46L/1LmBN8gB1ACpVqkS5cuXc7ri+xr175g5EXVZZ1qoVQlZl0DifuDiZWkcI+Ppr1WrUU6OGtMU776hW4rt06qR39BucO6c2AbSBg/47VHV8ofFwgLoAFStWpEKFCm53XF+kaVNdggrkJgVjtGDCBNVqfBdjHWBGzz8ZFWV2xps3q1bju3z6qU53ZbBkiVneUmXCcQf9dwXV8YXGw8EmAAwODna74/oiH36oH5AA+/aZHfI//6hW47tMny5tXKxYxs4H+N130g65culk464kIsL8Xl+7plqNWgYOlHZo0UKtDgf9dynV8YXGw0GPADqd3bvNB+Tx46rVqGPsWGkDvbLAtRw8aPrboUOq1ajDqIzyzDOqlfg2d+9Cliy6rCNAzZrSDqNHq9XhoP8upjq+0Hg4QG3QawCdicUCRYrIB8O0aarVqKN2bZ0Sxx1YLFC0qLT19Omq1ajBYpEjoBnZBu6kShW9tOPmTfDz84xA2EH/XUh1fKHxcICaIHcRldG5JJxG377ywdC4sWolaoiKkjuhhZA7ozWupUcPaetnn1WtRA3//quroriTPn30aOuaNdIG/v7qE9w76L/zqo4vNB4OUAWgWrVqBAUFudtvfZaffzbTn5w/r1qN+1mwQN5/njx6PZY7+OYbae/cuTOmvY2NCUFBGXsdpLv49tuM7W8A4eHSBg0aqFbisP/Orjq+0Hg4QAWA+vXrU6hQIXf7rc8SGwsFCsgHxKefqlbjfrp0kffeqZNqJRmD8+fNEbCtW1WrcT/t2sl7791btZKMge2O67/+Uq1GDcb6v5EjVStx2H/7qY4vNB4OUBSgZcuWZM+e3e2O68sMGCAfEHXrqlbiXuLjIX9+XaPW3YSGSpu//75qJe7l/n3IkUPe+6JFqtVkHCpXljYfO1a1Evdz44a5/m/DBtVq7Pbf91THFhovAMgD0KFDB4QQWPT8idPYvNn8lXz6tGo17uPvvzPmfatm6FBp89q1VStxL3/8YVbfuXxZtZqMwxtvSLs3bapaifsx1v8FBEB0tGo1dvvvy6pjC40XADwC0LlzZ4QQxMTEKHNiXyM+HgoXlg+KiRNVq3EfxnqsUqVUK8lYbNpkBkIXL6pW4z7GjJH3XbWqaiUZi+XLpd2zZZMVkDISRoqrWrVUK5HY6b9PqI4tNF4AkAWgW7duCCG4deuWMif2RQYPlg+KSpUyzuL0p5/W67FUEBMjN90IAV99pVqN+2jZUt7zoEGqlWQsrl2Tm9yEgI0bVatxL8Yzrl8/1UokdvrvPapjC42XAMT36dMHIQSX9RyKU9m715wO3b1btRrXExMjyyIJAQsXqlaT8XjhBWn7555TrcQ9xMTAI4/Ie166VLWajEedOhkv12dMjKw240nPODv9d4TquELjJQB3Bw4ciBCCyMhIhW7sm4SEyIdFeLhqJa7HWPeY6f/snXdcVuUXwC9uTUUFByKgIiKIIE5wYG4hV5SkpoR7oZm7TC01c6WkViZalJYz05yVmalpyU9xoKa4jZWKCC4E3u/vj+ddICr7vsDz/Xzej/KOe88959znnPuM85jBrVtqS1P00JXnqFChaAzL/e9/hges2Fi1pSl66IbfXVzUliT/OHzY4HOmMtUig/j9s9p5haSAAMRPnDgRRVG4evWqel5cSNHtDVyrlpgXWJh5/31xrU2bqi1J0eTOHcPqxF271JYm71myRFyrg4PakhRNjh0regu+PvpIXK+bm9qSGMggfv+gdl4hKSAA/3744YcoikJYURinzGeuXTM0kocPqy1N3tKsmbjO6dPVlqTo0qWLsIG/v9qS5D26uVjDhqktSdEkNRWqVRM2WLlSbWnyB19fcb0jRqgtiYEM4ve3aucVkgICcO6zzz5DURT2qb2pYSFFty9uYZ6o/t9/hu3fDh5UW5qiy+rVhl0aCvMwcEqKYdHLd9+pLU3RRbcNYffuakuS92g0UL26uN7Vq9WWxkAG8TtI7bxCUkAATn377bcoisK2bdtUdOPCy9KlotGoWlUUri2MGG8PJasJqcedO1CihLBFYb6djx839KzLqcvqsWWLoRyM2nvi5jXGi/quXFFbGgMZxO/paucVkjwEMAO6AUHABuBToAtglo1jhW3atAlFUVhvKsuaChkxMYagvHmz2tLkDcOGievr1UttSSS6odFXX1Vbkrxj+XJxjbVrqy1J0SYhAUqVErbYsUNtafKWhQtNc85pBvF7VO5nHRLVQSR+o4D4Z/hCGGANtASmA5OBhi845sk9e/bg7u7OFllLIc947TXRePj4qC1J3tCgQdErem2qbN0qbFGihOmsVMxtdPdTQIDakkh0806HDlVbkrylfXvTnMqza9cuFEVhtWFcul8+pSSS/ATor7OwRqPhf//7H0FBQRw7duxF27gtR7s5NGL3j6nAd8BWoJB33JsGO3aIxqN4cYiOVlua3CU62jA0cuyY2tJIkpIM+zF/+qna0uQ+Go1hl52vvlJbGsnnnwtbWFpCcrLa0uQN8fGGUZw9e9SWJi3Hjh1DURTmzZune6uHyqmKJC9AJGz8/PPP2NvboyiK/hUYGJjGKcLCwrh48aLxW38AZYDQjJxIo9HIvYDzkORkwwTiTz5RW5rcZf16cV0VKxbeAFDQCAwUNmnWTG1Jcp8rVwwPHOfPqy2NJDrasADs11/VliZv2LxZXF+5cvDokdrSpOXy5csoisJkQ7HZdupmKpI8AVirM/gnn3zCn3/+yaNHj7CyssLPzw+AuLg4vL299YnhokWLSDZE5USAR48e8fnnn/Ppp58SFBSEn58f1atXp0WLFoSHh+ev9xYhxo8XjYira+HaGm7IEHFdPXqoLYlEx99/G5KkEyfUliZ3+fJLcV01ahSu+6gg8/LLhbskz6BBprvaOS4uDkVRGDRokO6t5iqnKpK8AHhqy/Pt27ejKApjxowBICAggLp16+Lh4cGuXbuwsbHh448/TvObAwcOpOk99PT0pFu3bnTr1o3vv/8+j9216HLqlCEo//232tLkHo6O4pqWLFFbEokOjQbc3YVdDHGhcNC7d9GpdVhQ+OILYZPKlQtfpYPUVFHBwVTrHWo0Gtq1a0fXrl11b3mom6lI8gSgps7CkZGRjB8/HktLS2rVqsW1a9f477//KFu2LCdPntQ7R3h4OIqicOfOHf17ixYtomTJkhw/fvyZw76RkZGEh4c/9YqVey7liObNTa+QaE6IjS2cSW1h4OuvhV1Kly48W/OlpIhSQ7L+n2lx+7Zhjtz27WpLk7scOWJo427eVEeG2NjYDOOx8cvdXd8/1FLtXEWSBwDDAG7evEmlSpVQFIVOnTpxRVuUaM2aNbRq1SqN49y6dYty5cqRmJiof2/hwoUoikJAQACLFi1K8xnAmDFj0vQQGr9mzZqVVz5eJFi5UjQk5cuLEgoFne++M9T/k/P/TItHjwyLQRYtUlua3OHkSVn/z1Tx8RF26dtXbUlylylTxHU1aaKeDLNmzXpmTNa9LC0tdV9vlf/ZiSTPAcYB/P333yiKgp2dHY+Nyv3PmDGDN998M43jjB49mgEDBqR5LyIiAktLS73jODk56XsNb9y4gZmZmUwA84iEBHjpJdGgLF+utjQ5x99fXEvv3mpLIsmIyZMN9fJSUtSWJuesWCGux85ObUkk6dE9DJYpA3fvqi1N7qDRQP364rpmz1ZPjswkgOXKldN9vXe+JyeSvAcYBOiHekuWLMn9+/f1TvLBBx/QuXNn/YreFStWYGNjQ0xMDACzZ8++H6V9bE5MTOSff/7hxIkTtGvXDnt7e/1xbGxsZAKYh4wdKxoUF5eCPYk9JcXQw7RqldrSSDLi2jXDCs1du9SWJuf07CmuZfBgtSWRpOfBA1EJoDC1B+Hhhh5nNddHZiYBVBRFN6VriArpiSSvAaoAjwB27NjB9nSTLSIiIihfvjytW7fG3d2dbt26cVM7aSEhIYGSJUvydwYTtaZNm0a1atX0f1+4cOGZ8wzkHMCcY7wY5OhRtaXJPmFhhuv491+1pZE8C2/vwrFK+8kTqFBBXMuGDWpLI8kIXUWAtm3VliR3mDFDXI+jo7oP6y+aAzhu3DgURSEuLg5gitq5iiSPADKahroZeAxw9epVRo8ezddff01SuuVYWucgNDSUX375hePHj3Ps2DFsbGzo0KFDnjqwJC0eHqJh6ddPbUmyz5Il4hqMOo8lJsj27YYi5JGRakuTffbvF9dhZlZ4FrUUNn7/3fBQeP262tLkDI0G6tUT12LqA19Tp05FURQiIiIAFqidp0jyAKC1zuC3b982tn9zoA/wMAPfOA6kmQL+1ltvUaJECX23sZ2dHVevXgXg3r17ueqYkoz5/nvRsJQsWXCDWbdu4hpGjlRbEsnzSE6GmjWFrWbMUFua7KOro9m69Yu/K1GH1FSwthZ2WrhQbWlyhnEtzX/+UVua57NgwQIUReGoGFJarXKqIskLgG8A2rdvP09RFDZt2rRTa/9x2s9tgS+AS4gdP4Zj2AKuHtrhY4CoqCh++OEHVqxYoS8Rc/fuXQ4dOpRPLlu0efwYLCwK7grN5GTDYha5hbTpM3eusFWVKsL3ChoaDdStK65h/ny1pZE8j4kThZ2cnAr2HGfdXG01V/9mllWrVqEoCnv37gXYrGaeIskjgG0AAQEBBxVFib98+fJarf0HZPL31YEMdzJ89OgRzZo1Y926dfnhrxJg0iTRwNStW/BWaB48aHg6ltNCTZ/bt0Vvs6LApk1qS5N1jCfjnzuntjSS53H2rMFWf/yhtjTZIynJ8IAeFKS2NC9my5YtKIqii98H8jQRkagDYFzP5Yn23yvAS1k8Tn3gbWCj7mCHDx9GURSWLVuWTy4ruXzZsELzxx/VliZr6GpjNW+utiSSzPL668JmLVsWvJ6ZBQsMD0sS08fLS9grXQWyAoNu79+CMkVHt7uXNn6fzpsMRKIqgBnwIaBb3XEEqJeD49noHOj48eMoisJHH32U375bpNFta2WKe0w+D932b3PmqC2JJLMcO2bomfnlF7WlyRpt2gi5x49XWxJJZli3zpBAFcSFR7r5za+/rrYkmSNd/L6Se1mHxOQAygAWgFkOj+Ogc6CIiAgURWHq1KnqeHAR5aefRENTrBjcuKG2NJnjwgVDInHqlNrSSLJCly4FryTMvXuGbcbEFCeJqfPkiWHh0cyZakuTNa5fL3i1M9PF79u5k2lICjVAQ50DRUVFoSgKgYGBqjlxUSQ5GWxsRGMzZYra0mSOTz8V8traFryhxKKO8QOHdgdJk2fjRiFz2bLwMKM6BxKTZPZsYTcLi4Jlt5kzhdw2NgVnbna6+P1Q7dxCUgAAGuscKD4+HkVRGCxL7Oc7ixaJBqdyZVFN39Tp3l3IO2SI2pJIskpKimE17dixakuTOXTTJHx91ZZEkhVu34bSpYXtvv5abWkyh3HJpA8+UFuazJNB/C6mdn4hMXEQ9QMBSElJQVEU+vTpo4oDF2Xi4sT+mYoC33yjtjTP5/FjQ/mXjRtf/H2J6bFsmbDfSy+Z/p6td+9CqVJC3s2b1ZZGklUCAoTtXF0LxmjBli2GoukFaXejDOJ3RbXzC4mJA3gYO1GZMmXw8fHJd+eVgL+/aHhatVJbkuezY4eQs0QJ0JaPlBQwEhOhUiVhx8WL1Zbm+QQHCzkrVoRHj178fYlpcfp0wVl4pNGIqgYFafGHMenit5Xa+YXExAE8jR2oYsWKdOrUKd8dVwJ//mloKE+eVFuaZ6N7ou/aVW1JJDlBV4PSzk4Me5kqukUrAQFqSyLJLjobenurLcnz2bfP0AaHhqotTdZJF7/t1M4vJCYO6RLAatWq0Vrus6QKGg24uYnGZ9gwtaXJmAcPoEIFIePq1WpLI8kJ166JYS5Fge++U1uajImNNchYUFZjSp5mz56CsaVa585Cxs6d1ZYke6SL345q5xcSE4d0CaCNjQ3NmjXLd8eVCHTDXWXLignUpsZ33wn5SpeG+Hi1pZHklAEDhD0bNzbN+VlBQUI+S0tRVkRSMElNNdQNHTNGbWkyxnj3kl9/VVua7JEufruqnV9ITBzSJYC1a9fG3d093x1XInjwwLD90Mcfqy3N03TtKmTr21dtSSS5QViYIeiZ2hbgGg24uBSs1cqSZ/PZZ8KW5cub5sPjsGFCvoYNTfNhKDOki9/uaucXEhMHaGHsQPb29ri5ueW740oMvPuuoQaVKc3NiokxDMft3Km2NJLcQrfDhqkl9cZzYs+cUVsaSU5JTARzc9N8uI2ONpSrCQ5WW5rsky5+N1M7v5CYOECa7j4HBwdcXFzy3XElBq5fF0V6TW1/4CVLhExVq8rhuMLE+vWGLbuio9WWxoBusZGn54u/KykYvPeesGm1aqZV73TaNCFXjRoFe6V5uvjdQu38QmLiAM7GDuTo6Iizs/NTjiXJX3x9RYNkKguyjYfj3n5bbWkkuUlSkgh8iiICoSlw546hLmZBKSAseTGxsWJ+s6LA/PlqSyOIizMsbFu4UG1pcka6+O2hdn4hMXGAusYO5OTkJBNAE8C4HMH582pLA/v3G+Q5fVptaSS5zfz5wrbm5pCQoLY0ht7mypUL1hZikhejm+JiYWEavjZ3rsHXTEGenJAufnuqnV9ITBygprEDOTs7ywTQBNBowMlJNExDh6otDbzyipClQwe1JZHkBfHxhl6QpUvVlSU1FerXF7K88466skhyn9u3xUIQRYEFC9SV5f59w6K7GTPUlSU3SBe/ZQIoeT6AhbEDyR5A02HNGtEwlSql7tysc+cMvX+yFlvh5Z13TKMw9LZtQg4zM7hwQT05JHmHbs6dlZVIwtTi448NWyKaYtmtrCJ7ACVZAihv7EByDqDp8PixYW7We++pJ8egQUIGZ2fROyMpnBgXht60SR0ZNBrw8BAyvPqqOjJI8p7oaMNcwOnT1ZEhLs6wKlnN9jU3kXMAJVkCKA7oqx7JVcCmxbx5hvkpajwpX78uVocqCoSE5P/5JfmLn5+wdbNm6tRC++03Q2/zX3/l//kl+Ydu7l25cuqMcOjmIlaubJp1CbODXAUsyTLAPZ3H1K1bl8aNG6vivJKnuXNHNJCKAitW5P/5dcVRbW1l6ZeiwPHjhgRs9+78P3/79uLcHTvm/7kl+cv9+4YRjtGj8/fcN24YVpmbWk3CnJAufjdVO7eQFAAA/fOXjY0NzZs3V8V5JRkzdqwhCUtKyr/znjljqEdYkIujSrKGbsGPp2f+9gIePGhIPg8cyL/zStTj888NNSivXcu/8775pqHYfmFaZZ4ufsut4CQvBris8xhLS0vatm2rivNKMubGDcMw7KpV+Xdeb29xzkaNICUl/84rUZe//sr/RCw1VSScigLt2uXPOSXqk5QEtWsLuwcE5M85jxwx+Pe6dflzzvwiXfyur3ZuISkAACd1HlOmTBl8fHxUcV7Jsxk5Mn97AY3r/qkxFChRl/weil271uBvR47kzzklpsFXXxls/8sveXuu1FRo0UKdHu78IF38tlI7t5AUAIBfAVJSUlAUBT8/P9UcWJIxxosxVq7M23OlpEDjxoa6f4WtkZS8GOMHgLwOyomJULOmONfAgXl7LonpkZoqHjQUBezt83aLuFWrDCWG/v47786jBhnE7wpq5xaSAgCwFSAxMRFFUfD391fNiSXPZtQoQy9gXu5X+emn4jzFikFYWN6dR2K6aDTQtavwAxeXvJ0CMGmSoRbbv//m3XkkpsvFi4ZFGZMn5805IiPFil9FEYvbChsZxO8SaucWkgIA8D1AbGwsiqIwatQo1ZxY8myMV67Nm5c357h2zbAjxNixeXMOScEgPNywCGj16rw5x//+Z6g9WND3YZXkjAULhB8ULw4nTuTusVNTDQ801asXjqLP6UkXv5+onVdICgjAGoDLly+jKAqT8+reP4doAAAgAElEQVQRTJJjpk8XjVj58uKJNjdJSYHWrcXxra3h3r0X/0ZSuNGVAapRI/f3SX34UBQXVxQx5UCWGSraPHkCrq7CH5yccncoeOlSw5SGHTty77imRLr4fU/tvEJSQACWAZw6dQpFUfjwww9VdWTJs0lIENsnKQrk9ki9bujXzAx+/z13jy0pmERHG/ZtnTQpd489dKihBMjp07l7bEnB5ORJsfWlosCIEblzzDNnoHRpdeoN5ifp4nes2nmFRCWAEkCxLHz/29jYWGbNmqV/xcbGqurMkmfz7bc5L9OR3t5Hj8bqh5cDA3NXXon65OT+XrjQMDSXW3NCt241+PCyZblzTImBgtyeBwUZfCOnWxLGx4OjoziWo2PeLjBRk/T2joqK+i8vcwyJiQE4AEuAC4it3ZKAI8AwwBGo8pzfrgoPD0dRFP0rPDxcLV+WvIDUVGjTRjRqdepkr1FLb++OHcNRFGjQQN3N2SV5Q07u7ydPwM2NXPOP06ehUiVxvO7d5SrzvKAgt+caDfTqJfzD3BzOn8/ecZKThX8pith3uDAvaEtv75MnT8oewKICMCOTfrILqGH0OzOgD3A9KSmJffv28eqrrxa4BqMocumSYUFIQEDWg2j6BsPVNZyKFeHs2byRV6IuOU0ITp0yDKNlx990XL1qKPlSqxbExGTvOJLnU5ATQIBbt8QuHYoC9epl3U80GkPt1MJY8Dk96e194sSJ6HxOQyRqALjpnODatWssXboULy8vXnvtNTZv3pyRr5wCigHlgJ8y+sLatWs5KzMBk2f5ckMD98knWftt+gajceNw9uzJGzkl6pMbCYGxv2VnFfrNm6LHWlHAwgL++Sfrx5BkjoKeAILosdPtg+7iApkdxdZoYMIEg6/OmpWnYpoE6e0dFhYWo05GIslXgAEAkZGRlClThkqVKvHqq69ibW2NoihERUVRo0YN/P390Rge298BfgDQaDTs2bOHAQMGsMcoA7gnl4CaPBqNWAiia+iysl9v+gZjyZKCFyAkmSc3EgKNBoYMMfjb/PmZ7wn85x+wsxO/q1Ch8BXhNTUKQwIIogi5rue5bl1Rmuh5JCZC374GHx01qmhMMZAJYBEFcNU5QXR0tD7JGzFiBIqicPv2bcqXL4+iKHzxxRdpnEaj0fDWW2+hKAqlSpWiSpUqfPTRR/nquJKckZQEXboYGrx33xVzX57HlSuFJ0BIMkdu2TspCV591eBv/v4vLhe0dathzl/FinD4cLZOLckChen+/vln4T8VKojyVMuXPz3vWaOBQ4fgtdegZUto3lwsXkpNVUfm/CaDIeBIFdIRiRoAf+gcQaPRsH//fkqUKEHz5s3RaDQMHz4cRVF45ZVX0jjNuXPnqFChAqtXr2bPnj2cP3+emjVr8u233+a3/0pywP370KOHISg3awZ79z69e0NMDEyZAl5ehStASF5Mbto7JQVCQqBPH2jbVmwX+PXXcOeO4TupqWJPX+Nk0dpalPmQ5D3y/i5aXL58GQ8PD+MewH/VyUYk+QpiPt8NgOPHj+Pl5YWiKNjZ2XH16lUA9u/fj6IotGnTJo3TBAYG8sYbb6R5b+7cufj6+gLw5MkTwsPDn3qZYkkBjUZDXFwcly9f5tixY+zatYtNmzbx7bff8tlnn/Hhhx8yceJEAgMDGT58OP7+/rzxxhv4+vrSrVs3WrduTZMmTXB1daVhw4Y4OzvrXw0bNsTV1RV3d3eaNWtGmzZt8Pb2xs/Pj4CAAMaMGcN7773HvHnzWLFiBd988w2bN2/mt99+49y5c8TGxnL//n3jIfhcJyVF7NbQqZOoeO/jA2+9BYsXi6Hh+fPhnXdED+Hq1dkLECkpKdy9e5crV64QFhbGgQMH+OmnnwgJCSEoKIh58+bx/vvvM3nyZEaNGkX//v3p2bMnHTp0wMPDQ69fFxeXp3Ss07ObmxvNmjXD09OTtm3b0qVLF3r37s2bb77JiBEjmDRpEnPnzuXTTz8lJCSEDRs2sHfvXk6cOEFERASRkZHcu3eP1AL46J+amkpCQgL//vsvp06d4tChQ+zdu5cNGzawYsUK5syZw7Rp0xgzZozef1999VW8vb1p164dHh4eNG3aFDc3N1xcXPR67dev31P29vX1xcvLi86dO+Pj44Ovry8DBw5k9OjRTJkyhTlz5hAUFERISAi7du3ir7/+4vz583r9Jj+nm/nxY4iKgnPn4OhR2L1b9Prl5faFWSU1NZW7d+9y8eJFQkND+f3339m2bRtr1qxh4cKFzJw5kylTphAYGMjQoUP1+u7duzddunShVatWNGnShEaNGj3lxy4uLjRu3JhmzZrRsmVLWrdujZeXF506daJ79+689tpr9O/fn0GDBjFq1CimTp3KwoUL+fzzz1m7dq1e3+Hh4URGRj5X18/C1BNAjUbD/fv3uXHjBidPnuTQoUP89NNPrFu3jtWrV7N48WJmzpzJpEmTGDNmDG+99Ravv/46PXr0oFOnTrRu3ZrmzZvrfT19e9KoUSPc3Nxo0qSJ3gbt27ene/fu9O3bl8GDBzN69GgmTpzIjBkzmDdvHkFBQaxZs4YNGzawc+dODhw4wLFjxzh//jw3b94kMTExT9vwFxEbG5thPDZ+KYYEUJaBKQoAljoHadCgAYqi0LNnTxITE/WO8+TJExRFoVixYmkcqlatWuzbty/Ne8OGDdMXgk7fiOheI0eO5PLly8TGxpKYmEhKLm0UmpKSQnx8PFFRUURERHD8+HEOHDjAli1bWLVqFQsWLGDq1KkMGTIEX19f2rRpg5OTE7Vq1aJs2bIZypqZV7ly5ahevTp2dnbUq1eP+vXr06BBA5ycnGjQoAH169fH3t6e2rVrY2NjQ7Vq1bJ1vtKlS1OrVi1cXFzo3LkzAwcOZPz48cybN49Vq1axZcsW9u/fz/Hjx7l69Sp3797NNd3qGtyYmBhiYmKesu3s2bOZMGECAQEB9OrViw4dOtCiRQsaNGiAlZUV5ubmmJmZZfmaixcvjrm5OVZWVtjZ2WFvb4+DgwOOjo44OTnh5OSEs7MzTk5Oej3b2tpiZWVF1apVKV++fLbOW6pUKezs7GjatCkdOnTg9ddfZ+jQoUyePJm5c+cSFBTEN998w/bt2zl48CDnzp0jKiqKhw8fZrmR12g0JCUlERcXR0REBCdOnODQoUPs2bOHjRs3snr1aj755BNmzpzJhAkTGD58OAMHDqRXr168/PLLNG7cGFtbW0qXLp3l6zQzM6Ns2bJUqVIFKysrbG1tsbe3T+PDffv2fcreL7/8MhYWFlSoUCFb51UUhYoVK1K/fn2aN29Ou3bt8PHxoV+/fowZM4YZM2awePFigoOD2bJlC7t37+bAgQOEhYVx9epV/vvvPx4+fJjtRD01NZX79+9z69YtLl26xNGjR9m2bRtff/01S5cuZfbs2UybNo1hw4bRu3dv2rdvj4uLC9WrV6dcuXLZbiuKFStG+fLl07QXxr7coEEDHBwcqFOnDjY2NtSsWZPq1avrdV2yZMls69ra2hpnZ2datWpF9+7dGTRoEGPHjmXatGnMnz+f4OBgtm/fzqlTpzIqC5ItPacnOTmZe/fucevWLaKiorh8+TInTpzgt99+Y+vWraxbt46VK1fy8ccfM3XqVIYPH46fnx8+Pj40b96c2rVrY2lpmW09lChRggoVKlCtWjVq1apF3bp19e2Jzt8dHR2pV68edevWpXbt2lhbW1OtWjUqVapEqVKlsm17RVEoWbIklpaWODo60qZNG/z8/AgMDGT27NksW7aMkJAQtmzZwp49ezh69CgXLlwgKiqKhISEbCXyxsyaNSvTcso5gEUEoJrOQerWrYuiKBw7duypm1ZRnk4Aq1atyqFDh/R///7771StWpVI7R5jy5cvz7TDlSlTBktLS2xsbNLclMYB3tHREQcHh6eSqYoVK1KmTJksN8RVq1bFycmJFi1a0LVrVwYNGsTkyZOZN28eq1evZv369Wzbto19+/bpA09UVBS3b98mMTGRJ0+e5OiJLjk5mYSEBKKjo/nnn38IDQ1l//79bN++nfXr17N8+XKmT5/OqFGj8Pf3x8fHh5YtW+Lg4JClIFS8eHEqVKiQJokyDjo6vdatWxc7Ozusra1zFHR0SZsu4Hh6etKxY0d8fX0ZMmQIEyZMYM6cOfoGb9u2bfzxxx+EhoZy9uxZ/cPB48ePs63b9Dx8+FAf7E+cOMGBAwfYvn07mzZt4ssvv2Tu3LlMmTKFsWPHMnjwYLp37467uzt2dnaYm5tn2bfKli1LpUqVsLKyonbt2tSvXz9NcLG1tcXS0jJHDx7FixenSpUq1KlTh6ZNm+Lt7U1AQADjxo3jgw8+YOnSpaxatYqNGzfqffjChQtER0dz//59kpOTM+2/LyoMrNFoePDgATExMVy6dImwsDAOHjzItm3bCA4OZsGCBUyfPp2xY8cyaNAg3njjDTp06EDDhg2xsbHBwsIiy/ewsR4qVqyIlZUVderUeeoBwdHREXt7e6ytralcuTJlypTJ0kNBsWLFqFy5Mg4ODrRq1Ypu3brx2muvMXjwYKZMmaLvuV+7di07d+7k6NGjhIeHc+nSJSIjI7lz546+vcgNNBoNjx49Ij4+ntjYWC5cuMBff/3Fvn372Lp1K8HBwSxatIiZM2cyZswY+vTpQ6dOnWjZsiVOTk5YWVllK4EqVaoU5ubmWFhY6P3a+IFX97Dr4OCgT5xq1KiBpaUlFStWzPaDgi4+WFtb4+7ujpeXF927d8ff35+3335b7+tfffUVW7duZffu3Rw+fJjw8HCuXLlCdHQ0CQkJudarn5SURHx8PDExMVy9epWzZ88SGhrKwYMH2bVrFxs3bmTNmjUsW7aM+fPnM336dN5++20GDhxIjx49aNu2LQ0bNsTCwiLLeihWrBgvvfQSVatWxcbGhjp16mBvb/+UHYxjZZ06dbCzs8tUAliuXDlmzZrFpUuX1iuSwg9i1484gA8//JDixYvz00/66i5xkDYBTEhIwMnJiX/++QdXV1cmT57MnTt3WL9+PTVq1EizErhatWoZOtnLL7+sH+bz9/fXP+G1bduW5s2b07hx4zRDUOmHR9zc3PTDqa1bt6ZTp074+PjQp08fBg8eTGBgIFOnTuWjjz5i2bJlrFu3jr1793L06FEiIiKIi4t7XuDTAMlAInAHiAGuA2eAQ8A+YDdiFfR3wNfAcuBDYBIwDhgFDEcU0R6u/XscMAGYBswGVgDrgG3aYx4DzgJXgWit7h8BGbZaGo2GxMRErl+/TmhoKD///DPfffcdK1asYO7cuUyaNIkhQ4bg5+dHz5496dy5M56envohvvRDHjq9NmnShBYtWtCqVas0w06+vr74+/szatQoxo8fz7vvvsv8+fNZs2YNe/fuJSwsjGvXrhEfH5/ZpCJFe333gFjgsvb6/wccBn4GNgKrgcWIWpU6/Y5Jp2NjPY8HpgIztXoOQuxVvVlrtyNaW17R6vk28EArzzMFT0lJIS4uTp9A6pKbb775hqVLl/L+++8TGBjIgAED6N27N97e3nTo0AFPT0/c3d3TDDM1atSIpk2b4uXlhbe3N76+vvTr14+hQ4fqh0+XLFlCcHAwGzZsYNeuXfqAdu3aNW7dusWDBw9epOcU4DFwX3uNOh/+C/gVg/9+hfDFj7U6nqrV4RhgpJGOR2r1G4jw4+nAR8BS4DPEfbAF+EWr49PAJa1tE4EnPMOXjXn8+DFRUVGEh4dz5MgRdu3axffff09wcDDLli3TT8UYOXIkAwYMoE+fPvTs2ZNOnTrh4eGh13VGUwNatmxJ+/bt9Tr39/dnxIgRTJ48mYULFxISEsKOHTs4dOgQJ0+e5OLFi9y+fftFeta1F4+AeIRP/QMc1+phH7DTSN9rgE+BDxD+HKjVrc6HR2p1/47WFtMRbctHwCfASiAEcW9sR9wnx7TnvJ5ZfaempnLv3j0iIyO5ePEif//9N7t37yYkJIQlS5Ywc+ZM3nnnHUaNGsXgwYPp27cvr7zyCh07dsTLy0uv60aNGqVpSxo2bEijRo1wd3enRYsWeHp64uXlRceOHfHx8dFPexk+fDiBgYFMnjyZOXPm6BPorVu38ssvvxAaGkpERAS3b9/OTM+XztcTgP+ASITvnUC0Jb8g2tlvgS+1evwQ0RbrfN24PRmptct4rY10Nlig/f33Wt3/gogJ/wPCteeMRNxvCVqfeK4dnjx5QmRkJCdPntRPidH5+4IFC3j33XcJDAwkICAAPz8/evXqRZcuXfSx0t3dHVdX16fsoGvTXV1dady4MU2bNs1UAtijRw+daG+qkY9IVACYpWsUdL13WpZA2gTwv//+o2/fviQkJPD7779TvXp1FEWhSZMm3Lx5U//Dq1evRoaGhl44ceJE9KlTp+JOnTqVcPr06UenT59OjomJeW6wzSXSN8w3EY3kX4iC1l8jgt5w4DWgBfCS2rZ4FsBLQFPAF9EwrQB+RCzgOae9vnjgofa685pUROOWiGj0zgAHEbUhdUnbdK1+ewCtgNpAcbV1+SKAkoA78CYwWXstaxGB/Kj2WnXJTTxi15zcmjSowRDQdA8hxgHtELAHkWytAeYjgtQbCP8onUs6KAU0A5rn1jGNjl0csALaIQLuNESC8xkisflVe60XtNcep9XFI16QqOdA508QDyPRWl2fQth6D6KtWIS4717R6tkmt/WSFyCK9Vsj7r/eiORmptZ3tgO/IdrEi8AtrZ4fk3v+/CJ0/v4QcS/FIuakn9PKtQfxoPyZVu7+QCegISbcXmcEUAFwBroBQxD37vfAfsQD0xVEh0Mc4sHtCbno68+bA3jmzJnU06dPp8TExCRrz+2ptr4k+QTi6SY9OxBJEampqfTv35+JEyc+9aWHDx9y4MCB9N3r/yKeqswyce7SiGDgBnRBJGNvAgGIm2SY0WuI9v2BQF/td7shGjc3RENn8glGfoFIZKyA+oAHIhF7Q6u/IRno9U3t570Rga6D9nfOgB3aBheRjNbUvtcXWIZISObwnC0DiwKIRr4eIoFso9VjX2CwVs9DgLcQO+h00n6vNmBhKr4LOCGSLx1xiAcPM0RC/z9EkDiP6KnK9L7huSijmVbX1lr/bqX17/4ZtB1DtL7dE2irbStqA2XzW25TBPEAYTw+vQ+oAZTX3ud1tHpch0hWvtX6dH+tL+t827gt6WvUjnTS2qeRtj0yCT8vSCDiZHVt29IMQ6zsr23PM4qXulhp3K53Q8T1xsA3iN7KRK3NGyAWhY4wusfPIR588v0el+QDWqdKBq7NmTMn/MyZM7pGYAtQFjGskF1+AyqrfY2S3AGR+K3l+U+lj4COassqyT6Ini9SUlLSLyJ61jrcw4Cl2nJLsg6ihxcgq3MUHwId1JZfknUQvac3MrBpIvCsHY8PAhZqyy7JZRBPahw5cmSJIiaBntAa/C/t540Qc6euIYYJlgPm2s/KIobDSE5OZu3atXTp0oWvv/7a2HGOIp/4CgWI+V5pePToEceOHWPp0qXGu7/cA6zUlleSdRBJPgBeXl7UrFmTf4z2XEtJSWHDhg106dKFlStXGs+PCwNKqC2/JGsg5hkSFhZGsWLFeOuttzKc8/ic+7y62tcgyTyI5O+WLmaPHTuWHj16EB8fr7d1cnIy69evp0uXLqxatcrYH47Le7yQAXQFePjw4a127dqdOXfu3FqtsVdm4rcvg1iQ0Lt3bxRFoXz58tSqVYuxY8catx/T8uFSJHkMYriA6dOnY2Njg42NDZUrV9ZPIK5ZsyZ3DNV8+6ktryTrIOb+pQD4+fmhKAoeHh76INCvXz/9akE7OzuGDBliHCDmqC2/JGsAYwH+/fdf/crgtWtFCHj33XczvM+tra2Ji4vT2fwNlS9BkgUQC4aIjIzEzc2NSpUqoSgKK1euRBfL33jjDf09bmtry7Bhw4zv8Q9UvgRJboKYkP1Xuge+G0CNTPx2A8CZM2cwNzdn+/bt/Pnnn0RGRuLg4MCSJUt0x7uYH9ciyTsQc3cAaNeuHWXLlmXs2LHMnTuXX375hV9//ZXDhw8bNxQt1ZZZkj0QKyY5ePCgPugnJSVx+fJlXnrpJbZu3crBgweJjY3F2dnZePtHuXtAAQMx1w/jhH/YsGEAtG3bVn+ff/TRR8+6z5urfQ2SzAGY64ymK2x948YNmjVrpo/VFy9epHz58vz4448cOnSImJgYnJyc+Pjjj/W5gdrXIcllgIrAXERJgU+Bapn4TUm0c4J0JRmMWbhwofGScllVvICD0Vyh4sWLM3z48OeVZ3hh77HEdEEsUEGj0VCjRg0UReHmzZtMmDBBv8uPjhUrVtCxY0fdn/fVll2SdRDzu9iyZQuKotCrVy8AzMzMGDly5PPu88/Vll2SeRAl3+IB9u3bR2RkJElJSZQrV479+/cDMH78eF5//fU0Rl62bBldunTR/Zmg9nVITABEGQQAbGxs+PXXX9M4jb+/P3PnztX9eU5teSU5A7HiFyDNnpG9evUiOjra2PRvqy2rJGcgVhwC0KNHDxRF4ccff8TR0ZHt27enuc9HjhzJe++9p/vzmtqyS7IOMAXg+vXr+iFegBYtWujv8969e6e/z8eqLLYkGwCjjY346quv8tZbb+n/rlevHjt37kxzjw8bNowZM2bo/rys9jVITADAVucRNWvW5Pfff9c7zI4dO6hRowa3bt3SvbVUbXklOQdREoDQ0FD8/Px45ZVXqFOnDhYWFsZ7hX6htpySnAPcTZ8A1qtXj127dunv83379mFhYWGcGHypttySrIN2IWD6BPDYsWP6+1y3BdvZs2d1tv5MbbklWQcx5QsQW7VWqFAhzc5fderUYe/evfq/f/nlFywtLYmJidG9JXt9JYoCVNV5hKenJwEBAZw/f54VK1Zga2trvEVcMnL5eKEAUQcsDcnJyZQoUYKFCxfq3tqqtpySnIN2paBxAtixY0f69u3L+fPn+fLLL7G1tU2/F/gL5w1LTA9EjbinEsD093mxYsVYvHix7q0tasstyTqI+rxoNBpefvllpk2blsbO7du3p3///pw/f56VK1dia2urHx7WIld9SwRo64WFhYXRoEEDFEWhU6dOxj1/AN3VllOSczCaA2hMbGwsxYoVM17w84PaskpyTkYJ4NmzZ3FxcUFRFLy8vNIPCb6utsyS7JGZBDAmJgYzMzOCgoJ0b21WW25J1kE73/OLL75AURRatmzJmDFjGDduHP/99x9nzpyhYcOG+i1bjXr+AHzVll9iQiAqiieB2C3k3Llz6dsNmfwVEhDbdXHmzBm6du1K165deeedd7Czs8PCwoKoqCidzeeqLask56AtFPvVV18xfvx4YmNjAdFzYDQMKANDIQCxQwr37t1j3LhxfPHFF5w6deqp+9zS0tI46Z+tttySrKNLAIODg6lXrx6DBg1i0KBBNGjQQD+N5xn3eG+1ZZeYIEBr0m4bBWIHkNpqyybJPQB/gAcPHrBw4UI6d+5M8eLFcXJy4tSpUzq7JwI2assqyTmIvW9fxCGgntqySnIGogpErLFh79+/z4IFC+jcuTPFihXD2dmZ06dP6z5OAKzVlluSddAOAWeBPwB7teWWmDCI/QNfQWw0Luu/FUIQBYJPPaeheAx0UVtOSe4AlAHeB/5EFI8NQewJ2017n7dWW0ZJ7oHY73vjC+5xEKW/OqstryR7IBaBzEM7cpeOaOB1wFt7j7dSW16JRGIiILYJ+wCISNdwnAM81ZZPIpHkHKC89j6/lO4+Pwt4qC2fJOdoH+gttQlhccACKKa2XBKJpACgbTw8EHtLyoZDIimEyPtcIpFIJBKJRCKRSCQSiUQikUgkEolEIpFIJBKJRCKRSCQSiUQikUgkEolEIpFIJBKJRCKRSCQSiUQikUgkEolEIpFIJBKJRCKRSCQSiUQikUhyCmAHtANqqi2LRCKRSCQSiSQPAcyA5en2flwPlDf6jjPwG3AfuA2sNP5cIpFIJBKJRFKAAN7QZX1JSUnGSeAG7edvkjGb1ZZdIpFIJBKJRJINgGCAH374AUVR+OCDD4yTvLW6/9y8eZPu3bszZcoU48+d1JZfB1ACqABYAXUBR+1G5o2BZkBLwNPo1QJoArgCTtrf1AQqA8VfcJ6XgEpALaCB9hzNMziHh/bc7trzOGrPUeF55zBVEL3F5YAq2uuorb1+V60uW6S7fk+tTpprdeSk/U01wBwoQ7qN5rXnKAtUBeogep91Nmyh1Wn6c+j07Kb9fn3AVitnGbX0ldtodVMKqAjUAOy11+v6DB/X6aaF9nNXoJFWTy5aezTQHsMtE8doov1dPa1+a2jvg1Jq6yYv0Or7Ja2v19Nee9MX+GEL7Xcaa7/vjGiHGmnfczVqL9L/XqdjN+1vGhjp2vieMVNbN3kNUFLbTlbR+lkdrb8+y09bat9vrNWdI2JaUy2t/qy1/zpqbaE7hrEdje3nrrWfo/bc1bW+UOh1LylCAJ8CHDlyBEVRUBSFP//8E2P27NmDubk5lStXRlEUbty4oftoIrACmAK8BwQg5hGmb9g8Ac8XyFESEfTttTdgZ+B1YBgwEwhCJKvfAVuBg8Bp4F/gEbmPBkgFUrT/avLgHI+BWOAyEIa4pr3A98ASYDrwNuAPdEU0WLXJRsDFkFjpEoemgDfQFxiiPc97wCeIKQC7EcP+h4FzwB2tHvICY13nhZ5TgLvAVYTPHAR+BbYAnwMfAzOACQgf7owIJHUQCU6xF2v4hbovjwhIroj7oRvgBwwGxiJ0vwBYBWzXyhgOXEdMu3iQR7rJLZIQcl5D6Pgw4j4NBhYj7uF3gBGI6/ZCBOJ6iIe2cuRycEX4uxXClp0RoxljEbYOAr4FdgB/AMeACMT9mAA8yXON5YwnCH1fAI4DBxD6Xg0sBT4ARiJ03Q1ohT8XpqwAACAASURBVEhGq5PHD58Y/L0OIqnqCvRB3FsjEX7wPjAf4e87gL+Bi0AMol00ZZKAeCAKuITw9yPAL8CPiI6TVYi29ANgPPAW0Btoi0jsK5L7/m6GaK8cEfbuBPQEPkTE6W+ATQh97wdOAleAM4j70yW3ZZKYOIikAoCmTZuiKAoLFizQe3pUVBSlS5fmvffe4/r16yiKwsWLF3Uf/6j7T2xsLOHh4c993bx5M1zrbOcRSU8UIjDnRQKXKTQaDXFxcVy+fJljx46xa9cuNm3axLfffstnn33Ghx9+yMSJEwkMDGT48OH4+/vzxhtv4OvrS7du3WjdujVNmjTB1dWVhg0b4uzsrH81bNgQV1dX3N3dadasGW3atMHb2xs/Pz8CAgIYM2YM7733HvPmzWPFihV88803bN68md9++41z584RGxvL/fv30WgyjPuPgP8QSc05RCMUhggGJxF6vgBEAvcQSZAqpKSkcPfuXa5cuUJYWBgHDhzgp59+IiQkhKCgIObNm8f777/P5MmTGTVqFP3796dnz5506NABDw8PvX5dXFye0rFOz25ubjRr1gxPT0/atm1Lly5d6N27N2+++SYjRoxg0qRJzJ07l08//ZSQkBA2bNjA3r17OXHiBBEREURGRnLv3j1SUzPMcTVAIiI5uIkIVKcRuv4b+AsIRej/FMIeEUC09nd5qvvU1FQSEhL4999/OXXqFIcOHWLv3r1s2LCBFStWMGfOHKZNm8aYMWP0/vvqq6/i7e1Nu3bt8PDwoGnTpri5ueHi4pKhfhs1aoS7uzstW7bEy8uLzp074+Pjg6+vLwMHDmT06NFMmTKFOXPmEBQUREhICLt27eKvv/7i/Pnzev0mJyc/71KSgFuIJPKsVq9/IJL1HcBmYCPiAWkz8JP2syMI3Ucg/D2OPEoiUlNTuXv3LhcvXiQ0NJTff/+dbdu2sWbNGhYuXMjMmTOZMmUKgYGBDB06VK/v3r1706VLF1q1akWTJk1o1KjRU3p2cXGhcePGNGvWjJYtW9K6dWu8vLzo1KkT3bt357XXXqN///4MGjSIUaNGMXXqVBYuXMjnn3/O2rVr9foODw8nMjIyM7qOR/hzOPAnsAfxUPQtIlkIQSSUwdq/dXrfgdD7H9rfhQM3EAlpnvq7RqPh/v373Lhxg5MnT3Lo0CF++ukn1q1bx+rVq1m8eDEzZ85k0qRJjBkzhrfeeovXX3+dHj160KlTJ1q3bk3z5s31vp6+PWnUqBFubm40adJEb4P27dvTvXt3+vbty+DBgxk9ejQTJ05kxowZzJs3j6CgINasWcOGDRvYuXMnBw4c4NixY5w/f56bN2+SmJj4rDY8CZHwRiDajaNane5FxNbNwAZEp8d6RIL/E/Az4gHrOKKtuYyIoxnqPTOxOTY2Vvf1b9XOSST5DKIXjfnz56MoChMnTtQ7T0pKCt9//z0ajYa9e/dStWpVEhMTdR//fP36dRwcHJg1a5a+B/FZr5EjR3L58mViY2NJTEwkJSV32omUlBTi4+OJiooiIiKC48ePc+DAAbZs2cKqVatYsGABU6dOZciQIfj6+tKmTRucnJyoVasWZcuWfaHcz3qVK1eO6tWrY2dnR7169ahfvz4NGjTAycmJBg0aUL9+fezt7alduzY2NjZUq1YtW+crXbo0tWrVwsXFhc6dOzNw4EDGjx/PvHnzWLVqFVu2bGH//v0cP36cq1evcvfu3VzTra7BjYmJ4caNG1y4cIFjx46xY8cOvvzyS2bPns2ECRMICAigV69edOjQgRYtWtCgQQOsrKwwNzfHzMwsy9dcvHhxzM3NsbKyws7ODnt7exwcHHB0dMTJyQknJyecnZ1xcnLS69nW1hYrKyuqVq1K+fLls3XeUqVKYWdnR9OmTenQoQOvv/46Q4cOZfLkycydO5egoCC++eYbtm/fzsGDBzl37hxRUVE8fPjwWY38c3WblJREXFwcERERnDhxgkOHDrFnzx42btzI6tWr+eSTT5g5cyYTJkxg+PDhDBw4kF69evHyyy/TuHFjbG1tKV26dJav08zMjLJly1KlShWsrKywtbXF3t4+jQ/r/NjR0REHBwfq1KmDtbU1FhYWVKhQIVvnVRSFihUrUr9+fZo3b067du3w8fGhX79+jBkzhhkzZrB48WKCg4PZsmULu3fv5sCBA4SFhXH16lX+++8/Hj58+KxE/YWkpqZy//59bt26xaVLlzh69Cjbtm3j66+/ZunSpcyePZtp06YxbNgwevfuTfv27XFxcaF69eqUK1cu221FsWLFKF++fJr2wtiXGzRooNexjY0NNWvWpHr16npdlyxZMtu6tra2xtnZmVatWtG9e3cGDRrE2LFjmTZtGvPnzyc4OJjt27dz+PBhzpw5w/Xr14mNjSU+Pp4nT3KnIzQ5OZl79+5x69YtoqKiuHz5MidOnOC3335j69atrFu3jpUrV/Lxxx8zdepUhg8fjp+fHz4+PjRv3pzatWtjaWmZbT2UKFGCChUqUK1aNWrVqkXdunX17YnO3x0dHalXrx5169aldu3aWFtbU61aNSpVqkSpUqWybXtFUShZsiSWlpY4OjrSpk0b/Pz8CAwMZPbs2SxbtoyQkBC2bNnCnj17OHr0KBcuXCAqKoqEhIQXJfIvJDOxuWvXrrqvX1AkRQtEdzW//fYbiqLQrl27p5zo3r17VKlShS1btujeSgCOxMbGMmvWrEw5WUavMmXKYGlpiY2NTZqb0jjA6wJQ+mSqYsWKlClTJssNcdWqVXFycqJFixZ07dqVQYMGMXnyZObNm8fq1atZv34927ZtY9++ffrAExUVxe3bt0lMTOTJkydZDvbGJCcnk5CQQHR0NP/88w+hoaHs37+f7du3s379epYvX8706dMZNWoU/v7++Pj40LJlSxwcHLIUhIoXL06FChXSJFHGQUen17p162JnZ4e1tfVzg46HhwfG9p41a5a+11h3PnNzc33A8fT0pGPHjvj6+jJkyBAmTJjAnDlz9A3etm3b+OOPPwgNDeXs2bP6h4PHj3Ov8+bhw4f6YH/ixAkOHDjA9u3b2bRpE19++SVz585lypQpjB07lsGDB9O9e3fc3d2xs7PD3Nw8y75VtmxZKlWqhJWVFbVr16Z+/fppgoutrS2WlpY5evAoXrw4VapUoU6dOjRt2hRvb28CAgIYN24cH3zwAUuXLmXVqlVs3LhR78MXLlwgOjqa+/fvk5ycnGn/TW9vo54CQCSxDx48ICYmhkuXLhEWFsbBgwfZtm0bwcHBLFiwgOnTpzN27FgGDRrEG2+8QYcOHWjYsCE2NjZYWFhk+R421kPFihWxsrKiTp06Tz0gODo6Ym9vj7W1NZUrV6ZMmTJZeigoVqwYlStXxsHBgVatWtGtWzdee+01Bg8ezJQpU/Q992vXrmXnzp0cPXqU8PBwLl26RGRkJHfu3NG3F7mBRqPh0aNHxMfHExsby4ULF/jrr7/Yt28fW7duJTg4mEWLFjFz5kzGjBlDnz596NSpEy1btsTJyQkrK6vnJlDPur9LlSqFubk5FhYWer82fuDVPew6ODjoE6caNWpgaWlJxYoVs/2goIsP1tbWuLu74+XlRffu3fH39+ftt9/W+/pXX33F1q1b2b17N4cPHyY8PJwrV64QHR1NQkJCth8W0pOUlER8fDwxMTFcvXqVs2fPEhoaysGDB9m1axcbN25kzZo1LFu2jPnz5zN9+nTefvttBg4cSI8ePWjbti0NGzbEwsIiy3ooVqwYL730ElWrVsXGxoY6depgb2//lB2MY2WdOnWws7PLVGxu164ds2bNIioqKlaRFC0Q4/9PJYDGN87y5cuxsrIyDhwPgH/Cw8NRFCVTTvbyyy/rh/n8/f31T3ht27alefPmNG7cOMMhKN3wiJubm344tXXr1nTq1AkfHx/69OnD4MGDCQwMZOrUqXz00UcsW7aMdevWsXfvXo4ePUpERARxcXE5StxMAY1GQ2JiItevXyc0NJSff/6Z7777jhUrVjB37lwmTZrEkCFD8PPzo2fPnnTu3BlPT0/9EF/6IQ+dXps0aUKLFi1o1apVmmEnX19f/P39GTVqFEuXLkVnb91r586dXLt2jfj4+AKv24xISUkhLi5On0DqkptvvvmGpUuX8v777xMYGMiAAQPo3bs33t7edOjQAU9PT9zd3dMMMzVq1IimTZvi5eWFt7c3vr6+9OvXj6FDh+qHT5csWUJwcDAbNmxg165d+oB27do1bt26xYMHD/JVz+ntHR4enifnefz4MVFRUYSHh3PkyBF27drF999/T3BwMMuWLdNPxRg5ciQDBgygT58+9OzZk06dOuHh4aHXdUZTA1q2bEn79u31Ovf392fEiBFMnjyZhQsXEhISwo4dOzh06BAnT57k4sWL3L59u1D6c2pqKvfu3SMyMpKLFy/y999/s3v3bkJCQli/fv1T9h4xYgSvvPIKHTt2xMvLS6/rRo0apWlLjKcJtGjRAk9PT7y8vOjYsSM+Pj76aS/Dhw8nMDCQyZMnM2fOHH0CvXXrVn755RdCQ0OJiIjg9u3bOe75MmWePHlCZGQkJ0+e1E+J0fn7ggULePfddwkMDCQgIAA/Pz969epFly5d9LHS3d0dV1fXp+yga9NdXV1p3LgxTZs2zVLnzKlTpxLzJemQmA6IxQZpEsDff/+d6tWrk5qaSnx8PGZmZhw6dCi9H8fpGoymTZvi6urKnj17MjPPQFJAya+EQGIaSHsXLaS9Cx/PmwO4Z88eXF1d9fY+ffp0sipJiEQ9yCABDA0NZfHixQD4+PigKAp+fn6MHj2ajz76SP90fOHCBdlgFCFkgChaSHsXLaS9ixbPsHeBK1EmyQGI8hdcuXKFcePGGc/zA6B///40btyYsWPH0qNHD7y8vPQJYEREhGwwihAyQBQtpL2LFtLeRYtn2PslFdIQiVogiiBnZ+Z9smwwihbS3kULae+ihbR30eIZ9q6kQhoiUROgNaLG0DFgH9APUUR1p5G/GM/KPQLclw1G0ULau2gh7V20kPYuWjzD3lVVSEEkpgqGrc/MEFsRVdC+nyIbjKKFtHfRQtq7aCHtXbR4hr3t8j3JkBQsEImgbDCKGNLeRQtp76KFtHfR4hn2dlQhpZAUJBCbdOPt7Y2iKM8sFCspXLyoMLCkcCHtXbSQ9i5aPCN+O6udX0hMHMAWoEuXLpQvX15VJ5ZIJBKJRJI1nhG/G6mdX0hMHKA+QNu2balatWq+O65EIpFIJJLs84z47a52fiExcQBnAE9PT6ysrPLdcSUSiUQikWSfZ8Tv5mrnFxITB3ADaNasGba2tvnuuBKJRCKRSLLPM+J3S7XzC4mJAzQDcHNzw97ePt8dVyKRSCQSSfZ5Rvz2UDu/kOQTQA1gMDAccHjGd4oBdkB1o/c8ABo2bEj9+vXzzWElEolEIpHknGfEb8/8y0AkqgG0AuLTGf9jo8/NgJHANaPPjwONAE8AZ2dnnJyc8sQ5JRKJRCKR5A3PiN8yASwKACcBoqOjuXbNOMdjMFAC2PAc35mtcyBnZ+fc80iJRCKRSCR5zjPitxwCLuwAxXXWbt26NcWLF2fHjh26t+4C8wA0Gg0hISE4OTnRtm1bLl269JQDyR5AiUQikUgKFs+I33IVcGEHMbz7H8B7772HoijUrFmTpKSkNJ7w8ccfoygKZmZm9O3bFwsLC8LCwvSfN2nSRCaAEolEIpEUMPr160ffvn3Tv+2mdn4iyQeAIIBLly5hZmaGoijcuXNH7wVPnjzB1taW9evXc/HiRQCCgoKoVasWT548AWDAgAE4OjoSGxtLeHj4c19yWyGJRCKRSPKPbMRmuRVcUQBoobN4kyZNUBSFv//+W+8FP/74I7Vr1+bx48f69yIjI1EUhfv37wMwbNgwHBwcmDVrVppNpTN6zZo1K49dXSKRSCQSiY5sxOa6+Z2LSFQAMQz8AERXsKIorF27Vu8FkyZNYujQoWmcac2aNbRu3Vr/t7e3N/b29jIBlEgkEonExMhGbLbK92REog7AdUibAMbGxpKQkMCkSZMYMmSI3ivOnDlD1apV0/QSNmnSBDs7O5kASiQSiURiYmQjNlfJ90REog7AVUibAL7yyiuMGzeO7777DnNzc4KDg1m0aBHOzs5s2JC2MoyHhwdWVlbExsYyZUo4rq7h9O8v5wBKJBKJRKI2z5sD+Nprr9GuXbv0sbmM2nmJJJ8gXQK4bt06fvjhB6Kjo9FoNCxYsIAqVarQtWtXzp8/b+wkCwE6dOiAubk5AKdPg6KIl1EnoUQikUgkEhPDOH5reax2TiLJR4AwgMOHD/PVV1+RkJDwlJM8evQo/VuDgaoAPXv2pHhxUVJQowEPD5EADhuW+84qkUgkEokkdzCO31pi1c5JJPkIIpnLiG+BT4E4o/cOAA21vysL0L9/fxRF0a8UXr5cJIBVq4K2UoxEIpFIJBITI338Bi6qm5FI8h2gC7ACCAYmA+WNPnsJsWdw/XS/MQOejBo1CkVR9HMIoqOheHGRBO7cmc/eLJFIJBKJJFOkj9/A3/mdf0gKKED85MmTURSFy5cv653K21skgAEBari0RCKRSCSSF5FB/D6gclohKSgAt95//30UReHs2bN6p/r0U5EA2tmJeYESiUQikUhMiwzi93a18wpJAQGImjdvHoqiEBoaqneq8+cNq4H/+UcNt5ZIJBKJRPI8MojfX6qdV0gKCMC1oKAgFEXhjz/+0DuVRgO1aokEcPlyNdxaIpFIJJL/s3ff4VFUXwPHbwKhVwklQGihhYQSQgtVmnREVJrCSxNBkABSRYl05aeCFAtNQFRAVEBCBxFUkEg1itJBQCIQAiEQSLLf94+7PYWU3Wwi5/M888BuZmdnZ87MPXPn3jsiJUmU3zNdnVeIbAI4tWLFCpRSbNiwwSawBgzQCWD37pkd0kIIIYR4lCTK71GuzitENgH8tmnTJpRSrFixwiawli7VCaCXl7QDFEIIIbKaJMrvAa7OK0Q2AYTv3bsXpRTz58+3Caw//7S0AzxzJrPDWgghhBApSaL8fs7VeYXIJoDwo0ePopRi+vTpNoFlMOjBoJUCu8pBIYQQQrhYEuV3a1fnFSKToB/n1gVoyyMeAA3kA3LZvffXuXPnUEoxZsyYRMH1zDM6ARw8OHOCWQghhBCpk0T5XTXpDED8ZwAFgU+ABKtYuAM8azefOzAauGicxwD8CjQz/v38rVu3UEoxaNCgRMH1zjs6AaxTxymxK4QQQoh0SqL8LuSKnERkEqAocMS0t6Oiorh37551TMwyzlccOJhM3MQDzwJX4+PjcXNzo3sS3X1379YJYM6cYPsVQgghhHClJMrvoq7OUYQTAZ8C3L9/n+DgYPLmzUupUqXYt2+fdVyMB34DMBgMLFmyhDp16tC6dWt++eUX0zyx6FpDChcuTOvWrRMF1+3b4Oamk8D9+50QvUIIIYRIN7vyu7yrcxThJEBh014eOnQoefPmpVixYsyaNYu8efOyZcsWm8C4d+8e7du3RylFx44d8fPzo2DBgly6dMk0iwHAy8uLl156KcngeuEFaNQIPvvMwVErhBBCiAzp3LkzQUFBppc1XJ2nCCcBxgFERkZSqFAhDh06RGxsLABff/01+fPn5+HDh+bAeOmll8iZMycLFy7EYDDw119/oZSiZ8+eNgFUvXp1IiIiCA8PT3GKiIjIjHgWQgghBKSqbK5atapp9sauzlOEkwA7AJYuXUqDBg0wWI3QfOHCBTw8PHjw4IH5vWrVqlGsWDFOnz7N1atXWblyJUopRowYYRNgDRo0ICQkBKVUitOUKSFODnUhhBBCmKSmbC5YsKBp9vaZnpiIzIGxU8eoUaMYNmyYTZC8+eabPPvsszbv/fLLLxQsWNAmUAoUKEBMTIzNfK1atUpVkI0eHeKkEBdCCCGEvdSUzblz5zbNLgNB/1dhlQAOGDDAHCAbNmzA09OTixf1aC+hoaHExsZiMBjw9fXF3d2dTp06UadOHZRSzJ492ybAnn766VQFWc+eIZkQ7kIIIYSA1CWAbm5upjuC/TM7LxGZBPgaYMeOHeTMmZNXX32VF154gfr163P48GEArl27hru7OwcOHGD//v0opWjfvj0AcXFxPPHEExQrVszm9nH//v0JDAzk0KFDSbYv6NkznFq1wgkOljaAQgghRGZ5VBvAESNGoJQiKioK4DVX5ynCSYAnTUGxefNmGjVqxIQJE4iMjDQHi8FgYNWqVd+D7gVcrlw5SpUqxdKlS+nbty9FixY1J4smY8aMQSnFhQsXkgzAsWP1UDBJjBQjhBBCCBexK7+nuzpPEU4EvJ1MHEQAf9q/ee7cOXr27ElQUBBNmza1Tv7iTP+ZNm0aSimOHj2a5ILXrdMJYKFCkJCQ5CxCCCGEyGR25fciV+cowsmATkCYcf/fAeaixwh0A54DJgKvA7eTiZmHwGumF5988glKKbZt25bkzBcv6gRQKfjjDwdErBBCCCEyzK78/trV+YnIBOhkLz/gkcI8lYB1gOlBbgbgBPpWciNTAH333XcopVi2bFmSAWYwQKlSOgH89FNnhbEQQggh0sKu/D6QeVmIyLawSgAPHTqEUoq3307u7jJ0764TQKvOx0IIIYRwIbvy+4yrcwuRDWCVAJqeEDJp0qRkg2zePJ0AVqvm/IAWQgghxKPZld8Rrs4tRDYANDQF0KVLl1BKMWrUqGSD7NAhSztAeSKcEEII4Xp25fcdV+cWIhsA6psC6Nq1ayilEj1dxNrDh5A/v04Av/7a+UEthBBCiJTZld8PXJ1biGwACDAF0N27d1FK0a9fvxQDrW1bnQAGBzs3oIUQQgjxaEmU37lcnV+ILA7wN0WLwWBAKUX37t1TDLS33tIJYMOGKc4mhBBCiEyQRPldxNX5hcjiAB/rIPLw8KBz584pBtq2bToB9PCAe/dSnFUIIYQQmcCu/C7h6vxCZHGAl3UAFSxYkDZt2qQYZFFR4Oamk8B9+5wTyEIIIYRIPbvyu5yr8wuRCYA8QC9gEvA8yQwKDZQFVgH/AueAsUBR6wAqVqwYzZs3f2Sg1aqlE8DZsx0VukIIIYRIL7vyu3Jm5yIik6ETP/tHvV0AGtnN1xi4lUTM2HTlKFmyJI0bN35koA0frhPA1q3TGqJCCCGEcDS78tvXVXmJyATAK6Y9HRsbyw8//EBcXJzpLQPQ1ThfGYzJ35UrVwgODmbDhg2m+fYD8aYXZcqUoUGDBo8MtI0bdQKYJw88eJCxoBVCCCFExtiV3/6uzlGEkwAVgASAjRs3UrZsWZRS1KhRg3PnzpkCwABUBBYBXL58mTJlylCoUCHCwsJM86zBqgaxfPny1K1b95GBduOGZUDo/fszHrhCCCGESD+78ruOq/MU4STA2wARERF4eHgQFBTEgAEDmDRpEqVLl+bq1aumINiBTgSZNGkSOXLk4I8//rCOmcbAP6YXzz77LH379k1VsNWpoxPA6dMzErJCCCGEyKhKlSpRu3Zt08tAV+cpwgkAd3RHDqZNm0arVq1sgqBPnz4MHjzY5r0bN25QqlQpmjZtav32CuPyzpjeiIiIIDw8PMUpwvgMuFGjdAL45JOODWIhhBBCWKSmbK5YsSL+/uahfRu4OFURzgBUMe1hX19fvrZ7Jtv48eMZPXq0zXuLFi1CKcXWrVvt42oFcML0IiQkBKVUilNISAgA332nE8DcueH+fccEuRBCCCFspaZsLlasGDVq1DB9pFGi5EFkf0Ad0x7OkycPx48fNwdJREQExYsX55dffrEJngkTJqCUYsGCBSxZssT+NnBEWoLMlADeugU5cugkcPt2B0e7EEIIIYDUlc2enp7WCWBQpicnwvmwSgDz5cvH7t27AYiKiqJBgwaMHTsWgHPnzrFq1Sri4+Px8fEhX758BAQEoJTC3d2dkSNHYjAY0hxkpgQQoHFjnQC+8YYzQ18IIYR4fEkCKJRSSqEHb44FePXVVylevDjdu3enVKlSLFy4kISEBACmTp3Kk08+yU8//YRSyjxC+IULF2jZsiVKKR7YjeHy9NNP07Fjx1S1AQQYO1YngC1bOjv8hRBCiMdTatoA+vj44OfnZ/qI3AL+rwIWAMTFxbF69Wr69u3L0aNHbQLmzp07/0RHR5OQkEDVqlUJDAwkISGBsLAwKleuTLt27RIFmY+Pj3UvokcyjQeYOzfExKQ3tIUQQgiREXbldz1X5ynCSYACwK5k4mAhEG79xpIlS1BKkSdPHtzc3GjevDmRkZGmP18w/ad8+fIEBgamOuBu34acOXUSuG1bqj8mhBBCCAeyK79lHMD/MsAN6AeEAZeBr4EA4988gE7AFlM07Nu3jxkzZth0GkEnfzNNL7y8vAgKCkpT0AUF6QTwzTfTHK9CCCGEcAC78ruGq3MU4WLoJHF2MvFyEP1EkX6mNwoWLEjbtm3TFHTjxukEMBWPEBZCCCGEE9iV3+VcnX+ILAJoBCwHNqMfDRcEuBn/Zo6YHDly0LVr1zQF3bZtOgH08JDxAIUQQghXsCu/PV2dd4hsAKgPEB8fj1KKHj16pCnobt2yPBf44EHHBrQQQgghUpZE+V3Q1bmFyAaAGgC3bt1CKcWgQYPSHHyVK+sEcMECxwW0EEIIIR7Nrvw2ADlcnVuIbAAoD3D+/HmUUuaBpNPixRd1AtizpyNDWgghhBCPYld+R7k6rxDZBFAc4PDhwyilmDFjRpqDb+lSnQCWKgV2DxcRQgghhBPZld/nXZ1XiGwCKAiwZ88elFIsXLgwzcF38qSlHeDFi44NbCGEEEIkz678Pu7qvEJkE4A7wPr161FK8fnnn6c5+BISoEABnQBu2ODYwBZCCCFE8uzK719cnVeIbASIW7x4MUoptm/fnq4AbNJEJ4BTpjgyrIUQQgiRErvySHbfpQAAIABJREFUe7ercwqRCdADPT8HfAasBUYBue3mKQQ8YfW6oPVr43txs2bNQilFWFhYugIwOFgngB07ZjyYhRBCCJE6duV3aOZkIMJl0E/xOJpELJwB/IAcwGJ0l3CA3cC3Vq+3AYWMy0oYNWoUSikuprMR38qVOgH08krXx4UQQgiRDnbl91euzU6EUwHFgIsABoOBjRs3snz5cu5bHsURDXyQiriZBeQC6Nu3L0opoqOj0xWAJ05YOoJcvZquRQghhBAijezK7y9dnaMIJwIWAERGRtK4cWOUUiilaNGiBZcuXbIJjK+//tpmcOfp06fz3nvvmV7uQ9ck0rZtW/Lnz48hneO4xMVZOoJ8/XW6FiGEEEKINLIrv79wdY4inATIg67h44033qBmzZoMHTqU3377jRdffJFmzZoRExNjDowFCxYQGBhofl2qVCkmTpxoevk30BDA39+f559/PkNB2KqVTgAnTMjQYoQQQgiRSi+88AJVqlQxvZRbwP9VQA+AuLg4SpQowcaNG81BEB8fT/Hixdm5c6f5vdWrV9skgG+99RZNmjSxjp2OAGXLliUiIoLw8PAUp4iIiGSDcNw4nQC2bZvheBZCCCEEpKpsrlu3rmn27a7OU4STALNBD/zo7e1NXFycOUgePHhA8eLFOX36tPm9kSNHUq9ePfPrNWvWEBAQYB1bnxsMBnLnzk1ISIj5dnJyU0hISLJB+vnnOgEsUSLjAS+EEEIIUlU2V65c2TS7jAP4XwW8C3rgx5o1a9oEycSJE2nfvr3Ney+++CKvvfaa+fWqVasoXLgw+/fvN7318O7du+bkTmUgAfztN0tHkBQqCoUQQgiRSqkpm2vVqmWa/VSmJyYicwDvAGzduhVPT08iIiJ4+PAh7777Lt7e3pw/fx6AqVOnEhoayhtvvIGfnx/vvPMO3bt3p3jx4iilqF69ujm4bty44ZAE8OFD8PDQCeCuXc45EIQQQojHSWrKZqs7fdcyOy8RmQR4BnR7v+bNm1OwYEE8PT3p3Lkzt27dMgeMn59f/Pbt2/ntt99wd3cnZ86cNG3alJo1a5IvXz6uXbtmmjX2jz/+QCnFnDlzMtQGUH+vTgA/SM0gNEIIIYRIUUptALdv306tWrUYNWqUafZoV+cpwknQz+79FfQYgF999RWhoaFJDd/yq+k/N27cMP99zZo1lCxZktjYWNOfT+7evRulFAsWLMhwoPbooRPAIUMyvCghhBBCpCCJ8tsAuLs6VxFOApQBDiYRC3uAdsAfyQXL3r17adSokXUCeOirr75CKcWXX36Z4WAMCdEJYPPmGV6UEEIIIVKQTPld2NV5inAi9HOAnwHWAV8AnQE3499yopPEgoAPMJCknwzyG7B/5cqVKKVshpRJry+/lJ7AQgghRGZIpvwu49oMRWQ5wGTgoTFAwjA+T3jhwoUopdizZ0+Gg/HYMUtP4Js3M7w4IYQQQiQjmfK7kqvzDZEFAUXRtYPuxtdnZ82ahVKKsLCwDAdjTIwlATyY1E1qIYQQQjhEMuV3VddmGiJbACJef/11lFL8+eefDgnIUqV0ArhmjUMWJ4QQQogkJFN++7k6txDZABA7fPhwlFL8888/DgnIBg10AjhnjkMWJ4QQQogkJFN+B7g6txBZHJADoH///iiluHPnjkMC8vnndQL4yisOWZwQQgghkpBM+V3P1fmFyOLQvYTp0aMHSimb5wpnxIQJOgHs0MEhixNCCCFEEpIpvxu4Or8QWRxQGqBDhw7kzZvXYQG5aJFOAP39HbZIIYQQQthJpvxu5Or8QmRxQDWApk2bUsKBA/dt2qQTwEKFIPEDSoQQQgjhCMmU30Guzi9EFgfUAqhXrx7e3t4OC8gTJyxDwVg9nlgIIYQQDpRM+S0J4OMC/USQbcA54HugRxLzVAS+As4C4cDrQD2AgIAAKlSo4LCAjIy0JIAnTjhssUIIIYSwkkz5LbeA/+uAPMDXycTFWiCfcb6ngaR6eHwOUKtWLXx8fBwUjvq2b+HCOgF0wNPlhBBCCJGEZMpv6QX8X4d+BjAGg4GdO3fy4osv8t1331kHwTbgRdOLa9eu0b9/f+bPn28TKX5+flStWtWhQVmzpk4AP/zQoYsVQgghhFEy5XctV+cnwokw3r41GAy89NJLKKXw8PDgiSee4K233koUJN9//z1eXl7kzp2bXLlyccuqcV6NGjWoXr26Q4OyZUudAE6b5tDFCiGEEMIomfK7uqtzFOFEwHKAs2fPki9fPhYvXszmzZs5ffo0ZcuWZcmSJeZIuHjxInnz5uXVV18lLCwMpRRXr161CSBfX1+HBqVpMOgRIxy6WCGEEEIY9e7dm169etm/XcnVOYpwEvQTPG4DjBkzhmeeecZmz8+ZM4dOnTqZX9+7d48PPvgAg8HAli1bKF68OPfu3TP/3XQFERERQXh4eIpTREREqoJyzBidAHbpkp6QFkIIIQSQnrLZ29V5inASjAM4A1SqVInQ0FCbYBk+fDiTJ09OFERRUVGULFmSNWvWmN66C5Y2BCEhISilUpxCQkJSFbDz5ukEMCAgDVEuhBBCCBvpKJtLZn5mIjIFUNa0l8uWLcvu3bvNe/2nn37iiSee4NKlS4mC6KOPPqJ06dIYLKMznwfdi6hy5coOTQBXr9YJoAOHFxRCCCEeO+kom4tmfmYiMgVQ3LSX69WrR3BwMDdv3uSrr77Cy8uLjcaxV77//ntq1qxpALh58ybu7u789NNPiYKrbt26lC9f3qEJ4N69OgHMkQPi49Mb9kIIIcTjLR1lc77Mz0xEpgDcgCMA+/fvx8vLC6UUtWvX5sKFC+YImDp16r4pU6YA0LlzZ5RSjBo1iqlTp7Jy5UrzfB06dKBkyZIObQN49qxlMOi//85g9AshhBCPqZTK5ueee45mzZrZl805XJ2nCCcCWpr29P3799m7dy/xKVS1NWnShLJly9KjRw8CAwOpW7eu+W8DBw4kX758Dg3Yu3ctCeDhww5dtBBCCCGA9u3b25ffsa7OT0QmADoB1+ziIRyoDQwGUlX39txzz6GUsm4bmGEGAxQqpBPATZsctlghhBBCGHXv3t2+/L7h6txEZBL04+AGACHoR7652f29BnAsmdj5A6Bnz54opXj48KFDA9PfXyeACxc6dLEZZjDAuXOwZw/88ot+drEQQgiR3SRRfp93TTYisiTAHagEVAVyAeUAH+P/6devH0opoqOjHRqY7drpBPD11x262HQzGGDVKqhe3XJ7WinImVOPV/jbb65eQyGEECL1kii/j7s65xDZBJAwZMgQlFLcuHHDoYE5ZIhOsHr3duhi0+XaNUtCap34Wb/OlSvr1VYKIYQQyUmi/D7g6rxCZBPA/REjRiR6PJwjzJihE6tmzRy62DSLiABfX0ui17evru1LSID792HDBtu/T5yoawuFEEKIrCyJ8nu7q/MKkU0AUa+99hpKKc6fP+/QwPzsM51QlSnj0MWmyZ07ULu2Xo+8ecE4RGIi9+5Br16WJNA4eo4QQgiRZSVRfn/t6rxCZBPA5alTp6KU4ujRow4NzJ9+0smUmxs8eODQRadKQgI8/bTl9u6OHY+ef/BgSxL4+eeZs55CCCFEeiRRfq9ydV4hsgngj0WLFqGUYteuXQ4NzKtXLcnUqVMOXXSqmJ5HrJTu/JEa8fGWpLFgQT2gtRBCCJEVJVF+z3N1XiGyCeD4qlWrUEqxYcMGhwZmQgLkzq2TqUfVvjnaX39Bnjz6u4cNS9tnIyOhXDn92aAgiItzzjpmRHw8bNkCY8ZAp07QvDl07gxjx8L27VlznYUQQjhWEuX3ZFfnFSKbAI6uW7cOpRRffvmlw4OzRg2dSC1Y4PBFp8jU47dyZYiJSfvnf/hB37pWCmbPdvz6pVdCgq7N9PGx7cFsP3l5waxZcPu2q9dYCCGEsyRRfg9zdV4hMhHgAeRNxXx5AQ+7946FhoailGLp0qUOD87nntMJydChDl90snbutCRC27enfzkTJuhlFCgAV644bv3S69IlaNnS8tvc3KBVKxg3DmbO1P82bw7u7pZ5iheHJUt04iiEEOK/JYnyu7ezcg2RhQD+wLeAaQjw40DrJObrCRwxzvMA2ACUNv7t10OHDqGUYtasWQ4Pzjfe0IlIy5aPntcREhIsvX7bts3Ysu7c0TVpWWEsw927oVgxS2LXr1/y7ROvXIHJky2P4lMKWrTIWu0ZExLgxx910vrUU3qf+flB06YwcCB88okeuzE7iYuDM2f0EEOHD8Pvv4ODx1YXQggbSZTfXTI7FxGZDOiBTuaSMhNwA3IAyVXr3QPaAD+fPXsWpRTjxo1zYFhqn39uqYnKjLH1Vq601I4dP57x5X3xhSWJ2rcv48tLj23bLG0pS5ZMfXvKf/+FQYMs61+wIHz1lXPX9VGuX9cXBeXLp3wL29Rz+5ln4Lvvsua4jAaDTvQmT4YmTfQwQ0n9jiee0Bcjc+bAH3+4eq2FEP8lSZTfLVydnwgnAuoACQB//vknvXr1olmzZvz000/WcTHZOAGwceNGmjVrRu/eva1HDH8IHI2MjEQpxYABAxwenH/8YSkIL11y+OJtxMZaOm/07++YZRoMeiBrpaBWrczvXLF5s06ElIKaNdN3K3rPHvD2th3oOj7e8euaksuXITgY8ue3TY4aNYLx4/UTWD7+GKZPh5499QWD9XwNG+rb+VkhEYyOhrlzdfvSRyWxSU2BgfDhhxAV5drfER8PBw/q9rkvvQQNGujjp0ABHXOlSumYe/55vV+2bNHjZWYHN27A0aOwdSt8/bW+iNi1C8LCdM1yVogjawaDPkY2b4a334ZXX4Xu3aFNG333pEULfTE0dKhu7rFxI1y4kPV+x3/N/ftw8qQe0mzXLr1/duyAn3/Wd1Qy+zyalCTK7/quzlGEE6Fv4XLkyBEKFCiAUopGjRpRrFgx1q1blyhA/ve//6GUws3NjRYtWuDj48MlSzZ212AwkDdvXkaNGuXw4IyPtxT6Du5knMinn1pqji5edNxyjx+HHDn0sufOddxyH2XPHvDwsCSf//6b/mXdvAkdOliSkE6d4NYtx61rchIS9O3cggVt2yVOm5byLenYWF1b2amTbfLUp4/+La4QF6eTJU9P23WqVUs/7/q77+Dvv3XHm/v3dW3n4cOwdi2MGJG4407+/PDKK7qAySwPH+r17N0bihZNe/KaLx9066aP5azS09xggBMn4L339LqVKfPo31GkiE6uJkzQ2yMyMvPX++JFWLpU74sSJdJ3MVGmjL7Y/fxzPeyWSJ87d2DvXvjf//T+CAjQ+8TUETC5KXdu/RSpvn31ueHAgfR1OswIg8FAixYtaNeunemtRq7OUYSTAJ6mvTx06FBeeOEFDh48SFRUFNu3b6do0aKEh4ebg+Phw4d4e3uzfPlyDhw4gMFgYNSoUdSpU8cmiMqWLUtERATh4eEpThEREWkOUFMN2uTJj543vQwGXRArpduQOdqoUZYOIY5MLpPz55+6kFIK6tTRNRoZFR8PkyZZTl5Vqzo3+Th50rLvldLtKefPh7t307acX36xfY5ziRLOv5iw9/33uo2iaR0KFNBD8Pz1V+qXYTDAoUN6WCLr9plK6XaQ337rnKTKYID9+/Wzua3bkZqmatV0Ld/s2bB6ta41270b1q3T++ull3RNrf2zs8uW1Yn8P/84fp1T4/x5ePPNlJsT5Mun46VoUcuwUElNbm66BvTNN/W2io11/Prev6+bcwQH2z560nrKmxfq19ed50aNgrfe0rWvM2fC6NH6Aqhhw8Q16aapQQM9/unffzt+/VMjLk63gV25Urfvfe45qFdP76NChXQM5cunm0VUqqR/a5cu+lhaskSPvpAZyfjff+snVb38Mvj7PzrRU0rHT5Eiev1Tms/DA1q31pUFf/3lmFra1JTNAQEBptkbujpPEU4CDAa4d+8euXLl4uDBgzaBUr16db799lvz6/Xr11OhQgVirc5of/75J3pRFr6+voSEhKCUSnEKCQlJc/C+9po+MDLaKSMlu3ZZDsATJxy//Dt3dIGnlL4V40xRUbpQNhWyju6BvGaN5SRWuLAulBzp7l1dI2aqvVRKP2ElIzWOBgOsWGFba9W9u/NrPa5f1wmQ6Ttz5NC3565fz9hyo6P1beDq1RPX6Myc6ZiE//hxfXu9UiXb73B3h44ddY15WrZfVJSuzXz6adue5rly6Vqon392/i3JBw908t+lS+JCu3JlneQuXw7Hjulj1t69e/rCZO1avW1atLC0r7VPxDp3hkWLdGee9PSiN9VMvvsutG+fdOJQvLh+BOXSpXq9UnsBkJCgLxI//FDXepouFq2nZs3go4+c29TAYIDwcPjgA729ChRIX02m/VSpkj6+X39dJ5M//pj+xDA+Xielq1bphC+5IbTc3XWTh/794f339R2IAwf0s+Tt4zo+Xt+C37FD//Y+faBKlaSX6+2tz39ffpn+35CastnT01w31DjTExOROYC3ALZv30758uVtguT8+fMUKVLEuo0fw4YNIzg42Ga+5cuX07x5c5v3mjZt6rQEcO1afSAUKuS8NhOdO+vvaNPGOcsHXUNjOqh37nTOd8TF6dogUyF05MijP5Mex45Z2ku6u+s2eI4ovL/+2pIoK2PtkiM7z1y9Cl27WpZfpIg+sTs68YiL0yd264K1RQudDDiSwaALkW7dLM0MTPv+lVd0m7W0/LbLl/WtqMDAxAVRkyY6YXBE7+pLl/TzskuVsv2OmjX1dzi69/Px4zByZOLb7+XLw9SpGXvSUGysvv03aZK+9ZdUIf7EEzrpnDJF3279+WedsF27pu8InDqlaw4/+0zP06mT7rBlv5wcOfRQTbNn6+YBjhqeKT5eJ0kjRiTeJ3nyQI8e+lb3w4ePXlZKDAadeH78sW6rm9RvVErX9rdvr9fnvfd0zfKWLXo779gBmzbpxO7993XNZseOOjGzvrBIaipfXi83OFjfrl2xQl8QfPutvpBdu1bXJE6fDv/3f/qYtW5+Yj0VLarPJXPm6HNUWu9MJOX2bd1OcOhQy/nVfv83baq/89Ch1LepTU3ZnC9fPtPs3TI/MxGZAmMCuG3bNipUqGAOkNjYWNq2bcuECRMAiI6OJi4ujqFDh9q07fvrr78oUaIEP//8s+mtewDdu3d3WgJ45YrlAHDw44YBOH3aUhuwebPjl29iMOhaTGWsbXBGg/jgYMu2WrPG8cu3du2avrVn+r4ePdJfS3fhguUReqYEZtYs59xKMxh0omld+Dz9tONue+3bp28LmZZdrJhux+jssRQvX9bNJOxv05Yrp2sulizRCeGFC3o/Xbqkk4jPPtOFaL16iQscf39dGJ4+7Zx1jo3VhbB1HJku9l5+WRdy6U3OL1yAd96BunUTF6Jdu+qExhkXlJGRuvanf3/bzlPpnXx8dEKwfn3mdPxJSNBNFoYMSdzUoHBhfbt/3jw9z5Urye+fuDjdTnfrVn0sd+uWuHOWaapQQddyrV2bsSYB9+/rmPnoI30B1KaN3gepuUX7qMnLS1cUvP++LoecfTybkuUPPtAXD0nVjubIoZuW9OqlazsXLdLJ7I4d+nb4nj26w09qymalFAa9MwdlemIiMgcwFnTX75w5c7Jo0SJCQ0Np0aIFAwYM4MEDPTLMU089xZtvvsm8efPw9vZmy5YtLF++HF9fX5YtW2Ydp+cABg0aRGBgIAcPHnR4G0Cw9Jh0RieKkSP1sqtUcf5BfeqU5ZbRxImOXfYnn1hODFOmOHbZybl3D1580fZEnpbH9t27pwsH6yFQunVzfo9v0J1Beve2TTonT07/00+uXNGFpvXJOTg4czrLWIuJ0QWgaTzLtE4lSuh2hmmtPcyoEyd0oW3fPq12bd2Wbdeu5PeNwaBvtYWG6pq4Bg0S/66aNfX5I52noHQxGHRbw9Wr9W9r0QJKl056u7u762SleXN9Tlq50vVjb8bE6FuPHTrY1jBbT3nz6vNz7dq6TZ6/v26KYN/m03oqU0afN5YuzZzfeP++judly3Tbwmee0RcdPj76gql4cR13pUrp9pWNG8OAAfo8+tVXWWMg/9hYfedo5Ejd/jotx3RgYAS1aoUnmurVC+fEiXBGjhyJUopIfY95vKvzFOEkQHnAALBy5UpKlSpFyZIl+fTTT22CrWfPnr9dunSJBw8e8Morr5ArVy7q16/PsWPHrGebClwDmDBhAkopTjupqmDwYEtNjSNFR1uucj/4wLHLTs7MmZYE4ZdfHLPMTZssJ+gePTL/yR2rVtleobZvn3Jt7fXrumbJuvdiuXKZ3zkD4JtvbG87Fy2q252eOfPoz5o6ZgwaZBluRyl9u9QZbUnT6uxZfavrmWeSr40qXlzvrzfe0LcBXT00xe3bOoFNqkZSKV1g16mjt3GjRjrxKFw46XnLltUdBDJSk+gM8fH6GDh1Stc8//uvc2q7Henff3W7z759da1Tcgmh/ZQ7t25S8PLLurb39OmstS+yq1u3dC3svHm6fGzfXiffnp66vWiOHPqc9MQTOtFt0UI/AOCtt/QFSXi45Za+Xfn9jqvzFOFEwJumIIqJieFu0o0XbA7Rf//911Q9bDIKPVj0PYB33nkHpRQHDhxwWIBbMw0IXaSIYwuoxYv1cvPnz7xx1R4+tLSx8vXN+K3gI0csNWhBQZk/jIDJqVOW9ofWtTejR+t2XUuW6PZW7drZdvDIk0fXvDmiDU16xcTomkj7W16BgToZ/OorPebdkSO6rdCiRbqWzH7IkDJldExl1Ufn3b2rE47wcN32zFWxklrHjsHYsXo/pCbhyJVLJ4YTJ+pkNqvuh/+CBw90L9WtW3ViuGiRvj360Uf6Vu6ePTrGZB9kfXbl91JX5yjCidCJ22DAemS4SGAokAsYD+wBNgPbAOuU6xjGgSLRTwoBYPHixSil2OboLqFGly9bTvKHDztuuQ0b6mUOHuy4ZaZGeLilxmjgwIy1czLVXlWt6rox7qxt26ZraB5VWHt66lssmXlL7lFu3tS9LpPr6ZfcFBCge48+SO7ZOiLDYmLg1191+80PPtAN4d97T3da2bBBH1NZvRZNiKzIrvz+yrUZisgU6GSvk3HKk8J8XsAzQJDd+/lNAbR+/XqUUqxevdppQWoa+2rGDMcs77ffLAW4kyouUzR3ruX7p01L++f//NOS/BUpol9nFQaDbnMTEqLbD/n76x69TZvqtlAbNuh2OVlVQoLuzBESAq1a6dso1jWWfn66Yfb778O5c65eWyGESD+78nuvk1MP8V8AFDMF0N69e1FKMX/+fKcF6ZgxugBu3Ngxyxs9Wi/P3981bVIMBtsx4qZMSf16HDtmaT9XtKhrEtjHzYMHOmmVW1pCiP8Su/L7hKtzC5ENAN6mADp8+DBKKWbOnOm0IDUN1uzunvFbnQ8eWIYkeO89x6xfesTF6S78piSwT5+Ue6EaDPpWo2lQ2BIlskZnAyGEENmTXfl9ztW5hcgGgCqmADp9+jRKKfM4gs7w4IGlp+mXX2ZsWV9+qZfj4eH6Nmjx8XqcL1MSWLq07jRhnQg+eKDHc2ra1DKfj0/Wuu0rhBAi+7Erv2+4OrcQ2QDgZwqgq1evopRixIgRTg3UZ56xDHWSES1b6uX07OmY9XKExYttR513d9djE1avbjvEiFJ6KIb0jlcnhBBCmNiV3/dcnVuIbACoYwqgqKgolFIMHDjQqYH6xRc6AcqXL/3DhoSHWxKp3bsdu34ZdfmyHl4kuVHfu3bVw1sIIYQQjpBE+e3u6vxCZHFAfVO0xMfHo5Ti+eefd2qgRkdbxrxbuTJ9yxg40LWdP1IjJkb3Ql26VNcMbt0KVo9oFkIIIRwiifK7kKvzC5HFAY2sgyhPnjx07NjR6cFqevTYU0+l/bN37lgeNbV0qePXTQghhMhu7MpvL1fnFyIToAeFbgz0B54DiqXhs0HWAVSoUCHatGnj9EDdssXSRi6tz4xduFB/tmBBnQwKIYQQjzu78ru8M/MO4WKAJzAfiE4iFr4BSgDuQE2gIZA/iWXYJIB16tShSZMmzopPs/h4y3NNX3899Z8zGKBWLf254cOdt35CCCFEdlKiRAnr8ruaK/ISkQmAQsBF651/+vRpohI/DPeM1f/vAaMBN6vlJLrf+2VGx2dJpVmzLI8TS+0TJXbvtnSoOH7cuesnhBBCZBfe3t7Uq1fP9LKWK3MU4UTAywC3bt1iypQp+Pr6opSiQIECvPzyyzZBYTAYSLB99EEokBuoBVw3zRMXF+fk8LR1/Trkzq2TuXffTd1nTEO/tG3r3HUTQgghspMKFSoQEBBgehng6jxFOAnwGsC5c+d46qmnGD16NJs3byYoKIjSpUubAyI0NBQ/Pz+KFCnCp59+ah0r+4EboLuP9+rVC6WU/TxON3asTugKF350D9k9eyy1f3v3Zs76CSGEENmBj48PtWvXNr2s5+o8RTgJUMl+58fExFC5cmXKlSsHwM6dO3Fzc0MpRd++fSldunSix7xdvnyZKlWqULp0aSpXrkyHDh2cHKK2oqKgWDGd1I0cmfx88fEQEKDna90689ZPCCGEyA6qVKmCv7+/6WUDV+cpwokAc//ZY8eO8eyzz6KU4l3j/dRnn32WcePGERMTQ2xsLH/++SeFCxfmp59+MgfMhAkTaNSoEXfv3iUkJMTchTw+Pp7w8PAkpwgHP3dt3jxLzd7OnUnP87//6b+7ucHRow79eiGEECJLi4iISLZMNk0+Pj7UqFHD9JFGrs5RhJMA3qa9/Morr+Dm5kbu3LmZOXMmBoOB69evkzt3bk6fPm0TRDVq1GDTpk3m17GxsURFRREZGUnNmjVZaRyZ2fRg6aSmkJAQhwZ2fDy0aKETvDJl4Px527/v2KGfoKEUvPqqQ79aCCGEyPJCQkKSLZNNk6enp3VRDN2fAAAei0lEQVQCGOSK3ERkAqCuaS97eHiglCI0NNQcLNu3b6d8+fI2AfTrr79SpEgR7t27lyi4pkyZQsuWLc2vBw8enGkJIOikr3BhneR5e+uawOho+OQTS0eRhg0hNtbhXy2EEEJkaZIACjP02H4AeHl5oZTiyJEj5mDZvn07ZcqUwWB8TlpERAR+fn589NFHAJw6dYrr168DcPLkSUqWLMk333xj/vzMmTPN7QftJ2ckgAAHD0KRIomfn6sU1KwJV6865WuFEEKILE0SQGEG5AKuAqxZs4auXbvyzz//mIPl+vXr5M+fn5deeonZs2dTvXp13n//fXNCWLNmzfjXX38dg8HAoEGDaJvEuCpXr17NlDaA1sLD9ePhTImfhwf07w+3bjntK4UQQogsTdoAChvA9CTi5KHpPwcPHqR58+Y0btyYH3/80Wam5cuXn4yOjmbPnj0opfDw8KBy5cpUrlyZZcuWOS2IU+vCBTh8+NFDwwghhBBCegE/NoAcwO9JxMBIoJf1G6ZaPyOburRr164xcuRIFi1axKZNmxg3blyiZFEIIYQQWVulSpWoU6eO6WWgq/MU4SRAN4CYmJhFSqmb06ZN+9m401cZ/94Q+MEqNg4ATY1/awesyJyQFEIIIYSzeXt7U79+fdNLeRTcfxUwEWDu3LlfK6WoV6/eJ8advtpuPm/AO5llVABWAua+tYcPH+bAgQOZFrBCCCGEyDhPT0+aNWtmelk1U5IRkfkA0/MwDMePHz8IRBpfd0vHso6ZIiZPnjzmwaCFEEIIkT3Yld9ezsg9RBYBLLLa9wZ0pxC3dCxnJ+infyil6NGjR6YGrRBCCCHSL4nyu6Djsw6RpQCBwIuAXwaW8Q1AdHQ0Sin69evnmggWQgghRJolUX7ndFymIf6zgC9AjzOklGLYsGEuC2IhhBBCpI1d+f3Q1XmFyCaAZQBnz55FKcW4ceNcGshCCCGESD278vu2q/MKkU0A8wGOHz+OUoqpU6e6NJCFEEIIkXp25XeEq/MKkU0AqyIiIggJCTFPznzcm3A92d+PF9nfjxfZ348X+/199erVf12dVwgnA9yA5sA0YB4QDJRNx3IWh4eH2zxUOjw83IXhLJxN9vfjRfb340X29+PFfn8fO3ZMagD/q9CPgXsNuJlMPHxonCcQGAo8D+RPYXnz5YTxeJH9/XiR/f14kf39eLHf30eOHPnHqUmIcB3gLdOOT0hI4MSJE6xbt46oqKiUYuQO0N34+YLAXOAEsBVYff36dY4fP87WrVupX7++nDD+46SAeLzI/n68yP5+vNjv76NHj15zRW4iMgFwHuCzzz6jevXq5p2eM2dO1q5daxMYJ0+eJDo62vqtCcCqlIIpMjKSkydPOjZCRZYiBcTjRfb340X29+NFEsDHCHAGIDQ0lJCQEHbt2kVYWBhKKebMmQPApUuXaNOmDUopSpYsycGDBxMFzdy5c82JnsFgYOLEiURG6ifKXbx4MZNCV7iCFBCPF9nfjxfZ34+XJG4BX3FFbiIyATDSPgDeffddlFJ8/PHHADRo0IBy5cpRt25dFixYgIeHB4cOHbL5jJ+fHx9++CEA+/fvRynF2bNnAbhx44aTQ1a4khQQjxfZ348X2d+Pl7Nnz9KoUSPrGsDLLklOhPMBDUw7/u+//2b8+PHky5cPf39/bt++zaFDh/Dw8CAmJoaEhAQAFi5cSLVq1WyCpnXr1uYE8OLFixQrVowNGzYA+jZweHh4klNWHFLAYDAQGRnJ2bNnOXToEKGhoaxbt45Vq1axaNEipk6dymuvvcaIESMYMmQI/fr1o2fPnnTv3p327dvTpEkT6tatS61atfDz86NGjRrmyc/Pj1q1ahEQEEC9evVo2rQpHTp0oEePHvTv35/hw4fz+uuvM2vWLBYuXMjKlSv56quv2L17N3/88QcRERHcvXsXg8Hg6s1klp4CIj4+nlu3bnHu3DmOHj3K3r172bRpEytWrGDevHnMmjWLN954g3HjxjFs2DD69OlD165dadWqFY0aNTJvX39//0Tb2LSda9euTb169QgKCqJZs2Y89dRTdOvWjRdeeIGXX36ZsWPHMmPGDD744ANWrFjBmjVr2LZtG0eOHOH06dNcuXKF27dvm+M+O0lISODOnTtcvnyZ48ePs3//frZt28aaNWtYuHAh06dPZ+LEiQwfPtwcv8888wwdOnSgRYsWNGrUiMDAQGrXro2/v795u/bu3TvR/u7evTvNmzenbdu2dOzYke7du9O3b19eeeUVxo8fz/Tp05k3bx4rVqwgNDSUgwcPcvLkSfP2jYuLc/XmypCEhARu3brFqVOnCAsL4/vvv2fDhg0sW7aMOXPmMGXKFMaPH8+IESMYPHiweXt369aNp556isaNG1O3bl1q1qyZKI79/f2pU6cO9erVo2HDhjRp0oTmzZvTpk0bOnfuzLPPPkufPn0YMGAAw4YNY8KECcyZM4cPP/yQzz77zLy9w8PDuXLlSrq2dVZPAA0GA3fv3uXSpUscO3aM/fv3s2nTJlavXs3SpUt59913mTJlCmPHjmX48OH83//9H8899xxdunShTZs2NGnShPr165tj3f58UrNmTWrXrk3dunXN+6Bly5Z07tyZXr16MXDgQF555RVee+013nzzTWbNmsW8efNYtmwZa9asYfPmzezdu5dDhw5x8uRJ/v77b6Kjo116Do+IiEi2TDZNypIAyjAw/1XAIoADBw6QO3dulFJ07drVnJgFBwczZMgQm+DZvn07/v7+5tcJCQlUrFjRnAACtG3blgULFphf582b1+YkYpqGDh3K2bNniYiIIDo6mvj4eIcEeHx8PFFRUVy9epXTp09z+PBh9u7dy/r161m8eDHvvPMOEyZMYNCgQXTv3p2mTZvi6+tL2bJlk13X1Ez58uWjZMmSlC9fnsqVK1O1alWqV6+Or68v1atXp2rVqvj4+FChQgW8vb0pUaJEur4vd+7clC1bFn9/f9q2bUvfvn0ZNWoUs2bNYvHixaxfv549e/Zw+PBhzp8/z61btxy2bU0n3GvXrnHt2rVEBcS0adMYM2YM/fv35+mnn6ZVq1Y0aNCA6tWr4+XlReHChXFzc0vzb86RIweFCxfGy8uL8uXL4+PjQ5UqVahWrRq+vr74+vpSo0YNfH19zdu5XLlyeHl5Ubx4cQoUKJCu782VKxfly5cnMDCQVq1a8dxzzzF48GDGjRvHjBkzmDdvHitXrmTjxo3s27ePP/74g6tXr3Lv3r00n+QNBgMPHjwgMjKS06dPc+TIEfbv38/WrVtZu3YtS5cu5b333mPKlCmMGTOGIUOG0LdvX55++mmefPJJ6tSpQ7ly5czHclomNzc38ubNyxNPPIGXlxflypXDx8fHJoZ79eqVaH8/+eSTFCtWjIIFC6bre5VSFCpUiKpVq1K/fn1atGhBx44d6d27N8OHD+fNN9/k3XffZcmSJaxfv54tW7awd+9ejh49yvnz5/n333+5d+9euhP1hIQE7t69y/Xr1zlz5gwHDhxgw4YNfPrpp8ydO5dp06YxceJEXnrpJbp160bLli3x9/enZMmS5MuXL93nCnd3dwoUKGBzvrCO5erVq1OlShUqVqyIt7c3pUuXpmTJkuZt7eHhke5tXaZMGWrUqEHjxo3p3LkzAwYM4NVXX2XixIm8/fbbLFmyhI0bN3L8+PGkhgVJ13a2FxcXx+3bt7l+/TpXr17l7NmzHDlyhN27d/PNN9+wevVqPv74Y2bPns2ECRMYMmQIPXr0oGPHjtSvX58KFSrg6emZ7u2QM2dOChYsSIkSJShbtiyVKlUyn09M8V6tWjUqV65MpUqVqFChAmXKlKFEiRIUKVKEXLlypXvfK6Xw8PDA09OTatWq0bRpU3r06MGIESOYNm0a8+fPZ8WKFaxfv56tW7dy4MAB/vrrL65evcqdO3cyfNEUEhKS6vWUNoD/YRg7cSxatAilFG3atLE5kXbo0IG5c+eaXxsMBtq1a8eMGTPM7z148AClFPv37ze/16ZNG8aOHWsuAKdOnZrqgMuTJw+enp54e3vbHJTWBXy1atWoUqVKomSqUKFC5MmTJ80n4uLFi+Pr60uDBg1o164dAwYMYNy4ccyaNYulS5fy5ZdfsmHDBnbt2mUueK5evcqNGzeIjo7m4cOHGbqii4uL486dO/zzzz/8+eefhIWFsWfPHjZu3MiXX37JggULmDx5MsOGDaNfv3507NiRhg0bUqVKlTQVQjly5KBgwYI2SZR1oWParpUqVaJ8+fKUKVMmQ4WOKWkzFThBQUG0bt2a7t27M2jQIMaMGcP06dPNJ7wNGzbwww8/EBYWxu+//26+OIiNjU33trV37949c2F/5MgR9u7dy8aNG1m3bh2ffPIJM2bMYPz48bz66qsMHDiQzp07ExAQQPny5SlcuHCaYytv3rwUKVIELy8vKlSoQNWqVW0Kl3LlyuHp6ZmhC48cOXLwxBNPULFiRQIDA+nQoQP9+/dn5MiRvPXWW8ydO5fFixezdu1acwz/9ddf/PPPP9y9e5e4uLhUx++jBgY2GAzExMRw7do1zpw5w9GjR9m3bx8bNmxgyZIlvPPOO0yePJlXX32VAQMG0LNnT1q1aoWfnx/e3t4UK1Yszcew9XYoVKgQXl5eVKxYMdEFQrVq1fDx8aFMmTIULVqUPHnypOmiwN3dnaJFi1KlShUaN25M+/btefbZZxk4cCDjx48319x/9tlnbN68mQMHDhAeHs6ZM2e4cuUKN2/eNJ8vHMFgMHD//n2ioqKIiIjgr7/+4uDBg+zatYtvvvmGJUuW8L///Y8pU6YwfPhwnn/+edq0aUPDhg3x9fXFy8srXQlUrly5KFy4MMWKFTPHtfUFr+lit0qVKubEqVSpUnh6elKoUKF0XyiYyocyZcoQEBBA8+bN6dy5M/369SM4ONgc68uXL+ebb75hy5Yt/Pjjj4SHh3Pu3Dn++ecf7ty547Ba/QcPHhAVFcW1a9c4f/48v//+O2FhYezbt4/Q0FDWrl3LsmXLmD9/Pm+//TaTJ08mODiYvn370qVLF5o1a4afnx/FihVL83Zwd3cnf/78FC9eHG9vbypWrIiPj0+i/WBdVlasWJHy5cunKgHMly8fISEhnDlz5ksl/puAjwG2bduGUoq6devaBHjHjh3Nj3MzGAxMmjQJf39/4uLiSEhI4OOPPyY2Npa8efOybNkyfvzxR6ZPn06hQoVQSjFz5kwA9u3bl2SQPfnkk+bbfP369TNf4TVr1oz69etTp04dm1tQ9rdHateubb6d2qRJE9q0aUPHjh15/vnnGThwICNGjGDChAnMnDmT+fPns3r1arZt28aBAwc4ffo0kZGRKRV8BiAOiEaPk3gNuAj8BuwHdgFbgK+Bz4FPgQXAVGAsun3lMGAI8JLx32HG98cAE9EDby8EVgMbjMs8BPyO7qH9DxAJ3AeSPGsZDAaio6O5ePEiYWFhbN++nc8//5yFCxcyY8YMxo4dy6BBg+jRowddu3albdu2BAUFmW/x2d/yMG3XunXr0qBBAxo3bmxz26l79+7069ePYcOGMWrUKCZNmsTbb7/NsmXL2LZtG0ePHuXChQtERUWlNqmIN/6+20AEcNb4+38FfgS2A2uBpcC7wJtW23e43Ta23s6j0D3Vp2AZ4HwZ8JVxv/1s3JfnjNv5BhBjXJ9kVzw+Pp7IyEhzAmlKblauXMncuXN54403GDFiBC+++CLdunWjQ4cOtGrViqCgIAICAmxuM9WsWZPAwECaN29Ohw4d6N69O71792bw4MHm26fvv/8+S5YsYc2aNYSGhpoLtAsXLnD9+nViYmIetZ3jgVjgrvE3mmL4ILATS/wuR8fibOM2nmDchsPRY4CatvFQ4/YdgY7jycBM9HBQi9DHwXpgh3Ebn0B3NotAH0sPSSaWrcXGxnL16lXCw8P5+eefCQ0N5YsvvmDJkiXMnz/f3BRj6NChvPjiizz//PN07dqVNm3a0KhRI/O2TqppQMOGDWnZsqV5m/fr14+XX36ZcePGMWfOHFasWMF3333H/v37OXbsGKdOneLGjRuP2s6m88V9IAodU38Ch43bYRew2Wp7LwM+QA/FNda4PYdiieGhxm0/2rgvJqPPLTOB99Dn7hXoY2Mj+jg5ZPzOi6nd3gkJCdy+fZsrV65w6tQpfvnlF7Zs2cKKFSt4//33mTJlCqNHj2bYsGEMHDiQXr160alTJ1q3bk3z5s3N27pmzZo25xI/Pz9q1qxJQEAADRo0ICgoiObNm9O6dWs6duxobvYyZMgQRowYwbhx45g+fbo5gf7mm2/YsWMHYWFhnD59mhs3bqSm5ssU63eAf4Er6Ng7gj6X7ECfZ1cBnxi341T0udgU69bnk6HG/TLKuI9M++Ad4+e/MG77Hegy4Vcg3PidV9DH2x1jTKS4Hx4+fMiVK1c4duyYuUmMKd7feecdJk2axIgRI+jfvz89evTg6aef5qmnnjKXlQEBAdSqVSvRfjCd02vVqkWdOnUIDAxMVQLYpUsX06q94ILURGQG4CnTSeCtt95i586dNkG5evVqcufOzf/93//RoEEDevbsyb///gvAnj17HhYoUIB///2X3r1721yhKaUICAjg1q1bANy8efPOkSNH/jl+/Hjk8ePH75w4ceL+iRMn4q5du5ZiYesg9ifmv9EnyYNAKLrAmo0+6J9Ft4tMdrBrVwPyowfm7o4+MS0EvgV+AP4w/r4o4J7xdztbAvrkFo0+6f0G7AM2YUnaJhu3bxegMVAByOHqbfkogAcQALwAjDP+ls/QBfkB4281JTdRwANSkdykkgFLgWa6CLEu0Pajx95cj04m3kYXUj3R8ZHb1dvvUdCDzHsBLdAF7kR0grMIndjsNP7Wv4y/PdK4Le7ziEQ9A9v8Ifpi5B/jtj6O3tdb0eeK/6GPu07G7eydTba1G1AGffx1Qyc3U4yxsxHYjT4nnjRu6zvo2MusRrCmeL+HPpYigEvoc9pBjOPMomNjCtAHaAP4kYXP10lBj59bA2gPDEIfu18Ae9AXTOfQFQ6R6Au3hzgw1lNqA/jbb78lnDhxIv7atWtxxu8OcvX2Ek6CPikk5UfTfzZv3kynTp1YsWKFTdX5w4cP/7hw4QIAV65cYc2aNYSFhWEwGGjZsqXNbWKgWirWJTe6MKiNTkyfRRe8/dEHyUtW0yDj+32BXsZ526NPbrXRJ7osn2BkFnQi4wVUBRqhE7Gexu03KInt+oLx793QBV0r4+dqAOVJ5oRr/I5GgGdm/8asBn2Sr4xOIJsat2MvYKBxOw8C/g/9dJ02xvkqAMWySuwC7sArwF7j9BaQz/i3XMbf85bxNxV20Tq6Gbd1GWN8NzbGd58kzh2DjLHdFWhmPFdUAPK6Yt2zGqAsOiH8BX1h0d7u7zmA4uiEfYjx/GDa1v9nFdvW55JeVueRNsb9U9N4rsgScZ6dGMvJksZzSz2rsrKP8XyeVHlpKiutz+vt0ZUdVdGPgX0DCAHaAW7G77I/xgu5+vcLBzLuVAD7TgIF0I+BS8p+9BVxsjp06MDLL79s85arf6twLHTtxyL0lWsousbEJA5dM5nL1esp0g9969zeMeA5Ej8+MhJ42tXrLNIHnURfSmJ/f4ouC75AN52wP84XyHGePaEvnl4n8Z2iRejEPtLu/ZtAF1evt3AQ9O2Vu0WLFv1cKWV48ODBUeOObmj8e0d0bWA0um3DIGPQuBn/1h99JT0HXU0PwOXLl7l//779iWSAi3+ucBD0VWdqbg3tANxdvb4i7YCc6FutLF++nHfffTfRMR0XF8fOnTvtnxD0iqvXXaQdukaPmzdvMmbMGPbt25eKw9tsG8ZaI5E9oGtzV5p24MmTJ/nhhx8S7di4uDh27NjB3bt3rd9+2dXrLxwAuArEFS9e/LRS6kZcXJypEWDNNC6nOLr9k00PN9MwAlbqOOmniEwEHAX49ddfmT9/PvPnzyckJIQWLVqQI0cOpk6dat1gu62r11ekHbpGCIC6deuilB7ix+T777+nQoUKKKWfEBQWFmZ9nDdy9fqLtAEmAfz8888opShSpAhnzpwBICwszHycT5kyhebNm5MjRw6mTZtmfeeotat/g0g9dFtbAFasWGEehWD37t3mg3jPnj2UL18epRSlSpXi119/tT7G67v6N4gMQjfSB10FbKra308aa23Q1cjExMRQrlw5Zs2axfz585k3bx5FihTh9OnTpqDZ5azfIjIHug0KAJ07dzZ3/ilatChPPfUU7dq1o1u3bkRFRZlm6+HqdRZph67lPwXw8ccfo5Qib968xMXFERcXR/78+WncuDG9e/dm0aJFFCxYkN9//920z3929fqLtEG3z8NgMODv749SitGjRwN6NAiVzHF++/Zt0z5/zsU/QaQSum3fA4Dp06eTJ08eQkJCKFasGO+//z6gK3Ly5ctHkyZN6NOnDwsWLKBQoULmR74CP7r6d4gMQjc4t+76+z1QMh3LOQ3wwQcfEBgYaH2VQHBwMM8884zppQwqmc2hG84DUKpUKTp16kRsbGxyQ2RcQRoOZ1sY2wBev37dPF5ebGwsS5YswdfX12afT5o0iXbt2ple3nH1uou0MSb8kQDTpk1DKcXgwYMBKFGiBF26dEnpOP8bKOjq3yBSB93GH4DevXuzbt06QD/S9ZNPPgH0RZ+fn5/NTp4wYQIdO3Y0vYxy9e8QDmA88H3QvYrS3I4D8DRFRFBQEMuXL7cJmtmzZzNgwADzicIZv0FkHqCOaWeWKFGCKlWqEBwcnFT7ke8BX1evr0g/oJxpZz755JMopdi1axetW7dm4cKFNjv7gw8+oGfPnqaXN1297iLt0B23zE//qF69OgCenp7m4zyJtoG7gequXneRNugOPWbr1q2jUqVK5js3LVu2tHm6F8DcuXPp06eP6eV1V/8GkQVYFxKlS5fm+++/NwfM7du3KVWqlHW7glBXr6/IGCAPenwwJk+ebL415ObmRnBwsHWboNGuXleRceixwOjSpQtKKb799lsqV65MaGio+TiPiYmhbNmybN682Zz8u3q9RdoBL4J+nrtSijJlygC6dldZHeejR4+2Ps6DXbzaIh2A0qYdmJCQQIUKFWwqbypWrMi2bdvMr+/evUuZMmXYunWr6S1pziWUQg+ECkDZsmVZu3YtANHR0TRv3pyhQ4daX0S0f/QSRVaHfmoEABcuXODkyZOsXbsWNzc3PvroI9Of1rl6PUXGAdftE8CqVavy6aefmpO/tm3b0q9fP+vj/FlXr7dIO/QYcYkSQOvjfM2aNSilzLcKgTWuXm+RdugBtAEYP348QUFBNr35fXx8/r+9+3eJOo7jOP4Fu0VzCcG7lmhramlqanAKvoNT+7m0yiWBIE6C+aOv9AdESQQNEYZ6DhcU6SCCg4PiEkJg0nDUKh7fZ8Pna3wtEyrj69nzMX6n93G8v/f5fj/3eb+YnZ393uN9fX35nTyA/qI/g84Awh9KvwCMjY3R3d1NHMf09vaSJEn+SdEFwTlAOB36iR+kaUqpVGJycvLw0quia9XfO24BmCQJnZ2dxHFMpVJhfHw8f+p7oeia9WdOWgDm+7yjo4Pp6enDSy+Lrlu/j5C0w/b2Nj09PQwPD7Ozs8PHj2EU5NTUFF1dXcRxTLlcZmJiIt/jr4uuX2cIITuUNE2Zn59nYGCA9fX1/H2jQZYgoPYG3IWwvd9oNGg0Guzu7jI6OkoURfmtwSdF16q/R8hUpb+/nyiKWFlZIU1TlpaWqFarrK6u5vv8PR4GaFvAHQhzXKMsG/7HPh8ZGSGKovxW4OOi69bvI+RGMzg4+FMO8PLyMmmaUq/XqVarrK2t5Xv8HXCx2Op1phDeAr746XExmMRhwOcGcB9ga2uLSqVy5MZRq9XypwRNhTgHCBnTtFqtIzM+j/EIo73aGnD98Mvc39+n1WqxublJuVw+0udDQ0P5PjcZog2RDYHe29tjbm6OZrNJs9lkYWHhpD6fscf1S4T4mLfAB+AVcKPomnS6gGtk0UEHBwdsbGwwMzPD4uJi/kfhedF16nQQ8kbzW/4HhHSgN1mfv8bBz+cG8AA4MuvlsM+TJKFer+f7/FnR9erPAFeBzyc90RHe9n0A5sjSwST95whbRV9/cdN4DpSKrlGnB+gCbhJC4y8XXY/+LeAKcAt4SHbi/xjP7PP2BlwCatmivwbcA8YJp8EvFF2fpDOKkBUbA1PAS+ApcLvouiSdHqBE2NmZzvr8CU5zkCRJkiRJkiRJkiRJkiRJkiRJkiRJkiRJkiRJkiRJkiRJkiRJkiRJkiRJkiRJkiRJkiRJkiRJkiRJkiRJkiRJkiRJkiRJkiRJkiRJkiRJkiRJkiRJkiRJkiRJkiRJkiRJkiRJkiRJkiRJkiRJkiRJktQ2vgEG0np7c82ffgAAAABJRU5ErkJggg==\">"
       ],
       "metadata": {},
       "output_type": "display_data",
       "text": [
        "<IPython.core.display.HTML at 0x7f24f26ac950>"
       ]
      }
     ],
     "prompt_number": 100
    },
    {
     "cell_type": "heading",
     "level": 2,
     "metadata": {
      "slideshow": {
       "slide_type": "subslide"
      }
     },
     "source": [
      "More Examples"
     ]
    },
    {
     "cell_type": "markdown",
     "metadata": {},
     "source": [
      "* Many, many very good examples at the **Gallery**:\n",
      "\n",
      "    http://matplotlib.org/gallery\n",
      "\n",
      "\n",
      "* Examples for animations, Graphical User Interface:\n",
      "    \n",
      "    http://matplotlib.org/examples/index.html\n"
     ]
    },
    {
     "cell_type": "heading",
     "level": 2,
     "metadata": {
      "slideshow": {
       "slide_type": "slide"
      }
     },
     "source": [
      "Conclusions"
     ]
    },
    {
     "cell_type": "markdown",
     "metadata": {},
     "source": [
      "We have seen:\n",
      "  1. How to do convenient, fast math in **NumPy**\n",
      "  2. Where to find many useful tools with **SciPy and friends**\n",
      "  3. How to make beautiful graphics with **matplotlib**\n",
      " \n",
      "Last point:\n",
      "   1. Do *not* reinvent the wheel\n",
      "   2. Algorithms matter\n",
      "   3. \"Premature optimization is the root of all evil\" \u2013 Donald Knuth"
     ]
    }
   ],
   "metadata": {}
  }
 ]
}