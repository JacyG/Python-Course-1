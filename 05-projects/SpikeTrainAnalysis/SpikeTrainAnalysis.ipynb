{
 "metadata": {
  "name": "",
  "signature": "sha256:afe48eea982f06b6cdaaff6c6157ab720e837c7afa702e6e19843aa3b32398ea"
 },
 "nbformat": 3,
 "nbformat_minor": 0,
 "worksheets": [
  {
   "cells": [
    {
     "cell_type": "heading",
     "level": 1,
     "metadata": {},
     "source": [
      "Exercises Day 2 - Numpy, Scipy and Matplotlib"
     ]
    },
    {
     "cell_type": "markdown",
     "metadata": {},
     "source": [
      "IMPRS Neurosciences - Python Course, June 26, 2013\n",
      "\n",
      "Exercise by Norma K\u00fchn"
     ]
    },
    {
     "cell_type": "markdown",
     "metadata": {},
     "source": [
      "In this exercise you will learn how to load data from text files, to organize it in numpy arrays and to work with it. You will get introduced to histograms and curve fitting and several other tools from matplotlib and scipy.\n",
      "\n",
      "The exercise will guide you through a simple analysis of electrophysiological data recorded from a retinal ganglion cell in the mouse retina by Michael Weick (Gollisch Lab)."
     ]
    },
    {
     "cell_type": "heading",
     "level": 2,
     "metadata": {},
     "source": [
      "1. Loading and organizing data"
     ]
    },
    {
     "cell_type": "markdown",
     "metadata": {},
     "source": [
      "**Useful functions:** `numpy.loadtxt()`, `pylab.hist()`\n",
      "\n",
      "Load the module 'numpy' to load the data."
     ]
    },
    {
     "cell_type": "code",
     "collapsed": false,
     "input": [
      "import numpy as np"
     ],
     "language": "python",
     "metadata": {},
     "outputs": [],
     "prompt_number": 2
    },
    {
     "cell_type": "markdown",
     "metadata": {},
     "source": [
      "Load the data from file 'Vtrace.dat' as ascii text and pass it to a variable which you call 'Vtrace'. This might take a few seconds since it is a large data set."
     ]
    },
    {
     "cell_type": "code",
     "collapsed": false,
     "input": [
      "Vtrace = np.loadtxt('Vtrace.dat')"
     ],
     "language": "python",
     "metadata": {},
     "outputs": [],
     "prompt_number": 3
    },
    {
     "cell_type": "markdown",
     "metadata": {},
     "source": [
      "This is the voltage trace of a patch clamp recording from a retinal ganglion cell. The trace is sampled with 20 kHz.\n",
      "\n",
      "Create a numpy array 'tbins' which contains the time bins of the voltage trace in steps of 0.00005 s. The array should have the same length as the voltage trace."
     ]
    },
    {
     "cell_type": "code",
     "collapsed": false,
     "input": [
      "tbins = np.arange(0, len(Vtrace-1)/20000., 0.00005)"
     ],
     "language": "python",
     "metadata": {},
     "outputs": [],
     "prompt_number": 4
    },
    {
     "cell_type": "markdown",
     "metadata": {},
     "source": [
      "The cell responds to a visual stimulus. This stimulus is triggered to the times which you find in 'trigger.dat'. Load this data into the variable 'trigger'."
     ]
    },
    {
     "cell_type": "code",
     "collapsed": false,
     "input": [
      "trigger = np.loadtxt('trigger.dat')"
     ],
     "language": "python",
     "metadata": {},
     "outputs": [],
     "prompt_number": 5
    },
    {
     "cell_type": "heading",
     "level": 2,
     "metadata": {},
     "source": [
      "2. Plotting data"
     ]
    },
    {
     "cell_type": "markdown",
     "metadata": {},
     "source": [
      "Load the module 'pylab' for plotting."
     ]
    },
    {
     "cell_type": "code",
     "collapsed": false,
     "input": [
      "import pylab as pl"
     ],
     "language": "python",
     "metadata": {},
     "outputs": [],
     "prompt_number": 6
    },
    {
     "cell_type": "heading",
     "level": 3,
     "metadata": {},
     "source": [
      "a) Spike detection (and PSTH?)"
     ]
    },
    {
     "cell_type": "markdown",
     "metadata": {},
     "source": [
      "Plot the first 5 s of data. Look for a reasonable threshold to detect spikes and add this threshold as a red dashed line to the plot. Don't forget to label the axes and to put a legend in the end."
     ]
    },
    {
     "cell_type": "code",
     "collapsed": false,
     "input": [
      "pl.plot(tbins[0:100000], Vtrace[0:100000], label = 'V trace')\n",
      "threshold = -100\n",
      "pl.plot(tbins[0:100000], np.ones(100000)*threshold, '--r', label = 'Threshold')\n",
      "pl.xlabel('Time (s)')\n",
      "pl.ylabel('Voltage (mV)')\n",
      "pl.legend()"
     ],
     "language": "python",
     "metadata": {},
     "outputs": [
      {
       "metadata": {},
       "output_type": "pyout",
       "prompt_number": 7,
       "text": [
        "<matplotlib.legend.Legend at 0x2c4a750>"
       ]
      },
      {
       "metadata": {},
       "output_type": "display_data",
       "png": "[encoded data removed]"
      }
     ],
     "prompt_number": 7
    },
    {
     "cell_type": "markdown",
     "metadata": {},
     "source": [
      "Now, find the time points where the voltage trace is crossing the threshold from below. \n",
      "\n",
      "The easiest way to do so is to first create a numpy array of `True` and `False` values by using `Vtrace < threshold`. Then, the entries of the array will be `True` whenever the voltage is below threshold. The time point of crossing the threshold is when a `False` entry is followed by a `True` entry. Use this information to determine the spike times and pass them to a numpy array called 'spikeTimes'.\n",
      "\n",
      "Check if you really got the right spike timings by plotting them in a new plot together with the voltage trace."
     ]
    },
    {
     "cell_type": "code",
     "collapsed": false,
     "input": [
      "above = (Vtrace < threshold)\n",
      "spikes = above[1:] < above[0:-1]\n",
      "spikeTimes = tbins[spikes]\n",
      "pl.plot(tbins, Vtrace, tbins[spikes], Vtrace[spikes], 'xr')\n",
      "pl.xlim([0, 1])"
     ],
     "language": "python",
     "metadata": {},
     "outputs": [
      {
       "metadata": {},
       "output_type": "pyout",
       "prompt_number": 8,
       "text": [
        "(0, 1)"
       ]
      },
      {
       "metadata": {},
       "output_type": "display_data",
       "png": "[encoded data removed]"
      }
     ],
     "prompt_number": 8
    },
    {
     "cell_type": "code",
     "collapsed": false,
     "input": [
      "interval = np.arange(0, 4, 0.2)\n",
      "psth = np.zeros([len(trigger), len(interval)-1])\n",
      "\n",
      "for i in range(len(trigger)):\n",
      "    psth[i, :] = np.histogram(spikeTimes - trigger[i], interval)[0]\n",
      "\n",
      "print shape(np.repeat(interval, 2))\n",
      "#pl.plot(np.repeat(interval, len(trigger)), psth)"
     ],
     "language": "python",
     "metadata": {},
     "outputs": [
      {
       "output_type": "stream",
       "stream": "stdout",
       "text": [
        "(40,)\n"
       ]
      }
     ],
     "prompt_number": 9
    },
    {
     "cell_type": "heading",
     "level": 3,
     "metadata": {},
     "source": [
      "b) Inter-spike-intervals and histograms"
     ]
    },
    {
     "cell_type": "markdown",
     "metadata": {},
     "source": [
      "Obtain the differences between spike times and pass them to the variable `ISI`."
     ]
    },
    {
     "cell_type": "code",
     "collapsed": false,
     "input": [
      "ISI = np.diff(spikeTimes)"
     ],
     "language": "python",
     "metadata": {},
     "outputs": [],
     "prompt_number": 10
    },
    {
     "cell_type": "markdown",
     "metadata": {},
     "source": [
      "Plot these values into a histogram."
     ]
    },
    {
     "cell_type": "code",
     "collapsed": false,
     "input": [
      "ISIhist = pl.hist(ISI, 20)"
     ],
     "language": "python",
     "metadata": {},
     "outputs": [
      {
       "metadata": {},
       "output_type": "display_data",
       "png": "[encoded data removed]"
      }
     ],
     "prompt_number": 48
    },
    {
     "cell_type": "heading",
     "level": 2,
     "metadata": {},
     "source": [
      "5. Fitting (Poisson distribution, tuning curve?)"
     ]
    },
    {
     "cell_type": "code",
     "collapsed": false,
     "input": [
      "p = np.polyfit(ISIhist[1][:-1], ISIhist[0], 3)\n",
      "import scipy.optimize as opt\n",
      "import scipy as sc\n",
      "\n",
      "def poisson(x, a):\n",
      "    y = x**a/sc.misc.factorial(a)*np.exp(-x)\n",
      "    return y\n",
      "\n",
      "print opt.curve_fit(poisson, ISIhist[1][:-1], ISIhist[0])\n",
      "# ss.lognorm.fit(ISIhist[0]) # output: shape, location, scale"
     ],
     "language": "python",
     "metadata": {},
     "outputs": [
      {
       "output_type": "stream",
       "stream": "stdout",
       "text": [
        "(array([  1.20871917e-08]), array([[ 2481.79927188]]))\n"
       ]
      }
     ],
     "prompt_number": 51
    },
    {
     "cell_type": "code",
     "collapsed": false,
     "input": [],
     "language": "python",
     "metadata": {},
     "outputs": []
    }
   ],
   "metadata": {}
  }
 ]
}