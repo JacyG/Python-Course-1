{
 "cells": [
  {
   "cell_type": "markdown",
   "metadata": {},
   "source": [
    "Simple Arhithmetic\n",
    "====================="
   ]
  },
  {
   "cell_type": "markdown",
   "metadata": {},
   "source": [
    "    3/5 + 2\n",
    "    3/float(5) + 2\n",
    "    3/5.  + 2\n",
    "    3/5  + 2\n",
    "    3**2\n",
    "    3**(2+5)\n",
    "    (3**2)+5\n",
    "    14/5//2\n",
    "    14//5/2\n",
    "    5%2\n",
    "    "
   ]
  },
  {
   "cell_type": "markdown",
   "metadata": {},
   "source": [
    "Script\n",
    "=====================\n",
    "\n",
    "Create a .py file with the following content and make sure you understand every line. Execute it."
   ]
  },
  {
   "cell_type": "markdown",
   "metadata": {},
   "source": [
    "    a = 3 -4 + 10\n",
    "    b = 5 * 6\n",
    "    c = 7.0/8.0 \n",
    "    print(\"Hello World, these are the values:\" , a , b, c)\n",
    "    print(\"Increment\" , a , \"by one : \" )\n",
    "    a =a +1\n",
    "    print(a)\n",
    "    print(\"The sum of\" , a , \"and\" , b, \" is?\")\n",
    "    a =' are '\n",
    "    b = \"you\"\n",
    "    c = \"years old. Don't you think?\"  \n",
    "    d = b +a\n",
    "    number = input(\"Input a number\") \n",
    "    print(d, number , c)"
   ]
  },
  {
   "cell_type": "markdown",
   "metadata": {},
   "source": [
    "N.B.: sometimes one finds input instead of raw input. Please be very careful using input because input is equivalent to eval(raw input(prompt)), thus implies:\n",
    "- Exceptions are raised for non-well-formed Python expressions, and, more ominously,\n",
    "- Well formed Python expressions can wreak havoc.  The user could, after all, type a string consisting of the Python expressions to delete all files from an arbitrary directory on the system."
   ]
  },
  {
   "cell_type": "markdown",
   "metadata": {},
   "source": [
    "Logical expressions\n",
    "=====================\n",
    "\n",
    "1. For the following expressions, replace a, b, c with True or False so that the expression becomes True. Use the Python interpreter. Which expressions are logically equivalent?\n",
    "\n",
    "\n",
    "    a = False\n",
    "    b = True\n",
    "    c = True\n",
    "    \n",
    "    \n",
    "    (a and b)\n",
    "    (not a and b)\n",
    "    (not (a and b))\n",
    "    (a or b)\n",
    "    (a or not b)\n",
    "    (not (a or b))\n",
    "    (not (not a or not b))\n",
    "    (a and (a or b)) # Does this really depend on b?\n",
    "    (a and b and c)\n",
    "    (a and b or c)\n",
    "    (a and (b or c))\n",
    "    ((a and b) or c)\n",
    "    \n",
    "    \n",
    "2. Write a script that asks someone to input their first name, last name and phone number.  If the user does not type at least some characters for each of these, print \"Do not leave any fields empty\" otherwise print \"Thank you\".  (Hint: if a variable is empty, its value will be \"false\".)\n",
    "\n",
    "3. Write a program that asks a user to input a number.  If the number equals \"5\", output \"My lucky number\".  If the number is larger than 10, output \"What a large number!\".  In all other cases, output \"That's not my lucky number.\"\n",
    "  \n",
    "4. Objects can have equal values or can be identical.  A test for   having equal values is ==; a test for being the same object is is.  For example define:\n",
    "\n",
    "\n",
    "    a = 5\n",
    "    b = 5.0\n",
    "    c = a\n",
    "    \n",
    "Try the following:\n",
    "\n",
    "\n",
    "    a == b\n",
    "    a is b\n",
    "    a is c"
   ]
  },
  {
   "cell_type": "markdown",
   "metadata": {},
   "source": [
    "Program flow\n",
    "=====================\n",
    "\n",
    "  1. Make a 'for' loop that sums '1' hundred times.\n",
    "  2. Make a 'for' loop that sums the numbers from 1 to 100. Change the code to sum only the odd numbers.\n",
    "  3. Make a variable word1='gateman'. Make a for loop that inverts the letter order of word1.\n",
    "     \n"
   ]
  },
  {
   "cell_type": "markdown",
   "metadata": {},
   "source": [
    "Lists\n",
    "=====================\n",
    "\n",
    "1. \"Flatten\" a list of lists. for example: [ [a,b,c],[d,e],[f] ] ? [ a,b,c,d,e,f ]\n",
    "2. Create a list that contains the names of 5 famous  persons.  Print the list. Ask the user to input one more name and append it to the list. Print the list.  Ask a user to input a number.  Print the name that has that number as index.  Add \"Mario\" and \"Luigi\" at the beginning of the list (by using \"+\").  Print the list. Remove the last name from the list. Print the list.  Ask a user to type a name.  Check whether that name is in the list: if it is then delete it from the list. Otherwise add it at the end. Create a copy of the list in reverse order.  Print the original list and the reverse list. Well done!\n",
    "3. Use the list of celebrity names from the previous exercise: Create a for loop that prints for each name \"hello ceb name, how are you?\"  where ceb name is replaced by the name of the celebrity.\n",
    "4. Please open the file list1.py and follow the instructions.  After you  are done, there is also list2.py."
   ]
  },
  {
   "cell_type": "markdown",
   "metadata": {},
   "source": [
    "Use of modules\n",
    "=====================\n",
    "\n",
    "  1. Import the basic math module (import math) to calculate the\n",
    "  following simple expressions.\n",
    "       \n",
    "     Hint: Most functions in a module can be called with\n",
    "     module.function(params), e.g. math.pow(a,b) for a**b.\n",
    "  \n",
    "\n"
   ]
  },
  {
   "cell_type": "code",
   "execution_count": 68,
   "metadata": {
    "collapsed": false
   },
   "outputs": [],
   "source": [
    "from math import sin, cos, exp, pi"
   ]
  },
  {
   "cell_type": "markdown",
   "metadata": {},
   "source": [
    "    sin(pi)\n",
    "    cos(pi/2)\n",
    "    exp(10)\n",
    "    2.42**1.32\n",
    "    8.43**2.76"
   ]
  },
  {
   "cell_type": "markdown",
   "metadata": {},
   "source": [
    "2. Use the cmath module to calculate the following complex numbers"
   ]
  },
  {
   "cell_type": "code",
   "execution_count": 58,
   "metadata": {
    "collapsed": false
   },
   "outputs": [],
   "source": [
    "import cmath"
   ]
  },
  {
   "cell_type": "markdown",
   "metadata": {},
   "source": [
    "    cmath.sqrt(-1)\n",
    "    1j**2\n",
    "    cmath.sin(2j)"
   ]
  },
  {
   "cell_type": "markdown",
   "metadata": {},
   "source": [
    "3. Import the random module and print a random number in the range 1...6.\n",
    "\n",
    "4. Import antigravity.\n",
    "     Hint: http://xkcd.com/353/"
   ]
  }
 ],
 "metadata": {
  "kernelspec": {
   "display_name": "Python 2",
   "language": "python",
   "name": "python2"
  },
  "language_info": {
   "codemirror_mode": {
    "name": "ipython",
    "version": 2
   },
   "file_extension": ".py",
   "mimetype": "text/x-python",
   "name": "python",
   "nbconvert_exporter": "python",
   "pygments_lexer": "ipython2",
   "version": "2.7.6"
  }
 },
 "nbformat": 4,
 "nbformat_minor": 0
}
