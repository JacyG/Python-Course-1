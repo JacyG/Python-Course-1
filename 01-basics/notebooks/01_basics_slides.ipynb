{
 "metadata": {
  "name": ""
 },
 "nbformat": 3,
 "nbformat_minor": 0,
 "worksheets": [
  {
   "cells": [
    {
     "cell_type": "markdown",
     "metadata": {},
     "source": [
      "crash course\n",
      "http://nbviewer.jupyter.org/gist/rpmuller/5920182http://nbviewer.jupyter.org/gist/rpmuller/5920182\n",
      "\n",
      "https://github.com/rajathkumarmp/Python-Lectures\n",
      "    \n",
      "http://swcarpentry.github.io/python-novice-inflammation/01-numpy.html    \n"
     ]
    },
    {
     "cell_type": "markdown",
     "metadata": {},
     "source": [
      "## Why python?\n",
      "\n",
      "\n",
      "\n",
      "* readable syntax"
     ]
    },
    {
     "cell_type": "markdown",
     "metadata": {},
     "source": []
    },
    {
     "cell_type": "markdown",
     "metadata": {},
     "source": [
      "## Variables"
     ]
    },
    {
     "cell_type": "code",
     "collapsed": false,
     "input": [
      "7/3"
     ],
     "language": "python",
     "metadata": {},
     "outputs": [
      {
       "metadata": {},
       "output_type": "pyout",
       "prompt_number": 1,
       "text": [
        "2.3333333333333335"
       ]
      }
     ],
     "prompt_number": 1
    },
    {
     "cell_type": "code",
     "collapsed": false,
     "input": [
      "weight_kg = 57.5\n",
      "print('weight in kilograms is now:', weight_kg)"
     ],
     "language": "python",
     "metadata": {},
     "outputs": [
      {
       "output_type": "stream",
       "stream": "stdout",
       "text": [
        "weight in kilograms is now: 57.5\n"
       ]
      }
     ],
     "prompt_number": 3
    },
    {
     "cell_type": "code",
     "collapsed": false,
     "input": [
      "weight_lb = 2.2 * weight_kg\n",
      "print('weight in kilograms:', weight_kg, 'and in pounds:', weight_lb)"
     ],
     "language": "python",
     "metadata": {},
     "outputs": [
      {
       "output_type": "stream",
       "stream": "stdout",
       "text": [
        "weight in kilograms: 57.5 and in pounds: 126.50000000000001\n"
       ]
      }
     ],
     "prompt_number": 4
    },
    {
     "cell_type": "code",
     "collapsed": false,
     "input": [
      "li = [1,2,'a']\n",
      "li2 = li"
     ],
     "language": "python",
     "metadata": {},
     "outputs": [],
     "prompt_number": 8
    },
    {
     "cell_type": "code",
     "collapsed": false,
     "input": [
      "whos"
     ],
     "language": "python",
     "metadata": {},
     "outputs": [
      {
       "output_type": "stream",
       "stream": "stdout",
       "text": [
        "Variable    Type     Data/Info\n",
        "------------------------------\n",
        "li          list     n=3\n",
        "li2         list     n=3\n",
        "weight_kg   float    57.5\n",
        "weight_lb   float    126.50000000000001\n"
       ]
      }
     ],
     "prompt_number": 9
    },
    {
     "cell_type": "code",
     "collapsed": false,
     "input": [
      "l"
     ],
     "language": "python",
     "metadata": {},
     "outputs": []
    }
   ],
   "metadata": {}
  }
 ]
}