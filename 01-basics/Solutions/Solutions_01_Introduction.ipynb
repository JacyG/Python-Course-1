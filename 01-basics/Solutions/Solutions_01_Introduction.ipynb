{
 "cells": [
  {
   "cell_type": "markdown",
   "metadata": {},
   "source": [
    "# 1. Simple Arithmetic"
   ]
  },
  {
   "cell_type": "code",
   "execution_count": 4,
   "metadata": {
    "collapsed": false
   },
   "outputs": [
    {
     "name": "stdout",
     "output_type": "stream",
     "text": [
      "2.6\n",
      "2.6\n",
      "2\n",
      "1\n"
     ]
    }
   ],
   "source": [
    "print(3/5 + 2); print(3/5 + 2)  # is floating point division\n",
    "print(5//2)  # Integer division\n",
    "print(5%2)   # 5 modulo 2"
   ]
  },
  {
   "cell_type": "markdown",
   "metadata": {},
   "source": [
    "# 2. Writing scripts:"
   ]
  },
  {
   "cell_type": "markdown",
   "metadata": {},
   "source": [
    "Create a .py file with the following content and make sure you understand\n",
    "every line. Execute it"
   ]
  },
  {
   "cell_type": "markdown",
   "metadata": {},
   "source": [
    "    a = 3 - 4 + 10\n",
    "    b = 5 * 6\n",
    "    c = 7.0/8.0 \n",
    "    print(\"Hello World, these are the values:\" , a , b, c)\n",
    "    print(\"Increment\" , a , \"by one : \" )\n",
    "    a =a +1\n",
    "    print(a)\n",
    "    print(\"The sum of\" , a , \"and\" , b, \" is?\")\n",
    "    a =' are '\n",
    "    b = \"you\"\n",
    "    c = \"years old. Don't you think?\"  \n",
    "    d = b +a\n",
    "    number = input(\"Input a number\") \n",
    "    print(d, number , c)"
   ]
  },
  {
   "cell_type": "markdown",
   "metadata": {},
   "source": [
    "N.B.: sometimes one finds input instead of raw input. Please be very careful using input because input is equivalent to eval(raw input(prompt)), thus implies:\n",
    "- Exceptions are raised for non-well-formed Python expressions, and, more ominously,\n",
    "- Well formed Python expressions can wreak havoc.  The user could, after all, type a string consisting of the Python expressions to delete all files from an arbitrary directory on the system."
   ]
  },
  {
   "cell_type": "markdown",
   "metadata": {},
   "source": [
    "# 3. Logical expressions"
   ]
  },
  {
   "cell_type": "markdown",
   "metadata": {},
   "source": [
    "## 3.1 For the following expressions,"
   ]
  },
  {
   "cell_type": "markdown",
   "metadata": {},
   "source": [
    "replace a, b, c with True or False so that the expression becomes True. Use the notebook cells to check. Which expressions are logically equivalent?\n",
    "\n",
    "\n",
    "\n",
    "    a = False\n",
    "    b = True\n",
    "    c = True\n",
    "    \n",
    "    \n",
    "    \n",
    "    a. (a and b)\n",
    "    b. (not a and b)\n",
    "    c. (not (a and b))\n",
    "    d. (a or b)\n",
    "    e. (a or not b)\n",
    "    f. (not (a or b))\n",
    "    g. (not (not a or not b))\n",
    "    h. (a and (a or b)) # Does this really depend on b?\n",
    "    i. (a and b and c)\n",
    "    j. (a and b or c)\n",
    "    k. (a and (b or c))\n",
    "    l. ((a and b) or c)"
   ]
  },
  {
   "cell_type": "markdown",
   "metadata": {},
   "source": [
    "### 3.1.1 Solutions"
   ]
  },
  {
   "cell_type": "markdown",
   "metadata": {},
   "source": [
    "a = b = 1  # a)\n",
    "\n",
    "a = 0; b = 1  # b)\n",
    "\n",
    "a = 0; b = 0  # c)\n",
    "\n",
    "a = 1; b = 0  # c)\n",
    "\n",
    "a = 0; b = 1  # c)\n",
    "\n",
    "a = 1; b = 1  # d)\n",
    "\n",
    "a = 1; b = 0  # d)\n",
    "\n",
    "a = 0; b = 1  # d)\n",
    "\n",
    "a = 1; b = 1  # e)\n",
    "\n",
    "a = 1; b = 0  # e)\n",
    "\n",
    "a = 0; b = 0  # e)\n",
    "\n",
    "a = b = 0  # f)\n",
    "\n",
    "a = b = 1  # g) is equivalent to a)\n",
    "\n",
    "a = 1; b = 1  # h) no it doesn't depend on b\n",
    "\n",
    "a = 1; b = 0  # h)\n",
    "\n",
    "a = b = c = 1  # i)\n",
    "\n",
    "a = b = 1; c = 0  # j)\n",
    "\n",
    "a = b = 1; c = 1  # j)\n",
    "\n",
    "a = b = 0; c = 1  # j)\n",
    "\n",
    "a = 0; b = 1; c = 1  # j)\n",
    "\n",
    "a = 1; b = 0; c = 1  # j)\n",
    "\n",
    "a = 1; b = c = 1  # k)\n",
    "\n",
    "a = 1; b = 0; c = 1  # k)\n",
    "\n",
    "a = 1; b = 1; c = 0  # k)\n",
    "\n",
    "a = b = 1; c = 0  # l) is equivalent to j)\n",
    "\n",
    "a = b = 1; c = 1  # l)\n",
    "\n",
    "a = b = 0; c = 1  # l)\n",
    "\n",
    "a = 0; b = 1; c = 1  # l)\n",
    "\n",
    "a = 1; b = 0; c = 1  # l)"
   ]
  },
  {
   "cell_type": "markdown",
   "metadata": {},
   "source": [
    "## 3.2 Write code that asks someone"
   ]
  },
  {
   "cell_type": "markdown",
   "metadata": {},
   "source": [
    "to input their first name, last name and phone number.  If the user does not type at least some characters for each of these, print \"Do not leave any fields empty\" otherwise print \"Thank you\".  (Hint: if a variable is empty, its value will be \"false\".)"
   ]
  },
  {
   "cell_type": "code",
   "execution_count": 7,
   "metadata": {
    "collapsed": false
   },
   "outputs": [
    {
     "name": "stdout",
     "output_type": "stream",
     "text": [
      "Please, type in your first name: 1\n",
      "Please, type in your last name: 2\n",
      "Please, type in your phone number: 3\n",
      "Thank you!\n"
     ]
    }
   ],
   "source": [
    "fname = input (\"Please, type in your first name: \")\n",
    "lname = input (\"Please, type in your last name: \")\n",
    "phone = input (\"Please, type in your phone number: \")\n",
    "\n",
    "if fname and lname and phone:\n",
    "     print(\"Thank you!\")\n",
    "else:\n",
    "     print(\"Do not leave any fields empty\")\n"
   ]
  },
  {
   "cell_type": "markdown",
   "metadata": {},
   "source": [
    "## 3.3 Write code that asks a user"
   ]
  },
  {
   "cell_type": "markdown",
   "metadata": {},
   "source": [
    "to input a number.  If the number equals \"5\", output \"My lucky number\".  If the number is larger than 10, output \"What a large number!\".  In all other cases, output \"That's not my lucky number.\""
   ]
  },
  {
   "cell_type": "code",
   "execution_count": 12,
   "metadata": {
    "collapsed": false
   },
   "outputs": [
    {
     "name": "stdout",
     "output_type": "stream",
     "text": [
      "Please enter a number: 5\n",
      "My lucky number.\n"
     ]
    }
   ],
   "source": [
    "answer = int(input(\"Please enter a number: \"))\n",
    "\n",
    "if answer == 5:\n",
    "        print(\"My lucky number.\")\n",
    "elif answer > 10:\n",
    "        print(\"What a large number!\")\n",
    "else:\n",
    "        print(\"That's not my lucky number.\")\n"
   ]
  },
  {
   "cell_type": "markdown",
   "metadata": {},
   "source": [
    "## 3.4 Objects can have equal values or"
   ]
  },
  {
   "cell_type": "markdown",
   "metadata": {},
   "source": [
    "can be identical.  A test for   having equal values is ==; a test for being the same object is is.  For example define:\n",
    "\n",
    "\n",
    "    a = 5\n",
    "    b = 5.0\n",
    "    c = a\n",
    "    \n",
    "Try the following:\n",
    "\n",
    "\n",
    "    a == b\n",
    "    a is b\n",
    "    a is c"
   ]
  },
  {
   "cell_type": "markdown",
   "metadata": {},
   "source": [
    "note that although the values are the same 'is' detects a difference in type.\n",
    "so 'is' will give true only if value and object type are the same\n"
   ]
  },
  {
   "cell_type": "markdown",
   "metadata": {},
   "source": [
    "# 4. Program flow"
   ]
  },
  {
   "cell_type": "markdown",
   "metadata": {},
   "source": [
    "## 4.1 Make a 'for' loop that sums '1' hundred times."
   ]
  },
  {
   "cell_type": "code",
   "execution_count": 14,
   "metadata": {
    "collapsed": false
   },
   "outputs": [
    {
     "name": "stdout",
     "output_type": "stream",
     "text": [
      "1 summed a 100 times: 100\n",
      "\n"
     ]
    }
   ],
   "source": [
    "x = 0\n",
    "for i in range(100):\n",
    "    x += 1\n",
    "\n",
    "print(\"1 summed a 100 times: %d\\n\" % x)"
   ]
  },
  {
   "cell_type": "markdown",
   "metadata": {},
   "source": [
    "## 4.2 Make a 'for' loop that sums"
   ]
  },
  {
   "cell_type": "markdown",
   "metadata": {},
   "source": [
    "the numbers from 1 to 100. Change the code to sum only the odd numbers."
   ]
  },
  {
   "cell_type": "code",
   "execution_count": 16,
   "metadata": {
    "collapsed": false
   },
   "outputs": [
    {
     "name": "stdout",
     "output_type": "stream",
     "text": [
      "Numbers summed up from 1 to 100: 5050\n",
      "\n"
     ]
    }
   ],
   "source": [
    "x = 0\n",
    "for i in range(1,101):\n",
    "    x += i\n",
    "\n",
    "print(\"Numbers summed up from 1 to 100: %d\\n\" % x)\n"
   ]
  },
  {
   "cell_type": "markdown",
   "metadata": {},
   "source": [
    "## 4.3 Make a variable word1='gateman'."
   ]
  },
  {
   "cell_type": "markdown",
   "metadata": {},
   "source": [
    "Make a for loop that inverts the letter order of word1."
   ]
  },
  {
   "cell_type": "code",
   "execution_count": 17,
   "metadata": {
    "collapsed": false
   },
   "outputs": [
    {
     "name": "stdout",
     "output_type": "stream",
     "text": [
      "Original word was: gateman and inverted version is: nametag\n",
      "\n"
     ]
    }
   ],
   "source": [
    "word1 = 'gateman'\n",
    "word2 = ''\n",
    "for i in range(len(word1)-1,-1,-1):\n",
    "    word2 += word1[i]\n",
    "\n",
    "print(\"Original word was: \" + word1 + \" and inverted version is: \" + word2+\"\\n\")"
   ]
  },
  {
   "cell_type": "markdown",
   "metadata": {},
   "source": [
    "# 5. Lists"
   ]
  },
  {
   "cell_type": "markdown",
   "metadata": {},
   "source": [
    "## 5.1 \"Flatten\" a list of lists."
   ]
  },
  {
   "cell_type": "markdown",
   "metadata": {},
   "source": [
    "for example: [ [a,b,c],[d,e],[f] ] ? [ a,b,c,d,e,f ]"
   ]
  },
  {
   "cell_type": "markdown",
   "metadata": {},
   "source": [
    "### 5.1.1 with a for loop"
   ]
  },
  {
   "cell_type": "code",
   "execution_count": 20,
   "metadata": {
    "collapsed": false
   },
   "outputs": [
    {
     "name": "stdout",
     "output_type": "stream",
     "text": [
      "Flattened with for loop:\n",
      "['a', 'b', 'c', 'd', 'e', 'f']\n"
     ]
    }
   ],
   "source": [
    "flat=[]\n",
    "for sublist in lst:\n",
    "  flat += sublist\n",
    "print(\"Flattened with for loop:\")\n",
    "print(flat)"
   ]
  },
  {
   "cell_type": "markdown",
   "metadata": {},
   "source": [
    "### 5.1.2 with list comprehensions:"
   ]
  },
  {
   "cell_type": "code",
   "execution_count": 22,
   "metadata": {
    "collapsed": false
   },
   "outputs": [
    {
     "name": "stdout",
     "output_type": "stream",
     "text": [
      "Flattened with list comprehension:\n",
      "['a', 'b', 'c', 'd', 'e', 'f']\n"
     ]
    }
   ],
   "source": [
    "lst = [['a','b','c'],['d','e'],['f']]\n",
    "\n",
    "flat=[item for sublist in lst for item in sublist]\n",
    "print(\"Flattened with list comprehension:\")\n",
    "print(flat)"
   ]
  },
  {
   "cell_type": "markdown",
   "metadata": {},
   "source": [
    "## 5.2 Create a list that contains the names of 5 famous  persons."
   ]
  },
  {
   "cell_type": "markdown",
   "metadata": {},
   "source": [
    "Print the list. Ask the user to input one more name and append it to the list. Print the list.  Ask a user to input a number.  Print the name that has that number as index.  Add \"Mario\" and \"Luigi\" at the beginning of the list (by using \"+\").  Print the list. Remove the last name from the list. Print the list.  Ask a user to type a name.  Check whether that name is in the list: if it is then delete it from the list. Otherwise add it at the end. Create a copy of the list in reverse order.  Print the original list and the reverse list. Well done!"
   ]
  },
  {
   "cell_type": "code",
   "execution_count": 26,
   "metadata": {
    "collapsed": false
   },
   "outputs": [
    {
     "name": "stdout",
     "output_type": "stream",
     "text": [
      "The following people are famous: ['Albert Einstein', 'Karl Marx', 'Mohandas Karamchand Gandhi', 'Alan Mathison Turing', 'Miles Dewey Davis III.']\n",
      "Type the name of another celebrity: David Gilmour\n",
      "The following people are famous: ['Albert Einstein', 'Karl Marx', 'Mohandas Karamchand Gandhi', 'Alan Mathison Turing', 'Miles Dewey Davis III.', 'David Gilmour']\n",
      "Enter a number: 2\n",
      "The celebrity number 2 is Karl Marx\n",
      "The following people are famous: ['Mario', 'Luigi', 'Albert Einstein', 'Karl Marx', 'Mohandas Karamchand Gandhi', 'Alan Mathison Turing', 'Miles Dewey Davis III.', 'David Gilmour']\n",
      "The following people are famous: ['Mario', 'Luigi', 'Albert Einstein', 'Karl Marx', 'Mohandas Karamchand Gandhi', 'Alan Mathison Turing', 'Miles Dewey Davis III.']\n",
      "Enter the name of a celebrity to be added/deleted: Karl Marx\n",
      "The following people are famous: ['Mario', 'Luigi', 'Albert Einstein', 'Mohandas Karamchand Gandhi', 'Alan Mathison Turing', 'Miles Dewey Davis III.']\n",
      "['Mario', 'Luigi', 'Albert Einstein', 'Mohandas Karamchand Gandhi', 'Alan Mathison Turing', 'Miles Dewey Davis III.']\n",
      "['Miles Dewey Davis III.', 'Alan Mathison Turing', 'Mohandas Karamchand Gandhi', 'Albert Einstein', 'Luigi', 'Mario']\n"
     ]
    }
   ],
   "source": [
    "celebs = [\"Albert Einstein\", \"Karl Marx\", \"Mohandas Karamchand Gandhi\",\n",
    "          \"Alan Mathison Turing\",\"Miles Dewey Davis III.\"]\n",
    "\n",
    "print(\"The following people are famous:\", celebs)\n",
    "\n",
    "new_celeb = input(\"Type the name of another celebrity: \")\n",
    "celebs.append(new_celeb)\n",
    "print(\"The following people are famous:\", celebs)\n",
    "\n",
    "number = int(input(\"Enter a number: \"))\n",
    "print(\"The celebrity number\", number, \"is\", celebs[number-1])\n",
    "\n",
    "celebs = [\"Mario\", \"Luigi\"] + celebs\n",
    "print(\"The following people are famous:\", celebs)\n",
    "\n",
    "del celebs[-1]\n",
    "print(\"The following people are famous:\", celebs)\n",
    "\n",
    "another_celeb = input(\"Enter the name of a celebrity to be added/deleted: \")\n",
    "if another_celeb in celebs:\n",
    "        celebs.remove(another_celeb)\n",
    "else:\n",
    "        celebs.append(another_celeb)\n",
    "\n",
    "print(\"The following people are famous:\", celebs)\n",
    "\n",
    "more_celebs = celebs[:]\n",
    "\n",
    "more_celebs.reverse()\n",
    "print(celebs)\n",
    "print(more_celebs)"
   ]
  },
  {
   "cell_type": "markdown",
   "metadata": {},
   "source": [
    "## 5.3 Use the list of celebrity names from the previous exercise:"
   ]
  },
  {
   "cell_type": "markdown",
   "metadata": {},
   "source": [
    "Create a for loop that prints for each name \"hello ceb name, how are you?\"  where ceb name is replaced by the name of the celebrity."
   ]
  },
  {
   "cell_type": "code",
   "execution_count": 27,
   "metadata": {
    "collapsed": false
   },
   "outputs": [
    {
     "name": "stdout",
     "output_type": "stream",
     "text": [
      "Hello Albert Einstein, how are you?\n",
      "Hello Karl Marx, how are you?\n",
      "Hello Mohandas Karamchand Gandhi, how are you?\n",
      "Hello Alan Mathison Turing, how are you?\n",
      "Hello Miles Dewey Davis III., how are you?\n"
     ]
    }
   ],
   "source": [
    "celebs = [\"Albert Einstein\", \"Karl Marx\", \"Mohandas Karamchand Gandhi\",\n",
    "          \"Alan Mathison Turing\",\"Miles Dewey Davis III.\"]\n",
    "\n",
    "for celeb in celebs:\n",
    "    print(\"Hello\", celeb + \", how are you?\")\n"
   ]
  },
  {
   "cell_type": "markdown",
   "metadata": {},
   "source": [
    "## 5.4 Basic list exercises"
   ]
  },
  {
   "cell_type": "code",
   "execution_count": 9,
   "metadata": {
    "collapsed": false
   },
   "outputs": [
    {
     "name": "stdout",
     "output_type": "stream",
     "text": [
      "match_ends\n",
      " OK  got: 3 expected: 3\n",
      " OK  got: 2 expected: 2\n",
      " OK  got: 1 expected: 1\n",
      "\n",
      "front_x\n",
      "    X  got: None expected: ['xaa', 'xzz', 'axx', 'bbb', 'ccc']\n",
      "    X  got: None expected: ['xaa', 'xcc', 'aaa', 'bbb', 'ccc']\n",
      "    X  got: None expected: ['xanadu', 'xyz', 'aardvark', 'apple', 'mix']\n",
      "\n",
      "sort_last\n",
      "    X  got: None expected: [(2, 1), (3, 2), (1, 3)]\n",
      "    X  got: None expected: [(3, 1), (1, 2), (2, 3)]\n",
      "    X  got: None expected: [(2, 2), (1, 3), (3, 4, 5), (1, 7)]\n"
     ]
    }
   ],
   "source": [
    "# Copyright 2010 Google Inc.\n",
    "# Licensed under the Apache License, Version 2.0\n",
    "# http://www.apache.org/licenses/LICENSE-2.0\n",
    "\n",
    "# Google's Python Class\n",
    "# http://code.google.com/edu/languages/google-python-class/\n",
    "\n",
    "# \n",
    "# Fill in the code for the functions below. main() is already set up\n",
    "# to call the functions with a few different inputs,\n",
    "# printing 'OK' when each function is correct.\n",
    "# The starter code for each function includes a 'return'\n",
    "# which is just a placeholder for your code.\n",
    "# It's ok if you do not complete all the functions, and there\n",
    "# are some additional functions to try in list2.py.\n",
    "\n",
    "# A. match_ends\n",
    "# Given a list of strings, return the count of the number of\n",
    "# strings where the string length is 2 or more and the first\n",
    "# and last chars of the string are the same.\n",
    "# Note: python does not have a ++ operator, but += works.\n",
    "def match_ends(words):\n",
    "    # +++your code here+++\n",
    "    return len([elem for elem in words if len(elem)>1 and elem[0]==elem[-1]])\n",
    "\n",
    "\n",
    "# B. front_x\n",
    "# Given a list of strings, return a list with the strings\n",
    "# in sorted order, except group all the strings that begin with 'x' first.\n",
    "# e.g. ['mix', 'xyz', 'apple', 'xanadu', 'aardvark'] yields\n",
    "# ['xanadu', 'xyz', 'aardvark', 'apple', 'mix']\n",
    "# Hint: this can be done by making 2 lists and sorting each of them\n",
    "# before combining them.\n",
    "def front_x(words):\n",
    "    # +++your code here+++\n",
    "    return\n",
    "\n",
    "\n",
    "\n",
    "# C. sort_last\n",
    "# Given a list of non-empty tuples, return a list sorted in increasing\n",
    "# order by the last element in each tuple.\n",
    "# e.g. [(1, 7), (1, 3), (3, 4, 5), (2, 2)] yields\n",
    "# [(2, 2), (1, 3), (3, 4, 5), (1, 7)]\n",
    "# Hint: use a custom key= function to extract the last element form each tuple.\n",
    "def sort_last(tuples):\n",
    "    # +++your code here+++\n",
    "    return\n",
    "\n",
    "\n",
    "# Simple provided test() function used in main() to print()\n",
    "# what each function returns vs. what it's supposed to return.\n",
    "def test(got, expected):\n",
    "    if got == expected:\n",
    "        prefix = ' OK '\n",
    "    else:\n",
    "        prefix = '    X '\n",
    "    print('%s got: %s expected: %s' % (prefix, repr(got), repr(expected)))\n",
    "\n",
    "\n",
    "# Calls the above functions with interesting inputs.\n",
    "def main():\n",
    "    print('match_ends')\n",
    "    test(match_ends(['aba', 'xyz', 'aa', 'x', 'bbb']), 3)\n",
    "    test(match_ends(['', 'x', 'xy', 'xyx', 'xx']), 2)\n",
    "    test(match_ends(['aaa', 'be', 'abc', 'hello']), 1)\n",
    "\n",
    "    print()\n",
    "    print('front_x')\n",
    "    test(front_x(['bbb', 'ccc', 'axx', 'xzz', 'xaa']),\n",
    "             ['xaa', 'xzz', 'axx', 'bbb', 'ccc'])\n",
    "    test(front_x(['ccc', 'bbb', 'aaa', 'xcc', 'xaa']),\n",
    "             ['xaa', 'xcc', 'aaa', 'bbb', 'ccc'])\n",
    "    test(front_x(['mix', 'xyz', 'apple', 'xanadu', 'aardvark']),\n",
    "             ['xanadu', 'xyz', 'aardvark', 'apple', 'mix'])\n",
    "\n",
    "             \n",
    "    print()\n",
    "    print('sort_last')\n",
    "    test(sort_last([(1, 3), (3, 2), (2, 1)]),\n",
    "             [(2, 1), (3, 2), (1, 3)])\n",
    "    test(sort_last([(2, 3), (1, 2), (3, 1)]),\n",
    "             [(3, 1), (1, 2), (2, 3)])\n",
    "    test(sort_last([(1, 7), (1, 3), (3, 4, 5), (2, 2)]),\n",
    "             [(2, 2), (1, 3), (3, 4, 5), (1, 7)])\n",
    "\n",
    "\n",
    "if __name__ == '__main__':\n",
    "    main()"
   ]
  },
  {
   "cell_type": "markdown",
   "metadata": {},
   "source": [
    "## 5.5 Additional basic list exercises"
   ]
  },
  {
   "cell_type": "code",
   "execution_count": 29,
   "metadata": {
    "collapsed": false
   },
   "outputs": [
    {
     "name": "stdout",
     "output_type": "stream",
     "text": [
      "remove_adjacent\n",
      " OK  got: [1, 2, 3] expected: [1, 2, 3]\n",
      " OK  got: [2, 3] expected: [2, 3]\n",
      " OK  got: [] expected: []\n",
      "\n",
      "linear_merge\n",
      " OK  got: ['aa', 'bb', 'cc', 'xx', 'zz'] expected: ['aa', 'bb', 'cc', 'xx', 'zz']\n",
      " OK  got: ['aa', 'bb', 'cc', 'xx', 'zz'] expected: ['aa', 'bb', 'cc', 'xx', 'zz']\n",
      " OK  got: ['aa', 'aa', 'aa', 'bb', 'bb'] expected: ['aa', 'aa', 'aa', 'bb', 'bb']\n"
     ]
    }
   ],
   "source": [
    "#!/usr/bin/python -tt\n",
    "# Copyright 2010 Google Inc.\n",
    "# Licensed under the Apache License, Version 2.0\n",
    "# http://www.apache.org/licenses/LICENSE-2.0\n",
    "\n",
    "# Google's Python Class\n",
    "# http://code.google.com/edu/languages/google-python-class/\n",
    "\n",
    "# Additional basic list exercises\n",
    "\n",
    "# D. Given a list of numbers, return a list where\n",
    "# all adjacent == elements have been reduced to a single element,\n",
    "# so [1, 2, 2, 3] returns [1, 2, 3]. You may create a new list or\n",
    "# modify the passed in list.\n",
    "def remove_adjacent(nums):\n",
    "  # +++your code here+++\n",
    "  # LAB(begin solution)\n",
    "  result = []\n",
    "  for num in nums:\n",
    "    if len(result) == 0 or num != result[-1]:\n",
    "      result.append(num)\n",
    "  return result\n",
    "  # LAB(replace solution)\n",
    "  # return\n",
    "  # LAB(end solution)\n",
    "\n",
    "\n",
    "# E. Given two lists sorted in increasing order, create and return a merged\n",
    "# list of all the elements in sorted order. You may modify the passed in lists.\n",
    "# Ideally, the solution should work in \"linear\" time, making a single\n",
    "# pass of both lists.\n",
    "def linear_merge(list1, list2):\n",
    "  # +++your code here+++\n",
    "  # LAB(begin solution)\n",
    "  result = []\n",
    "  # Look at the two lists so long as both are non-empty.\n",
    "  # Take whichever element [0] is smaller.\n",
    "  while len(list1) and len(list2):\n",
    "    if list1[0] < list2[0]:\n",
    "      result.append(list1.pop(0))\n",
    "    else:\n",
    "      result.append(list2.pop(0))\n",
    "\n",
    "  # Now tack on what's left\n",
    "  result.extend(list1)\n",
    "  result.extend(list2)\n",
    "  return result\n",
    "  # LAB(replace solution)\n",
    "  # return\n",
    "  # LAB(end solution)\n",
    "\n",
    "# Note: the solution above is kind of cute, but unforunately list.pop(0)\n",
    "# is not constant time with the standard python list implementation, so\n",
    "# the above is not strictly linear time.\n",
    "# An alternate approach uses pop(-1) to remove the endmost elements\n",
    "# from each list, building a solution list which is backwards.\n",
    "# Then use reversed() to put the result back in the correct order. That\n",
    "# solution works in linear time, but is more ugly.\n",
    "\n",
    "\n",
    "# Simple provided test() function used in main() to print()\n",
    "# what each function returns vs. what it's supposed to return.\n",
    "def test(got, expected):\n",
    "  if got == expected:\n",
    "    prefix = ' OK '\n",
    "  else:\n",
    "    prefix = '  X '\n",
    "  print('%s got: %s expected: %s' % (prefix, repr(got), repr(expected)))\n",
    "\n",
    "\n",
    "# Calls the above functions with interesting inputs.\n",
    "def main():\n",
    "  print('remove_adjacent')\n",
    "  test(remove_adjacent([1, 2, 2, 3]), [1, 2, 3])\n",
    "  test(remove_adjacent([2, 2, 3, 3, 3]), [2, 3])\n",
    "  test(remove_adjacent([]), [])\n",
    "\n",
    "  print()\n",
    "  print('linear_merge')\n",
    "  test(linear_merge(['aa', 'xx', 'zz'], ['bb', 'cc']),\n",
    "       ['aa', 'bb', 'cc', 'xx', 'zz'])\n",
    "  test(linear_merge(['aa', 'xx'], ['bb', 'cc', 'zz']),\n",
    "       ['aa', 'bb', 'cc', 'xx', 'zz'])\n",
    "  test(linear_merge(['aa', 'aa'], ['aa', 'bb', 'bb']),\n",
    "       ['aa', 'aa', 'aa', 'bb', 'bb'])\n",
    "\n",
    "\n",
    "if __name__ == '__main__':\n",
    "  main()\n"
   ]
  },
  {
   "cell_type": "markdown",
   "metadata": {},
   "source": [
    "# 6. Use of modules"
   ]
  },
  {
   "cell_type": "markdown",
   "metadata": {},
   "source": [
    "## 6.1 Import the basic math module (import math) to calculate the"
   ]
  },
  {
   "cell_type": "markdown",
   "metadata": {},
   "source": [
    "following simple expressions.\n",
    "       \n",
    "     Hint: Most functions in a module can be called with\n",
    "     module.function(params), e.g. math.pow(a,b) for a**b."
   ]
  },
  {
   "cell_type": "code",
   "execution_count": 68,
   "metadata": {
    "collapsed": false
   },
   "outputs": [],
   "source": [
    "from math import sin, cos, exp, pi"
   ]
  },
  {
   "cell_type": "markdown",
   "metadata": {},
   "source": [
    "    sin(pi)\n",
    "    cos(pi/2)\n",
    "    exp(10)\n",
    "    2.42**1.32\n",
    "    8.43**2.76"
   ]
  },
  {
   "cell_type": "markdown",
   "metadata": {},
   "source": [
    "2. Use the cmath module to calculate the following complex numbers"
   ]
  },
  {
   "cell_type": "code",
   "execution_count": 58,
   "metadata": {
    "collapsed": false
   },
   "outputs": [],
   "source": [
    "import cmath"
   ]
  },
  {
   "cell_type": "markdown",
   "metadata": {},
   "source": [
    "    cmath.sqrt(-1)\n",
    "    1j**2\n",
    "    cmath.sin(2j)"
   ]
  },
  {
   "cell_type": "markdown",
   "metadata": {},
   "source": [
    "### Import the random module and print a random number in the range 1...6."
   ]
  },
  {
   "cell_type": "code",
   "execution_count": 32,
   "metadata": {
    "collapsed": false
   },
   "outputs": [
    {
     "data": {
      "text/plain": [
       "2"
      ]
     },
     "execution_count": 32,
     "metadata": {},
     "output_type": "execute_result"
    }
   ],
   "source": [
    "import random\n",
    "random.randint(1,6)"
   ]
  },
  {
   "cell_type": "markdown",
   "metadata": {},
   "source": [
    "### Import antigravity."
   ]
  },
  {
   "cell_type": "code",
   "execution_count": 1,
   "metadata": {
    "collapsed": true
   },
   "outputs": [],
   "source": [
    "import antigravity"
   ]
  },
  {
   "cell_type": "code",
   "execution_count": null,
   "metadata": {
    "collapsed": true
   },
   "outputs": [],
   "source": []
  }
 ],
 "metadata": {
  "kernelspec": {
   "display_name": "Python 3",
   "language": "python",
   "name": "python3"
  },
  "language_info": {
   "codemirror_mode": {
    "name": "ipython",
    "version": 3
   },
   "file_extension": ".py",
   "mimetype": "text/x-python",
   "name": "python",
   "nbconvert_exporter": "python",
   "pygments_lexer": "ipython3",
   "version": "3.4.0"
  }
 },
 "nbformat": 4,
 "nbformat_minor": 0
}
