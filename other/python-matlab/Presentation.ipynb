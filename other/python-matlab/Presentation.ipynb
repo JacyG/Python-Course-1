{
 "metadata": {
  "name": "",
  "signature": "sha256:841d2f4938951c49691e214c57f29f198d295200bbc801bff2fdbc67267b5aa0"
 },
 "nbformat": 3,
 "nbformat_minor": 0,
 "worksheets": [
  {
   "cells": [
    {
     "cell_type": "heading",
     "level": 1,
     "metadata": {
      "slideshow": {
       "slide_type": "-"
      }
     },
     "source": [
      "Matlab and Python"
     ]
    },
    {
     "cell_type": "markdown",
     "metadata": {},
     "source": [
      "# Costs\n",
      "* Python is free\n",
      "* Matlab costs \n",
      "    * Student: 35 \u20ac\n",
      "    * Home: 105 \u20ac\n",
      "    * Academic use: 500 \u20ac\n",
      "    * Standard: 2000 \u20ac\n",
      "    * ++ \u20ac\u20ac\u20ac for Toolboxes (similar to modules in Python) "
     ]
    },
    {
     "cell_type": "markdown",
     "metadata": {},
     "source": [
      "# Strengths of the languages\n",
      "* Python has a broader scope of applications (complex GUI, web service program, etc.) \n",
      "* Matlab's biggest strength is its matrix engine \n",
      "* Python by itself does not have it, but has packages for that (numpy, scipy, matplotlib, etc.) "
     ]
    },
    {
     "cell_type": "markdown",
     "metadata": {},
     "source": [
      "# Type of Programming\n",
      "* Matlab and Python are **interpreted** (no compiler) \n",
      "* Matlab's and Python's variables are **dynamical** (no declaration - variable type not specified in advance) \n",
      "* **Matlab is sloppy**, e.g. adds strings and numbers (converts string), Python throws an error \n",
      "* Syntax is very similar (show pdf) "
     ]
    },
    {
     "cell_type": "code",
     "collapsed": false,
     "input": [
      "a=1+'two'"
     ],
     "language": "python",
     "metadata": {},
     "outputs": [
      {
       "ename": "TypeError",
       "evalue": "unsupported operand type(s) for +: 'int' and 'str'",
       "output_type": "pyerr",
       "traceback": [
        "\u001b[0;31m---------------------------------------------------------------------------\u001b[0m\n\u001b[0;31mTypeError\u001b[0m                                 Traceback (most recent call last)",
        "\u001b[0;32m<ipython-input-21-cd4e780720a9>\u001b[0m in \u001b[0;36m<module>\u001b[0;34m()\u001b[0m\n\u001b[0;32m----> 1\u001b[0;31m \u001b[0ma\u001b[0m\u001b[0;34m=\u001b[0m\u001b[0;36m1\u001b[0m\u001b[0;34m+\u001b[0m\u001b[0;34m'two'\u001b[0m\u001b[0;34m\u001b[0m\u001b[0m\n\u001b[0m",
        "\u001b[0;31mTypeError\u001b[0m: unsupported operand type(s) for +: 'int' and 'str'"
       ]
      }
     ],
     "prompt_number": 21
    },
    {
     "cell_type": "markdown",
     "metadata": {},
     "source": [
      "# Working with people who use Matlab \n",
      "* 3 important variable types in Matlab \n",
      "    * **Matrix**: is the equivalent to an **array** in Python. \n",
      "    * **Struct**: is the equivalent to **dict** in Python except that the keys must be strings in Matlab \n",
      "    * **Cell**: is the equivalent to **list** or **object array** in Python. Every element of the cell array can contain an arbitrary object, e.g. an array "
     ]
    },
    {
     "cell_type": "markdown",
     "metadata": {},
     "source": [
      "Array"
     ]
    },
    {
     "cell_type": "code",
     "collapsed": false,
     "input": [
      "import numpy as np\n",
      "matrix=np.random.randn(2,2)\n",
      "print matrix\n",
      "print type(matrix)"
     ],
     "language": "python",
     "metadata": {},
     "outputs": [
      {
       "output_type": "stream",
       "stream": "stdout",
       "text": [
        "[[-1.04767786 -1.45655744]\n",
        " [-0.31757569 -1.11456666]]\n",
        "<type 'numpy.ndarray'>\n"
       ]
      }
     ],
     "prompt_number": 33
    },
    {
     "cell_type": "markdown",
     "metadata": {},
     "source": [
      "Dict"
     ]
    },
    {
     "cell_type": "code",
     "collapsed": false,
     "input": [
      "dictionary ={'key1': matrix, 'key2': 'matrix2'}\n",
      "print dictionary\n",
      "print dictionary['key2']\n",
      "print type(dictionary)"
     ],
     "language": "python",
     "metadata": {},
     "outputs": [
      {
       "output_type": "stream",
       "stream": "stdout",
       "text": [
        "{'key2': 'matrix2', 'key1': array([[-1.04767786, -1.45655744],\n",
        "       [-0.31757569, -1.11456666]])}\n",
        "matrix2\n",
        "<type 'dict'>\n"
       ]
      }
     ],
     "prompt_number": 34
    },
    {
     "cell_type": "markdown",
     "metadata": {},
     "source": [
      "List"
     ]
    },
    {
     "cell_type": "code",
     "collapsed": false,
     "input": [
      "lists=list(matrix)\n",
      "lists.append('two')\n",
      "print lists\n",
      "print type(lists)"
     ],
     "language": "python",
     "metadata": {},
     "outputs": [
      {
       "output_type": "stream",
       "stream": "stdout",
       "text": [
        "[array([-1.04767786, -1.45655744]), array([-0.31757569, -1.11456666]), 'two']\n",
        "<type 'list'>\n"
       ]
      }
     ],
     "prompt_number": 43
    },
    {
     "cell_type": "markdown",
     "metadata": {},
     "source": [
      "Object array"
     ]
    },
    {
     "cell_type": "code",
     "collapsed": false,
     "input": [
      "oarray=np.zeros((2,),dtype=np.object)\n",
      "oarray[0]=matrix\n",
      "oarray[1]=dictionary\n",
      "print oarray\n",
      "print type(oarray)\n",
      "print oarray.dtype"
     ],
     "language": "python",
     "metadata": {},
     "outputs": [
      {
       "output_type": "stream",
       "stream": "stdout",
       "text": [
        "[array([[-1.04767786, -1.45655744],\n",
        "       [-0.31757569, -1.11456666]])\n",
        " {'key2': 'matrix2', 'key1': array([[-1.04767786, -1.45655744],\n",
        "       [-0.31757569, -1.11456666]])}]\n",
        "<type 'numpy.ndarray'>\n",
        "object\n"
       ]
      }
     ],
     "prompt_number": 64
    },
    {
     "cell_type": "markdown",
     "metadata": {},
     "source": [
      "# Working with stored data from Matlab \n",
      "* Default data format for saving Matlab variables is *.mat \n",
      "* Load *.mat file in Python: scipy.io.loadmat(filename) \n",
      "* Save *.mat file in Python: scipy.io.savemat(filename, variable) "
     ]
    },
    {
     "cell_type": "markdown",
     "metadata": {
      "slideshow": {
       "slide_type": "slide"
      }
     },
     "source": [
      "# Example for loading and saving a matrix from a *.mat file"
     ]
    },
    {
     "cell_type": "markdown",
     "metadata": {},
     "source": [
      "Load modules"
     ]
    },
    {
     "cell_type": "code",
     "collapsed": false,
     "input": [
      "import scipy.io as io\n",
      "import numpy as np\n",
      "import matplotlib.pylab as plt"
     ],
     "language": "python",
     "metadata": {
      "slideshow": {
       "slide_type": "slide"
      }
     },
     "outputs": [],
     "prompt_number": 2
    },
    {
     "cell_type": "markdown",
     "metadata": {},
     "source": [
      "Load the *.mat file"
     ]
    },
    {
     "cell_type": "code",
     "collapsed": false,
     "input": [
      "data = io.loadmat('data.mat')"
     ],
     "language": "python",
     "metadata": {
      "slideshow": {
       "slide_type": "slide"
      }
     },
     "outputs": [],
     "prompt_number": 3
    },
    {
     "cell_type": "code",
     "collapsed": false,
     "input": [
      "print type(data)"
     ],
     "language": "python",
     "metadata": {},
     "outputs": [
      {
       "output_type": "stream",
       "stream": "stdout",
       "text": [
        "<type 'dict'>\n"
       ]
      }
     ],
     "prompt_number": 4
    },
    {
     "cell_type": "code",
     "collapsed": false,
     "input": [
      "print data.keys()"
     ],
     "language": "python",
     "metadata": {},
     "outputs": [
      {
       "output_type": "stream",
       "stream": "stdout",
       "text": [
        "['signal', 't', '__version__', '__header__', '__globals__']\n"
       ]
      }
     ],
     "prompt_number": 5
    },
    {
     "cell_type": "markdown",
     "metadata": {},
     "source": [
      "Visualize the data"
     ]
    },
    {
     "cell_type": "code",
     "collapsed": false,
     "input": [
      "t=data['t']\n",
      "signal=data['signal']\n",
      "plt.figure()\n",
      "plt.plot(t,signal)\n",
      "plt.show()"
     ],
     "language": "python",
     "metadata": {},
     "outputs": [],
     "prompt_number": 6
    },
    {
     "cell_type": "markdown",
     "metadata": {},
     "source": [
      "Do something with the data, e.g. denoise\n"
     ]
    },
    {
     "cell_type": "code",
     "collapsed": false,
     "input": [
      "signal2=np.zeros(signal.shape)\n",
      "for i in np.arange(len(signal[0,])):\n",
      "    signal_fft=np.fft.fft(signal[:,i])\n",
      "    signal_fft=signal_fft*(np.abs(signal_fft)>=.98*np.abs(np.amax(signal_fft)))\n",
      "    signal2[:,i]=np.real(np.fft.ifft(signal_fft))"
     ],
     "language": "python",
     "metadata": {},
     "outputs": [],
     "prompt_number": 15
    },
    {
     "cell_type": "code",
     "collapsed": false,
     "input": [
      "plt.figure()\n",
      "ax1=plt.subplot(211)\n",
      "ax1.plot(t,signal)\n",
      "ax2=plt.subplot(212)\n",
      "ax2.plot(t,signal2)\n",
      "plt.show()"
     ],
     "language": "python",
     "metadata": {},
     "outputs": [],
     "prompt_number": 16
    },
    {
     "cell_type": "markdown",
     "metadata": {},
     "source": [
      "Save the processed data"
     ]
    },
    {
     "cell_type": "code",
     "collapsed": false,
     "input": [
      "io.savemat('data1_denoise.mat', {'signal':signal2,'t':t})"
     ],
     "language": "python",
     "metadata": {},
     "outputs": [],
     "prompt_number": 17
    },
    {
     "cell_type": "markdown",
     "metadata": {},
     "source": [
      "# Exercises: Load and save struct and cell variables"
     ]
    },
    {
     "cell_type": "code",
     "collapsed": false,
     "input": [],
     "language": "python",
     "metadata": {},
     "outputs": []
    }
   ],
   "metadata": {}
  }
 ]
}